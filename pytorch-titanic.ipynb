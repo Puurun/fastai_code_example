{
 "cells": [
  {
   "cell_type": "markdown",
   "id": "6a1f1a5d",
   "metadata": {
    "id": "view-in-github",
    "papermill": {
     "duration": 0.067831,
     "end_time": "2022-04-16T03:47:36.866905",
     "exception": false,
     "start_time": "2022-04-16T03:47:36.799074",
     "status": "completed"
    },
    "tags": []
   },
   "source": [
    "<a href=\"https://colab.research.google.com/github/Puurun/fastai_code_example/blob/main/Pytorch_Titanic.ipynb\" target=\"_parent\"><img src=\"https://colab.research.google.com/assets/colab-badge.svg\" alt=\"Open In Colab\"/></a>"
   ]
  },
  {
   "cell_type": "code",
   "execution_count": null,
   "id": "cb541395",
   "metadata": {
    "id": "SCI89IkiejzG",
    "outputId": "c8596ff0-5f2b-4bab-99dd-0d0b181f6795",
    "papermill": {
     "duration": 0.067578,
     "end_time": "2022-04-16T03:47:37.004434",
     "exception": false,
     "start_time": "2022-04-16T03:47:36.936856",
     "status": "completed"
    },
    "tags": []
   },
   "outputs": [],
   "source": []
  },
  {
   "cell_type": "code",
   "execution_count": 1,
   "id": "ada86612",
   "metadata": {
    "execution": {
     "iopub.execute_input": "2022-04-16T03:47:37.140647Z",
     "iopub.status.busy": "2022-04-16T03:47:37.139953Z",
     "iopub.status.idle": "2022-04-16T03:47:50.515463Z",
     "shell.execute_reply": "2022-04-16T03:47:50.514132Z"
    },
    "id": "-ltAnZP3QBy3",
    "outputId": "5be66168-fe3d-46c9-99f8-2d5496bc6f56",
    "papermill": {
     "duration": 13.448036,
     "end_time": "2022-04-16T03:47:50.518803",
     "exception": false,
     "start_time": "2022-04-16T03:47:37.070767",
     "status": "completed"
    },
    "tags": []
   },
   "outputs": [
    {
     "name": "stdout",
     "output_type": "stream",
     "text": [
      "Collecting impyute\r\n",
      "  Downloading impyute-0.0.8-py2.py3-none-any.whl (31 kB)\r\n",
      "Requirement already satisfied: scikit-learn in /opt/conda/lib/python3.7/site-packages (from impyute) (1.0.2)\r\n",
      "Requirement already satisfied: scipy in /opt/conda/lib/python3.7/site-packages (from impyute) (1.7.3)\r\n",
      "Requirement already satisfied: numpy in /opt/conda/lib/python3.7/site-packages (from impyute) (1.21.5)\r\n",
      "Requirement already satisfied: joblib>=0.11 in /opt/conda/lib/python3.7/site-packages (from scikit-learn->impyute) (1.0.1)\r\n",
      "Requirement already satisfied: threadpoolctl>=2.0.0 in /opt/conda/lib/python3.7/site-packages (from scikit-learn->impyute) (3.1.0)\r\n",
      "Installing collected packages: impyute\r\n",
      "Successfully installed impyute-0.0.8\r\n",
      "\u001b[33mWARNING: Running pip as the 'root' user can result in broken permissions and conflicting behaviour with the system package manager. It is recommended to use a virtual environment instead: https://pip.pypa.io/warnings/venv\u001b[0m\u001b[33m\r\n",
      "\u001b[0m"
     ]
    }
   ],
   "source": [
    "!pip install impyute"
   ]
  },
  {
   "cell_type": "code",
   "execution_count": 2,
   "id": "18e4360e",
   "metadata": {
    "execution": {
     "iopub.execute_input": "2022-04-16T03:47:50.662233Z",
     "iopub.status.busy": "2022-04-16T03:47:50.661898Z",
     "iopub.status.idle": "2022-04-16T03:48:16.323014Z",
     "shell.execute_reply": "2022-04-16T03:48:16.322069Z"
    },
    "id": "h0xhi6k4bUXN",
    "outputId": "4506c3ee-d33e-4811-8dae-0838b19615cc",
    "papermill": {
     "duration": 25.735197,
     "end_time": "2022-04-16T03:48:16.325732",
     "exception": false,
     "start_time": "2022-04-16T03:47:50.590535",
     "status": "completed"
    },
    "tags": []
   },
   "outputs": [
    {
     "name": "stdout",
     "output_type": "stream",
     "text": [
      "\u001b[31mERROR: pip's dependency resolver does not currently take into account all the packages that are installed. This behaviour is the source of the following dependency conflicts.\r\n",
      "tensorflow-io 0.21.0 requires tensorflow-io-gcs-filesystem==0.21.0, which is not installed.\r\n",
      "tensorflow 2.6.3 requires absl-py~=0.10, but you have absl-py 1.0.0 which is incompatible.\r\n",
      "tensorflow 2.6.3 requires numpy~=1.19.2, but you have numpy 1.21.5 which is incompatible.\r\n",
      "tensorflow 2.6.3 requires six~=1.15.0, but you have six 1.16.0 which is incompatible.\r\n",
      "tensorflow 2.6.3 requires wrapt~=1.12.1, but you have wrapt 1.14.0 which is incompatible.\r\n",
      "tensorflow-transform 1.7.0 requires pyarrow<6,>=1, but you have pyarrow 7.0.0 which is incompatible.\r\n",
      "tensorflow-transform 1.7.0 requires tensorflow!=2.0.*,!=2.1.*,!=2.2.*,!=2.3.*,!=2.4.*,!=2.5.*,!=2.6.*,!=2.7.*,<2.9,>=1.15.5, but you have tensorflow 2.6.3 which is incompatible.\r\n",
      "tensorflow-serving-api 2.8.0 requires tensorflow<3,>=2.8.0, but you have tensorflow 2.6.3 which is incompatible.\r\n",
      "rich 12.2.0 requires typing-extensions<5.0,>=4.0.0; python_version < \"3.9\", but you have typing-extensions 3.10.0.2 which is incompatible.\r\n",
      "pytorch-lightning 1.6.0 requires typing-extensions>=4.0.0, but you have typing-extensions 3.10.0.2 which is incompatible.\r\n",
      "flake8 4.0.1 requires importlib-metadata<4.3; python_version < \"3.8\", but you have importlib-metadata 4.11.3 which is incompatible.\r\n",
      "apache-beam 2.37.0 requires dill<0.3.2,>=0.3.1.1, but you have dill 0.3.4 which is incompatible.\r\n",
      "apache-beam 2.37.0 requires httplib2<0.20.0,>=0.8, but you have httplib2 0.20.4 which is incompatible.\r\n",
      "apache-beam 2.37.0 requires pyarrow<7.0.0,>=0.15.1, but you have pyarrow 7.0.0 which is incompatible.\r\n",
      "aioitertools 0.10.0 requires typing_extensions>=4.0; python_version < \"3.10\", but you have typing-extensions 3.10.0.2 which is incompatible.\r\n",
      "aiobotocore 2.2.0 requires botocore<1.24.22,>=1.24.21, but you have botocore 1.24.38 which is incompatible.\u001b[0m\u001b[31m\r\n",
      "\u001b[0m"
     ]
    }
   ],
   "source": [
    "!pip install fastai -Uqq"
   ]
  },
  {
   "cell_type": "code",
   "execution_count": 3,
   "id": "f7194d77",
   "metadata": {
    "execution": {
     "iopub.execute_input": "2022-04-16T03:48:16.465986Z",
     "iopub.status.busy": "2022-04-16T03:48:16.465638Z",
     "iopub.status.idle": "2022-04-16T03:48:16.470079Z",
     "shell.execute_reply": "2022-04-16T03:48:16.469343Z"
    },
    "id": "TNgP1SUQd-sh",
    "papermill": {
     "duration": 0.077276,
     "end_time": "2022-04-16T03:48:16.472094",
     "exception": false,
     "start_time": "2022-04-16T03:48:16.394818",
     "status": "completed"
    },
    "tags": []
   },
   "outputs": [],
   "source": [
    "gpu = False\n",
    "device = 'cuda' if gpu else 'cpu'"
   ]
  },
  {
   "cell_type": "code",
   "execution_count": 4,
   "id": "6cff0a2e",
   "metadata": {
    "execution": {
     "iopub.execute_input": "2022-04-16T03:48:16.613117Z",
     "iopub.status.busy": "2022-04-16T03:48:16.612801Z",
     "iopub.status.idle": "2022-04-16T03:48:18.087341Z",
     "shell.execute_reply": "2022-04-16T03:48:18.086382Z"
    },
    "id": "JYxhj_fHeOwx",
    "papermill": {
     "duration": 1.548106,
     "end_time": "2022-04-16T03:48:18.090275",
     "exception": false,
     "start_time": "2022-04-16T03:48:16.542169",
     "status": "completed"
    },
    "tags": []
   },
   "outputs": [],
   "source": [
    "import pandas as pd\n",
    "import numpy as np\n",
    "import seaborn as sns\n",
    "import matplotlib.pyplot as plt\n",
    "import impyute as im\n",
    "import sys\n",
    "from impyute.imputation.cs import fast_knn\n",
    "from sklearn.preprocessing import OrdinalEncoder"
   ]
  },
  {
   "cell_type": "code",
   "execution_count": 5,
   "id": "d4a60934",
   "metadata": {
    "execution": {
     "iopub.execute_input": "2022-04-16T03:48:18.230768Z",
     "iopub.status.busy": "2022-04-16T03:48:18.230435Z",
     "iopub.status.idle": "2022-04-16T03:48:18.266649Z",
     "shell.execute_reply": "2022-04-16T03:48:18.265507Z"
    },
    "id": "ZkXCpX_cedrB",
    "papermill": {
     "duration": 0.109441,
     "end_time": "2022-04-16T03:48:18.269325",
     "exception": false,
     "start_time": "2022-04-16T03:48:18.159884",
     "status": "completed"
    },
    "tags": []
   },
   "outputs": [],
   "source": [
    "df = pd.read_csv('../input/titanic/train.csv')\n",
    "df_test = pd.read_csv('../input/titanic/test.csv')"
   ]
  },
  {
   "cell_type": "code",
   "execution_count": 6,
   "id": "e9979ea5",
   "metadata": {
    "execution": {
     "iopub.execute_input": "2022-04-16T03:48:18.412976Z",
     "iopub.status.busy": "2022-04-16T03:48:18.411758Z",
     "iopub.status.idle": "2022-04-16T03:48:18.421135Z",
     "shell.execute_reply": "2022-04-16T03:48:18.420477Z"
    },
    "id": "Ebfuhs5-eu87",
    "outputId": "13da6f35-ff67-448e-a73b-0c9449bb3e2e",
    "papermill": {
     "duration": 0.081832,
     "end_time": "2022-04-16T03:48:18.423472",
     "exception": false,
     "start_time": "2022-04-16T03:48:18.341640",
     "status": "completed"
    },
    "tags": []
   },
   "outputs": [
    {
     "data": {
      "text/plain": [
       "array(['PassengerId', 'Survived', 'Pclass', 'Name', 'Sex', 'Age', 'SibSp',\n",
       "       'Parch', 'Ticket', 'Fare', 'Cabin', 'Embarked'], dtype=object)"
      ]
     },
     "execution_count": 6,
     "metadata": {},
     "output_type": "execute_result"
    }
   ],
   "source": [
    "df.columns.values"
   ]
  },
  {
   "cell_type": "code",
   "execution_count": 7,
   "id": "976fa166",
   "metadata": {
    "execution": {
     "iopub.execute_input": "2022-04-16T03:48:18.566971Z",
     "iopub.status.busy": "2022-04-16T03:48:18.566250Z",
     "iopub.status.idle": "2022-04-16T03:48:18.571792Z",
     "shell.execute_reply": "2022-04-16T03:48:18.571181Z"
    },
    "id": "RmyHWYzXe4EJ",
    "papermill": {
     "duration": 0.080765,
     "end_time": "2022-04-16T03:48:18.573776",
     "exception": false,
     "start_time": "2022-04-16T03:48:18.493011",
     "status": "completed"
    },
    "tags": []
   },
   "outputs": [],
   "source": [
    "dep_var = ['Survived']\n",
    "cat_var = ['Sex', 'Embarked']\n",
    "ord_var = ['Pclass']\n",
    "cont_var = ['Age', 'Fare']\n",
    "desc_var = ['SibSp', 'Parch']"
   ]
  },
  {
   "cell_type": "code",
   "execution_count": 8,
   "id": "7329cb6b",
   "metadata": {
    "execution": {
     "iopub.execute_input": "2022-04-16T03:48:18.721389Z",
     "iopub.status.busy": "2022-04-16T03:48:18.720269Z",
     "iopub.status.idle": "2022-04-16T03:48:18.749822Z",
     "shell.execute_reply": "2022-04-16T03:48:18.749004Z"
    },
    "id": "OOwkYfTuoCDo",
    "papermill": {
     "duration": 0.103948,
     "end_time": "2022-04-16T03:48:18.752221",
     "exception": false,
     "start_time": "2022-04-16T03:48:18.648273",
     "status": "completed"
    },
    "tags": []
   },
   "outputs": [],
   "source": [
    "combine = [df, df_test]\n",
    "for dataset in combine:\n",
    "    dataset[cat_var+ord_var] = dataset[cat_var+ord_var].astype('category')\n",
    "    dataset['Pclass'] = dataset['Pclass'].cat.set_categories([1, 2, 3], ordered=True)"
   ]
  },
  {
   "cell_type": "code",
   "execution_count": 9,
   "id": "7b67153b",
   "metadata": {
    "execution": {
     "iopub.execute_input": "2022-04-16T03:48:18.894106Z",
     "iopub.status.busy": "2022-04-16T03:48:18.893053Z",
     "iopub.status.idle": "2022-04-16T03:48:18.900667Z",
     "shell.execute_reply": "2022-04-16T03:48:18.900049Z"
    },
    "id": "reaPqaUmfn2G",
    "outputId": "d2fc0f49-98c2-4759-9c4b-287b1a22475e",
    "papermill": {
     "duration": 0.080505,
     "end_time": "2022-04-16T03:48:18.902472",
     "exception": false,
     "start_time": "2022-04-16T03:48:18.821967",
     "status": "completed"
    },
    "tags": []
   },
   "outputs": [
    {
     "data": {
      "text/plain": [
       "PassengerId       int64\n",
       "Survived          int64\n",
       "Pclass         category\n",
       "Name             object\n",
       "Sex            category\n",
       "Age             float64\n",
       "SibSp             int64\n",
       "Parch             int64\n",
       "Ticket           object\n",
       "Fare            float64\n",
       "Cabin            object\n",
       "Embarked       category\n",
       "dtype: object"
      ]
     },
     "execution_count": 9,
     "metadata": {},
     "output_type": "execute_result"
    }
   ],
   "source": [
    "df.dtypes"
   ]
  },
  {
   "cell_type": "code",
   "execution_count": 10,
   "id": "eccf1cfa",
   "metadata": {
    "execution": {
     "iopub.execute_input": "2022-04-16T03:48:19.046596Z",
     "iopub.status.busy": "2022-04-16T03:48:19.045544Z",
     "iopub.status.idle": "2022-04-16T03:48:19.061554Z",
     "shell.execute_reply": "2022-04-16T03:48:19.060715Z"
    },
    "id": "SqiH0pOrfob-",
    "outputId": "5e1d6efe-0e0a-45d5-90fb-240e5fb6daef",
    "papermill": {
     "duration": 0.091223,
     "end_time": "2022-04-16T03:48:19.063617",
     "exception": false,
     "start_time": "2022-04-16T03:48:18.972394",
     "status": "completed"
    },
    "tags": []
   },
   "outputs": [
    {
     "data": {
      "text/plain": [
       "Cabin          0.771044\n",
       "Age            0.198653\n",
       "Embarked       0.002245\n",
       "PassengerId    0.000000\n",
       "Survived       0.000000\n",
       "Pclass         0.000000\n",
       "Name           0.000000\n",
       "Sex            0.000000\n",
       "SibSp          0.000000\n",
       "Parch          0.000000\n",
       "Ticket         0.000000\n",
       "Fare           0.000000\n",
       "dtype: float64"
      ]
     },
     "execution_count": 10,
     "metadata": {},
     "output_type": "execute_result"
    }
   ],
   "source": [
    "null_check = (df.isnull().sum()/ df.isnull().count()).sort_values(ascending=False)\n",
    "null_check"
   ]
  },
  {
   "cell_type": "code",
   "execution_count": 11,
   "id": "a17f0b37",
   "metadata": {
    "execution": {
     "iopub.execute_input": "2022-04-16T03:48:19.207768Z",
     "iopub.status.busy": "2022-04-16T03:48:19.206666Z",
     "iopub.status.idle": "2022-04-16T03:48:19.236280Z",
     "shell.execute_reply": "2022-04-16T03:48:19.235554Z"
    },
    "id": "VGzez6fnf2Qn",
    "outputId": "8ec2ead3-f2c2-4fc0-bd15-0b2e2305601a",
    "papermill": {
     "duration": 0.105627,
     "end_time": "2022-04-16T03:48:19.239696",
     "exception": false,
     "start_time": "2022-04-16T03:48:19.134069",
     "status": "completed"
    },
    "tags": []
   },
   "outputs": [
    {
     "name": "stdout",
     "output_type": "stream",
     "text": [
      "<class 'pandas.core.frame.DataFrame'>\n",
      "RangeIndex: 891 entries, 0 to 890\n",
      "Data columns (total 12 columns):\n",
      " #   Column       Non-Null Count  Dtype   \n",
      "---  ------       --------------  -----   \n",
      " 0   PassengerId  891 non-null    int64   \n",
      " 1   Survived     891 non-null    int64   \n",
      " 2   Pclass       891 non-null    category\n",
      " 3   Name         891 non-null    object  \n",
      " 4   Sex          891 non-null    category\n",
      " 5   Age          714 non-null    float64 \n",
      " 6   SibSp        891 non-null    int64   \n",
      " 7   Parch        891 non-null    int64   \n",
      " 8   Ticket       891 non-null    object  \n",
      " 9   Fare         891 non-null    float64 \n",
      " 10  Cabin        204 non-null    object  \n",
      " 11  Embarked     889 non-null    category\n",
      "dtypes: category(3), float64(2), int64(4), object(3)\n",
      "memory usage: 65.8+ KB\n",
      "****************************************\n",
      "<class 'pandas.core.frame.DataFrame'>\n",
      "RangeIndex: 418 entries, 0 to 417\n",
      "Data columns (total 11 columns):\n",
      " #   Column       Non-Null Count  Dtype   \n",
      "---  ------       --------------  -----   \n",
      " 0   PassengerId  418 non-null    int64   \n",
      " 1   Pclass       418 non-null    category\n",
      " 2   Name         418 non-null    object  \n",
      " 3   Sex          418 non-null    category\n",
      " 4   Age          332 non-null    float64 \n",
      " 5   SibSp        418 non-null    int64   \n",
      " 6   Parch        418 non-null    int64   \n",
      " 7   Ticket       418 non-null    object  \n",
      " 8   Fare         417 non-null    float64 \n",
      " 9   Cabin        91 non-null     object  \n",
      " 10  Embarked     418 non-null    category\n",
      "dtypes: category(3), float64(2), int64(3), object(3)\n",
      "memory usage: 27.9+ KB\n"
     ]
    }
   ],
   "source": [
    "df.info()\n",
    "print('*'*40)\n",
    "df_test.info()"
   ]
  },
  {
   "cell_type": "code",
   "execution_count": 12,
   "id": "7bbec90e",
   "metadata": {
    "execution": {
     "iopub.execute_input": "2022-04-16T03:48:19.388725Z",
     "iopub.status.busy": "2022-04-16T03:48:19.387363Z",
     "iopub.status.idle": "2022-04-16T03:48:19.424928Z",
     "shell.execute_reply": "2022-04-16T03:48:19.424196Z"
    },
    "id": "hkD9m0ZQgsX-",
    "outputId": "2820baaf-d9fb-4648-8381-767b7a8fee64",
    "papermill": {
     "duration": 0.112737,
     "end_time": "2022-04-16T03:48:19.427164",
     "exception": false,
     "start_time": "2022-04-16T03:48:19.314427",
     "status": "completed"
    },
    "tags": []
   },
   "outputs": [
    {
     "data": {
      "text/html": [
       "<div>\n",
       "<style scoped>\n",
       "    .dataframe tbody tr th:only-of-type {\n",
       "        vertical-align: middle;\n",
       "    }\n",
       "\n",
       "    .dataframe tbody tr th {\n",
       "        vertical-align: top;\n",
       "    }\n",
       "\n",
       "    .dataframe thead th {\n",
       "        text-align: right;\n",
       "    }\n",
       "</style>\n",
       "<table border=\"1\" class=\"dataframe\">\n",
       "  <thead>\n",
       "    <tr style=\"text-align: right;\">\n",
       "      <th></th>\n",
       "      <th>PassengerId</th>\n",
       "      <th>Survived</th>\n",
       "      <th>Age</th>\n",
       "      <th>SibSp</th>\n",
       "      <th>Parch</th>\n",
       "      <th>Fare</th>\n",
       "    </tr>\n",
       "  </thead>\n",
       "  <tbody>\n",
       "    <tr>\n",
       "      <th>count</th>\n",
       "      <td>891.000000</td>\n",
       "      <td>891.000000</td>\n",
       "      <td>714.000000</td>\n",
       "      <td>891.000000</td>\n",
       "      <td>891.000000</td>\n",
       "      <td>891.000000</td>\n",
       "    </tr>\n",
       "    <tr>\n",
       "      <th>mean</th>\n",
       "      <td>446.000000</td>\n",
       "      <td>0.383838</td>\n",
       "      <td>29.699118</td>\n",
       "      <td>0.523008</td>\n",
       "      <td>0.381594</td>\n",
       "      <td>32.204208</td>\n",
       "    </tr>\n",
       "    <tr>\n",
       "      <th>std</th>\n",
       "      <td>257.353842</td>\n",
       "      <td>0.486592</td>\n",
       "      <td>14.526497</td>\n",
       "      <td>1.102743</td>\n",
       "      <td>0.806057</td>\n",
       "      <td>49.693429</td>\n",
       "    </tr>\n",
       "    <tr>\n",
       "      <th>min</th>\n",
       "      <td>1.000000</td>\n",
       "      <td>0.000000</td>\n",
       "      <td>0.420000</td>\n",
       "      <td>0.000000</td>\n",
       "      <td>0.000000</td>\n",
       "      <td>0.000000</td>\n",
       "    </tr>\n",
       "    <tr>\n",
       "      <th>25%</th>\n",
       "      <td>223.500000</td>\n",
       "      <td>0.000000</td>\n",
       "      <td>20.125000</td>\n",
       "      <td>0.000000</td>\n",
       "      <td>0.000000</td>\n",
       "      <td>7.910400</td>\n",
       "    </tr>\n",
       "    <tr>\n",
       "      <th>50%</th>\n",
       "      <td>446.000000</td>\n",
       "      <td>0.000000</td>\n",
       "      <td>28.000000</td>\n",
       "      <td>0.000000</td>\n",
       "      <td>0.000000</td>\n",
       "      <td>14.454200</td>\n",
       "    </tr>\n",
       "    <tr>\n",
       "      <th>75%</th>\n",
       "      <td>668.500000</td>\n",
       "      <td>1.000000</td>\n",
       "      <td>38.000000</td>\n",
       "      <td>1.000000</td>\n",
       "      <td>0.000000</td>\n",
       "      <td>31.000000</td>\n",
       "    </tr>\n",
       "    <tr>\n",
       "      <th>max</th>\n",
       "      <td>891.000000</td>\n",
       "      <td>1.000000</td>\n",
       "      <td>80.000000</td>\n",
       "      <td>8.000000</td>\n",
       "      <td>6.000000</td>\n",
       "      <td>512.329200</td>\n",
       "    </tr>\n",
       "  </tbody>\n",
       "</table>\n",
       "</div>"
      ],
      "text/plain": [
       "       PassengerId    Survived         Age       SibSp       Parch        Fare\n",
       "count   891.000000  891.000000  714.000000  891.000000  891.000000  891.000000\n",
       "mean    446.000000    0.383838   29.699118    0.523008    0.381594   32.204208\n",
       "std     257.353842    0.486592   14.526497    1.102743    0.806057   49.693429\n",
       "min       1.000000    0.000000    0.420000    0.000000    0.000000    0.000000\n",
       "25%     223.500000    0.000000   20.125000    0.000000    0.000000    7.910400\n",
       "50%     446.000000    0.000000   28.000000    0.000000    0.000000   14.454200\n",
       "75%     668.500000    1.000000   38.000000    1.000000    0.000000   31.000000\n",
       "max     891.000000    1.000000   80.000000    8.000000    6.000000  512.329200"
      ]
     },
     "execution_count": 12,
     "metadata": {},
     "output_type": "execute_result"
    }
   ],
   "source": [
    "df.describe()"
   ]
  },
  {
   "cell_type": "code",
   "execution_count": 13,
   "id": "4d10d7f9",
   "metadata": {
    "execution": {
     "iopub.execute_input": "2022-04-16T03:48:19.572953Z",
     "iopub.status.busy": "2022-04-16T03:48:19.572393Z",
     "iopub.status.idle": "2022-04-16T03:48:19.591663Z",
     "shell.execute_reply": "2022-04-16T03:48:19.590544Z"
    },
    "id": "laMZG81ghSrn",
    "outputId": "8a784e5c-4885-4dfd-e05e-1d65d61b9dea",
    "papermill": {
     "duration": 0.09503,
     "end_time": "2022-04-16T03:48:19.594081",
     "exception": false,
     "start_time": "2022-04-16T03:48:19.499051",
     "status": "completed"
    },
    "tags": []
   },
   "outputs": [
    {
     "data": {
      "text/html": [
       "<div>\n",
       "<style scoped>\n",
       "    .dataframe tbody tr th:only-of-type {\n",
       "        vertical-align: middle;\n",
       "    }\n",
       "\n",
       "    .dataframe tbody tr th {\n",
       "        vertical-align: top;\n",
       "    }\n",
       "\n",
       "    .dataframe thead th {\n",
       "        text-align: right;\n",
       "    }\n",
       "</style>\n",
       "<table border=\"1\" class=\"dataframe\">\n",
       "  <thead>\n",
       "    <tr style=\"text-align: right;\">\n",
       "      <th></th>\n",
       "      <th>Name</th>\n",
       "      <th>Ticket</th>\n",
       "      <th>Cabin</th>\n",
       "    </tr>\n",
       "  </thead>\n",
       "  <tbody>\n",
       "    <tr>\n",
       "      <th>count</th>\n",
       "      <td>891</td>\n",
       "      <td>891</td>\n",
       "      <td>204</td>\n",
       "    </tr>\n",
       "    <tr>\n",
       "      <th>unique</th>\n",
       "      <td>891</td>\n",
       "      <td>681</td>\n",
       "      <td>147</td>\n",
       "    </tr>\n",
       "    <tr>\n",
       "      <th>top</th>\n",
       "      <td>Braund, Mr. Owen Harris</td>\n",
       "      <td>347082</td>\n",
       "      <td>B96 B98</td>\n",
       "    </tr>\n",
       "    <tr>\n",
       "      <th>freq</th>\n",
       "      <td>1</td>\n",
       "      <td>7</td>\n",
       "      <td>4</td>\n",
       "    </tr>\n",
       "  </tbody>\n",
       "</table>\n",
       "</div>"
      ],
      "text/plain": [
       "                           Name  Ticket    Cabin\n",
       "count                       891     891      204\n",
       "unique                      891     681      147\n",
       "top     Braund, Mr. Owen Harris  347082  B96 B98\n",
       "freq                          1       7        4"
      ]
     },
     "execution_count": 13,
     "metadata": {},
     "output_type": "execute_result"
    }
   ],
   "source": [
    "df.describe(include=['O'])"
   ]
  },
  {
   "cell_type": "code",
   "execution_count": 14,
   "id": "0e9a6bc2",
   "metadata": {
    "execution": {
     "iopub.execute_input": "2022-04-16T03:48:19.741977Z",
     "iopub.status.busy": "2022-04-16T03:48:19.741670Z",
     "iopub.status.idle": "2022-04-16T03:48:19.763210Z",
     "shell.execute_reply": "2022-04-16T03:48:19.762482Z"
    },
    "id": "o-dObXW5hoG4",
    "papermill": {
     "duration": 0.098448,
     "end_time": "2022-04-16T03:48:19.765636",
     "exception": false,
     "start_time": "2022-04-16T03:48:19.667188",
     "status": "completed"
    },
    "tags": []
   },
   "outputs": [],
   "source": [
    "# analyze by pivoting features\n",
    "features_to_analyze = ['Pclass', 'SibSp', 'Parch', 'Sex']\n",
    "pivot_analyzation = {\n",
    "    feature: \n",
    "    df[[feature, 'Survived']].groupby(by=[feature], as_index=False).mean().sort_values(by=\"Survived\", ascending=False)\n",
    "    for feature in features_to_analyze\n",
    "}"
   ]
  },
  {
   "cell_type": "code",
   "execution_count": 15,
   "id": "0184c4c0",
   "metadata": {
    "execution": {
     "iopub.execute_input": "2022-04-16T03:48:19.913663Z",
     "iopub.status.busy": "2022-04-16T03:48:19.912204Z",
     "iopub.status.idle": "2022-04-16T03:48:19.922943Z",
     "shell.execute_reply": "2022-04-16T03:48:19.922271Z"
    },
    "id": "gf1yZKlknYg5",
    "outputId": "e2b7d94e-3993-42dd-8144-7b33f5cf9a14",
    "papermill": {
     "duration": 0.085656,
     "end_time": "2022-04-16T03:48:19.924863",
     "exception": false,
     "start_time": "2022-04-16T03:48:19.839207",
     "status": "completed"
    },
    "tags": []
   },
   "outputs": [
    {
     "data": {
      "text/html": [
       "<div>\n",
       "<style scoped>\n",
       "    .dataframe tbody tr th:only-of-type {\n",
       "        vertical-align: middle;\n",
       "    }\n",
       "\n",
       "    .dataframe tbody tr th {\n",
       "        vertical-align: top;\n",
       "    }\n",
       "\n",
       "    .dataframe thead th {\n",
       "        text-align: right;\n",
       "    }\n",
       "</style>\n",
       "<table border=\"1\" class=\"dataframe\">\n",
       "  <thead>\n",
       "    <tr style=\"text-align: right;\">\n",
       "      <th></th>\n",
       "      <th>Pclass</th>\n",
       "      <th>Survived</th>\n",
       "    </tr>\n",
       "  </thead>\n",
       "  <tbody>\n",
       "    <tr>\n",
       "      <th>0</th>\n",
       "      <td>1</td>\n",
       "      <td>0.629630</td>\n",
       "    </tr>\n",
       "    <tr>\n",
       "      <th>1</th>\n",
       "      <td>2</td>\n",
       "      <td>0.472826</td>\n",
       "    </tr>\n",
       "    <tr>\n",
       "      <th>2</th>\n",
       "      <td>3</td>\n",
       "      <td>0.242363</td>\n",
       "    </tr>\n",
       "  </tbody>\n",
       "</table>\n",
       "</div>"
      ],
      "text/plain": [
       "  Pclass  Survived\n",
       "0      1  0.629630\n",
       "1      2  0.472826\n",
       "2      3  0.242363"
      ]
     },
     "execution_count": 15,
     "metadata": {},
     "output_type": "execute_result"
    }
   ],
   "source": [
    "pivot_analyzation['Pclass']"
   ]
  },
  {
   "cell_type": "code",
   "execution_count": 16,
   "id": "18e8f105",
   "metadata": {
    "execution": {
     "iopub.execute_input": "2022-04-16T03:48:20.073572Z",
     "iopub.status.busy": "2022-04-16T03:48:20.073094Z",
     "iopub.status.idle": "2022-04-16T03:48:20.082168Z",
     "shell.execute_reply": "2022-04-16T03:48:20.081511Z"
    },
    "id": "tpunEm9lqUQx",
    "outputId": "ef38b2ec-6d29-4e6c-9e2f-0ff7a2e5a2b0",
    "papermill": {
     "duration": 0.085459,
     "end_time": "2022-04-16T03:48:20.084036",
     "exception": false,
     "start_time": "2022-04-16T03:48:19.998577",
     "status": "completed"
    },
    "tags": []
   },
   "outputs": [
    {
     "data": {
      "text/html": [
       "<div>\n",
       "<style scoped>\n",
       "    .dataframe tbody tr th:only-of-type {\n",
       "        vertical-align: middle;\n",
       "    }\n",
       "\n",
       "    .dataframe tbody tr th {\n",
       "        vertical-align: top;\n",
       "    }\n",
       "\n",
       "    .dataframe thead th {\n",
       "        text-align: right;\n",
       "    }\n",
       "</style>\n",
       "<table border=\"1\" class=\"dataframe\">\n",
       "  <thead>\n",
       "    <tr style=\"text-align: right;\">\n",
       "      <th></th>\n",
       "      <th>Sex</th>\n",
       "      <th>Survived</th>\n",
       "    </tr>\n",
       "  </thead>\n",
       "  <tbody>\n",
       "    <tr>\n",
       "      <th>0</th>\n",
       "      <td>female</td>\n",
       "      <td>0.742038</td>\n",
       "    </tr>\n",
       "    <tr>\n",
       "      <th>1</th>\n",
       "      <td>male</td>\n",
       "      <td>0.188908</td>\n",
       "    </tr>\n",
       "  </tbody>\n",
       "</table>\n",
       "</div>"
      ],
      "text/plain": [
       "      Sex  Survived\n",
       "0  female  0.742038\n",
       "1    male  0.188908"
      ]
     },
     "execution_count": 16,
     "metadata": {},
     "output_type": "execute_result"
    }
   ],
   "source": [
    "pivot_analyzation['Sex']"
   ]
  },
  {
   "cell_type": "code",
   "execution_count": 17,
   "id": "00a944b6",
   "metadata": {
    "execution": {
     "iopub.execute_input": "2022-04-16T03:48:20.232379Z",
     "iopub.status.busy": "2022-04-16T03:48:20.231817Z",
     "iopub.status.idle": "2022-04-16T03:48:20.241761Z",
     "shell.execute_reply": "2022-04-16T03:48:20.241115Z"
    },
    "id": "241vk8uuqVpB",
    "outputId": "bbd52dc0-574e-44ce-efd8-d98f78847f81",
    "papermill": {
     "duration": 0.085955,
     "end_time": "2022-04-16T03:48:20.243513",
     "exception": false,
     "start_time": "2022-04-16T03:48:20.157558",
     "status": "completed"
    },
    "tags": []
   },
   "outputs": [
    {
     "data": {
      "text/html": [
       "<div>\n",
       "<style scoped>\n",
       "    .dataframe tbody tr th:only-of-type {\n",
       "        vertical-align: middle;\n",
       "    }\n",
       "\n",
       "    .dataframe tbody tr th {\n",
       "        vertical-align: top;\n",
       "    }\n",
       "\n",
       "    .dataframe thead th {\n",
       "        text-align: right;\n",
       "    }\n",
       "</style>\n",
       "<table border=\"1\" class=\"dataframe\">\n",
       "  <thead>\n",
       "    <tr style=\"text-align: right;\">\n",
       "      <th></th>\n",
       "      <th>SibSp</th>\n",
       "      <th>Survived</th>\n",
       "    </tr>\n",
       "  </thead>\n",
       "  <tbody>\n",
       "    <tr>\n",
       "      <th>1</th>\n",
       "      <td>1</td>\n",
       "      <td>0.535885</td>\n",
       "    </tr>\n",
       "    <tr>\n",
       "      <th>2</th>\n",
       "      <td>2</td>\n",
       "      <td>0.464286</td>\n",
       "    </tr>\n",
       "    <tr>\n",
       "      <th>0</th>\n",
       "      <td>0</td>\n",
       "      <td>0.345395</td>\n",
       "    </tr>\n",
       "    <tr>\n",
       "      <th>3</th>\n",
       "      <td>3</td>\n",
       "      <td>0.250000</td>\n",
       "    </tr>\n",
       "    <tr>\n",
       "      <th>4</th>\n",
       "      <td>4</td>\n",
       "      <td>0.166667</td>\n",
       "    </tr>\n",
       "    <tr>\n",
       "      <th>5</th>\n",
       "      <td>5</td>\n",
       "      <td>0.000000</td>\n",
       "    </tr>\n",
       "    <tr>\n",
       "      <th>6</th>\n",
       "      <td>8</td>\n",
       "      <td>0.000000</td>\n",
       "    </tr>\n",
       "  </tbody>\n",
       "</table>\n",
       "</div>"
      ],
      "text/plain": [
       "   SibSp  Survived\n",
       "1      1  0.535885\n",
       "2      2  0.464286\n",
       "0      0  0.345395\n",
       "3      3  0.250000\n",
       "4      4  0.166667\n",
       "5      5  0.000000\n",
       "6      8  0.000000"
      ]
     },
     "execution_count": 17,
     "metadata": {},
     "output_type": "execute_result"
    }
   ],
   "source": [
    "pivot_analyzation['SibSp']"
   ]
  },
  {
   "cell_type": "code",
   "execution_count": 18,
   "id": "d8fd0959",
   "metadata": {
    "execution": {
     "iopub.execute_input": "2022-04-16T03:48:20.396328Z",
     "iopub.status.busy": "2022-04-16T03:48:20.395842Z",
     "iopub.status.idle": "2022-04-16T03:48:20.405774Z",
     "shell.execute_reply": "2022-04-16T03:48:20.404947Z"
    },
    "id": "lHpIt7GiqW2p",
    "outputId": "bc17a7cf-30b1-4028-834c-f803b569cf2e",
    "papermill": {
     "duration": 0.087242,
     "end_time": "2022-04-16T03:48:20.407740",
     "exception": false,
     "start_time": "2022-04-16T03:48:20.320498",
     "status": "completed"
    },
    "tags": []
   },
   "outputs": [
    {
     "data": {
      "text/html": [
       "<div>\n",
       "<style scoped>\n",
       "    .dataframe tbody tr th:only-of-type {\n",
       "        vertical-align: middle;\n",
       "    }\n",
       "\n",
       "    .dataframe tbody tr th {\n",
       "        vertical-align: top;\n",
       "    }\n",
       "\n",
       "    .dataframe thead th {\n",
       "        text-align: right;\n",
       "    }\n",
       "</style>\n",
       "<table border=\"1\" class=\"dataframe\">\n",
       "  <thead>\n",
       "    <tr style=\"text-align: right;\">\n",
       "      <th></th>\n",
       "      <th>Parch</th>\n",
       "      <th>Survived</th>\n",
       "    </tr>\n",
       "  </thead>\n",
       "  <tbody>\n",
       "    <tr>\n",
       "      <th>3</th>\n",
       "      <td>3</td>\n",
       "      <td>0.600000</td>\n",
       "    </tr>\n",
       "    <tr>\n",
       "      <th>1</th>\n",
       "      <td>1</td>\n",
       "      <td>0.550847</td>\n",
       "    </tr>\n",
       "    <tr>\n",
       "      <th>2</th>\n",
       "      <td>2</td>\n",
       "      <td>0.500000</td>\n",
       "    </tr>\n",
       "    <tr>\n",
       "      <th>0</th>\n",
       "      <td>0</td>\n",
       "      <td>0.343658</td>\n",
       "    </tr>\n",
       "    <tr>\n",
       "      <th>5</th>\n",
       "      <td>5</td>\n",
       "      <td>0.200000</td>\n",
       "    </tr>\n",
       "    <tr>\n",
       "      <th>4</th>\n",
       "      <td>4</td>\n",
       "      <td>0.000000</td>\n",
       "    </tr>\n",
       "    <tr>\n",
       "      <th>6</th>\n",
       "      <td>6</td>\n",
       "      <td>0.000000</td>\n",
       "    </tr>\n",
       "  </tbody>\n",
       "</table>\n",
       "</div>"
      ],
      "text/plain": [
       "   Parch  Survived\n",
       "3      3  0.600000\n",
       "1      1  0.550847\n",
       "2      2  0.500000\n",
       "0      0  0.343658\n",
       "5      5  0.200000\n",
       "4      4  0.000000\n",
       "6      6  0.000000"
      ]
     },
     "execution_count": 18,
     "metadata": {},
     "output_type": "execute_result"
    }
   ],
   "source": [
    "pivot_analyzation['Parch']"
   ]
  },
  {
   "cell_type": "code",
   "execution_count": 19,
   "id": "3cf0e7d7",
   "metadata": {
    "execution": {
     "iopub.execute_input": "2022-04-16T03:48:20.560715Z",
     "iopub.status.busy": "2022-04-16T03:48:20.560179Z",
     "iopub.status.idle": "2022-04-16T03:48:21.086541Z",
     "shell.execute_reply": "2022-04-16T03:48:21.085456Z"
    },
    "id": "Ywer2rKnqYYh",
    "outputId": "cc649324-de7c-48aa-94d5-92125991f3f5",
    "papermill": {
     "duration": 0.607502,
     "end_time": "2022-04-16T03:48:21.088784",
     "exception": false,
     "start_time": "2022-04-16T03:48:20.481282",
     "status": "completed"
    },
    "tags": []
   },
   "outputs": [
    {
     "data": {
      "text/plain": [
       "<seaborn.axisgrid.FacetGrid at 0x7efd2f19ead0>"
      ]
     },
     "execution_count": 19,
     "metadata": {},
     "output_type": "execute_result"
    },
    {
     "data": {
      "image/png": "[encoded data removed]",
      "text/plain": [
       "<Figure size 432x216 with 2 Axes>"
      ]
     },
     "metadata": {
      "needs_background": "light"
     },
     "output_type": "display_data"
    }
   ],
   "source": [
    "g = sns.FacetGrid(df, col='Survived')\n",
    "g.map(plt.hist, 'Age', bins=20)"
   ]
  },
  {
   "cell_type": "code",
   "execution_count": 20,
   "id": "fb63c1e7",
   "metadata": {
    "execution": {
     "iopub.execute_input": "2022-04-16T03:48:21.243242Z",
     "iopub.status.busy": "2022-04-16T03:48:21.242927Z",
     "iopub.status.idle": "2022-04-16T03:48:22.635099Z",
     "shell.execute_reply": "2022-04-16T03:48:22.633958Z"
    },
    "id": "lqwW73t4enEq",
    "outputId": "c860a56b-73e0-4733-86aa-bca356f6b472",
    "papermill": {
     "duration": 1.474682,
     "end_time": "2022-04-16T03:48:22.638103",
     "exception": false,
     "start_time": "2022-04-16T03:48:21.163421",
     "status": "completed"
    },
    "tags": []
   },
   "outputs": [
    {
     "data": {
      "text/plain": [
       "<seaborn.axisgrid.FacetGrid at 0x7efd2b7b54d0>"
      ]
     },
     "execution_count": 20,
     "metadata": {},
     "output_type": "execute_result"
    },
    {
     "data": {
      "image/png": "[encoded data removed]",
      "text/plain": [
       "<Figure size 432x648 with 6 Axes>"
      ]
     },
     "metadata": {
      "needs_background": "light"
     },
     "output_type": "display_data"
    }
   ],
   "source": [
    "g = sns.FacetGrid(df, col='Survived', row='Pclass')\n",
    "g.map(plt.hist, 'Age', bins=20)"
   ]
  },
  {
   "cell_type": "code",
   "execution_count": 21,
   "id": "f7f06d86",
   "metadata": {
    "execution": {
     "iopub.execute_input": "2022-04-16T03:48:22.797816Z",
     "iopub.status.busy": "2022-04-16T03:48:22.796718Z",
     "iopub.status.idle": "2022-04-16T03:48:24.138255Z",
     "shell.execute_reply": "2022-04-16T03:48:24.137197Z"
    },
    "id": "cDU94G6yfFrb",
    "outputId": "d7f9d0b7-7b1c-41e2-f705-dfd01271c23a",
    "papermill": {
     "duration": 1.423018,
     "end_time": "2022-04-16T03:48:24.140745",
     "exception": false,
     "start_time": "2022-04-16T03:48:22.717727",
     "status": "completed"
    },
    "tags": []
   },
   "outputs": [
    {
     "name": "stderr",
     "output_type": "stream",
     "text": [
      "/opt/conda/lib/python3.7/site-packages/seaborn/axisgrid.py:670: UserWarning: Using the pointplot function without specifying `order` is likely to produce an incorrect plot.\n",
      "  warnings.warn(warning)\n",
      "/opt/conda/lib/python3.7/site-packages/seaborn/axisgrid.py:675: UserWarning: Using the pointplot function without specifying `hue_order` is likely to produce an incorrect plot.\n",
      "  warnings.warn(warning)\n"
     ]
    },
    {
     "data": {
      "text/plain": [
       "<seaborn.axisgrid.FacetGrid at 0x7efd2b3d3950>"
      ]
     },
     "execution_count": 21,
     "metadata": {},
     "output_type": "execute_result"
    },
    {
     "data": {
      "image/png": "[encoded data removed]",
      "text/plain": [
       "<Figure size 286.5x648 with 3 Axes>"
      ]
     },
     "metadata": {
      "needs_background": "light"
     },
     "output_type": "display_data"
    }
   ],
   "source": [
    "g = sns.FacetGrid(df, row='Embarked')\n",
    "g.map(sns.pointplot, 'Pclass', 'Survived', 'Sex', palette='deep')\n",
    "g.add_legend()"
   ]
  },
  {
   "cell_type": "code",
   "execution_count": 22,
   "id": "8b4363c6",
   "metadata": {
    "execution": {
     "iopub.execute_input": "2022-04-16T03:48:24.301759Z",
     "iopub.status.busy": "2022-04-16T03:48:24.301468Z",
     "iopub.status.idle": "2022-04-16T03:48:25.604216Z",
     "shell.execute_reply": "2022-04-16T03:48:25.602994Z"
    },
    "id": "Ofr-Wfq5gZQs",
    "outputId": "1bd5d848-0541-4500-ee04-87d076b7b381",
    "papermill": {
     "duration": 1.386596,
     "end_time": "2022-04-16T03:48:25.606654",
     "exception": false,
     "start_time": "2022-04-16T03:48:24.220058",
     "status": "completed"
    },
    "tags": []
   },
   "outputs": [
    {
     "name": "stderr",
     "output_type": "stream",
     "text": [
      "/opt/conda/lib/python3.7/site-packages/seaborn/axisgrid.py:670: UserWarning: Using the barplot function without specifying `order` is likely to produce an incorrect plot.\n",
      "  warnings.warn(warning)\n"
     ]
    },
    {
     "data": {
      "text/plain": [
       "<seaborn.axisgrid.FacetGrid at 0x7efd2b243b50>"
      ]
     },
     "execution_count": 22,
     "metadata": {},
     "output_type": "execute_result"
    },
    {
     "data": {
      "image/png": "[encoded data removed]",
      "text/plain": [
       "<Figure size 432x648 with 6 Axes>"
      ]
     },
     "metadata": {
      "needs_background": "light"
     },
     "output_type": "display_data"
    }
   ],
   "source": [
    "g= sns.FacetGrid(df, row='Embarked', col='Survived')\n",
    "g.map(sns.barplot, 'Sex', 'Fare')"
   ]
  },
  {
   "cell_type": "code",
   "execution_count": 23,
   "id": "196f0d40",
   "metadata": {
    "execution": {
     "iopub.execute_input": "2022-04-16T03:48:25.772194Z",
     "iopub.status.busy": "2022-04-16T03:48:25.771904Z",
     "iopub.status.idle": "2022-04-16T03:48:25.777599Z",
     "shell.execute_reply": "2022-04-16T03:48:25.776572Z"
    },
    "id": "PtHFJwOThQnt",
    "papermill": {
     "duration": 0.0913,
     "end_time": "2022-04-16T03:48:25.779704",
     "exception": false,
     "start_time": "2022-04-16T03:48:25.688404",
     "status": "completed"
    },
    "tags": []
   },
   "outputs": [],
   "source": [
    "df = df.drop(['Cabin', 'Ticket'], axis=1)"
   ]
  },
  {
   "cell_type": "code",
   "execution_count": 24,
   "id": "b0038454",
   "metadata": {
    "execution": {
     "iopub.execute_input": "2022-04-16T03:48:25.945301Z",
     "iopub.status.busy": "2022-04-16T03:48:25.944925Z",
     "iopub.status.idle": "2022-04-16T03:48:25.951932Z",
     "shell.execute_reply": "2022-04-16T03:48:25.950986Z"
    },
    "id": "kly7zEN5jaI2",
    "papermill": {
     "duration": 0.092564,
     "end_time": "2022-04-16T03:48:25.954046",
     "exception": false,
     "start_time": "2022-04-16T03:48:25.861482",
     "status": "completed"
    },
    "tags": []
   },
   "outputs": [],
   "source": [
    "df_test = df_test.drop(['Cabin', 'Ticket'], axis=1)"
   ]
  },
  {
   "cell_type": "code",
   "execution_count": 25,
   "id": "d633eace",
   "metadata": {
    "execution": {
     "iopub.execute_input": "2022-04-16T03:48:26.118844Z",
     "iopub.status.busy": "2022-04-16T03:48:26.117937Z",
     "iopub.status.idle": "2022-04-16T03:48:26.123102Z",
     "shell.execute_reply": "2022-04-16T03:48:26.122406Z"
    },
    "id": "iPk_5Hk3kG5P",
    "papermill": {
     "duration": 0.089257,
     "end_time": "2022-04-16T03:48:26.125187",
     "exception": false,
     "start_time": "2022-04-16T03:48:26.035930",
     "status": "completed"
    },
    "tags": []
   },
   "outputs": [],
   "source": [
    "df_test_pi = df_test.copy()['PassengerId']"
   ]
  },
  {
   "cell_type": "code",
   "execution_count": 26,
   "id": "c5f469c1",
   "metadata": {
    "execution": {
     "iopub.execute_input": "2022-04-16T03:48:26.286901Z",
     "iopub.status.busy": "2022-04-16T03:48:26.286365Z",
     "iopub.status.idle": "2022-04-16T03:48:26.324656Z",
     "shell.execute_reply": "2022-04-16T03:48:26.323890Z"
    },
    "id": "CJvy9qNDkTt-",
    "outputId": "59da43b7-78ff-43e5-d28f-1f6e181675d3",
    "papermill": {
     "duration": 0.121703,
     "end_time": "2022-04-16T03:48:26.326513",
     "exception": false,
     "start_time": "2022-04-16T03:48:26.204810",
     "status": "completed"
    },
    "tags": []
   },
   "outputs": [
    {
     "data": {
      "text/html": [
       "<div>\n",
       "<style scoped>\n",
       "    .dataframe tbody tr th:only-of-type {\n",
       "        vertical-align: middle;\n",
       "    }\n",
       "\n",
       "    .dataframe tbody tr th {\n",
       "        vertical-align: top;\n",
       "    }\n",
       "\n",
       "    .dataframe thead th {\n",
       "        text-align: right;\n",
       "    }\n",
       "</style>\n",
       "<table border=\"1\" class=\"dataframe\">\n",
       "  <thead>\n",
       "    <tr style=\"text-align: right;\">\n",
       "      <th>Sex</th>\n",
       "      <th>female</th>\n",
       "      <th>male</th>\n",
       "    </tr>\n",
       "    <tr>\n",
       "      <th>Title</th>\n",
       "      <th></th>\n",
       "      <th></th>\n",
       "    </tr>\n",
       "  </thead>\n",
       "  <tbody>\n",
       "    <tr>\n",
       "      <th>Capt</th>\n",
       "      <td>0</td>\n",
       "      <td>1</td>\n",
       "    </tr>\n",
       "    <tr>\n",
       "      <th>Col</th>\n",
       "      <td>0</td>\n",
       "      <td>2</td>\n",
       "    </tr>\n",
       "    <tr>\n",
       "      <th>Countess</th>\n",
       "      <td>1</td>\n",
       "      <td>0</td>\n",
       "    </tr>\n",
       "    <tr>\n",
       "      <th>Don</th>\n",
       "      <td>0</td>\n",
       "      <td>1</td>\n",
       "    </tr>\n",
       "    <tr>\n",
       "      <th>Dr</th>\n",
       "      <td>1</td>\n",
       "      <td>6</td>\n",
       "    </tr>\n",
       "    <tr>\n",
       "      <th>Jonkheer</th>\n",
       "      <td>0</td>\n",
       "      <td>1</td>\n",
       "    </tr>\n",
       "    <tr>\n",
       "      <th>Lady</th>\n",
       "      <td>1</td>\n",
       "      <td>0</td>\n",
       "    </tr>\n",
       "    <tr>\n",
       "      <th>Major</th>\n",
       "      <td>0</td>\n",
       "      <td>2</td>\n",
       "    </tr>\n",
       "    <tr>\n",
       "      <th>Master</th>\n",
       "      <td>0</td>\n",
       "      <td>40</td>\n",
       "    </tr>\n",
       "    <tr>\n",
       "      <th>Miss</th>\n",
       "      <td>182</td>\n",
       "      <td>0</td>\n",
       "    </tr>\n",
       "    <tr>\n",
       "      <th>Mlle</th>\n",
       "      <td>2</td>\n",
       "      <td>0</td>\n",
       "    </tr>\n",
       "    <tr>\n",
       "      <th>Mme</th>\n",
       "      <td>1</td>\n",
       "      <td>0</td>\n",
       "    </tr>\n",
       "    <tr>\n",
       "      <th>Mr</th>\n",
       "      <td>0</td>\n",
       "      <td>517</td>\n",
       "    </tr>\n",
       "    <tr>\n",
       "      <th>Mrs</th>\n",
       "      <td>125</td>\n",
       "      <td>0</td>\n",
       "    </tr>\n",
       "    <tr>\n",
       "      <th>Ms</th>\n",
       "      <td>1</td>\n",
       "      <td>0</td>\n",
       "    </tr>\n",
       "    <tr>\n",
       "      <th>Rev</th>\n",
       "      <td>0</td>\n",
       "      <td>6</td>\n",
       "    </tr>\n",
       "    <tr>\n",
       "      <th>Sir</th>\n",
       "      <td>0</td>\n",
       "      <td>1</td>\n",
       "    </tr>\n",
       "  </tbody>\n",
       "</table>\n",
       "</div>"
      ],
      "text/plain": [
       "Sex       female  male\n",
       "Title                 \n",
       "Capt           0     1\n",
       "Col            0     2\n",
       "Countess       1     0\n",
       "Don            0     1\n",
       "Dr             1     6\n",
       "Jonkheer       0     1\n",
       "Lady           1     0\n",
       "Major          0     2\n",
       "Master         0    40\n",
       "Miss         182     0\n",
       "Mlle           2     0\n",
       "Mme            1     0\n",
       "Mr             0   517\n",
       "Mrs          125     0\n",
       "Ms             1     0\n",
       "Rev            0     6\n",
       "Sir            0     1"
      ]
     },
     "execution_count": 26,
     "metadata": {},
     "output_type": "execute_result"
    }
   ],
   "source": [
    "combine = [df, df_test]\n",
    "for dataset in combine:\n",
    "    dataset['Title'] = dataset['Name'].str.extract(' ([A-Za-z]+)\\.', expand=False)\n",
    "\n",
    "pd.crosstab(df['Title'], df['Sex'])"
   ]
  },
  {
   "cell_type": "code",
   "execution_count": 27,
   "id": "038cb031",
   "metadata": {
    "execution": {
     "iopub.execute_input": "2022-04-16T03:48:26.490055Z",
     "iopub.status.busy": "2022-04-16T03:48:26.488806Z",
     "iopub.status.idle": "2022-04-16T03:48:26.514810Z",
     "shell.execute_reply": "2022-04-16T03:48:26.514060Z"
    },
    "id": "FySONWVvlHcM",
    "outputId": "be9937f7-d3c6-432e-87e6-f28bfe27fa9a",
    "papermill": {
     "duration": 0.110074,
     "end_time": "2022-04-16T03:48:26.516787",
     "exception": false,
     "start_time": "2022-04-16T03:48:26.406713",
     "status": "completed"
    },
    "tags": []
   },
   "outputs": [
    {
     "data": {
      "text/html": [
       "<div>\n",
       "<style scoped>\n",
       "    .dataframe tbody tr th:only-of-type {\n",
       "        vertical-align: middle;\n",
       "    }\n",
       "\n",
       "    .dataframe tbody tr th {\n",
       "        vertical-align: top;\n",
       "    }\n",
       "\n",
       "    .dataframe thead th {\n",
       "        text-align: right;\n",
       "    }\n",
       "</style>\n",
       "<table border=\"1\" class=\"dataframe\">\n",
       "  <thead>\n",
       "    <tr style=\"text-align: right;\">\n",
       "      <th></th>\n",
       "      <th>Title</th>\n",
       "      <th>Survived</th>\n",
       "    </tr>\n",
       "  </thead>\n",
       "  <tbody>\n",
       "    <tr>\n",
       "      <th>0</th>\n",
       "      <td>Master</td>\n",
       "      <td>0.575000</td>\n",
       "    </tr>\n",
       "    <tr>\n",
       "      <th>1</th>\n",
       "      <td>Miss</td>\n",
       "      <td>0.702703</td>\n",
       "    </tr>\n",
       "    <tr>\n",
       "      <th>2</th>\n",
       "      <td>Mr</td>\n",
       "      <td>0.156673</td>\n",
       "    </tr>\n",
       "    <tr>\n",
       "      <th>3</th>\n",
       "      <td>Mrs</td>\n",
       "      <td>0.793651</td>\n",
       "    </tr>\n",
       "    <tr>\n",
       "      <th>4</th>\n",
       "      <td>Rare</td>\n",
       "      <td>0.347826</td>\n",
       "    </tr>\n",
       "  </tbody>\n",
       "</table>\n",
       "</div>"
      ],
      "text/plain": [
       "    Title  Survived\n",
       "0  Master  0.575000\n",
       "1    Miss  0.702703\n",
       "2      Mr  0.156673\n",
       "3     Mrs  0.793651\n",
       "4    Rare  0.347826"
      ]
     },
     "execution_count": 27,
     "metadata": {},
     "output_type": "execute_result"
    }
   ],
   "source": [
    "for dataset in combine:\n",
    "    dataset['Title'] = dataset['Title'].replace(['Capt', 'Col', 'Countess', 'Don', 'Dr', 'Jonkheer', 'Lady', 'Major', 'Rev', 'Sir'], 'Rare')\n",
    "    dataset['Title'] = dataset['Title'].replace('Mlle', 'Miss')\n",
    "    dataset['Title'] = dataset['Title'].replace('Ms', 'Miss')\n",
    "    dataset['Title'] = dataset['Title'].replace('Mme', 'Mrs')\n",
    "    \n",
    "df[['Survived', 'Title']].groupby('Title', as_index=False).mean()"
   ]
  },
  {
   "cell_type": "code",
   "execution_count": 28,
   "id": "94ad1568",
   "metadata": {
    "execution": {
     "iopub.execute_input": "2022-04-16T03:48:26.681533Z",
     "iopub.status.busy": "2022-04-16T03:48:26.680251Z",
     "iopub.status.idle": "2022-04-16T03:48:26.690883Z",
     "shell.execute_reply": "2022-04-16T03:48:26.690177Z"
    },
    "id": "0QqBj0dfmBWa",
    "outputId": "ba8ab140-5795-4bcc-a3be-694d44f3a131",
    "papermill": {
     "duration": 0.095194,
     "end_time": "2022-04-16T03:48:26.692947",
     "exception": false,
     "start_time": "2022-04-16T03:48:26.597753",
     "status": "completed"
    },
    "tags": []
   },
   "outputs": [
    {
     "data": {
      "text/plain": [
       "PassengerId    1.000000\n",
       "Survived       1.000000\n",
       "Pclass         1.000000\n",
       "Name           1.000000\n",
       "Sex            1.000000\n",
       "Age            0.801347\n",
       "SibSp          1.000000\n",
       "Parch          1.000000\n",
       "Fare           1.000000\n",
       "Embarked       0.997755\n",
       "Title          1.000000\n",
       "dtype: float64"
      ]
     },
     "execution_count": 28,
     "metadata": {},
     "output_type": "execute_result"
    }
   ],
   "source": [
    "df.notnull().mean()"
   ]
  },
  {
   "cell_type": "code",
   "execution_count": null,
   "id": "936b7e3b",
   "metadata": {
    "id": "5sWn6TR0RvOl",
    "papermill": {
     "duration": 0.083424,
     "end_time": "2022-04-16T03:48:26.857994",
     "exception": false,
     "start_time": "2022-04-16T03:48:26.774570",
     "status": "completed"
    },
    "tags": []
   },
   "outputs": [],
   "source": []
  },
  {
   "cell_type": "code",
   "execution_count": 29,
   "id": "4b71208c",
   "metadata": {
    "execution": {
     "iopub.execute_input": "2022-04-16T03:48:27.024876Z",
     "iopub.status.busy": "2022-04-16T03:48:27.024363Z",
     "iopub.status.idle": "2022-04-16T03:48:27.032152Z",
     "shell.execute_reply": "2022-04-16T03:48:27.031293Z"
    },
    "id": "LtmY8kIKRaU3",
    "papermill": {
     "duration": 0.093657,
     "end_time": "2022-04-16T03:48:27.034664",
     "exception": false,
     "start_time": "2022-04-16T03:48:26.941007",
     "status": "completed"
    },
    "tags": []
   },
   "outputs": [],
   "source": [
    "for dataset in combine:\n",
    "    dataset.drop(['Name', 'PassengerId'], axis=1, inplace=True)"
   ]
  },
  {
   "cell_type": "code",
   "execution_count": null,
   "id": "ae1d97dc",
   "metadata": {
    "id": "LEOksg5ORw_c",
    "papermill": {
     "duration": 0.080996,
     "end_time": "2022-04-16T03:48:27.197095",
     "exception": false,
     "start_time": "2022-04-16T03:48:27.116099",
     "status": "completed"
    },
    "tags": []
   },
   "outputs": [],
   "source": []
  },
  {
   "cell_type": "code",
   "execution_count": 30,
   "id": "b5be6c21",
   "metadata": {
    "execution": {
     "iopub.execute_input": "2022-04-16T03:48:27.363366Z",
     "iopub.status.busy": "2022-04-16T03:48:27.362613Z",
     "iopub.status.idle": "2022-04-16T03:48:27.375514Z",
     "shell.execute_reply": "2022-04-16T03:48:27.374465Z"
    },
    "id": "T__tYEgjRu5P",
    "papermill": {
     "duration": 0.099303,
     "end_time": "2022-04-16T03:48:27.377718",
     "exception": false,
     "start_time": "2022-04-16T03:48:27.278415",
     "status": "completed"
    },
    "tags": []
   },
   "outputs": [],
   "source": [
    "def categorify(df, df_test):\n",
    "    df = df.copy()\n",
    "    df_test = df_test.copy()\n",
    "    new = pd.concat([df, df_test])\n",
    "    sexdict = {k[1]: k[0] for k in enumerate(new['Sex'].unique())}\n",
    "    embdict = {k[1]: k[0] for k in enumerate(new['Embarked'].unique())}\n",
    "    titdict = {k[1]: k[0] for k in enumerate(new['Title'].unique())}\n",
    "    pardict = {k[1]: k[0] for k in enumerate(new['Parch'].unique())}\n",
    "    pcldict = {k[1]: k[0] for k in enumerate(new['Pclass'].astype(int).unique())}\n",
    "    sibdict = {k[1]: k[0] for k in enumerate(new['SibSp'].astype(int).unique())}\n",
    "    dicts = {'Sex': sexdict, 'Embarked': embdict, 'Title': titdict, 'Parch': pardict, 'Pclass': pcldict, 'SibSp':sibdict}\n",
    "    for key, val in dicts.items():\n",
    "        df[key] = df[key].map(val).astype(float)\n",
    "        df_test[key] = df_test[key].map(val).astype(float)\n",
    "    return df, df_test"
   ]
  },
  {
   "cell_type": "code",
   "execution_count": 31,
   "id": "3609cdc2",
   "metadata": {
    "execution": {
     "iopub.execute_input": "2022-04-16T03:48:27.542888Z",
     "iopub.status.busy": "2022-04-16T03:48:27.541934Z",
     "iopub.status.idle": "2022-04-16T03:48:27.565965Z",
     "shell.execute_reply": "2022-04-16T03:48:27.565215Z"
    },
    "id": "0rxZxlvBkFQF",
    "papermill": {
     "duration": 0.109853,
     "end_time": "2022-04-16T03:48:27.568525",
     "exception": false,
     "start_time": "2022-04-16T03:48:27.458672",
     "status": "completed"
    },
    "tags": []
   },
   "outputs": [],
   "source": [
    "combine = [df, df_test]\n",
    "df, df_test = categorify(df, df_test)"
   ]
  },
  {
   "cell_type": "code",
   "execution_count": 32,
   "id": "ff9b5cc0",
   "metadata": {
    "execution": {
     "iopub.execute_input": "2022-04-16T03:48:27.737852Z",
     "iopub.status.busy": "2022-04-16T03:48:27.737535Z",
     "iopub.status.idle": "2022-04-16T03:48:27.811355Z",
     "shell.execute_reply": "2022-04-16T03:48:27.810249Z"
    },
    "id": "Enjs4jzPWAyz",
    "papermill": {
     "duration": 0.162743,
     "end_time": "2022-04-16T03:48:27.814405",
     "exception": false,
     "start_time": "2022-04-16T03:48:27.651662",
     "status": "completed"
    },
    "tags": []
   },
   "outputs": [],
   "source": [
    "from sklearn.impute import KNNImputer"
   ]
  },
  {
   "cell_type": "code",
   "execution_count": 33,
   "id": "10113d93",
   "metadata": {
    "execution": {
     "iopub.execute_input": "2022-04-16T03:48:27.982405Z",
     "iopub.status.busy": "2022-04-16T03:48:27.981168Z",
     "iopub.status.idle": "2022-04-16T03:48:27.986037Z",
     "shell.execute_reply": "2022-04-16T03:48:27.985442Z"
    },
    "id": "5aaZNHRIWH5z",
    "papermill": {
     "duration": 0.091941,
     "end_time": "2022-04-16T03:48:27.988048",
     "exception": false,
     "start_time": "2022-04-16T03:48:27.896107",
     "status": "completed"
    },
    "tags": []
   },
   "outputs": [],
   "source": [
    "imp = KNNImputer()"
   ]
  },
  {
   "cell_type": "code",
   "execution_count": 34,
   "id": "e7960830",
   "metadata": {
    "execution": {
     "iopub.execute_input": "2022-04-16T03:48:28.153460Z",
     "iopub.status.busy": "2022-04-16T03:48:28.152881Z",
     "iopub.status.idle": "2022-04-16T03:48:28.198947Z",
     "shell.execute_reply": "2022-04-16T03:48:28.197540Z"
    },
    "id": "Tz-7xXmdRB-V",
    "papermill": {
     "duration": 0.132225,
     "end_time": "2022-04-16T03:48:28.202631",
     "exception": false,
     "start_time": "2022-04-16T03:48:28.070406",
     "status": "completed"
    },
    "tags": []
   },
   "outputs": [],
   "source": [
    "df = pd.DataFrame(imp.fit_transform(df.values), columns=df.columns)\n",
    "df_test = pd.DataFrame(imp.fit_transform(df_test.values), columns=df_test.columns)"
   ]
  },
  {
   "cell_type": "code",
   "execution_count": 35,
   "id": "d932055e",
   "metadata": {
    "execution": {
     "iopub.execute_input": "2022-04-16T03:48:28.417192Z",
     "iopub.status.busy": "2022-04-16T03:48:28.416914Z",
     "iopub.status.idle": "2022-04-16T03:48:28.423505Z",
     "shell.execute_reply": "2022-04-16T03:48:28.422856Z"
    },
    "id": "_2PeISJITa_-",
    "papermill": {
     "duration": 0.092067,
     "end_time": "2022-04-16T03:48:28.425568",
     "exception": false,
     "start_time": "2022-04-16T03:48:28.333501",
     "status": "completed"
    },
    "tags": []
   },
   "outputs": [],
   "source": [
    "df['Embarked'] = df['Embarked'].astype(int)\n",
    "df_test['Embarked'] = df_test['Embarked'].astype(int)"
   ]
  },
  {
   "cell_type": "code",
   "execution_count": 36,
   "id": "5a359c58",
   "metadata": {
    "execution": {
     "iopub.execute_input": "2022-04-16T03:48:28.591118Z",
     "iopub.status.busy": "2022-04-16T03:48:28.590575Z",
     "iopub.status.idle": "2022-04-16T03:48:28.602031Z",
     "shell.execute_reply": "2022-04-16T03:48:28.601203Z"
    },
    "id": "QrXJ6LlVSKgU",
    "outputId": "59c36e25-6db4-4b25-cca5-6f6947b544fc",
    "papermill": {
     "duration": 0.097609,
     "end_time": "2022-04-16T03:48:28.605084",
     "exception": false,
     "start_time": "2022-04-16T03:48:28.507475",
     "status": "completed"
    },
    "tags": []
   },
   "outputs": [
    {
     "name": "stdout",
     "output_type": "stream",
     "text": [
      "key: Survived, unique: 2\n",
      "key: Pclass, unique: 3\n",
      "key: Sex, unique: 2\n",
      "key: Age, unique: 144\n",
      "key: SibSp, unique: 7\n",
      "key: Parch, unique: 7\n",
      "key: Fare, unique: 248\n",
      "key: Embarked, unique: 3\n",
      "key: Title, unique: 5\n",
      "----------\n",
      "key: Pclass, unique: 3\n",
      "key: Sex, unique: 2\n",
      "key: Age, unique: 144\n",
      "key: SibSp, unique: 7\n",
      "key: Parch, unique: 7\n",
      "key: Fare, unique: 248\n",
      "key: Embarked, unique: 3\n",
      "key: Title, unique: 5\n"
     ]
    }
   ],
   "source": [
    "for i in df:\n",
    "    print(f'key: {i}, unique: {df[i].nunique()}')\n",
    "print('-'*10)\n",
    "for i in df_test:\n",
    "    print(f'key: {i}, unique: {df[i].nunique()}') "
   ]
  },
  {
   "cell_type": "code",
   "execution_count": 37,
   "id": "02578dc4",
   "metadata": {
    "execution": {
     "iopub.execute_input": "2022-04-16T03:48:28.771845Z",
     "iopub.status.busy": "2022-04-16T03:48:28.771559Z",
     "iopub.status.idle": "2022-04-16T03:48:28.796494Z",
     "shell.execute_reply": "2022-04-16T03:48:28.795580Z"
    },
    "id": "FP2J1a09lEFc",
    "outputId": "9a31fc88-afde-41b3-924e-2d43a303a33f",
    "papermill": {
     "duration": 0.110394,
     "end_time": "2022-04-16T03:48:28.798636",
     "exception": false,
     "start_time": "2022-04-16T03:48:28.688242",
     "status": "completed"
    },
    "tags": []
   },
   "outputs": [
    {
     "data": {
      "text/html": [
       "<div>\n",
       "<style scoped>\n",
       "    .dataframe tbody tr th:only-of-type {\n",
       "        vertical-align: middle;\n",
       "    }\n",
       "\n",
       "    .dataframe tbody tr th {\n",
       "        vertical-align: top;\n",
       "    }\n",
       "\n",
       "    .dataframe thead th {\n",
       "        text-align: right;\n",
       "    }\n",
       "</style>\n",
       "<table border=\"1\" class=\"dataframe\">\n",
       "  <thead>\n",
       "    <tr style=\"text-align: right;\">\n",
       "      <th></th>\n",
       "      <th>Pclass</th>\n",
       "      <th>Sex</th>\n",
       "      <th>Age</th>\n",
       "      <th>SibSp</th>\n",
       "      <th>Parch</th>\n",
       "      <th>Fare</th>\n",
       "      <th>Embarked</th>\n",
       "      <th>Title</th>\n",
       "    </tr>\n",
       "  </thead>\n",
       "  <tbody>\n",
       "    <tr>\n",
       "      <th>0</th>\n",
       "      <td>0.0</td>\n",
       "      <td>0.0</td>\n",
       "      <td>34.500</td>\n",
       "      <td>1.0</td>\n",
       "      <td>0.0</td>\n",
       "      <td>7.8292</td>\n",
       "      <td>2</td>\n",
       "      <td>0.0</td>\n",
       "    </tr>\n",
       "    <tr>\n",
       "      <th>1</th>\n",
       "      <td>0.0</td>\n",
       "      <td>1.0</td>\n",
       "      <td>47.000</td>\n",
       "      <td>0.0</td>\n",
       "      <td>0.0</td>\n",
       "      <td>7.0000</td>\n",
       "      <td>0</td>\n",
       "      <td>1.0</td>\n",
       "    </tr>\n",
       "    <tr>\n",
       "      <th>2</th>\n",
       "      <td>2.0</td>\n",
       "      <td>0.0</td>\n",
       "      <td>62.000</td>\n",
       "      <td>1.0</td>\n",
       "      <td>0.0</td>\n",
       "      <td>9.6875</td>\n",
       "      <td>2</td>\n",
       "      <td>0.0</td>\n",
       "    </tr>\n",
       "    <tr>\n",
       "      <th>3</th>\n",
       "      <td>0.0</td>\n",
       "      <td>0.0</td>\n",
       "      <td>27.000</td>\n",
       "      <td>1.0</td>\n",
       "      <td>0.0</td>\n",
       "      <td>8.6625</td>\n",
       "      <td>0</td>\n",
       "      <td>0.0</td>\n",
       "    </tr>\n",
       "    <tr>\n",
       "      <th>4</th>\n",
       "      <td>0.0</td>\n",
       "      <td>1.0</td>\n",
       "      <td>22.000</td>\n",
       "      <td>0.0</td>\n",
       "      <td>1.0</td>\n",
       "      <td>12.2875</td>\n",
       "      <td>0</td>\n",
       "      <td>1.0</td>\n",
       "    </tr>\n",
       "    <tr>\n",
       "      <th>...</th>\n",
       "      <td>...</td>\n",
       "      <td>...</td>\n",
       "      <td>...</td>\n",
       "      <td>...</td>\n",
       "      <td>...</td>\n",
       "      <td>...</td>\n",
       "      <td>...</td>\n",
       "      <td>...</td>\n",
       "    </tr>\n",
       "    <tr>\n",
       "      <th>413</th>\n",
       "      <td>0.0</td>\n",
       "      <td>0.0</td>\n",
       "      <td>32.900</td>\n",
       "      <td>1.0</td>\n",
       "      <td>0.0</td>\n",
       "      <td>8.0500</td>\n",
       "      <td>0</td>\n",
       "      <td>0.0</td>\n",
       "    </tr>\n",
       "    <tr>\n",
       "      <th>414</th>\n",
       "      <td>1.0</td>\n",
       "      <td>1.0</td>\n",
       "      <td>39.000</td>\n",
       "      <td>1.0</td>\n",
       "      <td>0.0</td>\n",
       "      <td>108.9000</td>\n",
       "      <td>1</td>\n",
       "      <td>5.0</td>\n",
       "    </tr>\n",
       "    <tr>\n",
       "      <th>415</th>\n",
       "      <td>0.0</td>\n",
       "      <td>0.0</td>\n",
       "      <td>38.500</td>\n",
       "      <td>1.0</td>\n",
       "      <td>0.0</td>\n",
       "      <td>7.2500</td>\n",
       "      <td>0</td>\n",
       "      <td>0.0</td>\n",
       "    </tr>\n",
       "    <tr>\n",
       "      <th>416</th>\n",
       "      <td>0.0</td>\n",
       "      <td>0.0</td>\n",
       "      <td>32.900</td>\n",
       "      <td>1.0</td>\n",
       "      <td>0.0</td>\n",
       "      <td>8.0500</td>\n",
       "      <td>0</td>\n",
       "      <td>0.0</td>\n",
       "    </tr>\n",
       "    <tr>\n",
       "      <th>417</th>\n",
       "      <td>0.0</td>\n",
       "      <td>0.0</td>\n",
       "      <td>9.434</td>\n",
       "      <td>0.0</td>\n",
       "      <td>1.0</td>\n",
       "      <td>22.3583</td>\n",
       "      <td>1</td>\n",
       "      <td>3.0</td>\n",
       "    </tr>\n",
       "  </tbody>\n",
       "</table>\n",
       "<p>418 rows × 8 columns</p>\n",
       "</div>"
      ],
      "text/plain": [
       "     Pclass  Sex     Age  SibSp  Parch      Fare  Embarked  Title\n",
       "0       0.0  0.0  34.500    1.0    0.0    7.8292         2    0.0\n",
       "1       0.0  1.0  47.000    0.0    0.0    7.0000         0    1.0\n",
       "2       2.0  0.0  62.000    1.0    0.0    9.6875         2    0.0\n",
       "3       0.0  0.0  27.000    1.0    0.0    8.6625         0    0.0\n",
       "4       0.0  1.0  22.000    0.0    1.0   12.2875         0    1.0\n",
       "..      ...  ...     ...    ...    ...       ...       ...    ...\n",
       "413     0.0  0.0  32.900    1.0    0.0    8.0500         0    0.0\n",
       "414     1.0  1.0  39.000    1.0    0.0  108.9000         1    5.0\n",
       "415     0.0  0.0  38.500    1.0    0.0    7.2500         0    0.0\n",
       "416     0.0  0.0  32.900    1.0    0.0    8.0500         0    0.0\n",
       "417     0.0  0.0   9.434    0.0    1.0   22.3583         1    3.0\n",
       "\n",
       "[418 rows x 8 columns]"
      ]
     },
     "execution_count": 37,
     "metadata": {},
     "output_type": "execute_result"
    }
   ],
   "source": [
    "df_test"
   ]
  },
  {
   "cell_type": "code",
   "execution_count": null,
   "id": "b0d05e95",
   "metadata": {
    "id": "IbP9tiwPd8O0",
    "papermill": {
     "duration": 0.087314,
     "end_time": "2022-04-16T03:48:28.971233",
     "exception": false,
     "start_time": "2022-04-16T03:48:28.883919",
     "status": "completed"
    },
    "tags": []
   },
   "outputs": [],
   "source": [
    "\n"
   ]
  },
  {
   "cell_type": "code",
   "execution_count": 38,
   "id": "cd2a3d47",
   "metadata": {
    "execution": {
     "iopub.execute_input": "2022-04-16T03:48:29.167060Z",
     "iopub.status.busy": "2022-04-16T03:48:29.165846Z",
     "iopub.status.idle": "2022-04-16T03:48:30.331629Z",
     "shell.execute_reply": "2022-04-16T03:48:30.330877Z"
    },
    "id": "yQY-eDmpvmB4",
    "papermill": {
     "duration": 1.257718,
     "end_time": "2022-04-16T03:48:30.334549",
     "exception": false,
     "start_time": "2022-04-16T03:48:29.076831",
     "status": "completed"
    },
    "tags": []
   },
   "outputs": [],
   "source": [
    "from torch.nn import *\n",
    "from torch import nn"
   ]
  },
  {
   "cell_type": "code",
   "execution_count": 39,
   "id": "42c29471",
   "metadata": {
    "execution": {
     "iopub.execute_input": "2022-04-16T03:48:30.505794Z",
     "iopub.status.busy": "2022-04-16T03:48:30.504641Z",
     "iopub.status.idle": "2022-04-16T03:48:30.511029Z",
     "shell.execute_reply": "2022-04-16T03:48:30.509726Z"
    },
    "id": "sCqvCatNdRwA",
    "papermill": {
     "duration": 0.093511,
     "end_time": "2022-04-16T03:48:30.513443",
     "exception": false,
     "start_time": "2022-04-16T03:48:30.419932",
     "status": "completed"
    },
    "tags": []
   },
   "outputs": [],
   "source": [
    "from torch.utils.data import Dataset\n",
    "from torch.utils.data import DataLoader\n",
    "import torch"
   ]
  },
  {
   "cell_type": "code",
   "execution_count": 40,
   "id": "0b69d063",
   "metadata": {
    "execution": {
     "iopub.execute_input": "2022-04-16T03:48:30.684347Z",
     "iopub.status.busy": "2022-04-16T03:48:30.684021Z",
     "iopub.status.idle": "2022-04-16T03:48:30.694578Z",
     "shell.execute_reply": "2022-04-16T03:48:30.693996Z"
    },
    "id": "iVvb5NIslsVH",
    "outputId": "762ee406-fe9c-4e50-ead3-2f1e8a3c2161",
    "papermill": {
     "duration": 0.09909,
     "end_time": "2022-04-16T03:48:30.697326",
     "exception": false,
     "start_time": "2022-04-16T03:48:30.598236",
     "status": "completed"
    },
    "tags": []
   },
   "outputs": [
    {
     "data": {
      "text/plain": [
       "3"
      ]
     },
     "execution_count": 40,
     "metadata": {},
     "output_type": "execute_result"
    }
   ],
   "source": [
    "cat = df[['Pclass', 'Sex', 'SibSp', 'Parch', 'Embarked', 'Title']]\n",
    "cont = df[['Age', 'Fare']]\n",
    "cat.join(cont).iloc[0]\n",
    "dv = df['Survived']\n",
    "dv.iloc[0]\n",
    "df.index[3]"
   ]
  },
  {
   "cell_type": "code",
   "execution_count": 41,
   "id": "fa6e17d7",
   "metadata": {
    "execution": {
     "iopub.execute_input": "2022-04-16T03:48:30.874015Z",
     "iopub.status.busy": "2022-04-16T03:48:30.873694Z",
     "iopub.status.idle": "2022-04-16T03:48:30.880544Z",
     "shell.execute_reply": "2022-04-16T03:48:30.879344Z"
    },
    "id": "r5iKlPmmnUUz",
    "papermill": {
     "duration": 0.097857,
     "end_time": "2022-04-16T03:48:30.882759",
     "exception": false,
     "start_time": "2022-04-16T03:48:30.784902",
     "status": "completed"
    },
    "tags": []
   },
   "outputs": [],
   "source": [
    "def randomSplit(df, valid_ratio=0.2, random_state=None):\n",
    "    split_idx = int(len(df.index)*(valid_ratio))\n",
    "    shuffled_df = df.sample(frac=1, random_state=random_state)\n",
    "    return shuffled_df.iloc[split_idx:], shuffled_df[:split_idx]"
   ]
  },
  {
   "cell_type": "code",
   "execution_count": 42,
   "id": "4de0e2a9",
   "metadata": {
    "execution": {
     "iopub.execute_input": "2022-04-16T03:48:31.062977Z",
     "iopub.status.busy": "2022-04-16T03:48:31.062539Z",
     "iopub.status.idle": "2022-04-16T03:48:31.074070Z",
     "shell.execute_reply": "2022-04-16T03:48:31.072535Z"
    },
    "id": "1lSV1oU8bwAM",
    "papermill": {
     "duration": 0.105762,
     "end_time": "2022-04-16T03:48:31.076780",
     "exception": false,
     "start_time": "2022-04-16T03:48:30.971018",
     "status": "completed"
    },
    "tags": []
   },
   "outputs": [],
   "source": [
    "class TitanicDataset(Dataset):\n",
    "    def __init__(self, df, is_test=False):\n",
    "        self.is_test = is_test\n",
    "        self.df = df.copy()\n",
    "        self.cat = self.df[['Pclass', 'Sex', 'SibSp', 'Parch', 'Embarked', 'Title']].astype(int)\n",
    "        self.cont = self.df[['Age', 'Fare']]\n",
    "        self.res_df = self.cat.join(self.cont)\n",
    "        if not(is_test):\n",
    "            self.dep_var = self.df['Survived'].astype(int)\n",
    "        self.columns = self.res_df.columns\n",
    "    def __len__(self):\n",
    "        return len(self.df)\n",
    "    def __getitem__(self, idx):\n",
    "        if self.is_test:\n",
    "            return self.res_df.iloc[idx].values\n",
    "        else:\n",
    "            return self.res_df.iloc[idx].values, self.dep_var.iloc[idx]"
   ]
  },
  {
   "cell_type": "code",
   "execution_count": 43,
   "id": "0cd8e51f",
   "metadata": {
    "execution": {
     "iopub.execute_input": "2022-04-16T03:48:31.245389Z",
     "iopub.status.busy": "2022-04-16T03:48:31.244813Z",
     "iopub.status.idle": "2022-04-16T03:48:31.251708Z",
     "shell.execute_reply": "2022-04-16T03:48:31.251109Z"
    },
    "id": "p1ihRqhs2kz-",
    "papermill": {
     "duration": 0.093036,
     "end_time": "2022-04-16T03:48:31.253769",
     "exception": false,
     "start_time": "2022-04-16T03:48:31.160733",
     "status": "completed"
    },
    "tags": []
   },
   "outputs": [],
   "source": [
    "train_df, valid_df = randomSplit(df)"
   ]
  },
  {
   "cell_type": "code",
   "execution_count": 44,
   "id": "a1f71541",
   "metadata": {
    "execution": {
     "iopub.execute_input": "2022-04-16T03:48:31.421318Z",
     "iopub.status.busy": "2022-04-16T03:48:31.420790Z",
     "iopub.status.idle": "2022-04-16T03:48:31.433636Z",
     "shell.execute_reply": "2022-04-16T03:48:31.432993Z"
    },
    "id": "XTcoFKendkpz",
    "papermill": {
     "duration": 0.100285,
     "end_time": "2022-04-16T03:48:31.436162",
     "exception": false,
     "start_time": "2022-04-16T03:48:31.335877",
     "status": "completed"
    },
    "tags": []
   },
   "outputs": [],
   "source": [
    "td = TitanicDataset(train_df)\n",
    "valid_td = TitanicDataset(valid_df)\n",
    "test_ds = TitanicDataset(df_test, is_test=True)\n",
    "in_columns = td.columns\n",
    "cat_columns = td.cat.columns\n",
    "cat_n = len(td.cat.columns)\n",
    "cont_n = len(td.cont.columns)"
   ]
  },
  {
   "cell_type": "code",
   "execution_count": 45,
   "id": "100643ac",
   "metadata": {
    "execution": {
     "iopub.execute_input": "2022-04-16T03:48:31.609897Z",
     "iopub.status.busy": "2022-04-16T03:48:31.609386Z",
     "iopub.status.idle": "2022-04-16T03:48:31.613870Z",
     "shell.execute_reply": "2022-04-16T03:48:31.613119Z"
    },
    "id": "IF6pEYPndx2Q",
    "papermill": {
     "duration": 0.092109,
     "end_time": "2022-04-16T03:48:31.616092",
     "exception": false,
     "start_time": "2022-04-16T03:48:31.523983",
     "status": "completed"
    },
    "tags": []
   },
   "outputs": [],
   "source": [
    "dl = DataLoader(td, batch_size=64)\n",
    "valid_dl = DataLoader(td, batch_size=64)"
   ]
  },
  {
   "cell_type": "code",
   "execution_count": 46,
   "id": "114afc38",
   "metadata": {
    "execution": {
     "iopub.execute_input": "2022-04-16T03:48:31.790897Z",
     "iopub.status.busy": "2022-04-16T03:48:31.790591Z",
     "iopub.status.idle": "2022-04-16T03:48:31.823922Z",
     "shell.execute_reply": "2022-04-16T03:48:31.823166Z"
    },
    "id": "C-Z5pgpf2085",
    "papermill": {
     "duration": 0.12176,
     "end_time": "2022-04-16T03:48:31.826574",
     "exception": false,
     "start_time": "2022-04-16T03:48:31.704814",
     "status": "completed"
    },
    "tags": []
   },
   "outputs": [],
   "source": [
    "iterdl = iter(dl)"
   ]
  },
  {
   "cell_type": "code",
   "execution_count": null,
   "id": "7c9d7818",
   "metadata": {
    "id": "_Somo8hF269x",
    "papermill": {
     "duration": 0.089043,
     "end_time": "2022-04-16T03:48:32.001158",
     "exception": false,
     "start_time": "2022-04-16T03:48:31.912115",
     "status": "completed"
    },
    "tags": []
   },
   "outputs": [],
   "source": []
  },
  {
   "cell_type": "code",
   "execution_count": 47,
   "id": "46031751",
   "metadata": {
    "execution": {
     "iopub.execute_input": "2022-04-16T03:48:32.171952Z",
     "iopub.status.busy": "2022-04-16T03:48:32.171628Z",
     "iopub.status.idle": "2022-04-16T03:48:32.183514Z",
     "shell.execute_reply": "2022-04-16T03:48:32.182521Z"
    },
    "id": "NcJc91Aqn1GJ",
    "papermill": {
     "duration": 0.10065,
     "end_time": "2022-04-16T03:48:32.185671",
     "exception": false,
     "start_time": "2022-04-16T03:48:32.085021",
     "status": "completed"
    },
    "tags": []
   },
   "outputs": [],
   "source": [
    "voc = []\n",
    "for s in cat_columns:\n",
    "    vn = pd.concat([td.cat[s], valid_td.cat[s], test_ds.cat[s]])\n",
    "    vn = vn.astype(int).nunique()\n",
    "    voc.append([vn, vn//2+1])\n"
   ]
  },
  {
   "cell_type": "code",
   "execution_count": 48,
   "id": "b511f201",
   "metadata": {
    "execution": {
     "iopub.execute_input": "2022-04-16T03:48:32.355530Z",
     "iopub.status.busy": "2022-04-16T03:48:32.354975Z",
     "iopub.status.idle": "2022-04-16T03:48:32.361423Z",
     "shell.execute_reply": "2022-04-16T03:48:32.360298Z"
    },
    "id": "J12RmbwluPKD",
    "outputId": "ca50b868-385e-4f83-8287-84e30513cec2",
    "papermill": {
     "duration": 0.092982,
     "end_time": "2022-04-16T03:48:32.363330",
     "exception": false,
     "start_time": "2022-04-16T03:48:32.270348",
     "status": "completed"
    },
    "tags": []
   },
   "outputs": [
    {
     "data": {
      "text/plain": [
       "[[3, 2], [2, 2], [7, 4], [8, 5], [3, 2], [6, 4]]"
      ]
     },
     "execution_count": 48,
     "metadata": {},
     "output_type": "execute_result"
    }
   ],
   "source": [
    "voc"
   ]
  },
  {
   "cell_type": "code",
   "execution_count": 49,
   "id": "2aa50ac2",
   "metadata": {
    "execution": {
     "iopub.execute_input": "2022-04-16T03:48:32.535746Z",
     "iopub.status.busy": "2022-04-16T03:48:32.534941Z",
     "iopub.status.idle": "2022-04-16T03:48:32.550308Z",
     "shell.execute_reply": "2022-04-16T03:48:32.549228Z"
    },
    "id": "0SBg7b0ilJyB",
    "papermill": {
     "duration": 0.104551,
     "end_time": "2022-04-16T03:48:32.552723",
     "exception": false,
     "start_time": "2022-04-16T03:48:32.448172",
     "status": "completed"
    },
    "tags": []
   },
   "outputs": [],
   "source": [
    "class TabModel(Module):\n",
    "    def __init__(self, emb_sz, cat_n, cont_n, layers):\n",
    "        super(TabModel, self).__init__()\n",
    "        self.cat_n = cat_n\n",
    "        self.cont_n = cont_n\n",
    "        self.embeddings = nn.ModuleList(nn.Embedding(ni, nf) for ni, nf in emb_sz)\n",
    "        cat_len = sum([x for _, x in emb_sz])\n",
    "        self.emb_drop = nn.Dropout(0.2)\n",
    "        self.linear_drop = nn.Dropout(0.5)\n",
    "        model = []\n",
    "        model.append(nn.BatchNorm1d(cat_len+cont_n))\n",
    "        model.append(self.linear_drop)\n",
    "        model.append(nn.Linear(cat_len+cont_n, layers[0]))\n",
    "        model.append(nn.Mish())\n",
    "        for i in range(len(layers)-2):\n",
    "            model.append(nn.BatchNorm1d(layers[i]))\n",
    "            model.append(self.linear_drop)\n",
    "            model.append(nn.Linear(layers[i], layers[i+1]))\n",
    "            model.append(nn.Mish())\n",
    "        self.linear = nn.Sequential(*model)\n",
    "        self.final_layer = nn.Linear(layers[-2], layers[-1])\n",
    "        \n",
    "    def forward(self, x):\n",
    "        emb = []\n",
    "        for i in range(self.cat_n):\n",
    "            emb.append(self.embeddings[i](x[:,i].int()))\n",
    "        for i in range(self.cat_n, self.cat_n+self.cont_n):\n",
    "            emb.append(x[:,i].unsqueeze(1))\n",
    "        input = torch.cat(emb, dim=1).float()\n",
    "        res = self.linear(input)\n",
    "        res = self.final_layer(res)\n",
    "        return res\n"
   ]
  },
  {
   "cell_type": "code",
   "execution_count": 50,
   "id": "c0cbaa5d",
   "metadata": {
    "execution": {
     "iopub.execute_input": "2022-04-16T03:48:32.721952Z",
     "iopub.status.busy": "2022-04-16T03:48:32.721628Z",
     "iopub.status.idle": "2022-04-16T03:48:32.754884Z",
     "shell.execute_reply": "2022-04-16T03:48:32.753926Z"
    },
    "id": "Pgyp6Ntynyo_",
    "papermill": {
     "duration": 0.120512,
     "end_time": "2022-04-16T03:48:32.757382",
     "exception": false,
     "start_time": "2022-04-16T03:48:32.636870",
     "status": "completed"
    },
    "tags": []
   },
   "outputs": [],
   "source": [
    "tabmodel = TabModel(voc, cat_n, cont_n, (300, 250, 200, 150, 100, 2)).to(device)"
   ]
  },
  {
   "cell_type": "code",
   "execution_count": 51,
   "id": "f74062b8",
   "metadata": {
    "execution": {
     "iopub.execute_input": "2022-04-16T03:48:32.929412Z",
     "iopub.status.busy": "2022-04-16T03:48:32.928795Z",
     "iopub.status.idle": "2022-04-16T03:48:32.934999Z",
     "shell.execute_reply": "2022-04-16T03:48:32.933219Z"
    },
    "id": "azJH5KCv0Nu3",
    "outputId": "6158c43f-5850-417b-ca72-efef5f5f0cc0",
    "papermill": {
     "duration": 0.097936,
     "end_time": "2022-04-16T03:48:32.938546",
     "exception": false,
     "start_time": "2022-04-16T03:48:32.840610",
     "status": "completed"
    },
    "tags": []
   },
   "outputs": [
    {
     "name": "stdout",
     "output_type": "stream",
     "text": [
      "TabModel(\n",
      "  (embeddings): ModuleList(\n",
      "    (0): Embedding(3, 2)\n",
      "    (1): Embedding(2, 2)\n",
      "    (2): Embedding(7, 4)\n",
      "    (3): Embedding(8, 5)\n",
      "    (4): Embedding(3, 2)\n",
      "    (5): Embedding(6, 4)\n",
      "  )\n",
      "  (emb_drop): Dropout(p=0.2, inplace=False)\n",
      "  (linear_drop): Dropout(p=0.5, inplace=False)\n",
      "  (linear): Sequential(\n",
      "    (0): BatchNorm1d(21, eps=1e-05, momentum=0.1, affine=True, track_running_stats=True)\n",
      "    (1): Dropout(p=0.5, inplace=False)\n",
      "    (2): Linear(in_features=21, out_features=300, bias=True)\n",
      "    (3): Mish()\n",
      "    (4): BatchNorm1d(300, eps=1e-05, momentum=0.1, affine=True, track_running_stats=True)\n",
      "    (5): Dropout(p=0.5, inplace=False)\n",
      "    (6): Linear(in_features=300, out_features=250, bias=True)\n",
      "    (7): Mish()\n",
      "    (8): BatchNorm1d(250, eps=1e-05, momentum=0.1, affine=True, track_running_stats=True)\n",
      "    (9): Dropout(p=0.5, inplace=False)\n",
      "    (10): Linear(in_features=250, out_features=200, bias=True)\n",
      "    (11): Mish()\n",
      "    (12): BatchNorm1d(200, eps=1e-05, momentum=0.1, affine=True, track_running_stats=True)\n",
      "    (13): Dropout(p=0.5, inplace=False)\n",
      "    (14): Linear(in_features=200, out_features=150, bias=True)\n",
      "    (15): Mish()\n",
      "    (16): BatchNorm1d(150, eps=1e-05, momentum=0.1, affine=True, track_running_stats=True)\n",
      "    (17): Dropout(p=0.5, inplace=False)\n",
      "    (18): Linear(in_features=150, out_features=100, bias=True)\n",
      "    (19): Mish()\n",
      "  )\n",
      "  (final_layer): Linear(in_features=100, out_features=2, bias=True)\n",
      ")\n"
     ]
    }
   ],
   "source": [
    "print(tabmodel)"
   ]
  },
  {
   "cell_type": "code",
   "execution_count": 52,
   "id": "c8ac9e3e",
   "metadata": {
    "execution": {
     "iopub.execute_input": "2022-04-16T03:48:33.116068Z",
     "iopub.status.busy": "2022-04-16T03:48:33.115363Z",
     "iopub.status.idle": "2022-04-16T03:48:33.120019Z",
     "shell.execute_reply": "2022-04-16T03:48:33.119324Z"
    },
    "id": "9dP2FXI1DMqk",
    "papermill": {
     "duration": 0.095667,
     "end_time": "2022-04-16T03:48:33.122102",
     "exception": false,
     "start_time": "2022-04-16T03:48:33.026435",
     "status": "completed"
    },
    "tags": []
   },
   "outputs": [],
   "source": [
    "dls = dl, valid_dl"
   ]
  },
  {
   "cell_type": "code",
   "execution_count": 53,
   "id": "5ee6fe35",
   "metadata": {
    "execution": {
     "iopub.execute_input": "2022-04-16T03:48:33.291649Z",
     "iopub.status.busy": "2022-04-16T03:48:33.291055Z",
     "iopub.status.idle": "2022-04-16T03:48:33.297685Z",
     "shell.execute_reply": "2022-04-16T03:48:33.297046Z"
    },
    "id": "eaD4SzWKkGTs",
    "papermill": {
     "duration": 0.093553,
     "end_time": "2022-04-16T03:48:33.299888",
     "exception": false,
     "start_time": "2022-04-16T03:48:33.206335",
     "status": "completed"
    },
    "tags": []
   },
   "outputs": [],
   "source": [
    "def train(dl, model, loss_fn, optim):\n",
    "    size = len(dl.dataset)\n",
    "    losses = []\n",
    "    for batch, (X, y) in enumerate(dl):\n",
    "        # prediction, loss\n",
    "        pred = model(X)\n",
    "        loss = loss_fn(pred, y)\n",
    "        # backprop\n",
    "        optim.zero_grad()\n",
    "        loss.backward()\n",
    "        optim.step()\n",
    "\n",
    "        losses.append(loss.item())\n",
    "    \n",
    "    print(f'loss: {np.array(losses).mean()}')\n"
   ]
  },
  {
   "cell_type": "code",
   "execution_count": 54,
   "id": "2a96d87a",
   "metadata": {
    "execution": {
     "iopub.execute_input": "2022-04-16T03:48:33.470567Z",
     "iopub.status.busy": "2022-04-16T03:48:33.470138Z",
     "iopub.status.idle": "2022-04-16T03:48:33.476752Z",
     "shell.execute_reply": "2022-04-16T03:48:33.476178Z"
    },
    "id": "g31GQH3w_kUN",
    "papermill": {
     "duration": 0.09469,
     "end_time": "2022-04-16T03:48:33.478746",
     "exception": false,
     "start_time": "2022-04-16T03:48:33.384056",
     "status": "completed"
    },
    "tags": []
   },
   "outputs": [],
   "source": [
    "def valid(valid_dl, model, loss_fn):\n",
    "    accuracy = []\n",
    "    losses = []\n",
    "    with torch.no_grad():\n",
    "        for batch, (X, y) in enumerate(valid_dl):\n",
    "            #p rediction, loss\n",
    "            pred = model(X)\n",
    "            loss = loss_fn(pred, y)\n",
    "            # metric\n",
    "            accuracy.append((pred.argmax(1)==y).float().flatten().mean())\n",
    "            losses.append(loss.item())\n",
    "    print(f'valid -- accuracy: {np.array(accuracy).mean()}, loss: {np.array(losses).mean()}')"
   ]
  },
  {
   "cell_type": "code",
   "execution_count": 55,
   "id": "b67cd1af",
   "metadata": {
    "execution": {
     "iopub.execute_input": "2022-04-16T03:48:33.651558Z",
     "iopub.status.busy": "2022-04-16T03:48:33.651242Z",
     "iopub.status.idle": "2022-04-16T03:48:33.657751Z",
     "shell.execute_reply": "2022-04-16T03:48:33.657010Z"
    },
    "id": "GWBjVQfWDI0r",
    "papermill": {
     "duration": 0.095984,
     "end_time": "2022-04-16T03:48:33.659565",
     "exception": false,
     "start_time": "2022-04-16T03:48:33.563581",
     "status": "completed"
    },
    "tags": []
   },
   "outputs": [],
   "source": [
    "def epoch(n, dls, model:Module, loss_fn, lr=1e-3):\n",
    "    train_dl, valid_dl = dls\n",
    "    \n",
    "    for i in range(n):\n",
    "        # train\n",
    "        model.train()\n",
    "        train(train_dl, model, loss_fn, torch.optim.Adam(model.parameters(), lr= lr))\n",
    "        #validate\n",
    "        model.eval()\n",
    "        valid(valid_dl, model, loss_fn)"
   ]
  },
  {
   "cell_type": "code",
   "execution_count": 56,
   "id": "ee0b3bfe",
   "metadata": {
    "execution": {
     "iopub.execute_input": "2022-04-16T03:48:33.830414Z",
     "iopub.status.busy": "2022-04-16T03:48:33.829387Z",
     "iopub.status.idle": "2022-04-16T03:48:37.944676Z",
     "shell.execute_reply": "2022-04-16T03:48:37.943810Z"
    },
    "id": "3YLxax12s3ZV",
    "outputId": "0b643d39-25e7-4524-a2a2-f3f2b9f0409b",
    "papermill": {
     "duration": 4.20511,
     "end_time": "2022-04-16T03:48:37.948294",
     "exception": false,
     "start_time": "2022-04-16T03:48:33.743184",
     "status": "completed"
    },
    "tags": []
   },
   "outputs": [
    {
     "name": "stdout",
     "output_type": "stream",
     "text": [
      "loss: 0.6799536198377609\n",
      "valid -- accuracy: 0.6022858619689941, loss: 0.6440453579028448\n",
      "loss: 0.609768899778525\n",
      "valid -- accuracy: 0.7379918694496155, loss: 0.5514321153362592\n",
      "loss: 0.5686745246251425\n",
      "valid -- accuracy: 0.8148148059844971, loss: 0.48715539276599884\n",
      "loss: 0.5552284071842829\n",
      "valid -- accuracy: 0.8252314925193787, loss: 0.47518008947372437\n",
      "loss: 0.5628599226474762\n",
      "valid -- accuracy: 0.8200231194496155, loss: 0.47713108857472736\n",
      "loss: 0.5240615407625834\n",
      "valid -- accuracy: 0.8174189925193787, loss: 0.46829845507939655\n",
      "loss: 0.508750761548678\n",
      "valid -- accuracy: 0.8122106194496155, loss: 0.4709160427252452\n",
      "loss: 0.5309174607197443\n",
      "valid -- accuracy: 0.8226273059844971, loss: 0.4659232224027316\n",
      "loss: 0.5286345283190409\n",
      "valid -- accuracy: 0.8226273059844971, loss: 0.4631854072213173\n",
      "loss: 0.5300687129298846\n",
      "valid -- accuracy: 0.8226273059844971, loss: 0.4630563159783681\n"
     ]
    }
   ],
   "source": [
    "epoch(10, dls, tabmodel, CrossEntropyLoss(), lr=5e-4)"
   ]
  },
  {
   "cell_type": "code",
   "execution_count": 57,
   "id": "fcfa54cc",
   "metadata": {
    "execution": {
     "iopub.execute_input": "2022-04-16T03:48:38.128906Z",
     "iopub.status.busy": "2022-04-16T03:48:38.128285Z",
     "iopub.status.idle": "2022-04-16T03:48:38.132561Z",
     "shell.execute_reply": "2022-04-16T03:48:38.131997Z"
    },
    "id": "92EJ-f5yFRne",
    "papermill": {
     "duration": 0.096368,
     "end_time": "2022-04-16T03:48:38.134421",
     "exception": false,
     "start_time": "2022-04-16T03:48:38.038053",
     "status": "completed"
    },
    "tags": []
   },
   "outputs": [],
   "source": [
    "def predictWhole(data, model):\n",
    "    model.eval()\n",
    "    pred = model(data)\n",
    "    return pred.argmax(1)"
   ]
  },
  {
   "cell_type": "code",
   "execution_count": 58,
   "id": "0b33b4f8",
   "metadata": {
    "execution": {
     "iopub.execute_input": "2022-04-16T03:48:38.314292Z",
     "iopub.status.busy": "2022-04-16T03:48:38.313705Z",
     "iopub.status.idle": "2022-04-16T03:48:38.372868Z",
     "shell.execute_reply": "2022-04-16T03:48:38.372183Z"
    },
    "id": "A28cUom3tXCM",
    "papermill": {
     "duration": 0.15385,
     "end_time": "2022-04-16T03:48:38.376072",
     "exception": false,
     "start_time": "2022-04-16T03:48:38.222222",
     "status": "completed"
    },
    "tags": []
   },
   "outputs": [],
   "source": [
    "test_ds_raw = torch.Tensor(np.array(test_ds))"
   ]
  },
  {
   "cell_type": "code",
   "execution_count": 59,
   "id": "d0f29670",
   "metadata": {
    "execution": {
     "iopub.execute_input": "2022-04-16T03:48:38.627375Z",
     "iopub.status.busy": "2022-04-16T03:48:38.626867Z",
     "iopub.status.idle": "2022-04-16T03:48:38.646407Z",
     "shell.execute_reply": "2022-04-16T03:48:38.645513Z"
    },
    "id": "EpLqTfpZZ2is",
    "outputId": "76882f4f-19b7-41de-99eb-723c47f627b4",
    "papermill": {
     "duration": 0.140134,
     "end_time": "2022-04-16T03:48:38.648927",
     "exception": false,
     "start_time": "2022-04-16T03:48:38.508793",
     "status": "completed"
    },
    "tags": []
   },
   "outputs": [
    {
     "data": {
      "text/plain": [
       "tensor([[ 0.0000,  0.0000,  1.0000,  ...,  0.0000, 34.5000,  7.8292],\n",
       "        [ 0.0000,  1.0000,  0.0000,  ...,  1.0000, 47.0000,  7.0000],\n",
       "        [ 2.0000,  0.0000,  1.0000,  ...,  0.0000, 62.0000,  9.6875],\n",
       "        ...,\n",
       "        [ 0.0000,  0.0000,  1.0000,  ...,  0.0000, 38.5000,  7.2500],\n",
       "        [ 0.0000,  0.0000,  1.0000,  ...,  0.0000, 32.9000,  8.0500],\n",
       "        [ 0.0000,  0.0000,  0.0000,  ...,  3.0000,  9.4340, 22.3583]])"
      ]
     },
     "execution_count": 59,
     "metadata": {},
     "output_type": "execute_result"
    }
   ],
   "source": [
    "test_ds_raw"
   ]
  },
  {
   "cell_type": "code",
   "execution_count": 60,
   "id": "9c049b80",
   "metadata": {
    "execution": {
     "iopub.execute_input": "2022-04-16T03:48:38.852812Z",
     "iopub.status.busy": "2022-04-16T03:48:38.852207Z",
     "iopub.status.idle": "2022-04-16T03:48:38.874366Z",
     "shell.execute_reply": "2022-04-16T03:48:38.873297Z"
    },
    "id": "Gaz-1GGsLWSa",
    "outputId": "bdb38471-e93f-45b6-8bf5-cc40cbb53284",
    "papermill": {
     "duration": 0.122791,
     "end_time": "2022-04-16T03:48:38.877096",
     "exception": false,
     "start_time": "2022-04-16T03:48:38.754305",
     "status": "completed"
    },
    "tags": []
   },
   "outputs": [
    {
     "data": {
      "text/plain": [
       "418"
      ]
     },
     "execution_count": 60,
     "metadata": {},
     "output_type": "execute_result"
    }
   ],
   "source": [
    "preds = predictWhole(test_ds_raw, tabmodel)\n",
    "len(preds)"
   ]
  },
  {
   "cell_type": "code",
   "execution_count": 61,
   "id": "cda838ad",
   "metadata": {
    "execution": {
     "iopub.execute_input": "2022-04-16T03:48:39.067350Z",
     "iopub.status.busy": "2022-04-16T03:48:39.066653Z",
     "iopub.status.idle": "2022-04-16T03:48:39.072738Z",
     "shell.execute_reply": "2022-04-16T03:48:39.071911Z"
    },
    "id": "Ol7VwkHuLgFS",
    "papermill": {
     "duration": 0.09908,
     "end_time": "2022-04-16T03:48:39.074813",
     "exception": false,
     "start_time": "2022-04-16T03:48:38.975733",
     "status": "completed"
    },
    "tags": []
   },
   "outputs": [],
   "source": [
    "result = pd.DataFrame({'PassengerId': df_test_pi, 'Survived': preds})"
   ]
  },
  {
   "cell_type": "code",
   "execution_count": 62,
   "id": "971df56d",
   "metadata": {
    "execution": {
     "iopub.execute_input": "2022-04-16T03:48:39.259685Z",
     "iopub.status.busy": "2022-04-16T03:48:39.259007Z",
     "iopub.status.idle": "2022-04-16T03:48:39.271725Z",
     "shell.execute_reply": "2022-04-16T03:48:39.270891Z"
    },
    "id": "nZ36hM3iL4Ku",
    "papermill": {
     "duration": 0.106736,
     "end_time": "2022-04-16T03:48:39.274300",
     "exception": false,
     "start_time": "2022-04-16T03:48:39.167564",
     "status": "completed"
    },
    "tags": []
   },
   "outputs": [],
   "source": [
    "result.to_csv('submission.csv', index=False)"
   ]
  },
  {
   "cell_type": "code",
   "execution_count": null,
   "id": "76329dbd",
   "metadata": {
    "id": "ZXGUSbcaNLJc",
    "papermill": {
     "duration": 0.090133,
     "end_time": "2022-04-16T03:48:39.458649",
     "exception": false,
     "start_time": "2022-04-16T03:48:39.368516",
     "status": "completed"
    },
    "tags": []
   },
   "outputs": [],
   "source": []
  }
 ],
 "metadata": {
  "kernelspec": {
   "display_name": "Python 3",
   "language": "python",
   "name": "python3"
  },
  "language_info": {
   "codemirror_mode": {
    "name": "ipython",
    "version": 3
   },
   "file_extension": ".py",
   "mimetype": "text/x-python",
   "name": "python",
   "nbconvert_exporter": "python",
   "pygments_lexer": "ipython3",
   "version": "3.7.12"
  },
  "papermill": {
   "default_parameters": {},
   "duration": 75.197492,
   "end_time": "2022-04-16T03:48:40.570958",
   "environment_variables": {},
   "exception": null,
   "input_path": "__notebook__.ipynb",
   "output_path": "__notebook__.ipynb",
   "parameters": {},
   "start_time": "2022-04-16T03:47:25.373466",
   "version": "2.3.4"
  }
 },
 "nbformat": 4,
 "nbformat_minor": 5
}
