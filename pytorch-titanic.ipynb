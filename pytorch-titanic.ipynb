{
 "cells": [
  {
   "cell_type": "markdown",
   "id": "e1dedbef",
   "metadata": {
    "id": "view-in-github",
    "papermill": {
     "duration": 0.092032,
     "end_time": "2022-04-16T07:27:55.754482",
     "exception": false,
     "start_time": "2022-04-16T07:27:55.662450",
     "status": "completed"
    },
    "tags": []
   },
   "source": [
    "<a href=\"https://colab.research.google.com/github/Puurun/fastai_code_example/blob/main/Pytorch_Titanic.ipynb\" target=\"_parent\"><img src=\"https://colab.research.google.com/assets/colab-badge.svg\" alt=\"Open In Colab\"/></a>"
   ]
  },
  {
   "cell_type": "code",
   "execution_count": null,
   "id": "bc9f8f4b",
   "metadata": {
    "id": "SCI89IkiejzG",
    "outputId": "c8596ff0-5f2b-4bab-99dd-0d0b181f6795",
    "papermill": {
     "duration": 0.098163,
     "end_time": "2022-04-16T07:27:55.946835",
     "exception": false,
     "start_time": "2022-04-16T07:27:55.848672",
     "status": "completed"
    },
    "tags": []
   },
   "outputs": [],
   "source": []
  },
  {
   "cell_type": "code",
   "execution_count": 1,
   "id": "7863e5ae",
   "metadata": {
    "execution": {
     "iopub.execute_input": "2022-04-16T07:27:56.134789Z",
     "iopub.status.busy": "2022-04-16T07:27:56.134019Z",
     "iopub.status.idle": "2022-04-16T07:28:10.071365Z",
     "shell.execute_reply": "2022-04-16T07:28:10.069941Z"
    },
    "id": "-ltAnZP3QBy3",
    "outputId": "5be66168-fe3d-46c9-99f8-2d5496bc6f56",
    "papermill": {
     "duration": 14.03324,
     "end_time": "2022-04-16T07:28:10.074439",
     "exception": false,
     "start_time": "2022-04-16T07:27:56.041199",
     "status": "completed"
    },
    "tags": []
   },
   "outputs": [
    {
     "name": "stdout",
     "output_type": "stream",
     "text": [
      "Collecting impyute\r\n",
      "  Downloading impyute-0.0.8-py2.py3-none-any.whl (31 kB)\r\n",
      "Requirement already satisfied: scikit-learn in /opt/conda/lib/python3.7/site-packages (from impyute) (1.0.2)\r\n",
      "Requirement already satisfied: scipy in /opt/conda/lib/python3.7/site-packages (from impyute) (1.7.3)\r\n",
      "Requirement already satisfied: numpy in /opt/conda/lib/python3.7/site-packages (from impyute) (1.21.5)\r\n",
      "Requirement already satisfied: threadpoolctl>=2.0.0 in /opt/conda/lib/python3.7/site-packages (from scikit-learn->impyute) (3.1.0)\r\n",
      "Requirement already satisfied: joblib>=0.11 in /opt/conda/lib/python3.7/site-packages (from scikit-learn->impyute) (1.0.1)\r\n",
      "Installing collected packages: impyute\r\n",
      "Successfully installed impyute-0.0.8\r\n",
      "\u001b[33mWARNING: Running pip as the 'root' user can result in broken permissions and conflicting behaviour with the system package manager. It is recommended to use a virtual environment instead: https://pip.pypa.io/warnings/venv\u001b[0m\u001b[33m\r\n",
      "\u001b[0m"
     ]
    }
   ],
   "source": [
    "!pip install impyute"
   ]
  },
  {
   "cell_type": "code",
   "execution_count": 2,
   "id": "b62dbd98",
   "metadata": {
    "execution": {
     "iopub.execute_input": "2022-04-16T07:28:10.261232Z",
     "iopub.status.busy": "2022-04-16T07:28:10.260828Z",
     "iopub.status.idle": "2022-04-16T07:28:34.577209Z",
     "shell.execute_reply": "2022-04-16T07:28:34.575868Z"
    },
    "id": "h0xhi6k4bUXN",
    "outputId": "4506c3ee-d33e-4811-8dae-0838b19615cc",
    "papermill": {
     "duration": 24.41273,
     "end_time": "2022-04-16T07:28:34.579898",
     "exception": false,
     "start_time": "2022-04-16T07:28:10.167168",
     "status": "completed"
    },
    "tags": []
   },
   "outputs": [
    {
     "name": "stdout",
     "output_type": "stream",
     "text": [
      "\u001b[31mERROR: pip's dependency resolver does not currently take into account all the packages that are installed. This behaviour is the source of the following dependency conflicts.\r\n",
      "tensorflow-io 0.21.0 requires tensorflow-io-gcs-filesystem==0.21.0, which is not installed.\r\n",
      "tensorflow 2.6.3 requires absl-py~=0.10, but you have absl-py 1.0.0 which is incompatible.\r\n",
      "tensorflow 2.6.3 requires numpy~=1.19.2, but you have numpy 1.21.5 which is incompatible.\r\n",
      "tensorflow 2.6.3 requires six~=1.15.0, but you have six 1.16.0 which is incompatible.\r\n",
      "tensorflow 2.6.3 requires wrapt~=1.12.1, but you have wrapt 1.14.0 which is incompatible.\r\n",
      "tensorflow-transform 1.7.0 requires pyarrow<6,>=1, but you have pyarrow 7.0.0 which is incompatible.\r\n",
      "tensorflow-transform 1.7.0 requires tensorflow!=2.0.*,!=2.1.*,!=2.2.*,!=2.3.*,!=2.4.*,!=2.5.*,!=2.6.*,!=2.7.*,<2.9,>=1.15.5, but you have tensorflow 2.6.3 which is incompatible.\r\n",
      "tensorflow-serving-api 2.8.0 requires tensorflow<3,>=2.8.0, but you have tensorflow 2.6.3 which is incompatible.\r\n",
      "rich 12.2.0 requires typing-extensions<5.0,>=4.0.0; python_version < \"3.9\", but you have typing-extensions 3.10.0.2 which is incompatible.\r\n",
      "pytorch-lightning 1.6.0 requires typing-extensions>=4.0.0, but you have typing-extensions 3.10.0.2 which is incompatible.\r\n",
      "flake8 4.0.1 requires importlib-metadata<4.3; python_version < \"3.8\", but you have importlib-metadata 4.11.3 which is incompatible.\r\n",
      "apache-beam 2.37.0 requires dill<0.3.2,>=0.3.1.1, but you have dill 0.3.4 which is incompatible.\r\n",
      "apache-beam 2.37.0 requires httplib2<0.20.0,>=0.8, but you have httplib2 0.20.4 which is incompatible.\r\n",
      "apache-beam 2.37.0 requires pyarrow<7.0.0,>=0.15.1, but you have pyarrow 7.0.0 which is incompatible.\r\n",
      "aioitertools 0.10.0 requires typing_extensions>=4.0; python_version < \"3.10\", but you have typing-extensions 3.10.0.2 which is incompatible.\r\n",
      "aiobotocore 2.2.0 requires botocore<1.24.22,>=1.24.21, but you have botocore 1.24.38 which is incompatible.\u001b[0m\u001b[31m\r\n",
      "\u001b[0m"
     ]
    }
   ],
   "source": [
    "!pip install fastai -Uqq"
   ]
  },
  {
   "cell_type": "code",
   "execution_count": 3,
   "id": "124a7d86",
   "metadata": {
    "execution": {
     "iopub.execute_input": "2022-04-16T07:28:34.768355Z",
     "iopub.status.busy": "2022-04-16T07:28:34.767985Z",
     "iopub.status.idle": "2022-04-16T07:28:34.772209Z",
     "shell.execute_reply": "2022-04-16T07:28:34.771648Z"
    },
    "id": "TNgP1SUQd-sh",
    "papermill": {
     "duration": 0.099968,
     "end_time": "2022-04-16T07:28:34.774286",
     "exception": false,
     "start_time": "2022-04-16T07:28:34.674318",
     "status": "completed"
    },
    "tags": []
   },
   "outputs": [],
   "source": [
    "gpu = False\n",
    "device = 'cuda' if gpu else 'cpu'"
   ]
  },
  {
   "cell_type": "code",
   "execution_count": 4,
   "id": "50f8268f",
   "metadata": {
    "execution": {
     "iopub.execute_input": "2022-04-16T07:28:34.964934Z",
     "iopub.status.busy": "2022-04-16T07:28:34.964606Z",
     "iopub.status.idle": "2022-04-16T07:28:36.382148Z",
     "shell.execute_reply": "2022-04-16T07:28:36.381021Z"
    },
    "id": "JYxhj_fHeOwx",
    "papermill": {
     "duration": 1.51651,
     "end_time": "2022-04-16T07:28:36.385030",
     "exception": false,
     "start_time": "2022-04-16T07:28:34.868520",
     "status": "completed"
    },
    "tags": []
   },
   "outputs": [],
   "source": [
    "import pandas as pd\n",
    "import numpy as np\n",
    "import seaborn as sns\n",
    "import matplotlib.pyplot as plt\n",
    "import impyute as im\n",
    "import sys\n",
    "from impyute.imputation.cs import fast_knn\n",
    "from sklearn.preprocessing import OrdinalEncoder"
   ]
  },
  {
   "cell_type": "code",
   "execution_count": 5,
   "id": "220280ee",
   "metadata": {
    "execution": {
     "iopub.execute_input": "2022-04-16T07:28:36.569991Z",
     "iopub.status.busy": "2022-04-16T07:28:36.569673Z",
     "iopub.status.idle": "2022-04-16T07:28:36.603802Z",
     "shell.execute_reply": "2022-04-16T07:28:36.602432Z"
    },
    "id": "ZkXCpX_cedrB",
    "papermill": {
     "duration": 0.129403,
     "end_time": "2022-04-16T07:28:36.606707",
     "exception": false,
     "start_time": "2022-04-16T07:28:36.477304",
     "status": "completed"
    },
    "tags": []
   },
   "outputs": [],
   "source": [
    "df = pd.read_csv('../input/titanic/train.csv')\n",
    "df_test = pd.read_csv('../input/titanic/test.csv')"
   ]
  },
  {
   "cell_type": "code",
   "execution_count": 6,
   "id": "0eabb158",
   "metadata": {
    "execution": {
     "iopub.execute_input": "2022-04-16T07:28:36.799566Z",
     "iopub.status.busy": "2022-04-16T07:28:36.798991Z",
     "iopub.status.idle": "2022-04-16T07:28:36.807434Z",
     "shell.execute_reply": "2022-04-16T07:28:36.806804Z"
    },
    "id": "Ebfuhs5-eu87",
    "outputId": "13da6f35-ff67-448e-a73b-0c9449bb3e2e",
    "papermill": {
     "duration": 0.109794,
     "end_time": "2022-04-16T07:28:36.809558",
     "exception": false,
     "start_time": "2022-04-16T07:28:36.699764",
     "status": "completed"
    },
    "tags": []
   },
   "outputs": [
    {
     "data": {
      "text/plain": [
       "array(['PassengerId', 'Survived', 'Pclass', 'Name', 'Sex', 'Age', 'SibSp',\n",
       "       'Parch', 'Ticket', 'Fare', 'Cabin', 'Embarked'], dtype=object)"
      ]
     },
     "execution_count": 6,
     "metadata": {},
     "output_type": "execute_result"
    }
   ],
   "source": [
    "df.columns.values"
   ]
  },
  {
   "cell_type": "code",
   "execution_count": null,
   "id": "dae7ff95",
   "metadata": {
    "papermill": {
     "duration": 0.091382,
     "end_time": "2022-04-16T07:28:36.993224",
     "exception": false,
     "start_time": "2022-04-16T07:28:36.901842",
     "status": "completed"
    },
    "tags": []
   },
   "outputs": [],
   "source": []
  },
  {
   "cell_type": "code",
   "execution_count": null,
   "id": "553966e4",
   "metadata": {
    "papermill": {
     "duration": 0.09016,
     "end_time": "2022-04-16T07:28:37.178669",
     "exception": false,
     "start_time": "2022-04-16T07:28:37.088509",
     "status": "completed"
    },
    "tags": []
   },
   "outputs": [],
   "source": []
  },
  {
   "cell_type": "code",
   "execution_count": 7,
   "id": "3912777d",
   "metadata": {
    "execution": {
     "iopub.execute_input": "2022-04-16T07:28:37.366398Z",
     "iopub.status.busy": "2022-04-16T07:28:37.365830Z",
     "iopub.status.idle": "2022-04-16T07:28:37.370457Z",
     "shell.execute_reply": "2022-04-16T07:28:37.369677Z"
    },
    "id": "RmyHWYzXe4EJ",
    "papermill": {
     "duration": 0.10093,
     "end_time": "2022-04-16T07:28:37.372482",
     "exception": false,
     "start_time": "2022-04-16T07:28:37.271552",
     "status": "completed"
    },
    "tags": []
   },
   "outputs": [],
   "source": [
    "dep_var = ['Survived']\n",
    "cat_var = ['Sex', 'Embarked']\n",
    "ord_var = ['Pclass']\n",
    "cont_var = ['Age', 'Fare']\n",
    "desc_var = ['SibSp', 'Parch']"
   ]
  },
  {
   "cell_type": "code",
   "execution_count": 8,
   "id": "251dd968",
   "metadata": {
    "execution": {
     "iopub.execute_input": "2022-04-16T07:28:37.558667Z",
     "iopub.status.busy": "2022-04-16T07:28:37.558325Z",
     "iopub.status.idle": "2022-04-16T07:28:37.587685Z",
     "shell.execute_reply": "2022-04-16T07:28:37.586753Z"
    },
    "id": "OOwkYfTuoCDo",
    "papermill": {
     "duration": 0.12513,
     "end_time": "2022-04-16T07:28:37.590110",
     "exception": false,
     "start_time": "2022-04-16T07:28:37.464980",
     "status": "completed"
    },
    "tags": []
   },
   "outputs": [],
   "source": [
    "combine = [df, df_test]\n",
    "for dataset in combine:\n",
    "    dataset[cat_var+ord_var] = dataset[cat_var+ord_var].astype('category')\n",
    "    dataset['Pclass'] = dataset['Pclass'].cat.set_categories([1, 2, 3], ordered=True)"
   ]
  },
  {
   "cell_type": "code",
   "execution_count": 9,
   "id": "07c55769",
   "metadata": {
    "execution": {
     "iopub.execute_input": "2022-04-16T07:28:37.775846Z",
     "iopub.status.busy": "2022-04-16T07:28:37.775504Z",
     "iopub.status.idle": "2022-04-16T07:28:37.783005Z",
     "shell.execute_reply": "2022-04-16T07:28:37.782141Z"
    },
    "id": "reaPqaUmfn2G",
    "outputId": "d2fc0f49-98c2-4759-9c4b-287b1a22475e",
    "papermill": {
     "duration": 0.102396,
     "end_time": "2022-04-16T07:28:37.785004",
     "exception": false,
     "start_time": "2022-04-16T07:28:37.682608",
     "status": "completed"
    },
    "tags": []
   },
   "outputs": [
    {
     "data": {
      "text/plain": [
       "PassengerId       int64\n",
       "Survived          int64\n",
       "Pclass         category\n",
       "Name             object\n",
       "Sex            category\n",
       "Age             float64\n",
       "SibSp             int64\n",
       "Parch             int64\n",
       "Ticket           object\n",
       "Fare            float64\n",
       "Cabin            object\n",
       "Embarked       category\n",
       "dtype: object"
      ]
     },
     "execution_count": 9,
     "metadata": {},
     "output_type": "execute_result"
    }
   ],
   "source": [
    "df.dtypes"
   ]
  },
  {
   "cell_type": "code",
   "execution_count": 10,
   "id": "58e12a48",
   "metadata": {
    "execution": {
     "iopub.execute_input": "2022-04-16T07:28:37.970114Z",
     "iopub.status.busy": "2022-04-16T07:28:37.969299Z",
     "iopub.status.idle": "2022-04-16T07:28:37.983432Z",
     "shell.execute_reply": "2022-04-16T07:28:37.982776Z"
    },
    "id": "SqiH0pOrfob-",
    "outputId": "5e1d6efe-0e0a-45d5-90fb-240e5fb6daef",
    "papermill": {
     "duration": 0.108768,
     "end_time": "2022-04-16T07:28:37.985659",
     "exception": false,
     "start_time": "2022-04-16T07:28:37.876891",
     "status": "completed"
    },
    "tags": []
   },
   "outputs": [
    {
     "data": {
      "text/plain": [
       "Cabin          0.771044\n",
       "Age            0.198653\n",
       "Embarked       0.002245\n",
       "PassengerId    0.000000\n",
       "Survived       0.000000\n",
       "Pclass         0.000000\n",
       "Name           0.000000\n",
       "Sex            0.000000\n",
       "SibSp          0.000000\n",
       "Parch          0.000000\n",
       "Ticket         0.000000\n",
       "Fare           0.000000\n",
       "dtype: float64"
      ]
     },
     "execution_count": 10,
     "metadata": {},
     "output_type": "execute_result"
    }
   ],
   "source": [
    "null_check = (df.isnull().sum()/ df.isnull().count()).sort_values(ascending=False)\n",
    "null_check"
   ]
  },
  {
   "cell_type": "code",
   "execution_count": 11,
   "id": "5c0aeaac",
   "metadata": {
    "execution": {
     "iopub.execute_input": "2022-04-16T07:28:38.174792Z",
     "iopub.status.busy": "2022-04-16T07:28:38.174402Z",
     "iopub.status.idle": "2022-04-16T07:28:38.206903Z",
     "shell.execute_reply": "2022-04-16T07:28:38.205981Z"
    },
    "id": "VGzez6fnf2Qn",
    "outputId": "8ec2ead3-f2c2-4fc0-bd15-0b2e2305601a",
    "papermill": {
     "duration": 0.133645,
     "end_time": "2022-04-16T07:28:38.210813",
     "exception": false,
     "start_time": "2022-04-16T07:28:38.077168",
     "status": "completed"
    },
    "tags": []
   },
   "outputs": [
    {
     "name": "stdout",
     "output_type": "stream",
     "text": [
      "<class 'pandas.core.frame.DataFrame'>\n",
      "RangeIndex: 891 entries, 0 to 890\n",
      "Data columns (total 12 columns):\n",
      " #   Column       Non-Null Count  Dtype   \n",
      "---  ------       --------------  -----   \n",
      " 0   PassengerId  891 non-null    int64   \n",
      " 1   Survived     891 non-null    int64   \n",
      " 2   Pclass       891 non-null    category\n",
      " 3   Name         891 non-null    object  \n",
      " 4   Sex          891 non-null    category\n",
      " 5   Age          714 non-null    float64 \n",
      " 6   SibSp        891 non-null    int64   \n",
      " 7   Parch        891 non-null    int64   \n",
      " 8   Ticket       891 non-null    object  \n",
      " 9   Fare         891 non-null    float64 \n",
      " 10  Cabin        204 non-null    object  \n",
      " 11  Embarked     889 non-null    category\n",
      "dtypes: category(3), float64(2), int64(4), object(3)\n",
      "memory usage: 65.8+ KB\n",
      "****************************************\n",
      "<class 'pandas.core.frame.DataFrame'>\n",
      "RangeIndex: 418 entries, 0 to 417\n",
      "Data columns (total 11 columns):\n",
      " #   Column       Non-Null Count  Dtype   \n",
      "---  ------       --------------  -----   \n",
      " 0   PassengerId  418 non-null    int64   \n",
      " 1   Pclass       418 non-null    category\n",
      " 2   Name         418 non-null    object  \n",
      " 3   Sex          418 non-null    category\n",
      " 4   Age          332 non-null    float64 \n",
      " 5   SibSp        418 non-null    int64   \n",
      " 6   Parch        418 non-null    int64   \n",
      " 7   Ticket       418 non-null    object  \n",
      " 8   Fare         417 non-null    float64 \n",
      " 9   Cabin        91 non-null     object  \n",
      " 10  Embarked     418 non-null    category\n",
      "dtypes: category(3), float64(2), int64(3), object(3)\n",
      "memory usage: 27.9+ KB\n"
     ]
    }
   ],
   "source": [
    "df.info()\n",
    "print('*'*40)\n",
    "df_test.info()"
   ]
  },
  {
   "cell_type": "code",
   "execution_count": 12,
   "id": "c12c303b",
   "metadata": {
    "execution": {
     "iopub.execute_input": "2022-04-16T07:28:38.406610Z",
     "iopub.status.busy": "2022-04-16T07:28:38.406291Z",
     "iopub.status.idle": "2022-04-16T07:28:38.444982Z",
     "shell.execute_reply": "2022-04-16T07:28:38.444111Z"
    },
    "id": "hkD9m0ZQgsX-",
    "outputId": "2820baaf-d9fb-4648-8381-767b7a8fee64",
    "papermill": {
     "duration": 0.136461,
     "end_time": "2022-04-16T07:28:38.447252",
     "exception": false,
     "start_time": "2022-04-16T07:28:38.310791",
     "status": "completed"
    },
    "tags": []
   },
   "outputs": [
    {
     "data": {
      "text/html": [
       "<div>\n",
       "<style scoped>\n",
       "    .dataframe tbody tr th:only-of-type {\n",
       "        vertical-align: middle;\n",
       "    }\n",
       "\n",
       "    .dataframe tbody tr th {\n",
       "        vertical-align: top;\n",
       "    }\n",
       "\n",
       "    .dataframe thead th {\n",
       "        text-align: right;\n",
       "    }\n",
       "</style>\n",
       "<table border=\"1\" class=\"dataframe\">\n",
       "  <thead>\n",
       "    <tr style=\"text-align: right;\">\n",
       "      <th></th>\n",
       "      <th>PassengerId</th>\n",
       "      <th>Survived</th>\n",
       "      <th>Age</th>\n",
       "      <th>SibSp</th>\n",
       "      <th>Parch</th>\n",
       "      <th>Fare</th>\n",
       "    </tr>\n",
       "  </thead>\n",
       "  <tbody>\n",
       "    <tr>\n",
       "      <th>count</th>\n",
       "      <td>891.000000</td>\n",
       "      <td>891.000000</td>\n",
       "      <td>714.000000</td>\n",
       "      <td>891.000000</td>\n",
       "      <td>891.000000</td>\n",
       "      <td>891.000000</td>\n",
       "    </tr>\n",
       "    <tr>\n",
       "      <th>mean</th>\n",
       "      <td>446.000000</td>\n",
       "      <td>0.383838</td>\n",
       "      <td>29.699118</td>\n",
       "      <td>0.523008</td>\n",
       "      <td>0.381594</td>\n",
       "      <td>32.204208</td>\n",
       "    </tr>\n",
       "    <tr>\n",
       "      <th>std</th>\n",
       "      <td>257.353842</td>\n",
       "      <td>0.486592</td>\n",
       "      <td>14.526497</td>\n",
       "      <td>1.102743</td>\n",
       "      <td>0.806057</td>\n",
       "      <td>49.693429</td>\n",
       "    </tr>\n",
       "    <tr>\n",
       "      <th>min</th>\n",
       "      <td>1.000000</td>\n",
       "      <td>0.000000</td>\n",
       "      <td>0.420000</td>\n",
       "      <td>0.000000</td>\n",
       "      <td>0.000000</td>\n",
       "      <td>0.000000</td>\n",
       "    </tr>\n",
       "    <tr>\n",
       "      <th>25%</th>\n",
       "      <td>223.500000</td>\n",
       "      <td>0.000000</td>\n",
       "      <td>20.125000</td>\n",
       "      <td>0.000000</td>\n",
       "      <td>0.000000</td>\n",
       "      <td>7.910400</td>\n",
       "    </tr>\n",
       "    <tr>\n",
       "      <th>50%</th>\n",
       "      <td>446.000000</td>\n",
       "      <td>0.000000</td>\n",
       "      <td>28.000000</td>\n",
       "      <td>0.000000</td>\n",
       "      <td>0.000000</td>\n",
       "      <td>14.454200</td>\n",
       "    </tr>\n",
       "    <tr>\n",
       "      <th>75%</th>\n",
       "      <td>668.500000</td>\n",
       "      <td>1.000000</td>\n",
       "      <td>38.000000</td>\n",
       "      <td>1.000000</td>\n",
       "      <td>0.000000</td>\n",
       "      <td>31.000000</td>\n",
       "    </tr>\n",
       "    <tr>\n",
       "      <th>max</th>\n",
       "      <td>891.000000</td>\n",
       "      <td>1.000000</td>\n",
       "      <td>80.000000</td>\n",
       "      <td>8.000000</td>\n",
       "      <td>6.000000</td>\n",
       "      <td>512.329200</td>\n",
       "    </tr>\n",
       "  </tbody>\n",
       "</table>\n",
       "</div>"
      ],
      "text/plain": [
       "       PassengerId    Survived         Age       SibSp       Parch        Fare\n",
       "count   891.000000  891.000000  714.000000  891.000000  891.000000  891.000000\n",
       "mean    446.000000    0.383838   29.699118    0.523008    0.381594   32.204208\n",
       "std     257.353842    0.486592   14.526497    1.102743    0.806057   49.693429\n",
       "min       1.000000    0.000000    0.420000    0.000000    0.000000    0.000000\n",
       "25%     223.500000    0.000000   20.125000    0.000000    0.000000    7.910400\n",
       "50%     446.000000    0.000000   28.000000    0.000000    0.000000   14.454200\n",
       "75%     668.500000    1.000000   38.000000    1.000000    0.000000   31.000000\n",
       "max     891.000000    1.000000   80.000000    8.000000    6.000000  512.329200"
      ]
     },
     "execution_count": 12,
     "metadata": {},
     "output_type": "execute_result"
    }
   ],
   "source": [
    "df.describe()"
   ]
  },
  {
   "cell_type": "code",
   "execution_count": 13,
   "id": "279c4057",
   "metadata": {
    "execution": {
     "iopub.execute_input": "2022-04-16T07:28:38.643878Z",
     "iopub.status.busy": "2022-04-16T07:28:38.643259Z",
     "iopub.status.idle": "2022-04-16T07:28:38.662526Z",
     "shell.execute_reply": "2022-04-16T07:28:38.661655Z"
    },
    "id": "laMZG81ghSrn",
    "outputId": "8a784e5c-4885-4dfd-e05e-1d65d61b9dea",
    "papermill": {
     "duration": 0.121066,
     "end_time": "2022-04-16T07:28:38.664798",
     "exception": false,
     "start_time": "2022-04-16T07:28:38.543732",
     "status": "completed"
    },
    "tags": []
   },
   "outputs": [
    {
     "data": {
      "text/html": [
       "<div>\n",
       "<style scoped>\n",
       "    .dataframe tbody tr th:only-of-type {\n",
       "        vertical-align: middle;\n",
       "    }\n",
       "\n",
       "    .dataframe tbody tr th {\n",
       "        vertical-align: top;\n",
       "    }\n",
       "\n",
       "    .dataframe thead th {\n",
       "        text-align: right;\n",
       "    }\n",
       "</style>\n",
       "<table border=\"1\" class=\"dataframe\">\n",
       "  <thead>\n",
       "    <tr style=\"text-align: right;\">\n",
       "      <th></th>\n",
       "      <th>Name</th>\n",
       "      <th>Ticket</th>\n",
       "      <th>Cabin</th>\n",
       "    </tr>\n",
       "  </thead>\n",
       "  <tbody>\n",
       "    <tr>\n",
       "      <th>count</th>\n",
       "      <td>891</td>\n",
       "      <td>891</td>\n",
       "      <td>204</td>\n",
       "    </tr>\n",
       "    <tr>\n",
       "      <th>unique</th>\n",
       "      <td>891</td>\n",
       "      <td>681</td>\n",
       "      <td>147</td>\n",
       "    </tr>\n",
       "    <tr>\n",
       "      <th>top</th>\n",
       "      <td>Braund, Mr. Owen Harris</td>\n",
       "      <td>347082</td>\n",
       "      <td>B96 B98</td>\n",
       "    </tr>\n",
       "    <tr>\n",
       "      <th>freq</th>\n",
       "      <td>1</td>\n",
       "      <td>7</td>\n",
       "      <td>4</td>\n",
       "    </tr>\n",
       "  </tbody>\n",
       "</table>\n",
       "</div>"
      ],
      "text/plain": [
       "                           Name  Ticket    Cabin\n",
       "count                       891     891      204\n",
       "unique                      891     681      147\n",
       "top     Braund, Mr. Owen Harris  347082  B96 B98\n",
       "freq                          1       7        4"
      ]
     },
     "execution_count": 13,
     "metadata": {},
     "output_type": "execute_result"
    }
   ],
   "source": [
    "df.describe(include=['O'])"
   ]
  },
  {
   "cell_type": "code",
   "execution_count": 14,
   "id": "b0ffc772",
   "metadata": {
    "execution": {
     "iopub.execute_input": "2022-04-16T07:28:38.859568Z",
     "iopub.status.busy": "2022-04-16T07:28:38.858894Z",
     "iopub.status.idle": "2022-04-16T07:28:38.881990Z",
     "shell.execute_reply": "2022-04-16T07:28:38.881076Z"
    },
    "id": "o-dObXW5hoG4",
    "papermill": {
     "duration": 0.12133,
     "end_time": "2022-04-16T07:28:38.884872",
     "exception": false,
     "start_time": "2022-04-16T07:28:38.763542",
     "status": "completed"
    },
    "tags": []
   },
   "outputs": [],
   "source": [
    "# analyze by pivoting features\n",
    "features_to_analyze = ['Pclass', 'SibSp', 'Parch', 'Sex']\n",
    "pivot_analyzation = {\n",
    "    feature: \n",
    "    df[[feature, 'Survived']].groupby(by=[feature], as_index=False).mean().sort_values(by=\"Survived\", ascending=False)\n",
    "    for feature in features_to_analyze\n",
    "}"
   ]
  },
  {
   "cell_type": "code",
   "execution_count": 15,
   "id": "119e3488",
   "metadata": {
    "execution": {
     "iopub.execute_input": "2022-04-16T07:28:39.077450Z",
     "iopub.status.busy": "2022-04-16T07:28:39.076843Z",
     "iopub.status.idle": "2022-04-16T07:28:39.087372Z",
     "shell.execute_reply": "2022-04-16T07:28:39.086669Z"
    },
    "id": "gf1yZKlknYg5",
    "outputId": "e2b7d94e-3993-42dd-8144-7b33f5cf9a14",
    "papermill": {
     "duration": 0.108497,
     "end_time": "2022-04-16T07:28:39.089956",
     "exception": false,
     "start_time": "2022-04-16T07:28:38.981459",
     "status": "completed"
    },
    "tags": []
   },
   "outputs": [
    {
     "data": {
      "text/html": [
       "<div>\n",
       "<style scoped>\n",
       "    .dataframe tbody tr th:only-of-type {\n",
       "        vertical-align: middle;\n",
       "    }\n",
       "\n",
       "    .dataframe tbody tr th {\n",
       "        vertical-align: top;\n",
       "    }\n",
       "\n",
       "    .dataframe thead th {\n",
       "        text-align: right;\n",
       "    }\n",
       "</style>\n",
       "<table border=\"1\" class=\"dataframe\">\n",
       "  <thead>\n",
       "    <tr style=\"text-align: right;\">\n",
       "      <th></th>\n",
       "      <th>Pclass</th>\n",
       "      <th>Survived</th>\n",
       "    </tr>\n",
       "  </thead>\n",
       "  <tbody>\n",
       "    <tr>\n",
       "      <th>0</th>\n",
       "      <td>1</td>\n",
       "      <td>0.629630</td>\n",
       "    </tr>\n",
       "    <tr>\n",
       "      <th>1</th>\n",
       "      <td>2</td>\n",
       "      <td>0.472826</td>\n",
       "    </tr>\n",
       "    <tr>\n",
       "      <th>2</th>\n",
       "      <td>3</td>\n",
       "      <td>0.242363</td>\n",
       "    </tr>\n",
       "  </tbody>\n",
       "</table>\n",
       "</div>"
      ],
      "text/plain": [
       "  Pclass  Survived\n",
       "0      1  0.629630\n",
       "1      2  0.472826\n",
       "2      3  0.242363"
      ]
     },
     "execution_count": 15,
     "metadata": {},
     "output_type": "execute_result"
    }
   ],
   "source": [
    "pivot_analyzation['Pclass']"
   ]
  },
  {
   "cell_type": "code",
   "execution_count": 16,
   "id": "78ac9c95",
   "metadata": {
    "execution": {
     "iopub.execute_input": "2022-04-16T07:28:39.284379Z",
     "iopub.status.busy": "2022-04-16T07:28:39.283764Z",
     "iopub.status.idle": "2022-04-16T07:28:39.293456Z",
     "shell.execute_reply": "2022-04-16T07:28:39.292807Z"
    },
    "id": "tpunEm9lqUQx",
    "outputId": "ef38b2ec-6d29-4e6c-9e2f-0ff7a2e5a2b0",
    "papermill": {
     "duration": 0.10999,
     "end_time": "2022-04-16T07:28:39.295672",
     "exception": false,
     "start_time": "2022-04-16T07:28:39.185682",
     "status": "completed"
    },
    "tags": []
   },
   "outputs": [
    {
     "data": {
      "text/html": [
       "<div>\n",
       "<style scoped>\n",
       "    .dataframe tbody tr th:only-of-type {\n",
       "        vertical-align: middle;\n",
       "    }\n",
       "\n",
       "    .dataframe tbody tr th {\n",
       "        vertical-align: top;\n",
       "    }\n",
       "\n",
       "    .dataframe thead th {\n",
       "        text-align: right;\n",
       "    }\n",
       "</style>\n",
       "<table border=\"1\" class=\"dataframe\">\n",
       "  <thead>\n",
       "    <tr style=\"text-align: right;\">\n",
       "      <th></th>\n",
       "      <th>Sex</th>\n",
       "      <th>Survived</th>\n",
       "    </tr>\n",
       "  </thead>\n",
       "  <tbody>\n",
       "    <tr>\n",
       "      <th>0</th>\n",
       "      <td>female</td>\n",
       "      <td>0.742038</td>\n",
       "    </tr>\n",
       "    <tr>\n",
       "      <th>1</th>\n",
       "      <td>male</td>\n",
       "      <td>0.188908</td>\n",
       "    </tr>\n",
       "  </tbody>\n",
       "</table>\n",
       "</div>"
      ],
      "text/plain": [
       "      Sex  Survived\n",
       "0  female  0.742038\n",
       "1    male  0.188908"
      ]
     },
     "execution_count": 16,
     "metadata": {},
     "output_type": "execute_result"
    }
   ],
   "source": [
    "pivot_analyzation['Sex']"
   ]
  },
  {
   "cell_type": "code",
   "execution_count": 17,
   "id": "53e3c25f",
   "metadata": {
    "execution": {
     "iopub.execute_input": "2022-04-16T07:28:39.488365Z",
     "iopub.status.busy": "2022-04-16T07:28:39.487779Z",
     "iopub.status.idle": "2022-04-16T07:28:39.497485Z",
     "shell.execute_reply": "2022-04-16T07:28:39.496756Z"
    },
    "id": "241vk8uuqVpB",
    "outputId": "bbd52dc0-574e-44ce-efd8-d98f78847f81",
    "papermill": {
     "duration": 0.108532,
     "end_time": "2022-04-16T07:28:39.499572",
     "exception": false,
     "start_time": "2022-04-16T07:28:39.391040",
     "status": "completed"
    },
    "tags": []
   },
   "outputs": [
    {
     "data": {
      "text/html": [
       "<div>\n",
       "<style scoped>\n",
       "    .dataframe tbody tr th:only-of-type {\n",
       "        vertical-align: middle;\n",
       "    }\n",
       "\n",
       "    .dataframe tbody tr th {\n",
       "        vertical-align: top;\n",
       "    }\n",
       "\n",
       "    .dataframe thead th {\n",
       "        text-align: right;\n",
       "    }\n",
       "</style>\n",
       "<table border=\"1\" class=\"dataframe\">\n",
       "  <thead>\n",
       "    <tr style=\"text-align: right;\">\n",
       "      <th></th>\n",
       "      <th>SibSp</th>\n",
       "      <th>Survived</th>\n",
       "    </tr>\n",
       "  </thead>\n",
       "  <tbody>\n",
       "    <tr>\n",
       "      <th>1</th>\n",
       "      <td>1</td>\n",
       "      <td>0.535885</td>\n",
       "    </tr>\n",
       "    <tr>\n",
       "      <th>2</th>\n",
       "      <td>2</td>\n",
       "      <td>0.464286</td>\n",
       "    </tr>\n",
       "    <tr>\n",
       "      <th>0</th>\n",
       "      <td>0</td>\n",
       "      <td>0.345395</td>\n",
       "    </tr>\n",
       "    <tr>\n",
       "      <th>3</th>\n",
       "      <td>3</td>\n",
       "      <td>0.250000</td>\n",
       "    </tr>\n",
       "    <tr>\n",
       "      <th>4</th>\n",
       "      <td>4</td>\n",
       "      <td>0.166667</td>\n",
       "    </tr>\n",
       "    <tr>\n",
       "      <th>5</th>\n",
       "      <td>5</td>\n",
       "      <td>0.000000</td>\n",
       "    </tr>\n",
       "    <tr>\n",
       "      <th>6</th>\n",
       "      <td>8</td>\n",
       "      <td>0.000000</td>\n",
       "    </tr>\n",
       "  </tbody>\n",
       "</table>\n",
       "</div>"
      ],
      "text/plain": [
       "   SibSp  Survived\n",
       "1      1  0.535885\n",
       "2      2  0.464286\n",
       "0      0  0.345395\n",
       "3      3  0.250000\n",
       "4      4  0.166667\n",
       "5      5  0.000000\n",
       "6      8  0.000000"
      ]
     },
     "execution_count": 17,
     "metadata": {},
     "output_type": "execute_result"
    }
   ],
   "source": [
    "pivot_analyzation['SibSp']"
   ]
  },
  {
   "cell_type": "code",
   "execution_count": 18,
   "id": "3fc14a3f",
   "metadata": {
    "execution": {
     "iopub.execute_input": "2022-04-16T07:28:39.701831Z",
     "iopub.status.busy": "2022-04-16T07:28:39.701334Z",
     "iopub.status.idle": "2022-04-16T07:28:39.711473Z",
     "shell.execute_reply": "2022-04-16T07:28:39.710656Z"
    },
    "id": "lHpIt7GiqW2p",
    "outputId": "bc17a7cf-30b1-4028-834c-f803b569cf2e",
    "papermill": {
     "duration": 0.11129,
     "end_time": "2022-04-16T07:28:39.713830",
     "exception": false,
     "start_time": "2022-04-16T07:28:39.602540",
     "status": "completed"
    },
    "tags": []
   },
   "outputs": [
    {
     "data": {
      "text/html": [
       "<div>\n",
       "<style scoped>\n",
       "    .dataframe tbody tr th:only-of-type {\n",
       "        vertical-align: middle;\n",
       "    }\n",
       "\n",
       "    .dataframe tbody tr th {\n",
       "        vertical-align: top;\n",
       "    }\n",
       "\n",
       "    .dataframe thead th {\n",
       "        text-align: right;\n",
       "    }\n",
       "</style>\n",
       "<table border=\"1\" class=\"dataframe\">\n",
       "  <thead>\n",
       "    <tr style=\"text-align: right;\">\n",
       "      <th></th>\n",
       "      <th>Parch</th>\n",
       "      <th>Survived</th>\n",
       "    </tr>\n",
       "  </thead>\n",
       "  <tbody>\n",
       "    <tr>\n",
       "      <th>3</th>\n",
       "      <td>3</td>\n",
       "      <td>0.600000</td>\n",
       "    </tr>\n",
       "    <tr>\n",
       "      <th>1</th>\n",
       "      <td>1</td>\n",
       "      <td>0.550847</td>\n",
       "    </tr>\n",
       "    <tr>\n",
       "      <th>2</th>\n",
       "      <td>2</td>\n",
       "      <td>0.500000</td>\n",
       "    </tr>\n",
       "    <tr>\n",
       "      <th>0</th>\n",
       "      <td>0</td>\n",
       "      <td>0.343658</td>\n",
       "    </tr>\n",
       "    <tr>\n",
       "      <th>5</th>\n",
       "      <td>5</td>\n",
       "      <td>0.200000</td>\n",
       "    </tr>\n",
       "    <tr>\n",
       "      <th>4</th>\n",
       "      <td>4</td>\n",
       "      <td>0.000000</td>\n",
       "    </tr>\n",
       "    <tr>\n",
       "      <th>6</th>\n",
       "      <td>6</td>\n",
       "      <td>0.000000</td>\n",
       "    </tr>\n",
       "  </tbody>\n",
       "</table>\n",
       "</div>"
      ],
      "text/plain": [
       "   Parch  Survived\n",
       "3      3  0.600000\n",
       "1      1  0.550847\n",
       "2      2  0.500000\n",
       "0      0  0.343658\n",
       "5      5  0.200000\n",
       "4      4  0.000000\n",
       "6      6  0.000000"
      ]
     },
     "execution_count": 18,
     "metadata": {},
     "output_type": "execute_result"
    }
   ],
   "source": [
    "pivot_analyzation['Parch']"
   ]
  },
  {
   "cell_type": "code",
   "execution_count": 19,
   "id": "7abac00a",
   "metadata": {
    "execution": {
     "iopub.execute_input": "2022-04-16T07:28:39.921055Z",
     "iopub.status.busy": "2022-04-16T07:28:39.920275Z",
     "iopub.status.idle": "2022-04-16T07:28:40.456689Z",
     "shell.execute_reply": "2022-04-16T07:28:40.455764Z"
    },
    "id": "Ywer2rKnqYYh",
    "outputId": "cc649324-de7c-48aa-94d5-92125991f3f5",
    "papermill": {
     "duration": 0.638539,
     "end_time": "2022-04-16T07:28:40.459111",
     "exception": false,
     "start_time": "2022-04-16T07:28:39.820572",
     "status": "completed"
    },
    "tags": []
   },
   "outputs": [
    {
     "data": {
      "text/plain": [
       "<seaborn.axisgrid.FacetGrid at 0x7fb6aae4e5d0>"
      ]
     },
     "execution_count": 19,
     "metadata": {},
     "output_type": "execute_result"
    },
    {
     "data": {
      "image/png": "[encoded data removed]",
      "text/plain": [
       "<Figure size 432x216 with 2 Axes>"
      ]
     },
     "metadata": {
      "needs_background": "light"
     },
     "output_type": "display_data"
    }
   ],
   "source": [
    "g = sns.FacetGrid(df, col='Survived')\n",
    "g.map(plt.hist, 'Age', bins=20)"
   ]
  },
  {
   "cell_type": "code",
   "execution_count": 20,
   "id": "083cecaf",
   "metadata": {
    "execution": {
     "iopub.execute_input": "2022-04-16T07:28:40.654238Z",
     "iopub.status.busy": "2022-04-16T07:28:40.653577Z",
     "iopub.status.idle": "2022-04-16T07:28:42.157039Z",
     "shell.execute_reply": "2022-04-16T07:28:42.156031Z"
    },
    "id": "lqwW73t4enEq",
    "outputId": "c860a56b-73e0-4733-86aa-bca356f6b472",
    "papermill": {
     "duration": 1.603963,
     "end_time": "2022-04-16T07:28:42.159415",
     "exception": false,
     "start_time": "2022-04-16T07:28:40.555452",
     "status": "completed"
    },
    "tags": []
   },
   "outputs": [
    {
     "data": {
      "text/plain": [
       "<seaborn.axisgrid.FacetGrid at 0x7fb6a74f1850>"
      ]
     },
     "execution_count": 20,
     "metadata": {},
     "output_type": "execute_result"
    },
    {
     "data": {
      "image/png": "[encoded data removed]",
      "text/plain": [
       "<Figure size 432x648 with 6 Axes>"
      ]
     },
     "metadata": {
      "needs_background": "light"
     },
     "output_type": "display_data"
    }
   ],
   "source": [
    "g = sns.FacetGrid(df, col='Survived', row='Pclass')\n",
    "g.map(plt.hist, 'Age', bins=20)"
   ]
  },
  {
   "cell_type": "code",
   "execution_count": 21,
   "id": "1f06dbab",
   "metadata": {
    "execution": {
     "iopub.execute_input": "2022-04-16T07:28:42.364207Z",
     "iopub.status.busy": "2022-04-16T07:28:42.363626Z",
     "iopub.status.idle": "2022-04-16T07:28:43.727518Z",
     "shell.execute_reply": "2022-04-16T07:28:43.726515Z"
    },
    "id": "cDU94G6yfFrb",
    "outputId": "d7f9d0b7-7b1c-41e2-f705-dfd01271c23a",
    "papermill": {
     "duration": 1.470687,
     "end_time": "2022-04-16T07:28:43.731909",
     "exception": false,
     "start_time": "2022-04-16T07:28:42.261222",
     "status": "completed"
    },
    "tags": []
   },
   "outputs": [
    {
     "name": "stderr",
     "output_type": "stream",
     "text": [
      "/opt/conda/lib/python3.7/site-packages/seaborn/axisgrid.py:670: UserWarning: Using the pointplot function without specifying `order` is likely to produce an incorrect plot.\n",
      "  warnings.warn(warning)\n",
      "/opt/conda/lib/python3.7/site-packages/seaborn/axisgrid.py:675: UserWarning: Using the pointplot function without specifying `hue_order` is likely to produce an incorrect plot.\n",
      "  warnings.warn(warning)\n"
     ]
    },
    {
     "data": {
      "text/plain": [
       "<seaborn.axisgrid.FacetGrid at 0x7fb6a7083dd0>"
      ]
     },
     "execution_count": 21,
     "metadata": {},
     "output_type": "execute_result"
    },
    {
     "data": {
      "image/png": "[encoded data removed]",
      "text/plain": [
       "<Figure size 286.5x648 with 3 Axes>"
      ]
     },
     "metadata": {
      "needs_background": "light"
     },
     "output_type": "display_data"
    }
   ],
   "source": [
    "g = sns.FacetGrid(df, row='Embarked')\n",
    "g.map(sns.pointplot, 'Pclass', 'Survived', 'Sex', palette='deep')\n",
    "g.add_legend()"
   ]
  },
  {
   "cell_type": "code",
   "execution_count": 22,
   "id": "f4713175",
   "metadata": {
    "execution": {
     "iopub.execute_input": "2022-04-16T07:28:43.939352Z",
     "iopub.status.busy": "2022-04-16T07:28:43.938374Z",
     "iopub.status.idle": "2022-04-16T07:28:45.220323Z",
     "shell.execute_reply": "2022-04-16T07:28:45.219386Z"
    },
    "id": "Ofr-Wfq5gZQs",
    "outputId": "1bd5d848-0541-4500-ee04-87d076b7b381",
    "papermill": {
     "duration": 1.387997,
     "end_time": "2022-04-16T07:28:45.222479",
     "exception": false,
     "start_time": "2022-04-16T07:28:43.834482",
     "status": "completed"
    },
    "tags": []
   },
   "outputs": [
    {
     "name": "stderr",
     "output_type": "stream",
     "text": [
      "/opt/conda/lib/python3.7/site-packages/seaborn/axisgrid.py:670: UserWarning: Using the barplot function without specifying `order` is likely to produce an incorrect plot.\n",
      "  warnings.warn(warning)\n"
     ]
    },
    {
     "data": {
      "text/plain": [
       "<seaborn.axisgrid.FacetGrid at 0x7fb6a6eddbd0>"
      ]
     },
     "execution_count": 22,
     "metadata": {},
     "output_type": "execute_result"
    },
    {
     "data": {
      "image/png": "[encoded data removed]",
      "text/plain": [
       "<Figure size 432x648 with 6 Axes>"
      ]
     },
     "metadata": {
      "needs_background": "light"
     },
     "output_type": "display_data"
    }
   ],
   "source": [
    "g= sns.FacetGrid(df, row='Embarked', col='Survived')\n",
    "g.map(sns.barplot, 'Sex', 'Fare')"
   ]
  },
  {
   "cell_type": "code",
   "execution_count": 23,
   "id": "38fccc06",
   "metadata": {
    "execution": {
     "iopub.execute_input": "2022-04-16T07:28:45.428475Z",
     "iopub.status.busy": "2022-04-16T07:28:45.427917Z",
     "iopub.status.idle": "2022-04-16T07:28:45.431255Z",
     "shell.execute_reply": "2022-04-16T07:28:45.430625Z"
    },
    "papermill": {
     "duration": 0.10906,
     "end_time": "2022-04-16T07:28:45.433095",
     "exception": false,
     "start_time": "2022-04-16T07:28:45.324035",
     "status": "completed"
    },
    "tags": []
   },
   "outputs": [],
   "source": [
    "#Feature Engineering: Cabin->Deck, Ticket->Ticket Frequency, Age-Fare=bin, Surname, Familiy_size"
   ]
  },
  {
   "cell_type": "code",
   "execution_count": 24,
   "id": "82591f65",
   "metadata": {
    "execution": {
     "iopub.execute_input": "2022-04-16T07:28:45.643827Z",
     "iopub.status.busy": "2022-04-16T07:28:45.642534Z",
     "iopub.status.idle": "2022-04-16T07:28:45.658646Z",
     "shell.execute_reply": "2022-04-16T07:28:45.657926Z"
    },
    "papermill": {
     "duration": 0.125101,
     "end_time": "2022-04-16T07:28:45.661341",
     "exception": false,
     "start_time": "2022-04-16T07:28:45.536240",
     "status": "completed"
    },
    "tags": []
   },
   "outputs": [],
   "source": [
    "df['Age'] = df.groupby(['Sex', 'Pclass'])['Age'].apply(lambda x: x.fillna(x.median()))"
   ]
  },
  {
   "cell_type": "code",
   "execution_count": 25,
   "id": "c25c3fe5",
   "metadata": {
    "execution": {
     "iopub.execute_input": "2022-04-16T07:28:45.876877Z",
     "iopub.status.busy": "2022-04-16T07:28:45.875961Z",
     "iopub.status.idle": "2022-04-16T07:28:45.887105Z",
     "shell.execute_reply": "2022-04-16T07:28:45.886503Z"
    },
    "papermill": {
     "duration": 0.117783,
     "end_time": "2022-04-16T07:28:45.889172",
     "exception": false,
     "start_time": "2022-04-16T07:28:45.771389",
     "status": "completed"
    },
    "tags": []
   },
   "outputs": [],
   "source": [
    "df_test['Age'] = df_test.groupby(['Sex', 'Pclass'])['Age'].apply(lambda x: x.fillna(x.median()))"
   ]
  },
  {
   "cell_type": "code",
   "execution_count": 26,
   "id": "9bc30e49",
   "metadata": {
    "execution": {
     "iopub.execute_input": "2022-04-16T07:28:46.095499Z",
     "iopub.status.busy": "2022-04-16T07:28:46.094822Z",
     "iopub.status.idle": "2022-04-16T07:28:46.111204Z",
     "shell.execute_reply": "2022-04-16T07:28:46.110534Z"
    },
    "papermill": {
     "duration": 0.122198,
     "end_time": "2022-04-16T07:28:46.113404",
     "exception": false,
     "start_time": "2022-04-16T07:28:45.991206",
     "status": "completed"
    },
    "tags": []
   },
   "outputs": [],
   "source": [
    "df['Fare'] = pd.qcut(df['Fare'], 10)\n",
    "df['Age'] = pd.qcut(df['Age'], 13, duplicates='drop')"
   ]
  },
  {
   "cell_type": "code",
   "execution_count": 27,
   "id": "48fe6468",
   "metadata": {
    "execution": {
     "iopub.execute_input": "2022-04-16T07:28:46.319089Z",
     "iopub.status.busy": "2022-04-16T07:28:46.318339Z",
     "iopub.status.idle": "2022-04-16T07:28:46.329231Z",
     "shell.execute_reply": "2022-04-16T07:28:46.328539Z"
    },
    "papermill": {
     "duration": 0.116382,
     "end_time": "2022-04-16T07:28:46.331499",
     "exception": false,
     "start_time": "2022-04-16T07:28:46.215117",
     "status": "completed"
    },
    "tags": []
   },
   "outputs": [],
   "source": [
    "df['FamilySize'] = df['SibSp'] + df['Parch'] + 1\n",
    "df_test['FamilySize'] = df_test['SibSp'] + df_test['Parch'] + 1\n",
    "family_map = {1: 'Alone', 2: 'Small', 3:'Small', 4:'Small', 5:'Medium', 6:'Medium', 7:'Large', 8:'Large', 11:'Large'}\n",
    "df['FamilyGroup'] = df['FamilySize'].map(family_map)\n",
    "df_test['FamilyGroup'] = df['FamilySize'].map(family_map)"
   ]
  },
  {
   "cell_type": "code",
   "execution_count": 28,
   "id": "6a9a2782",
   "metadata": {
    "execution": {
     "iopub.execute_input": "2022-04-16T07:28:46.541085Z",
     "iopub.status.busy": "2022-04-16T07:28:46.540643Z",
     "iopub.status.idle": "2022-04-16T07:28:46.549946Z",
     "shell.execute_reply": "2022-04-16T07:28:46.549102Z"
    },
    "papermill": {
     "duration": 0.118042,
     "end_time": "2022-04-16T07:28:46.552751",
     "exception": false,
     "start_time": "2022-04-16T07:28:46.434709",
     "status": "completed"
    },
    "tags": []
   },
   "outputs": [],
   "source": [
    "df.loc[df['Cabin'].isnull(),'Cabin'] = 'M'\n",
    "df_test.loc[df_test['Cabin'].isnull(), 'Cabin'] = 'M'\n",
    "df['Deck'] = df['Cabin'].apply(lambda x: x[0])\n",
    "df_test['Deck'] = df['Cabin'].apply(lambda x:x[0])"
   ]
  },
  {
   "cell_type": "code",
   "execution_count": 29,
   "id": "2b9128fa",
   "metadata": {
    "execution": {
     "iopub.execute_input": "2022-04-16T07:28:46.778869Z",
     "iopub.status.busy": "2022-04-16T07:28:46.778465Z",
     "iopub.status.idle": "2022-04-16T07:28:47.728942Z",
     "shell.execute_reply": "2022-04-16T07:28:47.728273Z"
    },
    "papermill": {
     "duration": 1.066761,
     "end_time": "2022-04-16T07:28:47.731484",
     "exception": false,
     "start_time": "2022-04-16T07:28:46.664723",
     "status": "completed"
    },
    "tags": []
   },
   "outputs": [],
   "source": [
    "df['TicketFrequency'] = np.nan\n",
    "for uv in df['Ticket'].unique():\n",
    "    num_ticket = (df['Ticket']==uv).sum()\n",
    "    df.loc[df['Ticket']==uv,'TicketFrequency'] = num_ticket\n",
    "    \n",
    "df_test['TicketFrequency'] = np.nan\n",
    "for uv in df_test['Ticket'].unique():\n",
    "    num_ticket = (df_test['Ticket']==uv).sum()\n",
    "    df_test.loc[df_test['Ticket']==uv,'TicketFrequency'] = num_ticket"
   ]
  },
  {
   "cell_type": "code",
   "execution_count": 30,
   "id": "d6c4a25a",
   "metadata": {
    "execution": {
     "iopub.execute_input": "2022-04-16T07:28:47.941621Z",
     "iopub.status.busy": "2022-04-16T07:28:47.940524Z",
     "iopub.status.idle": "2022-04-16T07:28:47.946513Z",
     "shell.execute_reply": "2022-04-16T07:28:47.945691Z"
    },
    "papermill": {
     "duration": 0.115745,
     "end_time": "2022-04-16T07:28:47.948976",
     "exception": false,
     "start_time": "2022-04-16T07:28:47.833231",
     "status": "completed"
    },
    "tags": []
   },
   "outputs": [],
   "source": [
    "ageinterval = pd.arrays.IntervalArray(df['Age'].unique())"
   ]
  },
  {
   "cell_type": "code",
   "execution_count": 31,
   "id": "f29241ac",
   "metadata": {
    "execution": {
     "iopub.execute_input": "2022-04-16T07:28:48.164065Z",
     "iopub.status.busy": "2022-04-16T07:28:48.163302Z",
     "iopub.status.idle": "2022-04-16T07:28:48.192410Z",
     "shell.execute_reply": "2022-04-16T07:28:48.191716Z"
    },
    "papermill": {
     "duration": 0.141081,
     "end_time": "2022-04-16T07:28:48.194420",
     "exception": false,
     "start_time": "2022-04-16T07:28:48.053339",
     "status": "completed"
    },
    "tags": []
   },
   "outputs": [
    {
     "data": {
      "text/plain": [
       "0      [(34.0, 38.0)]\n",
       "1      [(42.0, 50.0)]\n",
       "2      [(50.0, 80.0)]\n",
       "3      [(25.0, 28.0)]\n",
       "4      [(21.5, 23.0)]\n",
       "            ...      \n",
       "413    [(23.0, 25.0)]\n",
       "414    [(38.0, 42.0)]\n",
       "415    [(38.0, 42.0)]\n",
       "416    [(23.0, 25.0)]\n",
       "417    [(23.0, 25.0)]\n",
       "Name: Age, Length: 418, dtype: object"
      ]
     },
     "execution_count": 31,
     "metadata": {},
     "output_type": "execute_result"
    }
   ],
   "source": [
    "df_test['Age'].apply(lambda x: ageinterval.to_tuples()[ageinterval.contains(x)])"
   ]
  },
  {
   "cell_type": "code",
   "execution_count": 32,
   "id": "b2f27c50",
   "metadata": {
    "execution": {
     "iopub.execute_input": "2022-04-16T07:28:48.401318Z",
     "iopub.status.busy": "2022-04-16T07:28:48.400700Z",
     "iopub.status.idle": "2022-04-16T07:28:48.404207Z",
     "shell.execute_reply": "2022-04-16T07:28:48.403627Z"
    },
    "id": "PtHFJwOThQnt",
    "papermill": {
     "duration": 0.110443,
     "end_time": "2022-04-16T07:28:48.406433",
     "exception": false,
     "start_time": "2022-04-16T07:28:48.295990",
     "status": "completed"
    },
    "tags": []
   },
   "outputs": [],
   "source": [
    "#df = df.drop(['Cabin', 'Ticket'], axis=1)"
   ]
  },
  {
   "cell_type": "code",
   "execution_count": 33,
   "id": "1f8d2aec",
   "metadata": {
    "execution": {
     "iopub.execute_input": "2022-04-16T07:28:48.615327Z",
     "iopub.status.busy": "2022-04-16T07:28:48.614741Z",
     "iopub.status.idle": "2022-04-16T07:28:48.618248Z",
     "shell.execute_reply": "2022-04-16T07:28:48.617643Z"
    },
    "id": "kly7zEN5jaI2",
    "papermill": {
     "duration": 0.110306,
     "end_time": "2022-04-16T07:28:48.620600",
     "exception": false,
     "start_time": "2022-04-16T07:28:48.510294",
     "status": "completed"
    },
    "tags": []
   },
   "outputs": [],
   "source": [
    "#df_test = df_test.drop(['Cabin', 'Ticket'], axis=1)"
   ]
  },
  {
   "cell_type": "code",
   "execution_count": 34,
   "id": "855f1909",
   "metadata": {
    "execution": {
     "iopub.execute_input": "2022-04-16T07:28:48.829007Z",
     "iopub.status.busy": "2022-04-16T07:28:48.828438Z",
     "iopub.status.idle": "2022-04-16T07:28:48.833952Z",
     "shell.execute_reply": "2022-04-16T07:28:48.833068Z"
    },
    "id": "iPk_5Hk3kG5P",
    "papermill": {
     "duration": 0.112291,
     "end_time": "2022-04-16T07:28:48.836022",
     "exception": false,
     "start_time": "2022-04-16T07:28:48.723731",
     "status": "completed"
    },
    "tags": []
   },
   "outputs": [],
   "source": [
    "df_test_pi = df_test.copy()['PassengerId']"
   ]
  },
  {
   "cell_type": "code",
   "execution_count": 35,
   "id": "eba4f7ad",
   "metadata": {
    "execution": {
     "iopub.execute_input": "2022-04-16T07:28:49.043472Z",
     "iopub.status.busy": "2022-04-16T07:28:49.043034Z",
     "iopub.status.idle": "2022-04-16T07:28:49.079411Z",
     "shell.execute_reply": "2022-04-16T07:28:49.078763Z"
    },
    "id": "CJvy9qNDkTt-",
    "outputId": "59da43b7-78ff-43e5-d28f-1f6e181675d3",
    "papermill": {
     "duration": 0.142526,
     "end_time": "2022-04-16T07:28:49.081421",
     "exception": false,
     "start_time": "2022-04-16T07:28:48.938895",
     "status": "completed"
    },
    "tags": []
   },
   "outputs": [
    {
     "data": {
      "text/html": [
       "<div>\n",
       "<style scoped>\n",
       "    .dataframe tbody tr th:only-of-type {\n",
       "        vertical-align: middle;\n",
       "    }\n",
       "\n",
       "    .dataframe tbody tr th {\n",
       "        vertical-align: top;\n",
       "    }\n",
       "\n",
       "    .dataframe thead th {\n",
       "        text-align: right;\n",
       "    }\n",
       "</style>\n",
       "<table border=\"1\" class=\"dataframe\">\n",
       "  <thead>\n",
       "    <tr style=\"text-align: right;\">\n",
       "      <th>Sex</th>\n",
       "      <th>female</th>\n",
       "      <th>male</th>\n",
       "    </tr>\n",
       "    <tr>\n",
       "      <th>Title</th>\n",
       "      <th></th>\n",
       "      <th></th>\n",
       "    </tr>\n",
       "  </thead>\n",
       "  <tbody>\n",
       "    <tr>\n",
       "      <th>Capt</th>\n",
       "      <td>0</td>\n",
       "      <td>1</td>\n",
       "    </tr>\n",
       "    <tr>\n",
       "      <th>Col</th>\n",
       "      <td>0</td>\n",
       "      <td>2</td>\n",
       "    </tr>\n",
       "    <tr>\n",
       "      <th>Countess</th>\n",
       "      <td>1</td>\n",
       "      <td>0</td>\n",
       "    </tr>\n",
       "    <tr>\n",
       "      <th>Don</th>\n",
       "      <td>0</td>\n",
       "      <td>1</td>\n",
       "    </tr>\n",
       "    <tr>\n",
       "      <th>Dr</th>\n",
       "      <td>1</td>\n",
       "      <td>6</td>\n",
       "    </tr>\n",
       "    <tr>\n",
       "      <th>Jonkheer</th>\n",
       "      <td>0</td>\n",
       "      <td>1</td>\n",
       "    </tr>\n",
       "    <tr>\n",
       "      <th>Lady</th>\n",
       "      <td>1</td>\n",
       "      <td>0</td>\n",
       "    </tr>\n",
       "    <tr>\n",
       "      <th>Major</th>\n",
       "      <td>0</td>\n",
       "      <td>2</td>\n",
       "    </tr>\n",
       "    <tr>\n",
       "      <th>Master</th>\n",
       "      <td>0</td>\n",
       "      <td>40</td>\n",
       "    </tr>\n",
       "    <tr>\n",
       "      <th>Miss</th>\n",
       "      <td>182</td>\n",
       "      <td>0</td>\n",
       "    </tr>\n",
       "    <tr>\n",
       "      <th>Mlle</th>\n",
       "      <td>2</td>\n",
       "      <td>0</td>\n",
       "    </tr>\n",
       "    <tr>\n",
       "      <th>Mme</th>\n",
       "      <td>1</td>\n",
       "      <td>0</td>\n",
       "    </tr>\n",
       "    <tr>\n",
       "      <th>Mr</th>\n",
       "      <td>0</td>\n",
       "      <td>517</td>\n",
       "    </tr>\n",
       "    <tr>\n",
       "      <th>Mrs</th>\n",
       "      <td>125</td>\n",
       "      <td>0</td>\n",
       "    </tr>\n",
       "    <tr>\n",
       "      <th>Ms</th>\n",
       "      <td>1</td>\n",
       "      <td>0</td>\n",
       "    </tr>\n",
       "    <tr>\n",
       "      <th>Rev</th>\n",
       "      <td>0</td>\n",
       "      <td>6</td>\n",
       "    </tr>\n",
       "    <tr>\n",
       "      <th>Sir</th>\n",
       "      <td>0</td>\n",
       "      <td>1</td>\n",
       "    </tr>\n",
       "  </tbody>\n",
       "</table>\n",
       "</div>"
      ],
      "text/plain": [
       "Sex       female  male\n",
       "Title                 \n",
       "Capt           0     1\n",
       "Col            0     2\n",
       "Countess       1     0\n",
       "Don            0     1\n",
       "Dr             1     6\n",
       "Jonkheer       0     1\n",
       "Lady           1     0\n",
       "Major          0     2\n",
       "Master         0    40\n",
       "Miss         182     0\n",
       "Mlle           2     0\n",
       "Mme            1     0\n",
       "Mr             0   517\n",
       "Mrs          125     0\n",
       "Ms             1     0\n",
       "Rev            0     6\n",
       "Sir            0     1"
      ]
     },
     "execution_count": 35,
     "metadata": {},
     "output_type": "execute_result"
    }
   ],
   "source": [
    "combine = [df, df_test]\n",
    "for dataset in combine:\n",
    "    dataset['Title'] = dataset['Name'].str.extract(' ([A-Za-z]+)\\.', expand=False)\n",
    "\n",
    "pd.crosstab(df['Title'], df['Sex'])"
   ]
  },
  {
   "cell_type": "code",
   "execution_count": 36,
   "id": "fe49dbd7",
   "metadata": {
    "execution": {
     "iopub.execute_input": "2022-04-16T07:28:49.287342Z",
     "iopub.status.busy": "2022-04-16T07:28:49.286853Z",
     "iopub.status.idle": "2022-04-16T07:28:49.308475Z",
     "shell.execute_reply": "2022-04-16T07:28:49.307819Z"
    },
    "id": "FySONWVvlHcM",
    "outputId": "be9937f7-d3c6-432e-87e6-f28bfe27fa9a",
    "papermill": {
     "duration": 0.127221,
     "end_time": "2022-04-16T07:28:49.310514",
     "exception": false,
     "start_time": "2022-04-16T07:28:49.183293",
     "status": "completed"
    },
    "tags": []
   },
   "outputs": [
    {
     "data": {
      "text/html": [
       "<div>\n",
       "<style scoped>\n",
       "    .dataframe tbody tr th:only-of-type {\n",
       "        vertical-align: middle;\n",
       "    }\n",
       "\n",
       "    .dataframe tbody tr th {\n",
       "        vertical-align: top;\n",
       "    }\n",
       "\n",
       "    .dataframe thead th {\n",
       "        text-align: right;\n",
       "    }\n",
       "</style>\n",
       "<table border=\"1\" class=\"dataframe\">\n",
       "  <thead>\n",
       "    <tr style=\"text-align: right;\">\n",
       "      <th></th>\n",
       "      <th>Title</th>\n",
       "      <th>Survived</th>\n",
       "    </tr>\n",
       "  </thead>\n",
       "  <tbody>\n",
       "    <tr>\n",
       "      <th>0</th>\n",
       "      <td>Master</td>\n",
       "      <td>0.575000</td>\n",
       "    </tr>\n",
       "    <tr>\n",
       "      <th>1</th>\n",
       "      <td>Miss</td>\n",
       "      <td>0.702703</td>\n",
       "    </tr>\n",
       "    <tr>\n",
       "      <th>2</th>\n",
       "      <td>Mr</td>\n",
       "      <td>0.156673</td>\n",
       "    </tr>\n",
       "    <tr>\n",
       "      <th>3</th>\n",
       "      <td>Mrs</td>\n",
       "      <td>0.793651</td>\n",
       "    </tr>\n",
       "    <tr>\n",
       "      <th>4</th>\n",
       "      <td>Rare</td>\n",
       "      <td>0.347826</td>\n",
       "    </tr>\n",
       "  </tbody>\n",
       "</table>\n",
       "</div>"
      ],
      "text/plain": [
       "    Title  Survived\n",
       "0  Master  0.575000\n",
       "1    Miss  0.702703\n",
       "2      Mr  0.156673\n",
       "3     Mrs  0.793651\n",
       "4    Rare  0.347826"
      ]
     },
     "execution_count": 36,
     "metadata": {},
     "output_type": "execute_result"
    }
   ],
   "source": [
    "for dataset in combine:\n",
    "    dataset['Title'] = dataset['Title'].replace(['Capt', 'Col', 'Countess', 'Don', 'Dr', 'Jonkheer', 'Lady', 'Major', 'Rev', 'Sir'], 'Rare')\n",
    "    dataset['Title'] = dataset['Title'].replace('Mlle', 'Miss')\n",
    "    dataset['Title'] = dataset['Title'].replace('Ms', 'Miss')\n",
    "    dataset['Title'] = dataset['Title'].replace('Mme', 'Mrs')\n",
    "    \n",
    "df[['Survived', 'Title']].groupby('Title', as_index=False).mean()"
   ]
  },
  {
   "cell_type": "code",
   "execution_count": 37,
   "id": "f9c7f343",
   "metadata": {
    "execution": {
     "iopub.execute_input": "2022-04-16T07:28:49.523287Z",
     "iopub.status.busy": "2022-04-16T07:28:49.522808Z",
     "iopub.status.idle": "2022-04-16T07:28:49.532798Z",
     "shell.execute_reply": "2022-04-16T07:28:49.532165Z"
    },
    "id": "0QqBj0dfmBWa",
    "outputId": "ba8ab140-5795-4bcc-a3be-694d44f3a131",
    "papermill": {
     "duration": 0.118688,
     "end_time": "2022-04-16T07:28:49.535009",
     "exception": false,
     "start_time": "2022-04-16T07:28:49.416321",
     "status": "completed"
    },
    "tags": []
   },
   "outputs": [
    {
     "data": {
      "text/plain": [
       "PassengerId        1.000000\n",
       "Survived           1.000000\n",
       "Pclass             1.000000\n",
       "Name               1.000000\n",
       "Sex                1.000000\n",
       "Age                1.000000\n",
       "SibSp              1.000000\n",
       "Parch              1.000000\n",
       "Ticket             1.000000\n",
       "Fare               1.000000\n",
       "Cabin              1.000000\n",
       "Embarked           0.997755\n",
       "FamilySize         1.000000\n",
       "FamilyGroup        1.000000\n",
       "Deck               1.000000\n",
       "TicketFrequency    1.000000\n",
       "Title              1.000000\n",
       "dtype: float64"
      ]
     },
     "execution_count": 37,
     "metadata": {},
     "output_type": "execute_result"
    }
   ],
   "source": [
    "df.notnull().mean()"
   ]
  },
  {
   "cell_type": "code",
   "execution_count": null,
   "id": "bd177588",
   "metadata": {
    "id": "5sWn6TR0RvOl",
    "papermill": {
     "duration": 0.104723,
     "end_time": "2022-04-16T07:28:49.744929",
     "exception": false,
     "start_time": "2022-04-16T07:28:49.640206",
     "status": "completed"
    },
    "tags": []
   },
   "outputs": [],
   "source": []
  },
  {
   "cell_type": "code",
   "execution_count": 38,
   "id": "f32ccc4a",
   "metadata": {
    "execution": {
     "iopub.execute_input": "2022-04-16T07:28:49.957868Z",
     "iopub.status.busy": "2022-04-16T07:28:49.957208Z",
     "iopub.status.idle": "2022-04-16T07:28:49.964968Z",
     "shell.execute_reply": "2022-04-16T07:28:49.964151Z"
    },
    "id": "LtmY8kIKRaU3",
    "papermill": {
     "duration": 0.11943,
     "end_time": "2022-04-16T07:28:49.967543",
     "exception": false,
     "start_time": "2022-04-16T07:28:49.848113",
     "status": "completed"
    },
    "tags": []
   },
   "outputs": [],
   "source": [
    "for dataset in combine:\n",
    "    dataset.drop(['Name', 'PassengerId', 'Cabin'], axis=1, inplace=True)"
   ]
  },
  {
   "cell_type": "code",
   "execution_count": 39,
   "id": "1d5a42cb",
   "metadata": {
    "execution": {
     "iopub.execute_input": "2022-04-16T07:28:50.178807Z",
     "iopub.status.busy": "2022-04-16T07:28:50.178413Z",
     "iopub.status.idle": "2022-04-16T07:28:50.186090Z",
     "shell.execute_reply": "2022-04-16T07:28:50.185361Z"
    },
    "id": "LEOksg5ORw_c",
    "papermill": {
     "duration": 0.114202,
     "end_time": "2022-04-16T07:28:50.187886",
     "exception": false,
     "start_time": "2022-04-16T07:28:50.073684",
     "status": "completed"
    },
    "tags": []
   },
   "outputs": [],
   "source": [
    "def categorify(df, df_test, dep_var='Survived', exclude=[]):\n",
    "    df = df.copy()\n",
    "    df_test = df_test.copy()\n",
    "    new = pd.concat([df, df_test]).drop([dep_var]+exclude, axis=1)\n",
    "    dicts = {str(col): {k[1]:k[0] for k in enumerate(new[col].unique())} for col in new}\n",
    "    for key, val in dicts.items():\n",
    "        df[key] = df[key].map(val).astype(float)\n",
    "        df_test[key] = df_test[key].map(val).astype(float)\n",
    "    return df, df_test"
   ]
  },
  {
   "cell_type": "code",
   "execution_count": 40,
   "id": "135b4757",
   "metadata": {
    "execution": {
     "iopub.execute_input": "2022-04-16T07:28:50.396076Z",
     "iopub.status.busy": "2022-04-16T07:28:50.395463Z",
     "iopub.status.idle": "2022-04-16T07:28:50.401710Z",
     "shell.execute_reply": "2022-04-16T07:28:50.401092Z"
    },
    "id": "T__tYEgjRu5P",
    "papermill": {
     "duration": 0.11303,
     "end_time": "2022-04-16T07:28:50.403789",
     "exception": false,
     "start_time": "2022-04-16T07:28:50.290759",
     "status": "completed"
    },
    "tags": []
   },
   "outputs": [
    {
     "data": {
      "text/plain": [
       "\"def categorify(df, df_test):\\n    df = df.copy()\\n    df_test = df_test.copy()\\n    new = pd.concat([df, df_test])\\n    sexdict = {k[1]: k[0] for k in enumerate(new['Sex'].unique())}\\n    embdict = {k[1]: k[0] for k in enumerate(new['Embarked'].unique())}\\n    titdict = {k[1]: k[0] for k in enumerate(new['Title'].unique())}\\n    pardict = {k[1]: k[0] for k in enumerate(new['Parch'].unique())}\\n    pcldict = {k[1]: k[0] for k in enumerate(new['Pclass'].astype(int).unique())}\\n    sibdict = {k[1]: k[0] for k in enumerate(new['SibSp'].astype(int).unique())}\\n    dicts = {'Sex': sexdict, 'Embarked': embdict, 'Title': titdict, 'Parch': pardict, 'Pclass': pcldict, 'SibSp':sibdict}\\n    for key, val in dicts.items():\\n        df[key] = df[key].map(val).astype(float)\\n        df_test[key] = df_test[key].map(val).astype(float)\\n    return df, df_test\""
      ]
     },
     "execution_count": 40,
     "metadata": {},
     "output_type": "execute_result"
    }
   ],
   "source": [
    "\"\"\"def categorify(df, df_test):\n",
    "    df = df.copy()\n",
    "    df_test = df_test.copy()\n",
    "    new = pd.concat([df, df_test])\n",
    "    sexdict = {k[1]: k[0] for k in enumerate(new['Sex'].unique())}\n",
    "    embdict = {k[1]: k[0] for k in enumerate(new['Embarked'].unique())}\n",
    "    titdict = {k[1]: k[0] for k in enumerate(new['Title'].unique())}\n",
    "    pardict = {k[1]: k[0] for k in enumerate(new['Parch'].unique())}\n",
    "    pcldict = {k[1]: k[0] for k in enumerate(new['Pclass'].astype(int).unique())}\n",
    "    sibdict = {k[1]: k[0] for k in enumerate(new['SibSp'].astype(int).unique())}\n",
    "    dicts = {'Sex': sexdict, 'Embarked': embdict, 'Title': titdict, 'Parch': pardict, 'Pclass': pcldict, 'SibSp':sibdict}\n",
    "    for key, val in dicts.items():\n",
    "        df[key] = df[key].map(val).astype(float)\n",
    "        df_test[key] = df_test[key].map(val).astype(float)\n",
    "    return df, df_test\"\"\""
   ]
  },
  {
   "cell_type": "code",
   "execution_count": 41,
   "id": "70bffa92",
   "metadata": {
    "execution": {
     "iopub.execute_input": "2022-04-16T07:28:50.618803Z",
     "iopub.status.busy": "2022-04-16T07:28:50.618228Z",
     "iopub.status.idle": "2022-04-16T07:28:50.664260Z",
     "shell.execute_reply": "2022-04-16T07:28:50.663144Z"
    },
    "id": "0rxZxlvBkFQF",
    "papermill": {
     "duration": 0.157553,
     "end_time": "2022-04-16T07:28:50.666980",
     "exception": false,
     "start_time": "2022-04-16T07:28:50.509427",
     "status": "completed"
    },
    "tags": []
   },
   "outputs": [],
   "source": [
    "combine = [df, df_test]\n",
    "df, df_test = categorify(df, df_test)"
   ]
  },
  {
   "cell_type": "code",
   "execution_count": null,
   "id": "7799cb82",
   "metadata": {
    "papermill": {
     "duration": 0.105007,
     "end_time": "2022-04-16T07:28:50.879319",
     "exception": false,
     "start_time": "2022-04-16T07:28:50.774312",
     "status": "completed"
    },
    "tags": []
   },
   "outputs": [],
   "source": []
  },
  {
   "cell_type": "code",
   "execution_count": 42,
   "id": "aa16a935",
   "metadata": {
    "execution": {
     "iopub.execute_input": "2022-04-16T07:28:51.093500Z",
     "iopub.status.busy": "2022-04-16T07:28:51.092877Z",
     "iopub.status.idle": "2022-04-16T07:28:51.152103Z",
     "shell.execute_reply": "2022-04-16T07:28:51.151198Z"
    },
    "id": "Enjs4jzPWAyz",
    "papermill": {
     "duration": 0.169796,
     "end_time": "2022-04-16T07:28:51.155280",
     "exception": false,
     "start_time": "2022-04-16T07:28:50.985484",
     "status": "completed"
    },
    "tags": []
   },
   "outputs": [],
   "source": [
    "from sklearn.impute import KNNImputer"
   ]
  },
  {
   "cell_type": "code",
   "execution_count": 43,
   "id": "6efa33c0",
   "metadata": {
    "execution": {
     "iopub.execute_input": "2022-04-16T07:28:51.366662Z",
     "iopub.status.busy": "2022-04-16T07:28:51.365923Z",
     "iopub.status.idle": "2022-04-16T07:28:51.369871Z",
     "shell.execute_reply": "2022-04-16T07:28:51.369218Z"
    },
    "id": "5aaZNHRIWH5z",
    "papermill": {
     "duration": 0.111585,
     "end_time": "2022-04-16T07:28:51.371935",
     "exception": false,
     "start_time": "2022-04-16T07:28:51.260350",
     "status": "completed"
    },
    "tags": []
   },
   "outputs": [],
   "source": [
    "imp = KNNImputer()"
   ]
  },
  {
   "cell_type": "code",
   "execution_count": 44,
   "id": "33d00ffb",
   "metadata": {
    "execution": {
     "iopub.execute_input": "2022-04-16T07:28:51.607807Z",
     "iopub.status.busy": "2022-04-16T07:28:51.607084Z",
     "iopub.status.idle": "2022-04-16T07:28:51.617025Z",
     "shell.execute_reply": "2022-04-16T07:28:51.616337Z"
    },
    "id": "Tz-7xXmdRB-V",
    "papermill": {
     "duration": 0.142437,
     "end_time": "2022-04-16T07:28:51.620261",
     "exception": false,
     "start_time": "2022-04-16T07:28:51.477824",
     "status": "completed"
    },
    "tags": []
   },
   "outputs": [],
   "source": [
    "df = pd.DataFrame(imp.fit_transform(df.values), columns=df.columns)\n",
    "df_test = pd.DataFrame(imp.fit_transform(df_test.values), columns=df_test.columns)"
   ]
  },
  {
   "cell_type": "code",
   "execution_count": 45,
   "id": "11a626a2",
   "metadata": {
    "execution": {
     "iopub.execute_input": "2022-04-16T07:28:51.851711Z",
     "iopub.status.busy": "2022-04-16T07:28:51.851062Z",
     "iopub.status.idle": "2022-04-16T07:28:51.857175Z",
     "shell.execute_reply": "2022-04-16T07:28:51.856461Z"
    },
    "id": "_2PeISJITa_-",
    "papermill": {
     "duration": 0.122409,
     "end_time": "2022-04-16T07:28:51.860249",
     "exception": false,
     "start_time": "2022-04-16T07:28:51.737840",
     "status": "completed"
    },
    "tags": []
   },
   "outputs": [],
   "source": [
    "df['Embarked'] = df['Embarked'].astype(int)\n",
    "df_test['Embarked'] = df_test['Embarked'].astype(int)"
   ]
  },
  {
   "cell_type": "code",
   "execution_count": 46,
   "id": "fce77cb6",
   "metadata": {
    "execution": {
     "iopub.execute_input": "2022-04-16T07:28:52.082272Z",
     "iopub.status.busy": "2022-04-16T07:28:52.081626Z",
     "iopub.status.idle": "2022-04-16T07:28:52.098924Z",
     "shell.execute_reply": "2022-04-16T07:28:52.098090Z"
    },
    "id": "QrXJ6LlVSKgU",
    "outputId": "59c36e25-6db4-4b25-cca5-6f6947b544fc",
    "papermill": {
     "duration": 0.127595,
     "end_time": "2022-04-16T07:28:52.102326",
     "exception": false,
     "start_time": "2022-04-16T07:28:51.974731",
     "status": "completed"
    },
    "tags": []
   },
   "outputs": [
    {
     "name": "stdout",
     "output_type": "stream",
     "text": [
      "key: Survived, unique: 2\n",
      "key: Pclass, unique: 3\n",
      "key: Sex, unique: 2\n",
      "key: Age, unique: 12\n",
      "key: SibSp, unique: 7\n",
      "key: Parch, unique: 7\n",
      "key: Ticket, unique: 681\n",
      "key: Fare, unique: 10\n",
      "key: Embarked, unique: 3\n",
      "key: FamilySize, unique: 9\n",
      "key: FamilyGroup, unique: 4\n",
      "key: Deck, unique: 9\n",
      "key: TicketFrequency, unique: 7\n",
      "key: Title, unique: 5\n",
      "----------\n",
      "key: Pclass, unique: 3\n",
      "key: Sex, unique: 2\n",
      "key: Age, unique: 12\n",
      "key: SibSp, unique: 7\n",
      "key: Parch, unique: 7\n",
      "key: Ticket, unique: 681\n",
      "key: Fare, unique: 10\n",
      "key: Embarked, unique: 3\n",
      "key: FamilySize, unique: 9\n",
      "key: FamilyGroup, unique: 4\n",
      "key: Deck, unique: 9\n",
      "key: TicketFrequency, unique: 7\n",
      "key: Title, unique: 5\n"
     ]
    }
   ],
   "source": [
    "for i in df:\n",
    "    print(f'key: {i}, unique: {df[i].nunique()}')\n",
    "print('-'*10)\n",
    "for i in df_test:\n",
    "    print(f'key: {i}, unique: {df[i].nunique()}') "
   ]
  },
  {
   "cell_type": "code",
   "execution_count": 47,
   "id": "9be65ca5",
   "metadata": {
    "execution": {
     "iopub.execute_input": "2022-04-16T07:28:52.315547Z",
     "iopub.status.busy": "2022-04-16T07:28:52.314515Z",
     "iopub.status.idle": "2022-04-16T07:28:52.351078Z",
     "shell.execute_reply": "2022-04-16T07:28:52.350062Z"
    },
    "id": "FP2J1a09lEFc",
    "outputId": "9a31fc88-afde-41b3-924e-2d43a303a33f",
    "papermill": {
     "duration": 0.145815,
     "end_time": "2022-04-16T07:28:52.353523",
     "exception": false,
     "start_time": "2022-04-16T07:28:52.207708",
     "status": "completed"
    },
    "tags": []
   },
   "outputs": [
    {
     "data": {
      "text/html": [
       "<div>\n",
       "<style scoped>\n",
       "    .dataframe tbody tr th:only-of-type {\n",
       "        vertical-align: middle;\n",
       "    }\n",
       "\n",
       "    .dataframe tbody tr th {\n",
       "        vertical-align: top;\n",
       "    }\n",
       "\n",
       "    .dataframe thead th {\n",
       "        text-align: right;\n",
       "    }\n",
       "</style>\n",
       "<table border=\"1\" class=\"dataframe\">\n",
       "  <thead>\n",
       "    <tr style=\"text-align: right;\">\n",
       "      <th></th>\n",
       "      <th>Pclass</th>\n",
       "      <th>Sex</th>\n",
       "      <th>Age</th>\n",
       "      <th>SibSp</th>\n",
       "      <th>Parch</th>\n",
       "      <th>Ticket</th>\n",
       "      <th>Fare</th>\n",
       "      <th>Embarked</th>\n",
       "      <th>FamilySize</th>\n",
       "      <th>FamilyGroup</th>\n",
       "      <th>Deck</th>\n",
       "      <th>TicketFrequency</th>\n",
       "      <th>Title</th>\n",
       "    </tr>\n",
       "  </thead>\n",
       "  <tbody>\n",
       "    <tr>\n",
       "      <th>0</th>\n",
       "      <td>0.0</td>\n",
       "      <td>0.0</td>\n",
       "      <td>12.0</td>\n",
       "      <td>1.0</td>\n",
       "      <td>0.0</td>\n",
       "      <td>681.0</td>\n",
       "      <td>10.0</td>\n",
       "      <td>2</td>\n",
       "      <td>1.0</td>\n",
       "      <td>0.0</td>\n",
       "      <td>0.0</td>\n",
       "      <td>0.0</td>\n",
       "      <td>0.0</td>\n",
       "    </tr>\n",
       "    <tr>\n",
       "      <th>1</th>\n",
       "      <td>0.0</td>\n",
       "      <td>1.0</td>\n",
       "      <td>13.0</td>\n",
       "      <td>0.0</td>\n",
       "      <td>0.0</td>\n",
       "      <td>682.0</td>\n",
       "      <td>11.0</td>\n",
       "      <td>0</td>\n",
       "      <td>0.0</td>\n",
       "      <td>0.0</td>\n",
       "      <td>1.0</td>\n",
       "      <td>0.0</td>\n",
       "      <td>1.0</td>\n",
       "    </tr>\n",
       "    <tr>\n",
       "      <th>2</th>\n",
       "      <td>2.0</td>\n",
       "      <td>0.0</td>\n",
       "      <td>14.0</td>\n",
       "      <td>1.0</td>\n",
       "      <td>0.0</td>\n",
       "      <td>683.0</td>\n",
       "      <td>12.0</td>\n",
       "      <td>2</td>\n",
       "      <td>1.0</td>\n",
       "      <td>1.0</td>\n",
       "      <td>0.0</td>\n",
       "      <td>0.0</td>\n",
       "      <td>0.0</td>\n",
       "    </tr>\n",
       "    <tr>\n",
       "      <th>3</th>\n",
       "      <td>0.0</td>\n",
       "      <td>0.0</td>\n",
       "      <td>15.0</td>\n",
       "      <td>1.0</td>\n",
       "      <td>0.0</td>\n",
       "      <td>684.0</td>\n",
       "      <td>13.0</td>\n",
       "      <td>0</td>\n",
       "      <td>1.0</td>\n",
       "      <td>0.0</td>\n",
       "      <td>1.0</td>\n",
       "      <td>0.0</td>\n",
       "      <td>0.0</td>\n",
       "    </tr>\n",
       "    <tr>\n",
       "      <th>4</th>\n",
       "      <td>0.0</td>\n",
       "      <td>1.0</td>\n",
       "      <td>16.0</td>\n",
       "      <td>0.0</td>\n",
       "      <td>1.0</td>\n",
       "      <td>405.0</td>\n",
       "      <td>14.0</td>\n",
       "      <td>0</td>\n",
       "      <td>3.0</td>\n",
       "      <td>1.0</td>\n",
       "      <td>0.0</td>\n",
       "      <td>0.0</td>\n",
       "      <td>1.0</td>\n",
       "    </tr>\n",
       "    <tr>\n",
       "      <th>...</th>\n",
       "      <td>...</td>\n",
       "      <td>...</td>\n",
       "      <td>...</td>\n",
       "      <td>...</td>\n",
       "      <td>...</td>\n",
       "      <td>...</td>\n",
       "      <td>...</td>\n",
       "      <td>...</td>\n",
       "      <td>...</td>\n",
       "      <td>...</td>\n",
       "      <td>...</td>\n",
       "      <td>...</td>\n",
       "      <td>...</td>\n",
       "    </tr>\n",
       "    <tr>\n",
       "      <th>413</th>\n",
       "      <td>0.0</td>\n",
       "      <td>0.0</td>\n",
       "      <td>22.0</td>\n",
       "      <td>1.0</td>\n",
       "      <td>0.0</td>\n",
       "      <td>926.0</td>\n",
       "      <td>41.0</td>\n",
       "      <td>0</td>\n",
       "      <td>1.0</td>\n",
       "      <td>1.0</td>\n",
       "      <td>0.0</td>\n",
       "      <td>0.0</td>\n",
       "      <td>0.0</td>\n",
       "    </tr>\n",
       "    <tr>\n",
       "      <th>414</th>\n",
       "      <td>1.0</td>\n",
       "      <td>1.0</td>\n",
       "      <td>37.0</td>\n",
       "      <td>1.0</td>\n",
       "      <td>0.0</td>\n",
       "      <td>273.0</td>\n",
       "      <td>178.0</td>\n",
       "      <td>1</td>\n",
       "      <td>1.0</td>\n",
       "      <td>1.0</td>\n",
       "      <td>0.0</td>\n",
       "      <td>0.0</td>\n",
       "      <td>5.0</td>\n",
       "    </tr>\n",
       "    <tr>\n",
       "      <th>415</th>\n",
       "      <td>0.0</td>\n",
       "      <td>0.0</td>\n",
       "      <td>90.0</td>\n",
       "      <td>1.0</td>\n",
       "      <td>0.0</td>\n",
       "      <td>927.0</td>\n",
       "      <td>92.0</td>\n",
       "      <td>0</td>\n",
       "      <td>1.0</td>\n",
       "      <td>1.0</td>\n",
       "      <td>0.0</td>\n",
       "      <td>0.0</td>\n",
       "      <td>0.0</td>\n",
       "    </tr>\n",
       "    <tr>\n",
       "      <th>416</th>\n",
       "      <td>0.0</td>\n",
       "      <td>0.0</td>\n",
       "      <td>22.0</td>\n",
       "      <td>1.0</td>\n",
       "      <td>0.0</td>\n",
       "      <td>928.0</td>\n",
       "      <td>41.0</td>\n",
       "      <td>0</td>\n",
       "      <td>1.0</td>\n",
       "      <td>0.0</td>\n",
       "      <td>0.0</td>\n",
       "      <td>0.0</td>\n",
       "      <td>0.0</td>\n",
       "    </tr>\n",
       "    <tr>\n",
       "      <th>417</th>\n",
       "      <td>0.0</td>\n",
       "      <td>0.0</td>\n",
       "      <td>22.0</td>\n",
       "      <td>0.0</td>\n",
       "      <td>1.0</td>\n",
       "      <td>119.0</td>\n",
       "      <td>179.0</td>\n",
       "      <td>1</td>\n",
       "      <td>3.0</td>\n",
       "      <td>0.0</td>\n",
       "      <td>0.0</td>\n",
       "      <td>0.0</td>\n",
       "      <td>3.0</td>\n",
       "    </tr>\n",
       "  </tbody>\n",
       "</table>\n",
       "<p>418 rows × 13 columns</p>\n",
       "</div>"
      ],
      "text/plain": [
       "     Pclass  Sex   Age  SibSp  Parch  Ticket   Fare  Embarked  FamilySize  \\\n",
       "0       0.0  0.0  12.0    1.0    0.0   681.0   10.0         2         1.0   \n",
       "1       0.0  1.0  13.0    0.0    0.0   682.0   11.0         0         0.0   \n",
       "2       2.0  0.0  14.0    1.0    0.0   683.0   12.0         2         1.0   \n",
       "3       0.0  0.0  15.0    1.0    0.0   684.0   13.0         0         1.0   \n",
       "4       0.0  1.0  16.0    0.0    1.0   405.0   14.0         0         3.0   \n",
       "..      ...  ...   ...    ...    ...     ...    ...       ...         ...   \n",
       "413     0.0  0.0  22.0    1.0    0.0   926.0   41.0         0         1.0   \n",
       "414     1.0  1.0  37.0    1.0    0.0   273.0  178.0         1         1.0   \n",
       "415     0.0  0.0  90.0    1.0    0.0   927.0   92.0         0         1.0   \n",
       "416     0.0  0.0  22.0    1.0    0.0   928.0   41.0         0         1.0   \n",
       "417     0.0  0.0  22.0    0.0    1.0   119.0  179.0         1         3.0   \n",
       "\n",
       "     FamilyGroup  Deck  TicketFrequency  Title  \n",
       "0            0.0   0.0              0.0    0.0  \n",
       "1            0.0   1.0              0.0    1.0  \n",
       "2            1.0   0.0              0.0    0.0  \n",
       "3            0.0   1.0              0.0    0.0  \n",
       "4            1.0   0.0              0.0    1.0  \n",
       "..           ...   ...              ...    ...  \n",
       "413          1.0   0.0              0.0    0.0  \n",
       "414          1.0   0.0              0.0    5.0  \n",
       "415          1.0   0.0              0.0    0.0  \n",
       "416          0.0   0.0              0.0    0.0  \n",
       "417          0.0   0.0              0.0    3.0  \n",
       "\n",
       "[418 rows x 13 columns]"
      ]
     },
     "execution_count": 47,
     "metadata": {},
     "output_type": "execute_result"
    }
   ],
   "source": [
    "df_test"
   ]
  },
  {
   "cell_type": "code",
   "execution_count": null,
   "id": "30951fe9",
   "metadata": {
    "id": "IbP9tiwPd8O0",
    "papermill": {
     "duration": 0.10564,
     "end_time": "2022-04-16T07:28:52.566343",
     "exception": false,
     "start_time": "2022-04-16T07:28:52.460703",
     "status": "completed"
    },
    "tags": []
   },
   "outputs": [],
   "source": [
    "\n"
   ]
  },
  {
   "cell_type": "code",
   "execution_count": 48,
   "id": "26e332b1",
   "metadata": {
    "execution": {
     "iopub.execute_input": "2022-04-16T07:28:52.780381Z",
     "iopub.status.busy": "2022-04-16T07:28:52.779759Z",
     "iopub.status.idle": "2022-04-16T07:28:53.828520Z",
     "shell.execute_reply": "2022-04-16T07:28:53.827533Z"
    },
    "id": "yQY-eDmpvmB4",
    "papermill": {
     "duration": 1.157635,
     "end_time": "2022-04-16T07:28:53.831331",
     "exception": false,
     "start_time": "2022-04-16T07:28:52.673696",
     "status": "completed"
    },
    "tags": []
   },
   "outputs": [],
   "source": [
    "from torch.nn import *\n",
    "from torch import nn"
   ]
  },
  {
   "cell_type": "code",
   "execution_count": 49,
   "id": "2131351b",
   "metadata": {
    "execution": {
     "iopub.execute_input": "2022-04-16T07:28:54.050720Z",
     "iopub.status.busy": "2022-04-16T07:28:54.050073Z",
     "iopub.status.idle": "2022-04-16T07:28:54.214903Z",
     "shell.execute_reply": "2022-04-16T07:28:54.213941Z"
    },
    "id": "sCqvCatNdRwA",
    "papermill": {
     "duration": 0.278226,
     "end_time": "2022-04-16T07:28:54.217678",
     "exception": false,
     "start_time": "2022-04-16T07:28:53.939452",
     "status": "completed"
    },
    "tags": []
   },
   "outputs": [],
   "source": [
    "from torch.utils.data import Dataset\n",
    "from torch.utils.data import DataLoader\n",
    "import torch\n",
    "from fastai.tabular.all import *"
   ]
  },
  {
   "cell_type": "code",
   "execution_count": 50,
   "id": "2de0b046",
   "metadata": {
    "execution": {
     "iopub.execute_input": "2022-04-16T07:28:54.435938Z",
     "iopub.status.busy": "2022-04-16T07:28:54.435649Z",
     "iopub.status.idle": "2022-04-16T07:28:54.450247Z",
     "shell.execute_reply": "2022-04-16T07:28:54.449152Z"
    },
    "id": "iVvb5NIslsVH",
    "outputId": "762ee406-fe9c-4e50-ead3-2f1e8a3c2161",
    "papermill": {
     "duration": 0.129245,
     "end_time": "2022-04-16T07:28:54.452822",
     "exception": false,
     "start_time": "2022-04-16T07:28:54.323577",
     "status": "completed"
    },
    "tags": []
   },
   "outputs": [
    {
     "data": {
      "text/plain": [
       "3"
      ]
     },
     "execution_count": 50,
     "metadata": {},
     "output_type": "execute_result"
    }
   ],
   "source": [
    "cat = df[['Pclass', 'Sex', 'SibSp', 'Parch', 'Embarked', 'Title']]\n",
    "cont = df[['Age', 'Fare']]\n",
    "cat.join(cont).iloc[0]\n",
    "dv = df['Survived']\n",
    "dv.iloc[0]\n",
    "df.index[3]"
   ]
  },
  {
   "cell_type": "code",
   "execution_count": null,
   "id": "c1a2f9fa",
   "metadata": {
    "papermill": {
     "duration": 0.10774,
     "end_time": "2022-04-16T07:28:54.670480",
     "exception": false,
     "start_time": "2022-04-16T07:28:54.562740",
     "status": "completed"
    },
    "tags": []
   },
   "outputs": [],
   "source": []
  },
  {
   "cell_type": "code",
   "execution_count": 51,
   "id": "bfdad2fd",
   "metadata": {
    "execution": {
     "iopub.execute_input": "2022-04-16T07:28:54.898637Z",
     "iopub.status.busy": "2022-04-16T07:28:54.898279Z",
     "iopub.status.idle": "2022-04-16T07:28:54.904128Z",
     "shell.execute_reply": "2022-04-16T07:28:54.903213Z"
    },
    "id": "r5iKlPmmnUUz",
    "papermill": {
     "duration": 0.121198,
     "end_time": "2022-04-16T07:28:54.906385",
     "exception": false,
     "start_time": "2022-04-16T07:28:54.785187",
     "status": "completed"
    },
    "tags": []
   },
   "outputs": [],
   "source": [
    "def randomSplit(df, valid_ratio=0.2, random_state=None):\n",
    "    split_idx = int(len(df.index)*(valid_ratio))\n",
    "    shuffled_df = df.sample(frac=1, random_state=random_state)\n",
    "    return shuffled_df.iloc[split_idx:], shuffled_df[:split_idx]"
   ]
  },
  {
   "cell_type": "code",
   "execution_count": 52,
   "id": "44fd4c6d",
   "metadata": {
    "execution": {
     "iopub.execute_input": "2022-04-16T07:28:55.126017Z",
     "iopub.status.busy": "2022-04-16T07:28:55.125683Z",
     "iopub.status.idle": "2022-04-16T07:28:55.135300Z",
     "shell.execute_reply": "2022-04-16T07:28:55.134638Z"
    },
    "id": "1lSV1oU8bwAM",
    "papermill": {
     "duration": 0.124683,
     "end_time": "2022-04-16T07:28:55.137703",
     "exception": false,
     "start_time": "2022-04-16T07:28:55.013020",
     "status": "completed"
    },
    "tags": []
   },
   "outputs": [],
   "source": [
    "class TitanicDataset(Dataset):\n",
    "    def __init__(self, df, is_test=False):\n",
    "        self.is_test = is_test\n",
    "        self.df = df.copy()\n",
    "        self.cat = self.df[['Pclass', 'Sex', 'Embarked', 'Title', 'FamilySize', 'FamilyGroup', 'Deck', 'TicketFrequency']].astype(int)\n",
    "        self.cont = self.df[['Age', 'Fare']]\n",
    "        self.res_df = self.cat.join(self.cont)\n",
    "        if not(is_test):\n",
    "            self.dep_var = self.df['Survived'].astype(int)\n",
    "        self.columns = self.res_df.columns\n",
    "    def __len__(self):\n",
    "        return len(self.df)\n",
    "    def __getitem__(self, idx):\n",
    "        if self.is_test:\n",
    "            return self.res_df.iloc[idx].values\n",
    "        else:\n",
    "            return self.res_df.iloc[idx].values, self.dep_var.iloc[idx]"
   ]
  },
  {
   "cell_type": "code",
   "execution_count": 53,
   "id": "c93dbe12",
   "metadata": {
    "execution": {
     "iopub.execute_input": "2022-04-16T07:28:55.363694Z",
     "iopub.status.busy": "2022-04-16T07:28:55.363193Z",
     "iopub.status.idle": "2022-04-16T07:28:55.370044Z",
     "shell.execute_reply": "2022-04-16T07:28:55.369390Z"
    },
    "id": "p1ihRqhs2kz-",
    "papermill": {
     "duration": 0.123775,
     "end_time": "2022-04-16T07:28:55.372323",
     "exception": false,
     "start_time": "2022-04-16T07:28:55.248548",
     "status": "completed"
    },
    "tags": []
   },
   "outputs": [],
   "source": [
    "train_df, valid_df = randomSplit(df)"
   ]
  },
  {
   "cell_type": "code",
   "execution_count": 54,
   "id": "b135c105",
   "metadata": {
    "execution": {
     "iopub.execute_input": "2022-04-16T07:28:55.597988Z",
     "iopub.status.busy": "2022-04-16T07:28:55.596905Z",
     "iopub.status.idle": "2022-04-16T07:28:55.613563Z",
     "shell.execute_reply": "2022-04-16T07:28:55.612290Z"
    },
    "id": "XTcoFKendkpz",
    "papermill": {
     "duration": 0.131392,
     "end_time": "2022-04-16T07:28:55.616016",
     "exception": false,
     "start_time": "2022-04-16T07:28:55.484624",
     "status": "completed"
    },
    "tags": []
   },
   "outputs": [],
   "source": [
    "td = TitanicDataset(train_df)\n",
    "valid_td = TitanicDataset(valid_df)\n",
    "test_ds = TitanicDataset(df_test, is_test=True)\n",
    "in_columns = td.columns\n",
    "cat_columns = td.cat.columns\n",
    "cat_n = len(td.cat.columns)\n",
    "cont_n = len(td.cont.columns)"
   ]
  },
  {
   "cell_type": "code",
   "execution_count": 55,
   "id": "686a1b54",
   "metadata": {
    "execution": {
     "iopub.execute_input": "2022-04-16T07:28:55.834862Z",
     "iopub.status.busy": "2022-04-16T07:28:55.834332Z",
     "iopub.status.idle": "2022-04-16T07:28:55.839453Z",
     "shell.execute_reply": "2022-04-16T07:28:55.838422Z"
    },
    "id": "IF6pEYPndx2Q",
    "papermill": {
     "duration": 0.118123,
     "end_time": "2022-04-16T07:28:55.841481",
     "exception": false,
     "start_time": "2022-04-16T07:28:55.723358",
     "status": "completed"
    },
    "tags": []
   },
   "outputs": [],
   "source": [
    "dl = DataLoader(td, batch_size=64)\n",
    "valid_dl = DataLoader(td, batch_size=64)"
   ]
  },
  {
   "cell_type": "code",
   "execution_count": 56,
   "id": "a7ab3efb",
   "metadata": {
    "execution": {
     "iopub.execute_input": "2022-04-16T07:28:56.065422Z",
     "iopub.status.busy": "2022-04-16T07:28:56.064555Z",
     "iopub.status.idle": "2022-04-16T07:28:56.069537Z",
     "shell.execute_reply": "2022-04-16T07:28:56.068783Z"
    },
    "id": "C-Z5pgpf2085",
    "papermill": {
     "duration": 0.119643,
     "end_time": "2022-04-16T07:28:56.071788",
     "exception": false,
     "start_time": "2022-04-16T07:28:55.952145",
     "status": "completed"
    },
    "tags": []
   },
   "outputs": [],
   "source": [
    "iterdl = iter(dl)"
   ]
  },
  {
   "cell_type": "code",
   "execution_count": null,
   "id": "05113066",
   "metadata": {
    "id": "_Somo8hF269x",
    "papermill": {
     "duration": 0.109036,
     "end_time": "2022-04-16T07:28:56.290783",
     "exception": false,
     "start_time": "2022-04-16T07:28:56.181747",
     "status": "completed"
    },
    "tags": []
   },
   "outputs": [],
   "source": []
  },
  {
   "cell_type": "code",
   "execution_count": 57,
   "id": "769a779c",
   "metadata": {
    "execution": {
     "iopub.execute_input": "2022-04-16T07:28:56.506678Z",
     "iopub.status.busy": "2022-04-16T07:28:56.505917Z",
     "iopub.status.idle": "2022-04-16T07:28:56.518061Z",
     "shell.execute_reply": "2022-04-16T07:28:56.517054Z"
    },
    "id": "NcJc91Aqn1GJ",
    "papermill": {
     "duration": 0.123253,
     "end_time": "2022-04-16T07:28:56.520144",
     "exception": false,
     "start_time": "2022-04-16T07:28:56.396891",
     "status": "completed"
    },
    "tags": []
   },
   "outputs": [],
   "source": [
    "voc = []\n",
    "for s in cat_columns:\n",
    "    vn = pd.concat([td.cat[s], valid_td.cat[s], test_ds.cat[s]])\n",
    "    vn = vn.astype(int).nunique()\n",
    "    voc.append([vn, vn])\n"
   ]
  },
  {
   "cell_type": "code",
   "execution_count": 58,
   "id": "91a24bfd",
   "metadata": {
    "execution": {
     "iopub.execute_input": "2022-04-16T07:28:56.743154Z",
     "iopub.status.busy": "2022-04-16T07:28:56.742491Z",
     "iopub.status.idle": "2022-04-16T07:28:56.748129Z",
     "shell.execute_reply": "2022-04-16T07:28:56.747596Z"
    },
    "id": "J12RmbwluPKD",
    "outputId": "ca50b868-385e-4f83-8287-84e30513cec2",
    "papermill": {
     "duration": 0.121587,
     "end_time": "2022-04-16T07:28:56.749875",
     "exception": false,
     "start_time": "2022-04-16T07:28:56.628288",
     "status": "completed"
    },
    "tags": []
   },
   "outputs": [
    {
     "data": {
      "text/plain": [
       "[[3, 3], [2, 2], [3, 3], [6, 6], [9, 9], [4, 4], [9, 9], [7, 7]]"
      ]
     },
     "execution_count": 58,
     "metadata": {},
     "output_type": "execute_result"
    }
   ],
   "source": [
    "voc"
   ]
  },
  {
   "cell_type": "code",
   "execution_count": 59,
   "id": "58d1f4c2",
   "metadata": {
    "execution": {
     "iopub.execute_input": "2022-04-16T07:28:56.969984Z",
     "iopub.status.busy": "2022-04-16T07:28:56.969167Z",
     "iopub.status.idle": "2022-04-16T07:28:56.985002Z",
     "shell.execute_reply": "2022-04-16T07:28:56.984344Z"
    },
    "id": "0SBg7b0ilJyB",
    "papermill": {
     "duration": 0.12978,
     "end_time": "2022-04-16T07:28:56.986857",
     "exception": false,
     "start_time": "2022-04-16T07:28:56.857077",
     "status": "completed"
    },
    "tags": []
   },
   "outputs": [],
   "source": [
    "class TabModel(Module):\n",
    "    def __init__(self, emb_sz, cat_n, cont_n, layers):\n",
    "        super(TabModel, self).__init__()\n",
    "        self.cat_n = cat_n\n",
    "        self.cont_n = cont_n\n",
    "        self.embeddings = nn.ModuleList(nn.Embedding(ni, nf) for ni, nf in emb_sz)\n",
    "        cat_len = sum([x for _, x in emb_sz])\n",
    "        self.emb_drop = nn.Dropout(0.2)\n",
    "        self.linear_drop = nn.Dropout(0.5)\n",
    "        model = []\n",
    "        model.append(nn.BatchNorm1d(cat_len+cont_n))\n",
    "        model.append(self.linear_drop)\n",
    "        model.append(nn.Linear(cat_len+cont_n, layers[0]))\n",
    "        model.append(nn.Mish())\n",
    "        for i in range(len(layers)-2):\n",
    "            model.append(nn.BatchNorm1d(layers[i]))\n",
    "            model.append(self.linear_drop)\n",
    "            model.append(nn.Linear(layers[i], layers[i+1]))\n",
    "            model.append(nn.Mish())\n",
    "        self.linear = nn.Sequential(*model)\n",
    "        self.final_layer = nn.Linear(layers[-2], layers[-1])\n",
    "        \n",
    "    def forward(self, x):\n",
    "        emb = []\n",
    "        for i in range(self.cat_n):\n",
    "            emb.append(self.embeddings[i](x[:,i].int()))\n",
    "        for i in range(self.cat_n, self.cat_n+self.cont_n):\n",
    "            emb.append(x[:,i].unsqueeze(1))\n",
    "        input = torch.cat(emb, dim=1).float()\n",
    "        res = self.linear(input)\n",
    "        res = self.final_layer(res)\n",
    "        return res\n"
   ]
  },
  {
   "cell_type": "code",
   "execution_count": 60,
   "id": "6ffdbee1",
   "metadata": {
    "execution": {
     "iopub.execute_input": "2022-04-16T07:28:57.204452Z",
     "iopub.status.busy": "2022-04-16T07:28:57.203243Z",
     "iopub.status.idle": "2022-04-16T07:28:57.262372Z",
     "shell.execute_reply": "2022-04-16T07:28:57.261674Z"
    },
    "id": "Pgyp6Ntynyo_",
    "papermill": {
     "duration": 0.171387,
     "end_time": "2022-04-16T07:28:57.264888",
     "exception": false,
     "start_time": "2022-04-16T07:28:57.093501",
     "status": "completed"
    },
    "tags": []
   },
   "outputs": [],
   "source": [
    "tabmodel = TabModel(voc, cat_n, cont_n, (400, 300, 200, 100, 2)).to(device)"
   ]
  },
  {
   "cell_type": "code",
   "execution_count": 61,
   "id": "a671d85c",
   "metadata": {
    "execution": {
     "iopub.execute_input": "2022-04-16T07:28:57.482120Z",
     "iopub.status.busy": "2022-04-16T07:28:57.481539Z",
     "iopub.status.idle": "2022-04-16T07:28:57.486143Z",
     "shell.execute_reply": "2022-04-16T07:28:57.485560Z"
    },
    "id": "azJH5KCv0Nu3",
    "outputId": "6158c43f-5850-417b-ca72-efef5f5f0cc0",
    "papermill": {
     "duration": 0.113956,
     "end_time": "2022-04-16T07:28:57.488977",
     "exception": false,
     "start_time": "2022-04-16T07:28:57.375021",
     "status": "completed"
    },
    "tags": []
   },
   "outputs": [
    {
     "name": "stdout",
     "output_type": "stream",
     "text": [
      "TabModel(\n",
      "  (embeddings): ModuleList(\n",
      "    (0): Embedding(3, 3)\n",
      "    (1): Embedding(2, 2)\n",
      "    (2): Embedding(3, 3)\n",
      "    (3): Embedding(6, 6)\n",
      "    (4): Embedding(9, 9)\n",
      "    (5): Embedding(4, 4)\n",
      "    (6): Embedding(9, 9)\n",
      "    (7): Embedding(7, 7)\n",
      "  )\n",
      "  (emb_drop): Dropout(p=0.2, inplace=False)\n",
      "  (linear_drop): Dropout(p=0.5, inplace=False)\n",
      "  (linear): Sequential(\n",
      "    (0): BatchNorm1d(45, eps=1e-05, momentum=0.1, affine=True, track_running_stats=True)\n",
      "    (1): Dropout(p=0.5, inplace=False)\n",
      "    (2): Linear(in_features=45, out_features=400, bias=True)\n",
      "    (3): Mish()\n",
      "    (4): BatchNorm1d(400, eps=1e-05, momentum=0.1, affine=True, track_running_stats=True)\n",
      "    (5): Dropout(p=0.5, inplace=False)\n",
      "    (6): Linear(in_features=400, out_features=300, bias=True)\n",
      "    (7): Mish()\n",
      "    (8): BatchNorm1d(300, eps=1e-05, momentum=0.1, affine=True, track_running_stats=True)\n",
      "    (9): Dropout(p=0.5, inplace=False)\n",
      "    (10): Linear(in_features=300, out_features=200, bias=True)\n",
      "    (11): Mish()\n",
      "    (12): BatchNorm1d(200, eps=1e-05, momentum=0.1, affine=True, track_running_stats=True)\n",
      "    (13): Dropout(p=0.5, inplace=False)\n",
      "    (14): Linear(in_features=200, out_features=100, bias=True)\n",
      "    (15): Mish()\n",
      "  )\n",
      "  (final_layer): Linear(in_features=100, out_features=2, bias=True)\n",
      ")\n"
     ]
    }
   ],
   "source": [
    "print(tabmodel)"
   ]
  },
  {
   "cell_type": "code",
   "execution_count": 62,
   "id": "c0672209",
   "metadata": {
    "execution": {
     "iopub.execute_input": "2022-04-16T07:28:57.704596Z",
     "iopub.status.busy": "2022-04-16T07:28:57.704098Z",
     "iopub.status.idle": "2022-04-16T07:28:57.708626Z",
     "shell.execute_reply": "2022-04-16T07:28:57.707989Z"
    },
    "id": "9dP2FXI1DMqk",
    "papermill": {
     "duration": 0.112739,
     "end_time": "2022-04-16T07:28:57.710551",
     "exception": false,
     "start_time": "2022-04-16T07:28:57.597812",
     "status": "completed"
    },
    "tags": []
   },
   "outputs": [],
   "source": [
    "dls = dl, valid_dl"
   ]
  },
  {
   "cell_type": "code",
   "execution_count": 63,
   "id": "95bb8353",
   "metadata": {
    "execution": {
     "iopub.execute_input": "2022-04-16T07:28:57.960642Z",
     "iopub.status.busy": "2022-04-16T07:28:57.959535Z",
     "iopub.status.idle": "2022-04-16T07:28:57.965905Z",
     "shell.execute_reply": "2022-04-16T07:28:57.965291Z"
    },
    "id": "eaD4SzWKkGTs",
    "papermill": {
     "duration": 0.120939,
     "end_time": "2022-04-16T07:28:57.967825",
     "exception": false,
     "start_time": "2022-04-16T07:28:57.846886",
     "status": "completed"
    },
    "tags": []
   },
   "outputs": [],
   "source": [
    "def train(dl, model, loss_fn, optim):\n",
    "    size = len(dl.dataset)\n",
    "    losses = []\n",
    "    for batch, (X, y) in enumerate(dl):\n",
    "        # prediction, loss\n",
    "        pred = model(X)\n",
    "        loss = loss_fn(pred, y)\n",
    "        # backprop\n",
    "        optim.zero_grad()\n",
    "        loss.backward()\n",
    "        optim.step()\n",
    "\n",
    "        losses.append(loss.item())\n",
    "    \n",
    "    print(f'loss: {np.array(losses).mean()}')\n"
   ]
  },
  {
   "cell_type": "code",
   "execution_count": 64,
   "id": "5f18e648",
   "metadata": {
    "execution": {
     "iopub.execute_input": "2022-04-16T07:28:58.187370Z",
     "iopub.status.busy": "2022-04-16T07:28:58.186912Z",
     "iopub.status.idle": "2022-04-16T07:28:58.193532Z",
     "shell.execute_reply": "2022-04-16T07:28:58.192860Z"
    },
    "id": "g31GQH3w_kUN",
    "papermill": {
     "duration": 0.11992,
     "end_time": "2022-04-16T07:28:58.195941",
     "exception": false,
     "start_time": "2022-04-16T07:28:58.076021",
     "status": "completed"
    },
    "tags": []
   },
   "outputs": [],
   "source": [
    "def valid(valid_dl, model, loss_fn):\n",
    "    accuracy = []\n",
    "    losses = []\n",
    "    with torch.no_grad():\n",
    "        for batch, (X, y) in enumerate(valid_dl):\n",
    "            #p rediction, loss\n",
    "            pred = model(X)\n",
    "            loss = loss_fn(pred, y)\n",
    "            # metric\n",
    "            accuracy.append((pred.argmax(1)==y).float().flatten().mean())\n",
    "            losses.append(loss.item())\n",
    "    print(f'valid -- accuracy: {np.array(accuracy).mean()}, loss: {np.array(losses).mean()}')"
   ]
  },
  {
   "cell_type": "code",
   "execution_count": 65,
   "id": "889f9795",
   "metadata": {
    "execution": {
     "iopub.execute_input": "2022-04-16T07:28:58.415378Z",
     "iopub.status.busy": "2022-04-16T07:28:58.414935Z",
     "iopub.status.idle": "2022-04-16T07:28:58.420257Z",
     "shell.execute_reply": "2022-04-16T07:28:58.419645Z"
    },
    "id": "GWBjVQfWDI0r",
    "papermill": {
     "duration": 0.117097,
     "end_time": "2022-04-16T07:28:58.422275",
     "exception": false,
     "start_time": "2022-04-16T07:28:58.305178",
     "status": "completed"
    },
    "tags": []
   },
   "outputs": [],
   "source": [
    "def epoch(n, dls, model:Module, loss_fn, lr=1e-3):\n",
    "    train_dl, valid_dl = dls\n",
    "    \n",
    "    for i in range(n):\n",
    "        # train\n",
    "        model.train()\n",
    "        train(train_dl, model, loss_fn, torch.optim.Adam(model.parameters(), lr= lr))\n",
    "        #validate\n",
    "        model.eval()\n",
    "        valid(valid_dl, model, loss_fn)"
   ]
  },
  {
   "cell_type": "code",
   "execution_count": 66,
   "id": "9119f77c",
   "metadata": {
    "execution": {
     "iopub.execute_input": "2022-04-16T07:28:58.641397Z",
     "iopub.status.busy": "2022-04-16T07:28:58.640968Z",
     "iopub.status.idle": "2022-04-16T07:29:01.919975Z",
     "shell.execute_reply": "2022-04-16T07:29:01.919157Z"
    },
    "id": "3YLxax12s3ZV",
    "outputId": "0b643d39-25e7-4524-a2a2-f3f2b9f0409b",
    "papermill": {
     "duration": 3.39537,
     "end_time": "2022-04-16T07:29:01.923766",
     "exception": false,
     "start_time": "2022-04-16T07:28:58.528396",
     "status": "completed"
    },
    "tags": []
   },
   "outputs": [
    {
     "name": "stdout",
     "output_type": "stream",
     "text": [
      "loss: 0.6298311601082484\n",
      "valid -- accuracy: 0.7129629254341125, loss: 0.6063533971707026\n",
      "loss: 0.5444142843286196\n",
      "valid -- accuracy: 0.7964410185813904, loss: 0.5011861498157183\n",
      "loss: 0.5548821613192558\n",
      "valid -- accuracy: 0.8148148059844971, loss: 0.4585562174518903\n",
      "loss: 0.5201002185543379\n",
      "valid -- accuracy: 0.8265335559844971, loss: 0.44284505148728687\n",
      "loss: 0.5061265577872595\n",
      "valid -- accuracy: 0.8278356194496155, loss: 0.42309778928756714\n",
      "loss: 0.5154706463217735\n",
      "valid -- accuracy: 0.8200231194496155, loss: 0.4188850646217664\n",
      "loss: 0.4962418923775355\n",
      "valid -- accuracy: 0.8200231194496155, loss: 0.41801025718450546\n",
      "loss: 0.48919616142908734\n",
      "valid -- accuracy: 0.8291377425193787, loss: 0.42034075160821277\n"
     ]
    }
   ],
   "source": [
    "epoch(8, dls, tabmodel, CrossEntropyLoss(), lr=5e-4)"
   ]
  },
  {
   "cell_type": "code",
   "execution_count": 67,
   "id": "74691972",
   "metadata": {
    "execution": {
     "iopub.execute_input": "2022-04-16T07:29:02.143749Z",
     "iopub.status.busy": "2022-04-16T07:29:02.143460Z",
     "iopub.status.idle": "2022-04-16T07:29:02.147676Z",
     "shell.execute_reply": "2022-04-16T07:29:02.147058Z"
    },
    "id": "92EJ-f5yFRne",
    "papermill": {
     "duration": 0.11591,
     "end_time": "2022-04-16T07:29:02.150147",
     "exception": false,
     "start_time": "2022-04-16T07:29:02.034237",
     "status": "completed"
    },
    "tags": []
   },
   "outputs": [],
   "source": [
    "def predictWhole(data, model):\n",
    "    model.eval()\n",
    "    pred = model(data)\n",
    "    return pred.argmax(1)"
   ]
  },
  {
   "cell_type": "code",
   "execution_count": 68,
   "id": "101e7b4a",
   "metadata": {
    "execution": {
     "iopub.execute_input": "2022-04-16T07:29:02.375292Z",
     "iopub.status.busy": "2022-04-16T07:29:02.374458Z",
     "iopub.status.idle": "2022-04-16T07:29:02.433883Z",
     "shell.execute_reply": "2022-04-16T07:29:02.432924Z"
    },
    "id": "A28cUom3tXCM",
    "papermill": {
     "duration": 0.175154,
     "end_time": "2022-04-16T07:29:02.436614",
     "exception": false,
     "start_time": "2022-04-16T07:29:02.261460",
     "status": "completed"
    },
    "tags": []
   },
   "outputs": [],
   "source": [
    "test_ds_raw = torch.Tensor(np.array(test_ds))"
   ]
  },
  {
   "cell_type": "code",
   "execution_count": 69,
   "id": "62ecfa7f",
   "metadata": {
    "execution": {
     "iopub.execute_input": "2022-04-16T07:29:02.660034Z",
     "iopub.status.busy": "2022-04-16T07:29:02.659747Z",
     "iopub.status.idle": "2022-04-16T07:29:02.678327Z",
     "shell.execute_reply": "2022-04-16T07:29:02.677734Z"
    },
    "id": "EpLqTfpZZ2is",
    "outputId": "76882f4f-19b7-41de-99eb-723c47f627b4",
    "papermill": {
     "duration": 0.133222,
     "end_time": "2022-04-16T07:29:02.680176",
     "exception": false,
     "start_time": "2022-04-16T07:29:02.546954",
     "status": "completed"
    },
    "tags": []
   },
   "outputs": [
    {
     "data": {
      "text/plain": [
       "tensor([[  0.,   0.,   2.,  ...,   0.,  12.,  10.],\n",
       "        [  0.,   1.,   0.,  ...,   0.,  13.,  11.],\n",
       "        [  2.,   0.,   2.,  ...,   0.,  14.,  12.],\n",
       "        ...,\n",
       "        [  0.,   0.,   0.,  ...,   0.,  90.,  92.],\n",
       "        [  0.,   0.,   0.,  ...,   0.,  22.,  41.],\n",
       "        [  0.,   0.,   1.,  ...,   0.,  22., 179.]])"
      ]
     },
     "execution_count": 69,
     "metadata": {},
     "output_type": "execute_result"
    }
   ],
   "source": [
    "test_ds_raw"
   ]
  },
  {
   "cell_type": "code",
   "execution_count": 70,
   "id": "86830b5d",
   "metadata": {
    "execution": {
     "iopub.execute_input": "2022-04-16T07:29:02.907409Z",
     "iopub.status.busy": "2022-04-16T07:29:02.906968Z",
     "iopub.status.idle": "2022-04-16T07:29:02.925013Z",
     "shell.execute_reply": "2022-04-16T07:29:02.924366Z"
    },
    "id": "Gaz-1GGsLWSa",
    "outputId": "bdb38471-e93f-45b6-8bf5-cc40cbb53284",
    "papermill": {
     "duration": 0.132832,
     "end_time": "2022-04-16T07:29:02.926902",
     "exception": false,
     "start_time": "2022-04-16T07:29:02.794070",
     "status": "completed"
    },
    "tags": []
   },
   "outputs": [
    {
     "data": {
      "text/plain": [
       "418"
      ]
     },
     "execution_count": 70,
     "metadata": {},
     "output_type": "execute_result"
    }
   ],
   "source": [
    "preds = predictWhole(test_ds_raw, tabmodel)\n",
    "len(preds)"
   ]
  },
  {
   "cell_type": "code",
   "execution_count": 71,
   "id": "b1d79776",
   "metadata": {
    "execution": {
     "iopub.execute_input": "2022-04-16T07:29:03.151421Z",
     "iopub.status.busy": "2022-04-16T07:29:03.150950Z",
     "iopub.status.idle": "2022-04-16T07:29:03.155959Z",
     "shell.execute_reply": "2022-04-16T07:29:03.154921Z"
    },
    "id": "Ol7VwkHuLgFS",
    "papermill": {
     "duration": 0.119211,
     "end_time": "2022-04-16T07:29:03.157958",
     "exception": false,
     "start_time": "2022-04-16T07:29:03.038747",
     "status": "completed"
    },
    "tags": []
   },
   "outputs": [],
   "source": [
    "result = pd.DataFrame({'PassengerId': df_test_pi, 'Survived': preds})"
   ]
  },
  {
   "cell_type": "code",
   "execution_count": 72,
   "id": "1ddca110",
   "metadata": {
    "execution": {
     "iopub.execute_input": "2022-04-16T07:29:03.386484Z",
     "iopub.status.busy": "2022-04-16T07:29:03.386054Z",
     "iopub.status.idle": "2022-04-16T07:29:03.393791Z",
     "shell.execute_reply": "2022-04-16T07:29:03.393186Z"
    },
    "id": "nZ36hM3iL4Ku",
    "papermill": {
     "duration": 0.125805,
     "end_time": "2022-04-16T07:29:03.395754",
     "exception": false,
     "start_time": "2022-04-16T07:29:03.269949",
     "status": "completed"
    },
    "tags": []
   },
   "outputs": [],
   "source": [
    "result.to_csv('submission.csv', index=False)"
   ]
  },
  {
   "cell_type": "code",
   "execution_count": 73,
   "id": "d90f532a",
   "metadata": {
    "execution": {
     "iopub.execute_input": "2022-04-16T07:29:03.622433Z",
     "iopub.status.busy": "2022-04-16T07:29:03.621995Z",
     "iopub.status.idle": "2022-04-16T07:29:03.626858Z",
     "shell.execute_reply": "2022-04-16T07:29:03.626145Z"
    },
    "papermill": {
     "duration": 0.121228,
     "end_time": "2022-04-16T07:29:03.628730",
     "exception": false,
     "start_time": "2022-04-16T07:29:03.507502",
     "status": "completed"
    },
    "tags": []
   },
   "outputs": [],
   "source": [
    "def randSplit(l, valid_ratio=0.2):\n",
    "    idxs = np.arange(l)\n",
    "    np.random.shuffle(idxs)\n",
    "    cut = int(l*valid_ratio)\n",
    "    return idxs[:cut], idxs[cut:]"
   ]
  },
  {
   "cell_type": "code",
   "execution_count": 74,
   "id": "347b50c3",
   "metadata": {
    "execution": {
     "iopub.execute_input": "2022-04-16T07:29:03.850088Z",
     "iopub.status.busy": "2022-04-16T07:29:03.849668Z",
     "iopub.status.idle": "2022-04-16T07:29:03.853041Z",
     "shell.execute_reply": "2022-04-16T07:29:03.852457Z"
    },
    "id": "ZXGUSbcaNLJc",
    "papermill": {
     "duration": 0.117143,
     "end_time": "2022-04-16T07:29:03.854894",
     "exception": false,
     "start_time": "2022-04-16T07:29:03.737751",
     "status": "completed"
    },
    "tags": []
   },
   "outputs": [],
   "source": [
    "dls = DataLoaders(dl, valid_dl)"
   ]
  },
  {
   "cell_type": "code",
   "execution_count": 75,
   "id": "295e0bd5",
   "metadata": {
    "execution": {
     "iopub.execute_input": "2022-04-16T07:29:04.080727Z",
     "iopub.status.busy": "2022-04-16T07:29:04.080393Z",
     "iopub.status.idle": "2022-04-16T07:29:04.090924Z",
     "shell.execute_reply": "2022-04-16T07:29:04.090323Z"
    },
    "papermill": {
     "duration": 0.124669,
     "end_time": "2022-04-16T07:29:04.092697",
     "exception": false,
     "start_time": "2022-04-16T07:29:03.968028",
     "status": "completed"
    },
    "tags": []
   },
   "outputs": [],
   "source": [
    "voc = []\n",
    "for s in cat_columns:\n",
    "    vn = pd.concat([td.cat[s], valid_td.cat[s], test_ds.cat[s]])\n",
    "    vn = vn.astype(int).nunique()\n",
    "    voc.append([vn, int(vn**0.5+1)])\n"
   ]
  },
  {
   "cell_type": "code",
   "execution_count": 76,
   "id": "e7fe081f",
   "metadata": {
    "execution": {
     "iopub.execute_input": "2022-04-16T07:29:04.316545Z",
     "iopub.status.busy": "2022-04-16T07:29:04.316238Z",
     "iopub.status.idle": "2022-04-16T07:29:04.326722Z",
     "shell.execute_reply": "2022-04-16T07:29:04.325413Z"
    },
    "papermill": {
     "duration": 0.124191,
     "end_time": "2022-04-16T07:29:04.328909",
     "exception": false,
     "start_time": "2022-04-16T07:29:04.204718",
     "status": "completed"
    },
    "tags": []
   },
   "outputs": [
    {
     "name": "stdout",
     "output_type": "stream",
     "text": [
      "TabModel(\n",
      "  (embeddings): ModuleList(\n",
      "    (0): Embedding(3, 2)\n",
      "    (1): Embedding(2, 2)\n",
      "    (2): Embedding(3, 2)\n",
      "    (3): Embedding(6, 3)\n",
      "    (4): Embedding(9, 4)\n",
      "    (5): Embedding(4, 3)\n",
      "    (6): Embedding(9, 4)\n",
      "    (7): Embedding(7, 3)\n",
      "  )\n",
      "  (emb_drop): Dropout(p=0.2, inplace=False)\n",
      "  (linear_drop): Dropout(p=0.5, inplace=False)\n",
      "  (linear): Sequential(\n",
      "    (0): BatchNorm1d(25, eps=1e-05, momentum=0.1, affine=True, track_running_stats=True)\n",
      "    (1): Dropout(p=0.5, inplace=False)\n",
      "    (2): Linear(in_features=25, out_features=150, bias=True)\n",
      "    (3): Mish()\n",
      "    (4): BatchNorm1d(150, eps=1e-05, momentum=0.1, affine=True, track_running_stats=True)\n",
      "    (5): Dropout(p=0.5, inplace=False)\n",
      "    (6): Linear(in_features=150, out_features=200, bias=True)\n",
      "    (7): Mish()\n",
      "    (8): BatchNorm1d(200, eps=1e-05, momentum=0.1, affine=True, track_running_stats=True)\n",
      "    (9): Dropout(p=0.5, inplace=False)\n",
      "    (10): Linear(in_features=200, out_features=100, bias=True)\n",
      "    (11): Mish()\n",
      "  )\n",
      "  (final_layer): Linear(in_features=100, out_features=2, bias=True)\n",
      ")\n"
     ]
    }
   ],
   "source": [
    "tabmodel = TabModel(voc, cat_n, cont_n, (150, 200, 100, 2)).to(device)\n",
    "print(tabmodel)"
   ]
  },
  {
   "cell_type": "code",
   "execution_count": 77,
   "id": "7ec6b93e",
   "metadata": {
    "execution": {
     "iopub.execute_input": "2022-04-16T07:29:04.549702Z",
     "iopub.status.busy": "2022-04-16T07:29:04.549365Z",
     "iopub.status.idle": "2022-04-16T07:29:04.555288Z",
     "shell.execute_reply": "2022-04-16T07:29:04.554537Z"
    },
    "papermill": {
     "duration": 0.119581,
     "end_time": "2022-04-16T07:29:04.557055",
     "exception": false,
     "start_time": "2022-04-16T07:29:04.437474",
     "status": "completed"
    },
    "tags": []
   },
   "outputs": [],
   "source": [
    "learn = Learner(dls, tabmodel, loss_func=CrossEntropyLossFlat(), metrics=accuracy)"
   ]
  },
  {
   "cell_type": "code",
   "execution_count": 78,
   "id": "e1fe298b",
   "metadata": {
    "execution": {
     "iopub.execute_input": "2022-04-16T07:29:04.779679Z",
     "iopub.status.busy": "2022-04-16T07:29:04.779218Z",
     "iopub.status.idle": "2022-04-16T07:29:07.936041Z",
     "shell.execute_reply": "2022-04-16T07:29:07.935145Z"
    },
    "papermill": {
     "duration": 3.269542,
     "end_time": "2022-04-16T07:29:07.938075",
     "exception": false,
     "start_time": "2022-04-16T07:29:04.668533",
     "status": "completed"
    },
    "tags": []
   },
   "outputs": [
    {
     "data": {
      "text/html": [
       "\n",
       "<style>\n",
       "    /* Turns off some styling */\n",
       "    progress {\n",
       "        /* gets rid of default border in Firefox and Opera. */\n",
       "        border: none;\n",
       "        /* Needs to be in here for Safari polyfill so background images work as expected. */\n",
       "        background-size: auto;\n",
       "    }\n",
       "    .progress-bar-interrupted, .progress-bar-interrupted::-webkit-progress-bar {\n",
       "        background: #F44336;\n",
       "    }\n",
       "</style>\n"
      ],
      "text/plain": [
       "<IPython.core.display.HTML object>"
      ]
     },
     "metadata": {},
     "output_type": "display_data"
    },
    {
     "data": {
      "text/html": [],
      "text/plain": [
       "<IPython.core.display.HTML object>"
      ]
     },
     "metadata": {},
     "output_type": "display_data"
    },
    {
     "data": {
      "text/plain": [
       "SuggestedLRs(valley=0.0012022644514217973)"
      ]
     },
     "execution_count": 78,
     "metadata": {},
     "output_type": "execute_result"
    },
    {
     "data": {
      "image/png": "[encoded data removed]",
      "text/plain": [
       "<Figure size 432x288 with 1 Axes>"
      ]
     },
     "metadata": {
      "needs_background": "light"
     },
     "output_type": "display_data"
    }
   ],
   "source": [
    "learn.lr_find()"
   ]
  },
  {
   "cell_type": "code",
   "execution_count": 79,
   "id": "e00495b0",
   "metadata": {
    "execution": {
     "iopub.execute_input": "2022-04-16T07:29:08.174746Z",
     "iopub.status.busy": "2022-04-16T07:29:08.173742Z",
     "iopub.status.idle": "2022-04-16T07:29:10.286154Z",
     "shell.execute_reply": "2022-04-16T07:29:10.284916Z"
    },
    "papermill": {
     "duration": 2.234737,
     "end_time": "2022-04-16T07:29:10.288655",
     "exception": false,
     "start_time": "2022-04-16T07:29:08.053918",
     "status": "completed"
    },
    "tags": []
   },
   "outputs": [
    {
     "data": {
      "text/html": [
       "\n",
       "<style>\n",
       "    /* Turns off some styling */\n",
       "    progress {\n",
       "        /* gets rid of default border in Firefox and Opera. */\n",
       "        border: none;\n",
       "        /* Needs to be in here for Safari polyfill so background images work as expected. */\n",
       "        background-size: auto;\n",
       "    }\n",
       "    .progress-bar-interrupted, .progress-bar-interrupted::-webkit-progress-bar {\n",
       "        background: #F44336;\n",
       "    }\n",
       "</style>\n"
      ],
      "text/plain": [
       "<IPython.core.display.HTML object>"
      ]
     },
     "metadata": {},
     "output_type": "display_data"
    },
    {
     "data": {
      "text/html": [
       "<table border=\"1\" class=\"dataframe\">\n",
       "  <thead>\n",
       "    <tr style=\"text-align: left;\">\n",
       "      <th>epoch</th>\n",
       "      <th>train_loss</th>\n",
       "      <th>valid_loss</th>\n",
       "      <th>accuracy</th>\n",
       "      <th>time</th>\n",
       "    </tr>\n",
       "  </thead>\n",
       "  <tbody>\n",
       "    <tr>\n",
       "      <td>0</td>\n",
       "      <td>0.649498</td>\n",
       "      <td>0.572170</td>\n",
       "      <td>0.781206</td>\n",
       "      <td>00:00</td>\n",
       "    </tr>\n",
       "    <tr>\n",
       "      <td>1</td>\n",
       "      <td>0.593096</td>\n",
       "      <td>0.467317</td>\n",
       "      <td>0.806452</td>\n",
       "      <td>00:00</td>\n",
       "    </tr>\n",
       "    <tr>\n",
       "      <td>2</td>\n",
       "      <td>0.557841</td>\n",
       "      <td>0.454592</td>\n",
       "      <td>0.795231</td>\n",
       "      <td>00:00</td>\n",
       "    </tr>\n",
       "    <tr>\n",
       "      <td>3</td>\n",
       "      <td>0.549673</td>\n",
       "      <td>0.439112</td>\n",
       "      <td>0.806452</td>\n",
       "      <td>00:00</td>\n",
       "    </tr>\n",
       "    <tr>\n",
       "      <td>4</td>\n",
       "      <td>0.544775</td>\n",
       "      <td>0.437780</td>\n",
       "      <td>0.809257</td>\n",
       "      <td>00:00</td>\n",
       "    </tr>\n",
       "  </tbody>\n",
       "</table>"
      ],
      "text/plain": [
       "<IPython.core.display.HTML object>"
      ]
     },
     "metadata": {},
     "output_type": "display_data"
    }
   ],
   "source": [
    "learn.fit_one_cycle(5, 2e-3)"
   ]
  },
  {
   "cell_type": "code",
   "execution_count": 80,
   "id": "f521fceb",
   "metadata": {
    "execution": {
     "iopub.execute_input": "2022-04-16T07:29:10.515744Z",
     "iopub.status.busy": "2022-04-16T07:29:10.515138Z",
     "iopub.status.idle": "2022-04-16T07:29:10.524046Z",
     "shell.execute_reply": "2022-04-16T07:29:10.523390Z"
    },
    "papermill": {
     "duration": 0.124733,
     "end_time": "2022-04-16T07:29:10.526096",
     "exception": false,
     "start_time": "2022-04-16T07:29:10.401363",
     "status": "completed"
    },
    "tags": []
   },
   "outputs": [],
   "source": [
    "preds = predictWhole(test_ds_raw, tabmodel)"
   ]
  },
  {
   "cell_type": "code",
   "execution_count": 81,
   "id": "100eb310",
   "metadata": {
    "execution": {
     "iopub.execute_input": "2022-04-16T07:29:10.758367Z",
     "iopub.status.busy": "2022-04-16T07:29:10.757501Z",
     "iopub.status.idle": "2022-04-16T07:29:10.765393Z",
     "shell.execute_reply": "2022-04-16T07:29:10.764744Z"
    },
    "papermill": {
     "duration": 0.12652,
     "end_time": "2022-04-16T07:29:10.767369",
     "exception": false,
     "start_time": "2022-04-16T07:29:10.640849",
     "status": "completed"
    },
    "tags": []
   },
   "outputs": [],
   "source": [
    "result = pd.DataFrame({'PassengerId': df_test_pi, 'Survived': preds})\n",
    "result.to_csv('submission_fastai.csv', index=False)"
   ]
  },
  {
   "cell_type": "code",
   "execution_count": null,
   "id": "d4df1d72",
   "metadata": {
    "papermill": {
     "duration": 0.119146,
     "end_time": "2022-04-16T07:29:11.000679",
     "exception": false,
     "start_time": "2022-04-16T07:29:10.881533",
     "status": "completed"
    },
    "tags": []
   },
   "outputs": [],
   "source": []
  }
 ],
 "metadata": {
  "kernelspec": {
   "display_name": "Python 3",
   "language": "python",
   "name": "python3"
  },
  "language_info": {
   "codemirror_mode": {
    "name": "ipython",
    "version": 3
   },
   "file_extension": ".py",
   "mimetype": "text/x-python",
   "name": "python",
   "nbconvert_exporter": "python",
   "pygments_lexer": "ipython3",
   "version": "3.7.12"
  },
  "papermill": {
   "default_parameters": {},
   "duration": 88.900983,
   "end_time": "2022-04-16T07:29:12.340717",
   "environment_variables": {},
   "exception": null,
   "input_path": "__notebook__.ipynb",
   "output_path": "__notebook__.ipynb",
   "parameters": {},
   "start_time": "2022-04-16T07:27:43.439734",
   "version": "2.3.4"
  }
 },
 "nbformat": 4,
 "nbformat_minor": 5
}
