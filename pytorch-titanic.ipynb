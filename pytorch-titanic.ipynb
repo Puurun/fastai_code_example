{
 "cells": [
  {
   "cell_type": "markdown",
   "id": "236c50ae",
   "metadata": {
    "id": "view-in-github",
    "papermill": {
     "duration": 0.06777,
     "end_time": "2022-04-16T07:09:42.276703",
     "exception": false,
     "start_time": "2022-04-16T07:09:42.208933",
     "status": "completed"
    },
    "tags": []
   },
   "source": [
    "<a href=\"https://colab.research.google.com/github/Puurun/fastai_code_example/blob/main/Pytorch_Titanic.ipynb\" target=\"_parent\"><img src=\"https://colab.research.google.com/assets/colab-badge.svg\" alt=\"Open In Colab\"/></a>"
   ]
  },
  {
   "cell_type": "code",
   "execution_count": null,
   "id": "923754f0",
   "metadata": {
    "id": "SCI89IkiejzG",
    "outputId": "c8596ff0-5f2b-4bab-99dd-0d0b181f6795",
    "papermill": {
     "duration": 0.062788,
     "end_time": "2022-04-16T07:09:42.406534",
     "exception": false,
     "start_time": "2022-04-16T07:09:42.343746",
     "status": "completed"
    },
    "tags": []
   },
   "outputs": [],
   "source": []
  },
  {
   "cell_type": "code",
   "execution_count": 1,
   "id": "b15f4d3a",
   "metadata": {
    "execution": {
     "iopub.execute_input": "2022-04-16T07:09:42.563216Z",
     "iopub.status.busy": "2022-04-16T07:09:42.562912Z",
     "iopub.status.idle": "2022-04-16T07:09:53.190248Z",
     "shell.execute_reply": "2022-04-16T07:09:53.189093Z"
    },
    "id": "-ltAnZP3QBy3",
    "outputId": "5be66168-fe3d-46c9-99f8-2d5496bc6f56",
    "papermill": {
     "duration": 10.704018,
     "end_time": "2022-04-16T07:09:53.192742",
     "exception": false,
     "start_time": "2022-04-16T07:09:42.488724",
     "status": "completed"
    },
    "tags": []
   },
   "outputs": [
    {
     "name": "stdout",
     "output_type": "stream",
     "text": [
      "Collecting impyute\r\n",
      "  Downloading impyute-0.0.8-py2.py3-none-any.whl (31 kB)\r\n",
      "Requirement already satisfied: scikit-learn in /opt/conda/lib/python3.7/site-packages (from impyute) (1.0.2)\r\n",
      "Requirement already satisfied: numpy in /opt/conda/lib/python3.7/site-packages (from impyute) (1.21.5)\r\n",
      "Requirement already satisfied: scipy in /opt/conda/lib/python3.7/site-packages (from impyute) (1.7.3)\r\n",
      "Requirement already satisfied: threadpoolctl>=2.0.0 in /opt/conda/lib/python3.7/site-packages (from scikit-learn->impyute) (3.1.0)\r\n",
      "Requirement already satisfied: joblib>=0.11 in /opt/conda/lib/python3.7/site-packages (from scikit-learn->impyute) (1.0.1)\r\n",
      "Installing collected packages: impyute\r\n",
      "Successfully installed impyute-0.0.8\r\n",
      "\u001b[33mWARNING: Running pip as the 'root' user can result in broken permissions and conflicting behaviour with the system package manager. It is recommended to use a virtual environment instead: https://pip.pypa.io/warnings/venv\u001b[0m\u001b[33m\r\n",
      "\u001b[0m"
     ]
    }
   ],
   "source": [
    "!pip install impyute"
   ]
  },
  {
   "cell_type": "code",
   "execution_count": 2,
   "id": "88597de1",
   "metadata": {
    "execution": {
     "iopub.execute_input": "2022-04-16T07:09:53.322823Z",
     "iopub.status.busy": "2022-04-16T07:09:53.322558Z",
     "iopub.status.idle": "2022-04-16T07:10:14.797888Z",
     "shell.execute_reply": "2022-04-16T07:10:14.796618Z"
    },
    "id": "h0xhi6k4bUXN",
    "outputId": "4506c3ee-d33e-4811-8dae-0838b19615cc",
    "papermill": {
     "duration": 21.54262,
     "end_time": "2022-04-16T07:10:14.800179",
     "exception": false,
     "start_time": "2022-04-16T07:09:53.257559",
     "status": "completed"
    },
    "tags": []
   },
   "outputs": [
    {
     "name": "stdout",
     "output_type": "stream",
     "text": [
      "\u001b[31mERROR: pip's dependency resolver does not currently take into account all the packages that are installed. This behaviour is the source of the following dependency conflicts.\r\n",
      "tensorflow-io 0.21.0 requires tensorflow-io-gcs-filesystem==0.21.0, which is not installed.\r\n",
      "tensorflow 2.6.3 requires absl-py~=0.10, but you have absl-py 1.0.0 which is incompatible.\r\n",
      "tensorflow 2.6.3 requires numpy~=1.19.2, but you have numpy 1.21.5 which is incompatible.\r\n",
      "tensorflow 2.6.3 requires six~=1.15.0, but you have six 1.16.0 which is incompatible.\r\n",
      "tensorflow 2.6.3 requires wrapt~=1.12.1, but you have wrapt 1.14.0 which is incompatible.\r\n",
      "tensorflow-transform 1.7.0 requires pyarrow<6,>=1, but you have pyarrow 7.0.0 which is incompatible.\r\n",
      "tensorflow-transform 1.7.0 requires tensorflow!=2.0.*,!=2.1.*,!=2.2.*,!=2.3.*,!=2.4.*,!=2.5.*,!=2.6.*,!=2.7.*,<2.9,>=1.15.5, but you have tensorflow 2.6.3 which is incompatible.\r\n",
      "tensorflow-serving-api 2.8.0 requires tensorflow<3,>=2.8.0, but you have tensorflow 2.6.3 which is incompatible.\r\n",
      "rich 12.2.0 requires typing-extensions<5.0,>=4.0.0; python_version < \"3.9\", but you have typing-extensions 3.10.0.2 which is incompatible.\r\n",
      "pytorch-lightning 1.6.0 requires typing-extensions>=4.0.0, but you have typing-extensions 3.10.0.2 which is incompatible.\r\n",
      "flake8 4.0.1 requires importlib-metadata<4.3; python_version < \"3.8\", but you have importlib-metadata 4.11.3 which is incompatible.\r\n",
      "apache-beam 2.37.0 requires dill<0.3.2,>=0.3.1.1, but you have dill 0.3.4 which is incompatible.\r\n",
      "apache-beam 2.37.0 requires httplib2<0.20.0,>=0.8, but you have httplib2 0.20.4 which is incompatible.\r\n",
      "apache-beam 2.37.0 requires pyarrow<7.0.0,>=0.15.1, but you have pyarrow 7.0.0 which is incompatible.\r\n",
      "aioitertools 0.10.0 requires typing_extensions>=4.0; python_version < \"3.10\", but you have typing-extensions 3.10.0.2 which is incompatible.\r\n",
      "aiobotocore 2.2.0 requires botocore<1.24.22,>=1.24.21, but you have botocore 1.24.38 which is incompatible.\u001b[0m\u001b[31m\r\n",
      "\u001b[0m"
     ]
    }
   ],
   "source": [
    "!pip install fastai -Uqq"
   ]
  },
  {
   "cell_type": "code",
   "execution_count": 3,
   "id": "b40a6e69",
   "metadata": {
    "execution": {
     "iopub.execute_input": "2022-04-16T07:10:14.930114Z",
     "iopub.status.busy": "2022-04-16T07:10:14.929834Z",
     "iopub.status.idle": "2022-04-16T07:10:14.934104Z",
     "shell.execute_reply": "2022-04-16T07:10:14.933340Z"
    },
    "id": "TNgP1SUQd-sh",
    "papermill": {
     "duration": 0.072317,
     "end_time": "2022-04-16T07:10:14.936204",
     "exception": false,
     "start_time": "2022-04-16T07:10:14.863887",
     "status": "completed"
    },
    "tags": []
   },
   "outputs": [],
   "source": [
    "gpu = False\n",
    "device = 'cuda' if gpu else 'cpu'"
   ]
  },
  {
   "cell_type": "code",
   "execution_count": 4,
   "id": "3356f177",
   "metadata": {
    "execution": {
     "iopub.execute_input": "2022-04-16T07:10:15.068092Z",
     "iopub.status.busy": "2022-04-16T07:10:15.067793Z",
     "iopub.status.idle": "2022-04-16T07:10:16.458780Z",
     "shell.execute_reply": "2022-04-16T07:10:16.457925Z"
    },
    "id": "JYxhj_fHeOwx",
    "papermill": {
     "duration": 1.459486,
     "end_time": "2022-04-16T07:10:16.461095",
     "exception": false,
     "start_time": "2022-04-16T07:10:15.001609",
     "status": "completed"
    },
    "tags": []
   },
   "outputs": [],
   "source": [
    "import pandas as pd\n",
    "import numpy as np\n",
    "import seaborn as sns\n",
    "import matplotlib.pyplot as plt\n",
    "import impyute as im\n",
    "import sys\n",
    "from impyute.imputation.cs import fast_knn\n",
    "from sklearn.preprocessing import OrdinalEncoder"
   ]
  },
  {
   "cell_type": "code",
   "execution_count": 5,
   "id": "03cb0f9b",
   "metadata": {
    "execution": {
     "iopub.execute_input": "2022-04-16T07:10:16.590848Z",
     "iopub.status.busy": "2022-04-16T07:10:16.590218Z",
     "iopub.status.idle": "2022-04-16T07:10:16.617800Z",
     "shell.execute_reply": "2022-04-16T07:10:16.617022Z"
    },
    "id": "ZkXCpX_cedrB",
    "papermill": {
     "duration": 0.094748,
     "end_time": "2022-04-16T07:10:16.619794",
     "exception": false,
     "start_time": "2022-04-16T07:10:16.525046",
     "status": "completed"
    },
    "tags": []
   },
   "outputs": [],
   "source": [
    "df = pd.read_csv('../input/titanic/train.csv')\n",
    "df_test = pd.read_csv('../input/titanic/test.csv')"
   ]
  },
  {
   "cell_type": "code",
   "execution_count": 6,
   "id": "766a49ca",
   "metadata": {
    "execution": {
     "iopub.execute_input": "2022-04-16T07:10:16.749827Z",
     "iopub.status.busy": "2022-04-16T07:10:16.749362Z",
     "iopub.status.idle": "2022-04-16T07:10:16.755921Z",
     "shell.execute_reply": "2022-04-16T07:10:16.755310Z"
    },
    "id": "Ebfuhs5-eu87",
    "outputId": "13da6f35-ff67-448e-a73b-0c9449bb3e2e",
    "papermill": {
     "duration": 0.072768,
     "end_time": "2022-04-16T07:10:16.757477",
     "exception": false,
     "start_time": "2022-04-16T07:10:16.684709",
     "status": "completed"
    },
    "tags": []
   },
   "outputs": [
    {
     "data": {
      "text/plain": [
       "array(['PassengerId', 'Survived', 'Pclass', 'Name', 'Sex', 'Age', 'SibSp',\n",
       "       'Parch', 'Ticket', 'Fare', 'Cabin', 'Embarked'], dtype=object)"
      ]
     },
     "execution_count": 6,
     "metadata": {},
     "output_type": "execute_result"
    }
   ],
   "source": [
    "df.columns.values"
   ]
  },
  {
   "cell_type": "code",
   "execution_count": null,
   "id": "12c9af62",
   "metadata": {
    "papermill": {
     "duration": 0.063933,
     "end_time": "2022-04-16T07:10:16.886209",
     "exception": false,
     "start_time": "2022-04-16T07:10:16.822276",
     "status": "completed"
    },
    "tags": []
   },
   "outputs": [],
   "source": []
  },
  {
   "cell_type": "code",
   "execution_count": null,
   "id": "127f2e2f",
   "metadata": {
    "papermill": {
     "duration": 0.06632,
     "end_time": "2022-04-16T07:10:17.018836",
     "exception": false,
     "start_time": "2022-04-16T07:10:16.952516",
     "status": "completed"
    },
    "tags": []
   },
   "outputs": [],
   "source": []
  },
  {
   "cell_type": "code",
   "execution_count": 7,
   "id": "e53af16b",
   "metadata": {
    "execution": {
     "iopub.execute_input": "2022-04-16T07:10:17.148414Z",
     "iopub.status.busy": "2022-04-16T07:10:17.147967Z",
     "iopub.status.idle": "2022-04-16T07:10:17.152200Z",
     "shell.execute_reply": "2022-04-16T07:10:17.151383Z"
    },
    "id": "RmyHWYzXe4EJ",
    "papermill": {
     "duration": 0.070718,
     "end_time": "2022-04-16T07:10:17.153911",
     "exception": false,
     "start_time": "2022-04-16T07:10:17.083193",
     "status": "completed"
    },
    "tags": []
   },
   "outputs": [],
   "source": [
    "dep_var = ['Survived']\n",
    "cat_var = ['Sex', 'Embarked']\n",
    "ord_var = ['Pclass']\n",
    "cont_var = ['Age', 'Fare']\n",
    "desc_var = ['SibSp', 'Parch']"
   ]
  },
  {
   "cell_type": "code",
   "execution_count": 8,
   "id": "71421d63",
   "metadata": {
    "execution": {
     "iopub.execute_input": "2022-04-16T07:10:17.283005Z",
     "iopub.status.busy": "2022-04-16T07:10:17.282711Z",
     "iopub.status.idle": "2022-04-16T07:10:17.307526Z",
     "shell.execute_reply": "2022-04-16T07:10:17.306724Z"
    },
    "id": "OOwkYfTuoCDo",
    "papermill": {
     "duration": 0.091716,
     "end_time": "2022-04-16T07:10:17.309589",
     "exception": false,
     "start_time": "2022-04-16T07:10:17.217873",
     "status": "completed"
    },
    "tags": []
   },
   "outputs": [],
   "source": [
    "combine = [df, df_test]\n",
    "for dataset in combine:\n",
    "    dataset[cat_var+ord_var] = dataset[cat_var+ord_var].astype('category')\n",
    "    dataset['Pclass'] = dataset['Pclass'].cat.set_categories([1, 2, 3], ordered=True)"
   ]
  },
  {
   "cell_type": "code",
   "execution_count": 9,
   "id": "50346a12",
   "metadata": {
    "execution": {
     "iopub.execute_input": "2022-04-16T07:10:17.440949Z",
     "iopub.status.busy": "2022-04-16T07:10:17.440467Z",
     "iopub.status.idle": "2022-04-16T07:10:17.446772Z",
     "shell.execute_reply": "2022-04-16T07:10:17.446205Z"
    },
    "id": "reaPqaUmfn2G",
    "outputId": "d2fc0f49-98c2-4759-9c4b-287b1a22475e",
    "papermill": {
     "duration": 0.074833,
     "end_time": "2022-04-16T07:10:17.448560",
     "exception": false,
     "start_time": "2022-04-16T07:10:17.373727",
     "status": "completed"
    },
    "tags": []
   },
   "outputs": [
    {
     "data": {
      "text/plain": [
       "PassengerId       int64\n",
       "Survived          int64\n",
       "Pclass         category\n",
       "Name             object\n",
       "Sex            category\n",
       "Age             float64\n",
       "SibSp             int64\n",
       "Parch             int64\n",
       "Ticket           object\n",
       "Fare            float64\n",
       "Cabin            object\n",
       "Embarked       category\n",
       "dtype: object"
      ]
     },
     "execution_count": 9,
     "metadata": {},
     "output_type": "execute_result"
    }
   ],
   "source": [
    "df.dtypes"
   ]
  },
  {
   "cell_type": "code",
   "execution_count": 10,
   "id": "27309c58",
   "metadata": {
    "execution": {
     "iopub.execute_input": "2022-04-16T07:10:17.583167Z",
     "iopub.status.busy": "2022-04-16T07:10:17.582690Z",
     "iopub.status.idle": "2022-04-16T07:10:17.594120Z",
     "shell.execute_reply": "2022-04-16T07:10:17.593559Z"
    },
    "id": "SqiH0pOrfob-",
    "outputId": "5e1d6efe-0e0a-45d5-90fb-240e5fb6daef",
    "papermill": {
     "duration": 0.082033,
     "end_time": "2022-04-16T07:10:17.595922",
     "exception": false,
     "start_time": "2022-04-16T07:10:17.513889",
     "status": "completed"
    },
    "tags": []
   },
   "outputs": [
    {
     "data": {
      "text/plain": [
       "Cabin          0.771044\n",
       "Age            0.198653\n",
       "Embarked       0.002245\n",
       "PassengerId    0.000000\n",
       "Survived       0.000000\n",
       "Pclass         0.000000\n",
       "Name           0.000000\n",
       "Sex            0.000000\n",
       "SibSp          0.000000\n",
       "Parch          0.000000\n",
       "Ticket         0.000000\n",
       "Fare           0.000000\n",
       "dtype: float64"
      ]
     },
     "execution_count": 10,
     "metadata": {},
     "output_type": "execute_result"
    }
   ],
   "source": [
    "null_check = (df.isnull().sum()/ df.isnull().count()).sort_values(ascending=False)\n",
    "null_check"
   ]
  },
  {
   "cell_type": "code",
   "execution_count": 11,
   "id": "a29f39f4",
   "metadata": {
    "execution": {
     "iopub.execute_input": "2022-04-16T07:10:17.727583Z",
     "iopub.status.busy": "2022-04-16T07:10:17.727098Z",
     "iopub.status.idle": "2022-04-16T07:10:17.750718Z",
     "shell.execute_reply": "2022-04-16T07:10:17.749807Z"
    },
    "id": "VGzez6fnf2Qn",
    "outputId": "8ec2ead3-f2c2-4fc0-bd15-0b2e2305601a",
    "papermill": {
     "duration": 0.092418,
     "end_time": "2022-04-16T07:10:17.753865",
     "exception": false,
     "start_time": "2022-04-16T07:10:17.661447",
     "status": "completed"
    },
    "tags": []
   },
   "outputs": [
    {
     "name": "stdout",
     "output_type": "stream",
     "text": [
      "<class 'pandas.core.frame.DataFrame'>\n",
      "RangeIndex: 891 entries, 0 to 890\n",
      "Data columns (total 12 columns):\n",
      " #   Column       Non-Null Count  Dtype   \n",
      "---  ------       --------------  -----   \n",
      " 0   PassengerId  891 non-null    int64   \n",
      " 1   Survived     891 non-null    int64   \n",
      " 2   Pclass       891 non-null    category\n",
      " 3   Name         891 non-null    object  \n",
      " 4   Sex          891 non-null    category\n",
      " 5   Age          714 non-null    float64 \n",
      " 6   SibSp        891 non-null    int64   \n",
      " 7   Parch        891 non-null    int64   \n",
      " 8   Ticket       891 non-null    object  \n",
      " 9   Fare         891 non-null    float64 \n",
      " 10  Cabin        204 non-null    object  \n",
      " 11  Embarked     889 non-null    category\n",
      "dtypes: category(3), float64(2), int64(4), object(3)\n",
      "memory usage: 65.8+ KB\n",
      "****************************************\n",
      "<class 'pandas.core.frame.DataFrame'>\n",
      "RangeIndex: 418 entries, 0 to 417\n",
      "Data columns (total 11 columns):\n",
      " #   Column       Non-Null Count  Dtype   \n",
      "---  ------       --------------  -----   \n",
      " 0   PassengerId  418 non-null    int64   \n",
      " 1   Pclass       418 non-null    category\n",
      " 2   Name         418 non-null    object  \n",
      " 3   Sex          418 non-null    category\n",
      " 4   Age          332 non-null    float64 \n",
      " 5   SibSp        418 non-null    int64   \n",
      " 6   Parch        418 non-null    int64   \n",
      " 7   Ticket       418 non-null    object  \n",
      " 8   Fare         417 non-null    float64 \n",
      " 9   Cabin        91 non-null     object  \n",
      " 10  Embarked     418 non-null    category\n",
      "dtypes: category(3), float64(2), int64(3), object(3)\n",
      "memory usage: 27.9+ KB\n"
     ]
    }
   ],
   "source": [
    "df.info()\n",
    "print('*'*40)\n",
    "df_test.info()"
   ]
  },
  {
   "cell_type": "code",
   "execution_count": 12,
   "id": "fa420155",
   "metadata": {
    "execution": {
     "iopub.execute_input": "2022-04-16T07:10:17.888440Z",
     "iopub.status.busy": "2022-04-16T07:10:17.887992Z",
     "iopub.status.idle": "2022-04-16T07:10:17.919397Z",
     "shell.execute_reply": "2022-04-16T07:10:17.918507Z"
    },
    "id": "hkD9m0ZQgsX-",
    "outputId": "2820baaf-d9fb-4648-8381-767b7a8fee64",
    "papermill": {
     "duration": 0.099857,
     "end_time": "2022-04-16T07:10:17.921431",
     "exception": false,
     "start_time": "2022-04-16T07:10:17.821574",
     "status": "completed"
    },
    "tags": []
   },
   "outputs": [
    {
     "data": {
      "text/html": [
       "<div>\n",
       "<style scoped>\n",
       "    .dataframe tbody tr th:only-of-type {\n",
       "        vertical-align: middle;\n",
       "    }\n",
       "\n",
       "    .dataframe tbody tr th {\n",
       "        vertical-align: top;\n",
       "    }\n",
       "\n",
       "    .dataframe thead th {\n",
       "        text-align: right;\n",
       "    }\n",
       "</style>\n",
       "<table border=\"1\" class=\"dataframe\">\n",
       "  <thead>\n",
       "    <tr style=\"text-align: right;\">\n",
       "      <th></th>\n",
       "      <th>PassengerId</th>\n",
       "      <th>Survived</th>\n",
       "      <th>Age</th>\n",
       "      <th>SibSp</th>\n",
       "      <th>Parch</th>\n",
       "      <th>Fare</th>\n",
       "    </tr>\n",
       "  </thead>\n",
       "  <tbody>\n",
       "    <tr>\n",
       "      <th>count</th>\n",
       "      <td>891.000000</td>\n",
       "      <td>891.000000</td>\n",
       "      <td>714.000000</td>\n",
       "      <td>891.000000</td>\n",
       "      <td>891.000000</td>\n",
       "      <td>891.000000</td>\n",
       "    </tr>\n",
       "    <tr>\n",
       "      <th>mean</th>\n",
       "      <td>446.000000</td>\n",
       "      <td>0.383838</td>\n",
       "      <td>29.699118</td>\n",
       "      <td>0.523008</td>\n",
       "      <td>0.381594</td>\n",
       "      <td>32.204208</td>\n",
       "    </tr>\n",
       "    <tr>\n",
       "      <th>std</th>\n",
       "      <td>257.353842</td>\n",
       "      <td>0.486592</td>\n",
       "      <td>14.526497</td>\n",
       "      <td>1.102743</td>\n",
       "      <td>0.806057</td>\n",
       "      <td>49.693429</td>\n",
       "    </tr>\n",
       "    <tr>\n",
       "      <th>min</th>\n",
       "      <td>1.000000</td>\n",
       "      <td>0.000000</td>\n",
       "      <td>0.420000</td>\n",
       "      <td>0.000000</td>\n",
       "      <td>0.000000</td>\n",
       "      <td>0.000000</td>\n",
       "    </tr>\n",
       "    <tr>\n",
       "      <th>25%</th>\n",
       "      <td>223.500000</td>\n",
       "      <td>0.000000</td>\n",
       "      <td>20.125000</td>\n",
       "      <td>0.000000</td>\n",
       "      <td>0.000000</td>\n",
       "      <td>7.910400</td>\n",
       "    </tr>\n",
       "    <tr>\n",
       "      <th>50%</th>\n",
       "      <td>446.000000</td>\n",
       "      <td>0.000000</td>\n",
       "      <td>28.000000</td>\n",
       "      <td>0.000000</td>\n",
       "      <td>0.000000</td>\n",
       "      <td>14.454200</td>\n",
       "    </tr>\n",
       "    <tr>\n",
       "      <th>75%</th>\n",
       "      <td>668.500000</td>\n",
       "      <td>1.000000</td>\n",
       "      <td>38.000000</td>\n",
       "      <td>1.000000</td>\n",
       "      <td>0.000000</td>\n",
       "      <td>31.000000</td>\n",
       "    </tr>\n",
       "    <tr>\n",
       "      <th>max</th>\n",
       "      <td>891.000000</td>\n",
       "      <td>1.000000</td>\n",
       "      <td>80.000000</td>\n",
       "      <td>8.000000</td>\n",
       "      <td>6.000000</td>\n",
       "      <td>512.329200</td>\n",
       "    </tr>\n",
       "  </tbody>\n",
       "</table>\n",
       "</div>"
      ],
      "text/plain": [
       "       PassengerId    Survived         Age       SibSp       Parch        Fare\n",
       "count   891.000000  891.000000  714.000000  891.000000  891.000000  891.000000\n",
       "mean    446.000000    0.383838   29.699118    0.523008    0.381594   32.204208\n",
       "std     257.353842    0.486592   14.526497    1.102743    0.806057   49.693429\n",
       "min       1.000000    0.000000    0.420000    0.000000    0.000000    0.000000\n",
       "25%     223.500000    0.000000   20.125000    0.000000    0.000000    7.910400\n",
       "50%     446.000000    0.000000   28.000000    0.000000    0.000000   14.454200\n",
       "75%     668.500000    1.000000   38.000000    1.000000    0.000000   31.000000\n",
       "max     891.000000    1.000000   80.000000    8.000000    6.000000  512.329200"
      ]
     },
     "execution_count": 12,
     "metadata": {},
     "output_type": "execute_result"
    }
   ],
   "source": [
    "df.describe()"
   ]
  },
  {
   "cell_type": "code",
   "execution_count": 13,
   "id": "53e31117",
   "metadata": {
    "execution": {
     "iopub.execute_input": "2022-04-16T07:10:18.058767Z",
     "iopub.status.busy": "2022-04-16T07:10:18.058280Z",
     "iopub.status.idle": "2022-04-16T07:10:18.074034Z",
     "shell.execute_reply": "2022-04-16T07:10:18.073263Z"
    },
    "id": "laMZG81ghSrn",
    "outputId": "8a784e5c-4885-4dfd-e05e-1d65d61b9dea",
    "papermill": {
     "duration": 0.087167,
     "end_time": "2022-04-16T07:10:18.075863",
     "exception": false,
     "start_time": "2022-04-16T07:10:17.988696",
     "status": "completed"
    },
    "tags": []
   },
   "outputs": [
    {
     "data": {
      "text/html": [
       "<div>\n",
       "<style scoped>\n",
       "    .dataframe tbody tr th:only-of-type {\n",
       "        vertical-align: middle;\n",
       "    }\n",
       "\n",
       "    .dataframe tbody tr th {\n",
       "        vertical-align: top;\n",
       "    }\n",
       "\n",
       "    .dataframe thead th {\n",
       "        text-align: right;\n",
       "    }\n",
       "</style>\n",
       "<table border=\"1\" class=\"dataframe\">\n",
       "  <thead>\n",
       "    <tr style=\"text-align: right;\">\n",
       "      <th></th>\n",
       "      <th>Name</th>\n",
       "      <th>Ticket</th>\n",
       "      <th>Cabin</th>\n",
       "    </tr>\n",
       "  </thead>\n",
       "  <tbody>\n",
       "    <tr>\n",
       "      <th>count</th>\n",
       "      <td>891</td>\n",
       "      <td>891</td>\n",
       "      <td>204</td>\n",
       "    </tr>\n",
       "    <tr>\n",
       "      <th>unique</th>\n",
       "      <td>891</td>\n",
       "      <td>681</td>\n",
       "      <td>147</td>\n",
       "    </tr>\n",
       "    <tr>\n",
       "      <th>top</th>\n",
       "      <td>Braund, Mr. Owen Harris</td>\n",
       "      <td>347082</td>\n",
       "      <td>B96 B98</td>\n",
       "    </tr>\n",
       "    <tr>\n",
       "      <th>freq</th>\n",
       "      <td>1</td>\n",
       "      <td>7</td>\n",
       "      <td>4</td>\n",
       "    </tr>\n",
       "  </tbody>\n",
       "</table>\n",
       "</div>"
      ],
      "text/plain": [
       "                           Name  Ticket    Cabin\n",
       "count                       891     891      204\n",
       "unique                      891     681      147\n",
       "top     Braund, Mr. Owen Harris  347082  B96 B98\n",
       "freq                          1       7        4"
      ]
     },
     "execution_count": 13,
     "metadata": {},
     "output_type": "execute_result"
    }
   ],
   "source": [
    "df.describe(include=['O'])"
   ]
  },
  {
   "cell_type": "code",
   "execution_count": 14,
   "id": "56a97279",
   "metadata": {
    "execution": {
     "iopub.execute_input": "2022-04-16T07:10:18.208886Z",
     "iopub.status.busy": "2022-04-16T07:10:18.208601Z",
     "iopub.status.idle": "2022-04-16T07:10:18.227088Z",
     "shell.execute_reply": "2022-04-16T07:10:18.226530Z"
    },
    "id": "o-dObXW5hoG4",
    "papermill": {
     "duration": 0.087045,
     "end_time": "2022-04-16T07:10:18.228946",
     "exception": false,
     "start_time": "2022-04-16T07:10:18.141901",
     "status": "completed"
    },
    "tags": []
   },
   "outputs": [],
   "source": [
    "# analyze by pivoting features\n",
    "features_to_analyze = ['Pclass', 'SibSp', 'Parch', 'Sex']\n",
    "pivot_analyzation = {\n",
    "    feature: \n",
    "    df[[feature, 'Survived']].groupby(by=[feature], as_index=False).mean().sort_values(by=\"Survived\", ascending=False)\n",
    "    for feature in features_to_analyze\n",
    "}"
   ]
  },
  {
   "cell_type": "code",
   "execution_count": 15,
   "id": "bd5cb6ae",
   "metadata": {
    "execution": {
     "iopub.execute_input": "2022-04-16T07:10:18.361771Z",
     "iopub.status.busy": "2022-04-16T07:10:18.361477Z",
     "iopub.status.idle": "2022-04-16T07:10:18.369806Z",
     "shell.execute_reply": "2022-04-16T07:10:18.369213Z"
    },
    "id": "gf1yZKlknYg5",
    "outputId": "e2b7d94e-3993-42dd-8144-7b33f5cf9a14",
    "papermill": {
     "duration": 0.076687,
     "end_time": "2022-04-16T07:10:18.371729",
     "exception": false,
     "start_time": "2022-04-16T07:10:18.295042",
     "status": "completed"
    },
    "tags": []
   },
   "outputs": [
    {
     "data": {
      "text/html": [
       "<div>\n",
       "<style scoped>\n",
       "    .dataframe tbody tr th:only-of-type {\n",
       "        vertical-align: middle;\n",
       "    }\n",
       "\n",
       "    .dataframe tbody tr th {\n",
       "        vertical-align: top;\n",
       "    }\n",
       "\n",
       "    .dataframe thead th {\n",
       "        text-align: right;\n",
       "    }\n",
       "</style>\n",
       "<table border=\"1\" class=\"dataframe\">\n",
       "  <thead>\n",
       "    <tr style=\"text-align: right;\">\n",
       "      <th></th>\n",
       "      <th>Pclass</th>\n",
       "      <th>Survived</th>\n",
       "    </tr>\n",
       "  </thead>\n",
       "  <tbody>\n",
       "    <tr>\n",
       "      <th>0</th>\n",
       "      <td>1</td>\n",
       "      <td>0.629630</td>\n",
       "    </tr>\n",
       "    <tr>\n",
       "      <th>1</th>\n",
       "      <td>2</td>\n",
       "      <td>0.472826</td>\n",
       "    </tr>\n",
       "    <tr>\n",
       "      <th>2</th>\n",
       "      <td>3</td>\n",
       "      <td>0.242363</td>\n",
       "    </tr>\n",
       "  </tbody>\n",
       "</table>\n",
       "</div>"
      ],
      "text/plain": [
       "  Pclass  Survived\n",
       "0      1  0.629630\n",
       "1      2  0.472826\n",
       "2      3  0.242363"
      ]
     },
     "execution_count": 15,
     "metadata": {},
     "output_type": "execute_result"
    }
   ],
   "source": [
    "pivot_analyzation['Pclass']"
   ]
  },
  {
   "cell_type": "code",
   "execution_count": 16,
   "id": "dba94d2e",
   "metadata": {
    "execution": {
     "iopub.execute_input": "2022-04-16T07:10:18.507926Z",
     "iopub.status.busy": "2022-04-16T07:10:18.507411Z",
     "iopub.status.idle": "2022-04-16T07:10:18.516004Z",
     "shell.execute_reply": "2022-04-16T07:10:18.515416Z"
    },
    "id": "tpunEm9lqUQx",
    "outputId": "ef38b2ec-6d29-4e6c-9e2f-0ff7a2e5a2b0",
    "papermill": {
     "duration": 0.078932,
     "end_time": "2022-04-16T07:10:18.518009",
     "exception": false,
     "start_time": "2022-04-16T07:10:18.439077",
     "status": "completed"
    },
    "tags": []
   },
   "outputs": [
    {
     "data": {
      "text/html": [
       "<div>\n",
       "<style scoped>\n",
       "    .dataframe tbody tr th:only-of-type {\n",
       "        vertical-align: middle;\n",
       "    }\n",
       "\n",
       "    .dataframe tbody tr th {\n",
       "        vertical-align: top;\n",
       "    }\n",
       "\n",
       "    .dataframe thead th {\n",
       "        text-align: right;\n",
       "    }\n",
       "</style>\n",
       "<table border=\"1\" class=\"dataframe\">\n",
       "  <thead>\n",
       "    <tr style=\"text-align: right;\">\n",
       "      <th></th>\n",
       "      <th>Sex</th>\n",
       "      <th>Survived</th>\n",
       "    </tr>\n",
       "  </thead>\n",
       "  <tbody>\n",
       "    <tr>\n",
       "      <th>0</th>\n",
       "      <td>female</td>\n",
       "      <td>0.742038</td>\n",
       "    </tr>\n",
       "    <tr>\n",
       "      <th>1</th>\n",
       "      <td>male</td>\n",
       "      <td>0.188908</td>\n",
       "    </tr>\n",
       "  </tbody>\n",
       "</table>\n",
       "</div>"
      ],
      "text/plain": [
       "      Sex  Survived\n",
       "0  female  0.742038\n",
       "1    male  0.188908"
      ]
     },
     "execution_count": 16,
     "metadata": {},
     "output_type": "execute_result"
    }
   ],
   "source": [
    "pivot_analyzation['Sex']"
   ]
  },
  {
   "cell_type": "code",
   "execution_count": 17,
   "id": "8db15ee1",
   "metadata": {
    "execution": {
     "iopub.execute_input": "2022-04-16T07:10:18.655102Z",
     "iopub.status.busy": "2022-04-16T07:10:18.654585Z",
     "iopub.status.idle": "2022-04-16T07:10:18.662218Z",
     "shell.execute_reply": "2022-04-16T07:10:18.661658Z"
    },
    "id": "241vk8uuqVpB",
    "outputId": "bbd52dc0-574e-44ce-efd8-d98f78847f81",
    "papermill": {
     "duration": 0.078289,
     "end_time": "2022-04-16T07:10:18.664108",
     "exception": false,
     "start_time": "2022-04-16T07:10:18.585819",
     "status": "completed"
    },
    "tags": []
   },
   "outputs": [
    {
     "data": {
      "text/html": [
       "<div>\n",
       "<style scoped>\n",
       "    .dataframe tbody tr th:only-of-type {\n",
       "        vertical-align: middle;\n",
       "    }\n",
       "\n",
       "    .dataframe tbody tr th {\n",
       "        vertical-align: top;\n",
       "    }\n",
       "\n",
       "    .dataframe thead th {\n",
       "        text-align: right;\n",
       "    }\n",
       "</style>\n",
       "<table border=\"1\" class=\"dataframe\">\n",
       "  <thead>\n",
       "    <tr style=\"text-align: right;\">\n",
       "      <th></th>\n",
       "      <th>SibSp</th>\n",
       "      <th>Survived</th>\n",
       "    </tr>\n",
       "  </thead>\n",
       "  <tbody>\n",
       "    <tr>\n",
       "      <th>1</th>\n",
       "      <td>1</td>\n",
       "      <td>0.535885</td>\n",
       "    </tr>\n",
       "    <tr>\n",
       "      <th>2</th>\n",
       "      <td>2</td>\n",
       "      <td>0.464286</td>\n",
       "    </tr>\n",
       "    <tr>\n",
       "      <th>0</th>\n",
       "      <td>0</td>\n",
       "      <td>0.345395</td>\n",
       "    </tr>\n",
       "    <tr>\n",
       "      <th>3</th>\n",
       "      <td>3</td>\n",
       "      <td>0.250000</td>\n",
       "    </tr>\n",
       "    <tr>\n",
       "      <th>4</th>\n",
       "      <td>4</td>\n",
       "      <td>0.166667</td>\n",
       "    </tr>\n",
       "    <tr>\n",
       "      <th>5</th>\n",
       "      <td>5</td>\n",
       "      <td>0.000000</td>\n",
       "    </tr>\n",
       "    <tr>\n",
       "      <th>6</th>\n",
       "      <td>8</td>\n",
       "      <td>0.000000</td>\n",
       "    </tr>\n",
       "  </tbody>\n",
       "</table>\n",
       "</div>"
      ],
      "text/plain": [
       "   SibSp  Survived\n",
       "1      1  0.535885\n",
       "2      2  0.464286\n",
       "0      0  0.345395\n",
       "3      3  0.250000\n",
       "4      4  0.166667\n",
       "5      5  0.000000\n",
       "6      8  0.000000"
      ]
     },
     "execution_count": 17,
     "metadata": {},
     "output_type": "execute_result"
    }
   ],
   "source": [
    "pivot_analyzation['SibSp']"
   ]
  },
  {
   "cell_type": "code",
   "execution_count": 18,
   "id": "4663b6cb",
   "metadata": {
    "execution": {
     "iopub.execute_input": "2022-04-16T07:10:18.805408Z",
     "iopub.status.busy": "2022-04-16T07:10:18.804896Z",
     "iopub.status.idle": "2022-04-16T07:10:18.812859Z",
     "shell.execute_reply": "2022-04-16T07:10:18.812288Z"
    },
    "id": "lHpIt7GiqW2p",
    "outputId": "bc17a7cf-30b1-4028-834c-f803b569cf2e",
    "papermill": {
     "duration": 0.079339,
     "end_time": "2022-04-16T07:10:18.814727",
     "exception": false,
     "start_time": "2022-04-16T07:10:18.735388",
     "status": "completed"
    },
    "tags": []
   },
   "outputs": [
    {
     "data": {
      "text/html": [
       "<div>\n",
       "<style scoped>\n",
       "    .dataframe tbody tr th:only-of-type {\n",
       "        vertical-align: middle;\n",
       "    }\n",
       "\n",
       "    .dataframe tbody tr th {\n",
       "        vertical-align: top;\n",
       "    }\n",
       "\n",
       "    .dataframe thead th {\n",
       "        text-align: right;\n",
       "    }\n",
       "</style>\n",
       "<table border=\"1\" class=\"dataframe\">\n",
       "  <thead>\n",
       "    <tr style=\"text-align: right;\">\n",
       "      <th></th>\n",
       "      <th>Parch</th>\n",
       "      <th>Survived</th>\n",
       "    </tr>\n",
       "  </thead>\n",
       "  <tbody>\n",
       "    <tr>\n",
       "      <th>3</th>\n",
       "      <td>3</td>\n",
       "      <td>0.600000</td>\n",
       "    </tr>\n",
       "    <tr>\n",
       "      <th>1</th>\n",
       "      <td>1</td>\n",
       "      <td>0.550847</td>\n",
       "    </tr>\n",
       "    <tr>\n",
       "      <th>2</th>\n",
       "      <td>2</td>\n",
       "      <td>0.500000</td>\n",
       "    </tr>\n",
       "    <tr>\n",
       "      <th>0</th>\n",
       "      <td>0</td>\n",
       "      <td>0.343658</td>\n",
       "    </tr>\n",
       "    <tr>\n",
       "      <th>5</th>\n",
       "      <td>5</td>\n",
       "      <td>0.200000</td>\n",
       "    </tr>\n",
       "    <tr>\n",
       "      <th>4</th>\n",
       "      <td>4</td>\n",
       "      <td>0.000000</td>\n",
       "    </tr>\n",
       "    <tr>\n",
       "      <th>6</th>\n",
       "      <td>6</td>\n",
       "      <td>0.000000</td>\n",
       "    </tr>\n",
       "  </tbody>\n",
       "</table>\n",
       "</div>"
      ],
      "text/plain": [
       "   Parch  Survived\n",
       "3      3  0.600000\n",
       "1      1  0.550847\n",
       "2      2  0.500000\n",
       "0      0  0.343658\n",
       "5      5  0.200000\n",
       "4      4  0.000000\n",
       "6      6  0.000000"
      ]
     },
     "execution_count": 18,
     "metadata": {},
     "output_type": "execute_result"
    }
   ],
   "source": [
    "pivot_analyzation['Parch']"
   ]
  },
  {
   "cell_type": "code",
   "execution_count": 19,
   "id": "de1e4fc8",
   "metadata": {
    "execution": {
     "iopub.execute_input": "2022-04-16T07:10:18.951910Z",
     "iopub.status.busy": "2022-04-16T07:10:18.951452Z",
     "iopub.status.idle": "2022-04-16T07:10:19.401956Z",
     "shell.execute_reply": "2022-04-16T07:10:19.401067Z"
    },
    "id": "Ywer2rKnqYYh",
    "outputId": "cc649324-de7c-48aa-94d5-92125991f3f5",
    "papermill": {
     "duration": 0.521438,
     "end_time": "2022-04-16T07:10:19.403876",
     "exception": false,
     "start_time": "2022-04-16T07:10:18.882438",
     "status": "completed"
    },
    "tags": []
   },
   "outputs": [
    {
     "data": {
      "text/plain": [
       "<seaborn.axisgrid.FacetGrid at 0x7fac31d60850>"
      ]
     },
     "execution_count": 19,
     "metadata": {},
     "output_type": "execute_result"
    },
    {
     "data": {
      "image/png": "[encoded data removed]",
      "text/plain": [
       "<Figure size 432x216 with 2 Axes>"
      ]
     },
     "metadata": {
      "needs_background": "light"
     },
     "output_type": "display_data"
    }
   ],
   "source": [
    "g = sns.FacetGrid(df, col='Survived')\n",
    "g.map(plt.hist, 'Age', bins=20)"
   ]
  },
  {
   "cell_type": "code",
   "execution_count": 20,
   "id": "d55ccf0e",
   "metadata": {
    "execution": {
     "iopub.execute_input": "2022-04-16T07:10:19.542151Z",
     "iopub.status.busy": "2022-04-16T07:10:19.541647Z",
     "iopub.status.idle": "2022-04-16T07:10:20.831127Z",
     "shell.execute_reply": "2022-04-16T07:10:20.829951Z"
    },
    "id": "lqwW73t4enEq",
    "outputId": "c860a56b-73e0-4733-86aa-bca356f6b472",
    "papermill": {
     "duration": 1.361497,
     "end_time": "2022-04-16T07:10:20.833756",
     "exception": false,
     "start_time": "2022-04-16T07:10:19.472259",
     "status": "completed"
    },
    "tags": []
   },
   "outputs": [
    {
     "data": {
      "text/plain": [
       "<seaborn.axisgrid.FacetGrid at 0x7fac2e40aad0>"
      ]
     },
     "execution_count": 20,
     "metadata": {},
     "output_type": "execute_result"
    },
    {
     "data": {
      "image/png": "[encoded data removed]",
      "text/plain": [
       "<Figure size 432x648 with 6 Axes>"
      ]
     },
     "metadata": {
      "needs_background": "light"
     },
     "output_type": "display_data"
    }
   ],
   "source": [
    "g = sns.FacetGrid(df, col='Survived', row='Pclass')\n",
    "g.map(plt.hist, 'Age', bins=20)"
   ]
  },
  {
   "cell_type": "code",
   "execution_count": 21,
   "id": "f6b018e5",
   "metadata": {
    "execution": {
     "iopub.execute_input": "2022-04-16T07:10:20.982355Z",
     "iopub.status.busy": "2022-04-16T07:10:20.981678Z",
     "iopub.status.idle": "2022-04-16T07:10:22.126682Z",
     "shell.execute_reply": "2022-04-16T07:10:22.126051Z"
    },
    "id": "cDU94G6yfFrb",
    "outputId": "d7f9d0b7-7b1c-41e2-f705-dfd01271c23a",
    "papermill": {
     "duration": 1.220503,
     "end_time": "2022-04-16T07:10:22.128573",
     "exception": false,
     "start_time": "2022-04-16T07:10:20.908070",
     "status": "completed"
    },
    "tags": []
   },
   "outputs": [
    {
     "name": "stderr",
     "output_type": "stream",
     "text": [
      "/opt/conda/lib/python3.7/site-packages/seaborn/axisgrid.py:670: UserWarning: Using the pointplot function without specifying `order` is likely to produce an incorrect plot.\n",
      "  warnings.warn(warning)\n",
      "/opt/conda/lib/python3.7/site-packages/seaborn/axisgrid.py:675: UserWarning: Using the pointplot function without specifying `hue_order` is likely to produce an incorrect plot.\n",
      "  warnings.warn(warning)\n"
     ]
    },
    {
     "data": {
      "text/plain": [
       "<seaborn.axisgrid.FacetGrid at 0x7fac2df8c750>"
      ]
     },
     "execution_count": 21,
     "metadata": {},
     "output_type": "execute_result"
    },
    {
     "data": {
      "image/png": "[encoded data removed]",
      "text/plain": [
       "<Figure size 286.5x648 with 3 Axes>"
      ]
     },
     "metadata": {
      "needs_background": "light"
     },
     "output_type": "display_data"
    }
   ],
   "source": [
    "g = sns.FacetGrid(df, row='Embarked')\n",
    "g.map(sns.pointplot, 'Pclass', 'Survived', 'Sex', palette='deep')\n",
    "g.add_legend()"
   ]
  },
  {
   "cell_type": "code",
   "execution_count": 22,
   "id": "f9a54285",
   "metadata": {
    "execution": {
     "iopub.execute_input": "2022-04-16T07:10:22.274014Z",
     "iopub.status.busy": "2022-04-16T07:10:22.273267Z",
     "iopub.status.idle": "2022-04-16T07:10:23.357691Z",
     "shell.execute_reply": "2022-04-16T07:10:23.357032Z"
    },
    "id": "Ofr-Wfq5gZQs",
    "outputId": "1bd5d848-0541-4500-ee04-87d076b7b381",
    "papermill": {
     "duration": 1.159192,
     "end_time": "2022-04-16T07:10:23.359401",
     "exception": false,
     "start_time": "2022-04-16T07:10:22.200209",
     "status": "completed"
    },
    "tags": []
   },
   "outputs": [
    {
     "name": "stderr",
     "output_type": "stream",
     "text": [
      "/opt/conda/lib/python3.7/site-packages/seaborn/axisgrid.py:670: UserWarning: Using the barplot function without specifying `order` is likely to produce an incorrect plot.\n",
      "  warnings.warn(warning)\n"
     ]
    },
    {
     "data": {
      "text/plain": [
       "<seaborn.axisgrid.FacetGrid at 0x7fac2de09850>"
      ]
     },
     "execution_count": 22,
     "metadata": {},
     "output_type": "execute_result"
    },
    {
     "data": {
      "image/png": "[encoded data removed]",
      "text/plain": [
       "<Figure size 432x648 with 6 Axes>"
      ]
     },
     "metadata": {
      "needs_background": "light"
     },
     "output_type": "display_data"
    }
   ],
   "source": [
    "g= sns.FacetGrid(df, row='Embarked', col='Survived')\n",
    "g.map(sns.barplot, 'Sex', 'Fare')"
   ]
  },
  {
   "cell_type": "code",
   "execution_count": 23,
   "id": "5c693ada",
   "metadata": {
    "execution": {
     "iopub.execute_input": "2022-04-16T07:10:23.510383Z",
     "iopub.status.busy": "2022-04-16T07:10:23.509753Z",
     "iopub.status.idle": "2022-04-16T07:10:23.513638Z",
     "shell.execute_reply": "2022-04-16T07:10:23.512809Z"
    },
    "papermill": {
     "duration": 0.083837,
     "end_time": "2022-04-16T07:10:23.515749",
     "exception": false,
     "start_time": "2022-04-16T07:10:23.431912",
     "status": "completed"
    },
    "tags": []
   },
   "outputs": [],
   "source": [
    "#Feature Engineering: Cabin->Deck, Ticket->Ticket Frequency, Age-Fare=bin, Surname, Familiy_size"
   ]
  },
  {
   "cell_type": "code",
   "execution_count": 24,
   "id": "bd2e5336",
   "metadata": {
    "execution": {
     "iopub.execute_input": "2022-04-16T07:10:23.669202Z",
     "iopub.status.busy": "2022-04-16T07:10:23.668409Z",
     "iopub.status.idle": "2022-04-16T07:10:23.680096Z",
     "shell.execute_reply": "2022-04-16T07:10:23.679206Z"
    },
    "papermill": {
     "duration": 0.090524,
     "end_time": "2022-04-16T07:10:23.682387",
     "exception": false,
     "start_time": "2022-04-16T07:10:23.591863",
     "status": "completed"
    },
    "tags": []
   },
   "outputs": [],
   "source": [
    "df['Age'] = df.groupby(['Sex', 'Pclass'])['Age'].apply(lambda x: x.fillna(x.median()))"
   ]
  },
  {
   "cell_type": "code",
   "execution_count": 25,
   "id": "4b43fb20",
   "metadata": {
    "execution": {
     "iopub.execute_input": "2022-04-16T07:10:23.831390Z",
     "iopub.status.busy": "2022-04-16T07:10:23.831092Z",
     "iopub.status.idle": "2022-04-16T07:10:23.842401Z",
     "shell.execute_reply": "2022-04-16T07:10:23.841633Z"
    },
    "papermill": {
     "duration": 0.088501,
     "end_time": "2022-04-16T07:10:23.844427",
     "exception": false,
     "start_time": "2022-04-16T07:10:23.755926",
     "status": "completed"
    },
    "tags": []
   },
   "outputs": [],
   "source": [
    "df_test['Age'] = df_test.groupby(['Sex', 'Pclass'])['Age'].apply(lambda x: x.fillna(x.median()))"
   ]
  },
  {
   "cell_type": "code",
   "execution_count": 26,
   "id": "ce77b458",
   "metadata": {
    "execution": {
     "iopub.execute_input": "2022-04-16T07:10:23.992445Z",
     "iopub.status.busy": "2022-04-16T07:10:23.992158Z",
     "iopub.status.idle": "2022-04-16T07:10:24.008892Z",
     "shell.execute_reply": "2022-04-16T07:10:24.008217Z"
    },
    "papermill": {
     "duration": 0.093473,
     "end_time": "2022-04-16T07:10:24.010792",
     "exception": false,
     "start_time": "2022-04-16T07:10:23.917319",
     "status": "completed"
    },
    "tags": []
   },
   "outputs": [],
   "source": [
    "df['Fare'] = pd.qcut(df['Fare'], 10)\n",
    "df['Age'] = pd.qcut(df['Age'], 13, duplicates='drop')"
   ]
  },
  {
   "cell_type": "code",
   "execution_count": 27,
   "id": "b3919678",
   "metadata": {
    "execution": {
     "iopub.execute_input": "2022-04-16T07:10:24.159084Z",
     "iopub.status.busy": "2022-04-16T07:10:24.158532Z",
     "iopub.status.idle": "2022-04-16T07:10:24.167553Z",
     "shell.execute_reply": "2022-04-16T07:10:24.166960Z"
    },
    "papermill": {
     "duration": 0.084694,
     "end_time": "2022-04-16T07:10:24.169341",
     "exception": false,
     "start_time": "2022-04-16T07:10:24.084647",
     "status": "completed"
    },
    "tags": []
   },
   "outputs": [],
   "source": [
    "df['FamilySize'] = df['SibSp'] + df['Parch'] + 1\n",
    "df_test['FamilySize'] = df_test['SibSp'] + df_test['Parch'] + 1\n",
    "family_map = {1: 'Alone', 2: 'Small', 3:'Small', 4:'Small', 5:'Medium', 6:'Medium', 7:'Large', 8:'Large', 11:'Large'}\n",
    "df['FamilyGroup'] = df['FamilySize'].map(family_map)\n",
    "df_test['FamilyGroup'] = df['FamilySize'].map(family_map)"
   ]
  },
  {
   "cell_type": "code",
   "execution_count": 28,
   "id": "e445f694",
   "metadata": {
    "execution": {
     "iopub.execute_input": "2022-04-16T07:10:24.319336Z",
     "iopub.status.busy": "2022-04-16T07:10:24.318558Z",
     "iopub.status.idle": "2022-04-16T07:10:24.328705Z",
     "shell.execute_reply": "2022-04-16T07:10:24.327922Z"
    },
    "papermill": {
     "duration": 0.088968,
     "end_time": "2022-04-16T07:10:24.330788",
     "exception": false,
     "start_time": "2022-04-16T07:10:24.241820",
     "status": "completed"
    },
    "tags": []
   },
   "outputs": [],
   "source": [
    "df.loc[df['Cabin'].isnull(),'Cabin'] = 'M'\n",
    "df_test.loc[df_test['Cabin'].isnull(), 'Cabin'] = 'M'\n",
    "df['Deck'] = df['Cabin'].apply(lambda x: x[0])\n",
    "df_test['Deck'] = df['Cabin'].apply(lambda x:x[0])"
   ]
  },
  {
   "cell_type": "code",
   "execution_count": 29,
   "id": "32659cfd",
   "metadata": {
    "execution": {
     "iopub.execute_input": "2022-04-16T07:10:24.478778Z",
     "iopub.status.busy": "2022-04-16T07:10:24.478529Z",
     "iopub.status.idle": "2022-04-16T07:10:25.231212Z",
     "shell.execute_reply": "2022-04-16T07:10:25.230304Z"
    },
    "papermill": {
     "duration": 0.82936,
     "end_time": "2022-04-16T07:10:25.233636",
     "exception": false,
     "start_time": "2022-04-16T07:10:24.404276",
     "status": "completed"
    },
    "tags": []
   },
   "outputs": [],
   "source": [
    "df['TicketFrequency'] = np.nan\n",
    "for uv in df['Ticket'].unique():\n",
    "    num_ticket = (df['Ticket']==uv).sum()\n",
    "    df.loc[df['Ticket']==uv,'TicketFrequency'] = num_ticket\n",
    "    \n",
    "df_test['TicketFrequency'] = np.nan\n",
    "for uv in df_test['Ticket'].unique():\n",
    "    num_ticket = (df_test['Ticket']==uv).sum()\n",
    "    df_test.loc[df_test['Ticket']==uv,'TicketFrequency'] = num_ticket"
   ]
  },
  {
   "cell_type": "code",
   "execution_count": 30,
   "id": "7d5ff927",
   "metadata": {
    "execution": {
     "iopub.execute_input": "2022-04-16T07:10:25.382623Z",
     "iopub.status.busy": "2022-04-16T07:10:25.382224Z",
     "iopub.status.idle": "2022-04-16T07:10:25.388529Z",
     "shell.execute_reply": "2022-04-16T07:10:25.387293Z"
    },
    "papermill": {
     "duration": 0.083698,
     "end_time": "2022-04-16T07:10:25.390573",
     "exception": false,
     "start_time": "2022-04-16T07:10:25.306875",
     "status": "completed"
    },
    "tags": []
   },
   "outputs": [],
   "source": [
    "ageinterval = pd.arrays.IntervalArray(df['Age'].unique())"
   ]
  },
  {
   "cell_type": "code",
   "execution_count": 31,
   "id": "59c0a3bc",
   "metadata": {
    "execution": {
     "iopub.execute_input": "2022-04-16T07:10:25.547555Z",
     "iopub.status.busy": "2022-04-16T07:10:25.546394Z",
     "iopub.status.idle": "2022-04-16T07:10:25.571007Z",
     "shell.execute_reply": "2022-04-16T07:10:25.570301Z"
    },
    "papermill": {
     "duration": 0.10306,
     "end_time": "2022-04-16T07:10:25.572968",
     "exception": false,
     "start_time": "2022-04-16T07:10:25.469908",
     "status": "completed"
    },
    "tags": []
   },
   "outputs": [
    {
     "data": {
      "text/plain": [
       "0      [(34.0, 38.0)]\n",
       "1      [(42.0, 50.0)]\n",
       "2      [(50.0, 80.0)]\n",
       "3      [(25.0, 28.0)]\n",
       "4      [(21.5, 23.0)]\n",
       "            ...      \n",
       "413    [(23.0, 25.0)]\n",
       "414    [(38.0, 42.0)]\n",
       "415    [(38.0, 42.0)]\n",
       "416    [(23.0, 25.0)]\n",
       "417    [(23.0, 25.0)]\n",
       "Name: Age, Length: 418, dtype: object"
      ]
     },
     "execution_count": 31,
     "metadata": {},
     "output_type": "execute_result"
    }
   ],
   "source": [
    "df_test['Age'].apply(lambda x: ageinterval.to_tuples()[ageinterval.contains(x)])"
   ]
  },
  {
   "cell_type": "code",
   "execution_count": 32,
   "id": "7cc9ebd1",
   "metadata": {
    "execution": {
     "iopub.execute_input": "2022-04-16T07:10:25.724267Z",
     "iopub.status.busy": "2022-04-16T07:10:25.723933Z",
     "iopub.status.idle": "2022-04-16T07:10:25.727446Z",
     "shell.execute_reply": "2022-04-16T07:10:25.726850Z"
    },
    "id": "PtHFJwOThQnt",
    "papermill": {
     "duration": 0.081117,
     "end_time": "2022-04-16T07:10:25.729101",
     "exception": false,
     "start_time": "2022-04-16T07:10:25.647984",
     "status": "completed"
    },
    "tags": []
   },
   "outputs": [],
   "source": [
    "#df = df.drop(['Cabin', 'Ticket'], axis=1)"
   ]
  },
  {
   "cell_type": "code",
   "execution_count": 33,
   "id": "191cad02",
   "metadata": {
    "execution": {
     "iopub.execute_input": "2022-04-16T07:10:25.882625Z",
     "iopub.status.busy": "2022-04-16T07:10:25.882325Z",
     "iopub.status.idle": "2022-04-16T07:10:25.885820Z",
     "shell.execute_reply": "2022-04-16T07:10:25.885153Z"
    },
    "id": "kly7zEN5jaI2",
    "papermill": {
     "duration": 0.081501,
     "end_time": "2022-04-16T07:10:25.887575",
     "exception": false,
     "start_time": "2022-04-16T07:10:25.806074",
     "status": "completed"
    },
    "tags": []
   },
   "outputs": [],
   "source": [
    "#df_test = df_test.drop(['Cabin', 'Ticket'], axis=1)"
   ]
  },
  {
   "cell_type": "code",
   "execution_count": 34,
   "id": "924513c4",
   "metadata": {
    "execution": {
     "iopub.execute_input": "2022-04-16T07:10:26.042108Z",
     "iopub.status.busy": "2022-04-16T07:10:26.041516Z",
     "iopub.status.idle": "2022-04-16T07:10:26.045947Z",
     "shell.execute_reply": "2022-04-16T07:10:26.045334Z"
    },
    "id": "iPk_5Hk3kG5P",
    "papermill": {
     "duration": 0.085654,
     "end_time": "2022-04-16T07:10:26.047716",
     "exception": false,
     "start_time": "2022-04-16T07:10:25.962062",
     "status": "completed"
    },
    "tags": []
   },
   "outputs": [],
   "source": [
    "df_test_pi = df_test.copy()['PassengerId']"
   ]
  },
  {
   "cell_type": "code",
   "execution_count": 35,
   "id": "c4a84756",
   "metadata": {
    "execution": {
     "iopub.execute_input": "2022-04-16T07:10:26.197771Z",
     "iopub.status.busy": "2022-04-16T07:10:26.197268Z",
     "iopub.status.idle": "2022-04-16T07:10:26.230793Z",
     "shell.execute_reply": "2022-04-16T07:10:26.229918Z"
    },
    "id": "CJvy9qNDkTt-",
    "outputId": "59da43b7-78ff-43e5-d28f-1f6e181675d3",
    "papermill": {
     "duration": 0.111935,
     "end_time": "2022-04-16T07:10:26.233030",
     "exception": false,
     "start_time": "2022-04-16T07:10:26.121095",
     "status": "completed"
    },
    "tags": []
   },
   "outputs": [
    {
     "data": {
      "text/html": [
       "<div>\n",
       "<style scoped>\n",
       "    .dataframe tbody tr th:only-of-type {\n",
       "        vertical-align: middle;\n",
       "    }\n",
       "\n",
       "    .dataframe tbody tr th {\n",
       "        vertical-align: top;\n",
       "    }\n",
       "\n",
       "    .dataframe thead th {\n",
       "        text-align: right;\n",
       "    }\n",
       "</style>\n",
       "<table border=\"1\" class=\"dataframe\">\n",
       "  <thead>\n",
       "    <tr style=\"text-align: right;\">\n",
       "      <th>Sex</th>\n",
       "      <th>female</th>\n",
       "      <th>male</th>\n",
       "    </tr>\n",
       "    <tr>\n",
       "      <th>Title</th>\n",
       "      <th></th>\n",
       "      <th></th>\n",
       "    </tr>\n",
       "  </thead>\n",
       "  <tbody>\n",
       "    <tr>\n",
       "      <th>Capt</th>\n",
       "      <td>0</td>\n",
       "      <td>1</td>\n",
       "    </tr>\n",
       "    <tr>\n",
       "      <th>Col</th>\n",
       "      <td>0</td>\n",
       "      <td>2</td>\n",
       "    </tr>\n",
       "    <tr>\n",
       "      <th>Countess</th>\n",
       "      <td>1</td>\n",
       "      <td>0</td>\n",
       "    </tr>\n",
       "    <tr>\n",
       "      <th>Don</th>\n",
       "      <td>0</td>\n",
       "      <td>1</td>\n",
       "    </tr>\n",
       "    <tr>\n",
       "      <th>Dr</th>\n",
       "      <td>1</td>\n",
       "      <td>6</td>\n",
       "    </tr>\n",
       "    <tr>\n",
       "      <th>Jonkheer</th>\n",
       "      <td>0</td>\n",
       "      <td>1</td>\n",
       "    </tr>\n",
       "    <tr>\n",
       "      <th>Lady</th>\n",
       "      <td>1</td>\n",
       "      <td>0</td>\n",
       "    </tr>\n",
       "    <tr>\n",
       "      <th>Major</th>\n",
       "      <td>0</td>\n",
       "      <td>2</td>\n",
       "    </tr>\n",
       "    <tr>\n",
       "      <th>Master</th>\n",
       "      <td>0</td>\n",
       "      <td>40</td>\n",
       "    </tr>\n",
       "    <tr>\n",
       "      <th>Miss</th>\n",
       "      <td>182</td>\n",
       "      <td>0</td>\n",
       "    </tr>\n",
       "    <tr>\n",
       "      <th>Mlle</th>\n",
       "      <td>2</td>\n",
       "      <td>0</td>\n",
       "    </tr>\n",
       "    <tr>\n",
       "      <th>Mme</th>\n",
       "      <td>1</td>\n",
       "      <td>0</td>\n",
       "    </tr>\n",
       "    <tr>\n",
       "      <th>Mr</th>\n",
       "      <td>0</td>\n",
       "      <td>517</td>\n",
       "    </tr>\n",
       "    <tr>\n",
       "      <th>Mrs</th>\n",
       "      <td>125</td>\n",
       "      <td>0</td>\n",
       "    </tr>\n",
       "    <tr>\n",
       "      <th>Ms</th>\n",
       "      <td>1</td>\n",
       "      <td>0</td>\n",
       "    </tr>\n",
       "    <tr>\n",
       "      <th>Rev</th>\n",
       "      <td>0</td>\n",
       "      <td>6</td>\n",
       "    </tr>\n",
       "    <tr>\n",
       "      <th>Sir</th>\n",
       "      <td>0</td>\n",
       "      <td>1</td>\n",
       "    </tr>\n",
       "  </tbody>\n",
       "</table>\n",
       "</div>"
      ],
      "text/plain": [
       "Sex       female  male\n",
       "Title                 \n",
       "Capt           0     1\n",
       "Col            0     2\n",
       "Countess       1     0\n",
       "Don            0     1\n",
       "Dr             1     6\n",
       "Jonkheer       0     1\n",
       "Lady           1     0\n",
       "Major          0     2\n",
       "Master         0    40\n",
       "Miss         182     0\n",
       "Mlle           2     0\n",
       "Mme            1     0\n",
       "Mr             0   517\n",
       "Mrs          125     0\n",
       "Ms             1     0\n",
       "Rev            0     6\n",
       "Sir            0     1"
      ]
     },
     "execution_count": 35,
     "metadata": {},
     "output_type": "execute_result"
    }
   ],
   "source": [
    "combine = [df, df_test]\n",
    "for dataset in combine:\n",
    "    dataset['Title'] = dataset['Name'].str.extract(' ([A-Za-z]+)\\.', expand=False)\n",
    "\n",
    "pd.crosstab(df['Title'], df['Sex'])"
   ]
  },
  {
   "cell_type": "code",
   "execution_count": 36,
   "id": "4f325cd3",
   "metadata": {
    "execution": {
     "iopub.execute_input": "2022-04-16T07:10:26.382363Z",
     "iopub.status.busy": "2022-04-16T07:10:26.381848Z",
     "iopub.status.idle": "2022-04-16T07:10:26.400337Z",
     "shell.execute_reply": "2022-04-16T07:10:26.399455Z"
    },
    "id": "FySONWVvlHcM",
    "outputId": "be9937f7-d3c6-432e-87e6-f28bfe27fa9a",
    "papermill": {
     "duration": 0.095821,
     "end_time": "2022-04-16T07:10:26.402336",
     "exception": false,
     "start_time": "2022-04-16T07:10:26.306515",
     "status": "completed"
    },
    "tags": []
   },
   "outputs": [
    {
     "data": {
      "text/html": [
       "<div>\n",
       "<style scoped>\n",
       "    .dataframe tbody tr th:only-of-type {\n",
       "        vertical-align: middle;\n",
       "    }\n",
       "\n",
       "    .dataframe tbody tr th {\n",
       "        vertical-align: top;\n",
       "    }\n",
       "\n",
       "    .dataframe thead th {\n",
       "        text-align: right;\n",
       "    }\n",
       "</style>\n",
       "<table border=\"1\" class=\"dataframe\">\n",
       "  <thead>\n",
       "    <tr style=\"text-align: right;\">\n",
       "      <th></th>\n",
       "      <th>Title</th>\n",
       "      <th>Survived</th>\n",
       "    </tr>\n",
       "  </thead>\n",
       "  <tbody>\n",
       "    <tr>\n",
       "      <th>0</th>\n",
       "      <td>Master</td>\n",
       "      <td>0.575000</td>\n",
       "    </tr>\n",
       "    <tr>\n",
       "      <th>1</th>\n",
       "      <td>Miss</td>\n",
       "      <td>0.702703</td>\n",
       "    </tr>\n",
       "    <tr>\n",
       "      <th>2</th>\n",
       "      <td>Mr</td>\n",
       "      <td>0.156673</td>\n",
       "    </tr>\n",
       "    <tr>\n",
       "      <th>3</th>\n",
       "      <td>Mrs</td>\n",
       "      <td>0.793651</td>\n",
       "    </tr>\n",
       "    <tr>\n",
       "      <th>4</th>\n",
       "      <td>Rare</td>\n",
       "      <td>0.347826</td>\n",
       "    </tr>\n",
       "  </tbody>\n",
       "</table>\n",
       "</div>"
      ],
      "text/plain": [
       "    Title  Survived\n",
       "0  Master  0.575000\n",
       "1    Miss  0.702703\n",
       "2      Mr  0.156673\n",
       "3     Mrs  0.793651\n",
       "4    Rare  0.347826"
      ]
     },
     "execution_count": 36,
     "metadata": {},
     "output_type": "execute_result"
    }
   ],
   "source": [
    "for dataset in combine:\n",
    "    dataset['Title'] = dataset['Title'].replace(['Capt', 'Col', 'Countess', 'Don', 'Dr', 'Jonkheer', 'Lady', 'Major', 'Rev', 'Sir'], 'Rare')\n",
    "    dataset['Title'] = dataset['Title'].replace('Mlle', 'Miss')\n",
    "    dataset['Title'] = dataset['Title'].replace('Ms', 'Miss')\n",
    "    dataset['Title'] = dataset['Title'].replace('Mme', 'Mrs')\n",
    "    \n",
    "df[['Survived', 'Title']].groupby('Title', as_index=False).mean()"
   ]
  },
  {
   "cell_type": "code",
   "execution_count": 37,
   "id": "38b2f213",
   "metadata": {
    "execution": {
     "iopub.execute_input": "2022-04-16T07:10:26.588051Z",
     "iopub.status.busy": "2022-04-16T07:10:26.587530Z",
     "iopub.status.idle": "2022-04-16T07:10:26.595652Z",
     "shell.execute_reply": "2022-04-16T07:10:26.595069Z"
    },
    "id": "0QqBj0dfmBWa",
    "outputId": "ba8ab140-5795-4bcc-a3be-694d44f3a131",
    "papermill": {
     "duration": 0.097076,
     "end_time": "2022-04-16T07:10:26.597245",
     "exception": false,
     "start_time": "2022-04-16T07:10:26.500169",
     "status": "completed"
    },
    "tags": []
   },
   "outputs": [
    {
     "data": {
      "text/plain": [
       "PassengerId        1.000000\n",
       "Survived           1.000000\n",
       "Pclass             1.000000\n",
       "Name               1.000000\n",
       "Sex                1.000000\n",
       "Age                1.000000\n",
       "SibSp              1.000000\n",
       "Parch              1.000000\n",
       "Ticket             1.000000\n",
       "Fare               1.000000\n",
       "Cabin              1.000000\n",
       "Embarked           0.997755\n",
       "FamilySize         1.000000\n",
       "FamilyGroup        1.000000\n",
       "Deck               1.000000\n",
       "TicketFrequency    1.000000\n",
       "Title              1.000000\n",
       "dtype: float64"
      ]
     },
     "execution_count": 37,
     "metadata": {},
     "output_type": "execute_result"
    }
   ],
   "source": [
    "df.notnull().mean()"
   ]
  },
  {
   "cell_type": "code",
   "execution_count": null,
   "id": "2fcd1a05",
   "metadata": {
    "id": "5sWn6TR0RvOl",
    "papermill": {
     "duration": 0.075203,
     "end_time": "2022-04-16T07:10:26.746060",
     "exception": false,
     "start_time": "2022-04-16T07:10:26.670857",
     "status": "completed"
    },
    "tags": []
   },
   "outputs": [],
   "source": []
  },
  {
   "cell_type": "code",
   "execution_count": 38,
   "id": "a738c72a",
   "metadata": {
    "execution": {
     "iopub.execute_input": "2022-04-16T07:10:26.898193Z",
     "iopub.status.busy": "2022-04-16T07:10:26.897686Z",
     "iopub.status.idle": "2022-04-16T07:10:26.903313Z",
     "shell.execute_reply": "2022-04-16T07:10:26.902738Z"
    },
    "id": "LtmY8kIKRaU3",
    "papermill": {
     "duration": 0.08417,
     "end_time": "2022-04-16T07:10:26.905214",
     "exception": false,
     "start_time": "2022-04-16T07:10:26.821044",
     "status": "completed"
    },
    "tags": []
   },
   "outputs": [],
   "source": [
    "for dataset in combine:\n",
    "    dataset.drop(['Name', 'PassengerId', 'Cabin'], axis=1, inplace=True)"
   ]
  },
  {
   "cell_type": "code",
   "execution_count": 39,
   "id": "994f2ba4",
   "metadata": {
    "execution": {
     "iopub.execute_input": "2022-04-16T07:10:27.060077Z",
     "iopub.status.busy": "2022-04-16T07:10:27.059516Z",
     "iopub.status.idle": "2022-04-16T07:10:27.066102Z",
     "shell.execute_reply": "2022-04-16T07:10:27.065190Z"
    },
    "id": "LEOksg5ORw_c",
    "papermill": {
     "duration": 0.087198,
     "end_time": "2022-04-16T07:10:27.068328",
     "exception": false,
     "start_time": "2022-04-16T07:10:26.981130",
     "status": "completed"
    },
    "tags": []
   },
   "outputs": [],
   "source": [
    "def categorify(df, df_test, dep_var='Survived', exclude=[]):\n",
    "    df = df.copy()\n",
    "    df_test = df_test.copy()\n",
    "    new = pd.concat([df, df_test]).drop([dep_var]+exclude, axis=1)\n",
    "    dicts = {str(col): {k[1]:k[0] for k in enumerate(new[col].unique())} for col in new}\n",
    "    for key, val in dicts.items():\n",
    "        df[key] = df[key].map(val).astype(float)\n",
    "        df_test[key] = df_test[key].map(val).astype(float)\n",
    "    return df, df_test"
   ]
  },
  {
   "cell_type": "code",
   "execution_count": 40,
   "id": "2f014917",
   "metadata": {
    "execution": {
     "iopub.execute_input": "2022-04-16T07:10:27.226249Z",
     "iopub.status.busy": "2022-04-16T07:10:27.225946Z",
     "iopub.status.idle": "2022-04-16T07:10:27.232096Z",
     "shell.execute_reply": "2022-04-16T07:10:27.231477Z"
    },
    "id": "T__tYEgjRu5P",
    "papermill": {
     "duration": 0.088331,
     "end_time": "2022-04-16T07:10:27.233916",
     "exception": false,
     "start_time": "2022-04-16T07:10:27.145585",
     "status": "completed"
    },
    "tags": []
   },
   "outputs": [
    {
     "data": {
      "text/plain": [
       "\"def categorify(df, df_test):\\n    df = df.copy()\\n    df_test = df_test.copy()\\n    new = pd.concat([df, df_test])\\n    sexdict = {k[1]: k[0] for k in enumerate(new['Sex'].unique())}\\n    embdict = {k[1]: k[0] for k in enumerate(new['Embarked'].unique())}\\n    titdict = {k[1]: k[0] for k in enumerate(new['Title'].unique())}\\n    pardict = {k[1]: k[0] for k in enumerate(new['Parch'].unique())}\\n    pcldict = {k[1]: k[0] for k in enumerate(new['Pclass'].astype(int).unique())}\\n    sibdict = {k[1]: k[0] for k in enumerate(new['SibSp'].astype(int).unique())}\\n    dicts = {'Sex': sexdict, 'Embarked': embdict, 'Title': titdict, 'Parch': pardict, 'Pclass': pcldict, 'SibSp':sibdict}\\n    for key, val in dicts.items():\\n        df[key] = df[key].map(val).astype(float)\\n        df_test[key] = df_test[key].map(val).astype(float)\\n    return df, df_test\""
      ]
     },
     "execution_count": 40,
     "metadata": {},
     "output_type": "execute_result"
    }
   ],
   "source": [
    "\"\"\"def categorify(df, df_test):\n",
    "    df = df.copy()\n",
    "    df_test = df_test.copy()\n",
    "    new = pd.concat([df, df_test])\n",
    "    sexdict = {k[1]: k[0] for k in enumerate(new['Sex'].unique())}\n",
    "    embdict = {k[1]: k[0] for k in enumerate(new['Embarked'].unique())}\n",
    "    titdict = {k[1]: k[0] for k in enumerate(new['Title'].unique())}\n",
    "    pardict = {k[1]: k[0] for k in enumerate(new['Parch'].unique())}\n",
    "    pcldict = {k[1]: k[0] for k in enumerate(new['Pclass'].astype(int).unique())}\n",
    "    sibdict = {k[1]: k[0] for k in enumerate(new['SibSp'].astype(int).unique())}\n",
    "    dicts = {'Sex': sexdict, 'Embarked': embdict, 'Title': titdict, 'Parch': pardict, 'Pclass': pcldict, 'SibSp':sibdict}\n",
    "    for key, val in dicts.items():\n",
    "        df[key] = df[key].map(val).astype(float)\n",
    "        df_test[key] = df_test[key].map(val).astype(float)\n",
    "    return df, df_test\"\"\""
   ]
  },
  {
   "cell_type": "code",
   "execution_count": 41,
   "id": "b8ccc30a",
   "metadata": {
    "execution": {
     "iopub.execute_input": "2022-04-16T07:10:27.387955Z",
     "iopub.status.busy": "2022-04-16T07:10:27.387507Z",
     "iopub.status.idle": "2022-04-16T07:10:27.426879Z",
     "shell.execute_reply": "2022-04-16T07:10:27.425968Z"
    },
    "id": "0rxZxlvBkFQF",
    "papermill": {
     "duration": 0.117864,
     "end_time": "2022-04-16T07:10:27.428994",
     "exception": false,
     "start_time": "2022-04-16T07:10:27.311130",
     "status": "completed"
    },
    "tags": []
   },
   "outputs": [],
   "source": [
    "combine = [df, df_test]\n",
    "df, df_test = categorify(df, df_test)"
   ]
  },
  {
   "cell_type": "code",
   "execution_count": null,
   "id": "92ba81bd",
   "metadata": {
    "papermill": {
     "duration": 0.074015,
     "end_time": "2022-04-16T07:10:27.576491",
     "exception": false,
     "start_time": "2022-04-16T07:10:27.502476",
     "status": "completed"
    },
    "tags": []
   },
   "outputs": [],
   "source": []
  },
  {
   "cell_type": "code",
   "execution_count": 42,
   "id": "dc3afd0c",
   "metadata": {
    "execution": {
     "iopub.execute_input": "2022-04-16T07:10:27.726069Z",
     "iopub.status.busy": "2022-04-16T07:10:27.725785Z",
     "iopub.status.idle": "2022-04-16T07:10:27.783692Z",
     "shell.execute_reply": "2022-04-16T07:10:27.782720Z"
    },
    "id": "Enjs4jzPWAyz",
    "papermill": {
     "duration": 0.135622,
     "end_time": "2022-04-16T07:10:27.785759",
     "exception": false,
     "start_time": "2022-04-16T07:10:27.650137",
     "status": "completed"
    },
    "tags": []
   },
   "outputs": [],
   "source": [
    "from sklearn.impute import KNNImputer"
   ]
  },
  {
   "cell_type": "code",
   "execution_count": 43,
   "id": "9865aee6",
   "metadata": {
    "execution": {
     "iopub.execute_input": "2022-04-16T07:10:27.943408Z",
     "iopub.status.busy": "2022-04-16T07:10:27.942917Z",
     "iopub.status.idle": "2022-04-16T07:10:27.947531Z",
     "shell.execute_reply": "2022-04-16T07:10:27.946569Z"
    },
    "id": "5aaZNHRIWH5z",
    "papermill": {
     "duration": 0.087093,
     "end_time": "2022-04-16T07:10:27.949588",
     "exception": false,
     "start_time": "2022-04-16T07:10:27.862495",
     "status": "completed"
    },
    "tags": []
   },
   "outputs": [],
   "source": [
    "imp = KNNImputer()"
   ]
  },
  {
   "cell_type": "code",
   "execution_count": 44,
   "id": "145109e9",
   "metadata": {
    "execution": {
     "iopub.execute_input": "2022-04-16T07:10:28.104930Z",
     "iopub.status.busy": "2022-04-16T07:10:28.104457Z",
     "iopub.status.idle": "2022-04-16T07:10:28.112206Z",
     "shell.execute_reply": "2022-04-16T07:10:28.111524Z"
    },
    "id": "Tz-7xXmdRB-V",
    "papermill": {
     "duration": 0.088522,
     "end_time": "2022-04-16T07:10:28.114227",
     "exception": false,
     "start_time": "2022-04-16T07:10:28.025705",
     "status": "completed"
    },
    "tags": []
   },
   "outputs": [],
   "source": [
    "df = pd.DataFrame(imp.fit_transform(df.values), columns=df.columns)\n",
    "df_test = pd.DataFrame(imp.fit_transform(df_test.values), columns=df_test.columns)"
   ]
  },
  {
   "cell_type": "code",
   "execution_count": 45,
   "id": "44ee8594",
   "metadata": {
    "execution": {
     "iopub.execute_input": "2022-04-16T07:10:28.269356Z",
     "iopub.status.busy": "2022-04-16T07:10:28.268983Z",
     "iopub.status.idle": "2022-04-16T07:10:28.275926Z",
     "shell.execute_reply": "2022-04-16T07:10:28.275027Z"
    },
    "id": "_2PeISJITa_-",
    "papermill": {
     "duration": 0.087119,
     "end_time": "2022-04-16T07:10:28.277973",
     "exception": false,
     "start_time": "2022-04-16T07:10:28.190854",
     "status": "completed"
    },
    "tags": []
   },
   "outputs": [],
   "source": [
    "df['Embarked'] = df['Embarked'].astype(int)\n",
    "df_test['Embarked'] = df_test['Embarked'].astype(int)"
   ]
  },
  {
   "cell_type": "code",
   "execution_count": 46,
   "id": "4477fde1",
   "metadata": {
    "execution": {
     "iopub.execute_input": "2022-04-16T07:10:28.427946Z",
     "iopub.status.busy": "2022-04-16T07:10:28.427651Z",
     "iopub.status.idle": "2022-04-16T07:10:28.445060Z",
     "shell.execute_reply": "2022-04-16T07:10:28.443455Z"
    },
    "id": "QrXJ6LlVSKgU",
    "outputId": "59c36e25-6db4-4b25-cca5-6f6947b544fc",
    "papermill": {
     "duration": 0.094615,
     "end_time": "2022-04-16T07:10:28.447209",
     "exception": false,
     "start_time": "2022-04-16T07:10:28.352594",
     "status": "completed"
    },
    "tags": []
   },
   "outputs": [
    {
     "name": "stdout",
     "output_type": "stream",
     "text": [
      "key: Survived, unique: 2\n",
      "key: Pclass, unique: 3\n",
      "key: Sex, unique: 2\n",
      "key: Age, unique: 12\n",
      "key: SibSp, unique: 7\n",
      "key: Parch, unique: 7\n",
      "key: Ticket, unique: 681\n",
      "key: Fare, unique: 10\n",
      "key: Embarked, unique: 3\n",
      "key: FamilySize, unique: 9\n",
      "key: FamilyGroup, unique: 4\n",
      "key: Deck, unique: 9\n",
      "key: TicketFrequency, unique: 7\n",
      "key: Title, unique: 5\n",
      "----------\n",
      "key: Pclass, unique: 3\n",
      "key: Sex, unique: 2\n",
      "key: Age, unique: 12\n",
      "key: SibSp, unique: 7\n",
      "key: Parch, unique: 7\n",
      "key: Ticket, unique: 681\n",
      "key: Fare, unique: 10\n",
      "key: Embarked, unique: 3\n",
      "key: FamilySize, unique: 9\n",
      "key: FamilyGroup, unique: 4\n",
      "key: Deck, unique: 9\n",
      "key: TicketFrequency, unique: 7\n",
      "key: Title, unique: 5\n"
     ]
    }
   ],
   "source": [
    "for i in df:\n",
    "    print(f'key: {i}, unique: {df[i].nunique()}')\n",
    "print('-'*10)\n",
    "for i in df_test:\n",
    "    print(f'key: {i}, unique: {df[i].nunique()}') "
   ]
  },
  {
   "cell_type": "code",
   "execution_count": 47,
   "id": "2b24d486",
   "metadata": {
    "execution": {
     "iopub.execute_input": "2022-04-16T07:10:28.600019Z",
     "iopub.status.busy": "2022-04-16T07:10:28.599772Z",
     "iopub.status.idle": "2022-04-16T07:10:28.625007Z",
     "shell.execute_reply": "2022-04-16T07:10:28.624196Z"
    },
    "id": "FP2J1a09lEFc",
    "outputId": "9a31fc88-afde-41b3-924e-2d43a303a33f",
    "papermill": {
     "duration": 0.104124,
     "end_time": "2022-04-16T07:10:28.626768",
     "exception": false,
     "start_time": "2022-04-16T07:10:28.522644",
     "status": "completed"
    },
    "tags": []
   },
   "outputs": [
    {
     "data": {
      "text/html": [
       "<div>\n",
       "<style scoped>\n",
       "    .dataframe tbody tr th:only-of-type {\n",
       "        vertical-align: middle;\n",
       "    }\n",
       "\n",
       "    .dataframe tbody tr th {\n",
       "        vertical-align: top;\n",
       "    }\n",
       "\n",
       "    .dataframe thead th {\n",
       "        text-align: right;\n",
       "    }\n",
       "</style>\n",
       "<table border=\"1\" class=\"dataframe\">\n",
       "  <thead>\n",
       "    <tr style=\"text-align: right;\">\n",
       "      <th></th>\n",
       "      <th>Pclass</th>\n",
       "      <th>Sex</th>\n",
       "      <th>Age</th>\n",
       "      <th>SibSp</th>\n",
       "      <th>Parch</th>\n",
       "      <th>Ticket</th>\n",
       "      <th>Fare</th>\n",
       "      <th>Embarked</th>\n",
       "      <th>FamilySize</th>\n",
       "      <th>FamilyGroup</th>\n",
       "      <th>Deck</th>\n",
       "      <th>TicketFrequency</th>\n",
       "      <th>Title</th>\n",
       "    </tr>\n",
       "  </thead>\n",
       "  <tbody>\n",
       "    <tr>\n",
       "      <th>0</th>\n",
       "      <td>0.0</td>\n",
       "      <td>0.0</td>\n",
       "      <td>12.0</td>\n",
       "      <td>1.0</td>\n",
       "      <td>0.0</td>\n",
       "      <td>681.0</td>\n",
       "      <td>10.0</td>\n",
       "      <td>2</td>\n",
       "      <td>1.0</td>\n",
       "      <td>0.0</td>\n",
       "      <td>0.0</td>\n",
       "      <td>0.0</td>\n",
       "      <td>0.0</td>\n",
       "    </tr>\n",
       "    <tr>\n",
       "      <th>1</th>\n",
       "      <td>0.0</td>\n",
       "      <td>1.0</td>\n",
       "      <td>13.0</td>\n",
       "      <td>0.0</td>\n",
       "      <td>0.0</td>\n",
       "      <td>682.0</td>\n",
       "      <td>11.0</td>\n",
       "      <td>0</td>\n",
       "      <td>0.0</td>\n",
       "      <td>0.0</td>\n",
       "      <td>1.0</td>\n",
       "      <td>0.0</td>\n",
       "      <td>1.0</td>\n",
       "    </tr>\n",
       "    <tr>\n",
       "      <th>2</th>\n",
       "      <td>2.0</td>\n",
       "      <td>0.0</td>\n",
       "      <td>14.0</td>\n",
       "      <td>1.0</td>\n",
       "      <td>0.0</td>\n",
       "      <td>683.0</td>\n",
       "      <td>12.0</td>\n",
       "      <td>2</td>\n",
       "      <td>1.0</td>\n",
       "      <td>1.0</td>\n",
       "      <td>0.0</td>\n",
       "      <td>0.0</td>\n",
       "      <td>0.0</td>\n",
       "    </tr>\n",
       "    <tr>\n",
       "      <th>3</th>\n",
       "      <td>0.0</td>\n",
       "      <td>0.0</td>\n",
       "      <td>15.0</td>\n",
       "      <td>1.0</td>\n",
       "      <td>0.0</td>\n",
       "      <td>684.0</td>\n",
       "      <td>13.0</td>\n",
       "      <td>0</td>\n",
       "      <td>1.0</td>\n",
       "      <td>0.0</td>\n",
       "      <td>1.0</td>\n",
       "      <td>0.0</td>\n",
       "      <td>0.0</td>\n",
       "    </tr>\n",
       "    <tr>\n",
       "      <th>4</th>\n",
       "      <td>0.0</td>\n",
       "      <td>1.0</td>\n",
       "      <td>16.0</td>\n",
       "      <td>0.0</td>\n",
       "      <td>1.0</td>\n",
       "      <td>405.0</td>\n",
       "      <td>14.0</td>\n",
       "      <td>0</td>\n",
       "      <td>3.0</td>\n",
       "      <td>1.0</td>\n",
       "      <td>0.0</td>\n",
       "      <td>0.0</td>\n",
       "      <td>1.0</td>\n",
       "    </tr>\n",
       "    <tr>\n",
       "      <th>...</th>\n",
       "      <td>...</td>\n",
       "      <td>...</td>\n",
       "      <td>...</td>\n",
       "      <td>...</td>\n",
       "      <td>...</td>\n",
       "      <td>...</td>\n",
       "      <td>...</td>\n",
       "      <td>...</td>\n",
       "      <td>...</td>\n",
       "      <td>...</td>\n",
       "      <td>...</td>\n",
       "      <td>...</td>\n",
       "      <td>...</td>\n",
       "    </tr>\n",
       "    <tr>\n",
       "      <th>413</th>\n",
       "      <td>0.0</td>\n",
       "      <td>0.0</td>\n",
       "      <td>22.0</td>\n",
       "      <td>1.0</td>\n",
       "      <td>0.0</td>\n",
       "      <td>926.0</td>\n",
       "      <td>41.0</td>\n",
       "      <td>0</td>\n",
       "      <td>1.0</td>\n",
       "      <td>1.0</td>\n",
       "      <td>0.0</td>\n",
       "      <td>0.0</td>\n",
       "      <td>0.0</td>\n",
       "    </tr>\n",
       "    <tr>\n",
       "      <th>414</th>\n",
       "      <td>1.0</td>\n",
       "      <td>1.0</td>\n",
       "      <td>37.0</td>\n",
       "      <td>1.0</td>\n",
       "      <td>0.0</td>\n",
       "      <td>273.0</td>\n",
       "      <td>178.0</td>\n",
       "      <td>1</td>\n",
       "      <td>1.0</td>\n",
       "      <td>1.0</td>\n",
       "      <td>0.0</td>\n",
       "      <td>0.0</td>\n",
       "      <td>5.0</td>\n",
       "    </tr>\n",
       "    <tr>\n",
       "      <th>415</th>\n",
       "      <td>0.0</td>\n",
       "      <td>0.0</td>\n",
       "      <td>90.0</td>\n",
       "      <td>1.0</td>\n",
       "      <td>0.0</td>\n",
       "      <td>927.0</td>\n",
       "      <td>92.0</td>\n",
       "      <td>0</td>\n",
       "      <td>1.0</td>\n",
       "      <td>1.0</td>\n",
       "      <td>0.0</td>\n",
       "      <td>0.0</td>\n",
       "      <td>0.0</td>\n",
       "    </tr>\n",
       "    <tr>\n",
       "      <th>416</th>\n",
       "      <td>0.0</td>\n",
       "      <td>0.0</td>\n",
       "      <td>22.0</td>\n",
       "      <td>1.0</td>\n",
       "      <td>0.0</td>\n",
       "      <td>928.0</td>\n",
       "      <td>41.0</td>\n",
       "      <td>0</td>\n",
       "      <td>1.0</td>\n",
       "      <td>0.0</td>\n",
       "      <td>0.0</td>\n",
       "      <td>0.0</td>\n",
       "      <td>0.0</td>\n",
       "    </tr>\n",
       "    <tr>\n",
       "      <th>417</th>\n",
       "      <td>0.0</td>\n",
       "      <td>0.0</td>\n",
       "      <td>22.0</td>\n",
       "      <td>0.0</td>\n",
       "      <td>1.0</td>\n",
       "      <td>119.0</td>\n",
       "      <td>179.0</td>\n",
       "      <td>1</td>\n",
       "      <td>3.0</td>\n",
       "      <td>0.0</td>\n",
       "      <td>0.0</td>\n",
       "      <td>0.0</td>\n",
       "      <td>3.0</td>\n",
       "    </tr>\n",
       "  </tbody>\n",
       "</table>\n",
       "<p>418 rows × 13 columns</p>\n",
       "</div>"
      ],
      "text/plain": [
       "     Pclass  Sex   Age  SibSp  Parch  Ticket   Fare  Embarked  FamilySize  \\\n",
       "0       0.0  0.0  12.0    1.0    0.0   681.0   10.0         2         1.0   \n",
       "1       0.0  1.0  13.0    0.0    0.0   682.0   11.0         0         0.0   \n",
       "2       2.0  0.0  14.0    1.0    0.0   683.0   12.0         2         1.0   \n",
       "3       0.0  0.0  15.0    1.0    0.0   684.0   13.0         0         1.0   \n",
       "4       0.0  1.0  16.0    0.0    1.0   405.0   14.0         0         3.0   \n",
       "..      ...  ...   ...    ...    ...     ...    ...       ...         ...   \n",
       "413     0.0  0.0  22.0    1.0    0.0   926.0   41.0         0         1.0   \n",
       "414     1.0  1.0  37.0    1.0    0.0   273.0  178.0         1         1.0   \n",
       "415     0.0  0.0  90.0    1.0    0.0   927.0   92.0         0         1.0   \n",
       "416     0.0  0.0  22.0    1.0    0.0   928.0   41.0         0         1.0   \n",
       "417     0.0  0.0  22.0    0.0    1.0   119.0  179.0         1         3.0   \n",
       "\n",
       "     FamilyGroup  Deck  TicketFrequency  Title  \n",
       "0            0.0   0.0              0.0    0.0  \n",
       "1            0.0   1.0              0.0    1.0  \n",
       "2            1.0   0.0              0.0    0.0  \n",
       "3            0.0   1.0              0.0    0.0  \n",
       "4            1.0   0.0              0.0    1.0  \n",
       "..           ...   ...              ...    ...  \n",
       "413          1.0   0.0              0.0    0.0  \n",
       "414          1.0   0.0              0.0    5.0  \n",
       "415          1.0   0.0              0.0    0.0  \n",
       "416          0.0   0.0              0.0    0.0  \n",
       "417          0.0   0.0              0.0    3.0  \n",
       "\n",
       "[418 rows x 13 columns]"
      ]
     },
     "execution_count": 47,
     "metadata": {},
     "output_type": "execute_result"
    }
   ],
   "source": [
    "df_test"
   ]
  },
  {
   "cell_type": "code",
   "execution_count": null,
   "id": "85406dc9",
   "metadata": {
    "id": "IbP9tiwPd8O0",
    "papermill": {
     "duration": 0.075647,
     "end_time": "2022-04-16T07:10:28.778135",
     "exception": false,
     "start_time": "2022-04-16T07:10:28.702488",
     "status": "completed"
    },
    "tags": []
   },
   "outputs": [],
   "source": [
    "\n"
   ]
  },
  {
   "cell_type": "code",
   "execution_count": 48,
   "id": "654816b4",
   "metadata": {
    "execution": {
     "iopub.execute_input": "2022-04-16T07:10:28.934283Z",
     "iopub.status.busy": "2022-04-16T07:10:28.933984Z",
     "iopub.status.idle": "2022-04-16T07:10:29.937395Z",
     "shell.execute_reply": "2022-04-16T07:10:29.936624Z"
    },
    "id": "yQY-eDmpvmB4",
    "papermill": {
     "duration": 1.084219,
     "end_time": "2022-04-16T07:10:29.939782",
     "exception": false,
     "start_time": "2022-04-16T07:10:28.855563",
     "status": "completed"
    },
    "tags": []
   },
   "outputs": [],
   "source": [
    "from torch.nn import *\n",
    "from torch import nn"
   ]
  },
  {
   "cell_type": "code",
   "execution_count": 49,
   "id": "2cd2636e",
   "metadata": {
    "execution": {
     "iopub.execute_input": "2022-04-16T07:10:30.095718Z",
     "iopub.status.busy": "2022-04-16T07:10:30.095386Z",
     "iopub.status.idle": "2022-04-16T07:10:30.259673Z",
     "shell.execute_reply": "2022-04-16T07:10:30.258574Z"
    },
    "id": "sCqvCatNdRwA",
    "papermill": {
     "duration": 0.245613,
     "end_time": "2022-04-16T07:10:30.262169",
     "exception": false,
     "start_time": "2022-04-16T07:10:30.016556",
     "status": "completed"
    },
    "tags": []
   },
   "outputs": [],
   "source": [
    "from torch.utils.data import Dataset\n",
    "from torch.utils.data import DataLoader\n",
    "import torch\n",
    "from fastai.tabular.all import *"
   ]
  },
  {
   "cell_type": "code",
   "execution_count": 50,
   "id": "f1a6669e",
   "metadata": {
    "execution": {
     "iopub.execute_input": "2022-04-16T07:10:30.422085Z",
     "iopub.status.busy": "2022-04-16T07:10:30.421216Z",
     "iopub.status.idle": "2022-04-16T07:10:30.437863Z",
     "shell.execute_reply": "2022-04-16T07:10:30.436826Z"
    },
    "id": "iVvb5NIslsVH",
    "outputId": "762ee406-fe9c-4e50-ead3-2f1e8a3c2161",
    "papermill": {
     "duration": 0.099729,
     "end_time": "2022-04-16T07:10:30.440170",
     "exception": false,
     "start_time": "2022-04-16T07:10:30.340441",
     "status": "completed"
    },
    "tags": []
   },
   "outputs": [
    {
     "data": {
      "text/plain": [
       "3"
      ]
     },
     "execution_count": 50,
     "metadata": {},
     "output_type": "execute_result"
    }
   ],
   "source": [
    "cat = df[['Pclass', 'Sex', 'SibSp', 'Parch', 'Embarked', 'Title']]\n",
    "cont = df[['Age', 'Fare']]\n",
    "cat.join(cont).iloc[0]\n",
    "dv = df['Survived']\n",
    "dv.iloc[0]\n",
    "df.index[3]"
   ]
  },
  {
   "cell_type": "code",
   "execution_count": null,
   "id": "8b728ae7",
   "metadata": {
    "papermill": {
     "duration": 0.076912,
     "end_time": "2022-04-16T07:10:30.594822",
     "exception": false,
     "start_time": "2022-04-16T07:10:30.517910",
     "status": "completed"
    },
    "tags": []
   },
   "outputs": [],
   "source": []
  },
  {
   "cell_type": "code",
   "execution_count": 51,
   "id": "be5d2aa1",
   "metadata": {
    "execution": {
     "iopub.execute_input": "2022-04-16T07:10:30.748937Z",
     "iopub.status.busy": "2022-04-16T07:10:30.748631Z",
     "iopub.status.idle": "2022-04-16T07:10:30.754076Z",
     "shell.execute_reply": "2022-04-16T07:10:30.752844Z"
    },
    "id": "r5iKlPmmnUUz",
    "papermill": {
     "duration": 0.085254,
     "end_time": "2022-04-16T07:10:30.756447",
     "exception": false,
     "start_time": "2022-04-16T07:10:30.671193",
     "status": "completed"
    },
    "tags": []
   },
   "outputs": [],
   "source": [
    "def randomSplit(df, valid_ratio=0.2, random_state=None):\n",
    "    split_idx = int(len(df.index)*(valid_ratio))\n",
    "    shuffled_df = df.sample(frac=1, random_state=random_state)\n",
    "    return shuffled_df.iloc[split_idx:], shuffled_df[:split_idx]"
   ]
  },
  {
   "cell_type": "code",
   "execution_count": 52,
   "id": "d96b557f",
   "metadata": {
    "execution": {
     "iopub.execute_input": "2022-04-16T07:10:30.911796Z",
     "iopub.status.busy": "2022-04-16T07:10:30.911207Z",
     "iopub.status.idle": "2022-04-16T07:10:30.918305Z",
     "shell.execute_reply": "2022-04-16T07:10:30.917625Z"
    },
    "id": "1lSV1oU8bwAM",
    "papermill": {
     "duration": 0.086339,
     "end_time": "2022-04-16T07:10:30.920292",
     "exception": false,
     "start_time": "2022-04-16T07:10:30.833953",
     "status": "completed"
    },
    "tags": []
   },
   "outputs": [],
   "source": [
    "class TitanicDataset(Dataset):\n",
    "    def __init__(self, df, is_test=False):\n",
    "        self.is_test = is_test\n",
    "        self.df = df.copy()\n",
    "        self.cat = self.df[['Pclass', 'Sex', 'Embarked', 'Title', 'FamilySize', 'FamilyGroup', 'Deck', 'TicketFrequency']].astype(int)\n",
    "        self.cont = self.df[['Age', 'Fare']]\n",
    "        self.res_df = self.cat.join(self.cont)\n",
    "        if not(is_test):\n",
    "            self.dep_var = self.df['Survived'].astype(int)\n",
    "        self.columns = self.res_df.columns\n",
    "    def __len__(self):\n",
    "        return len(self.df)\n",
    "    def __getitem__(self, idx):\n",
    "        if self.is_test:\n",
    "            return self.res_df.iloc[idx].values\n",
    "        else:\n",
    "            return self.res_df.iloc[idx].values, self.dep_var.iloc[idx]"
   ]
  },
  {
   "cell_type": "code",
   "execution_count": 53,
   "id": "a821f1b4",
   "metadata": {
    "execution": {
     "iopub.execute_input": "2022-04-16T07:10:31.078585Z",
     "iopub.status.busy": "2022-04-16T07:10:31.077989Z",
     "iopub.status.idle": "2022-04-16T07:10:31.083911Z",
     "shell.execute_reply": "2022-04-16T07:10:31.083300Z"
    },
    "id": "p1ihRqhs2kz-",
    "papermill": {
     "duration": 0.0873,
     "end_time": "2022-04-16T07:10:31.085841",
     "exception": false,
     "start_time": "2022-04-16T07:10:30.998541",
     "status": "completed"
    },
    "tags": []
   },
   "outputs": [],
   "source": [
    "train_df, valid_df = randomSplit(df)"
   ]
  },
  {
   "cell_type": "code",
   "execution_count": 54,
   "id": "a96318c7",
   "metadata": {
    "execution": {
     "iopub.execute_input": "2022-04-16T07:10:31.246832Z",
     "iopub.status.busy": "2022-04-16T07:10:31.246308Z",
     "iopub.status.idle": "2022-04-16T07:10:31.259034Z",
     "shell.execute_reply": "2022-04-16T07:10:31.258306Z"
    },
    "id": "XTcoFKendkpz",
    "papermill": {
     "duration": 0.094308,
     "end_time": "2022-04-16T07:10:31.261097",
     "exception": false,
     "start_time": "2022-04-16T07:10:31.166789",
     "status": "completed"
    },
    "tags": []
   },
   "outputs": [],
   "source": [
    "td = TitanicDataset(train_df)\n",
    "valid_td = TitanicDataset(valid_df)\n",
    "test_ds = TitanicDataset(df_test, is_test=True)\n",
    "in_columns = td.columns\n",
    "cat_columns = td.cat.columns\n",
    "cat_n = len(td.cat.columns)\n",
    "cont_n = len(td.cont.columns)"
   ]
  },
  {
   "cell_type": "code",
   "execution_count": 55,
   "id": "47434097",
   "metadata": {
    "execution": {
     "iopub.execute_input": "2022-04-16T07:10:31.415285Z",
     "iopub.status.busy": "2022-04-16T07:10:31.414742Z",
     "iopub.status.idle": "2022-04-16T07:10:31.418894Z",
     "shell.execute_reply": "2022-04-16T07:10:31.418147Z"
    },
    "id": "IF6pEYPndx2Q",
    "papermill": {
     "duration": 0.084081,
     "end_time": "2022-04-16T07:10:31.420835",
     "exception": false,
     "start_time": "2022-04-16T07:10:31.336754",
     "status": "completed"
    },
    "tags": []
   },
   "outputs": [],
   "source": [
    "dl = DataLoader(td, batch_size=64)\n",
    "valid_dl = DataLoader(td, batch_size=64)"
   ]
  },
  {
   "cell_type": "code",
   "execution_count": 56,
   "id": "b5441ece",
   "metadata": {
    "execution": {
     "iopub.execute_input": "2022-04-16T07:10:31.574835Z",
     "iopub.status.busy": "2022-04-16T07:10:31.574207Z",
     "iopub.status.idle": "2022-04-16T07:10:31.578344Z",
     "shell.execute_reply": "2022-04-16T07:10:31.577524Z"
    },
    "id": "C-Z5pgpf2085",
    "papermill": {
     "duration": 0.08301,
     "end_time": "2022-04-16T07:10:31.580137",
     "exception": false,
     "start_time": "2022-04-16T07:10:31.497127",
     "status": "completed"
    },
    "tags": []
   },
   "outputs": [],
   "source": [
    "iterdl = iter(dl)"
   ]
  },
  {
   "cell_type": "code",
   "execution_count": null,
   "id": "7e7946da",
   "metadata": {
    "id": "_Somo8hF269x",
    "papermill": {
     "duration": 0.075502,
     "end_time": "2022-04-16T07:10:31.731338",
     "exception": false,
     "start_time": "2022-04-16T07:10:31.655836",
     "status": "completed"
    },
    "tags": []
   },
   "outputs": [],
   "source": []
  },
  {
   "cell_type": "code",
   "execution_count": 57,
   "id": "4c2218a5",
   "metadata": {
    "execution": {
     "iopub.execute_input": "2022-04-16T07:10:31.886808Z",
     "iopub.status.busy": "2022-04-16T07:10:31.886118Z",
     "iopub.status.idle": "2022-04-16T07:10:31.895837Z",
     "shell.execute_reply": "2022-04-16T07:10:31.895247Z"
    },
    "id": "NcJc91Aqn1GJ",
    "papermill": {
     "duration": 0.090311,
     "end_time": "2022-04-16T07:10:31.897796",
     "exception": false,
     "start_time": "2022-04-16T07:10:31.807485",
     "status": "completed"
    },
    "tags": []
   },
   "outputs": [],
   "source": [
    "voc = []\n",
    "for s in cat_columns:\n",
    "    vn = pd.concat([td.cat[s], valid_td.cat[s], test_ds.cat[s]])\n",
    "    vn = vn.astype(int).nunique()\n",
    "    voc.append([vn, vn])\n"
   ]
  },
  {
   "cell_type": "code",
   "execution_count": 58,
   "id": "b48d8902",
   "metadata": {
    "execution": {
     "iopub.execute_input": "2022-04-16T07:10:32.055148Z",
     "iopub.status.busy": "2022-04-16T07:10:32.054297Z",
     "iopub.status.idle": "2022-04-16T07:10:32.060838Z",
     "shell.execute_reply": "2022-04-16T07:10:32.059962Z"
    },
    "id": "J12RmbwluPKD",
    "outputId": "ca50b868-385e-4f83-8287-84e30513cec2",
    "papermill": {
     "duration": 0.088061,
     "end_time": "2022-04-16T07:10:32.062917",
     "exception": false,
     "start_time": "2022-04-16T07:10:31.974856",
     "status": "completed"
    },
    "tags": []
   },
   "outputs": [
    {
     "data": {
      "text/plain": [
       "[[3, 3], [2, 2], [3, 3], [6, 6], [9, 9], [4, 4], [9, 9], [7, 7]]"
      ]
     },
     "execution_count": 58,
     "metadata": {},
     "output_type": "execute_result"
    }
   ],
   "source": [
    "voc"
   ]
  },
  {
   "cell_type": "code",
   "execution_count": 59,
   "id": "143f0daf",
   "metadata": {
    "execution": {
     "iopub.execute_input": "2022-04-16T07:10:32.223747Z",
     "iopub.status.busy": "2022-04-16T07:10:32.223475Z",
     "iopub.status.idle": "2022-04-16T07:10:32.234042Z",
     "shell.execute_reply": "2022-04-16T07:10:32.233400Z"
    },
    "id": "0SBg7b0ilJyB",
    "papermill": {
     "duration": 0.093093,
     "end_time": "2022-04-16T07:10:32.235973",
     "exception": false,
     "start_time": "2022-04-16T07:10:32.142880",
     "status": "completed"
    },
    "tags": []
   },
   "outputs": [],
   "source": [
    "class TabModel(Module):\n",
    "    def __init__(self, emb_sz, cat_n, cont_n, layers):\n",
    "        super(TabModel, self).__init__()\n",
    "        self.cat_n = cat_n\n",
    "        self.cont_n = cont_n\n",
    "        self.embeddings = nn.ModuleList(nn.Embedding(ni, nf) for ni, nf in emb_sz)\n",
    "        cat_len = sum([x for _, x in emb_sz])\n",
    "        self.emb_drop = nn.Dropout(0.2)\n",
    "        self.linear_drop = nn.Dropout(0.5)\n",
    "        model = []\n",
    "        model.append(nn.BatchNorm1d(cat_len+cont_n))\n",
    "        model.append(self.linear_drop)\n",
    "        model.append(nn.Linear(cat_len+cont_n, layers[0]))\n",
    "        model.append(nn.Mish())\n",
    "        for i in range(len(layers)-2):\n",
    "            model.append(nn.BatchNorm1d(layers[i]))\n",
    "            model.append(self.linear_drop)\n",
    "            model.append(nn.Linear(layers[i], layers[i+1]))\n",
    "            model.append(nn.Mish())\n",
    "        self.linear = nn.Sequential(*model)\n",
    "        self.final_layer = nn.Linear(layers[-2], layers[-1])\n",
    "        \n",
    "    def forward(self, x):\n",
    "        emb = []\n",
    "        for i in range(self.cat_n):\n",
    "            emb.append(self.embeddings[i](x[:,i].int()))\n",
    "        for i in range(self.cat_n, self.cat_n+self.cont_n):\n",
    "            emb.append(x[:,i].unsqueeze(1))\n",
    "        input = torch.cat(emb, dim=1).float()\n",
    "        res = self.linear(input)\n",
    "        res = self.final_layer(res)\n",
    "        return res\n"
   ]
  },
  {
   "cell_type": "code",
   "execution_count": 60,
   "id": "daf8e8bf",
   "metadata": {
    "execution": {
     "iopub.execute_input": "2022-04-16T07:10:32.394342Z",
     "iopub.status.busy": "2022-04-16T07:10:32.393432Z",
     "iopub.status.idle": "2022-04-16T07:10:32.452580Z",
     "shell.execute_reply": "2022-04-16T07:10:32.451944Z"
    },
    "id": "Pgyp6Ntynyo_",
    "papermill": {
     "duration": 0.141455,
     "end_time": "2022-04-16T07:10:32.454770",
     "exception": false,
     "start_time": "2022-04-16T07:10:32.313315",
     "status": "completed"
    },
    "tags": []
   },
   "outputs": [],
   "source": [
    "tabmodel = TabModel(voc, cat_n, cont_n, (400, 300, 200, 100, 2)).to(device)"
   ]
  },
  {
   "cell_type": "code",
   "execution_count": 61,
   "id": "175d01de",
   "metadata": {
    "execution": {
     "iopub.execute_input": "2022-04-16T07:10:32.610401Z",
     "iopub.status.busy": "2022-04-16T07:10:32.610018Z",
     "iopub.status.idle": "2022-04-16T07:10:32.615802Z",
     "shell.execute_reply": "2022-04-16T07:10:32.614643Z"
    },
    "id": "azJH5KCv0Nu3",
    "outputId": "6158c43f-5850-417b-ca72-efef5f5f0cc0",
    "papermill": {
     "duration": 0.087029,
     "end_time": "2022-04-16T07:10:32.618034",
     "exception": false,
     "start_time": "2022-04-16T07:10:32.531005",
     "status": "completed"
    },
    "tags": []
   },
   "outputs": [
    {
     "name": "stdout",
     "output_type": "stream",
     "text": [
      "TabModel(\n",
      "  (embeddings): ModuleList(\n",
      "    (0): Embedding(3, 3)\n",
      "    (1): Embedding(2, 2)\n",
      "    (2): Embedding(3, 3)\n",
      "    (3): Embedding(6, 6)\n",
      "    (4): Embedding(9, 9)\n",
      "    (5): Embedding(4, 4)\n",
      "    (6): Embedding(9, 9)\n",
      "    (7): Embedding(7, 7)\n",
      "  )\n",
      "  (emb_drop): Dropout(p=0.2, inplace=False)\n",
      "  (linear_drop): Dropout(p=0.5, inplace=False)\n",
      "  (linear): Sequential(\n",
      "    (0): BatchNorm1d(45, eps=1e-05, momentum=0.1, affine=True, track_running_stats=True)\n",
      "    (1): Dropout(p=0.5, inplace=False)\n",
      "    (2): Linear(in_features=45, out_features=400, bias=True)\n",
      "    (3): Mish()\n",
      "    (4): BatchNorm1d(400, eps=1e-05, momentum=0.1, affine=True, track_running_stats=True)\n",
      "    (5): Dropout(p=0.5, inplace=False)\n",
      "    (6): Linear(in_features=400, out_features=300, bias=True)\n",
      "    (7): Mish()\n",
      "    (8): BatchNorm1d(300, eps=1e-05, momentum=0.1, affine=True, track_running_stats=True)\n",
      "    (9): Dropout(p=0.5, inplace=False)\n",
      "    (10): Linear(in_features=300, out_features=200, bias=True)\n",
      "    (11): Mish()\n",
      "    (12): BatchNorm1d(200, eps=1e-05, momentum=0.1, affine=True, track_running_stats=True)\n",
      "    (13): Dropout(p=0.5, inplace=False)\n",
      "    (14): Linear(in_features=200, out_features=100, bias=True)\n",
      "    (15): Mish()\n",
      "  )\n",
      "  (final_layer): Linear(in_features=100, out_features=2, bias=True)\n",
      ")\n"
     ]
    }
   ],
   "source": [
    "print(tabmodel)"
   ]
  },
  {
   "cell_type": "code",
   "execution_count": 62,
   "id": "8fc0e7f9",
   "metadata": {
    "execution": {
     "iopub.execute_input": "2022-04-16T07:10:32.779943Z",
     "iopub.status.busy": "2022-04-16T07:10:32.779067Z",
     "iopub.status.idle": "2022-04-16T07:10:32.783810Z",
     "shell.execute_reply": "2022-04-16T07:10:32.783177Z"
    },
    "id": "9dP2FXI1DMqk",
    "papermill": {
     "duration": 0.087946,
     "end_time": "2022-04-16T07:10:32.785760",
     "exception": false,
     "start_time": "2022-04-16T07:10:32.697814",
     "status": "completed"
    },
    "tags": []
   },
   "outputs": [],
   "source": [
    "dls = dl, valid_dl"
   ]
  },
  {
   "cell_type": "code",
   "execution_count": 63,
   "id": "c612fb52",
   "metadata": {
    "execution": {
     "iopub.execute_input": "2022-04-16T07:10:32.944265Z",
     "iopub.status.busy": "2022-04-16T07:10:32.943827Z",
     "iopub.status.idle": "2022-04-16T07:10:32.949667Z",
     "shell.execute_reply": "2022-04-16T07:10:32.949016Z"
    },
    "id": "eaD4SzWKkGTs",
    "papermill": {
     "duration": 0.088077,
     "end_time": "2022-04-16T07:10:32.951579",
     "exception": false,
     "start_time": "2022-04-16T07:10:32.863502",
     "status": "completed"
    },
    "tags": []
   },
   "outputs": [],
   "source": [
    "def train(dl, model, loss_fn, optim):\n",
    "    size = len(dl.dataset)\n",
    "    losses = []\n",
    "    for batch, (X, y) in enumerate(dl):\n",
    "        # prediction, loss\n",
    "        pred = model(X)\n",
    "        loss = loss_fn(pred, y)\n",
    "        # backprop\n",
    "        optim.zero_grad()\n",
    "        loss.backward()\n",
    "        optim.step()\n",
    "\n",
    "        losses.append(loss.item())\n",
    "    \n",
    "    print(f'loss: {np.array(losses).mean()}')\n"
   ]
  },
  {
   "cell_type": "code",
   "execution_count": 64,
   "id": "522443cd",
   "metadata": {
    "execution": {
     "iopub.execute_input": "2022-04-16T07:10:33.111906Z",
     "iopub.status.busy": "2022-04-16T07:10:33.111381Z",
     "iopub.status.idle": "2022-04-16T07:10:33.117889Z",
     "shell.execute_reply": "2022-04-16T07:10:33.117166Z"
    },
    "id": "g31GQH3w_kUN",
    "papermill": {
     "duration": 0.092268,
     "end_time": "2022-04-16T07:10:33.120131",
     "exception": false,
     "start_time": "2022-04-16T07:10:33.027863",
     "status": "completed"
    },
    "tags": []
   },
   "outputs": [],
   "source": [
    "def valid(valid_dl, model, loss_fn):\n",
    "    accuracy = []\n",
    "    losses = []\n",
    "    with torch.no_grad():\n",
    "        for batch, (X, y) in enumerate(valid_dl):\n",
    "            #p rediction, loss\n",
    "            pred = model(X)\n",
    "            loss = loss_fn(pred, y)\n",
    "            # metric\n",
    "            accuracy.append((pred.argmax(1)==y).float().flatten().mean())\n",
    "            losses.append(loss.item())\n",
    "    print(f'valid -- accuracy: {np.array(accuracy).mean()}, loss: {np.array(losses).mean()}')"
   ]
  },
  {
   "cell_type": "code",
   "execution_count": 65,
   "id": "58e58630",
   "metadata": {
    "execution": {
     "iopub.execute_input": "2022-04-16T07:10:33.280024Z",
     "iopub.status.busy": "2022-04-16T07:10:33.279627Z",
     "iopub.status.idle": "2022-04-16T07:10:33.285005Z",
     "shell.execute_reply": "2022-04-16T07:10:33.284330Z"
    },
    "id": "GWBjVQfWDI0r",
    "papermill": {
     "duration": 0.087844,
     "end_time": "2022-04-16T07:10:33.286993",
     "exception": false,
     "start_time": "2022-04-16T07:10:33.199149",
     "status": "completed"
    },
    "tags": []
   },
   "outputs": [],
   "source": [
    "def epoch(n, dls, model:Module, loss_fn, lr=1e-3):\n",
    "    train_dl, valid_dl = dls\n",
    "    \n",
    "    for i in range(n):\n",
    "        # train\n",
    "        model.train()\n",
    "        train(train_dl, model, loss_fn, torch.optim.Adam(model.parameters(), lr= lr))\n",
    "        #validate\n",
    "        model.eval()\n",
    "        valid(valid_dl, model, loss_fn)"
   ]
  },
  {
   "cell_type": "code",
   "execution_count": 66,
   "id": "cdf8589b",
   "metadata": {
    "execution": {
     "iopub.execute_input": "2022-04-16T07:10:33.444845Z",
     "iopub.status.busy": "2022-04-16T07:10:33.444340Z",
     "iopub.status.idle": "2022-04-16T07:10:36.306825Z",
     "shell.execute_reply": "2022-04-16T07:10:36.305709Z"
    },
    "id": "3YLxax12s3ZV",
    "outputId": "0b643d39-25e7-4524-a2a2-f3f2b9f0409b",
    "papermill": {
     "duration": 2.942629,
     "end_time": "2022-04-16T07:10:36.308924",
     "exception": false,
     "start_time": "2022-04-16T07:10:33.366295",
     "status": "completed"
    },
    "tags": []
   },
   "outputs": [
    {
     "name": "stdout",
     "output_type": "stream",
     "text": [
      "loss: 0.6040722752610842\n",
      "valid -- accuracy: 0.6753472685813904, loss: 0.5883495509624481\n",
      "loss: 0.5149013722936312\n",
      "valid -- accuracy: 0.8045428395271301, loss: 0.46415843317906064\n",
      "loss: 0.4891646280884743\n",
      "valid -- accuracy: 0.8305845260620117, loss: 0.42712033291657764\n",
      "loss: 0.4618997660775979\n",
      "valid -- accuracy: 0.8346354365348816, loss: 0.4080299710234006\n",
      "loss: 0.4751160852611065\n",
      "valid -- accuracy: 0.8331887125968933, loss: 0.40497411663333577\n",
      "loss: 0.4651556784907977\n",
      "valid -- accuracy: 0.8372395634651184, loss: 0.4027564885715644\n",
      "loss: 0.46408972640832263\n",
      "valid -- accuracy: 0.83984375, loss: 0.39553381502628326\n",
      "loss: 0.4434848601619403\n",
      "valid -- accuracy: 0.8357928395271301, loss: 0.3960883642236392\n"
     ]
    }
   ],
   "source": [
    "epoch(8, dls, tabmodel, CrossEntropyLoss(), lr=5e-4)"
   ]
  },
  {
   "cell_type": "code",
   "execution_count": 67,
   "id": "e4d78534",
   "metadata": {
    "execution": {
     "iopub.execute_input": "2022-04-16T07:10:36.475115Z",
     "iopub.status.busy": "2022-04-16T07:10:36.474823Z",
     "iopub.status.idle": "2022-04-16T07:10:36.478708Z",
     "shell.execute_reply": "2022-04-16T07:10:36.478050Z"
    },
    "id": "92EJ-f5yFRne",
    "papermill": {
     "duration": 0.092894,
     "end_time": "2022-04-16T07:10:36.480434",
     "exception": false,
     "start_time": "2022-04-16T07:10:36.387540",
     "status": "completed"
    },
    "tags": []
   },
   "outputs": [],
   "source": [
    "def predictWhole(data, model):\n",
    "    model.eval()\n",
    "    pred = model(data)\n",
    "    return pred.argmax(1)"
   ]
  },
  {
   "cell_type": "code",
   "execution_count": 68,
   "id": "165f169f",
   "metadata": {
    "execution": {
     "iopub.execute_input": "2022-04-16T07:10:36.640263Z",
     "iopub.status.busy": "2022-04-16T07:10:36.639700Z",
     "iopub.status.idle": "2022-04-16T07:10:36.686376Z",
     "shell.execute_reply": "2022-04-16T07:10:36.685424Z"
    },
    "id": "A28cUom3tXCM",
    "papermill": {
     "duration": 0.129677,
     "end_time": "2022-04-16T07:10:36.688639",
     "exception": false,
     "start_time": "2022-04-16T07:10:36.558962",
     "status": "completed"
    },
    "tags": []
   },
   "outputs": [],
   "source": [
    "test_ds_raw = torch.Tensor(np.array(test_ds))"
   ]
  },
  {
   "cell_type": "code",
   "execution_count": 69,
   "id": "abf66393",
   "metadata": {
    "execution": {
     "iopub.execute_input": "2022-04-16T07:10:36.846051Z",
     "iopub.status.busy": "2022-04-16T07:10:36.845764Z",
     "iopub.status.idle": "2022-04-16T07:10:36.865377Z",
     "shell.execute_reply": "2022-04-16T07:10:36.864634Z"
    },
    "id": "EpLqTfpZZ2is",
    "outputId": "76882f4f-19b7-41de-99eb-723c47f627b4",
    "papermill": {
     "duration": 0.100515,
     "end_time": "2022-04-16T07:10:36.867250",
     "exception": false,
     "start_time": "2022-04-16T07:10:36.766735",
     "status": "completed"
    },
    "tags": []
   },
   "outputs": [
    {
     "data": {
      "text/plain": [
       "tensor([[  0.,   0.,   2.,  ...,   0.,  12.,  10.],\n",
       "        [  0.,   1.,   0.,  ...,   0.,  13.,  11.],\n",
       "        [  2.,   0.,   2.,  ...,   0.,  14.,  12.],\n",
       "        ...,\n",
       "        [  0.,   0.,   0.,  ...,   0.,  90.,  92.],\n",
       "        [  0.,   0.,   0.,  ...,   0.,  22.,  41.],\n",
       "        [  0.,   0.,   1.,  ...,   0.,  22., 179.]])"
      ]
     },
     "execution_count": 69,
     "metadata": {},
     "output_type": "execute_result"
    }
   ],
   "source": [
    "test_ds_raw"
   ]
  },
  {
   "cell_type": "code",
   "execution_count": 70,
   "id": "68b3edaa",
   "metadata": {
    "execution": {
     "iopub.execute_input": "2022-04-16T07:10:37.027022Z",
     "iopub.status.busy": "2022-04-16T07:10:37.026558Z",
     "iopub.status.idle": "2022-04-16T07:10:37.041766Z",
     "shell.execute_reply": "2022-04-16T07:10:37.041048Z"
    },
    "id": "Gaz-1GGsLWSa",
    "outputId": "bdb38471-e93f-45b6-8bf5-cc40cbb53284",
    "papermill": {
     "duration": 0.098062,
     "end_time": "2022-04-16T07:10:37.043731",
     "exception": false,
     "start_time": "2022-04-16T07:10:36.945669",
     "status": "completed"
    },
    "tags": []
   },
   "outputs": [
    {
     "data": {
      "text/plain": [
       "418"
      ]
     },
     "execution_count": 70,
     "metadata": {},
     "output_type": "execute_result"
    }
   ],
   "source": [
    "preds = predictWhole(test_ds_raw, tabmodel)\n",
    "len(preds)"
   ]
  },
  {
   "cell_type": "code",
   "execution_count": 71,
   "id": "6abf1e24",
   "metadata": {
    "execution": {
     "iopub.execute_input": "2022-04-16T07:10:37.206813Z",
     "iopub.status.busy": "2022-04-16T07:10:37.206381Z",
     "iopub.status.idle": "2022-04-16T07:10:37.210300Z",
     "shell.execute_reply": "2022-04-16T07:10:37.209768Z"
    },
    "id": "Ol7VwkHuLgFS",
    "papermill": {
     "duration": 0.0884,
     "end_time": "2022-04-16T07:10:37.211967",
     "exception": false,
     "start_time": "2022-04-16T07:10:37.123567",
     "status": "completed"
    },
    "tags": []
   },
   "outputs": [],
   "source": [
    "result = pd.DataFrame({'PassengerId': df_test_pi, 'Survived': preds})"
   ]
  },
  {
   "cell_type": "code",
   "execution_count": 72,
   "id": "a0de280d",
   "metadata": {
    "execution": {
     "iopub.execute_input": "2022-04-16T07:10:37.376930Z",
     "iopub.status.busy": "2022-04-16T07:10:37.376443Z",
     "iopub.status.idle": "2022-04-16T07:10:37.383759Z",
     "shell.execute_reply": "2022-04-16T07:10:37.383065Z"
    },
    "id": "nZ36hM3iL4Ku",
    "papermill": {
     "duration": 0.094964,
     "end_time": "2022-04-16T07:10:37.385973",
     "exception": false,
     "start_time": "2022-04-16T07:10:37.291009",
     "status": "completed"
    },
    "tags": []
   },
   "outputs": [],
   "source": [
    "result.to_csv('submission.csv', index=False)"
   ]
  },
  {
   "cell_type": "code",
   "execution_count": 73,
   "id": "f4dca8e4",
   "metadata": {
    "execution": {
     "iopub.execute_input": "2022-04-16T07:10:37.574255Z",
     "iopub.status.busy": "2022-04-16T07:10:37.573773Z",
     "iopub.status.idle": "2022-04-16T07:10:37.578366Z",
     "shell.execute_reply": "2022-04-16T07:10:37.577754Z"
    },
    "papermill": {
     "duration": 0.099933,
     "end_time": "2022-04-16T07:10:37.580195",
     "exception": false,
     "start_time": "2022-04-16T07:10:37.480262",
     "status": "completed"
    },
    "tags": []
   },
   "outputs": [],
   "source": [
    "def randSplit(l, valid_ratio=0.2):\n",
    "    idxs = np.arange(l)\n",
    "    np.random.shuffle(idxs)\n",
    "    cut = int(l*valid_ratio)\n",
    "    return idxs[:cut], idxs[cut:]"
   ]
  },
  {
   "cell_type": "code",
   "execution_count": 74,
   "id": "60cfc54d",
   "metadata": {
    "execution": {
     "iopub.execute_input": "2022-04-16T07:10:37.740696Z",
     "iopub.status.busy": "2022-04-16T07:10:37.740222Z",
     "iopub.status.idle": "2022-04-16T07:10:37.743792Z",
     "shell.execute_reply": "2022-04-16T07:10:37.743193Z"
    },
    "id": "ZXGUSbcaNLJc",
    "papermill": {
     "duration": 0.085105,
     "end_time": "2022-04-16T07:10:37.745689",
     "exception": false,
     "start_time": "2022-04-16T07:10:37.660584",
     "status": "completed"
    },
    "tags": []
   },
   "outputs": [],
   "source": [
    "dls = DataLoaders(dl, valid_dl)"
   ]
  },
  {
   "cell_type": "code",
   "execution_count": 75,
   "id": "c50782b4",
   "metadata": {
    "execution": {
     "iopub.execute_input": "2022-04-16T07:10:37.909691Z",
     "iopub.status.busy": "2022-04-16T07:10:37.908769Z",
     "iopub.status.idle": "2022-04-16T07:10:37.919686Z",
     "shell.execute_reply": "2022-04-16T07:10:37.918830Z"
    },
    "papermill": {
     "duration": 0.094531,
     "end_time": "2022-04-16T07:10:37.921531",
     "exception": false,
     "start_time": "2022-04-16T07:10:37.827000",
     "status": "completed"
    },
    "tags": []
   },
   "outputs": [],
   "source": [
    "voc = []\n",
    "for s in cat_columns:\n",
    "    vn = pd.concat([td.cat[s], valid_td.cat[s], test_ds.cat[s]])\n",
    "    vn = vn.astype(int).nunique()\n",
    "    voc.append([vn, vn*3])\n"
   ]
  },
  {
   "cell_type": "code",
   "execution_count": 76,
   "id": "3668864a",
   "metadata": {
    "execution": {
     "iopub.execute_input": "2022-04-16T07:10:38.084394Z",
     "iopub.status.busy": "2022-04-16T07:10:38.084090Z",
     "iopub.status.idle": "2022-04-16T07:10:38.093006Z",
     "shell.execute_reply": "2022-04-16T07:10:38.092149Z"
    },
    "papermill": {
     "duration": 0.090803,
     "end_time": "2022-04-16T07:10:38.095127",
     "exception": false,
     "start_time": "2022-04-16T07:10:38.004324",
     "status": "completed"
    },
    "tags": []
   },
   "outputs": [],
   "source": [
    "tabmodel = TabModel(voc, cat_n, cont_n, (400, 300, 200, 100, 2)).to(device)"
   ]
  },
  {
   "cell_type": "code",
   "execution_count": 77,
   "id": "90713376",
   "metadata": {
    "execution": {
     "iopub.execute_input": "2022-04-16T07:10:38.256220Z",
     "iopub.status.busy": "2022-04-16T07:10:38.255922Z",
     "iopub.status.idle": "2022-04-16T07:10:38.261289Z",
     "shell.execute_reply": "2022-04-16T07:10:38.260421Z"
    },
    "papermill": {
     "duration": 0.086986,
     "end_time": "2022-04-16T07:10:38.263133",
     "exception": false,
     "start_time": "2022-04-16T07:10:38.176147",
     "status": "completed"
    },
    "tags": []
   },
   "outputs": [],
   "source": [
    "learn = Learner(dls, tabmodel, loss_func=CrossEntropyLossFlat(), metrics=accuracy)"
   ]
  },
  {
   "cell_type": "code",
   "execution_count": 78,
   "id": "b1c32bfa",
   "metadata": {
    "execution": {
     "iopub.execute_input": "2022-04-16T07:10:38.421763Z",
     "iopub.status.busy": "2022-04-16T07:10:38.421497Z",
     "iopub.status.idle": "2022-04-16T07:10:41.405035Z",
     "shell.execute_reply": "2022-04-16T07:10:41.404312Z"
    },
    "papermill": {
     "duration": 3.065137,
     "end_time": "2022-04-16T07:10:41.406930",
     "exception": false,
     "start_time": "2022-04-16T07:10:38.341793",
     "status": "completed"
    },
    "tags": []
   },
   "outputs": [
    {
     "data": {
      "text/html": [
       "\n",
       "<style>\n",
       "    /* Turns off some styling */\n",
       "    progress {\n",
       "        /* gets rid of default border in Firefox and Opera. */\n",
       "        border: none;\n",
       "        /* Needs to be in here for Safari polyfill so background images work as expected. */\n",
       "        background-size: auto;\n",
       "    }\n",
       "    .progress-bar-interrupted, .progress-bar-interrupted::-webkit-progress-bar {\n",
       "        background: #F44336;\n",
       "    }\n",
       "</style>\n"
      ],
      "text/plain": [
       "<IPython.core.display.HTML object>"
      ]
     },
     "metadata": {},
     "output_type": "display_data"
    },
    {
     "data": {
      "text/html": [],
      "text/plain": [
       "<IPython.core.display.HTML object>"
      ]
     },
     "metadata": {},
     "output_type": "display_data"
    },
    {
     "data": {
      "text/plain": [
       "SuggestedLRs(valley=0.0014454397605732083)"
      ]
     },
     "execution_count": 78,
     "metadata": {},
     "output_type": "execute_result"
    },
    {
     "data": {
      "image/png": "[encoded data removed]",
      "text/plain": [
       "<Figure size 432x288 with 1 Axes>"
      ]
     },
     "metadata": {
      "needs_background": "light"
     },
     "output_type": "display_data"
    }
   ],
   "source": [
    "learn.lr_find()"
   ]
  },
  {
   "cell_type": "code",
   "execution_count": 79,
   "id": "0d37d400",
   "metadata": {
    "execution": {
     "iopub.execute_input": "2022-04-16T07:10:41.574671Z",
     "iopub.status.busy": "2022-04-16T07:10:41.573793Z",
     "iopub.status.idle": "2022-04-16T07:10:46.041338Z",
     "shell.execute_reply": "2022-04-16T07:10:46.040421Z"
    },
    "papermill": {
     "duration": 4.553903,
     "end_time": "2022-04-16T07:10:46.043687",
     "exception": false,
     "start_time": "2022-04-16T07:10:41.489784",
     "status": "completed"
    },
    "tags": []
   },
   "outputs": [
    {
     "data": {
      "text/html": [
       "\n",
       "<style>\n",
       "    /* Turns off some styling */\n",
       "    progress {\n",
       "        /* gets rid of default border in Firefox and Opera. */\n",
       "        border: none;\n",
       "        /* Needs to be in here for Safari polyfill so background images work as expected. */\n",
       "        background-size: auto;\n",
       "    }\n",
       "    .progress-bar-interrupted, .progress-bar-interrupted::-webkit-progress-bar {\n",
       "        background: #F44336;\n",
       "    }\n",
       "</style>\n"
      ],
      "text/plain": [
       "<IPython.core.display.HTML object>"
      ]
     },
     "metadata": {},
     "output_type": "display_data"
    },
    {
     "data": {
      "text/html": [
       "<table border=\"1\" class=\"dataframe\">\n",
       "  <thead>\n",
       "    <tr style=\"text-align: left;\">\n",
       "      <th>epoch</th>\n",
       "      <th>train_loss</th>\n",
       "      <th>valid_loss</th>\n",
       "      <th>accuracy</th>\n",
       "      <th>time</th>\n",
       "    </tr>\n",
       "  </thead>\n",
       "  <tbody>\n",
       "    <tr>\n",
       "      <td>0</td>\n",
       "      <td>0.673867</td>\n",
       "      <td>0.654464</td>\n",
       "      <td>0.629734</td>\n",
       "      <td>00:00</td>\n",
       "    </tr>\n",
       "    <tr>\n",
       "      <td>1</td>\n",
       "      <td>0.618425</td>\n",
       "      <td>0.509667</td>\n",
       "      <td>0.765778</td>\n",
       "      <td>00:00</td>\n",
       "    </tr>\n",
       "    <tr>\n",
       "      <td>2</td>\n",
       "      <td>0.553066</td>\n",
       "      <td>0.411023</td>\n",
       "      <td>0.820477</td>\n",
       "      <td>00:00</td>\n",
       "    </tr>\n",
       "    <tr>\n",
       "      <td>3</td>\n",
       "      <td>0.519260</td>\n",
       "      <td>0.396803</td>\n",
       "      <td>0.831697</td>\n",
       "      <td>00:00</td>\n",
       "    </tr>\n",
       "    <tr>\n",
       "      <td>4</td>\n",
       "      <td>0.487343</td>\n",
       "      <td>0.389105</td>\n",
       "      <td>0.828892</td>\n",
       "      <td>00:00</td>\n",
       "    </tr>\n",
       "    <tr>\n",
       "      <td>5</td>\n",
       "      <td>0.464617</td>\n",
       "      <td>0.383418</td>\n",
       "      <td>0.835905</td>\n",
       "      <td>00:00</td>\n",
       "    </tr>\n",
       "    <tr>\n",
       "      <td>6</td>\n",
       "      <td>0.444785</td>\n",
       "      <td>0.383978</td>\n",
       "      <td>0.840112</td>\n",
       "      <td>00:00</td>\n",
       "    </tr>\n",
       "    <tr>\n",
       "      <td>7</td>\n",
       "      <td>0.433618</td>\n",
       "      <td>0.381573</td>\n",
       "      <td>0.837307</td>\n",
       "      <td>00:00</td>\n",
       "    </tr>\n",
       "    <tr>\n",
       "      <td>8</td>\n",
       "      <td>0.425818</td>\n",
       "      <td>0.380538</td>\n",
       "      <td>0.837307</td>\n",
       "      <td>00:00</td>\n",
       "    </tr>\n",
       "    <tr>\n",
       "      <td>9</td>\n",
       "      <td>0.421242</td>\n",
       "      <td>0.380837</td>\n",
       "      <td>0.837307</td>\n",
       "      <td>00:00</td>\n",
       "    </tr>\n",
       "  </tbody>\n",
       "</table>"
      ],
      "text/plain": [
       "<IPython.core.display.HTML object>"
      ]
     },
     "metadata": {},
     "output_type": "display_data"
    }
   ],
   "source": [
    "learn.fit_one_cycle(10, 1e-3)"
   ]
  },
  {
   "cell_type": "code",
   "execution_count": null,
   "id": "696e82e9",
   "metadata": {
    "papermill": {
     "duration": 0.088002,
     "end_time": "2022-04-16T07:10:46.216606",
     "exception": false,
     "start_time": "2022-04-16T07:10:46.128604",
     "status": "completed"
    },
    "tags": []
   },
   "outputs": [],
   "source": []
  },
  {
   "cell_type": "code",
   "execution_count": null,
   "id": "119718cc",
   "metadata": {
    "papermill": {
     "duration": 0.085628,
     "end_time": "2022-04-16T07:10:46.387780",
     "exception": false,
     "start_time": "2022-04-16T07:10:46.302152",
     "status": "completed"
    },
    "tags": []
   },
   "outputs": [],
   "source": []
  }
 ],
 "metadata": {
  "kernelspec": {
   "display_name": "Python 3",
   "language": "python",
   "name": "python3"
  },
  "language_info": {
   "codemirror_mode": {
    "name": "ipython",
    "version": 3
   },
   "file_extension": ".py",
   "mimetype": "text/x-python",
   "name": "python",
   "nbconvert_exporter": "python",
   "pygments_lexer": "ipython3",
   "version": "3.7.12"
  },
  "papermill": {
   "default_parameters": {},
   "duration": 74.085402,
   "end_time": "2022-04-16T07:10:47.495115",
   "environment_variables": {},
   "exception": null,
   "input_path": "__notebook__.ipynb",
   "output_path": "__notebook__.ipynb",
   "parameters": {},
   "start_time": "2022-04-16T07:09:33.409713",
   "version": "2.3.4"
  }
 },
 "nbformat": 4,
 "nbformat_minor": 5
}
