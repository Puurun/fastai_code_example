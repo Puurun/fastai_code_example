{
 "cells": [
  {
   "cell_type": "markdown",
   "id": "dac3f626",
   "metadata": {
    "id": "view-in-github",
    "papermill": {
     "duration": 0.124829,
     "end_time": "2022-04-17T05:28:33.712389",
     "exception": false,
     "start_time": "2022-04-17T05:28:33.587560",
     "status": "completed"
    },
    "tags": []
   },
   "source": [
    "<a href=\"https://colab.research.google.com/github/Puurun/fastai_code_example/blob/main/Pytorch_Titanic.ipynb\" target=\"_parent\"><img src=\"https://colab.research.google.com/assets/colab-badge.svg\" alt=\"Open In Colab\"/></a>"
   ]
  },
  {
   "cell_type": "code",
   "execution_count": null,
   "id": "87c1cacf",
   "metadata": {
    "id": "SCI89IkiejzG",
    "outputId": "c8596ff0-5f2b-4bab-99dd-0d0b181f6795",
    "papermill": {
     "duration": 0.128557,
     "end_time": "2022-04-17T05:28:33.964173",
     "exception": false,
     "start_time": "2022-04-17T05:28:33.835616",
     "status": "completed"
    },
    "tags": []
   },
   "outputs": [],
   "source": []
  },
  {
   "cell_type": "code",
   "execution_count": 1,
   "id": "f5e12f01",
   "metadata": {
    "execution": {
     "iopub.execute_input": "2022-04-17T05:28:34.220003Z",
     "iopub.status.busy": "2022-04-17T05:28:34.219649Z",
     "iopub.status.idle": "2022-04-17T05:28:46.576291Z",
     "shell.execute_reply": "2022-04-17T05:28:46.575473Z"
    },
    "id": "-ltAnZP3QBy3",
    "outputId": "5be66168-fe3d-46c9-99f8-2d5496bc6f56",
    "papermill": {
     "duration": 12.48422,
     "end_time": "2022-04-17T05:28:46.578816",
     "exception": false,
     "start_time": "2022-04-17T05:28:34.094596",
     "status": "completed"
    },
    "tags": []
   },
   "outputs": [
    {
     "name": "stdout",
     "output_type": "stream",
     "text": [
      "Collecting impyute\r\n",
      "  Downloading impyute-0.0.8-py2.py3-none-any.whl (31 kB)\r\n",
      "Requirement already satisfied: scipy in /opt/conda/lib/python3.7/site-packages (from impyute) (1.7.3)\r\n",
      "Requirement already satisfied: scikit-learn in /opt/conda/lib/python3.7/site-packages (from impyute) (1.0.2)\r\n",
      "Requirement already satisfied: numpy in /opt/conda/lib/python3.7/site-packages (from impyute) (1.21.5)\r\n",
      "Requirement already satisfied: joblib>=0.11 in /opt/conda/lib/python3.7/site-packages (from scikit-learn->impyute) (1.0.1)\r\n",
      "Requirement already satisfied: threadpoolctl>=2.0.0 in /opt/conda/lib/python3.7/site-packages (from scikit-learn->impyute) (3.1.0)\r\n",
      "Installing collected packages: impyute\r\n",
      "Successfully installed impyute-0.0.8\r\n",
      "\u001b[33mWARNING: Running pip as the 'root' user can result in broken permissions and conflicting behaviour with the system package manager. It is recommended to use a virtual environment instead: https://pip.pypa.io/warnings/venv\u001b[0m\u001b[33m\r\n",
      "\u001b[0m"
     ]
    }
   ],
   "source": [
    "!pip install impyute"
   ]
  },
  {
   "cell_type": "code",
   "execution_count": 2,
   "id": "4ec1f435",
   "metadata": {
    "execution": {
     "iopub.execute_input": "2022-04-17T05:28:46.824050Z",
     "iopub.status.busy": "2022-04-17T05:28:46.823735Z",
     "iopub.status.idle": "2022-04-17T05:29:09.746244Z",
     "shell.execute_reply": "2022-04-17T05:29:09.745421Z"
    },
    "id": "h0xhi6k4bUXN",
    "outputId": "4506c3ee-d33e-4811-8dae-0838b19615cc",
    "papermill": {
     "duration": 23.048006,
     "end_time": "2022-04-17T05:29:09.748625",
     "exception": false,
     "start_time": "2022-04-17T05:28:46.700619",
     "status": "completed"
    },
    "tags": []
   },
   "outputs": [
    {
     "name": "stdout",
     "output_type": "stream",
     "text": [
      "\u001b[31mERROR: pip's dependency resolver does not currently take into account all the packages that are installed. This behaviour is the source of the following dependency conflicts.\r\n",
      "tensorflow-io 0.21.0 requires tensorflow-io-gcs-filesystem==0.21.0, which is not installed.\r\n",
      "tensorflow 2.6.3 requires absl-py~=0.10, but you have absl-py 1.0.0 which is incompatible.\r\n",
      "tensorflow 2.6.3 requires numpy~=1.19.2, but you have numpy 1.21.5 which is incompatible.\r\n",
      "tensorflow 2.6.3 requires six~=1.15.0, but you have six 1.16.0 which is incompatible.\r\n",
      "tensorflow 2.6.3 requires wrapt~=1.12.1, but you have wrapt 1.14.0 which is incompatible.\r\n",
      "tensorflow-transform 1.7.0 requires pyarrow<6,>=1, but you have pyarrow 7.0.0 which is incompatible.\r\n",
      "tensorflow-transform 1.7.0 requires tensorflow!=2.0.*,!=2.1.*,!=2.2.*,!=2.3.*,!=2.4.*,!=2.5.*,!=2.6.*,!=2.7.*,<2.9,>=1.15.5, but you have tensorflow 2.6.3 which is incompatible.\r\n",
      "tensorflow-serving-api 2.8.0 requires tensorflow<3,>=2.8.0, but you have tensorflow 2.6.3 which is incompatible.\r\n",
      "rich 12.2.0 requires typing-extensions<5.0,>=4.0.0; python_version < \"3.9\", but you have typing-extensions 3.10.0.2 which is incompatible.\r\n",
      "pytorch-lightning 1.6.0 requires typing-extensions>=4.0.0, but you have typing-extensions 3.10.0.2 which is incompatible.\r\n",
      "flake8 4.0.1 requires importlib-metadata<4.3; python_version < \"3.8\", but you have importlib-metadata 4.11.3 which is incompatible.\r\n",
      "apache-beam 2.37.0 requires dill<0.3.2,>=0.3.1.1, but you have dill 0.3.4 which is incompatible.\r\n",
      "apache-beam 2.37.0 requires httplib2<0.20.0,>=0.8, but you have httplib2 0.20.4 which is incompatible.\r\n",
      "apache-beam 2.37.0 requires pyarrow<7.0.0,>=0.15.1, but you have pyarrow 7.0.0 which is incompatible.\r\n",
      "aioitertools 0.10.0 requires typing_extensions>=4.0; python_version < \"3.10\", but you have typing-extensions 3.10.0.2 which is incompatible.\r\n",
      "aiobotocore 2.2.0 requires botocore<1.24.22,>=1.24.21, but you have botocore 1.24.38 which is incompatible.\u001b[0m\u001b[31m\r\n",
      "\u001b[0m"
     ]
    }
   ],
   "source": [
    "!pip install fastai -Uqq"
   ]
  },
  {
   "cell_type": "code",
   "execution_count": 3,
   "id": "a323d06c",
   "metadata": {
    "execution": {
     "iopub.execute_input": "2022-04-17T05:29:09.990721Z",
     "iopub.status.busy": "2022-04-17T05:29:09.990426Z",
     "iopub.status.idle": "2022-04-17T05:29:09.994819Z",
     "shell.execute_reply": "2022-04-17T05:29:09.994007Z"
    },
    "id": "TNgP1SUQd-sh",
    "papermill": {
     "duration": 0.12883,
     "end_time": "2022-04-17T05:29:09.996844",
     "exception": false,
     "start_time": "2022-04-17T05:29:09.868014",
     "status": "completed"
    },
    "tags": []
   },
   "outputs": [],
   "source": [
    "gpu = False\n",
    "device = 'cuda' if gpu else 'cpu'"
   ]
  },
  {
   "cell_type": "code",
   "execution_count": 4,
   "id": "7e3f3650",
   "metadata": {
    "execution": {
     "iopub.execute_input": "2022-04-17T05:29:10.239594Z",
     "iopub.status.busy": "2022-04-17T05:29:10.238774Z",
     "iopub.status.idle": "2022-04-17T05:29:11.607869Z",
     "shell.execute_reply": "2022-04-17T05:29:11.606918Z"
    },
    "id": "JYxhj_fHeOwx",
    "papermill": {
     "duration": 1.49368,
     "end_time": "2022-04-17T05:29:11.610422",
     "exception": false,
     "start_time": "2022-04-17T05:29:10.116742",
     "status": "completed"
    },
    "tags": []
   },
   "outputs": [],
   "source": [
    "import pandas as pd\n",
    "import numpy as np\n",
    "import seaborn as sns\n",
    "import matplotlib.pyplot as plt\n",
    "import impyute as im\n",
    "import sys\n",
    "from impyute.imputation.cs import fast_knn\n",
    "from sklearn.preprocessing import OrdinalEncoder"
   ]
  },
  {
   "cell_type": "code",
   "execution_count": 5,
   "id": "0f4cba07",
   "metadata": {
    "execution": {
     "iopub.execute_input": "2022-04-17T05:29:11.851130Z",
     "iopub.status.busy": "2022-04-17T05:29:11.850503Z",
     "iopub.status.idle": "2022-04-17T05:29:11.879430Z",
     "shell.execute_reply": "2022-04-17T05:29:11.878803Z"
    },
    "id": "ZkXCpX_cedrB",
    "papermill": {
     "duration": 0.15085,
     "end_time": "2022-04-17T05:29:11.881617",
     "exception": false,
     "start_time": "2022-04-17T05:29:11.730767",
     "status": "completed"
    },
    "tags": []
   },
   "outputs": [],
   "source": [
    "df = pd.read_csv('../input/titanic/train.csv')\n",
    "df_test = pd.read_csv('../input/titanic/test.csv')"
   ]
  },
  {
   "cell_type": "code",
   "execution_count": 6,
   "id": "b38fa406",
   "metadata": {
    "execution": {
     "iopub.execute_input": "2022-04-17T05:29:12.124252Z",
     "iopub.status.busy": "2022-04-17T05:29:12.123678Z",
     "iopub.status.idle": "2022-04-17T05:29:12.130699Z",
     "shell.execute_reply": "2022-04-17T05:29:12.130137Z"
    },
    "id": "Ebfuhs5-eu87",
    "outputId": "13da6f35-ff67-448e-a73b-0c9449bb3e2e",
    "papermill": {
     "duration": 0.12941,
     "end_time": "2022-04-17T05:29:12.132544",
     "exception": false,
     "start_time": "2022-04-17T05:29:12.003134",
     "status": "completed"
    },
    "tags": []
   },
   "outputs": [
    {
     "data": {
      "text/plain": [
       "array(['PassengerId', 'Survived', 'Pclass', 'Name', 'Sex', 'Age', 'SibSp',\n",
       "       'Parch', 'Ticket', 'Fare', 'Cabin', 'Embarked'], dtype=object)"
      ]
     },
     "execution_count": 6,
     "metadata": {},
     "output_type": "execute_result"
    }
   ],
   "source": [
    "df.columns.values"
   ]
  },
  {
   "cell_type": "code",
   "execution_count": null,
   "id": "26ebbc47",
   "metadata": {
    "papermill": {
     "duration": 0.118715,
     "end_time": "2022-04-17T05:29:12.370612",
     "exception": false,
     "start_time": "2022-04-17T05:29:12.251897",
     "status": "completed"
    },
    "tags": []
   },
   "outputs": [],
   "source": []
  },
  {
   "cell_type": "code",
   "execution_count": null,
   "id": "d7c76d65",
   "metadata": {
    "papermill": {
     "duration": 0.118569,
     "end_time": "2022-04-17T05:29:12.607798",
     "exception": false,
     "start_time": "2022-04-17T05:29:12.489229",
     "status": "completed"
    },
    "tags": []
   },
   "outputs": [],
   "source": []
  },
  {
   "cell_type": "code",
   "execution_count": 7,
   "id": "6d0471d7",
   "metadata": {
    "execution": {
     "iopub.execute_input": "2022-04-17T05:29:12.846587Z",
     "iopub.status.busy": "2022-04-17T05:29:12.846019Z",
     "iopub.status.idle": "2022-04-17T05:29:12.851511Z",
     "shell.execute_reply": "2022-04-17T05:29:12.850804Z"
    },
    "id": "RmyHWYzXe4EJ",
    "papermill": {
     "duration": 0.127313,
     "end_time": "2022-04-17T05:29:12.853433",
     "exception": false,
     "start_time": "2022-04-17T05:29:12.726120",
     "status": "completed"
    },
    "tags": []
   },
   "outputs": [],
   "source": [
    "dep_var = ['Survived']\n",
    "cat_var = ['Sex', 'Embarked']\n",
    "ord_var = ['Pclass']\n",
    "cont_var = ['Age', 'Fare']\n",
    "desc_var = ['SibSp', 'Parch']"
   ]
  },
  {
   "cell_type": "code",
   "execution_count": 8,
   "id": "66f7e52f",
   "metadata": {
    "execution": {
     "iopub.execute_input": "2022-04-17T05:29:13.092567Z",
     "iopub.status.busy": "2022-04-17T05:29:13.092092Z",
     "iopub.status.idle": "2022-04-17T05:29:13.118094Z",
     "shell.execute_reply": "2022-04-17T05:29:13.117433Z"
    },
    "id": "OOwkYfTuoCDo",
    "papermill": {
     "duration": 0.148283,
     "end_time": "2022-04-17T05:29:13.120320",
     "exception": false,
     "start_time": "2022-04-17T05:29:12.972037",
     "status": "completed"
    },
    "tags": []
   },
   "outputs": [],
   "source": [
    "combine = [df, df_test]\n",
    "for dataset in combine:\n",
    "    dataset[cat_var+ord_var] = dataset[cat_var+ord_var].astype('category')\n",
    "    dataset['Pclass'] = dataset['Pclass'].cat.set_categories([1, 2, 3], ordered=True)"
   ]
  },
  {
   "cell_type": "code",
   "execution_count": 9,
   "id": "c314d555",
   "metadata": {
    "execution": {
     "iopub.execute_input": "2022-04-17T05:29:13.361132Z",
     "iopub.status.busy": "2022-04-17T05:29:13.360622Z",
     "iopub.status.idle": "2022-04-17T05:29:13.366873Z",
     "shell.execute_reply": "2022-04-17T05:29:13.366280Z"
    },
    "id": "reaPqaUmfn2G",
    "outputId": "d2fc0f49-98c2-4759-9c4b-287b1a22475e",
    "papermill": {
     "duration": 0.129461,
     "end_time": "2022-04-17T05:29:13.368711",
     "exception": false,
     "start_time": "2022-04-17T05:29:13.239250",
     "status": "completed"
    },
    "tags": []
   },
   "outputs": [
    {
     "data": {
      "text/plain": [
       "PassengerId       int64\n",
       "Survived          int64\n",
       "Pclass         category\n",
       "Name             object\n",
       "Sex            category\n",
       "Age             float64\n",
       "SibSp             int64\n",
       "Parch             int64\n",
       "Ticket           object\n",
       "Fare            float64\n",
       "Cabin            object\n",
       "Embarked       category\n",
       "dtype: object"
      ]
     },
     "execution_count": 9,
     "metadata": {},
     "output_type": "execute_result"
    }
   ],
   "source": [
    "df.dtypes"
   ]
  },
  {
   "cell_type": "code",
   "execution_count": 10,
   "id": "4d187dc4",
   "metadata": {
    "execution": {
     "iopub.execute_input": "2022-04-17T05:29:13.609948Z",
     "iopub.status.busy": "2022-04-17T05:29:13.609464Z",
     "iopub.status.idle": "2022-04-17T05:29:13.621793Z",
     "shell.execute_reply": "2022-04-17T05:29:13.621250Z"
    },
    "id": "SqiH0pOrfob-",
    "outputId": "5e1d6efe-0e0a-45d5-90fb-240e5fb6daef",
    "papermill": {
     "duration": 0.135421,
     "end_time": "2022-04-17T05:29:13.623679",
     "exception": false,
     "start_time": "2022-04-17T05:29:13.488258",
     "status": "completed"
    },
    "tags": []
   },
   "outputs": [
    {
     "data": {
      "text/plain": [
       "Cabin          0.771044\n",
       "Age            0.198653\n",
       "Embarked       0.002245\n",
       "PassengerId    0.000000\n",
       "Survived       0.000000\n",
       "Pclass         0.000000\n",
       "Name           0.000000\n",
       "Sex            0.000000\n",
       "SibSp          0.000000\n",
       "Parch          0.000000\n",
       "Ticket         0.000000\n",
       "Fare           0.000000\n",
       "dtype: float64"
      ]
     },
     "execution_count": 10,
     "metadata": {},
     "output_type": "execute_result"
    }
   ],
   "source": [
    "null_check = (df.isnull().sum()/ df.isnull().count()).sort_values(ascending=False)\n",
    "null_check"
   ]
  },
  {
   "cell_type": "code",
   "execution_count": 11,
   "id": "191d2b5f",
   "metadata": {
    "execution": {
     "iopub.execute_input": "2022-04-17T05:29:13.866962Z",
     "iopub.status.busy": "2022-04-17T05:29:13.866639Z",
     "iopub.status.idle": "2022-04-17T05:29:13.897402Z",
     "shell.execute_reply": "2022-04-17T05:29:13.896819Z"
    },
    "id": "VGzez6fnf2Qn",
    "outputId": "8ec2ead3-f2c2-4fc0-bd15-0b2e2305601a",
    "papermill": {
     "duration": 0.155722,
     "end_time": "2022-04-17T05:29:13.899549",
     "exception": false,
     "start_time": "2022-04-17T05:29:13.743827",
     "status": "completed"
    },
    "tags": []
   },
   "outputs": [
    {
     "name": "stdout",
     "output_type": "stream",
     "text": [
      "<class 'pandas.core.frame.DataFrame'>\n",
      "RangeIndex: 891 entries, 0 to 890\n",
      "Data columns (total 12 columns):\n",
      " #   Column       Non-Null Count  Dtype   \n",
      "---  ------       --------------  -----   \n",
      " 0   PassengerId  891 non-null    int64   \n",
      " 1   Survived     891 non-null    int64   \n",
      " 2   Pclass       891 non-null    category\n",
      " 3   Name         891 non-null    object  \n",
      " 4   Sex          891 non-null    category\n",
      " 5   Age          714 non-null    float64 \n",
      " 6   SibSp        891 non-null    int64   \n",
      " 7   Parch        891 non-null    int64   \n",
      " 8   Ticket       891 non-null    object  \n",
      " 9   Fare         891 non-null    float64 \n",
      " 10  Cabin        204 non-null    object  \n",
      " 11  Embarked     889 non-null    category\n",
      "dtypes: category(3), float64(2), int64(4), object(3)\n",
      "memory usage: 65.8+ KB\n",
      "****************************************\n",
      "<class 'pandas.core.frame.DataFrame'>\n",
      "RangeIndex: 418 entries, 0 to 417\n",
      "Data columns (total 11 columns):\n",
      " #   Column       Non-Null Count  Dtype   \n",
      "---  ------       --------------  -----   \n",
      " 0   PassengerId  418 non-null    int64   \n",
      " 1   Pclass       418 non-null    category\n",
      " 2   Name         418 non-null    object  \n",
      " 3   Sex          418 non-null    category\n",
      " 4   Age          332 non-null    float64 \n",
      " 5   SibSp        418 non-null    int64   \n",
      " 6   Parch        418 non-null    int64   \n",
      " 7   Ticket       418 non-null    object  \n",
      " 8   Fare         417 non-null    float64 \n",
      " 9   Cabin        91 non-null     object  \n",
      " 10  Embarked     418 non-null    category\n",
      "dtypes: category(3), float64(2), int64(3), object(3)\n",
      "memory usage: 27.9+ KB\n"
     ]
    }
   ],
   "source": [
    "df.info()\n",
    "print('*'*40)\n",
    "df_test.info()"
   ]
  },
  {
   "cell_type": "code",
   "execution_count": 12,
   "id": "564c67e2",
   "metadata": {
    "execution": {
     "iopub.execute_input": "2022-04-17T05:29:14.143273Z",
     "iopub.status.busy": "2022-04-17T05:29:14.142560Z",
     "iopub.status.idle": "2022-04-17T05:29:14.174896Z",
     "shell.execute_reply": "2022-04-17T05:29:14.174296Z"
    },
    "id": "hkD9m0ZQgsX-",
    "outputId": "2820baaf-d9fb-4648-8381-767b7a8fee64",
    "papermill": {
     "duration": 0.157512,
     "end_time": "2022-04-17T05:29:14.177031",
     "exception": false,
     "start_time": "2022-04-17T05:29:14.019519",
     "status": "completed"
    },
    "tags": []
   },
   "outputs": [
    {
     "data": {
      "text/html": [
       "<div>\n",
       "<style scoped>\n",
       "    .dataframe tbody tr th:only-of-type {\n",
       "        vertical-align: middle;\n",
       "    }\n",
       "\n",
       "    .dataframe tbody tr th {\n",
       "        vertical-align: top;\n",
       "    }\n",
       "\n",
       "    .dataframe thead th {\n",
       "        text-align: right;\n",
       "    }\n",
       "</style>\n",
       "<table border=\"1\" class=\"dataframe\">\n",
       "  <thead>\n",
       "    <tr style=\"text-align: right;\">\n",
       "      <th></th>\n",
       "      <th>PassengerId</th>\n",
       "      <th>Survived</th>\n",
       "      <th>Age</th>\n",
       "      <th>SibSp</th>\n",
       "      <th>Parch</th>\n",
       "      <th>Fare</th>\n",
       "    </tr>\n",
       "  </thead>\n",
       "  <tbody>\n",
       "    <tr>\n",
       "      <th>count</th>\n",
       "      <td>891.000000</td>\n",
       "      <td>891.000000</td>\n",
       "      <td>714.000000</td>\n",
       "      <td>891.000000</td>\n",
       "      <td>891.000000</td>\n",
       "      <td>891.000000</td>\n",
       "    </tr>\n",
       "    <tr>\n",
       "      <th>mean</th>\n",
       "      <td>446.000000</td>\n",
       "      <td>0.383838</td>\n",
       "      <td>29.699118</td>\n",
       "      <td>0.523008</td>\n",
       "      <td>0.381594</td>\n",
       "      <td>32.204208</td>\n",
       "    </tr>\n",
       "    <tr>\n",
       "      <th>std</th>\n",
       "      <td>257.353842</td>\n",
       "      <td>0.486592</td>\n",
       "      <td>14.526497</td>\n",
       "      <td>1.102743</td>\n",
       "      <td>0.806057</td>\n",
       "      <td>49.693429</td>\n",
       "    </tr>\n",
       "    <tr>\n",
       "      <th>min</th>\n",
       "      <td>1.000000</td>\n",
       "      <td>0.000000</td>\n",
       "      <td>0.420000</td>\n",
       "      <td>0.000000</td>\n",
       "      <td>0.000000</td>\n",
       "      <td>0.000000</td>\n",
       "    </tr>\n",
       "    <tr>\n",
       "      <th>25%</th>\n",
       "      <td>223.500000</td>\n",
       "      <td>0.000000</td>\n",
       "      <td>20.125000</td>\n",
       "      <td>0.000000</td>\n",
       "      <td>0.000000</td>\n",
       "      <td>7.910400</td>\n",
       "    </tr>\n",
       "    <tr>\n",
       "      <th>50%</th>\n",
       "      <td>446.000000</td>\n",
       "      <td>0.000000</td>\n",
       "      <td>28.000000</td>\n",
       "      <td>0.000000</td>\n",
       "      <td>0.000000</td>\n",
       "      <td>14.454200</td>\n",
       "    </tr>\n",
       "    <tr>\n",
       "      <th>75%</th>\n",
       "      <td>668.500000</td>\n",
       "      <td>1.000000</td>\n",
       "      <td>38.000000</td>\n",
       "      <td>1.000000</td>\n",
       "      <td>0.000000</td>\n",
       "      <td>31.000000</td>\n",
       "    </tr>\n",
       "    <tr>\n",
       "      <th>max</th>\n",
       "      <td>891.000000</td>\n",
       "      <td>1.000000</td>\n",
       "      <td>80.000000</td>\n",
       "      <td>8.000000</td>\n",
       "      <td>6.000000</td>\n",
       "      <td>512.329200</td>\n",
       "    </tr>\n",
       "  </tbody>\n",
       "</table>\n",
       "</div>"
      ],
      "text/plain": [
       "       PassengerId    Survived         Age       SibSp       Parch        Fare\n",
       "count   891.000000  891.000000  714.000000  891.000000  891.000000  891.000000\n",
       "mean    446.000000    0.383838   29.699118    0.523008    0.381594   32.204208\n",
       "std     257.353842    0.486592   14.526497    1.102743    0.806057   49.693429\n",
       "min       1.000000    0.000000    0.420000    0.000000    0.000000    0.000000\n",
       "25%     223.500000    0.000000   20.125000    0.000000    0.000000    7.910400\n",
       "50%     446.000000    0.000000   28.000000    0.000000    0.000000   14.454200\n",
       "75%     668.500000    1.000000   38.000000    1.000000    0.000000   31.000000\n",
       "max     891.000000    1.000000   80.000000    8.000000    6.000000  512.329200"
      ]
     },
     "execution_count": 12,
     "metadata": {},
     "output_type": "execute_result"
    }
   ],
   "source": [
    "df.describe()"
   ]
  },
  {
   "cell_type": "code",
   "execution_count": 13,
   "id": "404cea3b",
   "metadata": {
    "execution": {
     "iopub.execute_input": "2022-04-17T05:29:14.425051Z",
     "iopub.status.busy": "2022-04-17T05:29:14.424625Z",
     "iopub.status.idle": "2022-04-17T05:29:14.441154Z",
     "shell.execute_reply": "2022-04-17T05:29:14.440444Z"
    },
    "id": "laMZG81ghSrn",
    "outputId": "8a784e5c-4885-4dfd-e05e-1d65d61b9dea",
    "papermill": {
     "duration": 0.142059,
     "end_time": "2022-04-17T05:29:14.443297",
     "exception": false,
     "start_time": "2022-04-17T05:29:14.301238",
     "status": "completed"
    },
    "tags": []
   },
   "outputs": [
    {
     "data": {
      "text/html": [
       "<div>\n",
       "<style scoped>\n",
       "    .dataframe tbody tr th:only-of-type {\n",
       "        vertical-align: middle;\n",
       "    }\n",
       "\n",
       "    .dataframe tbody tr th {\n",
       "        vertical-align: top;\n",
       "    }\n",
       "\n",
       "    .dataframe thead th {\n",
       "        text-align: right;\n",
       "    }\n",
       "</style>\n",
       "<table border=\"1\" class=\"dataframe\">\n",
       "  <thead>\n",
       "    <tr style=\"text-align: right;\">\n",
       "      <th></th>\n",
       "      <th>Name</th>\n",
       "      <th>Ticket</th>\n",
       "      <th>Cabin</th>\n",
       "    </tr>\n",
       "  </thead>\n",
       "  <tbody>\n",
       "    <tr>\n",
       "      <th>count</th>\n",
       "      <td>891</td>\n",
       "      <td>891</td>\n",
       "      <td>204</td>\n",
       "    </tr>\n",
       "    <tr>\n",
       "      <th>unique</th>\n",
       "      <td>891</td>\n",
       "      <td>681</td>\n",
       "      <td>147</td>\n",
       "    </tr>\n",
       "    <tr>\n",
       "      <th>top</th>\n",
       "      <td>Braund, Mr. Owen Harris</td>\n",
       "      <td>347082</td>\n",
       "      <td>B96 B98</td>\n",
       "    </tr>\n",
       "    <tr>\n",
       "      <th>freq</th>\n",
       "      <td>1</td>\n",
       "      <td>7</td>\n",
       "      <td>4</td>\n",
       "    </tr>\n",
       "  </tbody>\n",
       "</table>\n",
       "</div>"
      ],
      "text/plain": [
       "                           Name  Ticket    Cabin\n",
       "count                       891     891      204\n",
       "unique                      891     681      147\n",
       "top     Braund, Mr. Owen Harris  347082  B96 B98\n",
       "freq                          1       7        4"
      ]
     },
     "execution_count": 13,
     "metadata": {},
     "output_type": "execute_result"
    }
   ],
   "source": [
    "df.describe(include=['O'])"
   ]
  },
  {
   "cell_type": "code",
   "execution_count": 14,
   "id": "abab478a",
   "metadata": {
    "execution": {
     "iopub.execute_input": "2022-04-17T05:29:14.690422Z",
     "iopub.status.busy": "2022-04-17T05:29:14.689682Z",
     "iopub.status.idle": "2022-04-17T05:29:14.707602Z",
     "shell.execute_reply": "2022-04-17T05:29:14.706976Z"
    },
    "id": "o-dObXW5hoG4",
    "papermill": {
     "duration": 0.144008,
     "end_time": "2022-04-17T05:29:14.709708",
     "exception": false,
     "start_time": "2022-04-17T05:29:14.565700",
     "status": "completed"
    },
    "tags": []
   },
   "outputs": [],
   "source": [
    "# analyze by pivoting features\n",
    "features_to_analyze = ['Pclass', 'SibSp', 'Parch', 'Sex']\n",
    "pivot_analyzation = {\n",
    "    feature: \n",
    "    df[[feature, 'Survived']].groupby(by=[feature], as_index=False).mean().sort_values(by=\"Survived\", ascending=False)\n",
    "    for feature in features_to_analyze\n",
    "}"
   ]
  },
  {
   "cell_type": "code",
   "execution_count": 15,
   "id": "bfc90ae7",
   "metadata": {
    "execution": {
     "iopub.execute_input": "2022-04-17T05:29:14.955032Z",
     "iopub.status.busy": "2022-04-17T05:29:14.954530Z",
     "iopub.status.idle": "2022-04-17T05:29:14.963713Z",
     "shell.execute_reply": "2022-04-17T05:29:14.963091Z"
    },
    "id": "gf1yZKlknYg5",
    "outputId": "e2b7d94e-3993-42dd-8144-7b33f5cf9a14",
    "papermill": {
     "duration": 0.133711,
     "end_time": "2022-04-17T05:29:14.965667",
     "exception": false,
     "start_time": "2022-04-17T05:29:14.831956",
     "status": "completed"
    },
    "tags": []
   },
   "outputs": [
    {
     "data": {
      "text/html": [
       "<div>\n",
       "<style scoped>\n",
       "    .dataframe tbody tr th:only-of-type {\n",
       "        vertical-align: middle;\n",
       "    }\n",
       "\n",
       "    .dataframe tbody tr th {\n",
       "        vertical-align: top;\n",
       "    }\n",
       "\n",
       "    .dataframe thead th {\n",
       "        text-align: right;\n",
       "    }\n",
       "</style>\n",
       "<table border=\"1\" class=\"dataframe\">\n",
       "  <thead>\n",
       "    <tr style=\"text-align: right;\">\n",
       "      <th></th>\n",
       "      <th>Pclass</th>\n",
       "      <th>Survived</th>\n",
       "    </tr>\n",
       "  </thead>\n",
       "  <tbody>\n",
       "    <tr>\n",
       "      <th>0</th>\n",
       "      <td>1</td>\n",
       "      <td>0.629630</td>\n",
       "    </tr>\n",
       "    <tr>\n",
       "      <th>1</th>\n",
       "      <td>2</td>\n",
       "      <td>0.472826</td>\n",
       "    </tr>\n",
       "    <tr>\n",
       "      <th>2</th>\n",
       "      <td>3</td>\n",
       "      <td>0.242363</td>\n",
       "    </tr>\n",
       "  </tbody>\n",
       "</table>\n",
       "</div>"
      ],
      "text/plain": [
       "  Pclass  Survived\n",
       "0      1  0.629630\n",
       "1      2  0.472826\n",
       "2      3  0.242363"
      ]
     },
     "execution_count": 15,
     "metadata": {},
     "output_type": "execute_result"
    }
   ],
   "source": [
    "pivot_analyzation['Pclass']"
   ]
  },
  {
   "cell_type": "code",
   "execution_count": 16,
   "id": "6439a4be",
   "metadata": {
    "execution": {
     "iopub.execute_input": "2022-04-17T05:29:15.216465Z",
     "iopub.status.busy": "2022-04-17T05:29:15.215958Z",
     "iopub.status.idle": "2022-04-17T05:29:15.225604Z",
     "shell.execute_reply": "2022-04-17T05:29:15.224765Z"
    },
    "id": "tpunEm9lqUQx",
    "outputId": "ef38b2ec-6d29-4e6c-9e2f-0ff7a2e5a2b0",
    "papermill": {
     "duration": 0.137807,
     "end_time": "2022-04-17T05:29:15.227467",
     "exception": false,
     "start_time": "2022-04-17T05:29:15.089660",
     "status": "completed"
    },
    "tags": []
   },
   "outputs": [
    {
     "data": {
      "text/html": [
       "<div>\n",
       "<style scoped>\n",
       "    .dataframe tbody tr th:only-of-type {\n",
       "        vertical-align: middle;\n",
       "    }\n",
       "\n",
       "    .dataframe tbody tr th {\n",
       "        vertical-align: top;\n",
       "    }\n",
       "\n",
       "    .dataframe thead th {\n",
       "        text-align: right;\n",
       "    }\n",
       "</style>\n",
       "<table border=\"1\" class=\"dataframe\">\n",
       "  <thead>\n",
       "    <tr style=\"text-align: right;\">\n",
       "      <th></th>\n",
       "      <th>Sex</th>\n",
       "      <th>Survived</th>\n",
       "    </tr>\n",
       "  </thead>\n",
       "  <tbody>\n",
       "    <tr>\n",
       "      <th>0</th>\n",
       "      <td>female</td>\n",
       "      <td>0.742038</td>\n",
       "    </tr>\n",
       "    <tr>\n",
       "      <th>1</th>\n",
       "      <td>male</td>\n",
       "      <td>0.188908</td>\n",
       "    </tr>\n",
       "  </tbody>\n",
       "</table>\n",
       "</div>"
      ],
      "text/plain": [
       "      Sex  Survived\n",
       "0  female  0.742038\n",
       "1    male  0.188908"
      ]
     },
     "execution_count": 16,
     "metadata": {},
     "output_type": "execute_result"
    }
   ],
   "source": [
    "pivot_analyzation['Sex']"
   ]
  },
  {
   "cell_type": "code",
   "execution_count": 17,
   "id": "4f25b82b",
   "metadata": {
    "execution": {
     "iopub.execute_input": "2022-04-17T05:29:15.473808Z",
     "iopub.status.busy": "2022-04-17T05:29:15.473387Z",
     "iopub.status.idle": "2022-04-17T05:29:15.482604Z",
     "shell.execute_reply": "2022-04-17T05:29:15.481767Z"
    },
    "id": "241vk8uuqVpB",
    "outputId": "bbd52dc0-574e-44ce-efd8-d98f78847f81",
    "papermill": {
     "duration": 0.134485,
     "end_time": "2022-04-17T05:29:15.484436",
     "exception": false,
     "start_time": "2022-04-17T05:29:15.349951",
     "status": "completed"
    },
    "tags": []
   },
   "outputs": [
    {
     "data": {
      "text/html": [
       "<div>\n",
       "<style scoped>\n",
       "    .dataframe tbody tr th:only-of-type {\n",
       "        vertical-align: middle;\n",
       "    }\n",
       "\n",
       "    .dataframe tbody tr th {\n",
       "        vertical-align: top;\n",
       "    }\n",
       "\n",
       "    .dataframe thead th {\n",
       "        text-align: right;\n",
       "    }\n",
       "</style>\n",
       "<table border=\"1\" class=\"dataframe\">\n",
       "  <thead>\n",
       "    <tr style=\"text-align: right;\">\n",
       "      <th></th>\n",
       "      <th>SibSp</th>\n",
       "      <th>Survived</th>\n",
       "    </tr>\n",
       "  </thead>\n",
       "  <tbody>\n",
       "    <tr>\n",
       "      <th>1</th>\n",
       "      <td>1</td>\n",
       "      <td>0.535885</td>\n",
       "    </tr>\n",
       "    <tr>\n",
       "      <th>2</th>\n",
       "      <td>2</td>\n",
       "      <td>0.464286</td>\n",
       "    </tr>\n",
       "    <tr>\n",
       "      <th>0</th>\n",
       "      <td>0</td>\n",
       "      <td>0.345395</td>\n",
       "    </tr>\n",
       "    <tr>\n",
       "      <th>3</th>\n",
       "      <td>3</td>\n",
       "      <td>0.250000</td>\n",
       "    </tr>\n",
       "    <tr>\n",
       "      <th>4</th>\n",
       "      <td>4</td>\n",
       "      <td>0.166667</td>\n",
       "    </tr>\n",
       "    <tr>\n",
       "      <th>5</th>\n",
       "      <td>5</td>\n",
       "      <td>0.000000</td>\n",
       "    </tr>\n",
       "    <tr>\n",
       "      <th>6</th>\n",
       "      <td>8</td>\n",
       "      <td>0.000000</td>\n",
       "    </tr>\n",
       "  </tbody>\n",
       "</table>\n",
       "</div>"
      ],
      "text/plain": [
       "   SibSp  Survived\n",
       "1      1  0.535885\n",
       "2      2  0.464286\n",
       "0      0  0.345395\n",
       "3      3  0.250000\n",
       "4      4  0.166667\n",
       "5      5  0.000000\n",
       "6      8  0.000000"
      ]
     },
     "execution_count": 17,
     "metadata": {},
     "output_type": "execute_result"
    }
   ],
   "source": [
    "pivot_analyzation['SibSp']"
   ]
  },
  {
   "cell_type": "code",
   "execution_count": 18,
   "id": "d7262ea9",
   "metadata": {
    "execution": {
     "iopub.execute_input": "2022-04-17T05:29:15.733727Z",
     "iopub.status.busy": "2022-04-17T05:29:15.733211Z",
     "iopub.status.idle": "2022-04-17T05:29:15.743240Z",
     "shell.execute_reply": "2022-04-17T05:29:15.742369Z"
    },
    "id": "lHpIt7GiqW2p",
    "outputId": "bc17a7cf-30b1-4028-834c-f803b569cf2e",
    "papermill": {
     "duration": 0.136914,
     "end_time": "2022-04-17T05:29:15.745575",
     "exception": false,
     "start_time": "2022-04-17T05:29:15.608661",
     "status": "completed"
    },
    "tags": []
   },
   "outputs": [
    {
     "data": {
      "text/html": [
       "<div>\n",
       "<style scoped>\n",
       "    .dataframe tbody tr th:only-of-type {\n",
       "        vertical-align: middle;\n",
       "    }\n",
       "\n",
       "    .dataframe tbody tr th {\n",
       "        vertical-align: top;\n",
       "    }\n",
       "\n",
       "    .dataframe thead th {\n",
       "        text-align: right;\n",
       "    }\n",
       "</style>\n",
       "<table border=\"1\" class=\"dataframe\">\n",
       "  <thead>\n",
       "    <tr style=\"text-align: right;\">\n",
       "      <th></th>\n",
       "      <th>Parch</th>\n",
       "      <th>Survived</th>\n",
       "    </tr>\n",
       "  </thead>\n",
       "  <tbody>\n",
       "    <tr>\n",
       "      <th>3</th>\n",
       "      <td>3</td>\n",
       "      <td>0.600000</td>\n",
       "    </tr>\n",
       "    <tr>\n",
       "      <th>1</th>\n",
       "      <td>1</td>\n",
       "      <td>0.550847</td>\n",
       "    </tr>\n",
       "    <tr>\n",
       "      <th>2</th>\n",
       "      <td>2</td>\n",
       "      <td>0.500000</td>\n",
       "    </tr>\n",
       "    <tr>\n",
       "      <th>0</th>\n",
       "      <td>0</td>\n",
       "      <td>0.343658</td>\n",
       "    </tr>\n",
       "    <tr>\n",
       "      <th>5</th>\n",
       "      <td>5</td>\n",
       "      <td>0.200000</td>\n",
       "    </tr>\n",
       "    <tr>\n",
       "      <th>4</th>\n",
       "      <td>4</td>\n",
       "      <td>0.000000</td>\n",
       "    </tr>\n",
       "    <tr>\n",
       "      <th>6</th>\n",
       "      <td>6</td>\n",
       "      <td>0.000000</td>\n",
       "    </tr>\n",
       "  </tbody>\n",
       "</table>\n",
       "</div>"
      ],
      "text/plain": [
       "   Parch  Survived\n",
       "3      3  0.600000\n",
       "1      1  0.550847\n",
       "2      2  0.500000\n",
       "0      0  0.343658\n",
       "5      5  0.200000\n",
       "4      4  0.000000\n",
       "6      6  0.000000"
      ]
     },
     "execution_count": 18,
     "metadata": {},
     "output_type": "execute_result"
    }
   ],
   "source": [
    "pivot_analyzation['Parch']"
   ]
  },
  {
   "cell_type": "code",
   "execution_count": 19,
   "id": "1bda9070",
   "metadata": {
    "execution": {
     "iopub.execute_input": "2022-04-17T05:29:15.999817Z",
     "iopub.status.busy": "2022-04-17T05:29:15.999559Z",
     "iopub.status.idle": "2022-04-17T05:29:16.492225Z",
     "shell.execute_reply": "2022-04-17T05:29:16.491489Z"
    },
    "id": "Ywer2rKnqYYh",
    "outputId": "cc649324-de7c-48aa-94d5-92125991f3f5",
    "papermill": {
     "duration": 0.624419,
     "end_time": "2022-04-17T05:29:16.494630",
     "exception": false,
     "start_time": "2022-04-17T05:29:15.870211",
     "status": "completed"
    },
    "tags": []
   },
   "outputs": [
    {
     "data": {
      "text/plain": [
       "<seaborn.axisgrid.FacetGrid at 0x7f28b6490410>"
      ]
     },
     "execution_count": 19,
     "metadata": {},
     "output_type": "execute_result"
    },
    {
     "data": {
      "image/png": "[encoded data removed]",
      "text/plain": [
       "<Figure size 432x216 with 2 Axes>"
      ]
     },
     "metadata": {
      "needs_background": "light"
     },
     "output_type": "display_data"
    }
   ],
   "source": [
    "g = sns.FacetGrid(df, col='Survived')\n",
    "g.map(plt.hist, 'Age', bins=20)"
   ]
  },
  {
   "cell_type": "code",
   "execution_count": 20,
   "id": "8677f46f",
   "metadata": {
    "execution": {
     "iopub.execute_input": "2022-04-17T05:29:16.777008Z",
     "iopub.status.busy": "2022-04-17T05:29:16.776611Z",
     "iopub.status.idle": "2022-04-17T05:29:18.124674Z",
     "shell.execute_reply": "2022-04-17T05:29:18.123853Z"
    },
    "id": "lqwW73t4enEq",
    "outputId": "c860a56b-73e0-4733-86aa-bca356f6b472",
    "papermill": {
     "duration": 1.486458,
     "end_time": "2022-04-17T05:29:18.127120",
     "exception": false,
     "start_time": "2022-04-17T05:29:16.640662",
     "status": "completed"
    },
    "tags": []
   },
   "outputs": [
    {
     "data": {
      "text/plain": [
       "<seaborn.axisgrid.FacetGrid at 0x7f28b2a91890>"
      ]
     },
     "execution_count": 20,
     "metadata": {},
     "output_type": "execute_result"
    },
    {
     "data": {
      "image/png": "[encoded data removed]",
      "text/plain": [
       "<Figure size 432x648 with 6 Axes>"
      ]
     },
     "metadata": {
      "needs_background": "light"
     },
     "output_type": "display_data"
    }
   ],
   "source": [
    "g = sns.FacetGrid(df, col='Survived', row='Pclass')\n",
    "g.map(plt.hist, 'Age', bins=20)"
   ]
  },
  {
   "cell_type": "code",
   "execution_count": 21,
   "id": "14f3f7f9",
   "metadata": {
    "execution": {
     "iopub.execute_input": "2022-04-17T05:29:18.381969Z",
     "iopub.status.busy": "2022-04-17T05:29:18.381282Z",
     "iopub.status.idle": "2022-04-17T05:29:19.707086Z",
     "shell.execute_reply": "2022-04-17T05:29:19.706188Z"
    },
    "id": "cDU94G6yfFrb",
    "outputId": "d7f9d0b7-7b1c-41e2-f705-dfd01271c23a",
    "papermill": {
     "duration": 1.456765,
     "end_time": "2022-04-17T05:29:19.709469",
     "exception": false,
     "start_time": "2022-04-17T05:29:18.252704",
     "status": "completed"
    },
    "tags": []
   },
   "outputs": [
    {
     "name": "stderr",
     "output_type": "stream",
     "text": [
      "/opt/conda/lib/python3.7/site-packages/seaborn/axisgrid.py:670: UserWarning: Using the pointplot function without specifying `order` is likely to produce an incorrect plot.\n",
      "  warnings.warn(warning)\n",
      "/opt/conda/lib/python3.7/site-packages/seaborn/axisgrid.py:675: UserWarning: Using the pointplot function without specifying `hue_order` is likely to produce an incorrect plot.\n",
      "  warnings.warn(warning)\n"
     ]
    },
    {
     "data": {
      "text/plain": [
       "<seaborn.axisgrid.FacetGrid at 0x7f28b26b0b90>"
      ]
     },
     "execution_count": 21,
     "metadata": {},
     "output_type": "execute_result"
    },
    {
     "data": {
      "image/png": "[encoded data removed]",
      "text/plain": [
       "<Figure size 286.5x648 with 3 Axes>"
      ]
     },
     "metadata": {
      "needs_background": "light"
     },
     "output_type": "display_data"
    }
   ],
   "source": [
    "g = sns.FacetGrid(df, row='Embarked')\n",
    "g.map(sns.pointplot, 'Pclass', 'Survived', 'Sex', palette='deep')\n",
    "g.add_legend()"
   ]
  },
  {
   "cell_type": "code",
   "execution_count": 22,
   "id": "6d1be59c",
   "metadata": {
    "execution": {
     "iopub.execute_input": "2022-04-17T05:29:19.971653Z",
     "iopub.status.busy": "2022-04-17T05:29:19.971379Z",
     "iopub.status.idle": "2022-04-17T05:29:21.279495Z",
     "shell.execute_reply": "2022-04-17T05:29:21.278397Z"
    },
    "id": "Ofr-Wfq5gZQs",
    "outputId": "1bd5d848-0541-4500-ee04-87d076b7b381",
    "papermill": {
     "duration": 1.442513,
     "end_time": "2022-04-17T05:29:21.282046",
     "exception": false,
     "start_time": "2022-04-17T05:29:19.839533",
     "status": "completed"
    },
    "tags": []
   },
   "outputs": [
    {
     "name": "stderr",
     "output_type": "stream",
     "text": [
      "/opt/conda/lib/python3.7/site-packages/seaborn/axisgrid.py:670: UserWarning: Using the barplot function without specifying `order` is likely to produce an incorrect plot.\n",
      "  warnings.warn(warning)\n"
     ]
    },
    {
     "data": {
      "text/plain": [
       "<seaborn.axisgrid.FacetGrid at 0x7f28b2520c90>"
      ]
     },
     "execution_count": 22,
     "metadata": {},
     "output_type": "execute_result"
    },
    {
     "data": {
      "image/png": "[encoded data removed]",
      "text/plain": [
       "<Figure size 432x648 with 6 Axes>"
      ]
     },
     "metadata": {
      "needs_background": "light"
     },
     "output_type": "display_data"
    }
   ],
   "source": [
    "g= sns.FacetGrid(df, row='Embarked', col='Survived')\n",
    "g.map(sns.barplot, 'Sex', 'Fare')"
   ]
  },
  {
   "cell_type": "code",
   "execution_count": 23,
   "id": "bebf9c4c",
   "metadata": {
    "execution": {
     "iopub.execute_input": "2022-04-17T05:29:21.570736Z",
     "iopub.status.busy": "2022-04-17T05:29:21.570448Z",
     "iopub.status.idle": "2022-04-17T05:29:21.574660Z",
     "shell.execute_reply": "2022-04-17T05:29:21.573824Z"
    },
    "papermill": {
     "duration": 0.152494,
     "end_time": "2022-04-17T05:29:21.576695",
     "exception": false,
     "start_time": "2022-04-17T05:29:21.424201",
     "status": "completed"
    },
    "tags": []
   },
   "outputs": [],
   "source": [
    "#Feature Engineering: Cabin->Deck, Ticket->Ticket Frequency, Age-Fare=bin, Surname, Familiy_size"
   ]
  },
  {
   "cell_type": "code",
   "execution_count": 24,
   "id": "1fe1a189",
   "metadata": {
    "execution": {
     "iopub.execute_input": "2022-04-17T05:29:21.857347Z",
     "iopub.status.busy": "2022-04-17T05:29:21.856518Z",
     "iopub.status.idle": "2022-04-17T05:29:21.870365Z",
     "shell.execute_reply": "2022-04-17T05:29:21.869416Z"
    },
    "papermill": {
     "duration": 0.153035,
     "end_time": "2022-04-17T05:29:21.872715",
     "exception": false,
     "start_time": "2022-04-17T05:29:21.719680",
     "status": "completed"
    },
    "tags": []
   },
   "outputs": [],
   "source": [
    "df['Age'] = df.groupby(['Sex', 'Pclass'])['Age'].apply(lambda x: x.fillna(x.median()))"
   ]
  },
  {
   "cell_type": "code",
   "execution_count": 25,
   "id": "122c903e",
   "metadata": {
    "execution": {
     "iopub.execute_input": "2022-04-17T05:29:22.147706Z",
     "iopub.status.busy": "2022-04-17T05:29:22.147448Z",
     "iopub.status.idle": "2022-04-17T05:29:22.160284Z",
     "shell.execute_reply": "2022-04-17T05:29:22.159257Z"
    },
    "papermill": {
     "duration": 0.156071,
     "end_time": "2022-04-17T05:29:22.162462",
     "exception": false,
     "start_time": "2022-04-17T05:29:22.006391",
     "status": "completed"
    },
    "tags": []
   },
   "outputs": [],
   "source": [
    "df_test['Age'] = df_test.groupby(['Sex', 'Pclass'])['Age'].apply(lambda x: x.fillna(x.median()))"
   ]
  },
  {
   "cell_type": "code",
   "execution_count": 26,
   "id": "356841e3",
   "metadata": {
    "execution": {
     "iopub.execute_input": "2022-04-17T05:29:22.448360Z",
     "iopub.status.busy": "2022-04-17T05:29:22.448081Z",
     "iopub.status.idle": "2022-04-17T05:29:22.465745Z",
     "shell.execute_reply": "2022-04-17T05:29:22.464504Z"
    },
    "papermill": {
     "duration": 0.163462,
     "end_time": "2022-04-17T05:29:22.468270",
     "exception": false,
     "start_time": "2022-04-17T05:29:22.304808",
     "status": "completed"
    },
    "tags": []
   },
   "outputs": [],
   "source": [
    "fareinterval = pd.qcut(df['Fare'], 13, duplicates='drop')\n",
    "ageinterval = pd.qcut(df['Age'], 10, duplicates='drop')"
   ]
  },
  {
   "cell_type": "code",
   "execution_count": 27,
   "id": "4c1584c5",
   "metadata": {
    "execution": {
     "iopub.execute_input": "2022-04-17T05:29:22.736112Z",
     "iopub.status.busy": "2022-04-17T05:29:22.735168Z",
     "iopub.status.idle": "2022-04-17T05:29:22.746453Z",
     "shell.execute_reply": "2022-04-17T05:29:22.745629Z"
    },
    "papermill": {
     "duration": 0.146093,
     "end_time": "2022-04-17T05:29:22.748703",
     "exception": false,
     "start_time": "2022-04-17T05:29:22.602610",
     "status": "completed"
    },
    "tags": []
   },
   "outputs": [],
   "source": [
    "df['FamilySize'] = df['SibSp'] + df['Parch'] + 1\n",
    "df_test['FamilySize'] = df_test['SibSp'] + df_test['Parch'] + 1\n",
    "family_map = {1: 'Alone', 2: 'Small', 3:'Small', 4:'Small', 5:'Medium', 6:'Medium', 7:'Large', 8:'Large', 11:'Large'}\n",
    "df['FamilyGroup'] = df['FamilySize'].map(family_map)\n",
    "df_test['FamilyGroup'] = df['FamilySize'].map(family_map)"
   ]
  },
  {
   "cell_type": "code",
   "execution_count": 28,
   "id": "df7d44fc",
   "metadata": {
    "execution": {
     "iopub.execute_input": "2022-04-17T05:29:23.037167Z",
     "iopub.status.busy": "2022-04-17T05:29:23.036556Z",
     "iopub.status.idle": "2022-04-17T05:29:23.047662Z",
     "shell.execute_reply": "2022-04-17T05:29:23.046646Z"
    },
    "papermill": {
     "duration": 0.156885,
     "end_time": "2022-04-17T05:29:23.050299",
     "exception": false,
     "start_time": "2022-04-17T05:29:22.893414",
     "status": "completed"
    },
    "tags": []
   },
   "outputs": [],
   "source": [
    "df.loc[df['Cabin'].isnull(),'Cabin'] = 'M'\n",
    "df_test.loc[df_test['Cabin'].isnull(), 'Cabin'] = 'M'\n",
    "df['Deck'] = df['Cabin'].apply(lambda x: x[0])\n",
    "df_test['Deck'] = df['Cabin'].apply(lambda x:x[0])"
   ]
  },
  {
   "cell_type": "code",
   "execution_count": 29,
   "id": "13404ff0",
   "metadata": {
    "execution": {
     "iopub.execute_input": "2022-04-17T05:29:23.337805Z",
     "iopub.status.busy": "2022-04-17T05:29:23.337544Z",
     "iopub.status.idle": "2022-04-17T05:29:24.309483Z",
     "shell.execute_reply": "2022-04-17T05:29:24.308373Z"
    },
    "papermill": {
     "duration": 1.115998,
     "end_time": "2022-04-17T05:29:24.312005",
     "exception": false,
     "start_time": "2022-04-17T05:29:23.196007",
     "status": "completed"
    },
    "tags": []
   },
   "outputs": [],
   "source": [
    "df['TicketFrequency'] = np.nan\n",
    "for uv in df['Ticket'].unique():\n",
    "    num_ticket = (df['Ticket']==uv).sum()\n",
    "    df.loc[df['Ticket']==uv,'TicketFrequency'] = num_ticket\n",
    "    \n",
    "df_test['TicketFrequency'] = np.nan\n",
    "for uv in df_test['Ticket'].unique():\n",
    "    num_ticket = (df_test['Ticket']==uv).sum()\n",
    "    df_test.loc[df_test['Ticket']==uv,'TicketFrequency'] = num_ticket"
   ]
  },
  {
   "cell_type": "code",
   "execution_count": 30,
   "id": "7d499515",
   "metadata": {
    "execution": {
     "iopub.execute_input": "2022-04-17T05:29:24.580883Z",
     "iopub.status.busy": "2022-04-17T05:29:24.580602Z",
     "iopub.status.idle": "2022-04-17T05:29:24.585512Z",
     "shell.execute_reply": "2022-04-17T05:29:24.584919Z"
    },
    "papermill": {
     "duration": 0.142538,
     "end_time": "2022-04-17T05:29:24.587215",
     "exception": false,
     "start_time": "2022-04-17T05:29:24.444677",
     "status": "completed"
    },
    "tags": []
   },
   "outputs": [],
   "source": [
    "ageinterval = pd.arrays.IntervalArray(ageinterval.cat.categories)\n",
    "fareinterval = pd.arrays.IntervalArray(fareinterval.cat.categories)"
   ]
  },
  {
   "cell_type": "code",
   "execution_count": 31,
   "id": "1c31096b",
   "metadata": {
    "execution": {
     "iopub.execute_input": "2022-04-17T05:29:24.854762Z",
     "iopub.status.busy": "2022-04-17T05:29:24.854221Z",
     "iopub.status.idle": "2022-04-17T05:29:24.860805Z",
     "shell.execute_reply": "2022-04-17T05:29:24.859967Z"
    },
    "papermill": {
     "duration": 0.143984,
     "end_time": "2022-04-17T05:29:24.862795",
     "exception": false,
     "start_time": "2022-04-17T05:29:24.718811",
     "status": "completed"
    },
    "tags": []
   },
   "outputs": [
    {
     "data": {
      "text/plain": [
       "(<IntervalArray>\n",
       " [(0.419, 16.0], (16.0, 20.0], (20.0, 22.0], (22.0, 25.0], (25.0, 26.0], (26.0, 30.0], (30.0, 34.0], (34.0, 40.0], (40.0, 47.0], (47.0, 80.0]]\n",
       " Length: 10, dtype: interval[float64, right],\n",
       " <IntervalArray>\n",
       " [(-0.001, 7.229], (7.229, 7.75], (7.75, 7.896], (7.896, 8.05], (8.05, 10.5] ... (24.0, 26.55], (26.55, 33.308], (33.308, 55.9], (55.9, 83.158], (83.158, 512.329]]\n",
       " Length: 13, dtype: interval[float64, right])"
      ]
     },
     "execution_count": 31,
     "metadata": {},
     "output_type": "execute_result"
    }
   ],
   "source": [
    "ageinterval, fareinterval"
   ]
  },
  {
   "cell_type": "code",
   "execution_count": 32,
   "id": "3ea86adc",
   "metadata": {
    "execution": {
     "iopub.execute_input": "2022-04-17T05:29:25.131745Z",
     "iopub.status.busy": "2022-04-17T05:29:25.131395Z",
     "iopub.status.idle": "2022-04-17T05:29:25.137157Z",
     "shell.execute_reply": "2022-04-17T05:29:25.136471Z"
    },
    "papermill": {
     "duration": 0.141315,
     "end_time": "2022-04-17T05:29:25.138919",
     "exception": false,
     "start_time": "2022-04-17T05:29:24.997604",
     "status": "completed"
    },
    "tags": []
   },
   "outputs": [
    {
     "data": {
      "text/plain": [
       "array([(0.419, 16.0), (16.0, 20.0), (20.0, 22.0), (22.0, 25.0),\n",
       "       (25.0, 26.0), (26.0, 30.0), (30.0, 34.0), (34.0, 40.0),\n",
       "       (40.0, 47.0), (47.0, 80.0)], dtype=object)"
      ]
     },
     "execution_count": 32,
     "metadata": {},
     "output_type": "execute_result"
    }
   ],
   "source": [
    "ageinterval.to_tuples()"
   ]
  },
  {
   "cell_type": "code",
   "execution_count": 33,
   "id": "8e56826f",
   "metadata": {
    "execution": {
     "iopub.execute_input": "2022-04-17T05:29:25.402850Z",
     "iopub.status.busy": "2022-04-17T05:29:25.402396Z",
     "iopub.status.idle": "2022-04-17T05:29:25.454670Z",
     "shell.execute_reply": "2022-04-17T05:29:25.453915Z"
    },
    "papermill": {
     "duration": 0.187685,
     "end_time": "2022-04-17T05:29:25.457009",
     "exception": false,
     "start_time": "2022-04-17T05:29:25.269324",
     "status": "completed"
    },
    "tags": []
   },
   "outputs": [],
   "source": [
    "df['Age'] = df['Age'].apply(lambda x: ageinterval.to_tuples()[ageinterval.contains(x)])\n",
    "df_test['Age'] = df_test['Age'].apply(lambda x: ageinterval.to_tuples()[ageinterval.contains(x)])"
   ]
  },
  {
   "cell_type": "code",
   "execution_count": 34,
   "id": "185e21df",
   "metadata": {
    "execution": {
     "iopub.execute_input": "2022-04-17T05:29:25.721604Z",
     "iopub.status.busy": "2022-04-17T05:29:25.720646Z",
     "iopub.status.idle": "2022-04-17T05:29:25.783120Z",
     "shell.execute_reply": "2022-04-17T05:29:25.782117Z"
    },
    "papermill": {
     "duration": 0.196949,
     "end_time": "2022-04-17T05:29:25.785436",
     "exception": false,
     "start_time": "2022-04-17T05:29:25.588487",
     "status": "completed"
    },
    "tags": []
   },
   "outputs": [],
   "source": [
    "df['Fare'] = df['Fare'].apply(lambda x: fareinterval.to_tuples()[fareinterval.contains(x)])\n",
    "df_test['Fare'] = df_test['Fare'].apply(lambda x: fareinterval.to_tuples()[fareinterval.contains(x)])"
   ]
  },
  {
   "cell_type": "code",
   "execution_count": 35,
   "id": "27ac52d6",
   "metadata": {
    "execution": {
     "iopub.execute_input": "2022-04-17T05:29:26.059305Z",
     "iopub.status.busy": "2022-04-17T05:29:26.058620Z",
     "iopub.status.idle": "2022-04-17T05:29:26.062749Z",
     "shell.execute_reply": "2022-04-17T05:29:26.061801Z"
    },
    "id": "PtHFJwOThQnt",
    "papermill": {
     "duration": 0.148298,
     "end_time": "2022-04-17T05:29:26.064706",
     "exception": false,
     "start_time": "2022-04-17T05:29:25.916408",
     "status": "completed"
    },
    "tags": []
   },
   "outputs": [],
   "source": [
    "#df = df.drop(['Cabin', 'Ticket'], axis=1)"
   ]
  },
  {
   "cell_type": "code",
   "execution_count": 36,
   "id": "88a02d57",
   "metadata": {
    "execution": {
     "iopub.execute_input": "2022-04-17T05:29:26.342166Z",
     "iopub.status.busy": "2022-04-17T05:29:26.341882Z",
     "iopub.status.idle": "2022-04-17T05:29:26.345683Z",
     "shell.execute_reply": "2022-04-17T05:29:26.344553Z"
    },
    "id": "kly7zEN5jaI2",
    "papermill": {
     "duration": 0.144773,
     "end_time": "2022-04-17T05:29:26.347714",
     "exception": false,
     "start_time": "2022-04-17T05:29:26.202941",
     "status": "completed"
    },
    "tags": []
   },
   "outputs": [],
   "source": [
    "#df_test = df_test.drop(['Cabin', 'Ticket'], axis=1)"
   ]
  },
  {
   "cell_type": "code",
   "execution_count": 37,
   "id": "259e3f01",
   "metadata": {
    "execution": {
     "iopub.execute_input": "2022-04-17T05:29:26.622277Z",
     "iopub.status.busy": "2022-04-17T05:29:26.621994Z",
     "iopub.status.idle": "2022-04-17T05:29:26.627229Z",
     "shell.execute_reply": "2022-04-17T05:29:26.626327Z"
    },
    "id": "iPk_5Hk3kG5P",
    "papermill": {
     "duration": 0.143857,
     "end_time": "2022-04-17T05:29:26.629136",
     "exception": false,
     "start_time": "2022-04-17T05:29:26.485279",
     "status": "completed"
    },
    "tags": []
   },
   "outputs": [],
   "source": [
    "df_test_pi = df_test.copy()['PassengerId']"
   ]
  },
  {
   "cell_type": "code",
   "execution_count": 38,
   "id": "c61416e5",
   "metadata": {
    "execution": {
     "iopub.execute_input": "2022-04-17T05:29:26.897010Z",
     "iopub.status.busy": "2022-04-17T05:29:26.896697Z",
     "iopub.status.idle": "2022-04-17T05:29:26.902823Z",
     "shell.execute_reply": "2022-04-17T05:29:26.902218Z"
    },
    "papermill": {
     "duration": 0.144583,
     "end_time": "2022-04-17T05:29:26.904585",
     "exception": false,
     "start_time": "2022-04-17T05:29:26.760002",
     "status": "completed"
    },
    "tags": []
   },
   "outputs": [
    {
     "data": {
      "text/plain": [
       "0       892\n",
       "1       893\n",
       "2       894\n",
       "3       895\n",
       "4       896\n",
       "       ... \n",
       "413    1305\n",
       "414    1306\n",
       "415    1307\n",
       "416    1308\n",
       "417    1309\n",
       "Name: PassengerId, Length: 418, dtype: int64"
      ]
     },
     "execution_count": 38,
     "metadata": {},
     "output_type": "execute_result"
    }
   ],
   "source": [
    "df_test_pi"
   ]
  },
  {
   "cell_type": "code",
   "execution_count": 39,
   "id": "f8e6a817",
   "metadata": {
    "execution": {
     "iopub.execute_input": "2022-04-17T05:29:27.167546Z",
     "iopub.status.busy": "2022-04-17T05:29:27.167261Z",
     "iopub.status.idle": "2022-04-17T05:29:27.204063Z",
     "shell.execute_reply": "2022-04-17T05:29:27.203185Z"
    },
    "id": "CJvy9qNDkTt-",
    "outputId": "59da43b7-78ff-43e5-d28f-1f6e181675d3",
    "papermill": {
     "duration": 0.171059,
     "end_time": "2022-04-17T05:29:27.206168",
     "exception": false,
     "start_time": "2022-04-17T05:29:27.035109",
     "status": "completed"
    },
    "tags": []
   },
   "outputs": [
    {
     "data": {
      "text/html": [
       "<div>\n",
       "<style scoped>\n",
       "    .dataframe tbody tr th:only-of-type {\n",
       "        vertical-align: middle;\n",
       "    }\n",
       "\n",
       "    .dataframe tbody tr th {\n",
       "        vertical-align: top;\n",
       "    }\n",
       "\n",
       "    .dataframe thead th {\n",
       "        text-align: right;\n",
       "    }\n",
       "</style>\n",
       "<table border=\"1\" class=\"dataframe\">\n",
       "  <thead>\n",
       "    <tr style=\"text-align: right;\">\n",
       "      <th>Sex</th>\n",
       "      <th>female</th>\n",
       "      <th>male</th>\n",
       "    </tr>\n",
       "    <tr>\n",
       "      <th>Title</th>\n",
       "      <th></th>\n",
       "      <th></th>\n",
       "    </tr>\n",
       "  </thead>\n",
       "  <tbody>\n",
       "    <tr>\n",
       "      <th>Capt</th>\n",
       "      <td>0</td>\n",
       "      <td>1</td>\n",
       "    </tr>\n",
       "    <tr>\n",
       "      <th>Col</th>\n",
       "      <td>0</td>\n",
       "      <td>2</td>\n",
       "    </tr>\n",
       "    <tr>\n",
       "      <th>Countess</th>\n",
       "      <td>1</td>\n",
       "      <td>0</td>\n",
       "    </tr>\n",
       "    <tr>\n",
       "      <th>Don</th>\n",
       "      <td>0</td>\n",
       "      <td>1</td>\n",
       "    </tr>\n",
       "    <tr>\n",
       "      <th>Dr</th>\n",
       "      <td>1</td>\n",
       "      <td>6</td>\n",
       "    </tr>\n",
       "    <tr>\n",
       "      <th>Jonkheer</th>\n",
       "      <td>0</td>\n",
       "      <td>1</td>\n",
       "    </tr>\n",
       "    <tr>\n",
       "      <th>Lady</th>\n",
       "      <td>1</td>\n",
       "      <td>0</td>\n",
       "    </tr>\n",
       "    <tr>\n",
       "      <th>Major</th>\n",
       "      <td>0</td>\n",
       "      <td>2</td>\n",
       "    </tr>\n",
       "    <tr>\n",
       "      <th>Master</th>\n",
       "      <td>0</td>\n",
       "      <td>40</td>\n",
       "    </tr>\n",
       "    <tr>\n",
       "      <th>Miss</th>\n",
       "      <td>182</td>\n",
       "      <td>0</td>\n",
       "    </tr>\n",
       "    <tr>\n",
       "      <th>Mlle</th>\n",
       "      <td>2</td>\n",
       "      <td>0</td>\n",
       "    </tr>\n",
       "    <tr>\n",
       "      <th>Mme</th>\n",
       "      <td>1</td>\n",
       "      <td>0</td>\n",
       "    </tr>\n",
       "    <tr>\n",
       "      <th>Mr</th>\n",
       "      <td>0</td>\n",
       "      <td>517</td>\n",
       "    </tr>\n",
       "    <tr>\n",
       "      <th>Mrs</th>\n",
       "      <td>125</td>\n",
       "      <td>0</td>\n",
       "    </tr>\n",
       "    <tr>\n",
       "      <th>Ms</th>\n",
       "      <td>1</td>\n",
       "      <td>0</td>\n",
       "    </tr>\n",
       "    <tr>\n",
       "      <th>Rev</th>\n",
       "      <td>0</td>\n",
       "      <td>6</td>\n",
       "    </tr>\n",
       "    <tr>\n",
       "      <th>Sir</th>\n",
       "      <td>0</td>\n",
       "      <td>1</td>\n",
       "    </tr>\n",
       "  </tbody>\n",
       "</table>\n",
       "</div>"
      ],
      "text/plain": [
       "Sex       female  male\n",
       "Title                 \n",
       "Capt           0     1\n",
       "Col            0     2\n",
       "Countess       1     0\n",
       "Don            0     1\n",
       "Dr             1     6\n",
       "Jonkheer       0     1\n",
       "Lady           1     0\n",
       "Major          0     2\n",
       "Master         0    40\n",
       "Miss         182     0\n",
       "Mlle           2     0\n",
       "Mme            1     0\n",
       "Mr             0   517\n",
       "Mrs          125     0\n",
       "Ms             1     0\n",
       "Rev            0     6\n",
       "Sir            0     1"
      ]
     },
     "execution_count": 39,
     "metadata": {},
     "output_type": "execute_result"
    }
   ],
   "source": [
    "combine = [df, df_test]\n",
    "for dataset in combine:\n",
    "    dataset['Title'] = dataset['Name'].str.extract(' ([A-Za-z]+)\\.', expand=False)\n",
    "\n",
    "pd.crosstab(df['Title'], df['Sex'])"
   ]
  },
  {
   "cell_type": "code",
   "execution_count": 40,
   "id": "d1a2a9fb",
   "metadata": {
    "execution": {
     "iopub.execute_input": "2022-04-17T05:29:27.471208Z",
     "iopub.status.busy": "2022-04-17T05:29:27.470953Z",
     "iopub.status.idle": "2022-04-17T05:29:27.496588Z",
     "shell.execute_reply": "2022-04-17T05:29:27.495665Z"
    },
    "id": "FySONWVvlHcM",
    "outputId": "be9937f7-d3c6-432e-87e6-f28bfe27fa9a",
    "papermill": {
     "duration": 0.160518,
     "end_time": "2022-04-17T05:29:27.498551",
     "exception": false,
     "start_time": "2022-04-17T05:29:27.338033",
     "status": "completed"
    },
    "tags": []
   },
   "outputs": [
    {
     "data": {
      "text/html": [
       "<div>\n",
       "<style scoped>\n",
       "    .dataframe tbody tr th:only-of-type {\n",
       "        vertical-align: middle;\n",
       "    }\n",
       "\n",
       "    .dataframe tbody tr th {\n",
       "        vertical-align: top;\n",
       "    }\n",
       "\n",
       "    .dataframe thead th {\n",
       "        text-align: right;\n",
       "    }\n",
       "</style>\n",
       "<table border=\"1\" class=\"dataframe\">\n",
       "  <thead>\n",
       "    <tr style=\"text-align: right;\">\n",
       "      <th></th>\n",
       "      <th>Title</th>\n",
       "      <th>Survived</th>\n",
       "    </tr>\n",
       "  </thead>\n",
       "  <tbody>\n",
       "    <tr>\n",
       "      <th>0</th>\n",
       "      <td>Master</td>\n",
       "      <td>0.575000</td>\n",
       "    </tr>\n",
       "    <tr>\n",
       "      <th>1</th>\n",
       "      <td>Miss</td>\n",
       "      <td>0.702703</td>\n",
       "    </tr>\n",
       "    <tr>\n",
       "      <th>2</th>\n",
       "      <td>Mr</td>\n",
       "      <td>0.156673</td>\n",
       "    </tr>\n",
       "    <tr>\n",
       "      <th>3</th>\n",
       "      <td>Mrs</td>\n",
       "      <td>0.793651</td>\n",
       "    </tr>\n",
       "    <tr>\n",
       "      <th>4</th>\n",
       "      <td>Rare</td>\n",
       "      <td>0.347826</td>\n",
       "    </tr>\n",
       "  </tbody>\n",
       "</table>\n",
       "</div>"
      ],
      "text/plain": [
       "    Title  Survived\n",
       "0  Master  0.575000\n",
       "1    Miss  0.702703\n",
       "2      Mr  0.156673\n",
       "3     Mrs  0.793651\n",
       "4    Rare  0.347826"
      ]
     },
     "execution_count": 40,
     "metadata": {},
     "output_type": "execute_result"
    }
   ],
   "source": [
    "for dataset in combine:\n",
    "    dataset['Title'] = dataset['Title'].replace(['Capt', 'Col', 'Countess', 'Don', 'Dr', 'Jonkheer', 'Lady', 'Major', 'Rev', 'Sir'], 'Rare')\n",
    "    dataset['Title'] = dataset['Title'].replace('Mlle', 'Miss')\n",
    "    dataset['Title'] = dataset['Title'].replace('Ms', 'Miss')\n",
    "    dataset['Title'] = dataset['Title'].replace('Mme', 'Mrs')\n",
    "    \n",
    "df[['Survived', 'Title']].groupby('Title', as_index=False).mean()"
   ]
  },
  {
   "cell_type": "code",
   "execution_count": 41,
   "id": "7d523232",
   "metadata": {
    "execution": {
     "iopub.execute_input": "2022-04-17T05:29:27.785204Z",
     "iopub.status.busy": "2022-04-17T05:29:27.784900Z",
     "iopub.status.idle": "2022-04-17T05:29:27.797178Z",
     "shell.execute_reply": "2022-04-17T05:29:27.796001Z"
    },
    "id": "0QqBj0dfmBWa",
    "outputId": "ba8ab140-5795-4bcc-a3be-694d44f3a131",
    "papermill": {
     "duration": 0.14711,
     "end_time": "2022-04-17T05:29:27.799121",
     "exception": false,
     "start_time": "2022-04-17T05:29:27.652011",
     "status": "completed"
    },
    "tags": []
   },
   "outputs": [
    {
     "data": {
      "text/plain": [
       "PassengerId        1.000000\n",
       "Survived           1.000000\n",
       "Pclass             1.000000\n",
       "Name               1.000000\n",
       "Sex                1.000000\n",
       "Age                1.000000\n",
       "SibSp              1.000000\n",
       "Parch              1.000000\n",
       "Ticket             1.000000\n",
       "Fare               1.000000\n",
       "Cabin              1.000000\n",
       "Embarked           0.997755\n",
       "FamilySize         1.000000\n",
       "FamilyGroup        1.000000\n",
       "Deck               1.000000\n",
       "TicketFrequency    1.000000\n",
       "Title              1.000000\n",
       "dtype: float64"
      ]
     },
     "execution_count": 41,
     "metadata": {},
     "output_type": "execute_result"
    }
   ],
   "source": [
    "df.notnull().mean()"
   ]
  },
  {
   "cell_type": "code",
   "execution_count": null,
   "id": "f3540376",
   "metadata": {
    "id": "5sWn6TR0RvOl",
    "papermill": {
     "duration": 0.134323,
     "end_time": "2022-04-17T05:29:28.068978",
     "exception": false,
     "start_time": "2022-04-17T05:29:27.934655",
     "status": "completed"
    },
    "tags": []
   },
   "outputs": [],
   "source": []
  },
  {
   "cell_type": "code",
   "execution_count": 42,
   "id": "bda95124",
   "metadata": {
    "execution": {
     "iopub.execute_input": "2022-04-17T05:29:28.334979Z",
     "iopub.status.busy": "2022-04-17T05:29:28.334672Z",
     "iopub.status.idle": "2022-04-17T05:29:28.341426Z",
     "shell.execute_reply": "2022-04-17T05:29:28.340708Z"
    },
    "id": "LtmY8kIKRaU3",
    "papermill": {
     "duration": 0.142078,
     "end_time": "2022-04-17T05:29:28.343247",
     "exception": false,
     "start_time": "2022-04-17T05:29:28.201169",
     "status": "completed"
    },
    "tags": []
   },
   "outputs": [],
   "source": [
    "for dataset in combine:\n",
    "    dataset.drop(['Name', 'PassengerId', 'Cabin'], axis=1, inplace=True)"
   ]
  },
  {
   "cell_type": "code",
   "execution_count": 43,
   "id": "c13380f3",
   "metadata": {
    "execution": {
     "iopub.execute_input": "2022-04-17T05:29:28.610765Z",
     "iopub.status.busy": "2022-04-17T05:29:28.610299Z",
     "iopub.status.idle": "2022-04-17T05:29:28.617526Z",
     "shell.execute_reply": "2022-04-17T05:29:28.616898Z"
    },
    "id": "LEOksg5ORw_c",
    "papermill": {
     "duration": 0.143348,
     "end_time": "2022-04-17T05:29:28.619408",
     "exception": false,
     "start_time": "2022-04-17T05:29:28.476060",
     "status": "completed"
    },
    "tags": []
   },
   "outputs": [],
   "source": [
    "def categorify(df, df_test, dep_var='Survived', exclude=[]):\n",
    "    df = df.copy()\n",
    "    df_test = df_test.copy()\n",
    "    new = pd.concat([df, df_test]).drop([dep_var]+exclude, axis=1)\n",
    "    dicts = {str(col): {k[1]:k[0] for k in enumerate(new[col].unique())} for col in new}\n",
    "    for key, val in dicts.items():\n",
    "        df[key] = df[key].map(val).astype(float)\n",
    "        df_test[key] = df_test[key].map(val).astype(float)\n",
    "    return df, df_test"
   ]
  },
  {
   "cell_type": "code",
   "execution_count": 44,
   "id": "f343de4f",
   "metadata": {
    "execution": {
     "iopub.execute_input": "2022-04-17T05:29:28.893592Z",
     "iopub.status.busy": "2022-04-17T05:29:28.893111Z",
     "iopub.status.idle": "2022-04-17T05:29:28.961113Z",
     "shell.execute_reply": "2022-04-17T05:29:28.960223Z"
    },
    "papermill": {
     "duration": 0.208117,
     "end_time": "2022-04-17T05:29:28.963504",
     "exception": false,
     "start_time": "2022-04-17T05:29:28.755387",
     "status": "completed"
    },
    "tags": []
   },
   "outputs": [],
   "source": [
    "combined = [df, df_test]\n",
    "for dataset in combined:\n",
    "    dataset['Age'] = dataset['Age'].map(str)\n",
    "    dataset['Fare'] = dataset['Fare'].map(str)\n"
   ]
  },
  {
   "cell_type": "code",
   "execution_count": 45,
   "id": "cae5009a",
   "metadata": {
    "execution": {
     "iopub.execute_input": "2022-04-17T05:29:29.237663Z",
     "iopub.status.busy": "2022-04-17T05:29:29.237195Z",
     "iopub.status.idle": "2022-04-17T05:29:29.244711Z",
     "shell.execute_reply": "2022-04-17T05:29:29.243795Z"
    },
    "papermill": {
     "duration": 0.146863,
     "end_time": "2022-04-17T05:29:29.246944",
     "exception": false,
     "start_time": "2022-04-17T05:29:29.100081",
     "status": "completed"
    },
    "tags": []
   },
   "outputs": [
    {
     "data": {
      "text/plain": [
       "array(['[(20.0, 22.0)]', '[(34.0, 40.0)]', '[(25.0, 26.0)]',\n",
       "       '[(22.0, 25.0)]', '[(47.0, 80.0)]', '[(0.419, 16.0)]',\n",
       "       '[(26.0, 30.0)]', '[(16.0, 20.0)]', '[(30.0, 34.0)]',\n",
       "       '[(40.0, 47.0)]'], dtype=object)"
      ]
     },
     "execution_count": 45,
     "metadata": {},
     "output_type": "execute_result"
    }
   ],
   "source": [
    "df['Age'].unique()"
   ]
  },
  {
   "cell_type": "code",
   "execution_count": 46,
   "id": "9bc61929",
   "metadata": {
    "execution": {
     "iopub.execute_input": "2022-04-17T05:29:29.516209Z",
     "iopub.status.busy": "2022-04-17T05:29:29.515800Z",
     "iopub.status.idle": "2022-04-17T05:29:29.522135Z",
     "shell.execute_reply": "2022-04-17T05:29:29.521513Z"
    },
    "id": "T__tYEgjRu5P",
    "papermill": {
     "duration": 0.14272,
     "end_time": "2022-04-17T05:29:29.523843",
     "exception": false,
     "start_time": "2022-04-17T05:29:29.381123",
     "status": "completed"
    },
    "tags": []
   },
   "outputs": [
    {
     "data": {
      "text/plain": [
       "\"def categorify(df, df_test):\\n    df = df.copy()\\n    df_test = df_test.copy()\\n    new = pd.concat([df, df_test])\\n    sexdict = {k[1]: k[0] for k in enumerate(new['Sex'].unique())}\\n    embdict = {k[1]: k[0] for k in enumerate(new['Embarked'].unique())}\\n    titdict = {k[1]: k[0] for k in enumerate(new['Title'].unique())}\\n    pardict = {k[1]: k[0] for k in enumerate(new['Parch'].unique())}\\n    pcldict = {k[1]: k[0] for k in enumerate(new['Pclass'].astype(int).unique())}\\n    sibdict = {k[1]: k[0] for k in enumerate(new['SibSp'].astype(int).unique())}\\n    dicts = {'Sex': sexdict, 'Embarked': embdict, 'Title': titdict, 'Parch': pardict, 'Pclass': pcldict, 'SibSp':sibdict}\\n    for key, val in dicts.items():\\n        df[key] = df[key].map(val).astype(float)\\n        df_test[key] = df_test[key].map(val).astype(float)\\n    return df, df_test\""
      ]
     },
     "execution_count": 46,
     "metadata": {},
     "output_type": "execute_result"
    }
   ],
   "source": [
    "\"\"\"def categorify(df, df_test):\n",
    "    df = df.copy()\n",
    "    df_test = df_test.copy()\n",
    "    new = pd.concat([df, df_test])\n",
    "    sexdict = {k[1]: k[0] for k in enumerate(new['Sex'].unique())}\n",
    "    embdict = {k[1]: k[0] for k in enumerate(new['Embarked'].unique())}\n",
    "    titdict = {k[1]: k[0] for k in enumerate(new['Title'].unique())}\n",
    "    pardict = {k[1]: k[0] for k in enumerate(new['Parch'].unique())}\n",
    "    pcldict = {k[1]: k[0] for k in enumerate(new['Pclass'].astype(int).unique())}\n",
    "    sibdict = {k[1]: k[0] for k in enumerate(new['SibSp'].astype(int).unique())}\n",
    "    dicts = {'Sex': sexdict, 'Embarked': embdict, 'Title': titdict, 'Parch': pardict, 'Pclass': pcldict, 'SibSp':sibdict}\n",
    "    for key, val in dicts.items():\n",
    "        df[key] = df[key].map(val).astype(float)\n",
    "        df_test[key] = df_test[key].map(val).astype(float)\n",
    "    return df, df_test\"\"\""
   ]
  },
  {
   "cell_type": "code",
   "execution_count": 47,
   "id": "2181a5e2",
   "metadata": {
    "execution": {
     "iopub.execute_input": "2022-04-17T05:29:29.790413Z",
     "iopub.status.busy": "2022-04-17T05:29:29.789976Z",
     "iopub.status.idle": "2022-04-17T05:29:29.829231Z",
     "shell.execute_reply": "2022-04-17T05:29:29.828376Z"
    },
    "id": "0rxZxlvBkFQF",
    "papermill": {
     "duration": 0.174897,
     "end_time": "2022-04-17T05:29:29.831441",
     "exception": false,
     "start_time": "2022-04-17T05:29:29.656544",
     "status": "completed"
    },
    "tags": []
   },
   "outputs": [],
   "source": [
    "combine = [df, df_test]\n",
    "df, df_test = categorify(df, df_test, exclude=[])"
   ]
  },
  {
   "cell_type": "code",
   "execution_count": 48,
   "id": "8f88de40",
   "metadata": {
    "execution": {
     "iopub.execute_input": "2022-04-17T05:29:30.104451Z",
     "iopub.status.busy": "2022-04-17T05:29:30.104122Z",
     "iopub.status.idle": "2022-04-17T05:29:30.139022Z",
     "shell.execute_reply": "2022-04-17T05:29:30.138193Z"
    },
    "papermill": {
     "duration": 0.173899,
     "end_time": "2022-04-17T05:29:30.140948",
     "exception": false,
     "start_time": "2022-04-17T05:29:29.967049",
     "status": "completed"
    },
    "tags": []
   },
   "outputs": [
    {
     "data": {
      "text/html": [
       "<div>\n",
       "<style scoped>\n",
       "    .dataframe tbody tr th:only-of-type {\n",
       "        vertical-align: middle;\n",
       "    }\n",
       "\n",
       "    .dataframe tbody tr th {\n",
       "        vertical-align: top;\n",
       "    }\n",
       "\n",
       "    .dataframe thead th {\n",
       "        text-align: right;\n",
       "    }\n",
       "</style>\n",
       "<table border=\"1\" class=\"dataframe\">\n",
       "  <thead>\n",
       "    <tr style=\"text-align: right;\">\n",
       "      <th></th>\n",
       "      <th>Pclass</th>\n",
       "      <th>Sex</th>\n",
       "      <th>Age</th>\n",
       "      <th>SibSp</th>\n",
       "      <th>Parch</th>\n",
       "      <th>Ticket</th>\n",
       "      <th>Fare</th>\n",
       "      <th>Embarked</th>\n",
       "      <th>FamilySize</th>\n",
       "      <th>FamilyGroup</th>\n",
       "      <th>Deck</th>\n",
       "      <th>TicketFrequency</th>\n",
       "      <th>Title</th>\n",
       "    </tr>\n",
       "  </thead>\n",
       "  <tbody>\n",
       "    <tr>\n",
       "      <th>0</th>\n",
       "      <td>0.0</td>\n",
       "      <td>0.0</td>\n",
       "      <td>1.0</td>\n",
       "      <td>1.0</td>\n",
       "      <td>0.0</td>\n",
       "      <td>681.0</td>\n",
       "      <td>9.0</td>\n",
       "      <td>2.0</td>\n",
       "      <td>1.0</td>\n",
       "      <td>0.0</td>\n",
       "      <td>0.0</td>\n",
       "      <td>0.0</td>\n",
       "      <td>0.0</td>\n",
       "    </tr>\n",
       "    <tr>\n",
       "      <th>1</th>\n",
       "      <td>0.0</td>\n",
       "      <td>1.0</td>\n",
       "      <td>9.0</td>\n",
       "      <td>0.0</td>\n",
       "      <td>0.0</td>\n",
       "      <td>682.0</td>\n",
       "      <td>10.0</td>\n",
       "      <td>0.0</td>\n",
       "      <td>0.0</td>\n",
       "      <td>0.0</td>\n",
       "      <td>1.0</td>\n",
       "      <td>0.0</td>\n",
       "      <td>1.0</td>\n",
       "    </tr>\n",
       "    <tr>\n",
       "      <th>2</th>\n",
       "      <td>2.0</td>\n",
       "      <td>0.0</td>\n",
       "      <td>4.0</td>\n",
       "      <td>1.0</td>\n",
       "      <td>0.0</td>\n",
       "      <td>683.0</td>\n",
       "      <td>4.0</td>\n",
       "      <td>2.0</td>\n",
       "      <td>1.0</td>\n",
       "      <td>1.0</td>\n",
       "      <td>0.0</td>\n",
       "      <td>0.0</td>\n",
       "      <td>0.0</td>\n",
       "    </tr>\n",
       "    <tr>\n",
       "      <th>3</th>\n",
       "      <td>0.0</td>\n",
       "      <td>0.0</td>\n",
       "      <td>6.0</td>\n",
       "      <td>1.0</td>\n",
       "      <td>0.0</td>\n",
       "      <td>684.0</td>\n",
       "      <td>4.0</td>\n",
       "      <td>0.0</td>\n",
       "      <td>1.0</td>\n",
       "      <td>0.0</td>\n",
       "      <td>1.0</td>\n",
       "      <td>0.0</td>\n",
       "      <td>0.0</td>\n",
       "    </tr>\n",
       "    <tr>\n",
       "      <th>4</th>\n",
       "      <td>0.0</td>\n",
       "      <td>1.0</td>\n",
       "      <td>0.0</td>\n",
       "      <td>0.0</td>\n",
       "      <td>1.0</td>\n",
       "      <td>405.0</td>\n",
       "      <td>6.0</td>\n",
       "      <td>0.0</td>\n",
       "      <td>3.0</td>\n",
       "      <td>1.0</td>\n",
       "      <td>0.0</td>\n",
       "      <td>0.0</td>\n",
       "      <td>1.0</td>\n",
       "    </tr>\n",
       "    <tr>\n",
       "      <th>...</th>\n",
       "      <td>...</td>\n",
       "      <td>...</td>\n",
       "      <td>...</td>\n",
       "      <td>...</td>\n",
       "      <td>...</td>\n",
       "      <td>...</td>\n",
       "      <td>...</td>\n",
       "      <td>...</td>\n",
       "      <td>...</td>\n",
       "      <td>...</td>\n",
       "      <td>...</td>\n",
       "      <td>...</td>\n",
       "      <td>...</td>\n",
       "    </tr>\n",
       "    <tr>\n",
       "      <th>413</th>\n",
       "      <td>0.0</td>\n",
       "      <td>0.0</td>\n",
       "      <td>3.0</td>\n",
       "      <td>1.0</td>\n",
       "      <td>0.0</td>\n",
       "      <td>926.0</td>\n",
       "      <td>2.0</td>\n",
       "      <td>0.0</td>\n",
       "      <td>1.0</td>\n",
       "      <td>1.0</td>\n",
       "      <td>0.0</td>\n",
       "      <td>0.0</td>\n",
       "      <td>0.0</td>\n",
       "    </tr>\n",
       "    <tr>\n",
       "      <th>414</th>\n",
       "      <td>1.0</td>\n",
       "      <td>1.0</td>\n",
       "      <td>1.0</td>\n",
       "      <td>1.0</td>\n",
       "      <td>0.0</td>\n",
       "      <td>273.0</td>\n",
       "      <td>11.0</td>\n",
       "      <td>1.0</td>\n",
       "      <td>1.0</td>\n",
       "      <td>1.0</td>\n",
       "      <td>0.0</td>\n",
       "      <td>0.0</td>\n",
       "      <td>5.0</td>\n",
       "    </tr>\n",
       "    <tr>\n",
       "      <th>415</th>\n",
       "      <td>0.0</td>\n",
       "      <td>0.0</td>\n",
       "      <td>1.0</td>\n",
       "      <td>1.0</td>\n",
       "      <td>0.0</td>\n",
       "      <td>927.0</td>\n",
       "      <td>0.0</td>\n",
       "      <td>0.0</td>\n",
       "      <td>1.0</td>\n",
       "      <td>1.0</td>\n",
       "      <td>0.0</td>\n",
       "      <td>0.0</td>\n",
       "      <td>0.0</td>\n",
       "    </tr>\n",
       "    <tr>\n",
       "      <th>416</th>\n",
       "      <td>0.0</td>\n",
       "      <td>0.0</td>\n",
       "      <td>3.0</td>\n",
       "      <td>1.0</td>\n",
       "      <td>0.0</td>\n",
       "      <td>928.0</td>\n",
       "      <td>2.0</td>\n",
       "      <td>0.0</td>\n",
       "      <td>1.0</td>\n",
       "      <td>0.0</td>\n",
       "      <td>0.0</td>\n",
       "      <td>0.0</td>\n",
       "      <td>0.0</td>\n",
       "    </tr>\n",
       "    <tr>\n",
       "      <th>417</th>\n",
       "      <td>0.0</td>\n",
       "      <td>0.0</td>\n",
       "      <td>3.0</td>\n",
       "      <td>0.0</td>\n",
       "      <td>1.0</td>\n",
       "      <td>119.0</td>\n",
       "      <td>5.0</td>\n",
       "      <td>1.0</td>\n",
       "      <td>3.0</td>\n",
       "      <td>0.0</td>\n",
       "      <td>0.0</td>\n",
       "      <td>0.0</td>\n",
       "      <td>3.0</td>\n",
       "    </tr>\n",
       "  </tbody>\n",
       "</table>\n",
       "<p>418 rows × 13 columns</p>\n",
       "</div>"
      ],
      "text/plain": [
       "     Pclass  Sex  Age  SibSp  Parch  Ticket  Fare  Embarked  FamilySize  \\\n",
       "0       0.0  0.0  1.0    1.0    0.0   681.0   9.0       2.0         1.0   \n",
       "1       0.0  1.0  9.0    0.0    0.0   682.0  10.0       0.0         0.0   \n",
       "2       2.0  0.0  4.0    1.0    0.0   683.0   4.0       2.0         1.0   \n",
       "3       0.0  0.0  6.0    1.0    0.0   684.0   4.0       0.0         1.0   \n",
       "4       0.0  1.0  0.0    0.0    1.0   405.0   6.0       0.0         3.0   \n",
       "..      ...  ...  ...    ...    ...     ...   ...       ...         ...   \n",
       "413     0.0  0.0  3.0    1.0    0.0   926.0   2.0       0.0         1.0   \n",
       "414     1.0  1.0  1.0    1.0    0.0   273.0  11.0       1.0         1.0   \n",
       "415     0.0  0.0  1.0    1.0    0.0   927.0   0.0       0.0         1.0   \n",
       "416     0.0  0.0  3.0    1.0    0.0   928.0   2.0       0.0         1.0   \n",
       "417     0.0  0.0  3.0    0.0    1.0   119.0   5.0       1.0         3.0   \n",
       "\n",
       "     FamilyGroup  Deck  TicketFrequency  Title  \n",
       "0            0.0   0.0              0.0    0.0  \n",
       "1            0.0   1.0              0.0    1.0  \n",
       "2            1.0   0.0              0.0    0.0  \n",
       "3            0.0   1.0              0.0    0.0  \n",
       "4            1.0   0.0              0.0    1.0  \n",
       "..           ...   ...              ...    ...  \n",
       "413          1.0   0.0              0.0    0.0  \n",
       "414          1.0   0.0              0.0    5.0  \n",
       "415          1.0   0.0              0.0    0.0  \n",
       "416          0.0   0.0              0.0    0.0  \n",
       "417          0.0   0.0              0.0    3.0  \n",
       "\n",
       "[418 rows x 13 columns]"
      ]
     },
     "execution_count": 48,
     "metadata": {},
     "output_type": "execute_result"
    }
   ],
   "source": [
    "df_test"
   ]
  },
  {
   "cell_type": "code",
   "execution_count": 49,
   "id": "24cf0b8d",
   "metadata": {
    "execution": {
     "iopub.execute_input": "2022-04-17T05:29:30.412426Z",
     "iopub.status.busy": "2022-04-17T05:29:30.412108Z",
     "iopub.status.idle": "2022-04-17T05:29:30.463499Z",
     "shell.execute_reply": "2022-04-17T05:29:30.462757Z"
    },
    "id": "Enjs4jzPWAyz",
    "papermill": {
     "duration": 0.190389,
     "end_time": "2022-04-17T05:29:30.465760",
     "exception": false,
     "start_time": "2022-04-17T05:29:30.275371",
     "status": "completed"
    },
    "tags": []
   },
   "outputs": [],
   "source": [
    "from sklearn.impute import KNNImputer"
   ]
  },
  {
   "cell_type": "code",
   "execution_count": 50,
   "id": "bc4cc738",
   "metadata": {
    "execution": {
     "iopub.execute_input": "2022-04-17T05:29:30.738637Z",
     "iopub.status.busy": "2022-04-17T05:29:30.738329Z",
     "iopub.status.idle": "2022-04-17T05:29:30.742121Z",
     "shell.execute_reply": "2022-04-17T05:29:30.741518Z"
    },
    "id": "5aaZNHRIWH5z",
    "papermill": {
     "duration": 0.142237,
     "end_time": "2022-04-17T05:29:30.743898",
     "exception": false,
     "start_time": "2022-04-17T05:29:30.601661",
     "status": "completed"
    },
    "tags": []
   },
   "outputs": [],
   "source": [
    "imp = KNNImputer()"
   ]
  },
  {
   "cell_type": "code",
   "execution_count": 51,
   "id": "ffc90e15",
   "metadata": {
    "execution": {
     "iopub.execute_input": "2022-04-17T05:29:31.015903Z",
     "iopub.status.busy": "2022-04-17T05:29:31.015541Z",
     "iopub.status.idle": "2022-04-17T05:29:31.025887Z",
     "shell.execute_reply": "2022-04-17T05:29:31.025066Z"
    },
    "id": "Tz-7xXmdRB-V",
    "papermill": {
     "duration": 0.149788,
     "end_time": "2022-04-17T05:29:31.027916",
     "exception": false,
     "start_time": "2022-04-17T05:29:30.878128",
     "status": "completed"
    },
    "tags": []
   },
   "outputs": [],
   "source": [
    "df = pd.DataFrame(imp.fit_transform(df.values), columns=df.columns)\n",
    "df_test = pd.DataFrame(imp.fit_transform(df_test.values), columns=df_test.columns)"
   ]
  },
  {
   "cell_type": "code",
   "execution_count": 52,
   "id": "71d7ae87",
   "metadata": {
    "execution": {
     "iopub.execute_input": "2022-04-17T05:29:31.296014Z",
     "iopub.status.busy": "2022-04-17T05:29:31.295683Z",
     "iopub.status.idle": "2022-04-17T05:29:31.301550Z",
     "shell.execute_reply": "2022-04-17T05:29:31.300911Z"
    },
    "id": "_2PeISJITa_-",
    "papermill": {
     "duration": 0.142413,
     "end_time": "2022-04-17T05:29:31.303452",
     "exception": false,
     "start_time": "2022-04-17T05:29:31.161039",
     "status": "completed"
    },
    "tags": []
   },
   "outputs": [],
   "source": [
    "df['Embarked'] = df['Embarked'].astype(int)\n",
    "df_test['Embarked'] = df_test['Embarked'].astype(int)"
   ]
  },
  {
   "cell_type": "code",
   "execution_count": 53,
   "id": "cf864353",
   "metadata": {
    "execution": {
     "iopub.execute_input": "2022-04-17T05:29:31.574990Z",
     "iopub.status.busy": "2022-04-17T05:29:31.574672Z",
     "iopub.status.idle": "2022-04-17T05:29:31.590211Z",
     "shell.execute_reply": "2022-04-17T05:29:31.588720Z"
    },
    "id": "QrXJ6LlVSKgU",
    "outputId": "59c36e25-6db4-4b25-cca5-6f6947b544fc",
    "papermill": {
     "duration": 0.155267,
     "end_time": "2022-04-17T05:29:31.592356",
     "exception": false,
     "start_time": "2022-04-17T05:29:31.437089",
     "status": "completed"
    },
    "tags": []
   },
   "outputs": [
    {
     "name": "stdout",
     "output_type": "stream",
     "text": [
      "key: Survived, unique: 2\n",
      "key: Pclass, unique: 3\n",
      "key: Sex, unique: 2\n",
      "key: Age, unique: 10\n",
      "key: SibSp, unique: 7\n",
      "key: Parch, unique: 7\n",
      "key: Ticket, unique: 681\n",
      "key: Fare, unique: 14\n",
      "key: Embarked, unique: 3\n",
      "key: FamilySize, unique: 9\n",
      "key: FamilyGroup, unique: 4\n",
      "key: Deck, unique: 9\n",
      "key: TicketFrequency, unique: 7\n",
      "key: Title, unique: 5\n",
      "----------\n",
      "key: Pclass, unique: 3\n",
      "key: Sex, unique: 2\n",
      "key: Age, unique: 11\n",
      "key: SibSp, unique: 7\n",
      "key: Parch, unique: 8\n",
      "key: Ticket, unique: 363\n",
      "key: Fare, unique: 14\n",
      "key: Embarked, unique: 3\n",
      "key: FamilySize, unique: 9\n",
      "key: FamilyGroup, unique: 4\n",
      "key: Deck, unique: 9\n",
      "key: TicketFrequency, unique: 5\n",
      "key: Title, unique: 6\n"
     ]
    }
   ],
   "source": [
    "for i in df:\n",
    "    print(f'key: {i}, unique: {df[i].nunique()}')\n",
    "print('-'*10)\n",
    "for i in df_test:\n",
    "    print(f'key: {i}, unique: {df_test[i].nunique()}') "
   ]
  },
  {
   "cell_type": "code",
   "execution_count": 54,
   "id": "29b55e26",
   "metadata": {
    "execution": {
     "iopub.execute_input": "2022-04-17T05:29:31.865555Z",
     "iopub.status.busy": "2022-04-17T05:29:31.865155Z",
     "iopub.status.idle": "2022-04-17T05:29:31.869184Z",
     "shell.execute_reply": "2022-04-17T05:29:31.868278Z"
    },
    "id": "FP2J1a09lEFc",
    "outputId": "9a31fc88-afde-41b3-924e-2d43a303a33f",
    "papermill": {
     "duration": 0.144124,
     "end_time": "2022-04-17T05:29:31.871213",
     "exception": false,
     "start_time": "2022-04-17T05:29:31.727089",
     "status": "completed"
    },
    "tags": []
   },
   "outputs": [],
   "source": [
    "combined = df, df_test"
   ]
  },
  {
   "cell_type": "code",
   "execution_count": 55,
   "id": "e41360e0",
   "metadata": {
    "execution": {
     "iopub.execute_input": "2022-04-17T05:29:32.145901Z",
     "iopub.status.busy": "2022-04-17T05:29:32.145156Z",
     "iopub.status.idle": "2022-04-17T05:29:32.150887Z",
     "shell.execute_reply": "2022-04-17T05:29:32.150271Z"
    },
    "id": "IbP9tiwPd8O0",
    "papermill": {
     "duration": 0.143547,
     "end_time": "2022-04-17T05:29:32.152784",
     "exception": false,
     "start_time": "2022-04-17T05:29:32.009237",
     "status": "completed"
    },
    "tags": []
   },
   "outputs": [],
   "source": [
    "for dataset in combined:\n",
    "    dataset = dataset.drop(['SibSp', 'Parch', 'Ticket'], axis=1)"
   ]
  },
  {
   "cell_type": "code",
   "execution_count": 56,
   "id": "1e13a8bf",
   "metadata": {
    "execution": {
     "iopub.execute_input": "2022-04-17T05:29:32.422963Z",
     "iopub.status.busy": "2022-04-17T05:29:32.422438Z",
     "iopub.status.idle": "2022-04-17T05:29:32.450886Z",
     "shell.execute_reply": "2022-04-17T05:29:32.450283Z"
    },
    "papermill": {
     "duration": 0.166029,
     "end_time": "2022-04-17T05:29:32.452548",
     "exception": false,
     "start_time": "2022-04-17T05:29:32.286519",
     "status": "completed"
    },
    "tags": []
   },
   "outputs": [
    {
     "data": {
      "text/html": [
       "<div>\n",
       "<style scoped>\n",
       "    .dataframe tbody tr th:only-of-type {\n",
       "        vertical-align: middle;\n",
       "    }\n",
       "\n",
       "    .dataframe tbody tr th {\n",
       "        vertical-align: top;\n",
       "    }\n",
       "\n",
       "    .dataframe thead th {\n",
       "        text-align: right;\n",
       "    }\n",
       "</style>\n",
       "<table border=\"1\" class=\"dataframe\">\n",
       "  <thead>\n",
       "    <tr style=\"text-align: right;\">\n",
       "      <th></th>\n",
       "      <th>Pclass</th>\n",
       "      <th>Sex</th>\n",
       "      <th>Age</th>\n",
       "      <th>SibSp</th>\n",
       "      <th>Parch</th>\n",
       "      <th>Ticket</th>\n",
       "      <th>Fare</th>\n",
       "      <th>Embarked</th>\n",
       "      <th>FamilySize</th>\n",
       "      <th>FamilyGroup</th>\n",
       "      <th>Deck</th>\n",
       "      <th>TicketFrequency</th>\n",
       "      <th>Title</th>\n",
       "    </tr>\n",
       "  </thead>\n",
       "  <tbody>\n",
       "    <tr>\n",
       "      <th>0</th>\n",
       "      <td>0.0</td>\n",
       "      <td>0.0</td>\n",
       "      <td>1.0</td>\n",
       "      <td>1.0</td>\n",
       "      <td>0.0</td>\n",
       "      <td>681.0</td>\n",
       "      <td>9.0</td>\n",
       "      <td>2</td>\n",
       "      <td>1.0</td>\n",
       "      <td>0.0</td>\n",
       "      <td>0.0</td>\n",
       "      <td>0.0</td>\n",
       "      <td>0.0</td>\n",
       "    </tr>\n",
       "    <tr>\n",
       "      <th>1</th>\n",
       "      <td>0.0</td>\n",
       "      <td>1.0</td>\n",
       "      <td>9.0</td>\n",
       "      <td>0.0</td>\n",
       "      <td>0.0</td>\n",
       "      <td>682.0</td>\n",
       "      <td>10.0</td>\n",
       "      <td>0</td>\n",
       "      <td>0.0</td>\n",
       "      <td>0.0</td>\n",
       "      <td>1.0</td>\n",
       "      <td>0.0</td>\n",
       "      <td>1.0</td>\n",
       "    </tr>\n",
       "    <tr>\n",
       "      <th>2</th>\n",
       "      <td>2.0</td>\n",
       "      <td>0.0</td>\n",
       "      <td>4.0</td>\n",
       "      <td>1.0</td>\n",
       "      <td>0.0</td>\n",
       "      <td>683.0</td>\n",
       "      <td>4.0</td>\n",
       "      <td>2</td>\n",
       "      <td>1.0</td>\n",
       "      <td>1.0</td>\n",
       "      <td>0.0</td>\n",
       "      <td>0.0</td>\n",
       "      <td>0.0</td>\n",
       "    </tr>\n",
       "    <tr>\n",
       "      <th>3</th>\n",
       "      <td>0.0</td>\n",
       "      <td>0.0</td>\n",
       "      <td>6.0</td>\n",
       "      <td>1.0</td>\n",
       "      <td>0.0</td>\n",
       "      <td>684.0</td>\n",
       "      <td>4.0</td>\n",
       "      <td>0</td>\n",
       "      <td>1.0</td>\n",
       "      <td>0.0</td>\n",
       "      <td>1.0</td>\n",
       "      <td>0.0</td>\n",
       "      <td>0.0</td>\n",
       "    </tr>\n",
       "    <tr>\n",
       "      <th>4</th>\n",
       "      <td>0.0</td>\n",
       "      <td>1.0</td>\n",
       "      <td>0.0</td>\n",
       "      <td>0.0</td>\n",
       "      <td>1.0</td>\n",
       "      <td>405.0</td>\n",
       "      <td>6.0</td>\n",
       "      <td>0</td>\n",
       "      <td>3.0</td>\n",
       "      <td>1.0</td>\n",
       "      <td>0.0</td>\n",
       "      <td>0.0</td>\n",
       "      <td>1.0</td>\n",
       "    </tr>\n",
       "    <tr>\n",
       "      <th>...</th>\n",
       "      <td>...</td>\n",
       "      <td>...</td>\n",
       "      <td>...</td>\n",
       "      <td>...</td>\n",
       "      <td>...</td>\n",
       "      <td>...</td>\n",
       "      <td>...</td>\n",
       "      <td>...</td>\n",
       "      <td>...</td>\n",
       "      <td>...</td>\n",
       "      <td>...</td>\n",
       "      <td>...</td>\n",
       "      <td>...</td>\n",
       "    </tr>\n",
       "    <tr>\n",
       "      <th>413</th>\n",
       "      <td>0.0</td>\n",
       "      <td>0.0</td>\n",
       "      <td>3.0</td>\n",
       "      <td>1.0</td>\n",
       "      <td>0.0</td>\n",
       "      <td>926.0</td>\n",
       "      <td>2.0</td>\n",
       "      <td>0</td>\n",
       "      <td>1.0</td>\n",
       "      <td>1.0</td>\n",
       "      <td>0.0</td>\n",
       "      <td>0.0</td>\n",
       "      <td>0.0</td>\n",
       "    </tr>\n",
       "    <tr>\n",
       "      <th>414</th>\n",
       "      <td>1.0</td>\n",
       "      <td>1.0</td>\n",
       "      <td>1.0</td>\n",
       "      <td>1.0</td>\n",
       "      <td>0.0</td>\n",
       "      <td>273.0</td>\n",
       "      <td>11.0</td>\n",
       "      <td>1</td>\n",
       "      <td>1.0</td>\n",
       "      <td>1.0</td>\n",
       "      <td>0.0</td>\n",
       "      <td>0.0</td>\n",
       "      <td>5.0</td>\n",
       "    </tr>\n",
       "    <tr>\n",
       "      <th>415</th>\n",
       "      <td>0.0</td>\n",
       "      <td>0.0</td>\n",
       "      <td>1.0</td>\n",
       "      <td>1.0</td>\n",
       "      <td>0.0</td>\n",
       "      <td>927.0</td>\n",
       "      <td>0.0</td>\n",
       "      <td>0</td>\n",
       "      <td>1.0</td>\n",
       "      <td>1.0</td>\n",
       "      <td>0.0</td>\n",
       "      <td>0.0</td>\n",
       "      <td>0.0</td>\n",
       "    </tr>\n",
       "    <tr>\n",
       "      <th>416</th>\n",
       "      <td>0.0</td>\n",
       "      <td>0.0</td>\n",
       "      <td>3.0</td>\n",
       "      <td>1.0</td>\n",
       "      <td>0.0</td>\n",
       "      <td>928.0</td>\n",
       "      <td>2.0</td>\n",
       "      <td>0</td>\n",
       "      <td>1.0</td>\n",
       "      <td>0.0</td>\n",
       "      <td>0.0</td>\n",
       "      <td>0.0</td>\n",
       "      <td>0.0</td>\n",
       "    </tr>\n",
       "    <tr>\n",
       "      <th>417</th>\n",
       "      <td>0.0</td>\n",
       "      <td>0.0</td>\n",
       "      <td>3.0</td>\n",
       "      <td>0.0</td>\n",
       "      <td>1.0</td>\n",
       "      <td>119.0</td>\n",
       "      <td>5.0</td>\n",
       "      <td>1</td>\n",
       "      <td>3.0</td>\n",
       "      <td>0.0</td>\n",
       "      <td>0.0</td>\n",
       "      <td>0.0</td>\n",
       "      <td>3.0</td>\n",
       "    </tr>\n",
       "  </tbody>\n",
       "</table>\n",
       "<p>418 rows × 13 columns</p>\n",
       "</div>"
      ],
      "text/plain": [
       "     Pclass  Sex  Age  SibSp  Parch  Ticket  Fare  Embarked  FamilySize  \\\n",
       "0       0.0  0.0  1.0    1.0    0.0   681.0   9.0         2         1.0   \n",
       "1       0.0  1.0  9.0    0.0    0.0   682.0  10.0         0         0.0   \n",
       "2       2.0  0.0  4.0    1.0    0.0   683.0   4.0         2         1.0   \n",
       "3       0.0  0.0  6.0    1.0    0.0   684.0   4.0         0         1.0   \n",
       "4       0.0  1.0  0.0    0.0    1.0   405.0   6.0         0         3.0   \n",
       "..      ...  ...  ...    ...    ...     ...   ...       ...         ...   \n",
       "413     0.0  0.0  3.0    1.0    0.0   926.0   2.0         0         1.0   \n",
       "414     1.0  1.0  1.0    1.0    0.0   273.0  11.0         1         1.0   \n",
       "415     0.0  0.0  1.0    1.0    0.0   927.0   0.0         0         1.0   \n",
       "416     0.0  0.0  3.0    1.0    0.0   928.0   2.0         0         1.0   \n",
       "417     0.0  0.0  3.0    0.0    1.0   119.0   5.0         1         3.0   \n",
       "\n",
       "     FamilyGroup  Deck  TicketFrequency  Title  \n",
       "0            0.0   0.0              0.0    0.0  \n",
       "1            0.0   1.0              0.0    1.0  \n",
       "2            1.0   0.0              0.0    0.0  \n",
       "3            0.0   1.0              0.0    0.0  \n",
       "4            1.0   0.0              0.0    1.0  \n",
       "..           ...   ...              ...    ...  \n",
       "413          1.0   0.0              0.0    0.0  \n",
       "414          1.0   0.0              0.0    5.0  \n",
       "415          1.0   0.0              0.0    0.0  \n",
       "416          0.0   0.0              0.0    0.0  \n",
       "417          0.0   0.0              0.0    3.0  \n",
       "\n",
       "[418 rows x 13 columns]"
      ]
     },
     "execution_count": 56,
     "metadata": {},
     "output_type": "execute_result"
    }
   ],
   "source": [
    "df_test"
   ]
  },
  {
   "cell_type": "code",
   "execution_count": 57,
   "id": "547bf667",
   "metadata": {
    "execution": {
     "iopub.execute_input": "2022-04-17T05:29:32.724042Z",
     "iopub.status.busy": "2022-04-17T05:29:32.723438Z",
     "iopub.status.idle": "2022-04-17T05:29:33.748391Z",
     "shell.execute_reply": "2022-04-17T05:29:33.747463Z"
    },
    "id": "yQY-eDmpvmB4",
    "papermill": {
     "duration": 1.163719,
     "end_time": "2022-04-17T05:29:33.750819",
     "exception": false,
     "start_time": "2022-04-17T05:29:32.587100",
     "status": "completed"
    },
    "tags": []
   },
   "outputs": [],
   "source": [
    "from torch.nn import *\n",
    "from torch import nn"
   ]
  },
  {
   "cell_type": "code",
   "execution_count": 58,
   "id": "97dbbbb2",
   "metadata": {
    "execution": {
     "iopub.execute_input": "2022-04-17T05:29:34.074641Z",
     "iopub.status.busy": "2022-04-17T05:29:34.074289Z",
     "iopub.status.idle": "2022-04-17T05:29:34.248465Z",
     "shell.execute_reply": "2022-04-17T05:29:34.247451Z"
    },
    "id": "sCqvCatNdRwA",
    "papermill": {
     "duration": 0.363557,
     "end_time": "2022-04-17T05:29:34.251724",
     "exception": false,
     "start_time": "2022-04-17T05:29:33.888167",
     "status": "completed"
    },
    "tags": []
   },
   "outputs": [],
   "source": [
    "from torch.utils.data import Dataset\n",
    "from torch.utils.data import DataLoader\n",
    "import torch\n",
    "from fastai.tabular.all import *"
   ]
  },
  {
   "cell_type": "code",
   "execution_count": 59,
   "id": "18230ef7",
   "metadata": {
    "execution": {
     "iopub.execute_input": "2022-04-17T05:29:34.533416Z",
     "iopub.status.busy": "2022-04-17T05:29:34.532705Z",
     "iopub.status.idle": "2022-04-17T05:29:34.547690Z",
     "shell.execute_reply": "2022-04-17T05:29:34.546941Z"
    },
    "id": "iVvb5NIslsVH",
    "outputId": "762ee406-fe9c-4e50-ead3-2f1e8a3c2161",
    "papermill": {
     "duration": 0.154672,
     "end_time": "2022-04-17T05:29:34.549702",
     "exception": false,
     "start_time": "2022-04-17T05:29:34.395030",
     "status": "completed"
    },
    "tags": []
   },
   "outputs": [
    {
     "data": {
      "text/plain": [
       "3"
      ]
     },
     "execution_count": 59,
     "metadata": {},
     "output_type": "execute_result"
    }
   ],
   "source": [
    "cat = df[['Pclass', 'Sex', 'SibSp', 'Parch', 'Embarked', 'Title']]\n",
    "cont = df[['Age', 'Fare']]\n",
    "cat.join(cont).iloc[0]\n",
    "dv = df['Survived']\n",
    "dv.iloc[0]\n",
    "df.index[3]"
   ]
  },
  {
   "cell_type": "code",
   "execution_count": null,
   "id": "1046800f",
   "metadata": {
    "papermill": {
     "duration": 0.138293,
     "end_time": "2022-04-17T05:29:34.823574",
     "exception": false,
     "start_time": "2022-04-17T05:29:34.685281",
     "status": "completed"
    },
    "tags": []
   },
   "outputs": [],
   "source": []
  },
  {
   "cell_type": "code",
   "execution_count": 60,
   "id": "3e3fa8a0",
   "metadata": {
    "execution": {
     "iopub.execute_input": "2022-04-17T05:29:35.104046Z",
     "iopub.status.busy": "2022-04-17T05:29:35.103506Z",
     "iopub.status.idle": "2022-04-17T05:29:35.108815Z",
     "shell.execute_reply": "2022-04-17T05:29:35.107684Z"
    },
    "id": "r5iKlPmmnUUz",
    "papermill": {
     "duration": 0.147678,
     "end_time": "2022-04-17T05:29:35.111300",
     "exception": false,
     "start_time": "2022-04-17T05:29:34.963622",
     "status": "completed"
    },
    "tags": []
   },
   "outputs": [],
   "source": [
    "def randomSplit(df, valid_ratio=0.2, random_state=None):\n",
    "    split_idx = int(len(df.index)*(valid_ratio))\n",
    "    shuffled_df = df.sample(frac=1, random_state=random_state)\n",
    "    return shuffled_df.iloc[split_idx:], shuffled_df[:split_idx]"
   ]
  },
  {
   "cell_type": "code",
   "execution_count": 61,
   "id": "21b27b53",
   "metadata": {
    "execution": {
     "iopub.execute_input": "2022-04-17T05:29:35.384897Z",
     "iopub.status.busy": "2022-04-17T05:29:35.384583Z",
     "iopub.status.idle": "2022-04-17T05:29:35.394061Z",
     "shell.execute_reply": "2022-04-17T05:29:35.392846Z"
    },
    "id": "1lSV1oU8bwAM",
    "papermill": {
     "duration": 0.148644,
     "end_time": "2022-04-17T05:29:35.396128",
     "exception": false,
     "start_time": "2022-04-17T05:29:35.247484",
     "status": "completed"
    },
    "tags": []
   },
   "outputs": [],
   "source": [
    "class TitanicDataset(Dataset):\n",
    "    def __init__(self, df, is_test=False):\n",
    "        self.is_test = is_test\n",
    "        self.df = df.copy()\n",
    "        self.cat = self.df[['Pclass', 'Sex', 'Embarked', 'Title', 'FamilyGroup', 'Deck' ,'Age', 'Fare', 'TicketFrequency', 'FamilySize']].astype(int)\n",
    "        self.cont = self.df[[]]\n",
    "        self.res_df = self.cat.join(self.cont)\n",
    "        if not(is_test):\n",
    "            self.dep_var = self.df['Survived'].astype(int)\n",
    "        self.columns = self.res_df.columns\n",
    "    def __len__(self):\n",
    "        return len(self.df)\n",
    "    def __getitem__(self, idx):\n",
    "        if self.is_test:\n",
    "            return self.res_df.iloc[idx].values\n",
    "        else:\n",
    "            return self.res_df.iloc[idx].values, self.dep_var.iloc[idx]"
   ]
  },
  {
   "cell_type": "code",
   "execution_count": 62,
   "id": "fb68c920",
   "metadata": {
    "execution": {
     "iopub.execute_input": "2022-04-17T05:29:35.671185Z",
     "iopub.status.busy": "2022-04-17T05:29:35.670619Z",
     "iopub.status.idle": "2022-04-17T05:29:35.676420Z",
     "shell.execute_reply": "2022-04-17T05:29:35.675724Z"
    },
    "id": "p1ihRqhs2kz-",
    "papermill": {
     "duration": 0.14667,
     "end_time": "2022-04-17T05:29:35.678498",
     "exception": false,
     "start_time": "2022-04-17T05:29:35.531828",
     "status": "completed"
    },
    "tags": []
   },
   "outputs": [],
   "source": [
    "train_df, valid_df = randomSplit(df)"
   ]
  },
  {
   "cell_type": "code",
   "execution_count": 63,
   "id": "1d93fa23",
   "metadata": {
    "execution": {
     "iopub.execute_input": "2022-04-17T05:29:35.956850Z",
     "iopub.status.busy": "2022-04-17T05:29:35.956366Z",
     "iopub.status.idle": "2022-04-17T05:29:35.986080Z",
     "shell.execute_reply": "2022-04-17T05:29:35.985037Z"
    },
    "id": "XTcoFKendkpz",
    "papermill": {
     "duration": 0.172559,
     "end_time": "2022-04-17T05:29:35.988148",
     "exception": false,
     "start_time": "2022-04-17T05:29:35.815589",
     "status": "completed"
    },
    "tags": []
   },
   "outputs": [
    {
     "data": {
      "text/html": [
       "<div>\n",
       "<style scoped>\n",
       "    .dataframe tbody tr th:only-of-type {\n",
       "        vertical-align: middle;\n",
       "    }\n",
       "\n",
       "    .dataframe tbody tr th {\n",
       "        vertical-align: top;\n",
       "    }\n",
       "\n",
       "    .dataframe thead th {\n",
       "        text-align: right;\n",
       "    }\n",
       "</style>\n",
       "<table border=\"1\" class=\"dataframe\">\n",
       "  <thead>\n",
       "    <tr style=\"text-align: right;\">\n",
       "      <th></th>\n",
       "      <th>Pclass</th>\n",
       "      <th>Sex</th>\n",
       "      <th>Embarked</th>\n",
       "      <th>Title</th>\n",
       "      <th>FamilyGroup</th>\n",
       "      <th>Deck</th>\n",
       "      <th>Age</th>\n",
       "      <th>Fare</th>\n",
       "      <th>TicketFrequency</th>\n",
       "      <th>FamilySize</th>\n",
       "    </tr>\n",
       "  </thead>\n",
       "  <tbody>\n",
       "    <tr>\n",
       "      <th>287</th>\n",
       "      <td>0</td>\n",
       "      <td>0</td>\n",
       "      <td>0</td>\n",
       "      <td>0</td>\n",
       "      <td>1</td>\n",
       "      <td>0</td>\n",
       "      <td>0</td>\n",
       "      <td>9</td>\n",
       "      <td>0</td>\n",
       "      <td>1</td>\n",
       "    </tr>\n",
       "    <tr>\n",
       "      <th>522</th>\n",
       "      <td>0</td>\n",
       "      <td>0</td>\n",
       "      <td>1</td>\n",
       "      <td>0</td>\n",
       "      <td>1</td>\n",
       "      <td>0</td>\n",
       "      <td>3</td>\n",
       "      <td>10</td>\n",
       "      <td>0</td>\n",
       "      <td>1</td>\n",
       "    </tr>\n",
       "    <tr>\n",
       "      <th>134</th>\n",
       "      <td>2</td>\n",
       "      <td>0</td>\n",
       "      <td>0</td>\n",
       "      <td>0</td>\n",
       "      <td>1</td>\n",
       "      <td>0</td>\n",
       "      <td>3</td>\n",
       "      <td>6</td>\n",
       "      <td>0</td>\n",
       "      <td>1</td>\n",
       "    </tr>\n",
       "    <tr>\n",
       "      <th>589</th>\n",
       "      <td>0</td>\n",
       "      <td>0</td>\n",
       "      <td>0</td>\n",
       "      <td>0</td>\n",
       "      <td>1</td>\n",
       "      <td>0</td>\n",
       "      <td>3</td>\n",
       "      <td>2</td>\n",
       "      <td>0</td>\n",
       "      <td>1</td>\n",
       "    </tr>\n",
       "    <tr>\n",
       "      <th>593</th>\n",
       "      <td>0</td>\n",
       "      <td>1</td>\n",
       "      <td>2</td>\n",
       "      <td>2</td>\n",
       "      <td>0</td>\n",
       "      <td>0</td>\n",
       "      <td>0</td>\n",
       "      <td>0</td>\n",
       "      <td>0</td>\n",
       "      <td>3</td>\n",
       "    </tr>\n",
       "    <tr>\n",
       "      <th>...</th>\n",
       "      <td>...</td>\n",
       "      <td>...</td>\n",
       "      <td>...</td>\n",
       "      <td>...</td>\n",
       "      <td>...</td>\n",
       "      <td>...</td>\n",
       "      <td>...</td>\n",
       "      <td>...</td>\n",
       "      <td>...</td>\n",
       "      <td>...</td>\n",
       "    </tr>\n",
       "    <tr>\n",
       "      <th>686</th>\n",
       "      <td>0</td>\n",
       "      <td>0</td>\n",
       "      <td>0</td>\n",
       "      <td>0</td>\n",
       "      <td>2</td>\n",
       "      <td>0</td>\n",
       "      <td>5</td>\n",
       "      <td>3</td>\n",
       "      <td>6</td>\n",
       "      <td>5</td>\n",
       "    </tr>\n",
       "    <tr>\n",
       "      <th>167</th>\n",
       "      <td>0</td>\n",
       "      <td>1</td>\n",
       "      <td>0</td>\n",
       "      <td>1</td>\n",
       "      <td>2</td>\n",
       "      <td>0</td>\n",
       "      <td>9</td>\n",
       "      <td>7</td>\n",
       "      <td>6</td>\n",
       "      <td>5</td>\n",
       "    </tr>\n",
       "    <tr>\n",
       "      <th>824</th>\n",
       "      <td>0</td>\n",
       "      <td>0</td>\n",
       "      <td>0</td>\n",
       "      <td>3</td>\n",
       "      <td>2</td>\n",
       "      <td>0</td>\n",
       "      <td>5</td>\n",
       "      <td>3</td>\n",
       "      <td>6</td>\n",
       "      <td>5</td>\n",
       "    </tr>\n",
       "    <tr>\n",
       "      <th>480</th>\n",
       "      <td>0</td>\n",
       "      <td>0</td>\n",
       "      <td>0</td>\n",
       "      <td>3</td>\n",
       "      <td>3</td>\n",
       "      <td>0</td>\n",
       "      <td>5</td>\n",
       "      <td>3</td>\n",
       "      <td>6</td>\n",
       "      <td>7</td>\n",
       "    </tr>\n",
       "    <tr>\n",
       "      <th>683</th>\n",
       "      <td>0</td>\n",
       "      <td>0</td>\n",
       "      <td>0</td>\n",
       "      <td>0</td>\n",
       "      <td>3</td>\n",
       "      <td>0</td>\n",
       "      <td>5</td>\n",
       "      <td>3</td>\n",
       "      <td>6</td>\n",
       "      <td>7</td>\n",
       "    </tr>\n",
       "  </tbody>\n",
       "</table>\n",
       "<p>713 rows × 10 columns</p>\n",
       "</div>"
      ],
      "text/plain": [
       "     Pclass  Sex  Embarked  Title  FamilyGroup  Deck  Age  Fare  \\\n",
       "287       0    0         0      0            1     0    0     9   \n",
       "522       0    0         1      0            1     0    3    10   \n",
       "134       2    0         0      0            1     0    3     6   \n",
       "589       0    0         0      0            1     0    3     2   \n",
       "593       0    1         2      2            0     0    0     0   \n",
       "..      ...  ...       ...    ...          ...   ...  ...   ...   \n",
       "686       0    0         0      0            2     0    5     3   \n",
       "167       0    1         0      1            2     0    9     7   \n",
       "824       0    0         0      3            2     0    5     3   \n",
       "480       0    0         0      3            3     0    5     3   \n",
       "683       0    0         0      0            3     0    5     3   \n",
       "\n",
       "     TicketFrequency  FamilySize  \n",
       "287                0           1  \n",
       "522                0           1  \n",
       "134                0           1  \n",
       "589                0           1  \n",
       "593                0           3  \n",
       "..               ...         ...  \n",
       "686                6           5  \n",
       "167                6           5  \n",
       "824                6           5  \n",
       "480                6           7  \n",
       "683                6           7  \n",
       "\n",
       "[713 rows x 10 columns]"
      ]
     },
     "execution_count": 63,
     "metadata": {},
     "output_type": "execute_result"
    }
   ],
   "source": [
    "full_td = TitanicDataset(df)\n",
    "td = TitanicDataset(train_df)\n",
    "valid_td = TitanicDataset(valid_df)\n",
    "test_ds = TitanicDataset(df_test, is_test=True)\n",
    "in_columns = td.columns\n",
    "cat_columns = td.cat.columns\n",
    "cat_n = len(td.cat.columns)\n",
    "cont_n = len(td.cont.columns)\n",
    "td.res_df.sort_values('TicketFrequency')"
   ]
  },
  {
   "cell_type": "code",
   "execution_count": 64,
   "id": "4900ff03",
   "metadata": {
    "execution": {
     "iopub.execute_input": "2022-04-17T05:29:36.263550Z",
     "iopub.status.busy": "2022-04-17T05:29:36.263228Z",
     "iopub.status.idle": "2022-04-17T05:29:36.267991Z",
     "shell.execute_reply": "2022-04-17T05:29:36.267100Z"
    },
    "id": "IF6pEYPndx2Q",
    "papermill": {
     "duration": 0.145068,
     "end_time": "2022-04-17T05:29:36.270193",
     "exception": false,
     "start_time": "2022-04-17T05:29:36.125125",
     "status": "completed"
    },
    "tags": []
   },
   "outputs": [],
   "source": [
    "dl = DataLoader(td, batch_size=64)\n",
    "valid_dl = DataLoader(valid_td, batch_size=64)"
   ]
  },
  {
   "cell_type": "code",
   "execution_count": 65,
   "id": "858e74a7",
   "metadata": {
    "execution": {
     "iopub.execute_input": "2022-04-17T05:29:36.555189Z",
     "iopub.status.busy": "2022-04-17T05:29:36.554669Z",
     "iopub.status.idle": "2022-04-17T05:29:36.559232Z",
     "shell.execute_reply": "2022-04-17T05:29:36.558343Z"
    },
    "id": "C-Z5pgpf2085",
    "papermill": {
     "duration": 0.15357,
     "end_time": "2022-04-17T05:29:36.561331",
     "exception": false,
     "start_time": "2022-04-17T05:29:36.407761",
     "status": "completed"
    },
    "tags": []
   },
   "outputs": [],
   "source": [
    "iterdl = iter(dl)"
   ]
  },
  {
   "cell_type": "code",
   "execution_count": 66,
   "id": "80954003",
   "metadata": {
    "execution": {
     "iopub.execute_input": "2022-04-17T05:29:36.852892Z",
     "iopub.status.busy": "2022-04-17T05:29:36.852344Z",
     "iopub.status.idle": "2022-04-17T05:29:36.916404Z",
     "shell.execute_reply": "2022-04-17T05:29:36.915553Z"
    },
    "papermill": {
     "duration": 0.213747,
     "end_time": "2022-04-17T05:29:36.918528",
     "exception": false,
     "start_time": "2022-04-17T05:29:36.704781",
     "status": "completed"
    },
    "tags": []
   },
   "outputs": [
    {
     "data": {
      "text/plain": [
       "tensor([1, 0, 0, 0, 4, 3, 0, 0, 0, 0, 0, 0, 0, 2, 0, 0, 0, 0, 1, 3, 0, 1, 1, 3,\n",
       "        1, 0, 2, 2, 0, 0, 0, 0, 0, 6, 0, 3, 1, 4, 3, 1, 1, 0, 0, 0, 0, 0, 0, 0,\n",
       "        0, 6, 1, 6, 6, 0, 3, 3, 0, 0, 0, 0, 0, 3, 0, 0])"
      ]
     },
     "execution_count": 66,
     "metadata": {},
     "output_type": "execute_result"
    }
   ],
   "source": [
    "next(iterdl)[0][:, 8]"
   ]
  },
  {
   "cell_type": "code",
   "execution_count": 67,
   "id": "2cea6da3",
   "metadata": {
    "execution": {
     "iopub.execute_input": "2022-04-17T05:29:37.194639Z",
     "iopub.status.busy": "2022-04-17T05:29:37.194135Z",
     "iopub.status.idle": "2022-04-17T05:29:37.240206Z",
     "shell.execute_reply": "2022-04-17T05:29:37.239394Z"
    },
    "id": "_Somo8hF269x",
    "papermill": {
     "duration": 0.185844,
     "end_time": "2022-04-17T05:29:37.242210",
     "exception": false,
     "start_time": "2022-04-17T05:29:37.056366",
     "status": "completed"
    },
    "tags": []
   },
   "outputs": [
    {
     "data": {
      "text/plain": [
       "(418, 10)"
      ]
     },
     "execution_count": 67,
     "metadata": {},
     "output_type": "execute_result"
    }
   ],
   "source": [
    "np.array(test_ds).shape"
   ]
  },
  {
   "cell_type": "code",
   "execution_count": 68,
   "id": "be9ccc3b",
   "metadata": {
    "execution": {
     "iopub.execute_input": "2022-04-17T05:29:37.523401Z",
     "iopub.status.busy": "2022-04-17T05:29:37.522891Z",
     "iopub.status.idle": "2022-04-17T05:29:37.534648Z",
     "shell.execute_reply": "2022-04-17T05:29:37.534041Z"
    },
    "id": "NcJc91Aqn1GJ",
    "papermill": {
     "duration": 0.156073,
     "end_time": "2022-04-17T05:29:37.536670",
     "exception": false,
     "start_time": "2022-04-17T05:29:37.380597",
     "status": "completed"
    },
    "tags": []
   },
   "outputs": [],
   "source": [
    "voc = []\n",
    "for s in cat_columns:\n",
    "    vn = pd.concat([td.cat[s], valid_td.cat[s], test_ds.cat[s]])\n",
    "    vn = vn.astype(int).nunique()\n",
    "    voc.append([vn, vn])\n"
   ]
  },
  {
   "cell_type": "code",
   "execution_count": 69,
   "id": "5bfdb447",
   "metadata": {
    "execution": {
     "iopub.execute_input": "2022-04-17T05:29:37.817598Z",
     "iopub.status.busy": "2022-04-17T05:29:37.816750Z",
     "iopub.status.idle": "2022-04-17T05:29:37.823317Z",
     "shell.execute_reply": "2022-04-17T05:29:37.822640Z"
    },
    "id": "J12RmbwluPKD",
    "outputId": "ca50b868-385e-4f83-8287-84e30513cec2",
    "papermill": {
     "duration": 0.148933,
     "end_time": "2022-04-17T05:29:37.825223",
     "exception": false,
     "start_time": "2022-04-17T05:29:37.676290",
     "status": "completed"
    },
    "tags": []
   },
   "outputs": [
    {
     "data": {
      "text/plain": [
       "[[3, 3],\n",
       " [2, 2],\n",
       " [3, 3],\n",
       " [6, 6],\n",
       " [4, 4],\n",
       " [9, 9],\n",
       " [11, 11],\n",
       " [14, 14],\n",
       " [7, 7],\n",
       " [9, 9]]"
      ]
     },
     "execution_count": 69,
     "metadata": {},
     "output_type": "execute_result"
    }
   ],
   "source": [
    "voc"
   ]
  },
  {
   "cell_type": "code",
   "execution_count": 70,
   "id": "3dd99c73",
   "metadata": {
    "execution": {
     "iopub.execute_input": "2022-04-17T05:29:38.104475Z",
     "iopub.status.busy": "2022-04-17T05:29:38.104162Z",
     "iopub.status.idle": "2022-04-17T05:29:38.117490Z",
     "shell.execute_reply": "2022-04-17T05:29:38.116884Z"
    },
    "id": "0SBg7b0ilJyB",
    "papermill": {
     "duration": 0.155315,
     "end_time": "2022-04-17T05:29:38.119531",
     "exception": false,
     "start_time": "2022-04-17T05:29:37.964216",
     "status": "completed"
    },
    "tags": []
   },
   "outputs": [],
   "source": [
    "class TabModel(Module):\n",
    "    def __init__(self, emb_sz, cat_n, cont_n, layers):\n",
    "        super(TabModel, self).__init__()\n",
    "        self.cat_n = cat_n\n",
    "        self.cont_n = cont_n\n",
    "        self.embeddings = nn.ModuleList(nn.Embedding(ni, nf) for ni, nf in emb_sz)\n",
    "        cat_len = sum([x for _, x in emb_sz])\n",
    "        self.emb_drop = nn.Dropout(0.2)\n",
    "        self.linear_drop = nn.Dropout(0.5)\n",
    "        model = []\n",
    "        model.append(nn.BatchNorm1d(cat_len+cont_n))\n",
    "        model.append(self.linear_drop)\n",
    "        model.append(nn.Linear(cat_len+cont_n, layers[0]))\n",
    "        model.append(nn.Mish())\n",
    "        for i in range(len(layers)-2):\n",
    "            model.append(nn.BatchNorm1d(layers[i]))\n",
    "            model.append(self.linear_drop)\n",
    "            model.append(nn.Linear(layers[i], layers[i+1]))\n",
    "            model.append(nn.Mish())\n",
    "        self.linear = nn.Sequential(*model)\n",
    "        self.final_layer = nn.Linear(layers[-2], layers[-1])\n",
    "        \n",
    "    def forward(self, x):\n",
    "        emb = []\n",
    "        for i in range(self.cat_n):\n",
    "            emb.append(self.embeddings[i](x[:,i].int()))\n",
    "        for i in range(self.cat_n, self.cat_n+self.cont_n):\n",
    "            emb.append(x[:,i].unsqueeze(1))\n",
    "        input = torch.cat(emb, dim=1).float()\n",
    "        res = self.linear(input)\n",
    "        res = self.final_layer(res)\n",
    "        return res\n"
   ]
  },
  {
   "cell_type": "code",
   "execution_count": 71,
   "id": "0b285e48",
   "metadata": {
    "execution": {
     "iopub.execute_input": "2022-04-17T05:29:38.397850Z",
     "iopub.status.busy": "2022-04-17T05:29:38.397322Z",
     "iopub.status.idle": "2022-04-17T05:29:38.420553Z",
     "shell.execute_reply": "2022-04-17T05:29:38.419620Z"
    },
    "id": "Pgyp6Ntynyo_",
    "papermill": {
     "duration": 0.165092,
     "end_time": "2022-04-17T05:29:38.423267",
     "exception": false,
     "start_time": "2022-04-17T05:29:38.258175",
     "status": "completed"
    },
    "tags": []
   },
   "outputs": [],
   "source": [
    "tabmodel = TabModel(voc, cat_n, cont_n, (400, 300, 200, 100, 2)).to(device)"
   ]
  },
  {
   "cell_type": "code",
   "execution_count": 72,
   "id": "9ad5fd7c",
   "metadata": {
    "execution": {
     "iopub.execute_input": "2022-04-17T05:29:38.732116Z",
     "iopub.status.busy": "2022-04-17T05:29:38.731799Z",
     "iopub.status.idle": "2022-04-17T05:29:38.737186Z",
     "shell.execute_reply": "2022-04-17T05:29:38.736258Z"
    },
    "id": "azJH5KCv0Nu3",
    "outputId": "6158c43f-5850-417b-ca72-efef5f5f0cc0",
    "papermill": {
     "duration": 0.172046,
     "end_time": "2022-04-17T05:29:38.739745",
     "exception": false,
     "start_time": "2022-04-17T05:29:38.567699",
     "status": "completed"
    },
    "tags": []
   },
   "outputs": [
    {
     "name": "stdout",
     "output_type": "stream",
     "text": [
      "TabModel(\n",
      "  (embeddings): ModuleList(\n",
      "    (0): Embedding(3, 3)\n",
      "    (1): Embedding(2, 2)\n",
      "    (2): Embedding(3, 3)\n",
      "    (3): Embedding(6, 6)\n",
      "    (4): Embedding(4, 4)\n",
      "    (5): Embedding(9, 9)\n",
      "    (6): Embedding(11, 11)\n",
      "    (7): Embedding(14, 14)\n",
      "    (8): Embedding(7, 7)\n",
      "    (9): Embedding(9, 9)\n",
      "  )\n",
      "  (emb_drop): Dropout(p=0.2, inplace=False)\n",
      "  (linear_drop): Dropout(p=0.5, inplace=False)\n",
      "  (linear): Sequential(\n",
      "    (0): BatchNorm1d(68, eps=1e-05, momentum=0.1, affine=True, track_running_stats=True)\n",
      "    (1): Dropout(p=0.5, inplace=False)\n",
      "    (2): Linear(in_features=68, out_features=400, bias=True)\n",
      "    (3): Mish()\n",
      "    (4): BatchNorm1d(400, eps=1e-05, momentum=0.1, affine=True, track_running_stats=True)\n",
      "    (5): Dropout(p=0.5, inplace=False)\n",
      "    (6): Linear(in_features=400, out_features=300, bias=True)\n",
      "    (7): Mish()\n",
      "    (8): BatchNorm1d(300, eps=1e-05, momentum=0.1, affine=True, track_running_stats=True)\n",
      "    (9): Dropout(p=0.5, inplace=False)\n",
      "    (10): Linear(in_features=300, out_features=200, bias=True)\n",
      "    (11): Mish()\n",
      "    (12): BatchNorm1d(200, eps=1e-05, momentum=0.1, affine=True, track_running_stats=True)\n",
      "    (13): Dropout(p=0.5, inplace=False)\n",
      "    (14): Linear(in_features=200, out_features=100, bias=True)\n",
      "    (15): Mish()\n",
      "  )\n",
      "  (final_layer): Linear(in_features=100, out_features=2, bias=True)\n",
      ")\n"
     ]
    }
   ],
   "source": [
    "print(tabmodel)"
   ]
  },
  {
   "cell_type": "code",
   "execution_count": 73,
   "id": "98e42dbd",
   "metadata": {
    "execution": {
     "iopub.execute_input": "2022-04-17T05:29:39.020404Z",
     "iopub.status.busy": "2022-04-17T05:29:39.020118Z",
     "iopub.status.idle": "2022-04-17T05:29:39.024146Z",
     "shell.execute_reply": "2022-04-17T05:29:39.023145Z"
    },
    "id": "9dP2FXI1DMqk",
    "papermill": {
     "duration": 0.146696,
     "end_time": "2022-04-17T05:29:39.026464",
     "exception": false,
     "start_time": "2022-04-17T05:29:38.879768",
     "status": "completed"
    },
    "tags": []
   },
   "outputs": [],
   "source": [
    "dls = dl, valid_dl"
   ]
  },
  {
   "cell_type": "code",
   "execution_count": 74,
   "id": "300d4a84",
   "metadata": {
    "execution": {
     "iopub.execute_input": "2022-04-17T05:29:39.304717Z",
     "iopub.status.busy": "2022-04-17T05:29:39.304186Z",
     "iopub.status.idle": "2022-04-17T05:29:39.310435Z",
     "shell.execute_reply": "2022-04-17T05:29:39.309812Z"
    },
    "id": "eaD4SzWKkGTs",
    "papermill": {
     "duration": 0.147546,
     "end_time": "2022-04-17T05:29:39.312238",
     "exception": false,
     "start_time": "2022-04-17T05:29:39.164692",
     "status": "completed"
    },
    "tags": []
   },
   "outputs": [],
   "source": [
    "def train(dl, model, loss_fn, optim):\n",
    "    size = len(dl.dataset)\n",
    "    losses = []\n",
    "    for batch, (X, y) in enumerate(dl):\n",
    "        # prediction, loss\n",
    "        pred = model(X)\n",
    "        loss = loss_fn(pred, y)\n",
    "        # backprop\n",
    "        optim.zero_grad()\n",
    "        loss.backward()\n",
    "        optim.step()\n",
    "\n",
    "        losses.append(loss.item())\n",
    "    \n",
    "    print(f'loss: {np.array(losses).mean()}')\n"
   ]
  },
  {
   "cell_type": "code",
   "execution_count": 75,
   "id": "2e14e1eb",
   "metadata": {
    "execution": {
     "iopub.execute_input": "2022-04-17T05:29:39.591642Z",
     "iopub.status.busy": "2022-04-17T05:29:39.591131Z",
     "iopub.status.idle": "2022-04-17T05:29:39.597456Z",
     "shell.execute_reply": "2022-04-17T05:29:39.596924Z"
    },
    "id": "g31GQH3w_kUN",
    "papermill": {
     "duration": 0.14769,
     "end_time": "2022-04-17T05:29:39.599345",
     "exception": false,
     "start_time": "2022-04-17T05:29:39.451655",
     "status": "completed"
    },
    "tags": []
   },
   "outputs": [],
   "source": [
    "def valid(valid_dl, model, loss_fn):\n",
    "    accuracy = []\n",
    "    losses = []\n",
    "    with torch.no_grad():\n",
    "        for batch, (X, y) in enumerate(valid_dl):\n",
    "            #p rediction, loss\n",
    "            pred = model(X)\n",
    "            loss = loss_fn(pred, y)\n",
    "            # metric\n",
    "            accuracy.append((pred.argmax(1)==y).float().flatten().mean())\n",
    "            losses.append(loss.item())\n",
    "    print(f'valid -- accuracy: {np.array(accuracy).mean()}, loss: {np.array(losses).mean()}')"
   ]
  },
  {
   "cell_type": "code",
   "execution_count": 76,
   "id": "424a56c1",
   "metadata": {
    "execution": {
     "iopub.execute_input": "2022-04-17T05:29:39.878847Z",
     "iopub.status.busy": "2022-04-17T05:29:39.878424Z",
     "iopub.status.idle": "2022-04-17T05:29:39.883566Z",
     "shell.execute_reply": "2022-04-17T05:29:39.883007Z"
    },
    "id": "GWBjVQfWDI0r",
    "papermill": {
     "duration": 0.145959,
     "end_time": "2022-04-17T05:29:39.885591",
     "exception": false,
     "start_time": "2022-04-17T05:29:39.739632",
     "status": "completed"
    },
    "tags": []
   },
   "outputs": [],
   "source": [
    "def epoch(n, dls, model:Module, loss_fn, lr=1e-3):\n",
    "    train_dl, valid_dl = dls\n",
    "    \n",
    "    for i in range(n):\n",
    "        # train\n",
    "        model.train()\n",
    "        train(train_dl, model, loss_fn, torch.optim.Adam(model.parameters(), lr= lr))\n",
    "        #validate\n",
    "        model.eval()\n",
    "        valid(valid_dl, model, loss_fn)"
   ]
  },
  {
   "cell_type": "code",
   "execution_count": 77,
   "id": "bc99dc86",
   "metadata": {
    "execution": {
     "iopub.execute_input": "2022-04-17T05:29:40.168161Z",
     "iopub.status.busy": "2022-04-17T05:29:40.167594Z",
     "iopub.status.idle": "2022-04-17T05:29:42.455622Z",
     "shell.execute_reply": "2022-04-17T05:29:42.454000Z"
    },
    "id": "3YLxax12s3ZV",
    "outputId": "0b643d39-25e7-4524-a2a2-f3f2b9f0409b",
    "papermill": {
     "duration": 2.429839,
     "end_time": "2022-04-17T05:29:42.457902",
     "exception": false,
     "start_time": "2022-04-17T05:29:40.028063",
     "status": "completed"
    },
    "tags": []
   },
   "outputs": [
    {
     "name": "stdout",
     "output_type": "stream",
     "text": [
      "loss: 0.6497604697942734\n",
      "valid -- accuracy: 0.7102083563804626, loss: 0.6194993654886881\n",
      "loss: 0.5492421984672546\n",
      "valid -- accuracy: 0.7593750357627869, loss: 0.5248653292655945\n",
      "loss: 0.5061957662304243\n",
      "valid -- accuracy: 0.7697916626930237, loss: 0.4869846999645233\n",
      "loss: 0.5004060144225756\n",
      "valid -- accuracy: 0.7764583230018616, loss: 0.4876803457736969\n",
      "loss: 0.4999237557252248\n",
      "valid -- accuracy: 0.777916669845581, loss: 0.4865359465281169\n",
      "loss: 0.4557991847395897\n",
      "valid -- accuracy: 0.7712500095367432, loss: 0.4824926753838857\n",
      "loss: 0.4513949453830719\n",
      "valid -- accuracy: 0.7920833230018616, loss: 0.4702235758304596\n",
      "loss: 0.4690590724349022\n",
      "valid -- accuracy: 0.7816666960716248, loss: 0.46867676575978595\n"
     ]
    }
   ],
   "source": [
    "epoch(8, dls, tabmodel, CrossEntropyLoss(), lr=5e-4)"
   ]
  },
  {
   "cell_type": "code",
   "execution_count": 78,
   "id": "7a8f48ae",
   "metadata": {
    "execution": {
     "iopub.execute_input": "2022-04-17T05:29:42.740768Z",
     "iopub.status.busy": "2022-04-17T05:29:42.740474Z",
     "iopub.status.idle": "2022-04-17T05:29:42.745142Z",
     "shell.execute_reply": "2022-04-17T05:29:42.744238Z"
    },
    "id": "92EJ-f5yFRne",
    "papermill": {
     "duration": 0.146923,
     "end_time": "2022-04-17T05:29:42.746876",
     "exception": false,
     "start_time": "2022-04-17T05:29:42.599953",
     "status": "completed"
    },
    "tags": []
   },
   "outputs": [],
   "source": [
    "def predictWhole(data, model):\n",
    "    model.eval()\n",
    "    pred = model(data)\n",
    "    return pred.argmax(1)"
   ]
  },
  {
   "cell_type": "code",
   "execution_count": 79,
   "id": "4740ecdd",
   "metadata": {
    "execution": {
     "iopub.execute_input": "2022-04-17T05:29:43.034739Z",
     "iopub.status.busy": "2022-04-17T05:29:43.034451Z",
     "iopub.status.idle": "2022-04-17T05:29:43.080116Z",
     "shell.execute_reply": "2022-04-17T05:29:43.079070Z"
    },
    "id": "A28cUom3tXCM",
    "papermill": {
     "duration": 0.194141,
     "end_time": "2022-04-17T05:29:43.082456",
     "exception": false,
     "start_time": "2022-04-17T05:29:42.888315",
     "status": "completed"
    },
    "tags": []
   },
   "outputs": [],
   "source": [
    "test_ds_raw = torch.Tensor(np.array(test_ds))"
   ]
  },
  {
   "cell_type": "code",
   "execution_count": 80,
   "id": "bd8c0c2d",
   "metadata": {
    "execution": {
     "iopub.execute_input": "2022-04-17T05:29:43.364253Z",
     "iopub.status.busy": "2022-04-17T05:29:43.363953Z",
     "iopub.status.idle": "2022-04-17T05:29:43.369506Z",
     "shell.execute_reply": "2022-04-17T05:29:43.368635Z"
    },
    "id": "EpLqTfpZZ2is",
    "outputId": "76882f4f-19b7-41de-99eb-723c47f627b4",
    "papermill": {
     "duration": 0.148983,
     "end_time": "2022-04-17T05:29:43.371468",
     "exception": false,
     "start_time": "2022-04-17T05:29:43.222485",
     "status": "completed"
    },
    "tags": []
   },
   "outputs": [
    {
     "data": {
      "text/plain": [
       "torch.Size([418, 10])"
      ]
     },
     "execution_count": 80,
     "metadata": {},
     "output_type": "execute_result"
    }
   ],
   "source": [
    "test_ds_raw.shape"
   ]
  },
  {
   "cell_type": "code",
   "execution_count": 81,
   "id": "9202fd15",
   "metadata": {
    "execution": {
     "iopub.execute_input": "2022-04-17T05:29:43.661845Z",
     "iopub.status.busy": "2022-04-17T05:29:43.661562Z",
     "iopub.status.idle": "2022-04-17T05:29:43.680510Z",
     "shell.execute_reply": "2022-04-17T05:29:43.679594Z"
    },
    "id": "Gaz-1GGsLWSa",
    "outputId": "bdb38471-e93f-45b6-8bf5-cc40cbb53284",
    "papermill": {
     "duration": 0.169046,
     "end_time": "2022-04-17T05:29:43.684485",
     "exception": false,
     "start_time": "2022-04-17T05:29:43.515439",
     "status": "completed"
    },
    "tags": []
   },
   "outputs": [
    {
     "data": {
      "text/plain": [
       "418"
      ]
     },
     "execution_count": 81,
     "metadata": {},
     "output_type": "execute_result"
    }
   ],
   "source": [
    "preds = predictWhole(test_ds_raw, tabmodel)\n",
    "len(preds)"
   ]
  },
  {
   "cell_type": "code",
   "execution_count": 82,
   "id": "aa2ec592",
   "metadata": {
    "execution": {
     "iopub.execute_input": "2022-04-17T05:29:43.974432Z",
     "iopub.status.busy": "2022-04-17T05:29:43.973814Z",
     "iopub.status.idle": "2022-04-17T05:29:43.978764Z",
     "shell.execute_reply": "2022-04-17T05:29:43.978219Z"
    },
    "id": "Ol7VwkHuLgFS",
    "papermill": {
     "duration": 0.155004,
     "end_time": "2022-04-17T05:29:43.980491",
     "exception": false,
     "start_time": "2022-04-17T05:29:43.825487",
     "status": "completed"
    },
    "tags": []
   },
   "outputs": [],
   "source": [
    "result = pd.DataFrame({'PassengerId': df_test_pi, 'Survived': preds})"
   ]
  },
  {
   "cell_type": "code",
   "execution_count": 83,
   "id": "12da8cdb",
   "metadata": {
    "execution": {
     "iopub.execute_input": "2022-04-17T05:29:44.264084Z",
     "iopub.status.busy": "2022-04-17T05:29:44.263498Z",
     "iopub.status.idle": "2022-04-17T05:29:44.271467Z",
     "shell.execute_reply": "2022-04-17T05:29:44.270911Z"
    },
    "id": "nZ36hM3iL4Ku",
    "papermill": {
     "duration": 0.152228,
     "end_time": "2022-04-17T05:29:44.273610",
     "exception": false,
     "start_time": "2022-04-17T05:29:44.121382",
     "status": "completed"
    },
    "tags": []
   },
   "outputs": [],
   "source": [
    "result.to_csv('submission.csv', index=False)"
   ]
  },
  {
   "cell_type": "code",
   "execution_count": 84,
   "id": "020eb197",
   "metadata": {
    "execution": {
     "iopub.execute_input": "2022-04-17T05:29:44.562018Z",
     "iopub.status.busy": "2022-04-17T05:29:44.561603Z",
     "iopub.status.idle": "2022-04-17T05:29:44.566774Z",
     "shell.execute_reply": "2022-04-17T05:29:44.565940Z"
    },
    "papermill": {
     "duration": 0.151091,
     "end_time": "2022-04-17T05:29:44.568848",
     "exception": false,
     "start_time": "2022-04-17T05:29:44.417757",
     "status": "completed"
    },
    "tags": []
   },
   "outputs": [],
   "source": [
    "def randSplit(l, valid_ratio=0.2):\n",
    "    idxs = np.arange(l)\n",
    "    np.random.shuffle(idxs)\n",
    "    cut = int(l*valid_ratio)\n",
    "    return idxs[:cut], idxs[cut:]"
   ]
  },
  {
   "cell_type": "code",
   "execution_count": 85,
   "id": "7cf5e4d3",
   "metadata": {
    "execution": {
     "iopub.execute_input": "2022-04-17T05:29:44.854041Z",
     "iopub.status.busy": "2022-04-17T05:29:44.853760Z",
     "iopub.status.idle": "2022-04-17T05:29:44.857138Z",
     "shell.execute_reply": "2022-04-17T05:29:44.856521Z"
    },
    "id": "ZXGUSbcaNLJc",
    "papermill": {
     "duration": 0.149111,
     "end_time": "2022-04-17T05:29:44.859005",
     "exception": false,
     "start_time": "2022-04-17T05:29:44.709894",
     "status": "completed"
    },
    "tags": []
   },
   "outputs": [],
   "source": [
    "dls = DataLoaders(dl, valid_dl)"
   ]
  },
  {
   "cell_type": "code",
   "execution_count": 86,
   "id": "b07ff62d",
   "metadata": {
    "execution": {
     "iopub.execute_input": "2022-04-17T05:29:45.143415Z",
     "iopub.status.busy": "2022-04-17T05:29:45.142910Z",
     "iopub.status.idle": "2022-04-17T05:29:45.155342Z",
     "shell.execute_reply": "2022-04-17T05:29:45.154509Z"
    },
    "papermill": {
     "duration": 0.155248,
     "end_time": "2022-04-17T05:29:45.157149",
     "exception": false,
     "start_time": "2022-04-17T05:29:45.001901",
     "status": "completed"
    },
    "tags": []
   },
   "outputs": [
    {
     "data": {
      "text/plain": [
       "[[3, 3],\n",
       " [2, 2],\n",
       " [3, 3],\n",
       " [6, 4],\n",
       " [4, 3],\n",
       " [9, 5],\n",
       " [11, 6],\n",
       " [14, 7],\n",
       " [7, 5],\n",
       " [9, 5]]"
      ]
     },
     "execution_count": 86,
     "metadata": {},
     "output_type": "execute_result"
    }
   ],
   "source": [
    "voc = []\n",
    "for s in cat_columns:\n",
    "    vn = pd.concat([td.cat[s], valid_td.cat[s], test_ds.cat[s]])\n",
    "    vn = vn.astype(int).nunique()\n",
    "    voc.append([vn, round(1.6 * vn**0.56)])\n",
    "voc"
   ]
  },
  {
   "cell_type": "code",
   "execution_count": 87,
   "id": "fb4dd61c",
   "metadata": {
    "execution": {
     "iopub.execute_input": "2022-04-17T05:29:45.442268Z",
     "iopub.status.busy": "2022-04-17T05:29:45.441630Z",
     "iopub.status.idle": "2022-04-17T05:29:45.449499Z",
     "shell.execute_reply": "2022-04-17T05:29:45.448344Z"
    },
    "papermill": {
     "duration": 0.154099,
     "end_time": "2022-04-17T05:29:45.451826",
     "exception": false,
     "start_time": "2022-04-17T05:29:45.297727",
     "status": "completed"
    },
    "tags": []
   },
   "outputs": [
    {
     "name": "stdout",
     "output_type": "stream",
     "text": [
      "TabModel(\n",
      "  (embeddings): ModuleList(\n",
      "    (0): Embedding(3, 3)\n",
      "    (1): Embedding(2, 2)\n",
      "    (2): Embedding(3, 3)\n",
      "    (3): Embedding(6, 4)\n",
      "    (4): Embedding(4, 3)\n",
      "    (5): Embedding(9, 5)\n",
      "    (6): Embedding(11, 6)\n",
      "    (7): Embedding(14, 7)\n",
      "    (8): Embedding(7, 5)\n",
      "    (9): Embedding(9, 5)\n",
      "  )\n",
      "  (emb_drop): Dropout(p=0.2, inplace=False)\n",
      "  (linear_drop): Dropout(p=0.5, inplace=False)\n",
      "  (linear): Sequential(\n",
      "    (0): BatchNorm1d(43, eps=1e-05, momentum=0.1, affine=True, track_running_stats=True)\n",
      "    (1): Dropout(p=0.5, inplace=False)\n",
      "    (2): Linear(in_features=43, out_features=20, bias=True)\n",
      "    (3): Mish()\n",
      "    (4): BatchNorm1d(20, eps=1e-05, momentum=0.1, affine=True, track_running_stats=True)\n",
      "    (5): Dropout(p=0.5, inplace=False)\n",
      "    (6): Linear(in_features=20, out_features=10, bias=True)\n",
      "    (7): Mish()\n",
      "  )\n",
      "  (final_layer): Linear(in_features=10, out_features=2, bias=True)\n",
      ")\n"
     ]
    }
   ],
   "source": [
    "tabmodel = TabModel(voc, cat_n, cont_n, (20, 10, 2)).to(device)\n",
    "print(tabmodel)"
   ]
  },
  {
   "cell_type": "code",
   "execution_count": 88,
   "id": "8d74f98b",
   "metadata": {
    "execution": {
     "iopub.execute_input": "2022-04-17T05:29:45.739433Z",
     "iopub.status.busy": "2022-04-17T05:29:45.738845Z",
     "iopub.status.idle": "2022-04-17T05:29:45.744550Z",
     "shell.execute_reply": "2022-04-17T05:29:45.743977Z"
    },
    "papermill": {
     "duration": 0.151232,
     "end_time": "2022-04-17T05:29:45.746421",
     "exception": false,
     "start_time": "2022-04-17T05:29:45.595189",
     "status": "completed"
    },
    "tags": []
   },
   "outputs": [],
   "source": [
    "learn = Learner(dls, tabmodel, loss_func=CrossEntropyLossFlat(), metrics=accuracy)"
   ]
  },
  {
   "cell_type": "code",
   "execution_count": 89,
   "id": "339968eb",
   "metadata": {
    "execution": {
     "iopub.execute_input": "2022-04-17T05:29:46.032591Z",
     "iopub.status.busy": "2022-04-17T05:29:46.032291Z",
     "iopub.status.idle": "2022-04-17T05:29:48.652177Z",
     "shell.execute_reply": "2022-04-17T05:29:48.651310Z"
    },
    "papermill": {
     "duration": 2.765568,
     "end_time": "2022-04-17T05:29:48.654234",
     "exception": false,
     "start_time": "2022-04-17T05:29:45.888666",
     "status": "completed"
    },
    "tags": []
   },
   "outputs": [
    {
     "data": {
      "text/html": [
       "\n",
       "<style>\n",
       "    /* Turns off some styling */\n",
       "    progress {\n",
       "        /* gets rid of default border in Firefox and Opera. */\n",
       "        border: none;\n",
       "        /* Needs to be in here for Safari polyfill so background images work as expected. */\n",
       "        background-size: auto;\n",
       "    }\n",
       "    .progress-bar-interrupted, .progress-bar-interrupted::-webkit-progress-bar {\n",
       "        background: #F44336;\n",
       "    }\n",
       "</style>\n"
      ],
      "text/plain": [
       "<IPython.core.display.HTML object>"
      ]
     },
     "metadata": {},
     "output_type": "display_data"
    },
    {
     "data": {
      "text/html": [],
      "text/plain": [
       "<IPython.core.display.HTML object>"
      ]
     },
     "metadata": {},
     "output_type": "display_data"
    },
    {
     "data": {
      "text/plain": [
       "SuggestedLRs(valley=0.0030199517495930195)"
      ]
     },
     "execution_count": 89,
     "metadata": {},
     "output_type": "execute_result"
    },
    {
     "data": {
      "image/png": "[encoded data removed]",
      "text/plain": [
       "<Figure size 432x288 with 1 Axes>"
      ]
     },
     "metadata": {
      "needs_background": "light"
     },
     "output_type": "display_data"
    }
   ],
   "source": [
    "learn.lr_find()"
   ]
  },
  {
   "cell_type": "code",
   "execution_count": 90,
   "id": "820e83ba",
   "metadata": {
    "execution": {
     "iopub.execute_input": "2022-04-17T05:29:48.952339Z",
     "iopub.status.busy": "2022-04-17T05:29:48.951720Z",
     "iopub.status.idle": "2022-04-17T05:29:50.145586Z",
     "shell.execute_reply": "2022-04-17T05:29:50.144906Z"
    },
    "papermill": {
     "duration": 1.344832,
     "end_time": "2022-04-17T05:29:50.147854",
     "exception": false,
     "start_time": "2022-04-17T05:29:48.803022",
     "status": "completed"
    },
    "tags": []
   },
   "outputs": [
    {
     "data": {
      "text/html": [
       "\n",
       "<style>\n",
       "    /* Turns off some styling */\n",
       "    progress {\n",
       "        /* gets rid of default border in Firefox and Opera. */\n",
       "        border: none;\n",
       "        /* Needs to be in here for Safari polyfill so background images work as expected. */\n",
       "        background-size: auto;\n",
       "    }\n",
       "    .progress-bar-interrupted, .progress-bar-interrupted::-webkit-progress-bar {\n",
       "        background: #F44336;\n",
       "    }\n",
       "</style>\n"
      ],
      "text/plain": [
       "<IPython.core.display.HTML object>"
      ]
     },
     "metadata": {},
     "output_type": "display_data"
    },
    {
     "data": {
      "text/html": [
       "<table border=\"1\" class=\"dataframe\">\n",
       "  <thead>\n",
       "    <tr style=\"text-align: left;\">\n",
       "      <th>epoch</th>\n",
       "      <th>train_loss</th>\n",
       "      <th>valid_loss</th>\n",
       "      <th>accuracy</th>\n",
       "      <th>time</th>\n",
       "    </tr>\n",
       "  </thead>\n",
       "  <tbody>\n",
       "    <tr>\n",
       "      <td>0</td>\n",
       "      <td>0.683273</td>\n",
       "      <td>0.650167</td>\n",
       "      <td>0.623595</td>\n",
       "      <td>00:00</td>\n",
       "    </tr>\n",
       "    <tr>\n",
       "      <td>1</td>\n",
       "      <td>0.640082</td>\n",
       "      <td>0.575654</td>\n",
       "      <td>0.724719</td>\n",
       "      <td>00:00</td>\n",
       "    </tr>\n",
       "    <tr>\n",
       "      <td>2</td>\n",
       "      <td>0.595520</td>\n",
       "      <td>0.521973</td>\n",
       "      <td>0.735955</td>\n",
       "      <td>00:00</td>\n",
       "    </tr>\n",
       "    <tr>\n",
       "      <td>3</td>\n",
       "      <td>0.565294</td>\n",
       "      <td>0.509915</td>\n",
       "      <td>0.752809</td>\n",
       "      <td>00:00</td>\n",
       "    </tr>\n",
       "    <tr>\n",
       "      <td>4</td>\n",
       "      <td>0.539175</td>\n",
       "      <td>0.509180</td>\n",
       "      <td>0.758427</td>\n",
       "      <td>00:00</td>\n",
       "    </tr>\n",
       "  </tbody>\n",
       "</table>"
      ],
      "text/plain": [
       "<IPython.core.display.HTML object>"
      ]
     },
     "metadata": {},
     "output_type": "display_data"
    }
   ],
   "source": [
    "learn.fit_one_cycle(5, 6e-3)"
   ]
  },
  {
   "cell_type": "code",
   "execution_count": 91,
   "id": "c14609f1",
   "metadata": {
    "execution": {
     "iopub.execute_input": "2022-04-17T05:29:50.440642Z",
     "iopub.status.busy": "2022-04-17T05:29:50.440344Z",
     "iopub.status.idle": "2022-04-17T05:29:50.447541Z",
     "shell.execute_reply": "2022-04-17T05:29:50.446652Z"
    },
    "papermill": {
     "duration": 0.156086,
     "end_time": "2022-04-17T05:29:50.449897",
     "exception": false,
     "start_time": "2022-04-17T05:29:50.293811",
     "status": "completed"
    },
    "tags": []
   },
   "outputs": [],
   "source": [
    "preds = predictWhole(test_ds_raw, learn.model)"
   ]
  },
  {
   "cell_type": "code",
   "execution_count": 92,
   "id": "c5850da1",
   "metadata": {
    "execution": {
     "iopub.execute_input": "2022-04-17T05:29:50.754578Z",
     "iopub.status.busy": "2022-04-17T05:29:50.753611Z",
     "iopub.status.idle": "2022-04-17T05:29:50.761273Z",
     "shell.execute_reply": "2022-04-17T05:29:50.760637Z"
    },
    "papermill": {
     "duration": 0.156554,
     "end_time": "2022-04-17T05:29:50.763267",
     "exception": false,
     "start_time": "2022-04-17T05:29:50.606713",
     "status": "completed"
    },
    "tags": []
   },
   "outputs": [],
   "source": [
    "result = pd.DataFrame({'PassengerId': df_test_pi, 'Survived': preds})\n",
    "result.to_csv('submission.csv', index=False)"
   ]
  },
  {
   "cell_type": "code",
   "execution_count": 93,
   "id": "db91d5be",
   "metadata": {
    "execution": {
     "iopub.execute_input": "2022-04-17T05:29:51.060026Z",
     "iopub.status.busy": "2022-04-17T05:29:51.059448Z",
     "iopub.status.idle": "2022-04-17T05:29:51.070273Z",
     "shell.execute_reply": "2022-04-17T05:29:51.069246Z"
    },
    "papermill": {
     "duration": 0.163693,
     "end_time": "2022-04-17T05:29:51.072498",
     "exception": false,
     "start_time": "2022-04-17T05:29:50.908805",
     "status": "completed"
    },
    "tags": []
   },
   "outputs": [
    {
     "data": {
      "text/html": [
       "<div>\n",
       "<style scoped>\n",
       "    .dataframe tbody tr th:only-of-type {\n",
       "        vertical-align: middle;\n",
       "    }\n",
       "\n",
       "    .dataframe tbody tr th {\n",
       "        vertical-align: top;\n",
       "    }\n",
       "\n",
       "    .dataframe thead th {\n",
       "        text-align: right;\n",
       "    }\n",
       "</style>\n",
       "<table border=\"1\" class=\"dataframe\">\n",
       "  <thead>\n",
       "    <tr style=\"text-align: right;\">\n",
       "      <th></th>\n",
       "      <th>PassengerId</th>\n",
       "      <th>Survived</th>\n",
       "    </tr>\n",
       "  </thead>\n",
       "  <tbody>\n",
       "    <tr>\n",
       "      <th>0</th>\n",
       "      <td>892</td>\n",
       "      <td>0</td>\n",
       "    </tr>\n",
       "    <tr>\n",
       "      <th>1</th>\n",
       "      <td>893</td>\n",
       "      <td>1</td>\n",
       "    </tr>\n",
       "    <tr>\n",
       "      <th>2</th>\n",
       "      <td>894</td>\n",
       "      <td>0</td>\n",
       "    </tr>\n",
       "    <tr>\n",
       "      <th>3</th>\n",
       "      <td>895</td>\n",
       "      <td>0</td>\n",
       "    </tr>\n",
       "    <tr>\n",
       "      <th>4</th>\n",
       "      <td>896</td>\n",
       "      <td>0</td>\n",
       "    </tr>\n",
       "    <tr>\n",
       "      <th>...</th>\n",
       "      <td>...</td>\n",
       "      <td>...</td>\n",
       "    </tr>\n",
       "    <tr>\n",
       "      <th>413</th>\n",
       "      <td>1305</td>\n",
       "      <td>0</td>\n",
       "    </tr>\n",
       "    <tr>\n",
       "      <th>414</th>\n",
       "      <td>1306</td>\n",
       "      <td>1</td>\n",
       "    </tr>\n",
       "    <tr>\n",
       "      <th>415</th>\n",
       "      <td>1307</td>\n",
       "      <td>0</td>\n",
       "    </tr>\n",
       "    <tr>\n",
       "      <th>416</th>\n",
       "      <td>1308</td>\n",
       "      <td>0</td>\n",
       "    </tr>\n",
       "    <tr>\n",
       "      <th>417</th>\n",
       "      <td>1309</td>\n",
       "      <td>0</td>\n",
       "    </tr>\n",
       "  </tbody>\n",
       "</table>\n",
       "<p>418 rows × 2 columns</p>\n",
       "</div>"
      ],
      "text/plain": [
       "     PassengerId  Survived\n",
       "0            892         0\n",
       "1            893         1\n",
       "2            894         0\n",
       "3            895         0\n",
       "4            896         0\n",
       "..           ...       ...\n",
       "413         1305         0\n",
       "414         1306         1\n",
       "415         1307         0\n",
       "416         1308         0\n",
       "417         1309         0\n",
       "\n",
       "[418 rows x 2 columns]"
      ]
     },
     "execution_count": 93,
     "metadata": {},
     "output_type": "execute_result"
    }
   ],
   "source": [
    "result"
   ]
  },
  {
   "cell_type": "code",
   "execution_count": 94,
   "id": "2c43fdc7",
   "metadata": {
    "execution": {
     "iopub.execute_input": "2022-04-17T05:29:51.371052Z",
     "iopub.status.busy": "2022-04-17T05:29:51.370725Z",
     "iopub.status.idle": "2022-04-17T05:29:51.463401Z",
     "shell.execute_reply": "2022-04-17T05:29:51.462664Z"
    },
    "papermill": {
     "duration": 0.243731,
     "end_time": "2022-04-17T05:29:51.465745",
     "exception": false,
     "start_time": "2022-04-17T05:29:51.222014",
     "status": "completed"
    },
    "tags": []
   },
   "outputs": [],
   "source": [
    "from sklearn.ensemble import HistGradientBoostingClassifier\n",
    "from sklearn.model_selection import cross_val_score\n",
    "from sklearn.ensemble import RandomForestClassifier"
   ]
  },
  {
   "cell_type": "code",
   "execution_count": 95,
   "id": "c2b5deb0",
   "metadata": {
    "execution": {
     "iopub.execute_input": "2022-04-17T05:29:51.764162Z",
     "iopub.status.busy": "2022-04-17T05:29:51.763414Z",
     "iopub.status.idle": "2022-04-17T05:29:51.769236Z",
     "shell.execute_reply": "2022-04-17T05:29:51.768557Z"
    },
    "papermill": {
     "duration": 0.156492,
     "end_time": "2022-04-17T05:29:51.771159",
     "exception": false,
     "start_time": "2022-04-17T05:29:51.614667",
     "status": "completed"
    },
    "tags": []
   },
   "outputs": [],
   "source": [
    "X = full_td[:][0]\n",
    "y = full_td[:][1]"
   ]
  },
  {
   "cell_type": "code",
   "execution_count": 96,
   "id": "dab43d92",
   "metadata": {
    "execution": {
     "iopub.execute_input": "2022-04-17T05:29:52.069993Z",
     "iopub.status.busy": "2022-04-17T05:29:52.069694Z",
     "iopub.status.idle": "2022-04-17T05:29:58.445346Z",
     "shell.execute_reply": "2022-04-17T05:29:58.444594Z"
    },
    "papermill": {
     "duration": 6.528926,
     "end_time": "2022-04-17T05:29:58.447678",
     "exception": false,
     "start_time": "2022-04-17T05:29:51.918752",
     "status": "completed"
    },
    "tags": []
   },
   "outputs": [],
   "source": [
    "clf = HistGradientBoostingClassifier(max_iter=1100, max_leaf_nodes=31, max_depth=7, min_samples_leaf=5).fit(X, y)"
   ]
  },
  {
   "cell_type": "code",
   "execution_count": 97,
   "id": "397bba3f",
   "metadata": {
    "execution": {
     "iopub.execute_input": "2022-04-17T05:29:58.749234Z",
     "iopub.status.busy": "2022-04-17T05:29:58.748764Z",
     "iopub.status.idle": "2022-04-17T05:29:58.752293Z",
     "shell.execute_reply": "2022-04-17T05:29:58.751455Z"
    },
    "papermill": {
     "duration": 0.154563,
     "end_time": "2022-04-17T05:29:58.754270",
     "exception": false,
     "start_time": "2022-04-17T05:29:58.599707",
     "status": "completed"
    },
    "tags": []
   },
   "outputs": [],
   "source": [
    "#cross_val_score(clf, X, y, cv=5)"
   ]
  },
  {
   "cell_type": "code",
   "execution_count": 98,
   "id": "57298832",
   "metadata": {
    "execution": {
     "iopub.execute_input": "2022-04-17T05:29:59.052900Z",
     "iopub.status.busy": "2022-04-17T05:29:59.052037Z",
     "iopub.status.idle": "2022-04-17T05:29:59.104065Z",
     "shell.execute_reply": "2022-04-17T05:29:59.103323Z"
    },
    "papermill": {
     "duration": 0.203932,
     "end_time": "2022-04-17T05:29:59.106372",
     "exception": false,
     "start_time": "2022-04-17T05:29:58.902440",
     "status": "completed"
    },
    "tags": []
   },
   "outputs": [],
   "source": [
    "preds = clf.predict(test_ds_raw)"
   ]
  },
  {
   "cell_type": "code",
   "execution_count": 99,
   "id": "74507831",
   "metadata": {
    "execution": {
     "iopub.execute_input": "2022-04-17T05:29:59.405480Z",
     "iopub.status.busy": "2022-04-17T05:29:59.405163Z",
     "iopub.status.idle": "2022-04-17T05:29:59.412234Z",
     "shell.execute_reply": "2022-04-17T05:29:59.411635Z"
    },
    "papermill": {
     "duration": 0.157916,
     "end_time": "2022-04-17T05:29:59.414091",
     "exception": false,
     "start_time": "2022-04-17T05:29:59.256175",
     "status": "completed"
    },
    "tags": []
   },
   "outputs": [],
   "source": [
    "result = pd.DataFrame({'PassengerId': df_test_pi, 'Survived': preds})\n",
    "result.to_csv('submission.csv', index=False)"
   ]
  },
  {
   "cell_type": "code",
   "execution_count": 100,
   "id": "5454a618",
   "metadata": {
    "execution": {
     "iopub.execute_input": "2022-04-17T05:29:59.713822Z",
     "iopub.status.busy": "2022-04-17T05:29:59.713323Z",
     "iopub.status.idle": "2022-04-17T05:29:59.722746Z",
     "shell.execute_reply": "2022-04-17T05:29:59.722159Z"
    },
    "papermill": {
     "duration": 0.158853,
     "end_time": "2022-04-17T05:29:59.724756",
     "exception": false,
     "start_time": "2022-04-17T05:29:59.565903",
     "status": "completed"
    },
    "tags": []
   },
   "outputs": [
    {
     "data": {
      "text/html": [
       "<div>\n",
       "<style scoped>\n",
       "    .dataframe tbody tr th:only-of-type {\n",
       "        vertical-align: middle;\n",
       "    }\n",
       "\n",
       "    .dataframe tbody tr th {\n",
       "        vertical-align: top;\n",
       "    }\n",
       "\n",
       "    .dataframe thead th {\n",
       "        text-align: right;\n",
       "    }\n",
       "</style>\n",
       "<table border=\"1\" class=\"dataframe\">\n",
       "  <thead>\n",
       "    <tr style=\"text-align: right;\">\n",
       "      <th></th>\n",
       "      <th>PassengerId</th>\n",
       "      <th>Survived</th>\n",
       "    </tr>\n",
       "  </thead>\n",
       "  <tbody>\n",
       "    <tr>\n",
       "      <th>0</th>\n",
       "      <td>892</td>\n",
       "      <td>0</td>\n",
       "    </tr>\n",
       "    <tr>\n",
       "      <th>1</th>\n",
       "      <td>893</td>\n",
       "      <td>0</td>\n",
       "    </tr>\n",
       "    <tr>\n",
       "      <th>2</th>\n",
       "      <td>894</td>\n",
       "      <td>0</td>\n",
       "    </tr>\n",
       "    <tr>\n",
       "      <th>3</th>\n",
       "      <td>895</td>\n",
       "      <td>1</td>\n",
       "    </tr>\n",
       "    <tr>\n",
       "      <th>4</th>\n",
       "      <td>896</td>\n",
       "      <td>1</td>\n",
       "    </tr>\n",
       "    <tr>\n",
       "      <th>...</th>\n",
       "      <td>...</td>\n",
       "      <td>...</td>\n",
       "    </tr>\n",
       "    <tr>\n",
       "      <th>413</th>\n",
       "      <td>1305</td>\n",
       "      <td>0</td>\n",
       "    </tr>\n",
       "    <tr>\n",
       "      <th>414</th>\n",
       "      <td>1306</td>\n",
       "      <td>1</td>\n",
       "    </tr>\n",
       "    <tr>\n",
       "      <th>415</th>\n",
       "      <td>1307</td>\n",
       "      <td>0</td>\n",
       "    </tr>\n",
       "    <tr>\n",
       "      <th>416</th>\n",
       "      <td>1308</td>\n",
       "      <td>0</td>\n",
       "    </tr>\n",
       "    <tr>\n",
       "      <th>417</th>\n",
       "      <td>1309</td>\n",
       "      <td>1</td>\n",
       "    </tr>\n",
       "  </tbody>\n",
       "</table>\n",
       "<p>418 rows × 2 columns</p>\n",
       "</div>"
      ],
      "text/plain": [
       "     PassengerId  Survived\n",
       "0            892         0\n",
       "1            893         0\n",
       "2            894         0\n",
       "3            895         1\n",
       "4            896         1\n",
       "..           ...       ...\n",
       "413         1305         0\n",
       "414         1306         1\n",
       "415         1307         0\n",
       "416         1308         0\n",
       "417         1309         1\n",
       "\n",
       "[418 rows x 2 columns]"
      ]
     },
     "execution_count": 100,
     "metadata": {},
     "output_type": "execute_result"
    }
   ],
   "source": [
    "result"
   ]
  },
  {
   "cell_type": "code",
   "execution_count": 101,
   "id": "a455cd3f",
   "metadata": {
    "execution": {
     "iopub.execute_input": "2022-04-17T05:30:00.029038Z",
     "iopub.status.busy": "2022-04-17T05:30:00.028727Z",
     "iopub.status.idle": "2022-04-17T05:30:00.036248Z",
     "shell.execute_reply": "2022-04-17T05:30:00.035383Z"
    },
    "papermill": {
     "duration": 0.163068,
     "end_time": "2022-04-17T05:30:00.038553",
     "exception": false,
     "start_time": "2022-04-17T05:29:59.875485",
     "status": "completed"
    },
    "tags": []
   },
   "outputs": [],
   "source": [
    "df = df.astype(int).drop('Ticket', axis=1)\n",
    "df_test = df_test.astype(int).drop('Ticket', axis=1)"
   ]
  },
  {
   "cell_type": "code",
   "execution_count": 102,
   "id": "e0ea6f9c",
   "metadata": {
    "execution": {
     "iopub.execute_input": "2022-04-17T05:30:00.336950Z",
     "iopub.status.busy": "2022-04-17T05:30:00.336634Z",
     "iopub.status.idle": "2022-04-17T05:30:00.357505Z",
     "shell.execute_reply": "2022-04-17T05:30:00.356695Z"
    },
    "papermill": {
     "duration": 0.173143,
     "end_time": "2022-04-17T05:30:00.359853",
     "exception": false,
     "start_time": "2022-04-17T05:30:00.186710",
     "status": "completed"
    },
    "tags": []
   },
   "outputs": [],
   "source": [
    "cat_var = df_test.columns\n",
    "combined = [df, df_test]\n",
    "for dataset in combined:\n",
    "    for key in cat_var:\n",
    "        dataset[key] = dataset[key].astype('category')\n",
    "    "
   ]
  },
  {
   "cell_type": "code",
   "execution_count": 103,
   "id": "ea1092be",
   "metadata": {
    "execution": {
     "iopub.execute_input": "2022-04-17T05:30:00.688775Z",
     "iopub.status.busy": "2022-04-17T05:30:00.688499Z",
     "iopub.status.idle": "2022-04-17T05:30:00.694233Z",
     "shell.execute_reply": "2022-04-17T05:30:00.693340Z"
    },
    "papermill": {
     "duration": 0.18956,
     "end_time": "2022-04-17T05:30:00.696111",
     "exception": false,
     "start_time": "2022-04-17T05:30:00.506551",
     "status": "completed"
    },
    "tags": []
   },
   "outputs": [],
   "source": [
    "x1 = df.drop('Survived', axis=1)\n",
    "x1['name'] = 'train'"
   ]
  },
  {
   "cell_type": "code",
   "execution_count": 104,
   "id": "f9565c70",
   "metadata": {
    "execution": {
     "iopub.execute_input": "2022-04-17T05:30:00.993423Z",
     "iopub.status.busy": "2022-04-17T05:30:00.992604Z",
     "iopub.status.idle": "2022-04-17T05:30:00.998353Z",
     "shell.execute_reply": "2022-04-17T05:30:00.997531Z"
    },
    "papermill": {
     "duration": 0.157619,
     "end_time": "2022-04-17T05:30:01.000511",
     "exception": false,
     "start_time": "2022-04-17T05:30:00.842892",
     "status": "completed"
    },
    "tags": []
   },
   "outputs": [],
   "source": [
    "x2 = df_test.copy()\n",
    "x2['name'] = 'test'"
   ]
  },
  {
   "cell_type": "code",
   "execution_count": 105,
   "id": "23ecd2ad",
   "metadata": {
    "execution": {
     "iopub.execute_input": "2022-04-17T05:30:01.298376Z",
     "iopub.status.busy": "2022-04-17T05:30:01.298087Z",
     "iopub.status.idle": "2022-04-17T05:30:01.311593Z",
     "shell.execute_reply": "2022-04-17T05:30:01.310650Z"
    },
    "papermill": {
     "duration": 0.16456,
     "end_time": "2022-04-17T05:30:01.313939",
     "exception": false,
     "start_time": "2022-04-17T05:30:01.149379",
     "status": "completed"
    },
    "tags": []
   },
   "outputs": [],
   "source": [
    "xs = pd.concat([x1, x2])"
   ]
  },
  {
   "cell_type": "code",
   "execution_count": 106,
   "id": "8e7293f8",
   "metadata": {
    "execution": {
     "iopub.execute_input": "2022-04-17T05:30:01.613831Z",
     "iopub.status.busy": "2022-04-17T05:30:01.613534Z",
     "iopub.status.idle": "2022-04-17T05:30:01.633886Z",
     "shell.execute_reply": "2022-04-17T05:30:01.633132Z"
    },
    "papermill": {
     "duration": 0.173657,
     "end_time": "2022-04-17T05:30:01.636173",
     "exception": false,
     "start_time": "2022-04-17T05:30:01.462516",
     "status": "completed"
    },
    "tags": []
   },
   "outputs": [],
   "source": [
    "X = pd.get_dummies(xs)\n",
    "train_X = X.loc[xs['name']=='train']\n",
    "test_X = X.loc[xs['name']=='test']\n",
    "y = df['Survived']"
   ]
  },
  {
   "cell_type": "code",
   "execution_count": 107,
   "id": "0da87680",
   "metadata": {
    "execution": {
     "iopub.execute_input": "2022-04-17T05:30:01.930298Z",
     "iopub.status.busy": "2022-04-17T05:30:01.929844Z",
     "iopub.status.idle": "2022-04-17T05:30:01.952658Z",
     "shell.execute_reply": "2022-04-17T05:30:01.951648Z"
    },
    "papermill": {
     "duration": 0.172252,
     "end_time": "2022-04-17T05:30:01.954689",
     "exception": false,
     "start_time": "2022-04-17T05:30:01.782437",
     "status": "completed"
    },
    "tags": []
   },
   "outputs": [
    {
     "data": {
      "text/html": [
       "<div>\n",
       "<style scoped>\n",
       "    .dataframe tbody tr th:only-of-type {\n",
       "        vertical-align: middle;\n",
       "    }\n",
       "\n",
       "    .dataframe tbody tr th {\n",
       "        vertical-align: top;\n",
       "    }\n",
       "\n",
       "    .dataframe thead th {\n",
       "        text-align: right;\n",
       "    }\n",
       "</style>\n",
       "<table border=\"1\" class=\"dataframe\">\n",
       "  <thead>\n",
       "    <tr style=\"text-align: right;\">\n",
       "      <th></th>\n",
       "      <th>Age</th>\n",
       "      <th>Parch</th>\n",
       "      <th>TicketFrequency</th>\n",
       "      <th>Title</th>\n",
       "      <th>Pclass_0</th>\n",
       "      <th>Pclass_1</th>\n",
       "      <th>Pclass_2</th>\n",
       "      <th>Sex_0</th>\n",
       "      <th>Sex_1</th>\n",
       "      <th>SibSp_0</th>\n",
       "      <th>...</th>\n",
       "      <th>Deck_1</th>\n",
       "      <th>Deck_2</th>\n",
       "      <th>Deck_3</th>\n",
       "      <th>Deck_4</th>\n",
       "      <th>Deck_5</th>\n",
       "      <th>Deck_6</th>\n",
       "      <th>Deck_7</th>\n",
       "      <th>Deck_8</th>\n",
       "      <th>name_test</th>\n",
       "      <th>name_train</th>\n",
       "    </tr>\n",
       "  </thead>\n",
       "  <tbody>\n",
       "    <tr>\n",
       "      <th>0</th>\n",
       "      <td>0</td>\n",
       "      <td>0</td>\n",
       "      <td>0</td>\n",
       "      <td>0</td>\n",
       "      <td>1</td>\n",
       "      <td>0</td>\n",
       "      <td>0</td>\n",
       "      <td>1</td>\n",
       "      <td>0</td>\n",
       "      <td>1</td>\n",
       "      <td>...</td>\n",
       "      <td>0</td>\n",
       "      <td>0</td>\n",
       "      <td>0</td>\n",
       "      <td>0</td>\n",
       "      <td>0</td>\n",
       "      <td>0</td>\n",
       "      <td>0</td>\n",
       "      <td>0</td>\n",
       "      <td>0</td>\n",
       "      <td>1</td>\n",
       "    </tr>\n",
       "    <tr>\n",
       "      <th>1</th>\n",
       "      <td>1</td>\n",
       "      <td>0</td>\n",
       "      <td>0</td>\n",
       "      <td>1</td>\n",
       "      <td>0</td>\n",
       "      <td>1</td>\n",
       "      <td>0</td>\n",
       "      <td>0</td>\n",
       "      <td>1</td>\n",
       "      <td>1</td>\n",
       "      <td>...</td>\n",
       "      <td>1</td>\n",
       "      <td>0</td>\n",
       "      <td>0</td>\n",
       "      <td>0</td>\n",
       "      <td>0</td>\n",
       "      <td>0</td>\n",
       "      <td>0</td>\n",
       "      <td>0</td>\n",
       "      <td>0</td>\n",
       "      <td>1</td>\n",
       "    </tr>\n",
       "    <tr>\n",
       "      <th>2</th>\n",
       "      <td>2</td>\n",
       "      <td>0</td>\n",
       "      <td>0</td>\n",
       "      <td>2</td>\n",
       "      <td>1</td>\n",
       "      <td>0</td>\n",
       "      <td>0</td>\n",
       "      <td>0</td>\n",
       "      <td>1</td>\n",
       "      <td>0</td>\n",
       "      <td>...</td>\n",
       "      <td>0</td>\n",
       "      <td>0</td>\n",
       "      <td>0</td>\n",
       "      <td>0</td>\n",
       "      <td>0</td>\n",
       "      <td>0</td>\n",
       "      <td>0</td>\n",
       "      <td>0</td>\n",
       "      <td>0</td>\n",
       "      <td>1</td>\n",
       "    </tr>\n",
       "    <tr>\n",
       "      <th>3</th>\n",
       "      <td>1</td>\n",
       "      <td>0</td>\n",
       "      <td>1</td>\n",
       "      <td>1</td>\n",
       "      <td>0</td>\n",
       "      <td>1</td>\n",
       "      <td>0</td>\n",
       "      <td>0</td>\n",
       "      <td>1</td>\n",
       "      <td>1</td>\n",
       "      <td>...</td>\n",
       "      <td>1</td>\n",
       "      <td>0</td>\n",
       "      <td>0</td>\n",
       "      <td>0</td>\n",
       "      <td>0</td>\n",
       "      <td>0</td>\n",
       "      <td>0</td>\n",
       "      <td>0</td>\n",
       "      <td>0</td>\n",
       "      <td>1</td>\n",
       "    </tr>\n",
       "    <tr>\n",
       "      <th>4</th>\n",
       "      <td>1</td>\n",
       "      <td>0</td>\n",
       "      <td>0</td>\n",
       "      <td>0</td>\n",
       "      <td>1</td>\n",
       "      <td>0</td>\n",
       "      <td>0</td>\n",
       "      <td>1</td>\n",
       "      <td>0</td>\n",
       "      <td>0</td>\n",
       "      <td>...</td>\n",
       "      <td>0</td>\n",
       "      <td>0</td>\n",
       "      <td>0</td>\n",
       "      <td>0</td>\n",
       "      <td>0</td>\n",
       "      <td>0</td>\n",
       "      <td>0</td>\n",
       "      <td>0</td>\n",
       "      <td>0</td>\n",
       "      <td>1</td>\n",
       "    </tr>\n",
       "    <tr>\n",
       "      <th>...</th>\n",
       "      <td>...</td>\n",
       "      <td>...</td>\n",
       "      <td>...</td>\n",
       "      <td>...</td>\n",
       "      <td>...</td>\n",
       "      <td>...</td>\n",
       "      <td>...</td>\n",
       "      <td>...</td>\n",
       "      <td>...</td>\n",
       "      <td>...</td>\n",
       "      <td>...</td>\n",
       "      <td>...</td>\n",
       "      <td>...</td>\n",
       "      <td>...</td>\n",
       "      <td>...</td>\n",
       "      <td>...</td>\n",
       "      <td>...</td>\n",
       "      <td>...</td>\n",
       "      <td>...</td>\n",
       "      <td>...</td>\n",
       "      <td>...</td>\n",
       "    </tr>\n",
       "    <tr>\n",
       "      <th>413</th>\n",
       "      <td>3</td>\n",
       "      <td>0</td>\n",
       "      <td>0</td>\n",
       "      <td>0</td>\n",
       "      <td>1</td>\n",
       "      <td>0</td>\n",
       "      <td>0</td>\n",
       "      <td>1</td>\n",
       "      <td>0</td>\n",
       "      <td>0</td>\n",
       "      <td>...</td>\n",
       "      <td>0</td>\n",
       "      <td>0</td>\n",
       "      <td>0</td>\n",
       "      <td>0</td>\n",
       "      <td>0</td>\n",
       "      <td>0</td>\n",
       "      <td>0</td>\n",
       "      <td>0</td>\n",
       "      <td>1</td>\n",
       "      <td>0</td>\n",
       "    </tr>\n",
       "    <tr>\n",
       "      <th>414</th>\n",
       "      <td>1</td>\n",
       "      <td>0</td>\n",
       "      <td>0</td>\n",
       "      <td>5</td>\n",
       "      <td>0</td>\n",
       "      <td>1</td>\n",
       "      <td>0</td>\n",
       "      <td>0</td>\n",
       "      <td>1</td>\n",
       "      <td>0</td>\n",
       "      <td>...</td>\n",
       "      <td>0</td>\n",
       "      <td>0</td>\n",
       "      <td>0</td>\n",
       "      <td>0</td>\n",
       "      <td>0</td>\n",
       "      <td>0</td>\n",
       "      <td>0</td>\n",
       "      <td>0</td>\n",
       "      <td>1</td>\n",
       "      <td>0</td>\n",
       "    </tr>\n",
       "    <tr>\n",
       "      <th>415</th>\n",
       "      <td>1</td>\n",
       "      <td>0</td>\n",
       "      <td>0</td>\n",
       "      <td>0</td>\n",
       "      <td>1</td>\n",
       "      <td>0</td>\n",
       "      <td>0</td>\n",
       "      <td>1</td>\n",
       "      <td>0</td>\n",
       "      <td>0</td>\n",
       "      <td>...</td>\n",
       "      <td>0</td>\n",
       "      <td>0</td>\n",
       "      <td>0</td>\n",
       "      <td>0</td>\n",
       "      <td>0</td>\n",
       "      <td>0</td>\n",
       "      <td>0</td>\n",
       "      <td>0</td>\n",
       "      <td>1</td>\n",
       "      <td>0</td>\n",
       "    </tr>\n",
       "    <tr>\n",
       "      <th>416</th>\n",
       "      <td>3</td>\n",
       "      <td>0</td>\n",
       "      <td>0</td>\n",
       "      <td>0</td>\n",
       "      <td>1</td>\n",
       "      <td>0</td>\n",
       "      <td>0</td>\n",
       "      <td>1</td>\n",
       "      <td>0</td>\n",
       "      <td>0</td>\n",
       "      <td>...</td>\n",
       "      <td>0</td>\n",
       "      <td>0</td>\n",
       "      <td>0</td>\n",
       "      <td>0</td>\n",
       "      <td>0</td>\n",
       "      <td>0</td>\n",
       "      <td>0</td>\n",
       "      <td>0</td>\n",
       "      <td>1</td>\n",
       "      <td>0</td>\n",
       "    </tr>\n",
       "    <tr>\n",
       "      <th>417</th>\n",
       "      <td>3</td>\n",
       "      <td>1</td>\n",
       "      <td>0</td>\n",
       "      <td>3</td>\n",
       "      <td>1</td>\n",
       "      <td>0</td>\n",
       "      <td>0</td>\n",
       "      <td>1</td>\n",
       "      <td>0</td>\n",
       "      <td>1</td>\n",
       "      <td>...</td>\n",
       "      <td>0</td>\n",
       "      <td>0</td>\n",
       "      <td>0</td>\n",
       "      <td>0</td>\n",
       "      <td>0</td>\n",
       "      <td>0</td>\n",
       "      <td>0</td>\n",
       "      <td>0</td>\n",
       "      <td>1</td>\n",
       "      <td>0</td>\n",
       "    </tr>\n",
       "  </tbody>\n",
       "</table>\n",
       "<p>1309 rows × 57 columns</p>\n",
       "</div>"
      ],
      "text/plain": [
       "     Age  Parch  TicketFrequency  Title  Pclass_0  Pclass_1  Pclass_2  Sex_0  \\\n",
       "0      0      0                0      0         1         0         0      1   \n",
       "1      1      0                0      1         0         1         0      0   \n",
       "2      2      0                0      2         1         0         0      0   \n",
       "3      1      0                1      1         0         1         0      0   \n",
       "4      1      0                0      0         1         0         0      1   \n",
       "..   ...    ...              ...    ...       ...       ...       ...    ...   \n",
       "413    3      0                0      0         1         0         0      1   \n",
       "414    1      0                0      5         0         1         0      0   \n",
       "415    1      0                0      0         1         0         0      1   \n",
       "416    3      0                0      0         1         0         0      1   \n",
       "417    3      1                0      3         1         0         0      1   \n",
       "\n",
       "     Sex_1  SibSp_0  ...  Deck_1  Deck_2  Deck_3  Deck_4  Deck_5  Deck_6  \\\n",
       "0        0        1  ...       0       0       0       0       0       0   \n",
       "1        1        1  ...       1       0       0       0       0       0   \n",
       "2        1        0  ...       0       0       0       0       0       0   \n",
       "3        1        1  ...       1       0       0       0       0       0   \n",
       "4        0        0  ...       0       0       0       0       0       0   \n",
       "..     ...      ...  ...     ...     ...     ...     ...     ...     ...   \n",
       "413      0        0  ...       0       0       0       0       0       0   \n",
       "414      1        0  ...       0       0       0       0       0       0   \n",
       "415      0        0  ...       0       0       0       0       0       0   \n",
       "416      0        0  ...       0       0       0       0       0       0   \n",
       "417      0        1  ...       0       0       0       0       0       0   \n",
       "\n",
       "     Deck_7  Deck_8  name_test  name_train  \n",
       "0         0       0          0           1  \n",
       "1         0       0          0           1  \n",
       "2         0       0          0           1  \n",
       "3         0       0          0           1  \n",
       "4         0       0          0           1  \n",
       "..      ...     ...        ...         ...  \n",
       "413       0       0          1           0  \n",
       "414       0       0          1           0  \n",
       "415       0       0          1           0  \n",
       "416       0       0          1           0  \n",
       "417       0       0          1           0  \n",
       "\n",
       "[1309 rows x 57 columns]"
      ]
     },
     "execution_count": 107,
     "metadata": {},
     "output_type": "execute_result"
    }
   ],
   "source": [
    "X"
   ]
  },
  {
   "cell_type": "code",
   "execution_count": 108,
   "id": "605b3649",
   "metadata": {
    "execution": {
     "iopub.execute_input": "2022-04-17T05:30:02.253187Z",
     "iopub.status.busy": "2022-04-17T05:30:02.252921Z",
     "iopub.status.idle": "2022-04-17T05:30:02.259298Z",
     "shell.execute_reply": "2022-04-17T05:30:02.258235Z"
    },
    "papermill": {
     "duration": 0.158312,
     "end_time": "2022-04-17T05:30:02.261493",
     "exception": false,
     "start_time": "2022-04-17T05:30:02.103181",
     "status": "completed"
    },
    "tags": []
   },
   "outputs": [],
   "source": [
    "train_X = train_X.drop(['name_test', 'name_train'], axis=1)\n",
    "test_X = test_X.drop(['name_test', 'name_train'], axis=1)"
   ]
  },
  {
   "cell_type": "code",
   "execution_count": 109,
   "id": "58f969c2",
   "metadata": {
    "execution": {
     "iopub.execute_input": "2022-04-17T05:30:02.558144Z",
     "iopub.status.busy": "2022-04-17T05:30:02.557843Z",
     "iopub.status.idle": "2022-04-17T05:30:02.695904Z",
     "shell.execute_reply": "2022-04-17T05:30:02.695161Z"
    },
    "papermill": {
     "duration": 0.289691,
     "end_time": "2022-04-17T05:30:02.698434",
     "exception": false,
     "start_time": "2022-04-17T05:30:02.408743",
     "status": "completed"
    },
    "tags": []
   },
   "outputs": [],
   "source": [
    "clf = HistGradientBoostingClassifier(max_iter=15, max_leaf_nodes=31, max_depth=7, min_samples_leaf=5).fit(train_X, y)"
   ]
  },
  {
   "cell_type": "code",
   "execution_count": 110,
   "id": "b8a3e62a",
   "metadata": {
    "execution": {
     "iopub.execute_input": "2022-04-17T05:30:02.996677Z",
     "iopub.status.busy": "2022-04-17T05:30:02.996410Z",
     "iopub.status.idle": "2022-04-17T05:30:03.653721Z",
     "shell.execute_reply": "2022-04-17T05:30:03.652920Z"
    },
    "papermill": {
     "duration": 0.80833,
     "end_time": "2022-04-17T05:30:03.656398",
     "exception": false,
     "start_time": "2022-04-17T05:30:02.848068",
     "status": "completed"
    },
    "tags": []
   },
   "outputs": [
    {
     "data": {
      "text/plain": [
       "array([0.82681564, 0.80898876, 0.85955056, 0.81460674, 0.83146067])"
      ]
     },
     "execution_count": 110,
     "metadata": {},
     "output_type": "execute_result"
    }
   ],
   "source": [
    "cross_val_score(clf, train_X, y, cv=5)"
   ]
  },
  {
   "cell_type": "code",
   "execution_count": 111,
   "id": "73e4fd1d",
   "metadata": {
    "execution": {
     "iopub.execute_input": "2022-04-17T05:30:03.963982Z",
     "iopub.status.busy": "2022-04-17T05:30:03.963461Z",
     "iopub.status.idle": "2022-04-17T05:30:03.967324Z",
     "shell.execute_reply": "2022-04-17T05:30:03.966760Z"
    },
    "papermill": {
     "duration": 0.161718,
     "end_time": "2022-04-17T05:30:03.969091",
     "exception": false,
     "start_time": "2022-04-17T05:30:03.807373",
     "status": "completed"
    },
    "tags": []
   },
   "outputs": [],
   "source": [
    "rf = RandomForestClassifier(n_estimators=1400, max_depth=7, min_samples_leaf = 7, oob_score=True)"
   ]
  },
  {
   "cell_type": "code",
   "execution_count": 112,
   "id": "a0a7aeac",
   "metadata": {
    "execution": {
     "iopub.execute_input": "2022-04-17T05:30:04.273465Z",
     "iopub.status.busy": "2022-04-17T05:30:04.272882Z",
     "iopub.status.idle": "2022-04-17T05:30:07.899277Z",
     "shell.execute_reply": "2022-04-17T05:30:07.898437Z"
    },
    "papermill": {
     "duration": 3.780912,
     "end_time": "2022-04-17T05:30:07.901316",
     "exception": false,
     "start_time": "2022-04-17T05:30:04.120404",
     "status": "completed"
    },
    "tags": []
   },
   "outputs": [
    {
     "data": {
      "text/plain": [
       "RandomForestClassifier(max_depth=7, min_samples_leaf=7, n_estimators=1400,\n",
       "                       oob_score=True)"
      ]
     },
     "execution_count": 112,
     "metadata": {},
     "output_type": "execute_result"
    }
   ],
   "source": [
    "rf.fit(train_X,y)"
   ]
  },
  {
   "cell_type": "code",
   "execution_count": 113,
   "id": "cc684b44",
   "metadata": {
    "execution": {
     "iopub.execute_input": "2022-04-17T05:30:08.204799Z",
     "iopub.status.busy": "2022-04-17T05:30:08.204271Z",
     "iopub.status.idle": "2022-04-17T05:30:08.209175Z",
     "shell.execute_reply": "2022-04-17T05:30:08.208542Z"
    },
    "papermill": {
     "duration": 0.159186,
     "end_time": "2022-04-17T05:30:08.211147",
     "exception": false,
     "start_time": "2022-04-17T05:30:08.051961",
     "status": "completed"
    },
    "tags": []
   },
   "outputs": [
    {
     "data": {
      "text/plain": [
       "0.8271604938271605"
      ]
     },
     "execution_count": 113,
     "metadata": {},
     "output_type": "execute_result"
    }
   ],
   "source": [
    "rf.oob_score_"
   ]
  },
  {
   "cell_type": "code",
   "execution_count": 114,
   "id": "50c05038",
   "metadata": {
    "execution": {
     "iopub.execute_input": "2022-04-17T05:30:08.513841Z",
     "iopub.status.busy": "2022-04-17T05:30:08.513287Z",
     "iopub.status.idle": "2022-04-17T05:30:26.622202Z",
     "shell.execute_reply": "2022-04-17T05:30:26.621345Z"
    },
    "papermill": {
     "duration": 18.262467,
     "end_time": "2022-04-17T05:30:26.624490",
     "exception": false,
     "start_time": "2022-04-17T05:30:08.362023",
     "status": "completed"
    },
    "tags": []
   },
   "outputs": [
    {
     "data": {
      "text/plain": [
       "array([0.83240223, 0.82022472, 0.8258427 , 0.80898876, 0.8258427 ])"
      ]
     },
     "execution_count": 114,
     "metadata": {},
     "output_type": "execute_result"
    }
   ],
   "source": [
    "cross_val_score(rf, train_X, y, cv=5)"
   ]
  },
  {
   "cell_type": "code",
   "execution_count": 115,
   "id": "fdbcbbd5",
   "metadata": {
    "execution": {
     "iopub.execute_input": "2022-04-17T05:30:26.928575Z",
     "iopub.status.busy": "2022-04-17T05:30:26.927687Z",
     "iopub.status.idle": "2022-04-17T05:30:26.955362Z",
     "shell.execute_reply": "2022-04-17T05:30:26.954546Z"
    },
    "papermill": {
     "duration": 0.1818,
     "end_time": "2022-04-17T05:30:26.957481",
     "exception": false,
     "start_time": "2022-04-17T05:30:26.775681",
     "status": "completed"
    },
    "tags": []
   },
   "outputs": [
    {
     "data": {
      "text/html": [
       "<div>\n",
       "<style scoped>\n",
       "    .dataframe tbody tr th:only-of-type {\n",
       "        vertical-align: middle;\n",
       "    }\n",
       "\n",
       "    .dataframe tbody tr th {\n",
       "        vertical-align: top;\n",
       "    }\n",
       "\n",
       "    .dataframe thead th {\n",
       "        text-align: right;\n",
       "    }\n",
       "</style>\n",
       "<table border=\"1\" class=\"dataframe\">\n",
       "  <thead>\n",
       "    <tr style=\"text-align: right;\">\n",
       "      <th></th>\n",
       "      <th>PassengerId</th>\n",
       "      <th>Survived</th>\n",
       "    </tr>\n",
       "  </thead>\n",
       "  <tbody>\n",
       "    <tr>\n",
       "      <th>0</th>\n",
       "      <td>892</td>\n",
       "      <td>0</td>\n",
       "    </tr>\n",
       "    <tr>\n",
       "      <th>1</th>\n",
       "      <td>893</td>\n",
       "      <td>0</td>\n",
       "    </tr>\n",
       "    <tr>\n",
       "      <th>2</th>\n",
       "      <td>894</td>\n",
       "      <td>0</td>\n",
       "    </tr>\n",
       "    <tr>\n",
       "      <th>3</th>\n",
       "      <td>895</td>\n",
       "      <td>0</td>\n",
       "    </tr>\n",
       "    <tr>\n",
       "      <th>4</th>\n",
       "      <td>896</td>\n",
       "      <td>1</td>\n",
       "    </tr>\n",
       "    <tr>\n",
       "      <th>...</th>\n",
       "      <td>...</td>\n",
       "      <td>...</td>\n",
       "    </tr>\n",
       "    <tr>\n",
       "      <th>413</th>\n",
       "      <td>1305</td>\n",
       "      <td>0</td>\n",
       "    </tr>\n",
       "    <tr>\n",
       "      <th>414</th>\n",
       "      <td>1306</td>\n",
       "      <td>0</td>\n",
       "    </tr>\n",
       "    <tr>\n",
       "      <th>415</th>\n",
       "      <td>1307</td>\n",
       "      <td>0</td>\n",
       "    </tr>\n",
       "    <tr>\n",
       "      <th>416</th>\n",
       "      <td>1308</td>\n",
       "      <td>0</td>\n",
       "    </tr>\n",
       "    <tr>\n",
       "      <th>417</th>\n",
       "      <td>1309</td>\n",
       "      <td>1</td>\n",
       "    </tr>\n",
       "  </tbody>\n",
       "</table>\n",
       "<p>418 rows × 2 columns</p>\n",
       "</div>"
      ],
      "text/plain": [
       "     PassengerId  Survived\n",
       "0            892         0\n",
       "1            893         0\n",
       "2            894         0\n",
       "3            895         0\n",
       "4            896         1\n",
       "..           ...       ...\n",
       "413         1305         0\n",
       "414         1306         0\n",
       "415         1307         0\n",
       "416         1308         0\n",
       "417         1309         1\n",
       "\n",
       "[418 rows x 2 columns]"
      ]
     },
     "execution_count": 115,
     "metadata": {},
     "output_type": "execute_result"
    }
   ],
   "source": [
    "preds = clf.predict(test_X)\n",
    "result = pd.DataFrame({'PassengerId': df_test_pi, 'Survived': preds})\n",
    "result.to_csv('submission_hist.csv', index=False)\n",
    "result"
   ]
  },
  {
   "cell_type": "code",
   "execution_count": 116,
   "id": "a2e36fed",
   "metadata": {
    "execution": {
     "iopub.execute_input": "2022-04-17T05:30:27.261869Z",
     "iopub.status.busy": "2022-04-17T05:30:27.260924Z",
     "iopub.status.idle": "2022-04-17T05:30:27.490771Z",
     "shell.execute_reply": "2022-04-17T05:30:27.489948Z"
    },
    "papermill": {
     "duration": 0.384611,
     "end_time": "2022-04-17T05:30:27.492855",
     "exception": false,
     "start_time": "2022-04-17T05:30:27.108244",
     "status": "completed"
    },
    "tags": []
   },
   "outputs": [
    {
     "data": {
      "text/html": [
       "<div>\n",
       "<style scoped>\n",
       "    .dataframe tbody tr th:only-of-type {\n",
       "        vertical-align: middle;\n",
       "    }\n",
       "\n",
       "    .dataframe tbody tr th {\n",
       "        vertical-align: top;\n",
       "    }\n",
       "\n",
       "    .dataframe thead th {\n",
       "        text-align: right;\n",
       "    }\n",
       "</style>\n",
       "<table border=\"1\" class=\"dataframe\">\n",
       "  <thead>\n",
       "    <tr style=\"text-align: right;\">\n",
       "      <th></th>\n",
       "      <th>PassengerId</th>\n",
       "      <th>Survived</th>\n",
       "    </tr>\n",
       "  </thead>\n",
       "  <tbody>\n",
       "    <tr>\n",
       "      <th>0</th>\n",
       "      <td>892</td>\n",
       "      <td>0</td>\n",
       "    </tr>\n",
       "    <tr>\n",
       "      <th>1</th>\n",
       "      <td>893</td>\n",
       "      <td>1</td>\n",
       "    </tr>\n",
       "    <tr>\n",
       "      <th>2</th>\n",
       "      <td>894</td>\n",
       "      <td>0</td>\n",
       "    </tr>\n",
       "    <tr>\n",
       "      <th>3</th>\n",
       "      <td>895</td>\n",
       "      <td>0</td>\n",
       "    </tr>\n",
       "    <tr>\n",
       "      <th>4</th>\n",
       "      <td>896</td>\n",
       "      <td>1</td>\n",
       "    </tr>\n",
       "    <tr>\n",
       "      <th>...</th>\n",
       "      <td>...</td>\n",
       "      <td>...</td>\n",
       "    </tr>\n",
       "    <tr>\n",
       "      <th>413</th>\n",
       "      <td>1305</td>\n",
       "      <td>0</td>\n",
       "    </tr>\n",
       "    <tr>\n",
       "      <th>414</th>\n",
       "      <td>1306</td>\n",
       "      <td>1</td>\n",
       "    </tr>\n",
       "    <tr>\n",
       "      <th>415</th>\n",
       "      <td>1307</td>\n",
       "      <td>0</td>\n",
       "    </tr>\n",
       "    <tr>\n",
       "      <th>416</th>\n",
       "      <td>1308</td>\n",
       "      <td>0</td>\n",
       "    </tr>\n",
       "    <tr>\n",
       "      <th>417</th>\n",
       "      <td>1309</td>\n",
       "      <td>1</td>\n",
       "    </tr>\n",
       "  </tbody>\n",
       "</table>\n",
       "<p>418 rows × 2 columns</p>\n",
       "</div>"
      ],
      "text/plain": [
       "     PassengerId  Survived\n",
       "0            892         0\n",
       "1            893         1\n",
       "2            894         0\n",
       "3            895         0\n",
       "4            896         1\n",
       "..           ...       ...\n",
       "413         1305         0\n",
       "414         1306         1\n",
       "415         1307         0\n",
       "416         1308         0\n",
       "417         1309         1\n",
       "\n",
       "[418 rows x 2 columns]"
      ]
     },
     "execution_count": 116,
     "metadata": {},
     "output_type": "execute_result"
    }
   ],
   "source": [
    "preds = rf.predict(test_X)\n",
    "result = pd.DataFrame({'PassengerId': df_test_pi, 'Survived': preds})\n",
    "result.to_csv('submission_rf.csv', index=False)\n",
    "result"
   ]
  },
  {
   "cell_type": "code",
   "execution_count": null,
   "id": "9fc7f9dc",
   "metadata": {
    "papermill": {
     "duration": 0.150145,
     "end_time": "2022-04-17T05:30:27.793713",
     "exception": false,
     "start_time": "2022-04-17T05:30:27.643568",
     "status": "completed"
    },
    "tags": []
   },
   "outputs": [],
   "source": []
  }
 ],
 "metadata": {
  "kernelspec": {
   "display_name": "Python 3",
   "language": "python",
   "name": "python3"
  },
  "language_info": {
   "codemirror_mode": {
    "name": "ipython",
    "version": 3
   },
   "file_extension": ".py",
   "mimetype": "text/x-python",
   "name": "python",
   "nbconvert_exporter": "python",
   "pygments_lexer": "ipython3",
   "version": "3.7.12"
  },
  "papermill": {
   "default_parameters": {},
   "duration": 125.327851,
   "end_time": "2022-04-17T05:30:28.865233",
   "environment_variables": {},
   "exception": null,
   "input_path": "__notebook__.ipynb",
   "output_path": "__notebook__.ipynb",
   "parameters": {},
   "start_time": "2022-04-17T05:28:23.537382",
   "version": "2.3.4"
  }
 },
 "nbformat": 4,
 "nbformat_minor": 5
}
