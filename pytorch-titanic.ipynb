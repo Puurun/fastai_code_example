{
 "cells": [
  {
   "cell_type": "markdown",
   "id": "fd91d23f",
   "metadata": {
    "id": "view-in-github",
    "papermill": {
     "duration": 0.089069,
     "end_time": "2022-04-16T07:13:39.117088",
     "exception": false,
     "start_time": "2022-04-16T07:13:39.028019",
     "status": "completed"
    },
    "tags": []
   },
   "source": [
    "<a href=\"https://colab.research.google.com/github/Puurun/fastai_code_example/blob/main/Pytorch_Titanic.ipynb\" target=\"_parent\"><img src=\"https://colab.research.google.com/assets/colab-badge.svg\" alt=\"Open In Colab\"/></a>"
   ]
  },
  {
   "cell_type": "code",
   "execution_count": null,
   "id": "ed6aff62",
   "metadata": {
    "id": "SCI89IkiejzG",
    "outputId": "c8596ff0-5f2b-4bab-99dd-0d0b181f6795",
    "papermill": {
     "duration": 0.085388,
     "end_time": "2022-04-16T07:13:39.288390",
     "exception": false,
     "start_time": "2022-04-16T07:13:39.203002",
     "status": "completed"
    },
    "tags": []
   },
   "outputs": [],
   "source": []
  },
  {
   "cell_type": "code",
   "execution_count": 1,
   "id": "09ac0f7a",
   "metadata": {
    "execution": {
     "iopub.execute_input": "2022-04-16T07:13:39.461348Z",
     "iopub.status.busy": "2022-04-16T07:13:39.460790Z",
     "iopub.status.idle": "2022-04-16T07:13:52.282890Z",
     "shell.execute_reply": "2022-04-16T07:13:52.281882Z"
    },
    "id": "-ltAnZP3QBy3",
    "outputId": "5be66168-fe3d-46c9-99f8-2d5496bc6f56",
    "papermill": {
     "duration": 12.911704,
     "end_time": "2022-04-16T07:13:52.285658",
     "exception": false,
     "start_time": "2022-04-16T07:13:39.373954",
     "status": "completed"
    },
    "tags": []
   },
   "outputs": [
    {
     "name": "stdout",
     "output_type": "stream",
     "text": [
      "Collecting impyute\r\n",
      "  Downloading impyute-0.0.8-py2.py3-none-any.whl (31 kB)\r\n",
      "Requirement already satisfied: scikit-learn in /opt/conda/lib/python3.7/site-packages (from impyute) (1.0.2)\r\n",
      "Requirement already satisfied: numpy in /opt/conda/lib/python3.7/site-packages (from impyute) (1.21.5)\r\n",
      "Requirement already satisfied: scipy in /opt/conda/lib/python3.7/site-packages (from impyute) (1.7.3)\r\n",
      "Requirement already satisfied: threadpoolctl>=2.0.0 in /opt/conda/lib/python3.7/site-packages (from scikit-learn->impyute) (3.1.0)\r\n",
      "Requirement already satisfied: joblib>=0.11 in /opt/conda/lib/python3.7/site-packages (from scikit-learn->impyute) (1.0.1)\r\n",
      "Installing collected packages: impyute\r\n",
      "Successfully installed impyute-0.0.8\r\n",
      "\u001b[33mWARNING: Running pip as the 'root' user can result in broken permissions and conflicting behaviour with the system package manager. It is recommended to use a virtual environment instead: https://pip.pypa.io/warnings/venv\u001b[0m\u001b[33m\r\n",
      "\u001b[0m"
     ]
    }
   ],
   "source": [
    "!pip install impyute"
   ]
  },
  {
   "cell_type": "code",
   "execution_count": 2,
   "id": "bfafab73",
   "metadata": {
    "execution": {
     "iopub.execute_input": "2022-04-16T07:13:52.465375Z",
     "iopub.status.busy": "2022-04-16T07:13:52.465085Z",
     "iopub.status.idle": "2022-04-16T07:14:15.447761Z",
     "shell.execute_reply": "2022-04-16T07:14:15.446927Z"
    },
    "id": "h0xhi6k4bUXN",
    "outputId": "4506c3ee-d33e-4811-8dae-0838b19615cc",
    "papermill": {
     "duration": 23.074772,
     "end_time": "2022-04-16T07:14:15.450206",
     "exception": false,
     "start_time": "2022-04-16T07:13:52.375434",
     "status": "completed"
    },
    "tags": []
   },
   "outputs": [
    {
     "name": "stdout",
     "output_type": "stream",
     "text": [
      "\u001b[31mERROR: pip's dependency resolver does not currently take into account all the packages that are installed. This behaviour is the source of the following dependency conflicts.\r\n",
      "tensorflow-io 0.21.0 requires tensorflow-io-gcs-filesystem==0.21.0, which is not installed.\r\n",
      "tensorflow 2.6.3 requires absl-py~=0.10, but you have absl-py 1.0.0 which is incompatible.\r\n",
      "tensorflow 2.6.3 requires numpy~=1.19.2, but you have numpy 1.21.5 which is incompatible.\r\n",
      "tensorflow 2.6.3 requires six~=1.15.0, but you have six 1.16.0 which is incompatible.\r\n",
      "tensorflow 2.6.3 requires wrapt~=1.12.1, but you have wrapt 1.14.0 which is incompatible.\r\n",
      "tensorflow-transform 1.7.0 requires pyarrow<6,>=1, but you have pyarrow 7.0.0 which is incompatible.\r\n",
      "tensorflow-transform 1.7.0 requires tensorflow!=2.0.*,!=2.1.*,!=2.2.*,!=2.3.*,!=2.4.*,!=2.5.*,!=2.6.*,!=2.7.*,<2.9,>=1.15.5, but you have tensorflow 2.6.3 which is incompatible.\r\n",
      "tensorflow-serving-api 2.8.0 requires tensorflow<3,>=2.8.0, but you have tensorflow 2.6.3 which is incompatible.\r\n",
      "rich 12.2.0 requires typing-extensions<5.0,>=4.0.0; python_version < \"3.9\", but you have typing-extensions 3.10.0.2 which is incompatible.\r\n",
      "pytorch-lightning 1.6.0 requires typing-extensions>=4.0.0, but you have typing-extensions 3.10.0.2 which is incompatible.\r\n",
      "flake8 4.0.1 requires importlib-metadata<4.3; python_version < \"3.8\", but you have importlib-metadata 4.11.3 which is incompatible.\r\n",
      "apache-beam 2.37.0 requires dill<0.3.2,>=0.3.1.1, but you have dill 0.3.4 which is incompatible.\r\n",
      "apache-beam 2.37.0 requires httplib2<0.20.0,>=0.8, but you have httplib2 0.20.4 which is incompatible.\r\n",
      "apache-beam 2.37.0 requires pyarrow<7.0.0,>=0.15.1, but you have pyarrow 7.0.0 which is incompatible.\r\n",
      "aioitertools 0.10.0 requires typing_extensions>=4.0; python_version < \"3.10\", but you have typing-extensions 3.10.0.2 which is incompatible.\r\n",
      "aiobotocore 2.2.0 requires botocore<1.24.22,>=1.24.21, but you have botocore 1.24.38 which is incompatible.\u001b[0m\u001b[31m\r\n",
      "\u001b[0m"
     ]
    }
   ],
   "source": [
    "!pip install fastai -Uqq"
   ]
  },
  {
   "cell_type": "code",
   "execution_count": 3,
   "id": "e4d3379c",
   "metadata": {
    "execution": {
     "iopub.execute_input": "2022-04-16T07:14:15.628306Z",
     "iopub.status.busy": "2022-04-16T07:14:15.628011Z",
     "iopub.status.idle": "2022-04-16T07:14:15.632609Z",
     "shell.execute_reply": "2022-04-16T07:14:15.631677Z"
    },
    "id": "TNgP1SUQd-sh",
    "papermill": {
     "duration": 0.096088,
     "end_time": "2022-04-16T07:14:15.634551",
     "exception": false,
     "start_time": "2022-04-16T07:14:15.538463",
     "status": "completed"
    },
    "tags": []
   },
   "outputs": [],
   "source": [
    "gpu = False\n",
    "device = 'cuda' if gpu else 'cpu'"
   ]
  },
  {
   "cell_type": "code",
   "execution_count": 4,
   "id": "9336a467",
   "metadata": {
    "execution": {
     "iopub.execute_input": "2022-04-16T07:14:15.811765Z",
     "iopub.status.busy": "2022-04-16T07:14:15.811492Z",
     "iopub.status.idle": "2022-04-16T07:14:17.132577Z",
     "shell.execute_reply": "2022-04-16T07:14:17.131629Z"
    },
    "id": "JYxhj_fHeOwx",
    "papermill": {
     "duration": 1.41226,
     "end_time": "2022-04-16T07:14:17.134937",
     "exception": false,
     "start_time": "2022-04-16T07:14:15.722677",
     "status": "completed"
    },
    "tags": []
   },
   "outputs": [],
   "source": [
    "import pandas as pd\n",
    "import numpy as np\n",
    "import seaborn as sns\n",
    "import matplotlib.pyplot as plt\n",
    "import impyute as im\n",
    "import sys\n",
    "from impyute.imputation.cs import fast_knn\n",
    "from sklearn.preprocessing import OrdinalEncoder"
   ]
  },
  {
   "cell_type": "code",
   "execution_count": 5,
   "id": "a840f51b",
   "metadata": {
    "execution": {
     "iopub.execute_input": "2022-04-16T07:14:17.313312Z",
     "iopub.status.busy": "2022-04-16T07:14:17.313032Z",
     "iopub.status.idle": "2022-04-16T07:14:17.347605Z",
     "shell.execute_reply": "2022-04-16T07:14:17.346899Z"
    },
    "id": "ZkXCpX_cedrB",
    "papermill": {
     "duration": 0.125568,
     "end_time": "2022-04-16T07:14:17.349949",
     "exception": false,
     "start_time": "2022-04-16T07:14:17.224381",
     "status": "completed"
    },
    "tags": []
   },
   "outputs": [],
   "source": [
    "df = pd.read_csv('../input/titanic/train.csv')\n",
    "df_test = pd.read_csv('../input/titanic/test.csv')"
   ]
  },
  {
   "cell_type": "code",
   "execution_count": 6,
   "id": "20a321ef",
   "metadata": {
    "execution": {
     "iopub.execute_input": "2022-04-16T07:14:17.551412Z",
     "iopub.status.busy": "2022-04-16T07:14:17.550774Z",
     "iopub.status.idle": "2022-04-16T07:14:17.559271Z",
     "shell.execute_reply": "2022-04-16T07:14:17.558694Z"
    },
    "id": "Ebfuhs5-eu87",
    "outputId": "13da6f35-ff67-448e-a73b-0c9449bb3e2e",
    "papermill": {
     "duration": 0.117093,
     "end_time": "2022-04-16T07:14:17.566178",
     "exception": false,
     "start_time": "2022-04-16T07:14:17.449085",
     "status": "completed"
    },
    "tags": []
   },
   "outputs": [
    {
     "data": {
      "text/plain": [
       "array(['PassengerId', 'Survived', 'Pclass', 'Name', 'Sex', 'Age', 'SibSp',\n",
       "       'Parch', 'Ticket', 'Fare', 'Cabin', 'Embarked'], dtype=object)"
      ]
     },
     "execution_count": 6,
     "metadata": {},
     "output_type": "execute_result"
    }
   ],
   "source": [
    "df.columns.values"
   ]
  },
  {
   "cell_type": "code",
   "execution_count": null,
   "id": "d8f1eba2",
   "metadata": {
    "papermill": {
     "duration": 0.09889,
     "end_time": "2022-04-16T07:14:17.765276",
     "exception": false,
     "start_time": "2022-04-16T07:14:17.666386",
     "status": "completed"
    },
    "tags": []
   },
   "outputs": [],
   "source": []
  },
  {
   "cell_type": "code",
   "execution_count": null,
   "id": "ba6cca36",
   "metadata": {
    "papermill": {
     "duration": 0.088314,
     "end_time": "2022-04-16T07:14:17.942586",
     "exception": false,
     "start_time": "2022-04-16T07:14:17.854272",
     "status": "completed"
    },
    "tags": []
   },
   "outputs": [],
   "source": []
  },
  {
   "cell_type": "code",
   "execution_count": 7,
   "id": "f7acaa69",
   "metadata": {
    "execution": {
     "iopub.execute_input": "2022-04-16T07:14:18.123505Z",
     "iopub.status.busy": "2022-04-16T07:14:18.122902Z",
     "iopub.status.idle": "2022-04-16T07:14:18.127852Z",
     "shell.execute_reply": "2022-04-16T07:14:18.127254Z"
    },
    "id": "RmyHWYzXe4EJ",
    "papermill": {
     "duration": 0.098092,
     "end_time": "2022-04-16T07:14:18.129781",
     "exception": false,
     "start_time": "2022-04-16T07:14:18.031689",
     "status": "completed"
    },
    "tags": []
   },
   "outputs": [],
   "source": [
    "dep_var = ['Survived']\n",
    "cat_var = ['Sex', 'Embarked']\n",
    "ord_var = ['Pclass']\n",
    "cont_var = ['Age', 'Fare']\n",
    "desc_var = ['SibSp', 'Parch']"
   ]
  },
  {
   "cell_type": "code",
   "execution_count": 8,
   "id": "39789573",
   "metadata": {
    "execution": {
     "iopub.execute_input": "2022-04-16T07:14:18.312930Z",
     "iopub.status.busy": "2022-04-16T07:14:18.312302Z",
     "iopub.status.idle": "2022-04-16T07:14:18.338341Z",
     "shell.execute_reply": "2022-04-16T07:14:18.337739Z"
    },
    "id": "OOwkYfTuoCDo",
    "papermill": {
     "duration": 0.121094,
     "end_time": "2022-04-16T07:14:18.340554",
     "exception": false,
     "start_time": "2022-04-16T07:14:18.219460",
     "status": "completed"
    },
    "tags": []
   },
   "outputs": [],
   "source": [
    "combine = [df, df_test]\n",
    "for dataset in combine:\n",
    "    dataset[cat_var+ord_var] = dataset[cat_var+ord_var].astype('category')\n",
    "    dataset['Pclass'] = dataset['Pclass'].cat.set_categories([1, 2, 3], ordered=True)"
   ]
  },
  {
   "cell_type": "code",
   "execution_count": 9,
   "id": "4687d837",
   "metadata": {
    "execution": {
     "iopub.execute_input": "2022-04-16T07:14:18.518816Z",
     "iopub.status.busy": "2022-04-16T07:14:18.518521Z",
     "iopub.status.idle": "2022-04-16T07:14:18.525568Z",
     "shell.execute_reply": "2022-04-16T07:14:18.524785Z"
    },
    "id": "reaPqaUmfn2G",
    "outputId": "d2fc0f49-98c2-4759-9c4b-287b1a22475e",
    "papermill": {
     "duration": 0.098599,
     "end_time": "2022-04-16T07:14:18.527881",
     "exception": false,
     "start_time": "2022-04-16T07:14:18.429282",
     "status": "completed"
    },
    "tags": []
   },
   "outputs": [
    {
     "data": {
      "text/plain": [
       "PassengerId       int64\n",
       "Survived          int64\n",
       "Pclass         category\n",
       "Name             object\n",
       "Sex            category\n",
       "Age             float64\n",
       "SibSp             int64\n",
       "Parch             int64\n",
       "Ticket           object\n",
       "Fare            float64\n",
       "Cabin            object\n",
       "Embarked       category\n",
       "dtype: object"
      ]
     },
     "execution_count": 9,
     "metadata": {},
     "output_type": "execute_result"
    }
   ],
   "source": [
    "df.dtypes"
   ]
  },
  {
   "cell_type": "code",
   "execution_count": 10,
   "id": "b2a8ac7e",
   "metadata": {
    "execution": {
     "iopub.execute_input": "2022-04-16T07:14:18.707332Z",
     "iopub.status.busy": "2022-04-16T07:14:18.706762Z",
     "iopub.status.idle": "2022-04-16T07:14:18.720771Z",
     "shell.execute_reply": "2022-04-16T07:14:18.719893Z"
    },
    "id": "SqiH0pOrfob-",
    "outputId": "5e1d6efe-0e0a-45d5-90fb-240e5fb6daef",
    "papermill": {
     "duration": 0.106127,
     "end_time": "2022-04-16T07:14:18.722772",
     "exception": false,
     "start_time": "2022-04-16T07:14:18.616645",
     "status": "completed"
    },
    "tags": []
   },
   "outputs": [
    {
     "data": {
      "text/plain": [
       "Cabin          0.771044\n",
       "Age            0.198653\n",
       "Embarked       0.002245\n",
       "PassengerId    0.000000\n",
       "Survived       0.000000\n",
       "Pclass         0.000000\n",
       "Name           0.000000\n",
       "Sex            0.000000\n",
       "SibSp          0.000000\n",
       "Parch          0.000000\n",
       "Ticket         0.000000\n",
       "Fare           0.000000\n",
       "dtype: float64"
      ]
     },
     "execution_count": 10,
     "metadata": {},
     "output_type": "execute_result"
    }
   ],
   "source": [
    "null_check = (df.isnull().sum()/ df.isnull().count()).sort_values(ascending=False)\n",
    "null_check"
   ]
  },
  {
   "cell_type": "code",
   "execution_count": 11,
   "id": "b699afa6",
   "metadata": {
    "execution": {
     "iopub.execute_input": "2022-04-16T07:14:18.903724Z",
     "iopub.status.busy": "2022-04-16T07:14:18.903181Z",
     "iopub.status.idle": "2022-04-16T07:14:18.929608Z",
     "shell.execute_reply": "2022-04-16T07:14:18.928862Z"
    },
    "id": "VGzez6fnf2Qn",
    "outputId": "8ec2ead3-f2c2-4fc0-bd15-0b2e2305601a",
    "papermill": {
     "duration": 0.119493,
     "end_time": "2022-04-16T07:14:18.932296",
     "exception": false,
     "start_time": "2022-04-16T07:14:18.812803",
     "status": "completed"
    },
    "tags": []
   },
   "outputs": [
    {
     "name": "stdout",
     "output_type": "stream",
     "text": [
      "<class 'pandas.core.frame.DataFrame'>\n",
      "RangeIndex: 891 entries, 0 to 890\n",
      "Data columns (total 12 columns):\n",
      " #   Column       Non-Null Count  Dtype   \n",
      "---  ------       --------------  -----   \n",
      " 0   PassengerId  891 non-null    int64   \n",
      " 1   Survived     891 non-null    int64   \n",
      " 2   Pclass       891 non-null    category\n",
      " 3   Name         891 non-null    object  \n",
      " 4   Sex          891 non-null    category\n",
      " 5   Age          714 non-null    float64 \n",
      " 6   SibSp        891 non-null    int64   \n",
      " 7   Parch        891 non-null    int64   \n",
      " 8   Ticket       891 non-null    object  \n",
      " 9   Fare         891 non-null    float64 \n",
      " 10  Cabin        204 non-null    object  \n",
      " 11  Embarked     889 non-null    category\n",
      "dtypes: category(3), float64(2), int64(4), object(3)\n",
      "memory usage: 65.8+ KB\n",
      "****************************************\n",
      "<class 'pandas.core.frame.DataFrame'>\n",
      "RangeIndex: 418 entries, 0 to 417\n",
      "Data columns (total 11 columns):\n",
      " #   Column       Non-Null Count  Dtype   \n",
      "---  ------       --------------  -----   \n",
      " 0   PassengerId  418 non-null    int64   \n",
      " 1   Pclass       418 non-null    category\n",
      " 2   Name         418 non-null    object  \n",
      " 3   Sex          418 non-null    category\n",
      " 4   Age          332 non-null    float64 \n",
      " 5   SibSp        418 non-null    int64   \n",
      " 6   Parch        418 non-null    int64   \n",
      " 7   Ticket       418 non-null    object  \n",
      " 8   Fare         417 non-null    float64 \n",
      " 9   Cabin        91 non-null     object  \n",
      " 10  Embarked     418 non-null    category\n",
      "dtypes: category(3), float64(2), int64(3), object(3)\n",
      "memory usage: 27.9+ KB\n"
     ]
    }
   ],
   "source": [
    "df.info()\n",
    "print('*'*40)\n",
    "df_test.info()"
   ]
  },
  {
   "cell_type": "code",
   "execution_count": 12,
   "id": "627f7607",
   "metadata": {
    "execution": {
     "iopub.execute_input": "2022-04-16T07:14:19.114841Z",
     "iopub.status.busy": "2022-04-16T07:14:19.114531Z",
     "iopub.status.idle": "2022-04-16T07:14:19.147886Z",
     "shell.execute_reply": "2022-04-16T07:14:19.147048Z"
    },
    "id": "hkD9m0ZQgsX-",
    "outputId": "2820baaf-d9fb-4648-8381-767b7a8fee64",
    "papermill": {
     "duration": 0.12656,
     "end_time": "2022-04-16T07:14:19.149970",
     "exception": false,
     "start_time": "2022-04-16T07:14:19.023410",
     "status": "completed"
    },
    "tags": []
   },
   "outputs": [
    {
     "data": {
      "text/html": [
       "<div>\n",
       "<style scoped>\n",
       "    .dataframe tbody tr th:only-of-type {\n",
       "        vertical-align: middle;\n",
       "    }\n",
       "\n",
       "    .dataframe tbody tr th {\n",
       "        vertical-align: top;\n",
       "    }\n",
       "\n",
       "    .dataframe thead th {\n",
       "        text-align: right;\n",
       "    }\n",
       "</style>\n",
       "<table border=\"1\" class=\"dataframe\">\n",
       "  <thead>\n",
       "    <tr style=\"text-align: right;\">\n",
       "      <th></th>\n",
       "      <th>PassengerId</th>\n",
       "      <th>Survived</th>\n",
       "      <th>Age</th>\n",
       "      <th>SibSp</th>\n",
       "      <th>Parch</th>\n",
       "      <th>Fare</th>\n",
       "    </tr>\n",
       "  </thead>\n",
       "  <tbody>\n",
       "    <tr>\n",
       "      <th>count</th>\n",
       "      <td>891.000000</td>\n",
       "      <td>891.000000</td>\n",
       "      <td>714.000000</td>\n",
       "      <td>891.000000</td>\n",
       "      <td>891.000000</td>\n",
       "      <td>891.000000</td>\n",
       "    </tr>\n",
       "    <tr>\n",
       "      <th>mean</th>\n",
       "      <td>446.000000</td>\n",
       "      <td>0.383838</td>\n",
       "      <td>29.699118</td>\n",
       "      <td>0.523008</td>\n",
       "      <td>0.381594</td>\n",
       "      <td>32.204208</td>\n",
       "    </tr>\n",
       "    <tr>\n",
       "      <th>std</th>\n",
       "      <td>257.353842</td>\n",
       "      <td>0.486592</td>\n",
       "      <td>14.526497</td>\n",
       "      <td>1.102743</td>\n",
       "      <td>0.806057</td>\n",
       "      <td>49.693429</td>\n",
       "    </tr>\n",
       "    <tr>\n",
       "      <th>min</th>\n",
       "      <td>1.000000</td>\n",
       "      <td>0.000000</td>\n",
       "      <td>0.420000</td>\n",
       "      <td>0.000000</td>\n",
       "      <td>0.000000</td>\n",
       "      <td>0.000000</td>\n",
       "    </tr>\n",
       "    <tr>\n",
       "      <th>25%</th>\n",
       "      <td>223.500000</td>\n",
       "      <td>0.000000</td>\n",
       "      <td>20.125000</td>\n",
       "      <td>0.000000</td>\n",
       "      <td>0.000000</td>\n",
       "      <td>7.910400</td>\n",
       "    </tr>\n",
       "    <tr>\n",
       "      <th>50%</th>\n",
       "      <td>446.000000</td>\n",
       "      <td>0.000000</td>\n",
       "      <td>28.000000</td>\n",
       "      <td>0.000000</td>\n",
       "      <td>0.000000</td>\n",
       "      <td>14.454200</td>\n",
       "    </tr>\n",
       "    <tr>\n",
       "      <th>75%</th>\n",
       "      <td>668.500000</td>\n",
       "      <td>1.000000</td>\n",
       "      <td>38.000000</td>\n",
       "      <td>1.000000</td>\n",
       "      <td>0.000000</td>\n",
       "      <td>31.000000</td>\n",
       "    </tr>\n",
       "    <tr>\n",
       "      <th>max</th>\n",
       "      <td>891.000000</td>\n",
       "      <td>1.000000</td>\n",
       "      <td>80.000000</td>\n",
       "      <td>8.000000</td>\n",
       "      <td>6.000000</td>\n",
       "      <td>512.329200</td>\n",
       "    </tr>\n",
       "  </tbody>\n",
       "</table>\n",
       "</div>"
      ],
      "text/plain": [
       "       PassengerId    Survived         Age       SibSp       Parch        Fare\n",
       "count   891.000000  891.000000  714.000000  891.000000  891.000000  891.000000\n",
       "mean    446.000000    0.383838   29.699118    0.523008    0.381594   32.204208\n",
       "std     257.353842    0.486592   14.526497    1.102743    0.806057   49.693429\n",
       "min       1.000000    0.000000    0.420000    0.000000    0.000000    0.000000\n",
       "25%     223.500000    0.000000   20.125000    0.000000    0.000000    7.910400\n",
       "50%     446.000000    0.000000   28.000000    0.000000    0.000000   14.454200\n",
       "75%     668.500000    1.000000   38.000000    1.000000    0.000000   31.000000\n",
       "max     891.000000    1.000000   80.000000    8.000000    6.000000  512.329200"
      ]
     },
     "execution_count": 12,
     "metadata": {},
     "output_type": "execute_result"
    }
   ],
   "source": [
    "df.describe()"
   ]
  },
  {
   "cell_type": "code",
   "execution_count": 13,
   "id": "4ebb57e9",
   "metadata": {
    "execution": {
     "iopub.execute_input": "2022-04-16T07:14:19.332570Z",
     "iopub.status.busy": "2022-04-16T07:14:19.332317Z",
     "iopub.status.idle": "2022-04-16T07:14:19.350242Z",
     "shell.execute_reply": "2022-04-16T07:14:19.349278Z"
    },
    "id": "laMZG81ghSrn",
    "outputId": "8a784e5c-4885-4dfd-e05e-1d65d61b9dea",
    "papermill": {
     "duration": 0.111676,
     "end_time": "2022-04-16T07:14:19.352616",
     "exception": false,
     "start_time": "2022-04-16T07:14:19.240940",
     "status": "completed"
    },
    "tags": []
   },
   "outputs": [
    {
     "data": {
      "text/html": [
       "<div>\n",
       "<style scoped>\n",
       "    .dataframe tbody tr th:only-of-type {\n",
       "        vertical-align: middle;\n",
       "    }\n",
       "\n",
       "    .dataframe tbody tr th {\n",
       "        vertical-align: top;\n",
       "    }\n",
       "\n",
       "    .dataframe thead th {\n",
       "        text-align: right;\n",
       "    }\n",
       "</style>\n",
       "<table border=\"1\" class=\"dataframe\">\n",
       "  <thead>\n",
       "    <tr style=\"text-align: right;\">\n",
       "      <th></th>\n",
       "      <th>Name</th>\n",
       "      <th>Ticket</th>\n",
       "      <th>Cabin</th>\n",
       "    </tr>\n",
       "  </thead>\n",
       "  <tbody>\n",
       "    <tr>\n",
       "      <th>count</th>\n",
       "      <td>891</td>\n",
       "      <td>891</td>\n",
       "      <td>204</td>\n",
       "    </tr>\n",
       "    <tr>\n",
       "      <th>unique</th>\n",
       "      <td>891</td>\n",
       "      <td>681</td>\n",
       "      <td>147</td>\n",
       "    </tr>\n",
       "    <tr>\n",
       "      <th>top</th>\n",
       "      <td>Braund, Mr. Owen Harris</td>\n",
       "      <td>347082</td>\n",
       "      <td>B96 B98</td>\n",
       "    </tr>\n",
       "    <tr>\n",
       "      <th>freq</th>\n",
       "      <td>1</td>\n",
       "      <td>7</td>\n",
       "      <td>4</td>\n",
       "    </tr>\n",
       "  </tbody>\n",
       "</table>\n",
       "</div>"
      ],
      "text/plain": [
       "                           Name  Ticket    Cabin\n",
       "count                       891     891      204\n",
       "unique                      891     681      147\n",
       "top     Braund, Mr. Owen Harris  347082  B96 B98\n",
       "freq                          1       7        4"
      ]
     },
     "execution_count": 13,
     "metadata": {},
     "output_type": "execute_result"
    }
   ],
   "source": [
    "df.describe(include=['O'])"
   ]
  },
  {
   "cell_type": "code",
   "execution_count": 14,
   "id": "a15a0bcb",
   "metadata": {
    "execution": {
     "iopub.execute_input": "2022-04-16T07:14:19.538113Z",
     "iopub.status.busy": "2022-04-16T07:14:19.537794Z",
     "iopub.status.idle": "2022-04-16T07:14:19.557407Z",
     "shell.execute_reply": "2022-04-16T07:14:19.556597Z"
    },
    "id": "o-dObXW5hoG4",
    "papermill": {
     "duration": 0.11511,
     "end_time": "2022-04-16T07:14:19.559648",
     "exception": false,
     "start_time": "2022-04-16T07:14:19.444538",
     "status": "completed"
    },
    "tags": []
   },
   "outputs": [],
   "source": [
    "# analyze by pivoting features\n",
    "features_to_analyze = ['Pclass', 'SibSp', 'Parch', 'Sex']\n",
    "pivot_analyzation = {\n",
    "    feature: \n",
    "    df[[feature, 'Survived']].groupby(by=[feature], as_index=False).mean().sort_values(by=\"Survived\", ascending=False)\n",
    "    for feature in features_to_analyze\n",
    "}"
   ]
  },
  {
   "cell_type": "code",
   "execution_count": 15,
   "id": "d1cf11a9",
   "metadata": {
    "execution": {
     "iopub.execute_input": "2022-04-16T07:14:19.744274Z",
     "iopub.status.busy": "2022-04-16T07:14:19.743990Z",
     "iopub.status.idle": "2022-04-16T07:14:19.753063Z",
     "shell.execute_reply": "2022-04-16T07:14:19.752361Z"
    },
    "id": "gf1yZKlknYg5",
    "outputId": "e2b7d94e-3993-42dd-8144-7b33f5cf9a14",
    "papermill": {
     "duration": 0.103944,
     "end_time": "2022-04-16T07:14:19.755383",
     "exception": false,
     "start_time": "2022-04-16T07:14:19.651439",
     "status": "completed"
    },
    "tags": []
   },
   "outputs": [
    {
     "data": {
      "text/html": [
       "<div>\n",
       "<style scoped>\n",
       "    .dataframe tbody tr th:only-of-type {\n",
       "        vertical-align: middle;\n",
       "    }\n",
       "\n",
       "    .dataframe tbody tr th {\n",
       "        vertical-align: top;\n",
       "    }\n",
       "\n",
       "    .dataframe thead th {\n",
       "        text-align: right;\n",
       "    }\n",
       "</style>\n",
       "<table border=\"1\" class=\"dataframe\">\n",
       "  <thead>\n",
       "    <tr style=\"text-align: right;\">\n",
       "      <th></th>\n",
       "      <th>Pclass</th>\n",
       "      <th>Survived</th>\n",
       "    </tr>\n",
       "  </thead>\n",
       "  <tbody>\n",
       "    <tr>\n",
       "      <th>0</th>\n",
       "      <td>1</td>\n",
       "      <td>0.629630</td>\n",
       "    </tr>\n",
       "    <tr>\n",
       "      <th>1</th>\n",
       "      <td>2</td>\n",
       "      <td>0.472826</td>\n",
       "    </tr>\n",
       "    <tr>\n",
       "      <th>2</th>\n",
       "      <td>3</td>\n",
       "      <td>0.242363</td>\n",
       "    </tr>\n",
       "  </tbody>\n",
       "</table>\n",
       "</div>"
      ],
      "text/plain": [
       "  Pclass  Survived\n",
       "0      1  0.629630\n",
       "1      2  0.472826\n",
       "2      3  0.242363"
      ]
     },
     "execution_count": 15,
     "metadata": {},
     "output_type": "execute_result"
    }
   ],
   "source": [
    "pivot_analyzation['Pclass']"
   ]
  },
  {
   "cell_type": "code",
   "execution_count": 16,
   "id": "604b1759",
   "metadata": {
    "execution": {
     "iopub.execute_input": "2022-04-16T07:14:19.941535Z",
     "iopub.status.busy": "2022-04-16T07:14:19.941258Z",
     "iopub.status.idle": "2022-04-16T07:14:19.950417Z",
     "shell.execute_reply": "2022-04-16T07:14:19.949856Z"
    },
    "id": "tpunEm9lqUQx",
    "outputId": "ef38b2ec-6d29-4e6c-9e2f-0ff7a2e5a2b0",
    "papermill": {
     "duration": 0.104378,
     "end_time": "2022-04-16T07:14:19.952345",
     "exception": false,
     "start_time": "2022-04-16T07:14:19.847967",
     "status": "completed"
    },
    "tags": []
   },
   "outputs": [
    {
     "data": {
      "text/html": [
       "<div>\n",
       "<style scoped>\n",
       "    .dataframe tbody tr th:only-of-type {\n",
       "        vertical-align: middle;\n",
       "    }\n",
       "\n",
       "    .dataframe tbody tr th {\n",
       "        vertical-align: top;\n",
       "    }\n",
       "\n",
       "    .dataframe thead th {\n",
       "        text-align: right;\n",
       "    }\n",
       "</style>\n",
       "<table border=\"1\" class=\"dataframe\">\n",
       "  <thead>\n",
       "    <tr style=\"text-align: right;\">\n",
       "      <th></th>\n",
       "      <th>Sex</th>\n",
       "      <th>Survived</th>\n",
       "    </tr>\n",
       "  </thead>\n",
       "  <tbody>\n",
       "    <tr>\n",
       "      <th>0</th>\n",
       "      <td>female</td>\n",
       "      <td>0.742038</td>\n",
       "    </tr>\n",
       "    <tr>\n",
       "      <th>1</th>\n",
       "      <td>male</td>\n",
       "      <td>0.188908</td>\n",
       "    </tr>\n",
       "  </tbody>\n",
       "</table>\n",
       "</div>"
      ],
      "text/plain": [
       "      Sex  Survived\n",
       "0  female  0.742038\n",
       "1    male  0.188908"
      ]
     },
     "execution_count": 16,
     "metadata": {},
     "output_type": "execute_result"
    }
   ],
   "source": [
    "pivot_analyzation['Sex']"
   ]
  },
  {
   "cell_type": "code",
   "execution_count": 17,
   "id": "2439e3eb",
   "metadata": {
    "execution": {
     "iopub.execute_input": "2022-04-16T07:14:20.140927Z",
     "iopub.status.busy": "2022-04-16T07:14:20.140600Z",
     "iopub.status.idle": "2022-04-16T07:14:20.150581Z",
     "shell.execute_reply": "2022-04-16T07:14:20.149783Z"
    },
    "id": "241vk8uuqVpB",
    "outputId": "bbd52dc0-574e-44ce-efd8-d98f78847f81",
    "papermill": {
     "duration": 0.106633,
     "end_time": "2022-04-16T07:14:20.152555",
     "exception": false,
     "start_time": "2022-04-16T07:14:20.045922",
     "status": "completed"
    },
    "tags": []
   },
   "outputs": [
    {
     "data": {
      "text/html": [
       "<div>\n",
       "<style scoped>\n",
       "    .dataframe tbody tr th:only-of-type {\n",
       "        vertical-align: middle;\n",
       "    }\n",
       "\n",
       "    .dataframe tbody tr th {\n",
       "        vertical-align: top;\n",
       "    }\n",
       "\n",
       "    .dataframe thead th {\n",
       "        text-align: right;\n",
       "    }\n",
       "</style>\n",
       "<table border=\"1\" class=\"dataframe\">\n",
       "  <thead>\n",
       "    <tr style=\"text-align: right;\">\n",
       "      <th></th>\n",
       "      <th>SibSp</th>\n",
       "      <th>Survived</th>\n",
       "    </tr>\n",
       "  </thead>\n",
       "  <tbody>\n",
       "    <tr>\n",
       "      <th>1</th>\n",
       "      <td>1</td>\n",
       "      <td>0.535885</td>\n",
       "    </tr>\n",
       "    <tr>\n",
       "      <th>2</th>\n",
       "      <td>2</td>\n",
       "      <td>0.464286</td>\n",
       "    </tr>\n",
       "    <tr>\n",
       "      <th>0</th>\n",
       "      <td>0</td>\n",
       "      <td>0.345395</td>\n",
       "    </tr>\n",
       "    <tr>\n",
       "      <th>3</th>\n",
       "      <td>3</td>\n",
       "      <td>0.250000</td>\n",
       "    </tr>\n",
       "    <tr>\n",
       "      <th>4</th>\n",
       "      <td>4</td>\n",
       "      <td>0.166667</td>\n",
       "    </tr>\n",
       "    <tr>\n",
       "      <th>5</th>\n",
       "      <td>5</td>\n",
       "      <td>0.000000</td>\n",
       "    </tr>\n",
       "    <tr>\n",
       "      <th>6</th>\n",
       "      <td>8</td>\n",
       "      <td>0.000000</td>\n",
       "    </tr>\n",
       "  </tbody>\n",
       "</table>\n",
       "</div>"
      ],
      "text/plain": [
       "   SibSp  Survived\n",
       "1      1  0.535885\n",
       "2      2  0.464286\n",
       "0      0  0.345395\n",
       "3      3  0.250000\n",
       "4      4  0.166667\n",
       "5      5  0.000000\n",
       "6      8  0.000000"
      ]
     },
     "execution_count": 17,
     "metadata": {},
     "output_type": "execute_result"
    }
   ],
   "source": [
    "pivot_analyzation['SibSp']"
   ]
  },
  {
   "cell_type": "code",
   "execution_count": 18,
   "id": "04dc5a24",
   "metadata": {
    "execution": {
     "iopub.execute_input": "2022-04-16T07:14:20.340711Z",
     "iopub.status.busy": "2022-04-16T07:14:20.340001Z",
     "iopub.status.idle": "2022-04-16T07:14:20.350341Z",
     "shell.execute_reply": "2022-04-16T07:14:20.349522Z"
    },
    "id": "lHpIt7GiqW2p",
    "outputId": "bc17a7cf-30b1-4028-834c-f803b569cf2e",
    "papermill": {
     "duration": 0.106255,
     "end_time": "2022-04-16T07:14:20.352268",
     "exception": false,
     "start_time": "2022-04-16T07:14:20.246013",
     "status": "completed"
    },
    "tags": []
   },
   "outputs": [
    {
     "data": {
      "text/html": [
       "<div>\n",
       "<style scoped>\n",
       "    .dataframe tbody tr th:only-of-type {\n",
       "        vertical-align: middle;\n",
       "    }\n",
       "\n",
       "    .dataframe tbody tr th {\n",
       "        vertical-align: top;\n",
       "    }\n",
       "\n",
       "    .dataframe thead th {\n",
       "        text-align: right;\n",
       "    }\n",
       "</style>\n",
       "<table border=\"1\" class=\"dataframe\">\n",
       "  <thead>\n",
       "    <tr style=\"text-align: right;\">\n",
       "      <th></th>\n",
       "      <th>Parch</th>\n",
       "      <th>Survived</th>\n",
       "    </tr>\n",
       "  </thead>\n",
       "  <tbody>\n",
       "    <tr>\n",
       "      <th>3</th>\n",
       "      <td>3</td>\n",
       "      <td>0.600000</td>\n",
       "    </tr>\n",
       "    <tr>\n",
       "      <th>1</th>\n",
       "      <td>1</td>\n",
       "      <td>0.550847</td>\n",
       "    </tr>\n",
       "    <tr>\n",
       "      <th>2</th>\n",
       "      <td>2</td>\n",
       "      <td>0.500000</td>\n",
       "    </tr>\n",
       "    <tr>\n",
       "      <th>0</th>\n",
       "      <td>0</td>\n",
       "      <td>0.343658</td>\n",
       "    </tr>\n",
       "    <tr>\n",
       "      <th>5</th>\n",
       "      <td>5</td>\n",
       "      <td>0.200000</td>\n",
       "    </tr>\n",
       "    <tr>\n",
       "      <th>4</th>\n",
       "      <td>4</td>\n",
       "      <td>0.000000</td>\n",
       "    </tr>\n",
       "    <tr>\n",
       "      <th>6</th>\n",
       "      <td>6</td>\n",
       "      <td>0.000000</td>\n",
       "    </tr>\n",
       "  </tbody>\n",
       "</table>\n",
       "</div>"
      ],
      "text/plain": [
       "   Parch  Survived\n",
       "3      3  0.600000\n",
       "1      1  0.550847\n",
       "2      2  0.500000\n",
       "0      0  0.343658\n",
       "5      5  0.200000\n",
       "4      4  0.000000\n",
       "6      6  0.000000"
      ]
     },
     "execution_count": 18,
     "metadata": {},
     "output_type": "execute_result"
    }
   ],
   "source": [
    "pivot_analyzation['Parch']"
   ]
  },
  {
   "cell_type": "code",
   "execution_count": 19,
   "id": "1ce1b4fd",
   "metadata": {
    "execution": {
     "iopub.execute_input": "2022-04-16T07:14:20.539130Z",
     "iopub.status.busy": "2022-04-16T07:14:20.538841Z",
     "iopub.status.idle": "2022-04-16T07:14:21.030033Z",
     "shell.execute_reply": "2022-04-16T07:14:21.029206Z"
    },
    "id": "Ywer2rKnqYYh",
    "outputId": "cc649324-de7c-48aa-94d5-92125991f3f5",
    "papermill": {
     "duration": 0.587615,
     "end_time": "2022-04-16T07:14:21.032304",
     "exception": false,
     "start_time": "2022-04-16T07:14:20.444689",
     "status": "completed"
    },
    "tags": []
   },
   "outputs": [
    {
     "data": {
      "text/plain": [
       "<seaborn.axisgrid.FacetGrid at 0x7f7db60bb210>"
      ]
     },
     "execution_count": 19,
     "metadata": {},
     "output_type": "execute_result"
    },
    {
     "data": {
      "image/png": "[encoded data removed]",
      "text/plain": [
       "<Figure size 432x216 with 2 Axes>"
      ]
     },
     "metadata": {
      "needs_background": "light"
     },
     "output_type": "display_data"
    }
   ],
   "source": [
    "g = sns.FacetGrid(df, col='Survived')\n",
    "g.map(plt.hist, 'Age', bins=20)"
   ]
  },
  {
   "cell_type": "code",
   "execution_count": 20,
   "id": "ad298c47",
   "metadata": {
    "execution": {
     "iopub.execute_input": "2022-04-16T07:14:21.225243Z",
     "iopub.status.busy": "2022-04-16T07:14:21.224474Z",
     "iopub.status.idle": "2022-04-16T07:14:22.556051Z",
     "shell.execute_reply": "2022-04-16T07:14:22.554585Z"
    },
    "id": "lqwW73t4enEq",
    "outputId": "c860a56b-73e0-4733-86aa-bca356f6b472",
    "papermill": {
     "duration": 1.430629,
     "end_time": "2022-04-16T07:14:22.558640",
     "exception": false,
     "start_time": "2022-04-16T07:14:21.128011",
     "status": "completed"
    },
    "tags": []
   },
   "outputs": [
    {
     "data": {
      "text/plain": [
       "<seaborn.axisgrid.FacetGrid at 0x7f7db26e4610>"
      ]
     },
     "execution_count": 20,
     "metadata": {},
     "output_type": "execute_result"
    },
    {
     "data": {
      "image/png": "[encoded data removed]",
      "text/plain": [
       "<Figure size 432x648 with 6 Axes>"
      ]
     },
     "metadata": {
      "needs_background": "light"
     },
     "output_type": "display_data"
    }
   ],
   "source": [
    "g = sns.FacetGrid(df, col='Survived', row='Pclass')\n",
    "g.map(plt.hist, 'Age', bins=20)"
   ]
  },
  {
   "cell_type": "code",
   "execution_count": 21,
   "id": "559c4771",
   "metadata": {
    "execution": {
     "iopub.execute_input": "2022-04-16T07:14:22.750283Z",
     "iopub.status.busy": "2022-04-16T07:14:22.749865Z",
     "iopub.status.idle": "2022-04-16T07:14:24.066558Z",
     "shell.execute_reply": "2022-04-16T07:14:24.065577Z"
    },
    "id": "cDU94G6yfFrb",
    "outputId": "d7f9d0b7-7b1c-41e2-f705-dfd01271c23a",
    "papermill": {
     "duration": 1.415705,
     "end_time": "2022-04-16T07:14:24.069076",
     "exception": false,
     "start_time": "2022-04-16T07:14:22.653371",
     "status": "completed"
    },
    "tags": []
   },
   "outputs": [
    {
     "name": "stderr",
     "output_type": "stream",
     "text": [
      "/opt/conda/lib/python3.7/site-packages/seaborn/axisgrid.py:670: UserWarning: Using the pointplot function without specifying `order` is likely to produce an incorrect plot.\n",
      "  warnings.warn(warning)\n",
      "/opt/conda/lib/python3.7/site-packages/seaborn/axisgrid.py:675: UserWarning: Using the pointplot function without specifying `hue_order` is likely to produce an incorrect plot.\n",
      "  warnings.warn(warning)\n"
     ]
    },
    {
     "data": {
      "text/plain": [
       "<seaborn.axisgrid.FacetGrid at 0x7f7db2309950>"
      ]
     },
     "execution_count": 21,
     "metadata": {},
     "output_type": "execute_result"
    },
    {
     "data": {
      "image/png": "[encoded data removed]",
      "text/plain": [
       "<Figure size 286.5x648 with 3 Axes>"
      ]
     },
     "metadata": {
      "needs_background": "light"
     },
     "output_type": "display_data"
    }
   ],
   "source": [
    "g = sns.FacetGrid(df, row='Embarked')\n",
    "g.map(sns.pointplot, 'Pclass', 'Survived', 'Sex', palette='deep')\n",
    "g.add_legend()"
   ]
  },
  {
   "cell_type": "code",
   "execution_count": 22,
   "id": "1db6b9f0",
   "metadata": {
    "execution": {
     "iopub.execute_input": "2022-04-16T07:14:24.266502Z",
     "iopub.status.busy": "2022-04-16T07:14:24.266231Z",
     "iopub.status.idle": "2022-04-16T07:14:25.527566Z",
     "shell.execute_reply": "2022-04-16T07:14:25.526619Z"
    },
    "id": "Ofr-Wfq5gZQs",
    "outputId": "1bd5d848-0541-4500-ee04-87d076b7b381",
    "papermill": {
     "duration": 1.362007,
     "end_time": "2022-04-16T07:14:25.529807",
     "exception": false,
     "start_time": "2022-04-16T07:14:24.167800",
     "status": "completed"
    },
    "tags": []
   },
   "outputs": [
    {
     "name": "stderr",
     "output_type": "stream",
     "text": [
      "/opt/conda/lib/python3.7/site-packages/seaborn/axisgrid.py:670: UserWarning: Using the barplot function without specifying `order` is likely to produce an incorrect plot.\n",
      "  warnings.warn(warning)\n"
     ]
    },
    {
     "data": {
      "text/plain": [
       "<seaborn.axisgrid.FacetGrid at 0x7f7db2174cd0>"
      ]
     },
     "execution_count": 22,
     "metadata": {},
     "output_type": "execute_result"
    },
    {
     "data": {
      "image/png": "[encoded data removed]",
      "text/plain": [
       "<Figure size 432x648 with 6 Axes>"
      ]
     },
     "metadata": {
      "needs_background": "light"
     },
     "output_type": "display_data"
    }
   ],
   "source": [
    "g= sns.FacetGrid(df, row='Embarked', col='Survived')\n",
    "g.map(sns.barplot, 'Sex', 'Fare')"
   ]
  },
  {
   "cell_type": "code",
   "execution_count": 23,
   "id": "461450d0",
   "metadata": {
    "execution": {
     "iopub.execute_input": "2022-04-16T07:14:25.729930Z",
     "iopub.status.busy": "2022-04-16T07:14:25.729619Z",
     "iopub.status.idle": "2022-04-16T07:14:25.733876Z",
     "shell.execute_reply": "2022-04-16T07:14:25.733020Z"
    },
    "papermill": {
     "duration": 0.106322,
     "end_time": "2022-04-16T07:14:25.735741",
     "exception": false,
     "start_time": "2022-04-16T07:14:25.629419",
     "status": "completed"
    },
    "tags": []
   },
   "outputs": [],
   "source": [
    "#Feature Engineering: Cabin->Deck, Ticket->Ticket Frequency, Age-Fare=bin, Surname, Familiy_size"
   ]
  },
  {
   "cell_type": "code",
   "execution_count": 24,
   "id": "e39320b7",
   "metadata": {
    "execution": {
     "iopub.execute_input": "2022-04-16T07:14:25.936421Z",
     "iopub.status.busy": "2022-04-16T07:14:25.936146Z",
     "iopub.status.idle": "2022-04-16T07:14:25.949174Z",
     "shell.execute_reply": "2022-04-16T07:14:25.948093Z"
    },
    "papermill": {
     "duration": 0.116548,
     "end_time": "2022-04-16T07:14:25.951438",
     "exception": false,
     "start_time": "2022-04-16T07:14:25.834890",
     "status": "completed"
    },
    "tags": []
   },
   "outputs": [],
   "source": [
    "df['Age'] = df.groupby(['Sex', 'Pclass'])['Age'].apply(lambda x: x.fillna(x.median()))"
   ]
  },
  {
   "cell_type": "code",
   "execution_count": 25,
   "id": "e9271f61",
   "metadata": {
    "execution": {
     "iopub.execute_input": "2022-04-16T07:14:26.152671Z",
     "iopub.status.busy": "2022-04-16T07:14:26.152355Z",
     "iopub.status.idle": "2022-04-16T07:14:26.164149Z",
     "shell.execute_reply": "2022-04-16T07:14:26.163280Z"
    },
    "papermill": {
     "duration": 0.114882,
     "end_time": "2022-04-16T07:14:26.166275",
     "exception": false,
     "start_time": "2022-04-16T07:14:26.051393",
     "status": "completed"
    },
    "tags": []
   },
   "outputs": [],
   "source": [
    "df_test['Age'] = df_test.groupby(['Sex', 'Pclass'])['Age'].apply(lambda x: x.fillna(x.median()))"
   ]
  },
  {
   "cell_type": "code",
   "execution_count": 26,
   "id": "80c07f22",
   "metadata": {
    "execution": {
     "iopub.execute_input": "2022-04-16T07:14:26.364695Z",
     "iopub.status.busy": "2022-04-16T07:14:26.364208Z",
     "iopub.status.idle": "2022-04-16T07:14:26.379961Z",
     "shell.execute_reply": "2022-04-16T07:14:26.379315Z"
    },
    "papermill": {
     "duration": 0.115967,
     "end_time": "2022-04-16T07:14:26.381940",
     "exception": false,
     "start_time": "2022-04-16T07:14:26.265973",
     "status": "completed"
    },
    "tags": []
   },
   "outputs": [],
   "source": [
    "df['Fare'] = pd.qcut(df['Fare'], 10)\n",
    "df['Age'] = pd.qcut(df['Age'], 13, duplicates='drop')"
   ]
  },
  {
   "cell_type": "code",
   "execution_count": 27,
   "id": "5e96a511",
   "metadata": {
    "execution": {
     "iopub.execute_input": "2022-04-16T07:14:26.580795Z",
     "iopub.status.busy": "2022-04-16T07:14:26.580316Z",
     "iopub.status.idle": "2022-04-16T07:14:26.590318Z",
     "shell.execute_reply": "2022-04-16T07:14:26.589768Z"
    },
    "papermill": {
     "duration": 0.111692,
     "end_time": "2022-04-16T07:14:26.592074",
     "exception": false,
     "start_time": "2022-04-16T07:14:26.480382",
     "status": "completed"
    },
    "tags": []
   },
   "outputs": [],
   "source": [
    "df['FamilySize'] = df['SibSp'] + df['Parch'] + 1\n",
    "df_test['FamilySize'] = df_test['SibSp'] + df_test['Parch'] + 1\n",
    "family_map = {1: 'Alone', 2: 'Small', 3:'Small', 4:'Small', 5:'Medium', 6:'Medium', 7:'Large', 8:'Large', 11:'Large'}\n",
    "df['FamilyGroup'] = df['FamilySize'].map(family_map)\n",
    "df_test['FamilyGroup'] = df['FamilySize'].map(family_map)"
   ]
  },
  {
   "cell_type": "code",
   "execution_count": 28,
   "id": "ac3b05fa",
   "metadata": {
    "execution": {
     "iopub.execute_input": "2022-04-16T07:14:26.789705Z",
     "iopub.status.busy": "2022-04-16T07:14:26.789197Z",
     "iopub.status.idle": "2022-04-16T07:14:26.799228Z",
     "shell.execute_reply": "2022-04-16T07:14:26.798568Z"
    },
    "papermill": {
     "duration": 0.111077,
     "end_time": "2022-04-16T07:14:26.801343",
     "exception": false,
     "start_time": "2022-04-16T07:14:26.690266",
     "status": "completed"
    },
    "tags": []
   },
   "outputs": [],
   "source": [
    "df.loc[df['Cabin'].isnull(),'Cabin'] = 'M'\n",
    "df_test.loc[df_test['Cabin'].isnull(), 'Cabin'] = 'M'\n",
    "df['Deck'] = df['Cabin'].apply(lambda x: x[0])\n",
    "df_test['Deck'] = df['Cabin'].apply(lambda x:x[0])"
   ]
  },
  {
   "cell_type": "code",
   "execution_count": 29,
   "id": "90ae0bd1",
   "metadata": {
    "execution": {
     "iopub.execute_input": "2022-04-16T07:14:27.002756Z",
     "iopub.status.busy": "2022-04-16T07:14:27.002370Z",
     "iopub.status.idle": "2022-04-16T07:14:27.930707Z",
     "shell.execute_reply": "2022-04-16T07:14:27.930019Z"
    },
    "papermill": {
     "duration": 1.031615,
     "end_time": "2022-04-16T07:14:27.932912",
     "exception": false,
     "start_time": "2022-04-16T07:14:26.901297",
     "status": "completed"
    },
    "tags": []
   },
   "outputs": [],
   "source": [
    "df['TicketFrequency'] = np.nan\n",
    "for uv in df['Ticket'].unique():\n",
    "    num_ticket = (df['Ticket']==uv).sum()\n",
    "    df.loc[df['Ticket']==uv,'TicketFrequency'] = num_ticket\n",
    "    \n",
    "df_test['TicketFrequency'] = np.nan\n",
    "for uv in df_test['Ticket'].unique():\n",
    "    num_ticket = (df_test['Ticket']==uv).sum()\n",
    "    df_test.loc[df_test['Ticket']==uv,'TicketFrequency'] = num_ticket"
   ]
  },
  {
   "cell_type": "code",
   "execution_count": 30,
   "id": "a5484af7",
   "metadata": {
    "execution": {
     "iopub.execute_input": "2022-04-16T07:14:28.134019Z",
     "iopub.status.busy": "2022-04-16T07:14:28.133717Z",
     "iopub.status.idle": "2022-04-16T07:14:28.139522Z",
     "shell.execute_reply": "2022-04-16T07:14:28.138592Z"
    },
    "papermill": {
     "duration": 0.109447,
     "end_time": "2022-04-16T07:14:28.141572",
     "exception": false,
     "start_time": "2022-04-16T07:14:28.032125",
     "status": "completed"
    },
    "tags": []
   },
   "outputs": [],
   "source": [
    "ageinterval = pd.arrays.IntervalArray(df['Age'].unique())"
   ]
  },
  {
   "cell_type": "code",
   "execution_count": 31,
   "id": "a78d2901",
   "metadata": {
    "execution": {
     "iopub.execute_input": "2022-04-16T07:14:28.343121Z",
     "iopub.status.busy": "2022-04-16T07:14:28.342860Z",
     "iopub.status.idle": "2022-04-16T07:14:28.370970Z",
     "shell.execute_reply": "2022-04-16T07:14:28.370099Z"
    },
    "papermill": {
     "duration": 0.130356,
     "end_time": "2022-04-16T07:14:28.372875",
     "exception": false,
     "start_time": "2022-04-16T07:14:28.242519",
     "status": "completed"
    },
    "tags": []
   },
   "outputs": [
    {
     "data": {
      "text/plain": [
       "0      [(34.0, 38.0)]\n",
       "1      [(42.0, 50.0)]\n",
       "2      [(50.0, 80.0)]\n",
       "3      [(25.0, 28.0)]\n",
       "4      [(21.5, 23.0)]\n",
       "            ...      \n",
       "413    [(23.0, 25.0)]\n",
       "414    [(38.0, 42.0)]\n",
       "415    [(38.0, 42.0)]\n",
       "416    [(23.0, 25.0)]\n",
       "417    [(23.0, 25.0)]\n",
       "Name: Age, Length: 418, dtype: object"
      ]
     },
     "execution_count": 31,
     "metadata": {},
     "output_type": "execute_result"
    }
   ],
   "source": [
    "df_test['Age'].apply(lambda x: ageinterval.to_tuples()[ageinterval.contains(x)])"
   ]
  },
  {
   "cell_type": "code",
   "execution_count": 32,
   "id": "64d1b719",
   "metadata": {
    "execution": {
     "iopub.execute_input": "2022-04-16T07:14:28.572957Z",
     "iopub.status.busy": "2022-04-16T07:14:28.572673Z",
     "iopub.status.idle": "2022-04-16T07:14:28.576049Z",
     "shell.execute_reply": "2022-04-16T07:14:28.575228Z"
    },
    "id": "PtHFJwOThQnt",
    "papermill": {
     "duration": 0.10593,
     "end_time": "2022-04-16T07:14:28.577784",
     "exception": false,
     "start_time": "2022-04-16T07:14:28.471854",
     "status": "completed"
    },
    "tags": []
   },
   "outputs": [],
   "source": [
    "#df = df.drop(['Cabin', 'Ticket'], axis=1)"
   ]
  },
  {
   "cell_type": "code",
   "execution_count": 33,
   "id": "e6b0f007",
   "metadata": {
    "execution": {
     "iopub.execute_input": "2022-04-16T07:14:28.779308Z",
     "iopub.status.busy": "2022-04-16T07:14:28.778754Z",
     "iopub.status.idle": "2022-04-16T07:14:28.782285Z",
     "shell.execute_reply": "2022-04-16T07:14:28.781510Z"
    },
    "id": "kly7zEN5jaI2",
    "papermill": {
     "duration": 0.105845,
     "end_time": "2022-04-16T07:14:28.784314",
     "exception": false,
     "start_time": "2022-04-16T07:14:28.678469",
     "status": "completed"
    },
    "tags": []
   },
   "outputs": [],
   "source": [
    "#df_test = df_test.drop(['Cabin', 'Ticket'], axis=1)"
   ]
  },
  {
   "cell_type": "code",
   "execution_count": 34,
   "id": "7b98e7eb",
   "metadata": {
    "execution": {
     "iopub.execute_input": "2022-04-16T07:14:28.986358Z",
     "iopub.status.busy": "2022-04-16T07:14:28.985754Z",
     "iopub.status.idle": "2022-04-16T07:14:28.990339Z",
     "shell.execute_reply": "2022-04-16T07:14:28.989741Z"
    },
    "id": "iPk_5Hk3kG5P",
    "papermill": {
     "duration": 0.107851,
     "end_time": "2022-04-16T07:14:28.992148",
     "exception": false,
     "start_time": "2022-04-16T07:14:28.884297",
     "status": "completed"
    },
    "tags": []
   },
   "outputs": [],
   "source": [
    "df_test_pi = df_test.copy()['PassengerId']"
   ]
  },
  {
   "cell_type": "code",
   "execution_count": 35,
   "id": "a2b4e528",
   "metadata": {
    "execution": {
     "iopub.execute_input": "2022-04-16T07:14:29.193436Z",
     "iopub.status.busy": "2022-04-16T07:14:29.192965Z",
     "iopub.status.idle": "2022-04-16T07:14:29.228720Z",
     "shell.execute_reply": "2022-04-16T07:14:29.227771Z"
    },
    "id": "CJvy9qNDkTt-",
    "outputId": "59da43b7-78ff-43e5-d28f-1f6e181675d3",
    "papermill": {
     "duration": 0.138607,
     "end_time": "2022-04-16T07:14:29.230782",
     "exception": false,
     "start_time": "2022-04-16T07:14:29.092175",
     "status": "completed"
    },
    "tags": []
   },
   "outputs": [
    {
     "data": {
      "text/html": [
       "<div>\n",
       "<style scoped>\n",
       "    .dataframe tbody tr th:only-of-type {\n",
       "        vertical-align: middle;\n",
       "    }\n",
       "\n",
       "    .dataframe tbody tr th {\n",
       "        vertical-align: top;\n",
       "    }\n",
       "\n",
       "    .dataframe thead th {\n",
       "        text-align: right;\n",
       "    }\n",
       "</style>\n",
       "<table border=\"1\" class=\"dataframe\">\n",
       "  <thead>\n",
       "    <tr style=\"text-align: right;\">\n",
       "      <th>Sex</th>\n",
       "      <th>female</th>\n",
       "      <th>male</th>\n",
       "    </tr>\n",
       "    <tr>\n",
       "      <th>Title</th>\n",
       "      <th></th>\n",
       "      <th></th>\n",
       "    </tr>\n",
       "  </thead>\n",
       "  <tbody>\n",
       "    <tr>\n",
       "      <th>Capt</th>\n",
       "      <td>0</td>\n",
       "      <td>1</td>\n",
       "    </tr>\n",
       "    <tr>\n",
       "      <th>Col</th>\n",
       "      <td>0</td>\n",
       "      <td>2</td>\n",
       "    </tr>\n",
       "    <tr>\n",
       "      <th>Countess</th>\n",
       "      <td>1</td>\n",
       "      <td>0</td>\n",
       "    </tr>\n",
       "    <tr>\n",
       "      <th>Don</th>\n",
       "      <td>0</td>\n",
       "      <td>1</td>\n",
       "    </tr>\n",
       "    <tr>\n",
       "      <th>Dr</th>\n",
       "      <td>1</td>\n",
       "      <td>6</td>\n",
       "    </tr>\n",
       "    <tr>\n",
       "      <th>Jonkheer</th>\n",
       "      <td>0</td>\n",
       "      <td>1</td>\n",
       "    </tr>\n",
       "    <tr>\n",
       "      <th>Lady</th>\n",
       "      <td>1</td>\n",
       "      <td>0</td>\n",
       "    </tr>\n",
       "    <tr>\n",
       "      <th>Major</th>\n",
       "      <td>0</td>\n",
       "      <td>2</td>\n",
       "    </tr>\n",
       "    <tr>\n",
       "      <th>Master</th>\n",
       "      <td>0</td>\n",
       "      <td>40</td>\n",
       "    </tr>\n",
       "    <tr>\n",
       "      <th>Miss</th>\n",
       "      <td>182</td>\n",
       "      <td>0</td>\n",
       "    </tr>\n",
       "    <tr>\n",
       "      <th>Mlle</th>\n",
       "      <td>2</td>\n",
       "      <td>0</td>\n",
       "    </tr>\n",
       "    <tr>\n",
       "      <th>Mme</th>\n",
       "      <td>1</td>\n",
       "      <td>0</td>\n",
       "    </tr>\n",
       "    <tr>\n",
       "      <th>Mr</th>\n",
       "      <td>0</td>\n",
       "      <td>517</td>\n",
       "    </tr>\n",
       "    <tr>\n",
       "      <th>Mrs</th>\n",
       "      <td>125</td>\n",
       "      <td>0</td>\n",
       "    </tr>\n",
       "    <tr>\n",
       "      <th>Ms</th>\n",
       "      <td>1</td>\n",
       "      <td>0</td>\n",
       "    </tr>\n",
       "    <tr>\n",
       "      <th>Rev</th>\n",
       "      <td>0</td>\n",
       "      <td>6</td>\n",
       "    </tr>\n",
       "    <tr>\n",
       "      <th>Sir</th>\n",
       "      <td>0</td>\n",
       "      <td>1</td>\n",
       "    </tr>\n",
       "  </tbody>\n",
       "</table>\n",
       "</div>"
      ],
      "text/plain": [
       "Sex       female  male\n",
       "Title                 \n",
       "Capt           0     1\n",
       "Col            0     2\n",
       "Countess       1     0\n",
       "Don            0     1\n",
       "Dr             1     6\n",
       "Jonkheer       0     1\n",
       "Lady           1     0\n",
       "Major          0     2\n",
       "Master         0    40\n",
       "Miss         182     0\n",
       "Mlle           2     0\n",
       "Mme            1     0\n",
       "Mr             0   517\n",
       "Mrs          125     0\n",
       "Ms             1     0\n",
       "Rev            0     6\n",
       "Sir            0     1"
      ]
     },
     "execution_count": 35,
     "metadata": {},
     "output_type": "execute_result"
    }
   ],
   "source": [
    "combine = [df, df_test]\n",
    "for dataset in combine:\n",
    "    dataset['Title'] = dataset['Name'].str.extract(' ([A-Za-z]+)\\.', expand=False)\n",
    "\n",
    "pd.crosstab(df['Title'], df['Sex'])"
   ]
  },
  {
   "cell_type": "code",
   "execution_count": 36,
   "id": "0e93e16d",
   "metadata": {
    "execution": {
     "iopub.execute_input": "2022-04-16T07:14:29.432508Z",
     "iopub.status.busy": "2022-04-16T07:14:29.431961Z",
     "iopub.status.idle": "2022-04-16T07:14:29.453217Z",
     "shell.execute_reply": "2022-04-16T07:14:29.452574Z"
    },
    "id": "FySONWVvlHcM",
    "outputId": "be9937f7-d3c6-432e-87e6-f28bfe27fa9a",
    "papermill": {
     "duration": 0.124733,
     "end_time": "2022-04-16T07:14:29.455512",
     "exception": false,
     "start_time": "2022-04-16T07:14:29.330779",
     "status": "completed"
    },
    "tags": []
   },
   "outputs": [
    {
     "data": {
      "text/html": [
       "<div>\n",
       "<style scoped>\n",
       "    .dataframe tbody tr th:only-of-type {\n",
       "        vertical-align: middle;\n",
       "    }\n",
       "\n",
       "    .dataframe tbody tr th {\n",
       "        vertical-align: top;\n",
       "    }\n",
       "\n",
       "    .dataframe thead th {\n",
       "        text-align: right;\n",
       "    }\n",
       "</style>\n",
       "<table border=\"1\" class=\"dataframe\">\n",
       "  <thead>\n",
       "    <tr style=\"text-align: right;\">\n",
       "      <th></th>\n",
       "      <th>Title</th>\n",
       "      <th>Survived</th>\n",
       "    </tr>\n",
       "  </thead>\n",
       "  <tbody>\n",
       "    <tr>\n",
       "      <th>0</th>\n",
       "      <td>Master</td>\n",
       "      <td>0.575000</td>\n",
       "    </tr>\n",
       "    <tr>\n",
       "      <th>1</th>\n",
       "      <td>Miss</td>\n",
       "      <td>0.702703</td>\n",
       "    </tr>\n",
       "    <tr>\n",
       "      <th>2</th>\n",
       "      <td>Mr</td>\n",
       "      <td>0.156673</td>\n",
       "    </tr>\n",
       "    <tr>\n",
       "      <th>3</th>\n",
       "      <td>Mrs</td>\n",
       "      <td>0.793651</td>\n",
       "    </tr>\n",
       "    <tr>\n",
       "      <th>4</th>\n",
       "      <td>Rare</td>\n",
       "      <td>0.347826</td>\n",
       "    </tr>\n",
       "  </tbody>\n",
       "</table>\n",
       "</div>"
      ],
      "text/plain": [
       "    Title  Survived\n",
       "0  Master  0.575000\n",
       "1    Miss  0.702703\n",
       "2      Mr  0.156673\n",
       "3     Mrs  0.793651\n",
       "4    Rare  0.347826"
      ]
     },
     "execution_count": 36,
     "metadata": {},
     "output_type": "execute_result"
    }
   ],
   "source": [
    "for dataset in combine:\n",
    "    dataset['Title'] = dataset['Title'].replace(['Capt', 'Col', 'Countess', 'Don', 'Dr', 'Jonkheer', 'Lady', 'Major', 'Rev', 'Sir'], 'Rare')\n",
    "    dataset['Title'] = dataset['Title'].replace('Mlle', 'Miss')\n",
    "    dataset['Title'] = dataset['Title'].replace('Ms', 'Miss')\n",
    "    dataset['Title'] = dataset['Title'].replace('Mme', 'Mrs')\n",
    "    \n",
    "df[['Survived', 'Title']].groupby('Title', as_index=False).mean()"
   ]
  },
  {
   "cell_type": "code",
   "execution_count": 37,
   "id": "1f4603ce",
   "metadata": {
    "execution": {
     "iopub.execute_input": "2022-04-16T07:14:29.658896Z",
     "iopub.status.busy": "2022-04-16T07:14:29.658374Z",
     "iopub.status.idle": "2022-04-16T07:14:29.667610Z",
     "shell.execute_reply": "2022-04-16T07:14:29.666974Z"
    },
    "id": "0QqBj0dfmBWa",
    "outputId": "ba8ab140-5795-4bcc-a3be-694d44f3a131",
    "papermill": {
     "duration": 0.112943,
     "end_time": "2022-04-16T07:14:29.669554",
     "exception": false,
     "start_time": "2022-04-16T07:14:29.556611",
     "status": "completed"
    },
    "tags": []
   },
   "outputs": [
    {
     "data": {
      "text/plain": [
       "PassengerId        1.000000\n",
       "Survived           1.000000\n",
       "Pclass             1.000000\n",
       "Name               1.000000\n",
       "Sex                1.000000\n",
       "Age                1.000000\n",
       "SibSp              1.000000\n",
       "Parch              1.000000\n",
       "Ticket             1.000000\n",
       "Fare               1.000000\n",
       "Cabin              1.000000\n",
       "Embarked           0.997755\n",
       "FamilySize         1.000000\n",
       "FamilyGroup        1.000000\n",
       "Deck               1.000000\n",
       "TicketFrequency    1.000000\n",
       "Title              1.000000\n",
       "dtype: float64"
      ]
     },
     "execution_count": 37,
     "metadata": {},
     "output_type": "execute_result"
    }
   ],
   "source": [
    "df.notnull().mean()"
   ]
  },
  {
   "cell_type": "code",
   "execution_count": null,
   "id": "6f0bc652",
   "metadata": {
    "id": "5sWn6TR0RvOl",
    "papermill": {
     "duration": 0.100637,
     "end_time": "2022-04-16T07:14:29.871969",
     "exception": false,
     "start_time": "2022-04-16T07:14:29.771332",
     "status": "completed"
    },
    "tags": []
   },
   "outputs": [],
   "source": []
  },
  {
   "cell_type": "code",
   "execution_count": 38,
   "id": "a887c33e",
   "metadata": {
    "execution": {
     "iopub.execute_input": "2022-04-16T07:14:30.080263Z",
     "iopub.status.busy": "2022-04-16T07:14:30.079842Z",
     "iopub.status.idle": "2022-04-16T07:14:30.086419Z",
     "shell.execute_reply": "2022-04-16T07:14:30.085868Z"
    },
    "id": "LtmY8kIKRaU3",
    "papermill": {
     "duration": 0.112086,
     "end_time": "2022-04-16T07:14:30.088275",
     "exception": false,
     "start_time": "2022-04-16T07:14:29.976189",
     "status": "completed"
    },
    "tags": []
   },
   "outputs": [],
   "source": [
    "for dataset in combine:\n",
    "    dataset.drop(['Name', 'PassengerId', 'Cabin'], axis=1, inplace=True)"
   ]
  },
  {
   "cell_type": "code",
   "execution_count": 39,
   "id": "716888b3",
   "metadata": {
    "execution": {
     "iopub.execute_input": "2022-04-16T07:14:30.291630Z",
     "iopub.status.busy": "2022-04-16T07:14:30.291240Z",
     "iopub.status.idle": "2022-04-16T07:14:30.298605Z",
     "shell.execute_reply": "2022-04-16T07:14:30.298025Z"
    },
    "id": "LEOksg5ORw_c",
    "papermill": {
     "duration": 0.112114,
     "end_time": "2022-04-16T07:14:30.300543",
     "exception": false,
     "start_time": "2022-04-16T07:14:30.188429",
     "status": "completed"
    },
    "tags": []
   },
   "outputs": [],
   "source": [
    "def categorify(df, df_test, dep_var='Survived', exclude=[]):\n",
    "    df = df.copy()\n",
    "    df_test = df_test.copy()\n",
    "    new = pd.concat([df, df_test]).drop([dep_var]+exclude, axis=1)\n",
    "    dicts = {str(col): {k[1]:k[0] for k in enumerate(new[col].unique())} for col in new}\n",
    "    for key, val in dicts.items():\n",
    "        df[key] = df[key].map(val).astype(float)\n",
    "        df_test[key] = df_test[key].map(val).astype(float)\n",
    "    return df, df_test"
   ]
  },
  {
   "cell_type": "code",
   "execution_count": 40,
   "id": "d02d1a12",
   "metadata": {
    "execution": {
     "iopub.execute_input": "2022-04-16T07:14:30.503654Z",
     "iopub.status.busy": "2022-04-16T07:14:30.503255Z",
     "iopub.status.idle": "2022-04-16T07:14:30.509745Z",
     "shell.execute_reply": "2022-04-16T07:14:30.508893Z"
    },
    "id": "T__tYEgjRu5P",
    "papermill": {
     "duration": 0.11021,
     "end_time": "2022-04-16T07:14:30.511499",
     "exception": false,
     "start_time": "2022-04-16T07:14:30.401289",
     "status": "completed"
    },
    "tags": []
   },
   "outputs": [
    {
     "data": {
      "text/plain": [
       "\"def categorify(df, df_test):\\n    df = df.copy()\\n    df_test = df_test.copy()\\n    new = pd.concat([df, df_test])\\n    sexdict = {k[1]: k[0] for k in enumerate(new['Sex'].unique())}\\n    embdict = {k[1]: k[0] for k in enumerate(new['Embarked'].unique())}\\n    titdict = {k[1]: k[0] for k in enumerate(new['Title'].unique())}\\n    pardict = {k[1]: k[0] for k in enumerate(new['Parch'].unique())}\\n    pcldict = {k[1]: k[0] for k in enumerate(new['Pclass'].astype(int).unique())}\\n    sibdict = {k[1]: k[0] for k in enumerate(new['SibSp'].astype(int).unique())}\\n    dicts = {'Sex': sexdict, 'Embarked': embdict, 'Title': titdict, 'Parch': pardict, 'Pclass': pcldict, 'SibSp':sibdict}\\n    for key, val in dicts.items():\\n        df[key] = df[key].map(val).astype(float)\\n        df_test[key] = df_test[key].map(val).astype(float)\\n    return df, df_test\""
      ]
     },
     "execution_count": 40,
     "metadata": {},
     "output_type": "execute_result"
    }
   ],
   "source": [
    "\"\"\"def categorify(df, df_test):\n",
    "    df = df.copy()\n",
    "    df_test = df_test.copy()\n",
    "    new = pd.concat([df, df_test])\n",
    "    sexdict = {k[1]: k[0] for k in enumerate(new['Sex'].unique())}\n",
    "    embdict = {k[1]: k[0] for k in enumerate(new['Embarked'].unique())}\n",
    "    titdict = {k[1]: k[0] for k in enumerate(new['Title'].unique())}\n",
    "    pardict = {k[1]: k[0] for k in enumerate(new['Parch'].unique())}\n",
    "    pcldict = {k[1]: k[0] for k in enumerate(new['Pclass'].astype(int).unique())}\n",
    "    sibdict = {k[1]: k[0] for k in enumerate(new['SibSp'].astype(int).unique())}\n",
    "    dicts = {'Sex': sexdict, 'Embarked': embdict, 'Title': titdict, 'Parch': pardict, 'Pclass': pcldict, 'SibSp':sibdict}\n",
    "    for key, val in dicts.items():\n",
    "        df[key] = df[key].map(val).astype(float)\n",
    "        df_test[key] = df_test[key].map(val).astype(float)\n",
    "    return df, df_test\"\"\""
   ]
  },
  {
   "cell_type": "code",
   "execution_count": 41,
   "id": "4f7b1b9e",
   "metadata": {
    "execution": {
     "iopub.execute_input": "2022-04-16T07:14:30.714630Z",
     "iopub.status.busy": "2022-04-16T07:14:30.714232Z",
     "iopub.status.idle": "2022-04-16T07:14:30.757808Z",
     "shell.execute_reply": "2022-04-16T07:14:30.757163Z"
    },
    "id": "0rxZxlvBkFQF",
    "papermill": {
     "duration": 0.147884,
     "end_time": "2022-04-16T07:14:30.759941",
     "exception": false,
     "start_time": "2022-04-16T07:14:30.612057",
     "status": "completed"
    },
    "tags": []
   },
   "outputs": [],
   "source": [
    "combine = [df, df_test]\n",
    "df, df_test = categorify(df, df_test)"
   ]
  },
  {
   "cell_type": "code",
   "execution_count": null,
   "id": "f9318c82",
   "metadata": {
    "papermill": {
     "duration": 0.100788,
     "end_time": "2022-04-16T07:14:30.963397",
     "exception": false,
     "start_time": "2022-04-16T07:14:30.862609",
     "status": "completed"
    },
    "tags": []
   },
   "outputs": [],
   "source": []
  },
  {
   "cell_type": "code",
   "execution_count": 42,
   "id": "e1758052",
   "metadata": {
    "execution": {
     "iopub.execute_input": "2022-04-16T07:14:31.169571Z",
     "iopub.status.busy": "2022-04-16T07:14:31.169032Z",
     "iopub.status.idle": "2022-04-16T07:14:31.224153Z",
     "shell.execute_reply": "2022-04-16T07:14:31.223232Z"
    },
    "id": "Enjs4jzPWAyz",
    "papermill": {
     "duration": 0.160178,
     "end_time": "2022-04-16T07:14:31.226424",
     "exception": false,
     "start_time": "2022-04-16T07:14:31.066246",
     "status": "completed"
    },
    "tags": []
   },
   "outputs": [],
   "source": [
    "from sklearn.impute import KNNImputer"
   ]
  },
  {
   "cell_type": "code",
   "execution_count": 43,
   "id": "1a9f2b5d",
   "metadata": {
    "execution": {
     "iopub.execute_input": "2022-04-16T07:14:31.430154Z",
     "iopub.status.busy": "2022-04-16T07:14:31.429443Z",
     "iopub.status.idle": "2022-04-16T07:14:31.433315Z",
     "shell.execute_reply": "2022-04-16T07:14:31.432404Z"
    },
    "id": "5aaZNHRIWH5z",
    "papermill": {
     "duration": 0.107716,
     "end_time": "2022-04-16T07:14:31.435228",
     "exception": false,
     "start_time": "2022-04-16T07:14:31.327512",
     "status": "completed"
    },
    "tags": []
   },
   "outputs": [],
   "source": [
    "imp = KNNImputer()"
   ]
  },
  {
   "cell_type": "code",
   "execution_count": 44,
   "id": "e8978e5d",
   "metadata": {
    "execution": {
     "iopub.execute_input": "2022-04-16T07:14:31.640035Z",
     "iopub.status.busy": "2022-04-16T07:14:31.639512Z",
     "iopub.status.idle": "2022-04-16T07:14:31.648781Z",
     "shell.execute_reply": "2022-04-16T07:14:31.647921Z"
    },
    "id": "Tz-7xXmdRB-V",
    "papermill": {
     "duration": 0.114375,
     "end_time": "2022-04-16T07:14:31.651068",
     "exception": false,
     "start_time": "2022-04-16T07:14:31.536693",
     "status": "completed"
    },
    "tags": []
   },
   "outputs": [],
   "source": [
    "df = pd.DataFrame(imp.fit_transform(df.values), columns=df.columns)\n",
    "df_test = pd.DataFrame(imp.fit_transform(df_test.values), columns=df_test.columns)"
   ]
  },
  {
   "cell_type": "code",
   "execution_count": 45,
   "id": "f9dab655",
   "metadata": {
    "execution": {
     "iopub.execute_input": "2022-04-16T07:14:31.855259Z",
     "iopub.status.busy": "2022-04-16T07:14:31.854745Z",
     "iopub.status.idle": "2022-04-16T07:14:31.860600Z",
     "shell.execute_reply": "2022-04-16T07:14:31.859740Z"
    },
    "id": "_2PeISJITa_-",
    "papermill": {
     "duration": 0.110622,
     "end_time": "2022-04-16T07:14:31.862695",
     "exception": false,
     "start_time": "2022-04-16T07:14:31.752073",
     "status": "completed"
    },
    "tags": []
   },
   "outputs": [],
   "source": [
    "df['Embarked'] = df['Embarked'].astype(int)\n",
    "df_test['Embarked'] = df_test['Embarked'].astype(int)"
   ]
  },
  {
   "cell_type": "code",
   "execution_count": 46,
   "id": "1c0890df",
   "metadata": {
    "execution": {
     "iopub.execute_input": "2022-04-16T07:14:32.067338Z",
     "iopub.status.busy": "2022-04-16T07:14:32.066559Z",
     "iopub.status.idle": "2022-04-16T07:14:32.079802Z",
     "shell.execute_reply": "2022-04-16T07:14:32.079164Z"
    },
    "id": "QrXJ6LlVSKgU",
    "outputId": "59c36e25-6db4-4b25-cca5-6f6947b544fc",
    "papermill": {
     "duration": 0.117952,
     "end_time": "2022-04-16T07:14:32.082346",
     "exception": false,
     "start_time": "2022-04-16T07:14:31.964394",
     "status": "completed"
    },
    "tags": []
   },
   "outputs": [
    {
     "name": "stdout",
     "output_type": "stream",
     "text": [
      "key: Survived, unique: 2\n",
      "key: Pclass, unique: 3\n",
      "key: Sex, unique: 2\n",
      "key: Age, unique: 12\n",
      "key: SibSp, unique: 7\n",
      "key: Parch, unique: 7\n",
      "key: Ticket, unique: 681\n",
      "key: Fare, unique: 10\n",
      "key: Embarked, unique: 3\n",
      "key: FamilySize, unique: 9\n",
      "key: FamilyGroup, unique: 4\n",
      "key: Deck, unique: 9\n",
      "key: TicketFrequency, unique: 7\n",
      "key: Title, unique: 5\n",
      "----------\n",
      "key: Pclass, unique: 3\n",
      "key: Sex, unique: 2\n",
      "key: Age, unique: 12\n",
      "key: SibSp, unique: 7\n",
      "key: Parch, unique: 7\n",
      "key: Ticket, unique: 681\n",
      "key: Fare, unique: 10\n",
      "key: Embarked, unique: 3\n",
      "key: FamilySize, unique: 9\n",
      "key: FamilyGroup, unique: 4\n",
      "key: Deck, unique: 9\n",
      "key: TicketFrequency, unique: 7\n",
      "key: Title, unique: 5\n"
     ]
    }
   ],
   "source": [
    "for i in df:\n",
    "    print(f'key: {i}, unique: {df[i].nunique()}')\n",
    "print('-'*10)\n",
    "for i in df_test:\n",
    "    print(f'key: {i}, unique: {df[i].nunique()}') "
   ]
  },
  {
   "cell_type": "code",
   "execution_count": 47,
   "id": "d58f249a",
   "metadata": {
    "execution": {
     "iopub.execute_input": "2022-04-16T07:14:32.291136Z",
     "iopub.status.busy": "2022-04-16T07:14:32.290849Z",
     "iopub.status.idle": "2022-04-16T07:14:32.321662Z",
     "shell.execute_reply": "2022-04-16T07:14:32.320803Z"
    },
    "id": "FP2J1a09lEFc",
    "outputId": "9a31fc88-afde-41b3-924e-2d43a303a33f",
    "papermill": {
     "duration": 0.136466,
     "end_time": "2022-04-16T07:14:32.323689",
     "exception": false,
     "start_time": "2022-04-16T07:14:32.187223",
     "status": "completed"
    },
    "tags": []
   },
   "outputs": [
    {
     "data": {
      "text/html": [
       "<div>\n",
       "<style scoped>\n",
       "    .dataframe tbody tr th:only-of-type {\n",
       "        vertical-align: middle;\n",
       "    }\n",
       "\n",
       "    .dataframe tbody tr th {\n",
       "        vertical-align: top;\n",
       "    }\n",
       "\n",
       "    .dataframe thead th {\n",
       "        text-align: right;\n",
       "    }\n",
       "</style>\n",
       "<table border=\"1\" class=\"dataframe\">\n",
       "  <thead>\n",
       "    <tr style=\"text-align: right;\">\n",
       "      <th></th>\n",
       "      <th>Pclass</th>\n",
       "      <th>Sex</th>\n",
       "      <th>Age</th>\n",
       "      <th>SibSp</th>\n",
       "      <th>Parch</th>\n",
       "      <th>Ticket</th>\n",
       "      <th>Fare</th>\n",
       "      <th>Embarked</th>\n",
       "      <th>FamilySize</th>\n",
       "      <th>FamilyGroup</th>\n",
       "      <th>Deck</th>\n",
       "      <th>TicketFrequency</th>\n",
       "      <th>Title</th>\n",
       "    </tr>\n",
       "  </thead>\n",
       "  <tbody>\n",
       "    <tr>\n",
       "      <th>0</th>\n",
       "      <td>0.0</td>\n",
       "      <td>0.0</td>\n",
       "      <td>12.0</td>\n",
       "      <td>1.0</td>\n",
       "      <td>0.0</td>\n",
       "      <td>681.0</td>\n",
       "      <td>10.0</td>\n",
       "      <td>2</td>\n",
       "      <td>1.0</td>\n",
       "      <td>0.0</td>\n",
       "      <td>0.0</td>\n",
       "      <td>0.0</td>\n",
       "      <td>0.0</td>\n",
       "    </tr>\n",
       "    <tr>\n",
       "      <th>1</th>\n",
       "      <td>0.0</td>\n",
       "      <td>1.0</td>\n",
       "      <td>13.0</td>\n",
       "      <td>0.0</td>\n",
       "      <td>0.0</td>\n",
       "      <td>682.0</td>\n",
       "      <td>11.0</td>\n",
       "      <td>0</td>\n",
       "      <td>0.0</td>\n",
       "      <td>0.0</td>\n",
       "      <td>1.0</td>\n",
       "      <td>0.0</td>\n",
       "      <td>1.0</td>\n",
       "    </tr>\n",
       "    <tr>\n",
       "      <th>2</th>\n",
       "      <td>2.0</td>\n",
       "      <td>0.0</td>\n",
       "      <td>14.0</td>\n",
       "      <td>1.0</td>\n",
       "      <td>0.0</td>\n",
       "      <td>683.0</td>\n",
       "      <td>12.0</td>\n",
       "      <td>2</td>\n",
       "      <td>1.0</td>\n",
       "      <td>1.0</td>\n",
       "      <td>0.0</td>\n",
       "      <td>0.0</td>\n",
       "      <td>0.0</td>\n",
       "    </tr>\n",
       "    <tr>\n",
       "      <th>3</th>\n",
       "      <td>0.0</td>\n",
       "      <td>0.0</td>\n",
       "      <td>15.0</td>\n",
       "      <td>1.0</td>\n",
       "      <td>0.0</td>\n",
       "      <td>684.0</td>\n",
       "      <td>13.0</td>\n",
       "      <td>0</td>\n",
       "      <td>1.0</td>\n",
       "      <td>0.0</td>\n",
       "      <td>1.0</td>\n",
       "      <td>0.0</td>\n",
       "      <td>0.0</td>\n",
       "    </tr>\n",
       "    <tr>\n",
       "      <th>4</th>\n",
       "      <td>0.0</td>\n",
       "      <td>1.0</td>\n",
       "      <td>16.0</td>\n",
       "      <td>0.0</td>\n",
       "      <td>1.0</td>\n",
       "      <td>405.0</td>\n",
       "      <td>14.0</td>\n",
       "      <td>0</td>\n",
       "      <td>3.0</td>\n",
       "      <td>1.0</td>\n",
       "      <td>0.0</td>\n",
       "      <td>0.0</td>\n",
       "      <td>1.0</td>\n",
       "    </tr>\n",
       "    <tr>\n",
       "      <th>...</th>\n",
       "      <td>...</td>\n",
       "      <td>...</td>\n",
       "      <td>...</td>\n",
       "      <td>...</td>\n",
       "      <td>...</td>\n",
       "      <td>...</td>\n",
       "      <td>...</td>\n",
       "      <td>...</td>\n",
       "      <td>...</td>\n",
       "      <td>...</td>\n",
       "      <td>...</td>\n",
       "      <td>...</td>\n",
       "      <td>...</td>\n",
       "    </tr>\n",
       "    <tr>\n",
       "      <th>413</th>\n",
       "      <td>0.0</td>\n",
       "      <td>0.0</td>\n",
       "      <td>22.0</td>\n",
       "      <td>1.0</td>\n",
       "      <td>0.0</td>\n",
       "      <td>926.0</td>\n",
       "      <td>41.0</td>\n",
       "      <td>0</td>\n",
       "      <td>1.0</td>\n",
       "      <td>1.0</td>\n",
       "      <td>0.0</td>\n",
       "      <td>0.0</td>\n",
       "      <td>0.0</td>\n",
       "    </tr>\n",
       "    <tr>\n",
       "      <th>414</th>\n",
       "      <td>1.0</td>\n",
       "      <td>1.0</td>\n",
       "      <td>37.0</td>\n",
       "      <td>1.0</td>\n",
       "      <td>0.0</td>\n",
       "      <td>273.0</td>\n",
       "      <td>178.0</td>\n",
       "      <td>1</td>\n",
       "      <td>1.0</td>\n",
       "      <td>1.0</td>\n",
       "      <td>0.0</td>\n",
       "      <td>0.0</td>\n",
       "      <td>5.0</td>\n",
       "    </tr>\n",
       "    <tr>\n",
       "      <th>415</th>\n",
       "      <td>0.0</td>\n",
       "      <td>0.0</td>\n",
       "      <td>90.0</td>\n",
       "      <td>1.0</td>\n",
       "      <td>0.0</td>\n",
       "      <td>927.0</td>\n",
       "      <td>92.0</td>\n",
       "      <td>0</td>\n",
       "      <td>1.0</td>\n",
       "      <td>1.0</td>\n",
       "      <td>0.0</td>\n",
       "      <td>0.0</td>\n",
       "      <td>0.0</td>\n",
       "    </tr>\n",
       "    <tr>\n",
       "      <th>416</th>\n",
       "      <td>0.0</td>\n",
       "      <td>0.0</td>\n",
       "      <td>22.0</td>\n",
       "      <td>1.0</td>\n",
       "      <td>0.0</td>\n",
       "      <td>928.0</td>\n",
       "      <td>41.0</td>\n",
       "      <td>0</td>\n",
       "      <td>1.0</td>\n",
       "      <td>0.0</td>\n",
       "      <td>0.0</td>\n",
       "      <td>0.0</td>\n",
       "      <td>0.0</td>\n",
       "    </tr>\n",
       "    <tr>\n",
       "      <th>417</th>\n",
       "      <td>0.0</td>\n",
       "      <td>0.0</td>\n",
       "      <td>22.0</td>\n",
       "      <td>0.0</td>\n",
       "      <td>1.0</td>\n",
       "      <td>119.0</td>\n",
       "      <td>179.0</td>\n",
       "      <td>1</td>\n",
       "      <td>3.0</td>\n",
       "      <td>0.0</td>\n",
       "      <td>0.0</td>\n",
       "      <td>0.0</td>\n",
       "      <td>3.0</td>\n",
       "    </tr>\n",
       "  </tbody>\n",
       "</table>\n",
       "<p>418 rows × 13 columns</p>\n",
       "</div>"
      ],
      "text/plain": [
       "     Pclass  Sex   Age  SibSp  Parch  Ticket   Fare  Embarked  FamilySize  \\\n",
       "0       0.0  0.0  12.0    1.0    0.0   681.0   10.0         2         1.0   \n",
       "1       0.0  1.0  13.0    0.0    0.0   682.0   11.0         0         0.0   \n",
       "2       2.0  0.0  14.0    1.0    0.0   683.0   12.0         2         1.0   \n",
       "3       0.0  0.0  15.0    1.0    0.0   684.0   13.0         0         1.0   \n",
       "4       0.0  1.0  16.0    0.0    1.0   405.0   14.0         0         3.0   \n",
       "..      ...  ...   ...    ...    ...     ...    ...       ...         ...   \n",
       "413     0.0  0.0  22.0    1.0    0.0   926.0   41.0         0         1.0   \n",
       "414     1.0  1.0  37.0    1.0    0.0   273.0  178.0         1         1.0   \n",
       "415     0.0  0.0  90.0    1.0    0.0   927.0   92.0         0         1.0   \n",
       "416     0.0  0.0  22.0    1.0    0.0   928.0   41.0         0         1.0   \n",
       "417     0.0  0.0  22.0    0.0    1.0   119.0  179.0         1         3.0   \n",
       "\n",
       "     FamilyGroup  Deck  TicketFrequency  Title  \n",
       "0            0.0   0.0              0.0    0.0  \n",
       "1            0.0   1.0              0.0    1.0  \n",
       "2            1.0   0.0              0.0    0.0  \n",
       "3            0.0   1.0              0.0    0.0  \n",
       "4            1.0   0.0              0.0    1.0  \n",
       "..           ...   ...              ...    ...  \n",
       "413          1.0   0.0              0.0    0.0  \n",
       "414          1.0   0.0              0.0    5.0  \n",
       "415          1.0   0.0              0.0    0.0  \n",
       "416          0.0   0.0              0.0    0.0  \n",
       "417          0.0   0.0              0.0    3.0  \n",
       "\n",
       "[418 rows x 13 columns]"
      ]
     },
     "execution_count": 47,
     "metadata": {},
     "output_type": "execute_result"
    }
   ],
   "source": [
    "df_test"
   ]
  },
  {
   "cell_type": "code",
   "execution_count": null,
   "id": "cdaa005f",
   "metadata": {
    "id": "IbP9tiwPd8O0",
    "papermill": {
     "duration": 0.101786,
     "end_time": "2022-04-16T07:14:32.527127",
     "exception": false,
     "start_time": "2022-04-16T07:14:32.425341",
     "status": "completed"
    },
    "tags": []
   },
   "outputs": [],
   "source": [
    "\n"
   ]
  },
  {
   "cell_type": "code",
   "execution_count": 48,
   "id": "415a67ba",
   "metadata": {
    "execution": {
     "iopub.execute_input": "2022-04-16T07:14:32.736753Z",
     "iopub.status.busy": "2022-04-16T07:14:32.736217Z",
     "iopub.status.idle": "2022-04-16T07:14:33.694518Z",
     "shell.execute_reply": "2022-04-16T07:14:33.693719Z"
    },
    "id": "yQY-eDmpvmB4",
    "papermill": {
     "duration": 1.066768,
     "end_time": "2022-04-16T07:14:33.696983",
     "exception": false,
     "start_time": "2022-04-16T07:14:32.630215",
     "status": "completed"
    },
    "tags": []
   },
   "outputs": [],
   "source": [
    "from torch.nn import *\n",
    "from torch import nn"
   ]
  },
  {
   "cell_type": "code",
   "execution_count": 49,
   "id": "fc34e339",
   "metadata": {
    "execution": {
     "iopub.execute_input": "2022-04-16T07:14:33.903976Z",
     "iopub.status.busy": "2022-04-16T07:14:33.903644Z",
     "iopub.status.idle": "2022-04-16T07:14:34.052361Z",
     "shell.execute_reply": "2022-04-16T07:14:34.051274Z"
    },
    "id": "sCqvCatNdRwA",
    "papermill": {
     "duration": 0.254617,
     "end_time": "2022-04-16T07:14:34.054695",
     "exception": false,
     "start_time": "2022-04-16T07:14:33.800078",
     "status": "completed"
    },
    "tags": []
   },
   "outputs": [],
   "source": [
    "from torch.utils.data import Dataset\n",
    "from torch.utils.data import DataLoader\n",
    "import torch\n",
    "from fastai.tabular.all import *"
   ]
  },
  {
   "cell_type": "code",
   "execution_count": 50,
   "id": "b6dd11d9",
   "metadata": {
    "execution": {
     "iopub.execute_input": "2022-04-16T07:14:34.262615Z",
     "iopub.status.busy": "2022-04-16T07:14:34.262099Z",
     "iopub.status.idle": "2022-04-16T07:14:34.273435Z",
     "shell.execute_reply": "2022-04-16T07:14:34.272721Z"
    },
    "id": "iVvb5NIslsVH",
    "outputId": "762ee406-fe9c-4e50-ead3-2f1e8a3c2161",
    "papermill": {
     "duration": 0.117873,
     "end_time": "2022-04-16T07:14:34.275387",
     "exception": false,
     "start_time": "2022-04-16T07:14:34.157514",
     "status": "completed"
    },
    "tags": []
   },
   "outputs": [
    {
     "data": {
      "text/plain": [
       "3"
      ]
     },
     "execution_count": 50,
     "metadata": {},
     "output_type": "execute_result"
    }
   ],
   "source": [
    "cat = df[['Pclass', 'Sex', 'SibSp', 'Parch', 'Embarked', 'Title']]\n",
    "cont = df[['Age', 'Fare']]\n",
    "cat.join(cont).iloc[0]\n",
    "dv = df['Survived']\n",
    "dv.iloc[0]\n",
    "df.index[3]"
   ]
  },
  {
   "cell_type": "code",
   "execution_count": null,
   "id": "697523fc",
   "metadata": {
    "papermill": {
     "duration": 0.102566,
     "end_time": "2022-04-16T07:14:34.480748",
     "exception": false,
     "start_time": "2022-04-16T07:14:34.378182",
     "status": "completed"
    },
    "tags": []
   },
   "outputs": [],
   "source": []
  },
  {
   "cell_type": "code",
   "execution_count": 51,
   "id": "cb94fabd",
   "metadata": {
    "execution": {
     "iopub.execute_input": "2022-04-16T07:14:34.710573Z",
     "iopub.status.busy": "2022-04-16T07:14:34.709976Z",
     "iopub.status.idle": "2022-04-16T07:14:34.714968Z",
     "shell.execute_reply": "2022-04-16T07:14:34.714280Z"
    },
    "id": "r5iKlPmmnUUz",
    "papermill": {
     "duration": 0.12918,
     "end_time": "2022-04-16T07:14:34.716929",
     "exception": false,
     "start_time": "2022-04-16T07:14:34.587749",
     "status": "completed"
    },
    "tags": []
   },
   "outputs": [],
   "source": [
    "def randomSplit(df, valid_ratio=0.2, random_state=None):\n",
    "    split_idx = int(len(df.index)*(valid_ratio))\n",
    "    shuffled_df = df.sample(frac=1, random_state=random_state)\n",
    "    return shuffled_df.iloc[split_idx:], shuffled_df[:split_idx]"
   ]
  },
  {
   "cell_type": "code",
   "execution_count": 52,
   "id": "6811a82f",
   "metadata": {
    "execution": {
     "iopub.execute_input": "2022-04-16T07:14:34.925938Z",
     "iopub.status.busy": "2022-04-16T07:14:34.925395Z",
     "iopub.status.idle": "2022-04-16T07:14:34.933734Z",
     "shell.execute_reply": "2022-04-16T07:14:34.933075Z"
    },
    "id": "1lSV1oU8bwAM",
    "papermill": {
     "duration": 0.114273,
     "end_time": "2022-04-16T07:14:34.935713",
     "exception": false,
     "start_time": "2022-04-16T07:14:34.821440",
     "status": "completed"
    },
    "tags": []
   },
   "outputs": [],
   "source": [
    "class TitanicDataset(Dataset):\n",
    "    def __init__(self, df, is_test=False):\n",
    "        self.is_test = is_test\n",
    "        self.df = df.copy()\n",
    "        self.cat = self.df[['Pclass', 'Sex', 'Embarked', 'Title', 'FamilySize', 'FamilyGroup', 'Deck', 'TicketFrequency']].astype(int)\n",
    "        self.cont = self.df[['Age', 'Fare']]\n",
    "        self.res_df = self.cat.join(self.cont)\n",
    "        if not(is_test):\n",
    "            self.dep_var = self.df['Survived'].astype(int)\n",
    "        self.columns = self.res_df.columns\n",
    "    def __len__(self):\n",
    "        return len(self.df)\n",
    "    def __getitem__(self, idx):\n",
    "        if self.is_test:\n",
    "            return self.res_df.iloc[idx].values\n",
    "        else:\n",
    "            return self.res_df.iloc[idx].values, self.dep_var.iloc[idx]"
   ]
  },
  {
   "cell_type": "code",
   "execution_count": 53,
   "id": "2e57ee70",
   "metadata": {
    "execution": {
     "iopub.execute_input": "2022-04-16T07:14:35.145889Z",
     "iopub.status.busy": "2022-04-16T07:14:35.145270Z",
     "iopub.status.idle": "2022-04-16T07:14:35.150803Z",
     "shell.execute_reply": "2022-04-16T07:14:35.150255Z"
    },
    "id": "p1ihRqhs2kz-",
    "papermill": {
     "duration": 0.11246,
     "end_time": "2022-04-16T07:14:35.152597",
     "exception": false,
     "start_time": "2022-04-16T07:14:35.040137",
     "status": "completed"
    },
    "tags": []
   },
   "outputs": [],
   "source": [
    "train_df, valid_df = randomSplit(df)"
   ]
  },
  {
   "cell_type": "code",
   "execution_count": 54,
   "id": "74d7a159",
   "metadata": {
    "execution": {
     "iopub.execute_input": "2022-04-16T07:14:35.360652Z",
     "iopub.status.busy": "2022-04-16T07:14:35.360109Z",
     "iopub.status.idle": "2022-04-16T07:14:35.372131Z",
     "shell.execute_reply": "2022-04-16T07:14:35.371557Z"
    },
    "id": "XTcoFKendkpz",
    "papermill": {
     "duration": 0.117878,
     "end_time": "2022-04-16T07:14:35.374033",
     "exception": false,
     "start_time": "2022-04-16T07:14:35.256155",
     "status": "completed"
    },
    "tags": []
   },
   "outputs": [],
   "source": [
    "td = TitanicDataset(train_df)\n",
    "valid_td = TitanicDataset(valid_df)\n",
    "test_ds = TitanicDataset(df_test, is_test=True)\n",
    "in_columns = td.columns\n",
    "cat_columns = td.cat.columns\n",
    "cat_n = len(td.cat.columns)\n",
    "cont_n = len(td.cont.columns)"
   ]
  },
  {
   "cell_type": "code",
   "execution_count": 55,
   "id": "67306b1d",
   "metadata": {
    "execution": {
     "iopub.execute_input": "2022-04-16T07:14:35.581118Z",
     "iopub.status.busy": "2022-04-16T07:14:35.580804Z",
     "iopub.status.idle": "2022-04-16T07:14:35.585048Z",
     "shell.execute_reply": "2022-04-16T07:14:35.584449Z"
    },
    "id": "IF6pEYPndx2Q",
    "papermill": {
     "duration": 0.109947,
     "end_time": "2022-04-16T07:14:35.586724",
     "exception": false,
     "start_time": "2022-04-16T07:14:35.476777",
     "status": "completed"
    },
    "tags": []
   },
   "outputs": [],
   "source": [
    "dl = DataLoader(td, batch_size=64)\n",
    "valid_dl = DataLoader(td, batch_size=64)"
   ]
  },
  {
   "cell_type": "code",
   "execution_count": 56,
   "id": "97ce6885",
   "metadata": {
    "execution": {
     "iopub.execute_input": "2022-04-16T07:14:35.796611Z",
     "iopub.status.busy": "2022-04-16T07:14:35.796090Z",
     "iopub.status.idle": "2022-04-16T07:14:35.799520Z",
     "shell.execute_reply": "2022-04-16T07:14:35.798841Z"
    },
    "id": "C-Z5pgpf2085",
    "papermill": {
     "duration": 0.110451,
     "end_time": "2022-04-16T07:14:35.801363",
     "exception": false,
     "start_time": "2022-04-16T07:14:35.690912",
     "status": "completed"
    },
    "tags": []
   },
   "outputs": [],
   "source": [
    "iterdl = iter(dl)"
   ]
  },
  {
   "cell_type": "code",
   "execution_count": null,
   "id": "2ab6a710",
   "metadata": {
    "id": "_Somo8hF269x",
    "papermill": {
     "duration": 0.102898,
     "end_time": "2022-04-16T07:14:36.007320",
     "exception": false,
     "start_time": "2022-04-16T07:14:35.904422",
     "status": "completed"
    },
    "tags": []
   },
   "outputs": [],
   "source": []
  },
  {
   "cell_type": "code",
   "execution_count": 57,
   "id": "6f4a4095",
   "metadata": {
    "execution": {
     "iopub.execute_input": "2022-04-16T07:14:36.215065Z",
     "iopub.status.busy": "2022-04-16T07:14:36.214529Z",
     "iopub.status.idle": "2022-04-16T07:14:36.224402Z",
     "shell.execute_reply": "2022-04-16T07:14:36.223444Z"
    },
    "id": "NcJc91Aqn1GJ",
    "papermill": {
     "duration": 0.116466,
     "end_time": "2022-04-16T07:14:36.226639",
     "exception": false,
     "start_time": "2022-04-16T07:14:36.110173",
     "status": "completed"
    },
    "tags": []
   },
   "outputs": [],
   "source": [
    "voc = []\n",
    "for s in cat_columns:\n",
    "    vn = pd.concat([td.cat[s], valid_td.cat[s], test_ds.cat[s]])\n",
    "    vn = vn.astype(int).nunique()\n",
    "    voc.append([vn, vn])\n"
   ]
  },
  {
   "cell_type": "code",
   "execution_count": 58,
   "id": "858dc502",
   "metadata": {
    "execution": {
     "iopub.execute_input": "2022-04-16T07:14:36.433978Z",
     "iopub.status.busy": "2022-04-16T07:14:36.433432Z",
     "iopub.status.idle": "2022-04-16T07:14:36.439094Z",
     "shell.execute_reply": "2022-04-16T07:14:36.438309Z"
    },
    "id": "J12RmbwluPKD",
    "outputId": "ca50b868-385e-4f83-8287-84e30513cec2",
    "papermill": {
     "duration": 0.110791,
     "end_time": "2022-04-16T07:14:36.440913",
     "exception": false,
     "start_time": "2022-04-16T07:14:36.330122",
     "status": "completed"
    },
    "tags": []
   },
   "outputs": [
    {
     "data": {
      "text/plain": [
       "[[3, 3], [2, 2], [3, 3], [6, 6], [9, 9], [4, 4], [9, 9], [7, 7]]"
      ]
     },
     "execution_count": 58,
     "metadata": {},
     "output_type": "execute_result"
    }
   ],
   "source": [
    "voc"
   ]
  },
  {
   "cell_type": "code",
   "execution_count": 59,
   "id": "b4a0f17d",
   "metadata": {
    "execution": {
     "iopub.execute_input": "2022-04-16T07:14:36.648126Z",
     "iopub.status.busy": "2022-04-16T07:14:36.647818Z",
     "iopub.status.idle": "2022-04-16T07:14:36.661693Z",
     "shell.execute_reply": "2022-04-16T07:14:36.660883Z"
    },
    "id": "0SBg7b0ilJyB",
    "papermill": {
     "duration": 0.119979,
     "end_time": "2022-04-16T07:14:36.663643",
     "exception": false,
     "start_time": "2022-04-16T07:14:36.543664",
     "status": "completed"
    },
    "tags": []
   },
   "outputs": [],
   "source": [
    "class TabModel(Module):\n",
    "    def __init__(self, emb_sz, cat_n, cont_n, layers):\n",
    "        super(TabModel, self).__init__()\n",
    "        self.cat_n = cat_n\n",
    "        self.cont_n = cont_n\n",
    "        self.embeddings = nn.ModuleList(nn.Embedding(ni, nf) for ni, nf in emb_sz)\n",
    "        cat_len = sum([x for _, x in emb_sz])\n",
    "        self.emb_drop = nn.Dropout(0.2)\n",
    "        self.linear_drop = nn.Dropout(0.5)\n",
    "        model = []\n",
    "        model.append(nn.BatchNorm1d(cat_len+cont_n))\n",
    "        model.append(self.linear_drop)\n",
    "        model.append(nn.Linear(cat_len+cont_n, layers[0]))\n",
    "        model.append(nn.Mish())\n",
    "        for i in range(len(layers)-2):\n",
    "            model.append(nn.BatchNorm1d(layers[i]))\n",
    "            model.append(self.linear_drop)\n",
    "            model.append(nn.Linear(layers[i], layers[i+1]))\n",
    "            model.append(nn.Mish())\n",
    "        self.linear = nn.Sequential(*model)\n",
    "        self.final_layer = nn.Linear(layers[-2], layers[-1])\n",
    "        \n",
    "    def forward(self, x):\n",
    "        emb = []\n",
    "        for i in range(self.cat_n):\n",
    "            emb.append(self.embeddings[i](x[:,i].int()))\n",
    "        for i in range(self.cat_n, self.cat_n+self.cont_n):\n",
    "            emb.append(x[:,i].unsqueeze(1))\n",
    "        input = torch.cat(emb, dim=1).float()\n",
    "        res = self.linear(input)\n",
    "        res = self.final_layer(res)\n",
    "        return res\n"
   ]
  },
  {
   "cell_type": "code",
   "execution_count": 60,
   "id": "cd493592",
   "metadata": {
    "execution": {
     "iopub.execute_input": "2022-04-16T07:14:36.871028Z",
     "iopub.status.busy": "2022-04-16T07:14:36.870737Z",
     "iopub.status.idle": "2022-04-16T07:14:36.919969Z",
     "shell.execute_reply": "2022-04-16T07:14:36.919265Z"
    },
    "id": "Pgyp6Ntynyo_",
    "papermill": {
     "duration": 0.155337,
     "end_time": "2022-04-16T07:14:36.922056",
     "exception": false,
     "start_time": "2022-04-16T07:14:36.766719",
     "status": "completed"
    },
    "tags": []
   },
   "outputs": [],
   "source": [
    "tabmodel = TabModel(voc, cat_n, cont_n, (400, 300, 200, 100, 2)).to(device)"
   ]
  },
  {
   "cell_type": "code",
   "execution_count": 61,
   "id": "08cf2ca0",
   "metadata": {
    "execution": {
     "iopub.execute_input": "2022-04-16T07:14:37.130286Z",
     "iopub.status.busy": "2022-04-16T07:14:37.129853Z",
     "iopub.status.idle": "2022-04-16T07:14:37.134424Z",
     "shell.execute_reply": "2022-04-16T07:14:37.133842Z"
    },
    "id": "azJH5KCv0Nu3",
    "outputId": "6158c43f-5850-417b-ca72-efef5f5f0cc0",
    "papermill": {
     "duration": 0.111424,
     "end_time": "2022-04-16T07:14:37.136971",
     "exception": false,
     "start_time": "2022-04-16T07:14:37.025547",
     "status": "completed"
    },
    "tags": []
   },
   "outputs": [
    {
     "name": "stdout",
     "output_type": "stream",
     "text": [
      "TabModel(\n",
      "  (embeddings): ModuleList(\n",
      "    (0): Embedding(3, 3)\n",
      "    (1): Embedding(2, 2)\n",
      "    (2): Embedding(3, 3)\n",
      "    (3): Embedding(6, 6)\n",
      "    (4): Embedding(9, 9)\n",
      "    (5): Embedding(4, 4)\n",
      "    (6): Embedding(9, 9)\n",
      "    (7): Embedding(7, 7)\n",
      "  )\n",
      "  (emb_drop): Dropout(p=0.2, inplace=False)\n",
      "  (linear_drop): Dropout(p=0.5, inplace=False)\n",
      "  (linear): Sequential(\n",
      "    (0): BatchNorm1d(45, eps=1e-05, momentum=0.1, affine=True, track_running_stats=True)\n",
      "    (1): Dropout(p=0.5, inplace=False)\n",
      "    (2): Linear(in_features=45, out_features=400, bias=True)\n",
      "    (3): Mish()\n",
      "    (4): BatchNorm1d(400, eps=1e-05, momentum=0.1, affine=True, track_running_stats=True)\n",
      "    (5): Dropout(p=0.5, inplace=False)\n",
      "    (6): Linear(in_features=400, out_features=300, bias=True)\n",
      "    (7): Mish()\n",
      "    (8): BatchNorm1d(300, eps=1e-05, momentum=0.1, affine=True, track_running_stats=True)\n",
      "    (9): Dropout(p=0.5, inplace=False)\n",
      "    (10): Linear(in_features=300, out_features=200, bias=True)\n",
      "    (11): Mish()\n",
      "    (12): BatchNorm1d(200, eps=1e-05, momentum=0.1, affine=True, track_running_stats=True)\n",
      "    (13): Dropout(p=0.5, inplace=False)\n",
      "    (14): Linear(in_features=200, out_features=100, bias=True)\n",
      "    (15): Mish()\n",
      "  )\n",
      "  (final_layer): Linear(in_features=100, out_features=2, bias=True)\n",
      ")\n"
     ]
    }
   ],
   "source": [
    "print(tabmodel)"
   ]
  },
  {
   "cell_type": "code",
   "execution_count": 62,
   "id": "d047c744",
   "metadata": {
    "execution": {
     "iopub.execute_input": "2022-04-16T07:14:37.352137Z",
     "iopub.status.busy": "2022-04-16T07:14:37.351314Z",
     "iopub.status.idle": "2022-04-16T07:14:37.355481Z",
     "shell.execute_reply": "2022-04-16T07:14:37.354913Z"
    },
    "id": "9dP2FXI1DMqk",
    "papermill": {
     "duration": 0.110982,
     "end_time": "2022-04-16T07:14:37.357252",
     "exception": false,
     "start_time": "2022-04-16T07:14:37.246270",
     "status": "completed"
    },
    "tags": []
   },
   "outputs": [],
   "source": [
    "dls = dl, valid_dl"
   ]
  },
  {
   "cell_type": "code",
   "execution_count": 63,
   "id": "583fbcb4",
   "metadata": {
    "execution": {
     "iopub.execute_input": "2022-04-16T07:14:37.570174Z",
     "iopub.status.busy": "2022-04-16T07:14:37.568957Z",
     "iopub.status.idle": "2022-04-16T07:14:37.575627Z",
     "shell.execute_reply": "2022-04-16T07:14:37.574893Z"
    },
    "id": "eaD4SzWKkGTs",
    "papermill": {
     "duration": 0.116465,
     "end_time": "2022-04-16T07:14:37.577976",
     "exception": false,
     "start_time": "2022-04-16T07:14:37.461511",
     "status": "completed"
    },
    "tags": []
   },
   "outputs": [],
   "source": [
    "def train(dl, model, loss_fn, optim):\n",
    "    size = len(dl.dataset)\n",
    "    losses = []\n",
    "    for batch, (X, y) in enumerate(dl):\n",
    "        # prediction, loss\n",
    "        pred = model(X)\n",
    "        loss = loss_fn(pred, y)\n",
    "        # backprop\n",
    "        optim.zero_grad()\n",
    "        loss.backward()\n",
    "        optim.step()\n",
    "\n",
    "        losses.append(loss.item())\n",
    "    \n",
    "    print(f'loss: {np.array(losses).mean()}')\n"
   ]
  },
  {
   "cell_type": "code",
   "execution_count": 64,
   "id": "ebb017f5",
   "metadata": {
    "execution": {
     "iopub.execute_input": "2022-04-16T07:14:37.787939Z",
     "iopub.status.busy": "2022-04-16T07:14:37.787396Z",
     "iopub.status.idle": "2022-04-16T07:14:37.793284Z",
     "shell.execute_reply": "2022-04-16T07:14:37.792773Z"
    },
    "id": "g31GQH3w_kUN",
    "papermill": {
     "duration": 0.112955,
     "end_time": "2022-04-16T07:14:37.795087",
     "exception": false,
     "start_time": "2022-04-16T07:14:37.682132",
     "status": "completed"
    },
    "tags": []
   },
   "outputs": [],
   "source": [
    "def valid(valid_dl, model, loss_fn):\n",
    "    accuracy = []\n",
    "    losses = []\n",
    "    with torch.no_grad():\n",
    "        for batch, (X, y) in enumerate(valid_dl):\n",
    "            #p rediction, loss\n",
    "            pred = model(X)\n",
    "            loss = loss_fn(pred, y)\n",
    "            # metric\n",
    "            accuracy.append((pred.argmax(1)==y).float().flatten().mean())\n",
    "            losses.append(loss.item())\n",
    "    print(f'valid -- accuracy: {np.array(accuracy).mean()}, loss: {np.array(losses).mean()}')"
   ]
  },
  {
   "cell_type": "code",
   "execution_count": 65,
   "id": "e32e536e",
   "metadata": {
    "execution": {
     "iopub.execute_input": "2022-04-16T07:14:38.003335Z",
     "iopub.status.busy": "2022-04-16T07:14:38.002853Z",
     "iopub.status.idle": "2022-04-16T07:14:38.007982Z",
     "shell.execute_reply": "2022-04-16T07:14:38.007359Z"
    },
    "id": "GWBjVQfWDI0r",
    "papermill": {
     "duration": 0.111335,
     "end_time": "2022-04-16T07:14:38.009730",
     "exception": false,
     "start_time": "2022-04-16T07:14:37.898395",
     "status": "completed"
    },
    "tags": []
   },
   "outputs": [],
   "source": [
    "def epoch(n, dls, model:Module, loss_fn, lr=1e-3):\n",
    "    train_dl, valid_dl = dls\n",
    "    \n",
    "    for i in range(n):\n",
    "        # train\n",
    "        model.train()\n",
    "        train(train_dl, model, loss_fn, torch.optim.Adam(model.parameters(), lr= lr))\n",
    "        #validate\n",
    "        model.eval()\n",
    "        valid(valid_dl, model, loss_fn)"
   ]
  },
  {
   "cell_type": "code",
   "execution_count": 66,
   "id": "9dc4095f",
   "metadata": {
    "execution": {
     "iopub.execute_input": "2022-04-16T07:14:38.220350Z",
     "iopub.status.busy": "2022-04-16T07:14:38.219857Z",
     "iopub.status.idle": "2022-04-16T07:14:41.376944Z",
     "shell.execute_reply": "2022-04-16T07:14:41.376086Z"
    },
    "id": "3YLxax12s3ZV",
    "outputId": "0b643d39-25e7-4524-a2a2-f3f2b9f0409b",
    "papermill": {
     "duration": 3.264511,
     "end_time": "2022-04-16T07:14:41.379030",
     "exception": false,
     "start_time": "2022-04-16T07:14:38.114519",
     "status": "completed"
    },
    "tags": []
   },
   "outputs": [
    {
     "name": "stdout",
     "output_type": "stream",
     "text": [
      "loss: 0.6430539687474569\n",
      "valid -- accuracy: 0.7654803395271301, loss: 0.5973931948343912\n",
      "loss: 0.555121178428332\n",
      "valid -- accuracy: 0.8122106194496155, loss: 0.4826338241497676\n",
      "loss: 0.5252801105380058\n",
      "valid -- accuracy: 0.8174189925193787, loss: 0.45459600289662677\n",
      "loss: 0.4982692524790764\n",
      "valid -- accuracy: 0.8174189925193787, loss: 0.43232203523317975\n",
      "loss: 0.5103526785969734\n",
      "valid -- accuracy: 0.8252314925193787, loss: 0.4235600009560585\n",
      "loss: 0.4704696014523506\n",
      "valid -- accuracy: 0.8003472685813904, loss: 0.42961549510558444\n",
      "loss: 0.5013845960299174\n",
      "valid -- accuracy: 0.8003472685813904, loss: 0.42811574786901474\n",
      "loss: 0.4403183286388715\n",
      "valid -- accuracy: 0.8068576455116272, loss: 0.42696570605039597\n"
     ]
    }
   ],
   "source": [
    "epoch(8, dls, tabmodel, CrossEntropyLoss(), lr=5e-4)"
   ]
  },
  {
   "cell_type": "code",
   "execution_count": 67,
   "id": "ff642cf7",
   "metadata": {
    "execution": {
     "iopub.execute_input": "2022-04-16T07:14:41.595216Z",
     "iopub.status.busy": "2022-04-16T07:14:41.594391Z",
     "iopub.status.idle": "2022-04-16T07:14:41.599338Z",
     "shell.execute_reply": "2022-04-16T07:14:41.598775Z"
    },
    "id": "92EJ-f5yFRne",
    "papermill": {
     "duration": 0.115044,
     "end_time": "2022-04-16T07:14:41.601292",
     "exception": false,
     "start_time": "2022-04-16T07:14:41.486248",
     "status": "completed"
    },
    "tags": []
   },
   "outputs": [],
   "source": [
    "def predictWhole(data, model):\n",
    "    model.eval()\n",
    "    pred = model(data)\n",
    "    return pred.argmax(1)"
   ]
  },
  {
   "cell_type": "code",
   "execution_count": 68,
   "id": "84bf5a6d",
   "metadata": {
    "execution": {
     "iopub.execute_input": "2022-04-16T07:14:41.816170Z",
     "iopub.status.busy": "2022-04-16T07:14:41.815411Z",
     "iopub.status.idle": "2022-04-16T07:14:41.870221Z",
     "shell.execute_reply": "2022-04-16T07:14:41.869327Z"
    },
    "id": "A28cUom3tXCM",
    "papermill": {
     "duration": 0.164967,
     "end_time": "2022-04-16T07:14:41.872640",
     "exception": false,
     "start_time": "2022-04-16T07:14:41.707673",
     "status": "completed"
    },
    "tags": []
   },
   "outputs": [],
   "source": [
    "test_ds_raw = torch.Tensor(np.array(test_ds))"
   ]
  },
  {
   "cell_type": "code",
   "execution_count": 69,
   "id": "506f6d9c",
   "metadata": {
    "execution": {
     "iopub.execute_input": "2022-04-16T07:14:42.090298Z",
     "iopub.status.busy": "2022-04-16T07:14:42.090032Z",
     "iopub.status.idle": "2022-04-16T07:14:42.105457Z",
     "shell.execute_reply": "2022-04-16T07:14:42.104884Z"
    },
    "id": "EpLqTfpZZ2is",
    "outputId": "76882f4f-19b7-41de-99eb-723c47f627b4",
    "papermill": {
     "duration": 0.126164,
     "end_time": "2022-04-16T07:14:42.107192",
     "exception": false,
     "start_time": "2022-04-16T07:14:41.981028",
     "status": "completed"
    },
    "tags": []
   },
   "outputs": [
    {
     "data": {
      "text/plain": [
       "tensor([[  0.,   0.,   2.,  ...,   0.,  12.,  10.],\n",
       "        [  0.,   1.,   0.,  ...,   0.,  13.,  11.],\n",
       "        [  2.,   0.,   2.,  ...,   0.,  14.,  12.],\n",
       "        ...,\n",
       "        [  0.,   0.,   0.,  ...,   0.,  90.,  92.],\n",
       "        [  0.,   0.,   0.,  ...,   0.,  22.,  41.],\n",
       "        [  0.,   0.,   1.,  ...,   0.,  22., 179.]])"
      ]
     },
     "execution_count": 69,
     "metadata": {},
     "output_type": "execute_result"
    }
   ],
   "source": [
    "test_ds_raw"
   ]
  },
  {
   "cell_type": "code",
   "execution_count": 70,
   "id": "870f31f5",
   "metadata": {
    "execution": {
     "iopub.execute_input": "2022-04-16T07:14:42.324383Z",
     "iopub.status.busy": "2022-04-16T07:14:42.323837Z",
     "iopub.status.idle": "2022-04-16T07:14:42.341658Z",
     "shell.execute_reply": "2022-04-16T07:14:42.340897Z"
    },
    "id": "Gaz-1GGsLWSa",
    "outputId": "bdb38471-e93f-45b6-8bf5-cc40cbb53284",
    "papermill": {
     "duration": 0.129456,
     "end_time": "2022-04-16T07:14:42.343602",
     "exception": false,
     "start_time": "2022-04-16T07:14:42.214146",
     "status": "completed"
    },
    "tags": []
   },
   "outputs": [
    {
     "data": {
      "text/plain": [
       "418"
      ]
     },
     "execution_count": 70,
     "metadata": {},
     "output_type": "execute_result"
    }
   ],
   "source": [
    "preds = predictWhole(test_ds_raw, tabmodel)\n",
    "len(preds)"
   ]
  },
  {
   "cell_type": "code",
   "execution_count": 71,
   "id": "72fb15d0",
   "metadata": {
    "execution": {
     "iopub.execute_input": "2022-04-16T07:14:42.561993Z",
     "iopub.status.busy": "2022-04-16T07:14:42.561130Z",
     "iopub.status.idle": "2022-04-16T07:14:42.566941Z",
     "shell.execute_reply": "2022-04-16T07:14:42.566182Z"
    },
    "id": "Ol7VwkHuLgFS",
    "papermill": {
     "duration": 0.116768,
     "end_time": "2022-04-16T07:14:42.569034",
     "exception": false,
     "start_time": "2022-04-16T07:14:42.452266",
     "status": "completed"
    },
    "tags": []
   },
   "outputs": [],
   "source": [
    "result = pd.DataFrame({'PassengerId': df_test_pi, 'Survived': preds})"
   ]
  },
  {
   "cell_type": "code",
   "execution_count": 72,
   "id": "751b1cca",
   "metadata": {
    "execution": {
     "iopub.execute_input": "2022-04-16T07:14:42.786688Z",
     "iopub.status.busy": "2022-04-16T07:14:42.786212Z",
     "iopub.status.idle": "2022-04-16T07:14:42.794186Z",
     "shell.execute_reply": "2022-04-16T07:14:42.793543Z"
    },
    "id": "nZ36hM3iL4Ku",
    "papermill": {
     "duration": 0.118908,
     "end_time": "2022-04-16T07:14:42.795976",
     "exception": false,
     "start_time": "2022-04-16T07:14:42.677068",
     "status": "completed"
    },
    "tags": []
   },
   "outputs": [],
   "source": [
    "result.to_csv('submission.csv', index=False)"
   ]
  },
  {
   "cell_type": "code",
   "execution_count": 73,
   "id": "e8803dd7",
   "metadata": {
    "execution": {
     "iopub.execute_input": "2022-04-16T07:14:43.013994Z",
     "iopub.status.busy": "2022-04-16T07:14:43.013192Z",
     "iopub.status.idle": "2022-04-16T07:14:43.018301Z",
     "shell.execute_reply": "2022-04-16T07:14:43.017713Z"
    },
    "papermill": {
     "duration": 0.116452,
     "end_time": "2022-04-16T07:14:43.020139",
     "exception": false,
     "start_time": "2022-04-16T07:14:42.903687",
     "status": "completed"
    },
    "tags": []
   },
   "outputs": [],
   "source": [
    "def randSplit(l, valid_ratio=0.2):\n",
    "    idxs = np.arange(l)\n",
    "    np.random.shuffle(idxs)\n",
    "    cut = int(l*valid_ratio)\n",
    "    return idxs[:cut], idxs[cut:]"
   ]
  },
  {
   "cell_type": "code",
   "execution_count": 74,
   "id": "dad82a45",
   "metadata": {
    "execution": {
     "iopub.execute_input": "2022-04-16T07:14:43.236632Z",
     "iopub.status.busy": "2022-04-16T07:14:43.235804Z",
     "iopub.status.idle": "2022-04-16T07:14:43.239850Z",
     "shell.execute_reply": "2022-04-16T07:14:43.239280Z"
    },
    "id": "ZXGUSbcaNLJc",
    "papermill": {
     "duration": 0.114615,
     "end_time": "2022-04-16T07:14:43.241710",
     "exception": false,
     "start_time": "2022-04-16T07:14:43.127095",
     "status": "completed"
    },
    "tags": []
   },
   "outputs": [],
   "source": [
    "dls = DataLoaders(dl, valid_dl)"
   ]
  },
  {
   "cell_type": "code",
   "execution_count": 75,
   "id": "a07a8f26",
   "metadata": {
    "execution": {
     "iopub.execute_input": "2022-04-16T07:14:43.459127Z",
     "iopub.status.busy": "2022-04-16T07:14:43.458246Z",
     "iopub.status.idle": "2022-04-16T07:14:43.466949Z",
     "shell.execute_reply": "2022-04-16T07:14:43.466259Z"
    },
    "papermill": {
     "duration": 0.118688,
     "end_time": "2022-04-16T07:14:43.468963",
     "exception": false,
     "start_time": "2022-04-16T07:14:43.350275",
     "status": "completed"
    },
    "tags": []
   },
   "outputs": [],
   "source": [
    "voc = []\n",
    "for s in cat_columns:\n",
    "    vn = pd.concat([td.cat[s], valid_td.cat[s], test_ds.cat[s]])\n",
    "    vn = vn.astype(int).nunique()\n",
    "    voc.append([vn, vn*3])\n"
   ]
  },
  {
   "cell_type": "code",
   "execution_count": 76,
   "id": "d0f23773",
   "metadata": {
    "execution": {
     "iopub.execute_input": "2022-04-16T07:14:43.685654Z",
     "iopub.status.busy": "2022-04-16T07:14:43.684933Z",
     "iopub.status.idle": "2022-04-16T07:14:43.695465Z",
     "shell.execute_reply": "2022-04-16T07:14:43.694689Z"
    },
    "papermill": {
     "duration": 0.121198,
     "end_time": "2022-04-16T07:14:43.697753",
     "exception": false,
     "start_time": "2022-04-16T07:14:43.576555",
     "status": "completed"
    },
    "tags": []
   },
   "outputs": [],
   "source": [
    "tabmodel = TabModel(voc, cat_n, cont_n, (400, 300, 200, 100, 2)).to(device)"
   ]
  },
  {
   "cell_type": "code",
   "execution_count": 77,
   "id": "60235c0d",
   "metadata": {
    "execution": {
     "iopub.execute_input": "2022-04-16T07:14:43.913509Z",
     "iopub.status.busy": "2022-04-16T07:14:43.913249Z",
     "iopub.status.idle": "2022-04-16T07:14:43.918502Z",
     "shell.execute_reply": "2022-04-16T07:14:43.917542Z"
    },
    "papermill": {
     "duration": 0.11524,
     "end_time": "2022-04-16T07:14:43.920411",
     "exception": false,
     "start_time": "2022-04-16T07:14:43.805171",
     "status": "completed"
    },
    "tags": []
   },
   "outputs": [],
   "source": [
    "learn = Learner(dls, tabmodel, loss_func=CrossEntropyLossFlat(), metrics=accuracy)"
   ]
  },
  {
   "cell_type": "code",
   "execution_count": 78,
   "id": "76e964c8",
   "metadata": {
    "execution": {
     "iopub.execute_input": "2022-04-16T07:14:44.140550Z",
     "iopub.status.busy": "2022-04-16T07:14:44.139977Z",
     "iopub.status.idle": "2022-04-16T07:14:47.651620Z",
     "shell.execute_reply": "2022-04-16T07:14:47.650837Z"
    },
    "papermill": {
     "duration": 3.622614,
     "end_time": "2022-04-16T07:14:47.654078",
     "exception": false,
     "start_time": "2022-04-16T07:14:44.031464",
     "status": "completed"
    },
    "tags": []
   },
   "outputs": [
    {
     "data": {
      "text/html": [
       "\n",
       "<style>\n",
       "    /* Turns off some styling */\n",
       "    progress {\n",
       "        /* gets rid of default border in Firefox and Opera. */\n",
       "        border: none;\n",
       "        /* Needs to be in here for Safari polyfill so background images work as expected. */\n",
       "        background-size: auto;\n",
       "    }\n",
       "    .progress-bar-interrupted, .progress-bar-interrupted::-webkit-progress-bar {\n",
       "        background: #F44336;\n",
       "    }\n",
       "</style>\n"
      ],
      "text/plain": [
       "<IPython.core.display.HTML object>"
      ]
     },
     "metadata": {},
     "output_type": "display_data"
    },
    {
     "data": {
      "text/html": [],
      "text/plain": [
       "<IPython.core.display.HTML object>"
      ]
     },
     "metadata": {},
     "output_type": "display_data"
    },
    {
     "data": {
      "text/plain": [
       "SuggestedLRs(valley=0.0030199517495930195)"
      ]
     },
     "execution_count": 78,
     "metadata": {},
     "output_type": "execute_result"
    },
    {
     "data": {
      "image/png": "[encoded data removed]",
      "text/plain": [
       "<Figure size 432x288 with 1 Axes>"
      ]
     },
     "metadata": {
      "needs_background": "light"
     },
     "output_type": "display_data"
    }
   ],
   "source": [
    "learn.lr_find()"
   ]
  },
  {
   "cell_type": "code",
   "execution_count": 79,
   "id": "6fff5b45",
   "metadata": {
    "execution": {
     "iopub.execute_input": "2022-04-16T07:14:47.876593Z",
     "iopub.status.busy": "2022-04-16T07:14:47.875784Z",
     "iopub.status.idle": "2022-04-16T07:14:50.368628Z",
     "shell.execute_reply": "2022-04-16T07:14:50.367878Z"
    },
    "papermill": {
     "duration": 2.607159,
     "end_time": "2022-04-16T07:14:50.370691",
     "exception": false,
     "start_time": "2022-04-16T07:14:47.763532",
     "status": "completed"
    },
    "tags": []
   },
   "outputs": [
    {
     "data": {
      "text/html": [
       "\n",
       "<style>\n",
       "    /* Turns off some styling */\n",
       "    progress {\n",
       "        /* gets rid of default border in Firefox and Opera. */\n",
       "        border: none;\n",
       "        /* Needs to be in here for Safari polyfill so background images work as expected. */\n",
       "        background-size: auto;\n",
       "    }\n",
       "    .progress-bar-interrupted, .progress-bar-interrupted::-webkit-progress-bar {\n",
       "        background: #F44336;\n",
       "    }\n",
       "</style>\n"
      ],
      "text/plain": [
       "<IPython.core.display.HTML object>"
      ]
     },
     "metadata": {},
     "output_type": "display_data"
    },
    {
     "data": {
      "text/html": [
       "<table border=\"1\" class=\"dataframe\">\n",
       "  <thead>\n",
       "    <tr style=\"text-align: left;\">\n",
       "      <th>epoch</th>\n",
       "      <th>train_loss</th>\n",
       "      <th>valid_loss</th>\n",
       "      <th>accuracy</th>\n",
       "      <th>time</th>\n",
       "    </tr>\n",
       "  </thead>\n",
       "  <tbody>\n",
       "    <tr>\n",
       "      <td>0</td>\n",
       "      <td>0.683481</td>\n",
       "      <td>0.624210</td>\n",
       "      <td>0.746143</td>\n",
       "      <td>00:00</td>\n",
       "    </tr>\n",
       "    <tr>\n",
       "      <td>1</td>\n",
       "      <td>0.599110</td>\n",
       "      <td>0.449391</td>\n",
       "      <td>0.813464</td>\n",
       "      <td>00:00</td>\n",
       "    </tr>\n",
       "    <tr>\n",
       "      <td>2</td>\n",
       "      <td>0.545603</td>\n",
       "      <td>0.416190</td>\n",
       "      <td>0.813464</td>\n",
       "      <td>00:00</td>\n",
       "    </tr>\n",
       "    <tr>\n",
       "      <td>3</td>\n",
       "      <td>0.523715</td>\n",
       "      <td>0.413899</td>\n",
       "      <td>0.828892</td>\n",
       "      <td>00:00</td>\n",
       "    </tr>\n",
       "    <tr>\n",
       "      <td>4</td>\n",
       "      <td>0.502591</td>\n",
       "      <td>0.412039</td>\n",
       "      <td>0.830295</td>\n",
       "      <td>00:00</td>\n",
       "    </tr>\n",
       "  </tbody>\n",
       "</table>"
      ],
      "text/plain": [
       "<IPython.core.display.HTML object>"
      ]
     },
     "metadata": {},
     "output_type": "display_data"
    }
   ],
   "source": [
    "learn.fit_one_cycle(5, 1e-3)"
   ]
  },
  {
   "cell_type": "code",
   "execution_count": 80,
   "id": "67990fe4",
   "metadata": {
    "execution": {
     "iopub.execute_input": "2022-04-16T07:14:50.604212Z",
     "iopub.status.busy": "2022-04-16T07:14:50.603696Z",
     "iopub.status.idle": "2022-04-16T07:14:50.621018Z",
     "shell.execute_reply": "2022-04-16T07:14:50.620111Z"
    },
    "papermill": {
     "duration": 0.140031,
     "end_time": "2022-04-16T07:14:50.623367",
     "exception": false,
     "start_time": "2022-04-16T07:14:50.483336",
     "status": "completed"
    },
    "tags": []
   },
   "outputs": [],
   "source": [
    "preds = predictWhole(test_ds_raw, tabmodel)"
   ]
  },
  {
   "cell_type": "code",
   "execution_count": 81,
   "id": "c1b06dde",
   "metadata": {
    "execution": {
     "iopub.execute_input": "2022-04-16T07:14:50.879322Z",
     "iopub.status.busy": "2022-04-16T07:14:50.879016Z",
     "iopub.status.idle": "2022-04-16T07:14:50.888032Z",
     "shell.execute_reply": "2022-04-16T07:14:50.887103Z"
    },
    "papermill": {
     "duration": 0.139193,
     "end_time": "2022-04-16T07:14:50.890456",
     "exception": false,
     "start_time": "2022-04-16T07:14:50.751263",
     "status": "completed"
    },
    "tags": []
   },
   "outputs": [],
   "source": [
    "result = pd.DataFrame({'PassengerId': df_test_pi, 'Survived': preds})\n",
    "result.to_csv('submission_fastai.csv', index=False)"
   ]
  }
 ],
 "metadata": {
  "kernelspec": {
   "display_name": "Python 3",
   "language": "python",
   "name": "python3"
  },
  "language_info": {
   "codemirror_mode": {
    "name": "ipython",
    "version": 3
   },
   "file_extension": ".py",
   "mimetype": "text/x-python",
   "name": "python",
   "nbconvert_exporter": "python",
   "pygments_lexer": "ipython3",
   "version": "3.7.12"
  },
  "papermill": {
   "default_parameters": {},
   "duration": 82.48543,
   "end_time": "2022-04-16T07:14:51.932273",
   "environment_variables": {},
   "exception": null,
   "input_path": "__notebook__.ipynb",
   "output_path": "__notebook__.ipynb",
   "parameters": {},
   "start_time": "2022-04-16T07:13:29.446843",
   "version": "2.3.4"
  }
 },
 "nbformat": 4,
 "nbformat_minor": 5
}
