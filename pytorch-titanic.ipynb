{
 "cells": [
  {
   "cell_type": "markdown",
   "id": "3eb9ac9c",
   "metadata": {
    "id": "view-in-github",
    "papermill": {
     "duration": 0.082008,
     "end_time": "2022-04-16T06:46:24.113287",
     "exception": false,
     "start_time": "2022-04-16T06:46:24.031279",
     "status": "completed"
    },
    "tags": []
   },
   "source": [
    "<a href=\"https://colab.research.google.com/github/Puurun/fastai_code_example/blob/main/Pytorch_Titanic.ipynb\" target=\"_parent\"><img src=\"https://colab.research.google.com/assets/colab-badge.svg\" alt=\"Open In Colab\"/></a>"
   ]
  },
  {
   "cell_type": "code",
   "execution_count": null,
   "id": "6c81af81",
   "metadata": {
    "id": "SCI89IkiejzG",
    "outputId": "c8596ff0-5f2b-4bab-99dd-0d0b181f6795",
    "papermill": {
     "duration": 0.078044,
     "end_time": "2022-04-16T06:46:24.272945",
     "exception": false,
     "start_time": "2022-04-16T06:46:24.194901",
     "status": "completed"
    },
    "tags": []
   },
   "outputs": [],
   "source": []
  },
  {
   "cell_type": "code",
   "execution_count": 1,
   "id": "e8cb0689",
   "metadata": {
    "execution": {
     "iopub.execute_input": "2022-04-16T06:46:24.431781Z",
     "iopub.status.busy": "2022-04-16T06:46:24.431384Z",
     "iopub.status.idle": "2022-04-16T06:46:36.805461Z",
     "shell.execute_reply": "2022-04-16T06:46:36.804592Z"
    },
    "id": "-ltAnZP3QBy3",
    "outputId": "5be66168-fe3d-46c9-99f8-2d5496bc6f56",
    "papermill": {
     "duration": 12.456668,
     "end_time": "2022-04-16T06:46:36.807997",
     "exception": false,
     "start_time": "2022-04-16T06:46:24.351329",
     "status": "completed"
    },
    "tags": []
   },
   "outputs": [
    {
     "name": "stdout",
     "output_type": "stream",
     "text": [
      "Collecting impyute\r\n",
      "  Downloading impyute-0.0.8-py2.py3-none-any.whl (31 kB)\r\n",
      "Requirement already satisfied: numpy in /opt/conda/lib/python3.7/site-packages (from impyute) (1.21.5)\r\n",
      "Requirement already satisfied: scipy in /opt/conda/lib/python3.7/site-packages (from impyute) (1.7.3)\r\n",
      "Requirement already satisfied: scikit-learn in /opt/conda/lib/python3.7/site-packages (from impyute) (1.0.2)\r\n",
      "Requirement already satisfied: joblib>=0.11 in /opt/conda/lib/python3.7/site-packages (from scikit-learn->impyute) (1.0.1)\r\n",
      "Requirement already satisfied: threadpoolctl>=2.0.0 in /opt/conda/lib/python3.7/site-packages (from scikit-learn->impyute) (3.1.0)\r\n",
      "Installing collected packages: impyute\r\n",
      "Successfully installed impyute-0.0.8\r\n",
      "\u001b[33mWARNING: Running pip as the 'root' user can result in broken permissions and conflicting behaviour with the system package manager. It is recommended to use a virtual environment instead: https://pip.pypa.io/warnings/venv\u001b[0m\u001b[33m\r\n",
      "\u001b[0m"
     ]
    }
   ],
   "source": [
    "!pip install impyute"
   ]
  },
  {
   "cell_type": "code",
   "execution_count": 2,
   "id": "cddf1748",
   "metadata": {
    "execution": {
     "iopub.execute_input": "2022-04-16T06:46:36.976499Z",
     "iopub.status.busy": "2022-04-16T06:46:36.976167Z",
     "iopub.status.idle": "2022-04-16T06:46:59.119554Z",
     "shell.execute_reply": "2022-04-16T06:46:59.118397Z"
    },
    "id": "h0xhi6k4bUXN",
    "outputId": "4506c3ee-d33e-4811-8dae-0838b19615cc",
    "papermill": {
     "duration": 22.229088,
     "end_time": "2022-04-16T06:46:59.122107",
     "exception": false,
     "start_time": "2022-04-16T06:46:36.893019",
     "status": "completed"
    },
    "tags": []
   },
   "outputs": [
    {
     "name": "stdout",
     "output_type": "stream",
     "text": [
      "\u001b[31mERROR: pip's dependency resolver does not currently take into account all the packages that are installed. This behaviour is the source of the following dependency conflicts.\r\n",
      "tensorflow-io 0.21.0 requires tensorflow-io-gcs-filesystem==0.21.0, which is not installed.\r\n",
      "tensorflow 2.6.3 requires absl-py~=0.10, but you have absl-py 1.0.0 which is incompatible.\r\n",
      "tensorflow 2.6.3 requires numpy~=1.19.2, but you have numpy 1.21.5 which is incompatible.\r\n",
      "tensorflow 2.6.3 requires six~=1.15.0, but you have six 1.16.0 which is incompatible.\r\n",
      "tensorflow 2.6.3 requires wrapt~=1.12.1, but you have wrapt 1.14.0 which is incompatible.\r\n",
      "tensorflow-transform 1.7.0 requires pyarrow<6,>=1, but you have pyarrow 7.0.0 which is incompatible.\r\n",
      "tensorflow-transform 1.7.0 requires tensorflow!=2.0.*,!=2.1.*,!=2.2.*,!=2.3.*,!=2.4.*,!=2.5.*,!=2.6.*,!=2.7.*,<2.9,>=1.15.5, but you have tensorflow 2.6.3 which is incompatible.\r\n",
      "tensorflow-serving-api 2.8.0 requires tensorflow<3,>=2.8.0, but you have tensorflow 2.6.3 which is incompatible.\r\n",
      "rich 12.2.0 requires typing-extensions<5.0,>=4.0.0; python_version < \"3.9\", but you have typing-extensions 3.10.0.2 which is incompatible.\r\n",
      "pytorch-lightning 1.6.0 requires typing-extensions>=4.0.0, but you have typing-extensions 3.10.0.2 which is incompatible.\r\n",
      "flake8 4.0.1 requires importlib-metadata<4.3; python_version < \"3.8\", but you have importlib-metadata 4.11.3 which is incompatible.\r\n",
      "apache-beam 2.37.0 requires dill<0.3.2,>=0.3.1.1, but you have dill 0.3.4 which is incompatible.\r\n",
      "apache-beam 2.37.0 requires httplib2<0.20.0,>=0.8, but you have httplib2 0.20.4 which is incompatible.\r\n",
      "apache-beam 2.37.0 requires pyarrow<7.0.0,>=0.15.1, but you have pyarrow 7.0.0 which is incompatible.\r\n",
      "aioitertools 0.10.0 requires typing_extensions>=4.0; python_version < \"3.10\", but you have typing-extensions 3.10.0.2 which is incompatible.\r\n",
      "aiobotocore 2.2.0 requires botocore<1.24.22,>=1.24.21, but you have botocore 1.24.38 which is incompatible.\u001b[0m\u001b[31m\r\n",
      "\u001b[0m"
     ]
    }
   ],
   "source": [
    "!pip install fastai -Uqq"
   ]
  },
  {
   "cell_type": "code",
   "execution_count": 3,
   "id": "d752eb7e",
   "metadata": {
    "execution": {
     "iopub.execute_input": "2022-04-16T06:46:59.287658Z",
     "iopub.status.busy": "2022-04-16T06:46:59.287342Z",
     "iopub.status.idle": "2022-04-16T06:46:59.291857Z",
     "shell.execute_reply": "2022-04-16T06:46:59.291196Z"
    },
    "id": "TNgP1SUQd-sh",
    "papermill": {
     "duration": 0.089435,
     "end_time": "2022-04-16T06:46:59.293812",
     "exception": false,
     "start_time": "2022-04-16T06:46:59.204377",
     "status": "completed"
    },
    "tags": []
   },
   "outputs": [],
   "source": [
    "gpu = False\n",
    "device = 'cuda' if gpu else 'cpu'"
   ]
  },
  {
   "cell_type": "code",
   "execution_count": 4,
   "id": "cf334ab3",
   "metadata": {
    "execution": {
     "iopub.execute_input": "2022-04-16T06:46:59.457325Z",
     "iopub.status.busy": "2022-04-16T06:46:59.457050Z",
     "iopub.status.idle": "2022-04-16T06:47:00.709430Z",
     "shell.execute_reply": "2022-04-16T06:47:00.708548Z"
    },
    "id": "JYxhj_fHeOwx",
    "papermill": {
     "duration": 1.337667,
     "end_time": "2022-04-16T06:47:00.712364",
     "exception": false,
     "start_time": "2022-04-16T06:46:59.374697",
     "status": "completed"
    },
    "tags": []
   },
   "outputs": [],
   "source": [
    "import pandas as pd\n",
    "import numpy as np\n",
    "import seaborn as sns\n",
    "import matplotlib.pyplot as plt\n",
    "import impyute as im\n",
    "import sys\n",
    "from impyute.imputation.cs import fast_knn\n",
    "from sklearn.preprocessing import OrdinalEncoder"
   ]
  },
  {
   "cell_type": "code",
   "execution_count": 5,
   "id": "d790d5fb",
   "metadata": {
    "execution": {
     "iopub.execute_input": "2022-04-16T06:47:00.876774Z",
     "iopub.status.busy": "2022-04-16T06:47:00.876206Z",
     "iopub.status.idle": "2022-04-16T06:47:00.905505Z",
     "shell.execute_reply": "2022-04-16T06:47:00.904213Z"
    },
    "id": "ZkXCpX_cedrB",
    "papermill": {
     "duration": 0.114489,
     "end_time": "2022-04-16T06:47:00.907963",
     "exception": false,
     "start_time": "2022-04-16T06:47:00.793474",
     "status": "completed"
    },
    "tags": []
   },
   "outputs": [],
   "source": [
    "df = pd.read_csv('../input/titanic/train.csv')\n",
    "df_test = pd.read_csv('../input/titanic/test.csv')"
   ]
  },
  {
   "cell_type": "code",
   "execution_count": 6,
   "id": "e308c271",
   "metadata": {
    "execution": {
     "iopub.execute_input": "2022-04-16T06:47:01.074435Z",
     "iopub.status.busy": "2022-04-16T06:47:01.073839Z",
     "iopub.status.idle": "2022-04-16T06:47:01.081116Z",
     "shell.execute_reply": "2022-04-16T06:47:01.080549Z"
    },
    "id": "Ebfuhs5-eu87",
    "outputId": "13da6f35-ff67-448e-a73b-0c9449bb3e2e",
    "papermill": {
     "duration": 0.091961,
     "end_time": "2022-04-16T06:47:01.082756",
     "exception": false,
     "start_time": "2022-04-16T06:47:00.990795",
     "status": "completed"
    },
    "tags": []
   },
   "outputs": [
    {
     "data": {
      "text/plain": [
       "array(['PassengerId', 'Survived', 'Pclass', 'Name', 'Sex', 'Age', 'SibSp',\n",
       "       'Parch', 'Ticket', 'Fare', 'Cabin', 'Embarked'], dtype=object)"
      ]
     },
     "execution_count": 6,
     "metadata": {},
     "output_type": "execute_result"
    }
   ],
   "source": [
    "df.columns.values"
   ]
  },
  {
   "cell_type": "code",
   "execution_count": null,
   "id": "02d98029",
   "metadata": {
    "papermill": {
     "duration": 0.081391,
     "end_time": "2022-04-16T06:47:01.245320",
     "exception": false,
     "start_time": "2022-04-16T06:47:01.163929",
     "status": "completed"
    },
    "tags": []
   },
   "outputs": [],
   "source": []
  },
  {
   "cell_type": "code",
   "execution_count": null,
   "id": "da7d8fcb",
   "metadata": {
    "papermill": {
     "duration": 0.082854,
     "end_time": "2022-04-16T06:47:01.409776",
     "exception": false,
     "start_time": "2022-04-16T06:47:01.326922",
     "status": "completed"
    },
    "tags": []
   },
   "outputs": [],
   "source": []
  },
  {
   "cell_type": "code",
   "execution_count": 7,
   "id": "478afff0",
   "metadata": {
    "execution": {
     "iopub.execute_input": "2022-04-16T06:47:01.574486Z",
     "iopub.status.busy": "2022-04-16T06:47:01.573935Z",
     "iopub.status.idle": "2022-04-16T06:47:01.578454Z",
     "shell.execute_reply": "2022-04-16T06:47:01.577707Z"
    },
    "id": "RmyHWYzXe4EJ",
    "papermill": {
     "duration": 0.089092,
     "end_time": "2022-04-16T06:47:01.580251",
     "exception": false,
     "start_time": "2022-04-16T06:47:01.491159",
     "status": "completed"
    },
    "tags": []
   },
   "outputs": [],
   "source": [
    "dep_var = ['Survived']\n",
    "cat_var = ['Sex', 'Embarked']\n",
    "ord_var = ['Pclass']\n",
    "cont_var = ['Age', 'Fare']\n",
    "desc_var = ['SibSp', 'Parch']"
   ]
  },
  {
   "cell_type": "code",
   "execution_count": 8,
   "id": "85a65bba",
   "metadata": {
    "execution": {
     "iopub.execute_input": "2022-04-16T06:47:01.743942Z",
     "iopub.status.busy": "2022-04-16T06:47:01.743610Z",
     "iopub.status.idle": "2022-04-16T06:47:01.768048Z",
     "shell.execute_reply": "2022-04-16T06:47:01.767407Z"
    },
    "id": "OOwkYfTuoCDo",
    "papermill": {
     "duration": 0.108917,
     "end_time": "2022-04-16T06:47:01.770200",
     "exception": false,
     "start_time": "2022-04-16T06:47:01.661283",
     "status": "completed"
    },
    "tags": []
   },
   "outputs": [],
   "source": [
    "combine = [df, df_test]\n",
    "for dataset in combine:\n",
    "    dataset[cat_var+ord_var] = dataset[cat_var+ord_var].astype('category')\n",
    "    dataset['Pclass'] = dataset['Pclass'].cat.set_categories([1, 2, 3], ordered=True)"
   ]
  },
  {
   "cell_type": "code",
   "execution_count": 9,
   "id": "ba7b774b",
   "metadata": {
    "execution": {
     "iopub.execute_input": "2022-04-16T06:47:01.935824Z",
     "iopub.status.busy": "2022-04-16T06:47:01.935021Z",
     "iopub.status.idle": "2022-04-16T06:47:01.942556Z",
     "shell.execute_reply": "2022-04-16T06:47:01.941738Z"
    },
    "id": "reaPqaUmfn2G",
    "outputId": "d2fc0f49-98c2-4759-9c4b-287b1a22475e",
    "papermill": {
     "duration": 0.092511,
     "end_time": "2022-04-16T06:47:01.944363",
     "exception": false,
     "start_time": "2022-04-16T06:47:01.851852",
     "status": "completed"
    },
    "tags": []
   },
   "outputs": [
    {
     "data": {
      "text/plain": [
       "PassengerId       int64\n",
       "Survived          int64\n",
       "Pclass         category\n",
       "Name             object\n",
       "Sex            category\n",
       "Age             float64\n",
       "SibSp             int64\n",
       "Parch             int64\n",
       "Ticket           object\n",
       "Fare            float64\n",
       "Cabin            object\n",
       "Embarked       category\n",
       "dtype: object"
      ]
     },
     "execution_count": 9,
     "metadata": {},
     "output_type": "execute_result"
    }
   ],
   "source": [
    "df.dtypes"
   ]
  },
  {
   "cell_type": "code",
   "execution_count": 10,
   "id": "ab333c6a",
   "metadata": {
    "execution": {
     "iopub.execute_input": "2022-04-16T06:47:02.112044Z",
     "iopub.status.busy": "2022-04-16T06:47:02.111060Z",
     "iopub.status.idle": "2022-04-16T06:47:02.125019Z",
     "shell.execute_reply": "2022-04-16T06:47:02.124282Z"
    },
    "id": "SqiH0pOrfob-",
    "outputId": "5e1d6efe-0e0a-45d5-90fb-240e5fb6daef",
    "papermill": {
     "duration": 0.100679,
     "end_time": "2022-04-16T06:47:02.126872",
     "exception": false,
     "start_time": "2022-04-16T06:47:02.026193",
     "status": "completed"
    },
    "tags": []
   },
   "outputs": [
    {
     "data": {
      "text/plain": [
       "Cabin          0.771044\n",
       "Age            0.198653\n",
       "Embarked       0.002245\n",
       "PassengerId    0.000000\n",
       "Survived       0.000000\n",
       "Pclass         0.000000\n",
       "Name           0.000000\n",
       "Sex            0.000000\n",
       "SibSp          0.000000\n",
       "Parch          0.000000\n",
       "Ticket         0.000000\n",
       "Fare           0.000000\n",
       "dtype: float64"
      ]
     },
     "execution_count": 10,
     "metadata": {},
     "output_type": "execute_result"
    }
   ],
   "source": [
    "null_check = (df.isnull().sum()/ df.isnull().count()).sort_values(ascending=False)\n",
    "null_check"
   ]
  },
  {
   "cell_type": "code",
   "execution_count": 11,
   "id": "12685e54",
   "metadata": {
    "execution": {
     "iopub.execute_input": "2022-04-16T06:47:02.294514Z",
     "iopub.status.busy": "2022-04-16T06:47:02.293719Z",
     "iopub.status.idle": "2022-04-16T06:47:02.320309Z",
     "shell.execute_reply": "2022-04-16T06:47:02.319720Z"
    },
    "id": "VGzez6fnf2Qn",
    "outputId": "8ec2ead3-f2c2-4fc0-bd15-0b2e2305601a",
    "papermill": {
     "duration": 0.113734,
     "end_time": "2022-04-16T06:47:02.322533",
     "exception": false,
     "start_time": "2022-04-16T06:47:02.208799",
     "status": "completed"
    },
    "tags": []
   },
   "outputs": [
    {
     "name": "stdout",
     "output_type": "stream",
     "text": [
      "<class 'pandas.core.frame.DataFrame'>\n",
      "RangeIndex: 891 entries, 0 to 890\n",
      "Data columns (total 12 columns):\n",
      " #   Column       Non-Null Count  Dtype   \n",
      "---  ------       --------------  -----   \n",
      " 0   PassengerId  891 non-null    int64   \n",
      " 1   Survived     891 non-null    int64   \n",
      " 2   Pclass       891 non-null    category\n",
      " 3   Name         891 non-null    object  \n",
      " 4   Sex          891 non-null    category\n",
      " 5   Age          714 non-null    float64 \n",
      " 6   SibSp        891 non-null    int64   \n",
      " 7   Parch        891 non-null    int64   \n",
      " 8   Ticket       891 non-null    object  \n",
      " 9   Fare         891 non-null    float64 \n",
      " 10  Cabin        204 non-null    object  \n",
      " 11  Embarked     889 non-null    category\n",
      "dtypes: category(3), float64(2), int64(4), object(3)\n",
      "memory usage: 65.8+ KB\n",
      "****************************************\n",
      "<class 'pandas.core.frame.DataFrame'>\n",
      "RangeIndex: 418 entries, 0 to 417\n",
      "Data columns (total 11 columns):\n",
      " #   Column       Non-Null Count  Dtype   \n",
      "---  ------       --------------  -----   \n",
      " 0   PassengerId  418 non-null    int64   \n",
      " 1   Pclass       418 non-null    category\n",
      " 2   Name         418 non-null    object  \n",
      " 3   Sex          418 non-null    category\n",
      " 4   Age          332 non-null    float64 \n",
      " 5   SibSp        418 non-null    int64   \n",
      " 6   Parch        418 non-null    int64   \n",
      " 7   Ticket       418 non-null    object  \n",
      " 8   Fare         417 non-null    float64 \n",
      " 9   Cabin        91 non-null     object  \n",
      " 10  Embarked     418 non-null    category\n",
      "dtypes: category(3), float64(2), int64(3), object(3)\n",
      "memory usage: 27.9+ KB\n"
     ]
    }
   ],
   "source": [
    "df.info()\n",
    "print('*'*40)\n",
    "df_test.info()"
   ]
  },
  {
   "cell_type": "code",
   "execution_count": 12,
   "id": "72d3f4b5",
   "metadata": {
    "execution": {
     "iopub.execute_input": "2022-04-16T06:47:02.490907Z",
     "iopub.status.busy": "2022-04-16T06:47:02.490383Z",
     "iopub.status.idle": "2022-04-16T06:47:02.522941Z",
     "shell.execute_reply": "2022-04-16T06:47:02.522131Z"
    },
    "id": "hkD9m0ZQgsX-",
    "outputId": "2820baaf-d9fb-4648-8381-767b7a8fee64",
    "papermill": {
     "duration": 0.119592,
     "end_time": "2022-04-16T06:47:02.524957",
     "exception": false,
     "start_time": "2022-04-16T06:47:02.405365",
     "status": "completed"
    },
    "tags": []
   },
   "outputs": [
    {
     "data": {
      "text/html": [
       "<div>\n",
       "<style scoped>\n",
       "    .dataframe tbody tr th:only-of-type {\n",
       "        vertical-align: middle;\n",
       "    }\n",
       "\n",
       "    .dataframe tbody tr th {\n",
       "        vertical-align: top;\n",
       "    }\n",
       "\n",
       "    .dataframe thead th {\n",
       "        text-align: right;\n",
       "    }\n",
       "</style>\n",
       "<table border=\"1\" class=\"dataframe\">\n",
       "  <thead>\n",
       "    <tr style=\"text-align: right;\">\n",
       "      <th></th>\n",
       "      <th>PassengerId</th>\n",
       "      <th>Survived</th>\n",
       "      <th>Age</th>\n",
       "      <th>SibSp</th>\n",
       "      <th>Parch</th>\n",
       "      <th>Fare</th>\n",
       "    </tr>\n",
       "  </thead>\n",
       "  <tbody>\n",
       "    <tr>\n",
       "      <th>count</th>\n",
       "      <td>891.000000</td>\n",
       "      <td>891.000000</td>\n",
       "      <td>714.000000</td>\n",
       "      <td>891.000000</td>\n",
       "      <td>891.000000</td>\n",
       "      <td>891.000000</td>\n",
       "    </tr>\n",
       "    <tr>\n",
       "      <th>mean</th>\n",
       "      <td>446.000000</td>\n",
       "      <td>0.383838</td>\n",
       "      <td>29.699118</td>\n",
       "      <td>0.523008</td>\n",
       "      <td>0.381594</td>\n",
       "      <td>32.204208</td>\n",
       "    </tr>\n",
       "    <tr>\n",
       "      <th>std</th>\n",
       "      <td>257.353842</td>\n",
       "      <td>0.486592</td>\n",
       "      <td>14.526497</td>\n",
       "      <td>1.102743</td>\n",
       "      <td>0.806057</td>\n",
       "      <td>49.693429</td>\n",
       "    </tr>\n",
       "    <tr>\n",
       "      <th>min</th>\n",
       "      <td>1.000000</td>\n",
       "      <td>0.000000</td>\n",
       "      <td>0.420000</td>\n",
       "      <td>0.000000</td>\n",
       "      <td>0.000000</td>\n",
       "      <td>0.000000</td>\n",
       "    </tr>\n",
       "    <tr>\n",
       "      <th>25%</th>\n",
       "      <td>223.500000</td>\n",
       "      <td>0.000000</td>\n",
       "      <td>20.125000</td>\n",
       "      <td>0.000000</td>\n",
       "      <td>0.000000</td>\n",
       "      <td>7.910400</td>\n",
       "    </tr>\n",
       "    <tr>\n",
       "      <th>50%</th>\n",
       "      <td>446.000000</td>\n",
       "      <td>0.000000</td>\n",
       "      <td>28.000000</td>\n",
       "      <td>0.000000</td>\n",
       "      <td>0.000000</td>\n",
       "      <td>14.454200</td>\n",
       "    </tr>\n",
       "    <tr>\n",
       "      <th>75%</th>\n",
       "      <td>668.500000</td>\n",
       "      <td>1.000000</td>\n",
       "      <td>38.000000</td>\n",
       "      <td>1.000000</td>\n",
       "      <td>0.000000</td>\n",
       "      <td>31.000000</td>\n",
       "    </tr>\n",
       "    <tr>\n",
       "      <th>max</th>\n",
       "      <td>891.000000</td>\n",
       "      <td>1.000000</td>\n",
       "      <td>80.000000</td>\n",
       "      <td>8.000000</td>\n",
       "      <td>6.000000</td>\n",
       "      <td>512.329200</td>\n",
       "    </tr>\n",
       "  </tbody>\n",
       "</table>\n",
       "</div>"
      ],
      "text/plain": [
       "       PassengerId    Survived         Age       SibSp       Parch        Fare\n",
       "count   891.000000  891.000000  714.000000  891.000000  891.000000  891.000000\n",
       "mean    446.000000    0.383838   29.699118    0.523008    0.381594   32.204208\n",
       "std     257.353842    0.486592   14.526497    1.102743    0.806057   49.693429\n",
       "min       1.000000    0.000000    0.420000    0.000000    0.000000    0.000000\n",
       "25%     223.500000    0.000000   20.125000    0.000000    0.000000    7.910400\n",
       "50%     446.000000    0.000000   28.000000    0.000000    0.000000   14.454200\n",
       "75%     668.500000    1.000000   38.000000    1.000000    0.000000   31.000000\n",
       "max     891.000000    1.000000   80.000000    8.000000    6.000000  512.329200"
      ]
     },
     "execution_count": 12,
     "metadata": {},
     "output_type": "execute_result"
    }
   ],
   "source": [
    "df.describe()"
   ]
  },
  {
   "cell_type": "code",
   "execution_count": 13,
   "id": "7fc1c1c6",
   "metadata": {
    "execution": {
     "iopub.execute_input": "2022-04-16T06:47:02.694148Z",
     "iopub.status.busy": "2022-04-16T06:47:02.693552Z",
     "iopub.status.idle": "2022-04-16T06:47:02.713027Z",
     "shell.execute_reply": "2022-04-16T06:47:02.712146Z"
    },
    "id": "laMZG81ghSrn",
    "outputId": "8a784e5c-4885-4dfd-e05e-1d65d61b9dea",
    "papermill": {
     "duration": 0.106131,
     "end_time": "2022-04-16T06:47:02.715015",
     "exception": false,
     "start_time": "2022-04-16T06:47:02.608884",
     "status": "completed"
    },
    "tags": []
   },
   "outputs": [
    {
     "data": {
      "text/html": [
       "<div>\n",
       "<style scoped>\n",
       "    .dataframe tbody tr th:only-of-type {\n",
       "        vertical-align: middle;\n",
       "    }\n",
       "\n",
       "    .dataframe tbody tr th {\n",
       "        vertical-align: top;\n",
       "    }\n",
       "\n",
       "    .dataframe thead th {\n",
       "        text-align: right;\n",
       "    }\n",
       "</style>\n",
       "<table border=\"1\" class=\"dataframe\">\n",
       "  <thead>\n",
       "    <tr style=\"text-align: right;\">\n",
       "      <th></th>\n",
       "      <th>Name</th>\n",
       "      <th>Ticket</th>\n",
       "      <th>Cabin</th>\n",
       "    </tr>\n",
       "  </thead>\n",
       "  <tbody>\n",
       "    <tr>\n",
       "      <th>count</th>\n",
       "      <td>891</td>\n",
       "      <td>891</td>\n",
       "      <td>204</td>\n",
       "    </tr>\n",
       "    <tr>\n",
       "      <th>unique</th>\n",
       "      <td>891</td>\n",
       "      <td>681</td>\n",
       "      <td>147</td>\n",
       "    </tr>\n",
       "    <tr>\n",
       "      <th>top</th>\n",
       "      <td>Braund, Mr. Owen Harris</td>\n",
       "      <td>347082</td>\n",
       "      <td>B96 B98</td>\n",
       "    </tr>\n",
       "    <tr>\n",
       "      <th>freq</th>\n",
       "      <td>1</td>\n",
       "      <td>7</td>\n",
       "      <td>4</td>\n",
       "    </tr>\n",
       "  </tbody>\n",
       "</table>\n",
       "</div>"
      ],
      "text/plain": [
       "                           Name  Ticket    Cabin\n",
       "count                       891     891      204\n",
       "unique                      891     681      147\n",
       "top     Braund, Mr. Owen Harris  347082  B96 B98\n",
       "freq                          1       7        4"
      ]
     },
     "execution_count": 13,
     "metadata": {},
     "output_type": "execute_result"
    }
   ],
   "source": [
    "df.describe(include=['O'])"
   ]
  },
  {
   "cell_type": "code",
   "execution_count": 14,
   "id": "11e60a9c",
   "metadata": {
    "execution": {
     "iopub.execute_input": "2022-04-16T06:47:02.884967Z",
     "iopub.status.busy": "2022-04-16T06:47:02.884664Z",
     "iopub.status.idle": "2022-04-16T06:47:02.904121Z",
     "shell.execute_reply": "2022-04-16T06:47:02.903122Z"
    },
    "id": "o-dObXW5hoG4",
    "papermill": {
     "duration": 0.107288,
     "end_time": "2022-04-16T06:47:02.906461",
     "exception": false,
     "start_time": "2022-04-16T06:47:02.799173",
     "status": "completed"
    },
    "tags": []
   },
   "outputs": [],
   "source": [
    "# analyze by pivoting features\n",
    "features_to_analyze = ['Pclass', 'SibSp', 'Parch', 'Sex']\n",
    "pivot_analyzation = {\n",
    "    feature: \n",
    "    df[[feature, 'Survived']].groupby(by=[feature], as_index=False).mean().sort_values(by=\"Survived\", ascending=False)\n",
    "    for feature in features_to_analyze\n",
    "}"
   ]
  },
  {
   "cell_type": "code",
   "execution_count": 15,
   "id": "9e95dbae",
   "metadata": {
    "execution": {
     "iopub.execute_input": "2022-04-16T06:47:03.075935Z",
     "iopub.status.busy": "2022-04-16T06:47:03.075625Z",
     "iopub.status.idle": "2022-04-16T06:47:03.085368Z",
     "shell.execute_reply": "2022-04-16T06:47:03.084758Z"
    },
    "id": "gf1yZKlknYg5",
    "outputId": "e2b7d94e-3993-42dd-8144-7b33f5cf9a14",
    "papermill": {
     "duration": 0.096718,
     "end_time": "2022-04-16T06:47:03.087219",
     "exception": false,
     "start_time": "2022-04-16T06:47:02.990501",
     "status": "completed"
    },
    "tags": []
   },
   "outputs": [
    {
     "data": {
      "text/html": [
       "<div>\n",
       "<style scoped>\n",
       "    .dataframe tbody tr th:only-of-type {\n",
       "        vertical-align: middle;\n",
       "    }\n",
       "\n",
       "    .dataframe tbody tr th {\n",
       "        vertical-align: top;\n",
       "    }\n",
       "\n",
       "    .dataframe thead th {\n",
       "        text-align: right;\n",
       "    }\n",
       "</style>\n",
       "<table border=\"1\" class=\"dataframe\">\n",
       "  <thead>\n",
       "    <tr style=\"text-align: right;\">\n",
       "      <th></th>\n",
       "      <th>Pclass</th>\n",
       "      <th>Survived</th>\n",
       "    </tr>\n",
       "  </thead>\n",
       "  <tbody>\n",
       "    <tr>\n",
       "      <th>0</th>\n",
       "      <td>1</td>\n",
       "      <td>0.629630</td>\n",
       "    </tr>\n",
       "    <tr>\n",
       "      <th>1</th>\n",
       "      <td>2</td>\n",
       "      <td>0.472826</td>\n",
       "    </tr>\n",
       "    <tr>\n",
       "      <th>2</th>\n",
       "      <td>3</td>\n",
       "      <td>0.242363</td>\n",
       "    </tr>\n",
       "  </tbody>\n",
       "</table>\n",
       "</div>"
      ],
      "text/plain": [
       "  Pclass  Survived\n",
       "0      1  0.629630\n",
       "1      2  0.472826\n",
       "2      3  0.242363"
      ]
     },
     "execution_count": 15,
     "metadata": {},
     "output_type": "execute_result"
    }
   ],
   "source": [
    "pivot_analyzation['Pclass']"
   ]
  },
  {
   "cell_type": "code",
   "execution_count": 16,
   "id": "8cbcce0e",
   "metadata": {
    "execution": {
     "iopub.execute_input": "2022-04-16T06:47:03.257190Z",
     "iopub.status.busy": "2022-04-16T06:47:03.256897Z",
     "iopub.status.idle": "2022-04-16T06:47:03.266319Z",
     "shell.execute_reply": "2022-04-16T06:47:03.265726Z"
    },
    "id": "tpunEm9lqUQx",
    "outputId": "ef38b2ec-6d29-4e6c-9e2f-0ff7a2e5a2b0",
    "papermill": {
     "duration": 0.096541,
     "end_time": "2022-04-16T06:47:03.267961",
     "exception": false,
     "start_time": "2022-04-16T06:47:03.171420",
     "status": "completed"
    },
    "tags": []
   },
   "outputs": [
    {
     "data": {
      "text/html": [
       "<div>\n",
       "<style scoped>\n",
       "    .dataframe tbody tr th:only-of-type {\n",
       "        vertical-align: middle;\n",
       "    }\n",
       "\n",
       "    .dataframe tbody tr th {\n",
       "        vertical-align: top;\n",
       "    }\n",
       "\n",
       "    .dataframe thead th {\n",
       "        text-align: right;\n",
       "    }\n",
       "</style>\n",
       "<table border=\"1\" class=\"dataframe\">\n",
       "  <thead>\n",
       "    <tr style=\"text-align: right;\">\n",
       "      <th></th>\n",
       "      <th>Sex</th>\n",
       "      <th>Survived</th>\n",
       "    </tr>\n",
       "  </thead>\n",
       "  <tbody>\n",
       "    <tr>\n",
       "      <th>0</th>\n",
       "      <td>female</td>\n",
       "      <td>0.742038</td>\n",
       "    </tr>\n",
       "    <tr>\n",
       "      <th>1</th>\n",
       "      <td>male</td>\n",
       "      <td>0.188908</td>\n",
       "    </tr>\n",
       "  </tbody>\n",
       "</table>\n",
       "</div>"
      ],
      "text/plain": [
       "      Sex  Survived\n",
       "0  female  0.742038\n",
       "1    male  0.188908"
      ]
     },
     "execution_count": 16,
     "metadata": {},
     "output_type": "execute_result"
    }
   ],
   "source": [
    "pivot_analyzation['Sex']"
   ]
  },
  {
   "cell_type": "code",
   "execution_count": 17,
   "id": "5c449e53",
   "metadata": {
    "execution": {
     "iopub.execute_input": "2022-04-16T06:47:03.438570Z",
     "iopub.status.busy": "2022-04-16T06:47:03.438316Z",
     "iopub.status.idle": "2022-04-16T06:47:03.447231Z",
     "shell.execute_reply": "2022-04-16T06:47:03.446398Z"
    },
    "id": "241vk8uuqVpB",
    "outputId": "bbd52dc0-574e-44ce-efd8-d98f78847f81",
    "papermill": {
     "duration": 0.097,
     "end_time": "2022-04-16T06:47:03.449215",
     "exception": false,
     "start_time": "2022-04-16T06:47:03.352215",
     "status": "completed"
    },
    "tags": []
   },
   "outputs": [
    {
     "data": {
      "text/html": [
       "<div>\n",
       "<style scoped>\n",
       "    .dataframe tbody tr th:only-of-type {\n",
       "        vertical-align: middle;\n",
       "    }\n",
       "\n",
       "    .dataframe tbody tr th {\n",
       "        vertical-align: top;\n",
       "    }\n",
       "\n",
       "    .dataframe thead th {\n",
       "        text-align: right;\n",
       "    }\n",
       "</style>\n",
       "<table border=\"1\" class=\"dataframe\">\n",
       "  <thead>\n",
       "    <tr style=\"text-align: right;\">\n",
       "      <th></th>\n",
       "      <th>SibSp</th>\n",
       "      <th>Survived</th>\n",
       "    </tr>\n",
       "  </thead>\n",
       "  <tbody>\n",
       "    <tr>\n",
       "      <th>1</th>\n",
       "      <td>1</td>\n",
       "      <td>0.535885</td>\n",
       "    </tr>\n",
       "    <tr>\n",
       "      <th>2</th>\n",
       "      <td>2</td>\n",
       "      <td>0.464286</td>\n",
       "    </tr>\n",
       "    <tr>\n",
       "      <th>0</th>\n",
       "      <td>0</td>\n",
       "      <td>0.345395</td>\n",
       "    </tr>\n",
       "    <tr>\n",
       "      <th>3</th>\n",
       "      <td>3</td>\n",
       "      <td>0.250000</td>\n",
       "    </tr>\n",
       "    <tr>\n",
       "      <th>4</th>\n",
       "      <td>4</td>\n",
       "      <td>0.166667</td>\n",
       "    </tr>\n",
       "    <tr>\n",
       "      <th>5</th>\n",
       "      <td>5</td>\n",
       "      <td>0.000000</td>\n",
       "    </tr>\n",
       "    <tr>\n",
       "      <th>6</th>\n",
       "      <td>8</td>\n",
       "      <td>0.000000</td>\n",
       "    </tr>\n",
       "  </tbody>\n",
       "</table>\n",
       "</div>"
      ],
      "text/plain": [
       "   SibSp  Survived\n",
       "1      1  0.535885\n",
       "2      2  0.464286\n",
       "0      0  0.345395\n",
       "3      3  0.250000\n",
       "4      4  0.166667\n",
       "5      5  0.000000\n",
       "6      8  0.000000"
      ]
     },
     "execution_count": 17,
     "metadata": {},
     "output_type": "execute_result"
    }
   ],
   "source": [
    "pivot_analyzation['SibSp']"
   ]
  },
  {
   "cell_type": "code",
   "execution_count": 18,
   "id": "0e30c0a3",
   "metadata": {
    "execution": {
     "iopub.execute_input": "2022-04-16T06:47:03.621720Z",
     "iopub.status.busy": "2022-04-16T06:47:03.621249Z",
     "iopub.status.idle": "2022-04-16T06:47:03.631050Z",
     "shell.execute_reply": "2022-04-16T06:47:03.630157Z"
    },
    "id": "lHpIt7GiqW2p",
    "outputId": "bc17a7cf-30b1-4028-834c-f803b569cf2e",
    "papermill": {
     "duration": 0.098202,
     "end_time": "2022-04-16T06:47:03.632941",
     "exception": false,
     "start_time": "2022-04-16T06:47:03.534739",
     "status": "completed"
    },
    "tags": []
   },
   "outputs": [
    {
     "data": {
      "text/html": [
       "<div>\n",
       "<style scoped>\n",
       "    .dataframe tbody tr th:only-of-type {\n",
       "        vertical-align: middle;\n",
       "    }\n",
       "\n",
       "    .dataframe tbody tr th {\n",
       "        vertical-align: top;\n",
       "    }\n",
       "\n",
       "    .dataframe thead th {\n",
       "        text-align: right;\n",
       "    }\n",
       "</style>\n",
       "<table border=\"1\" class=\"dataframe\">\n",
       "  <thead>\n",
       "    <tr style=\"text-align: right;\">\n",
       "      <th></th>\n",
       "      <th>Parch</th>\n",
       "      <th>Survived</th>\n",
       "    </tr>\n",
       "  </thead>\n",
       "  <tbody>\n",
       "    <tr>\n",
       "      <th>3</th>\n",
       "      <td>3</td>\n",
       "      <td>0.600000</td>\n",
       "    </tr>\n",
       "    <tr>\n",
       "      <th>1</th>\n",
       "      <td>1</td>\n",
       "      <td>0.550847</td>\n",
       "    </tr>\n",
       "    <tr>\n",
       "      <th>2</th>\n",
       "      <td>2</td>\n",
       "      <td>0.500000</td>\n",
       "    </tr>\n",
       "    <tr>\n",
       "      <th>0</th>\n",
       "      <td>0</td>\n",
       "      <td>0.343658</td>\n",
       "    </tr>\n",
       "    <tr>\n",
       "      <th>5</th>\n",
       "      <td>5</td>\n",
       "      <td>0.200000</td>\n",
       "    </tr>\n",
       "    <tr>\n",
       "      <th>4</th>\n",
       "      <td>4</td>\n",
       "      <td>0.000000</td>\n",
       "    </tr>\n",
       "    <tr>\n",
       "      <th>6</th>\n",
       "      <td>6</td>\n",
       "      <td>0.000000</td>\n",
       "    </tr>\n",
       "  </tbody>\n",
       "</table>\n",
       "</div>"
      ],
      "text/plain": [
       "   Parch  Survived\n",
       "3      3  0.600000\n",
       "1      1  0.550847\n",
       "2      2  0.500000\n",
       "0      0  0.343658\n",
       "5      5  0.200000\n",
       "4      4  0.000000\n",
       "6      6  0.000000"
      ]
     },
     "execution_count": 18,
     "metadata": {},
     "output_type": "execute_result"
    }
   ],
   "source": [
    "pivot_analyzation['Parch']"
   ]
  },
  {
   "cell_type": "code",
   "execution_count": 19,
   "id": "6d5f3d50",
   "metadata": {
    "execution": {
     "iopub.execute_input": "2022-04-16T06:47:03.806931Z",
     "iopub.status.busy": "2022-04-16T06:47:03.806614Z",
     "iopub.status.idle": "2022-04-16T06:47:04.299811Z",
     "shell.execute_reply": "2022-04-16T06:47:04.298654Z"
    },
    "id": "Ywer2rKnqYYh",
    "outputId": "cc649324-de7c-48aa-94d5-92125991f3f5",
    "papermill": {
     "duration": 0.583196,
     "end_time": "2022-04-16T06:47:04.302100",
     "exception": false,
     "start_time": "2022-04-16T06:47:03.718904",
     "status": "completed"
    },
    "tags": []
   },
   "outputs": [
    {
     "data": {
      "text/plain": [
       "<seaborn.axisgrid.FacetGrid at 0x7fe7dbe58710>"
      ]
     },
     "execution_count": 19,
     "metadata": {},
     "output_type": "execute_result"
    },
    {
     "data": {
      "image/png": "[encoded data removed]",
      "text/plain": [
       "<Figure size 432x216 with 2 Axes>"
      ]
     },
     "metadata": {
      "needs_background": "light"
     },
     "output_type": "display_data"
    }
   ],
   "source": [
    "g = sns.FacetGrid(df, col='Survived')\n",
    "g.map(plt.hist, 'Age', bins=20)"
   ]
  },
  {
   "cell_type": "code",
   "execution_count": 20,
   "id": "d695030b",
   "metadata": {
    "execution": {
     "iopub.execute_input": "2022-04-16T06:47:04.483340Z",
     "iopub.status.busy": "2022-04-16T06:47:04.483043Z",
     "iopub.status.idle": "2022-04-16T06:47:05.847861Z",
     "shell.execute_reply": "2022-04-16T06:47:05.846766Z"
    },
    "id": "lqwW73t4enEq",
    "outputId": "c860a56b-73e0-4733-86aa-bca356f6b472",
    "papermill": {
     "duration": 1.458099,
     "end_time": "2022-04-16T06:47:05.850098",
     "exception": false,
     "start_time": "2022-04-16T06:47:04.391999",
     "status": "completed"
    },
    "tags": []
   },
   "outputs": [
    {
     "data": {
      "text/plain": [
       "<seaborn.axisgrid.FacetGrid at 0x7fe7dbe27c50>"
      ]
     },
     "execution_count": 20,
     "metadata": {},
     "output_type": "execute_result"
    },
    {
     "data": {
      "image/png": "[encoded data removed]",
      "text/plain": [
       "<Figure size 432x648 with 6 Axes>"
      ]
     },
     "metadata": {
      "needs_background": "light"
     },
     "output_type": "display_data"
    }
   ],
   "source": [
    "g = sns.FacetGrid(df, col='Survived', row='Pclass')\n",
    "g.map(plt.hist, 'Age', bins=20)"
   ]
  },
  {
   "cell_type": "code",
   "execution_count": 21,
   "id": "fa7cd0fa",
   "metadata": {
    "execution": {
     "iopub.execute_input": "2022-04-16T06:47:06.029811Z",
     "iopub.status.busy": "2022-04-16T06:47:06.029517Z",
     "iopub.status.idle": "2022-04-16T06:47:07.362719Z",
     "shell.execute_reply": "2022-04-16T06:47:07.361851Z"
    },
    "id": "cDU94G6yfFrb",
    "outputId": "d7f9d0b7-7b1c-41e2-f705-dfd01271c23a",
    "papermill": {
     "duration": 1.425678,
     "end_time": "2022-04-16T06:47:07.365118",
     "exception": false,
     "start_time": "2022-04-16T06:47:05.939440",
     "status": "completed"
    },
    "tags": []
   },
   "outputs": [
    {
     "name": "stderr",
     "output_type": "stream",
     "text": [
      "/opt/conda/lib/python3.7/site-packages/seaborn/axisgrid.py:670: UserWarning: Using the pointplot function without specifying `order` is likely to produce an incorrect plot.\n",
      "  warnings.warn(warning)\n",
      "/opt/conda/lib/python3.7/site-packages/seaborn/axisgrid.py:675: UserWarning: Using the pointplot function without specifying `hue_order` is likely to produce an incorrect plot.\n",
      "  warnings.warn(warning)\n"
     ]
    },
    {
     "data": {
      "text/plain": [
       "<seaborn.axisgrid.FacetGrid at 0x7fe7d80a8610>"
      ]
     },
     "execution_count": 21,
     "metadata": {},
     "output_type": "execute_result"
    },
    {
     "data": {
      "image/png": "[encoded data removed]",
      "text/plain": [
       "<Figure size 286.5x648 with 3 Axes>"
      ]
     },
     "metadata": {
      "needs_background": "light"
     },
     "output_type": "display_data"
    }
   ],
   "source": [
    "g = sns.FacetGrid(df, row='Embarked')\n",
    "g.map(sns.pointplot, 'Pclass', 'Survived', 'Sex', palette='deep')\n",
    "g.add_legend()"
   ]
  },
  {
   "cell_type": "code",
   "execution_count": 22,
   "id": "71d16dd1",
   "metadata": {
    "execution": {
     "iopub.execute_input": "2022-04-16T06:47:07.577361Z",
     "iopub.status.busy": "2022-04-16T06:47:07.577050Z",
     "iopub.status.idle": "2022-04-16T06:47:08.860702Z",
     "shell.execute_reply": "2022-04-16T06:47:08.860059Z"
    },
    "id": "Ofr-Wfq5gZQs",
    "outputId": "1bd5d848-0541-4500-ee04-87d076b7b381",
    "papermill": {
     "duration": 1.390132,
     "end_time": "2022-04-16T06:47:08.862561",
     "exception": false,
     "start_time": "2022-04-16T06:47:07.472429",
     "status": "completed"
    },
    "tags": []
   },
   "outputs": [
    {
     "name": "stderr",
     "output_type": "stream",
     "text": [
      "/opt/conda/lib/python3.7/site-packages/seaborn/axisgrid.py:670: UserWarning: Using the barplot function without specifying `order` is likely to produce an incorrect plot.\n",
      "  warnings.warn(warning)\n"
     ]
    },
    {
     "data": {
      "text/plain": [
       "<seaborn.axisgrid.FacetGrid at 0x7fe7d7eeb890>"
      ]
     },
     "execution_count": 22,
     "metadata": {},
     "output_type": "execute_result"
    },
    {
     "data": {
      "image/png": "[encoded data removed]",
      "text/plain": [
       "<Figure size 432x648 with 6 Axes>"
      ]
     },
     "metadata": {
      "needs_background": "light"
     },
     "output_type": "display_data"
    }
   ],
   "source": [
    "g= sns.FacetGrid(df, row='Embarked', col='Survived')\n",
    "g.map(sns.barplot, 'Sex', 'Fare')"
   ]
  },
  {
   "cell_type": "code",
   "execution_count": 23,
   "id": "00ce2a0d",
   "metadata": {
    "execution": {
     "iopub.execute_input": "2022-04-16T06:47:09.054491Z",
     "iopub.status.busy": "2022-04-16T06:47:09.053639Z",
     "iopub.status.idle": "2022-04-16T06:47:09.057288Z",
     "shell.execute_reply": "2022-04-16T06:47:09.056733Z"
    },
    "papermill": {
     "duration": 0.100336,
     "end_time": "2022-04-16T06:47:09.059000",
     "exception": false,
     "start_time": "2022-04-16T06:47:08.958664",
     "status": "completed"
    },
    "tags": []
   },
   "outputs": [],
   "source": [
    "#Feature Engineering: Cabin->Deck, Ticket->Ticket Frequency, Age-Fare=bin, Surname, Familiy_size"
   ]
  },
  {
   "cell_type": "code",
   "execution_count": 24,
   "id": "dcae4f3e",
   "metadata": {
    "execution": {
     "iopub.execute_input": "2022-04-16T06:47:09.245806Z",
     "iopub.status.busy": "2022-04-16T06:47:09.245277Z",
     "iopub.status.idle": "2022-04-16T06:47:09.255884Z",
     "shell.execute_reply": "2022-04-16T06:47:09.255266Z"
    },
    "papermill": {
     "duration": 0.106416,
     "end_time": "2022-04-16T06:47:09.258006",
     "exception": false,
     "start_time": "2022-04-16T06:47:09.151590",
     "status": "completed"
    },
    "tags": []
   },
   "outputs": [],
   "source": [
    "df['Age'] = df.groupby(['Sex', 'Pclass'])['Age'].apply(lambda x: x.fillna(x.median()))"
   ]
  },
  {
   "cell_type": "code",
   "execution_count": 25,
   "id": "0391a73b",
   "metadata": {
    "execution": {
     "iopub.execute_input": "2022-04-16T06:47:09.447792Z",
     "iopub.status.busy": "2022-04-16T06:47:09.447464Z",
     "iopub.status.idle": "2022-04-16T06:47:09.458631Z",
     "shell.execute_reply": "2022-04-16T06:47:09.457971Z"
    },
    "papermill": {
     "duration": 0.109673,
     "end_time": "2022-04-16T06:47:09.460755",
     "exception": false,
     "start_time": "2022-04-16T06:47:09.351082",
     "status": "completed"
    },
    "tags": []
   },
   "outputs": [],
   "source": [
    "df_test['Age'] = df_test.groupby(['Sex', 'Pclass'])['Age'].apply(lambda x: x.fillna(x.median()))"
   ]
  },
  {
   "cell_type": "code",
   "execution_count": 26,
   "id": "ded19c0c",
   "metadata": {
    "execution": {
     "iopub.execute_input": "2022-04-16T06:47:09.648583Z",
     "iopub.status.busy": "2022-04-16T06:47:09.647753Z",
     "iopub.status.idle": "2022-04-16T06:47:09.663214Z",
     "shell.execute_reply": "2022-04-16T06:47:09.662620Z"
    },
    "papermill": {
     "duration": 0.111624,
     "end_time": "2022-04-16T06:47:09.665218",
     "exception": false,
     "start_time": "2022-04-16T06:47:09.553594",
     "status": "completed"
    },
    "tags": []
   },
   "outputs": [],
   "source": [
    "df['Fare'] = pd.qcut(df['Fare'], 10)\n",
    "df['Age'] = pd.qcut(df['Age'], 13, duplicates='drop')"
   ]
  },
  {
   "cell_type": "code",
   "execution_count": 27,
   "id": "b5abbc29",
   "metadata": {
    "execution": {
     "iopub.execute_input": "2022-04-16T06:47:09.853074Z",
     "iopub.status.busy": "2022-04-16T06:47:09.852431Z",
     "iopub.status.idle": "2022-04-16T06:47:09.862594Z",
     "shell.execute_reply": "2022-04-16T06:47:09.861968Z"
    },
    "papermill": {
     "duration": 0.106253,
     "end_time": "2022-04-16T06:47:09.864656",
     "exception": false,
     "start_time": "2022-04-16T06:47:09.758403",
     "status": "completed"
    },
    "tags": []
   },
   "outputs": [],
   "source": [
    "df['FamilySize'] = df['SibSp'] + df['Parch'] + 1\n",
    "df_test['FamilySize'] = df_test['SibSp'] + df_test['Parch'] + 1\n",
    "family_map = {1: 'Alone', 2: 'Small', 3:'Small', 4:'Small', 5:'Medium', 6:'Medium', 7:'Large', 8:'Large', 11:'Large'}\n",
    "df['FamilyGroup'] = df['FamilySize'].map(family_map)\n",
    "df_test['FamilyGroup'] = df['FamilySize'].map(family_map)"
   ]
  },
  {
   "cell_type": "code",
   "execution_count": 28,
   "id": "f44571a0",
   "metadata": {
    "execution": {
     "iopub.execute_input": "2022-04-16T06:47:10.051629Z",
     "iopub.status.busy": "2022-04-16T06:47:10.051177Z",
     "iopub.status.idle": "2022-04-16T06:47:10.060044Z",
     "shell.execute_reply": "2022-04-16T06:47:10.059203Z"
    },
    "papermill": {
     "duration": 0.104596,
     "end_time": "2022-04-16T06:47:10.062161",
     "exception": false,
     "start_time": "2022-04-16T06:47:09.957565",
     "status": "completed"
    },
    "tags": []
   },
   "outputs": [],
   "source": [
    "df.loc[df['Cabin'].isnull(),'Cabin'] = 'M'\n",
    "df_test.loc[df_test['Cabin'].isnull(), 'Cabin'] = 'M'\n",
    "df['Deck'] = df['Cabin'].apply(lambda x: x[0])\n",
    "df_test['Deck'] = df['Cabin'].apply(lambda x:x[0])"
   ]
  },
  {
   "cell_type": "code",
   "execution_count": 29,
   "id": "6cb9ea7b",
   "metadata": {
    "execution": {
     "iopub.execute_input": "2022-04-16T06:47:10.250080Z",
     "iopub.status.busy": "2022-04-16T06:47:10.249552Z",
     "iopub.status.idle": "2022-04-16T06:47:11.174259Z",
     "shell.execute_reply": "2022-04-16T06:47:11.173281Z"
    },
    "papermill": {
     "duration": 1.021434,
     "end_time": "2022-04-16T06:47:11.176611",
     "exception": false,
     "start_time": "2022-04-16T06:47:10.155177",
     "status": "completed"
    },
    "tags": []
   },
   "outputs": [],
   "source": [
    "df['TicketFrequency'] = np.nan\n",
    "for uv in df['Ticket'].unique():\n",
    "    num_ticket = (df['Ticket']==uv).sum()\n",
    "    df.loc[df['Ticket']==uv,'TicketFrequency'] = num_ticket\n",
    "    \n",
    "df_test['TicketFrequency'] = np.nan\n",
    "for uv in df_test['Ticket'].unique():\n",
    "    num_ticket = (df_test['Ticket']==uv).sum()\n",
    "    df_test.loc[df_test['Ticket']==uv,'TicketFrequency'] = num_ticket"
   ]
  },
  {
   "cell_type": "code",
   "execution_count": 30,
   "id": "7172d65b",
   "metadata": {
    "execution": {
     "iopub.execute_input": "2022-04-16T06:47:11.363009Z",
     "iopub.status.busy": "2022-04-16T06:47:11.362719Z",
     "iopub.status.idle": "2022-04-16T06:47:11.367980Z",
     "shell.execute_reply": "2022-04-16T06:47:11.367180Z"
    },
    "papermill": {
     "duration": 0.100669,
     "end_time": "2022-04-16T06:47:11.369848",
     "exception": false,
     "start_time": "2022-04-16T06:47:11.269179",
     "status": "completed"
    },
    "tags": []
   },
   "outputs": [],
   "source": [
    "ageinterval = pd.arrays.IntervalArray(df['Age'].unique())"
   ]
  },
  {
   "cell_type": "code",
   "execution_count": 31,
   "id": "3da0c320",
   "metadata": {
    "execution": {
     "iopub.execute_input": "2022-04-16T06:47:11.559878Z",
     "iopub.status.busy": "2022-04-16T06:47:11.559559Z",
     "iopub.status.idle": "2022-04-16T06:47:11.588555Z",
     "shell.execute_reply": "2022-04-16T06:47:11.587767Z"
    },
    "papermill": {
     "duration": 0.124261,
     "end_time": "2022-04-16T06:47:11.590384",
     "exception": false,
     "start_time": "2022-04-16T06:47:11.466123",
     "status": "completed"
    },
    "tags": []
   },
   "outputs": [
    {
     "data": {
      "text/plain": [
       "0      [(34.0, 38.0)]\n",
       "1      [(42.0, 50.0)]\n",
       "2      [(50.0, 80.0)]\n",
       "3      [(25.0, 28.0)]\n",
       "4      [(21.5, 23.0)]\n",
       "            ...      \n",
       "413    [(23.0, 25.0)]\n",
       "414    [(38.0, 42.0)]\n",
       "415    [(38.0, 42.0)]\n",
       "416    [(23.0, 25.0)]\n",
       "417    [(23.0, 25.0)]\n",
       "Name: Age, Length: 418, dtype: object"
      ]
     },
     "execution_count": 31,
     "metadata": {},
     "output_type": "execute_result"
    }
   ],
   "source": [
    "df_test['Age'].apply(lambda x: ageinterval.to_tuples()[ageinterval.contains(x)])"
   ]
  },
  {
   "cell_type": "code",
   "execution_count": 32,
   "id": "2174c11d",
   "metadata": {
    "execution": {
     "iopub.execute_input": "2022-04-16T06:47:11.777210Z",
     "iopub.status.busy": "2022-04-16T06:47:11.776766Z",
     "iopub.status.idle": "2022-04-16T06:47:11.780268Z",
     "shell.execute_reply": "2022-04-16T06:47:11.779703Z"
    },
    "id": "PtHFJwOThQnt",
    "papermill": {
     "duration": 0.099594,
     "end_time": "2022-04-16T06:47:11.782060",
     "exception": false,
     "start_time": "2022-04-16T06:47:11.682466",
     "status": "completed"
    },
    "tags": []
   },
   "outputs": [],
   "source": [
    "#df = df.drop(['Cabin', 'Ticket'], axis=1)"
   ]
  },
  {
   "cell_type": "code",
   "execution_count": 33,
   "id": "8eb4d316",
   "metadata": {
    "execution": {
     "iopub.execute_input": "2022-04-16T06:47:11.969597Z",
     "iopub.status.busy": "2022-04-16T06:47:11.969045Z",
     "iopub.status.idle": "2022-04-16T06:47:11.972372Z",
     "shell.execute_reply": "2022-04-16T06:47:11.971756Z"
    },
    "id": "kly7zEN5jaI2",
    "papermill": {
     "duration": 0.099409,
     "end_time": "2022-04-16T06:47:11.974244",
     "exception": false,
     "start_time": "2022-04-16T06:47:11.874835",
     "status": "completed"
    },
    "tags": []
   },
   "outputs": [],
   "source": [
    "#df_test = df_test.drop(['Cabin', 'Ticket'], axis=1)"
   ]
  },
  {
   "cell_type": "code",
   "execution_count": 34,
   "id": "891c967a",
   "metadata": {
    "execution": {
     "iopub.execute_input": "2022-04-16T06:47:12.161521Z",
     "iopub.status.busy": "2022-04-16T06:47:12.161039Z",
     "iopub.status.idle": "2022-04-16T06:47:12.165508Z",
     "shell.execute_reply": "2022-04-16T06:47:12.164853Z"
    },
    "id": "iPk_5Hk3kG5P",
    "papermill": {
     "duration": 0.100889,
     "end_time": "2022-04-16T06:47:12.167353",
     "exception": false,
     "start_time": "2022-04-16T06:47:12.066464",
     "status": "completed"
    },
    "tags": []
   },
   "outputs": [],
   "source": [
    "df_test_pi = df_test.copy()['PassengerId']"
   ]
  },
  {
   "cell_type": "code",
   "execution_count": 35,
   "id": "c809a22c",
   "metadata": {
    "execution": {
     "iopub.execute_input": "2022-04-16T06:47:12.353453Z",
     "iopub.status.busy": "2022-04-16T06:47:12.352827Z",
     "iopub.status.idle": "2022-04-16T06:47:12.386580Z",
     "shell.execute_reply": "2022-04-16T06:47:12.385842Z"
    },
    "id": "CJvy9qNDkTt-",
    "outputId": "59da43b7-78ff-43e5-d28f-1f6e181675d3",
    "papermill": {
     "duration": 0.129094,
     "end_time": "2022-04-16T06:47:12.388449",
     "exception": false,
     "start_time": "2022-04-16T06:47:12.259355",
     "status": "completed"
    },
    "tags": []
   },
   "outputs": [
    {
     "data": {
      "text/html": [
       "<div>\n",
       "<style scoped>\n",
       "    .dataframe tbody tr th:only-of-type {\n",
       "        vertical-align: middle;\n",
       "    }\n",
       "\n",
       "    .dataframe tbody tr th {\n",
       "        vertical-align: top;\n",
       "    }\n",
       "\n",
       "    .dataframe thead th {\n",
       "        text-align: right;\n",
       "    }\n",
       "</style>\n",
       "<table border=\"1\" class=\"dataframe\">\n",
       "  <thead>\n",
       "    <tr style=\"text-align: right;\">\n",
       "      <th>Sex</th>\n",
       "      <th>female</th>\n",
       "      <th>male</th>\n",
       "    </tr>\n",
       "    <tr>\n",
       "      <th>Title</th>\n",
       "      <th></th>\n",
       "      <th></th>\n",
       "    </tr>\n",
       "  </thead>\n",
       "  <tbody>\n",
       "    <tr>\n",
       "      <th>Capt</th>\n",
       "      <td>0</td>\n",
       "      <td>1</td>\n",
       "    </tr>\n",
       "    <tr>\n",
       "      <th>Col</th>\n",
       "      <td>0</td>\n",
       "      <td>2</td>\n",
       "    </tr>\n",
       "    <tr>\n",
       "      <th>Countess</th>\n",
       "      <td>1</td>\n",
       "      <td>0</td>\n",
       "    </tr>\n",
       "    <tr>\n",
       "      <th>Don</th>\n",
       "      <td>0</td>\n",
       "      <td>1</td>\n",
       "    </tr>\n",
       "    <tr>\n",
       "      <th>Dr</th>\n",
       "      <td>1</td>\n",
       "      <td>6</td>\n",
       "    </tr>\n",
       "    <tr>\n",
       "      <th>Jonkheer</th>\n",
       "      <td>0</td>\n",
       "      <td>1</td>\n",
       "    </tr>\n",
       "    <tr>\n",
       "      <th>Lady</th>\n",
       "      <td>1</td>\n",
       "      <td>0</td>\n",
       "    </tr>\n",
       "    <tr>\n",
       "      <th>Major</th>\n",
       "      <td>0</td>\n",
       "      <td>2</td>\n",
       "    </tr>\n",
       "    <tr>\n",
       "      <th>Master</th>\n",
       "      <td>0</td>\n",
       "      <td>40</td>\n",
       "    </tr>\n",
       "    <tr>\n",
       "      <th>Miss</th>\n",
       "      <td>182</td>\n",
       "      <td>0</td>\n",
       "    </tr>\n",
       "    <tr>\n",
       "      <th>Mlle</th>\n",
       "      <td>2</td>\n",
       "      <td>0</td>\n",
       "    </tr>\n",
       "    <tr>\n",
       "      <th>Mme</th>\n",
       "      <td>1</td>\n",
       "      <td>0</td>\n",
       "    </tr>\n",
       "    <tr>\n",
       "      <th>Mr</th>\n",
       "      <td>0</td>\n",
       "      <td>517</td>\n",
       "    </tr>\n",
       "    <tr>\n",
       "      <th>Mrs</th>\n",
       "      <td>125</td>\n",
       "      <td>0</td>\n",
       "    </tr>\n",
       "    <tr>\n",
       "      <th>Ms</th>\n",
       "      <td>1</td>\n",
       "      <td>0</td>\n",
       "    </tr>\n",
       "    <tr>\n",
       "      <th>Rev</th>\n",
       "      <td>0</td>\n",
       "      <td>6</td>\n",
       "    </tr>\n",
       "    <tr>\n",
       "      <th>Sir</th>\n",
       "      <td>0</td>\n",
       "      <td>1</td>\n",
       "    </tr>\n",
       "  </tbody>\n",
       "</table>\n",
       "</div>"
      ],
      "text/plain": [
       "Sex       female  male\n",
       "Title                 \n",
       "Capt           0     1\n",
       "Col            0     2\n",
       "Countess       1     0\n",
       "Don            0     1\n",
       "Dr             1     6\n",
       "Jonkheer       0     1\n",
       "Lady           1     0\n",
       "Major          0     2\n",
       "Master         0    40\n",
       "Miss         182     0\n",
       "Mlle           2     0\n",
       "Mme            1     0\n",
       "Mr             0   517\n",
       "Mrs          125     0\n",
       "Ms             1     0\n",
       "Rev            0     6\n",
       "Sir            0     1"
      ]
     },
     "execution_count": 35,
     "metadata": {},
     "output_type": "execute_result"
    }
   ],
   "source": [
    "combine = [df, df_test]\n",
    "for dataset in combine:\n",
    "    dataset['Title'] = dataset['Name'].str.extract(' ([A-Za-z]+)\\.', expand=False)\n",
    "\n",
    "pd.crosstab(df['Title'], df['Sex'])"
   ]
  },
  {
   "cell_type": "code",
   "execution_count": 36,
   "id": "4a425f57",
   "metadata": {
    "execution": {
     "iopub.execute_input": "2022-04-16T06:47:12.580047Z",
     "iopub.status.busy": "2022-04-16T06:47:12.579723Z",
     "iopub.status.idle": "2022-04-16T06:47:12.602242Z",
     "shell.execute_reply": "2022-04-16T06:47:12.601508Z"
    },
    "id": "FySONWVvlHcM",
    "outputId": "be9937f7-d3c6-432e-87e6-f28bfe27fa9a",
    "papermill": {
     "duration": 0.120733,
     "end_time": "2022-04-16T06:47:12.604208",
     "exception": false,
     "start_time": "2022-04-16T06:47:12.483475",
     "status": "completed"
    },
    "tags": []
   },
   "outputs": [
    {
     "data": {
      "text/html": [
       "<div>\n",
       "<style scoped>\n",
       "    .dataframe tbody tr th:only-of-type {\n",
       "        vertical-align: middle;\n",
       "    }\n",
       "\n",
       "    .dataframe tbody tr th {\n",
       "        vertical-align: top;\n",
       "    }\n",
       "\n",
       "    .dataframe thead th {\n",
       "        text-align: right;\n",
       "    }\n",
       "</style>\n",
       "<table border=\"1\" class=\"dataframe\">\n",
       "  <thead>\n",
       "    <tr style=\"text-align: right;\">\n",
       "      <th></th>\n",
       "      <th>Title</th>\n",
       "      <th>Survived</th>\n",
       "    </tr>\n",
       "  </thead>\n",
       "  <tbody>\n",
       "    <tr>\n",
       "      <th>0</th>\n",
       "      <td>Master</td>\n",
       "      <td>0.575000</td>\n",
       "    </tr>\n",
       "    <tr>\n",
       "      <th>1</th>\n",
       "      <td>Miss</td>\n",
       "      <td>0.702703</td>\n",
       "    </tr>\n",
       "    <tr>\n",
       "      <th>2</th>\n",
       "      <td>Mr</td>\n",
       "      <td>0.156673</td>\n",
       "    </tr>\n",
       "    <tr>\n",
       "      <th>3</th>\n",
       "      <td>Mrs</td>\n",
       "      <td>0.793651</td>\n",
       "    </tr>\n",
       "    <tr>\n",
       "      <th>4</th>\n",
       "      <td>Rare</td>\n",
       "      <td>0.347826</td>\n",
       "    </tr>\n",
       "  </tbody>\n",
       "</table>\n",
       "</div>"
      ],
      "text/plain": [
       "    Title  Survived\n",
       "0  Master  0.575000\n",
       "1    Miss  0.702703\n",
       "2      Mr  0.156673\n",
       "3     Mrs  0.793651\n",
       "4    Rare  0.347826"
      ]
     },
     "execution_count": 36,
     "metadata": {},
     "output_type": "execute_result"
    }
   ],
   "source": [
    "for dataset in combine:\n",
    "    dataset['Title'] = dataset['Title'].replace(['Capt', 'Col', 'Countess', 'Don', 'Dr', 'Jonkheer', 'Lady', 'Major', 'Rev', 'Sir'], 'Rare')\n",
    "    dataset['Title'] = dataset['Title'].replace('Mlle', 'Miss')\n",
    "    dataset['Title'] = dataset['Title'].replace('Ms', 'Miss')\n",
    "    dataset['Title'] = dataset['Title'].replace('Mme', 'Mrs')\n",
    "    \n",
    "df[['Survived', 'Title']].groupby('Title', as_index=False).mean()"
   ]
  },
  {
   "cell_type": "code",
   "execution_count": 37,
   "id": "8a5a7846",
   "metadata": {
    "execution": {
     "iopub.execute_input": "2022-04-16T06:47:12.792988Z",
     "iopub.status.busy": "2022-04-16T06:47:12.792198Z",
     "iopub.status.idle": "2022-04-16T06:47:12.802529Z",
     "shell.execute_reply": "2022-04-16T06:47:12.801708Z"
    },
    "id": "0QqBj0dfmBWa",
    "outputId": "ba8ab140-5795-4bcc-a3be-694d44f3a131",
    "papermill": {
     "duration": 0.107159,
     "end_time": "2022-04-16T06:47:12.804738",
     "exception": false,
     "start_time": "2022-04-16T06:47:12.697579",
     "status": "completed"
    },
    "tags": []
   },
   "outputs": [
    {
     "data": {
      "text/plain": [
       "PassengerId        1.000000\n",
       "Survived           1.000000\n",
       "Pclass             1.000000\n",
       "Name               1.000000\n",
       "Sex                1.000000\n",
       "Age                1.000000\n",
       "SibSp              1.000000\n",
       "Parch              1.000000\n",
       "Ticket             1.000000\n",
       "Fare               1.000000\n",
       "Cabin              1.000000\n",
       "Embarked           0.997755\n",
       "FamilySize         1.000000\n",
       "FamilyGroup        1.000000\n",
       "Deck               1.000000\n",
       "TicketFrequency    1.000000\n",
       "Title              1.000000\n",
       "dtype: float64"
      ]
     },
     "execution_count": 37,
     "metadata": {},
     "output_type": "execute_result"
    }
   ],
   "source": [
    "df.notnull().mean()"
   ]
  },
  {
   "cell_type": "code",
   "execution_count": null,
   "id": "2c8b1be3",
   "metadata": {
    "id": "5sWn6TR0RvOl",
    "papermill": {
     "duration": 0.094619,
     "end_time": "2022-04-16T06:47:12.993534",
     "exception": false,
     "start_time": "2022-04-16T06:47:12.898915",
     "status": "completed"
    },
    "tags": []
   },
   "outputs": [],
   "source": []
  },
  {
   "cell_type": "code",
   "execution_count": 38,
   "id": "1f03f532",
   "metadata": {
    "execution": {
     "iopub.execute_input": "2022-04-16T06:47:13.184439Z",
     "iopub.status.busy": "2022-04-16T06:47:13.183892Z",
     "iopub.status.idle": "2022-04-16T06:47:13.190591Z",
     "shell.execute_reply": "2022-04-16T06:47:13.190000Z"
    },
    "id": "LtmY8kIKRaU3",
    "papermill": {
     "duration": 0.103466,
     "end_time": "2022-04-16T06:47:13.192520",
     "exception": false,
     "start_time": "2022-04-16T06:47:13.089054",
     "status": "completed"
    },
    "tags": []
   },
   "outputs": [],
   "source": [
    "for dataset in combine:\n",
    "    dataset.drop(['Name', 'PassengerId', 'Cabin'], axis=1, inplace=True)"
   ]
  },
  {
   "cell_type": "code",
   "execution_count": 39,
   "id": "5271a94e",
   "metadata": {
    "execution": {
     "iopub.execute_input": "2022-04-16T06:47:13.381054Z",
     "iopub.status.busy": "2022-04-16T06:47:13.380477Z",
     "iopub.status.idle": "2022-04-16T06:47:13.388191Z",
     "shell.execute_reply": "2022-04-16T06:47:13.387471Z"
    },
    "id": "LEOksg5ORw_c",
    "papermill": {
     "duration": 0.104479,
     "end_time": "2022-04-16T06:47:13.390265",
     "exception": false,
     "start_time": "2022-04-16T06:47:13.285786",
     "status": "completed"
    },
    "tags": []
   },
   "outputs": [],
   "source": [
    "def categorify(df, df_test, dep_var='Survived', exclude=[]):\n",
    "    df = df.copy()\n",
    "    df_test = df_test.copy()\n",
    "    new = pd.concat([df, df_test]).drop([dep_var]+exclude, axis=1)\n",
    "    dicts = {str(col): {k[1]:k[0] for k in enumerate(new[col].unique())} for col in new}\n",
    "    for key, val in dicts.items():\n",
    "        df[key] = df[key].map(val).astype(float)\n",
    "        df_test[key] = df_test[key].map(val).astype(float)\n",
    "    return df, df_test"
   ]
  },
  {
   "cell_type": "code",
   "execution_count": 40,
   "id": "3564af63",
   "metadata": {
    "execution": {
     "iopub.execute_input": "2022-04-16T06:47:13.582882Z",
     "iopub.status.busy": "2022-04-16T06:47:13.582592Z",
     "iopub.status.idle": "2022-04-16T06:47:13.589393Z",
     "shell.execute_reply": "2022-04-16T06:47:13.588606Z"
    },
    "id": "T__tYEgjRu5P",
    "papermill": {
     "duration": 0.1047,
     "end_time": "2022-04-16T06:47:13.591349",
     "exception": false,
     "start_time": "2022-04-16T06:47:13.486649",
     "status": "completed"
    },
    "tags": []
   },
   "outputs": [
    {
     "data": {
      "text/plain": [
       "\"def categorify(df, df_test):\\n    df = df.copy()\\n    df_test = df_test.copy()\\n    new = pd.concat([df, df_test])\\n    sexdict = {k[1]: k[0] for k in enumerate(new['Sex'].unique())}\\n    embdict = {k[1]: k[0] for k in enumerate(new['Embarked'].unique())}\\n    titdict = {k[1]: k[0] for k in enumerate(new['Title'].unique())}\\n    pardict = {k[1]: k[0] for k in enumerate(new['Parch'].unique())}\\n    pcldict = {k[1]: k[0] for k in enumerate(new['Pclass'].astype(int).unique())}\\n    sibdict = {k[1]: k[0] for k in enumerate(new['SibSp'].astype(int).unique())}\\n    dicts = {'Sex': sexdict, 'Embarked': embdict, 'Title': titdict, 'Parch': pardict, 'Pclass': pcldict, 'SibSp':sibdict}\\n    for key, val in dicts.items():\\n        df[key] = df[key].map(val).astype(float)\\n        df_test[key] = df_test[key].map(val).astype(float)\\n    return df, df_test\""
      ]
     },
     "execution_count": 40,
     "metadata": {},
     "output_type": "execute_result"
    }
   ],
   "source": [
    "\"\"\"def categorify(df, df_test):\n",
    "    df = df.copy()\n",
    "    df_test = df_test.copy()\n",
    "    new = pd.concat([df, df_test])\n",
    "    sexdict = {k[1]: k[0] for k in enumerate(new['Sex'].unique())}\n",
    "    embdict = {k[1]: k[0] for k in enumerate(new['Embarked'].unique())}\n",
    "    titdict = {k[1]: k[0] for k in enumerate(new['Title'].unique())}\n",
    "    pardict = {k[1]: k[0] for k in enumerate(new['Parch'].unique())}\n",
    "    pcldict = {k[1]: k[0] for k in enumerate(new['Pclass'].astype(int).unique())}\n",
    "    sibdict = {k[1]: k[0] for k in enumerate(new['SibSp'].astype(int).unique())}\n",
    "    dicts = {'Sex': sexdict, 'Embarked': embdict, 'Title': titdict, 'Parch': pardict, 'Pclass': pcldict, 'SibSp':sibdict}\n",
    "    for key, val in dicts.items():\n",
    "        df[key] = df[key].map(val).astype(float)\n",
    "        df_test[key] = df_test[key].map(val).astype(float)\n",
    "    return df, df_test\"\"\""
   ]
  },
  {
   "cell_type": "code",
   "execution_count": 41,
   "id": "e0cad524",
   "metadata": {
    "execution": {
     "iopub.execute_input": "2022-04-16T06:47:13.781244Z",
     "iopub.status.busy": "2022-04-16T06:47:13.780504Z",
     "iopub.status.idle": "2022-04-16T06:47:13.826828Z",
     "shell.execute_reply": "2022-04-16T06:47:13.825935Z"
    },
    "id": "0rxZxlvBkFQF",
    "papermill": {
     "duration": 0.14394,
     "end_time": "2022-04-16T06:47:13.829437",
     "exception": false,
     "start_time": "2022-04-16T06:47:13.685497",
     "status": "completed"
    },
    "tags": []
   },
   "outputs": [],
   "source": [
    "combine = [df, df_test]\n",
    "df, df_test = categorify(df, df_test)"
   ]
  },
  {
   "cell_type": "code",
   "execution_count": null,
   "id": "18674593",
   "metadata": {
    "papermill": {
     "duration": 0.096603,
     "end_time": "2022-04-16T06:47:14.021422",
     "exception": false,
     "start_time": "2022-04-16T06:47:13.924819",
     "status": "completed"
    },
    "tags": []
   },
   "outputs": [],
   "source": []
  },
  {
   "cell_type": "code",
   "execution_count": 42,
   "id": "e9e4fd90",
   "metadata": {
    "execution": {
     "iopub.execute_input": "2022-04-16T06:47:14.212769Z",
     "iopub.status.busy": "2022-04-16T06:47:14.212094Z",
     "iopub.status.idle": "2022-04-16T06:47:14.263572Z",
     "shell.execute_reply": "2022-04-16T06:47:14.262983Z"
    },
    "id": "Enjs4jzPWAyz",
    "papermill": {
     "duration": 0.14888,
     "end_time": "2022-04-16T06:47:14.266043",
     "exception": false,
     "start_time": "2022-04-16T06:47:14.117163",
     "status": "completed"
    },
    "tags": []
   },
   "outputs": [],
   "source": [
    "from sklearn.impute import KNNImputer"
   ]
  },
  {
   "cell_type": "code",
   "execution_count": 43,
   "id": "961a4790",
   "metadata": {
    "execution": {
     "iopub.execute_input": "2022-04-16T06:47:14.455941Z",
     "iopub.status.busy": "2022-04-16T06:47:14.455117Z",
     "iopub.status.idle": "2022-04-16T06:47:14.460171Z",
     "shell.execute_reply": "2022-04-16T06:47:14.459086Z"
    },
    "id": "5aaZNHRIWH5z",
    "papermill": {
     "duration": 0.102592,
     "end_time": "2022-04-16T06:47:14.462650",
     "exception": false,
     "start_time": "2022-04-16T06:47:14.360058",
     "status": "completed"
    },
    "tags": []
   },
   "outputs": [],
   "source": [
    "imp = KNNImputer()"
   ]
  },
  {
   "cell_type": "code",
   "execution_count": 44,
   "id": "c05c2de2",
   "metadata": {
    "execution": {
     "iopub.execute_input": "2022-04-16T06:47:14.656443Z",
     "iopub.status.busy": "2022-04-16T06:47:14.656137Z",
     "iopub.status.idle": "2022-04-16T06:47:14.665225Z",
     "shell.execute_reply": "2022-04-16T06:47:14.664683Z"
    },
    "id": "Tz-7xXmdRB-V",
    "papermill": {
     "duration": 0.108401,
     "end_time": "2022-04-16T06:47:14.667138",
     "exception": false,
     "start_time": "2022-04-16T06:47:14.558737",
     "status": "completed"
    },
    "tags": []
   },
   "outputs": [],
   "source": [
    "df = pd.DataFrame(imp.fit_transform(df.values), columns=df.columns)\n",
    "df_test = pd.DataFrame(imp.fit_transform(df_test.values), columns=df_test.columns)"
   ]
  },
  {
   "cell_type": "code",
   "execution_count": 45,
   "id": "def1dfb3",
   "metadata": {
    "execution": {
     "iopub.execute_input": "2022-04-16T06:47:14.857640Z",
     "iopub.status.busy": "2022-04-16T06:47:14.857336Z",
     "iopub.status.idle": "2022-04-16T06:47:14.862594Z",
     "shell.execute_reply": "2022-04-16T06:47:14.862052Z"
    },
    "id": "_2PeISJITa_-",
    "papermill": {
     "duration": 0.102977,
     "end_time": "2022-04-16T06:47:14.864342",
     "exception": false,
     "start_time": "2022-04-16T06:47:14.761365",
     "status": "completed"
    },
    "tags": []
   },
   "outputs": [],
   "source": [
    "df['Embarked'] = df['Embarked'].astype(int)\n",
    "df_test['Embarked'] = df_test['Embarked'].astype(int)"
   ]
  },
  {
   "cell_type": "code",
   "execution_count": 46,
   "id": "1c9d10e9",
   "metadata": {
    "execution": {
     "iopub.execute_input": "2022-04-16T06:47:15.056853Z",
     "iopub.status.busy": "2022-04-16T06:47:15.056549Z",
     "iopub.status.idle": "2022-04-16T06:47:15.068988Z",
     "shell.execute_reply": "2022-04-16T06:47:15.067796Z"
    },
    "id": "QrXJ6LlVSKgU",
    "outputId": "59c36e25-6db4-4b25-cca5-6f6947b544fc",
    "papermill": {
     "duration": 0.113037,
     "end_time": "2022-04-16T06:47:15.071210",
     "exception": false,
     "start_time": "2022-04-16T06:47:14.958173",
     "status": "completed"
    },
    "tags": []
   },
   "outputs": [
    {
     "name": "stdout",
     "output_type": "stream",
     "text": [
      "key: Survived, unique: 2\n",
      "key: Pclass, unique: 3\n",
      "key: Sex, unique: 2\n",
      "key: Age, unique: 12\n",
      "key: SibSp, unique: 7\n",
      "key: Parch, unique: 7\n",
      "key: Ticket, unique: 681\n",
      "key: Fare, unique: 10\n",
      "key: Embarked, unique: 3\n",
      "key: FamilySize, unique: 9\n",
      "key: FamilyGroup, unique: 4\n",
      "key: Deck, unique: 9\n",
      "key: TicketFrequency, unique: 7\n",
      "key: Title, unique: 5\n",
      "----------\n",
      "key: Pclass, unique: 3\n",
      "key: Sex, unique: 2\n",
      "key: Age, unique: 12\n",
      "key: SibSp, unique: 7\n",
      "key: Parch, unique: 7\n",
      "key: Ticket, unique: 681\n",
      "key: Fare, unique: 10\n",
      "key: Embarked, unique: 3\n",
      "key: FamilySize, unique: 9\n",
      "key: FamilyGroup, unique: 4\n",
      "key: Deck, unique: 9\n",
      "key: TicketFrequency, unique: 7\n",
      "key: Title, unique: 5\n"
     ]
    }
   ],
   "source": [
    "for i in df:\n",
    "    print(f'key: {i}, unique: {df[i].nunique()}')\n",
    "print('-'*10)\n",
    "for i in df_test:\n",
    "    print(f'key: {i}, unique: {df[i].nunique()}') "
   ]
  },
  {
   "cell_type": "code",
   "execution_count": 47,
   "id": "7fad3782",
   "metadata": {
    "execution": {
     "iopub.execute_input": "2022-04-16T06:47:15.263827Z",
     "iopub.status.busy": "2022-04-16T06:47:15.263538Z",
     "iopub.status.idle": "2022-04-16T06:47:15.295658Z",
     "shell.execute_reply": "2022-04-16T06:47:15.294616Z"
    },
    "id": "FP2J1a09lEFc",
    "outputId": "9a31fc88-afde-41b3-924e-2d43a303a33f",
    "papermill": {
     "duration": 0.130454,
     "end_time": "2022-04-16T06:47:15.297759",
     "exception": false,
     "start_time": "2022-04-16T06:47:15.167305",
     "status": "completed"
    },
    "tags": []
   },
   "outputs": [
    {
     "data": {
      "text/html": [
       "<div>\n",
       "<style scoped>\n",
       "    .dataframe tbody tr th:only-of-type {\n",
       "        vertical-align: middle;\n",
       "    }\n",
       "\n",
       "    .dataframe tbody tr th {\n",
       "        vertical-align: top;\n",
       "    }\n",
       "\n",
       "    .dataframe thead th {\n",
       "        text-align: right;\n",
       "    }\n",
       "</style>\n",
       "<table border=\"1\" class=\"dataframe\">\n",
       "  <thead>\n",
       "    <tr style=\"text-align: right;\">\n",
       "      <th></th>\n",
       "      <th>Pclass</th>\n",
       "      <th>Sex</th>\n",
       "      <th>Age</th>\n",
       "      <th>SibSp</th>\n",
       "      <th>Parch</th>\n",
       "      <th>Ticket</th>\n",
       "      <th>Fare</th>\n",
       "      <th>Embarked</th>\n",
       "      <th>FamilySize</th>\n",
       "      <th>FamilyGroup</th>\n",
       "      <th>Deck</th>\n",
       "      <th>TicketFrequency</th>\n",
       "      <th>Title</th>\n",
       "    </tr>\n",
       "  </thead>\n",
       "  <tbody>\n",
       "    <tr>\n",
       "      <th>0</th>\n",
       "      <td>0.0</td>\n",
       "      <td>0.0</td>\n",
       "      <td>12.0</td>\n",
       "      <td>1.0</td>\n",
       "      <td>0.0</td>\n",
       "      <td>681.0</td>\n",
       "      <td>10.0</td>\n",
       "      <td>2</td>\n",
       "      <td>1.0</td>\n",
       "      <td>0.0</td>\n",
       "      <td>0.0</td>\n",
       "      <td>0.0</td>\n",
       "      <td>0.0</td>\n",
       "    </tr>\n",
       "    <tr>\n",
       "      <th>1</th>\n",
       "      <td>0.0</td>\n",
       "      <td>1.0</td>\n",
       "      <td>13.0</td>\n",
       "      <td>0.0</td>\n",
       "      <td>0.0</td>\n",
       "      <td>682.0</td>\n",
       "      <td>11.0</td>\n",
       "      <td>0</td>\n",
       "      <td>0.0</td>\n",
       "      <td>0.0</td>\n",
       "      <td>1.0</td>\n",
       "      <td>0.0</td>\n",
       "      <td>1.0</td>\n",
       "    </tr>\n",
       "    <tr>\n",
       "      <th>2</th>\n",
       "      <td>2.0</td>\n",
       "      <td>0.0</td>\n",
       "      <td>14.0</td>\n",
       "      <td>1.0</td>\n",
       "      <td>0.0</td>\n",
       "      <td>683.0</td>\n",
       "      <td>12.0</td>\n",
       "      <td>2</td>\n",
       "      <td>1.0</td>\n",
       "      <td>1.0</td>\n",
       "      <td>0.0</td>\n",
       "      <td>0.0</td>\n",
       "      <td>0.0</td>\n",
       "    </tr>\n",
       "    <tr>\n",
       "      <th>3</th>\n",
       "      <td>0.0</td>\n",
       "      <td>0.0</td>\n",
       "      <td>15.0</td>\n",
       "      <td>1.0</td>\n",
       "      <td>0.0</td>\n",
       "      <td>684.0</td>\n",
       "      <td>13.0</td>\n",
       "      <td>0</td>\n",
       "      <td>1.0</td>\n",
       "      <td>0.0</td>\n",
       "      <td>1.0</td>\n",
       "      <td>0.0</td>\n",
       "      <td>0.0</td>\n",
       "    </tr>\n",
       "    <tr>\n",
       "      <th>4</th>\n",
       "      <td>0.0</td>\n",
       "      <td>1.0</td>\n",
       "      <td>16.0</td>\n",
       "      <td>0.0</td>\n",
       "      <td>1.0</td>\n",
       "      <td>405.0</td>\n",
       "      <td>14.0</td>\n",
       "      <td>0</td>\n",
       "      <td>3.0</td>\n",
       "      <td>1.0</td>\n",
       "      <td>0.0</td>\n",
       "      <td>0.0</td>\n",
       "      <td>1.0</td>\n",
       "    </tr>\n",
       "    <tr>\n",
       "      <th>...</th>\n",
       "      <td>...</td>\n",
       "      <td>...</td>\n",
       "      <td>...</td>\n",
       "      <td>...</td>\n",
       "      <td>...</td>\n",
       "      <td>...</td>\n",
       "      <td>...</td>\n",
       "      <td>...</td>\n",
       "      <td>...</td>\n",
       "      <td>...</td>\n",
       "      <td>...</td>\n",
       "      <td>...</td>\n",
       "      <td>...</td>\n",
       "    </tr>\n",
       "    <tr>\n",
       "      <th>413</th>\n",
       "      <td>0.0</td>\n",
       "      <td>0.0</td>\n",
       "      <td>22.0</td>\n",
       "      <td>1.0</td>\n",
       "      <td>0.0</td>\n",
       "      <td>926.0</td>\n",
       "      <td>41.0</td>\n",
       "      <td>0</td>\n",
       "      <td>1.0</td>\n",
       "      <td>1.0</td>\n",
       "      <td>0.0</td>\n",
       "      <td>0.0</td>\n",
       "      <td>0.0</td>\n",
       "    </tr>\n",
       "    <tr>\n",
       "      <th>414</th>\n",
       "      <td>1.0</td>\n",
       "      <td>1.0</td>\n",
       "      <td>37.0</td>\n",
       "      <td>1.0</td>\n",
       "      <td>0.0</td>\n",
       "      <td>273.0</td>\n",
       "      <td>178.0</td>\n",
       "      <td>1</td>\n",
       "      <td>1.0</td>\n",
       "      <td>1.0</td>\n",
       "      <td>0.0</td>\n",
       "      <td>0.0</td>\n",
       "      <td>5.0</td>\n",
       "    </tr>\n",
       "    <tr>\n",
       "      <th>415</th>\n",
       "      <td>0.0</td>\n",
       "      <td>0.0</td>\n",
       "      <td>90.0</td>\n",
       "      <td>1.0</td>\n",
       "      <td>0.0</td>\n",
       "      <td>927.0</td>\n",
       "      <td>92.0</td>\n",
       "      <td>0</td>\n",
       "      <td>1.0</td>\n",
       "      <td>1.0</td>\n",
       "      <td>0.0</td>\n",
       "      <td>0.0</td>\n",
       "      <td>0.0</td>\n",
       "    </tr>\n",
       "    <tr>\n",
       "      <th>416</th>\n",
       "      <td>0.0</td>\n",
       "      <td>0.0</td>\n",
       "      <td>22.0</td>\n",
       "      <td>1.0</td>\n",
       "      <td>0.0</td>\n",
       "      <td>928.0</td>\n",
       "      <td>41.0</td>\n",
       "      <td>0</td>\n",
       "      <td>1.0</td>\n",
       "      <td>0.0</td>\n",
       "      <td>0.0</td>\n",
       "      <td>0.0</td>\n",
       "      <td>0.0</td>\n",
       "    </tr>\n",
       "    <tr>\n",
       "      <th>417</th>\n",
       "      <td>0.0</td>\n",
       "      <td>0.0</td>\n",
       "      <td>22.0</td>\n",
       "      <td>0.0</td>\n",
       "      <td>1.0</td>\n",
       "      <td>119.0</td>\n",
       "      <td>179.0</td>\n",
       "      <td>1</td>\n",
       "      <td>3.0</td>\n",
       "      <td>0.0</td>\n",
       "      <td>0.0</td>\n",
       "      <td>0.0</td>\n",
       "      <td>3.0</td>\n",
       "    </tr>\n",
       "  </tbody>\n",
       "</table>\n",
       "<p>418 rows × 13 columns</p>\n",
       "</div>"
      ],
      "text/plain": [
       "     Pclass  Sex   Age  SibSp  Parch  Ticket   Fare  Embarked  FamilySize  \\\n",
       "0       0.0  0.0  12.0    1.0    0.0   681.0   10.0         2         1.0   \n",
       "1       0.0  1.0  13.0    0.0    0.0   682.0   11.0         0         0.0   \n",
       "2       2.0  0.0  14.0    1.0    0.0   683.0   12.0         2         1.0   \n",
       "3       0.0  0.0  15.0    1.0    0.0   684.0   13.0         0         1.0   \n",
       "4       0.0  1.0  16.0    0.0    1.0   405.0   14.0         0         3.0   \n",
       "..      ...  ...   ...    ...    ...     ...    ...       ...         ...   \n",
       "413     0.0  0.0  22.0    1.0    0.0   926.0   41.0         0         1.0   \n",
       "414     1.0  1.0  37.0    1.0    0.0   273.0  178.0         1         1.0   \n",
       "415     0.0  0.0  90.0    1.0    0.0   927.0   92.0         0         1.0   \n",
       "416     0.0  0.0  22.0    1.0    0.0   928.0   41.0         0         1.0   \n",
       "417     0.0  0.0  22.0    0.0    1.0   119.0  179.0         1         3.0   \n",
       "\n",
       "     FamilyGroup  Deck  TicketFrequency  Title  \n",
       "0            0.0   0.0              0.0    0.0  \n",
       "1            0.0   1.0              0.0    1.0  \n",
       "2            1.0   0.0              0.0    0.0  \n",
       "3            0.0   1.0              0.0    0.0  \n",
       "4            1.0   0.0              0.0    1.0  \n",
       "..           ...   ...              ...    ...  \n",
       "413          1.0   0.0              0.0    0.0  \n",
       "414          1.0   0.0              0.0    5.0  \n",
       "415          1.0   0.0              0.0    0.0  \n",
       "416          0.0   0.0              0.0    0.0  \n",
       "417          0.0   0.0              0.0    3.0  \n",
       "\n",
       "[418 rows x 13 columns]"
      ]
     },
     "execution_count": 47,
     "metadata": {},
     "output_type": "execute_result"
    }
   ],
   "source": [
    "df_test"
   ]
  },
  {
   "cell_type": "code",
   "execution_count": null,
   "id": "88894ac3",
   "metadata": {
    "id": "IbP9tiwPd8O0",
    "papermill": {
     "duration": 0.095596,
     "end_time": "2022-04-16T06:47:15.496588",
     "exception": false,
     "start_time": "2022-04-16T06:47:15.400992",
     "status": "completed"
    },
    "tags": []
   },
   "outputs": [],
   "source": [
    "\n"
   ]
  },
  {
   "cell_type": "code",
   "execution_count": 48,
   "id": "898ff3bd",
   "metadata": {
    "execution": {
     "iopub.execute_input": "2022-04-16T06:47:15.690769Z",
     "iopub.status.busy": "2022-04-16T06:47:15.690465Z",
     "iopub.status.idle": "2022-04-16T06:47:16.619709Z",
     "shell.execute_reply": "2022-04-16T06:47:16.619054Z"
    },
    "id": "yQY-eDmpvmB4",
    "papermill": {
     "duration": 1.02928,
     "end_time": "2022-04-16T06:47:16.621934",
     "exception": false,
     "start_time": "2022-04-16T06:47:15.592654",
     "status": "completed"
    },
    "tags": []
   },
   "outputs": [],
   "source": [
    "from torch.nn import *\n",
    "from torch import nn"
   ]
  },
  {
   "cell_type": "code",
   "execution_count": 49,
   "id": "51872dad",
   "metadata": {
    "execution": {
     "iopub.execute_input": "2022-04-16T06:47:16.834170Z",
     "iopub.status.busy": "2022-04-16T06:47:16.833893Z",
     "iopub.status.idle": "2022-04-16T06:47:16.838235Z",
     "shell.execute_reply": "2022-04-16T06:47:16.837311Z"
    },
    "id": "sCqvCatNdRwA",
    "papermill": {
     "duration": 0.105716,
     "end_time": "2022-04-16T06:47:16.840374",
     "exception": false,
     "start_time": "2022-04-16T06:47:16.734658",
     "status": "completed"
    },
    "tags": []
   },
   "outputs": [],
   "source": [
    "from torch.utils.data import Dataset\n",
    "from torch.utils.data import DataLoader\n",
    "import torch"
   ]
  },
  {
   "cell_type": "code",
   "execution_count": 50,
   "id": "3deed9b2",
   "metadata": {
    "execution": {
     "iopub.execute_input": "2022-04-16T06:47:17.035463Z",
     "iopub.status.busy": "2022-04-16T06:47:17.035158Z",
     "iopub.status.idle": "2022-04-16T06:47:17.045637Z",
     "shell.execute_reply": "2022-04-16T06:47:17.044842Z"
    },
    "id": "iVvb5NIslsVH",
    "outputId": "762ee406-fe9c-4e50-ead3-2f1e8a3c2161",
    "papermill": {
     "duration": 0.110702,
     "end_time": "2022-04-16T06:47:17.047490",
     "exception": false,
     "start_time": "2022-04-16T06:47:16.936788",
     "status": "completed"
    },
    "tags": []
   },
   "outputs": [
    {
     "data": {
      "text/plain": [
       "3"
      ]
     },
     "execution_count": 50,
     "metadata": {},
     "output_type": "execute_result"
    }
   ],
   "source": [
    "cat = df[['Pclass', 'Sex', 'SibSp', 'Parch', 'Embarked', 'Title']]\n",
    "cont = df[['Age', 'Fare']]\n",
    "cat.join(cont).iloc[0]\n",
    "dv = df['Survived']\n",
    "dv.iloc[0]\n",
    "df.index[3]"
   ]
  },
  {
   "cell_type": "code",
   "execution_count": null,
   "id": "2e231aa6",
   "metadata": {
    "papermill": {
     "duration": 0.098804,
     "end_time": "2022-04-16T06:47:17.243413",
     "exception": false,
     "start_time": "2022-04-16T06:47:17.144609",
     "status": "completed"
    },
    "tags": []
   },
   "outputs": [],
   "source": []
  },
  {
   "cell_type": "code",
   "execution_count": 51,
   "id": "4b347abb",
   "metadata": {
    "execution": {
     "iopub.execute_input": "2022-04-16T06:47:17.437473Z",
     "iopub.status.busy": "2022-04-16T06:47:17.437070Z",
     "iopub.status.idle": "2022-04-16T06:47:17.442281Z",
     "shell.execute_reply": "2022-04-16T06:47:17.441726Z"
    },
    "id": "r5iKlPmmnUUz",
    "papermill": {
     "duration": 0.10542,
     "end_time": "2022-04-16T06:47:17.444053",
     "exception": false,
     "start_time": "2022-04-16T06:47:17.338633",
     "status": "completed"
    },
    "tags": []
   },
   "outputs": [],
   "source": [
    "def randomSplit(df, valid_ratio=0.2, random_state=None):\n",
    "    split_idx = int(len(df.index)*(valid_ratio))\n",
    "    shuffled_df = df.sample(frac=1, random_state=random_state)\n",
    "    return shuffled_df.iloc[split_idx:], shuffled_df[:split_idx]"
   ]
  },
  {
   "cell_type": "code",
   "execution_count": 52,
   "id": "b82fc8d1",
   "metadata": {
    "execution": {
     "iopub.execute_input": "2022-04-16T06:47:17.636758Z",
     "iopub.status.busy": "2022-04-16T06:47:17.636324Z",
     "iopub.status.idle": "2022-04-16T06:47:17.645337Z",
     "shell.execute_reply": "2022-04-16T06:47:17.644736Z"
    },
    "id": "1lSV1oU8bwAM",
    "papermill": {
     "duration": 0.107984,
     "end_time": "2022-04-16T06:47:17.647642",
     "exception": false,
     "start_time": "2022-04-16T06:47:17.539658",
     "status": "completed"
    },
    "tags": []
   },
   "outputs": [],
   "source": [
    "class TitanicDataset(Dataset):\n",
    "    def __init__(self, df, is_test=False):\n",
    "        self.is_test = is_test\n",
    "        self.df = df.copy()\n",
    "        self.cat = self.df[['Pclass', 'Sex', 'Embarked', 'Title', 'FamilySize', 'FamilyGroup', 'Deck', 'TicketFrequency']].astype(int)\n",
    "        self.cont = self.df[['Age', 'Fare']]\n",
    "        self.res_df = self.cat.join(self.cont)\n",
    "        if not(is_test):\n",
    "            self.dep_var = self.df['Survived'].astype(int)\n",
    "        self.columns = self.res_df.columns\n",
    "    def __len__(self):\n",
    "        return len(self.df)\n",
    "    def __getitem__(self, idx):\n",
    "        if self.is_test:\n",
    "            return self.res_df.iloc[idx].values\n",
    "        else:\n",
    "            return self.res_df.iloc[idx].values, self.dep_var.iloc[idx]"
   ]
  },
  {
   "cell_type": "code",
   "execution_count": 53,
   "id": "dba9c070",
   "metadata": {
    "execution": {
     "iopub.execute_input": "2022-04-16T06:47:17.843593Z",
     "iopub.status.busy": "2022-04-16T06:47:17.842832Z",
     "iopub.status.idle": "2022-04-16T06:47:17.848437Z",
     "shell.execute_reply": "2022-04-16T06:47:17.847858Z"
    },
    "id": "p1ihRqhs2kz-",
    "papermill": {
     "duration": 0.10518,
     "end_time": "2022-04-16T06:47:17.850381",
     "exception": false,
     "start_time": "2022-04-16T06:47:17.745201",
     "status": "completed"
    },
    "tags": []
   },
   "outputs": [],
   "source": [
    "train_df, valid_df = randomSplit(df)"
   ]
  },
  {
   "cell_type": "code",
   "execution_count": 54,
   "id": "cecc2d20",
   "metadata": {
    "execution": {
     "iopub.execute_input": "2022-04-16T06:47:18.046148Z",
     "iopub.status.busy": "2022-04-16T06:47:18.045550Z",
     "iopub.status.idle": "2022-04-16T06:47:18.058848Z",
     "shell.execute_reply": "2022-04-16T06:47:18.058081Z"
    },
    "id": "XTcoFKendkpz",
    "papermill": {
     "duration": 0.11389,
     "end_time": "2022-04-16T06:47:18.061250",
     "exception": false,
     "start_time": "2022-04-16T06:47:17.947360",
     "status": "completed"
    },
    "tags": []
   },
   "outputs": [],
   "source": [
    "td = TitanicDataset(train_df)\n",
    "valid_td = TitanicDataset(valid_df)\n",
    "test_ds = TitanicDataset(df_test, is_test=True)\n",
    "in_columns = td.columns\n",
    "cat_columns = td.cat.columns\n",
    "cat_n = len(td.cat.columns)\n",
    "cont_n = len(td.cont.columns)"
   ]
  },
  {
   "cell_type": "code",
   "execution_count": 55,
   "id": "76a8ee88",
   "metadata": {
    "execution": {
     "iopub.execute_input": "2022-04-16T06:47:18.255763Z",
     "iopub.status.busy": "2022-04-16T06:47:18.255456Z",
     "iopub.status.idle": "2022-04-16T06:47:18.260014Z",
     "shell.execute_reply": "2022-04-16T06:47:18.259036Z"
    },
    "id": "IF6pEYPndx2Q",
    "papermill": {
     "duration": 0.104985,
     "end_time": "2022-04-16T06:47:18.262107",
     "exception": false,
     "start_time": "2022-04-16T06:47:18.157122",
     "status": "completed"
    },
    "tags": []
   },
   "outputs": [],
   "source": [
    "dl = DataLoader(td, batch_size=64)\n",
    "valid_dl = DataLoader(td, batch_size=64)"
   ]
  },
  {
   "cell_type": "code",
   "execution_count": 56,
   "id": "c5edd3ce",
   "metadata": {
    "execution": {
     "iopub.execute_input": "2022-04-16T06:47:18.471809Z",
     "iopub.status.busy": "2022-04-16T06:47:18.471236Z",
     "iopub.status.idle": "2022-04-16T06:47:18.500301Z",
     "shell.execute_reply": "2022-04-16T06:47:18.499621Z"
    },
    "id": "C-Z5pgpf2085",
    "papermill": {
     "duration": 0.143365,
     "end_time": "2022-04-16T06:47:18.502499",
     "exception": false,
     "start_time": "2022-04-16T06:47:18.359134",
     "status": "completed"
    },
    "tags": []
   },
   "outputs": [],
   "source": [
    "iterdl = iter(dl)"
   ]
  },
  {
   "cell_type": "code",
   "execution_count": null,
   "id": "e3757460",
   "metadata": {
    "id": "_Somo8hF269x",
    "papermill": {
     "duration": 0.100936,
     "end_time": "2022-04-16T06:47:18.703732",
     "exception": false,
     "start_time": "2022-04-16T06:47:18.602796",
     "status": "completed"
    },
    "tags": []
   },
   "outputs": [],
   "source": []
  },
  {
   "cell_type": "code",
   "execution_count": 57,
   "id": "85dc12ce",
   "metadata": {
    "execution": {
     "iopub.execute_input": "2022-04-16T06:47:18.895758Z",
     "iopub.status.busy": "2022-04-16T06:47:18.895243Z",
     "iopub.status.idle": "2022-04-16T06:47:18.905160Z",
     "shell.execute_reply": "2022-04-16T06:47:18.904572Z"
    },
    "id": "NcJc91Aqn1GJ",
    "papermill": {
     "duration": 0.107994,
     "end_time": "2022-04-16T06:47:18.907119",
     "exception": false,
     "start_time": "2022-04-16T06:47:18.799125",
     "status": "completed"
    },
    "tags": []
   },
   "outputs": [],
   "source": [
    "voc = []\n",
    "for s in cat_columns:\n",
    "    vn = pd.concat([td.cat[s], valid_td.cat[s], test_ds.cat[s]])\n",
    "    vn = vn.astype(int).nunique()\n",
    "    voc.append([vn, vn//2+1])\n"
   ]
  },
  {
   "cell_type": "code",
   "execution_count": 58,
   "id": "91ec60cb",
   "metadata": {
    "execution": {
     "iopub.execute_input": "2022-04-16T06:47:19.106255Z",
     "iopub.status.busy": "2022-04-16T06:47:19.105758Z",
     "iopub.status.idle": "2022-04-16T06:47:19.110738Z",
     "shell.execute_reply": "2022-04-16T06:47:19.110174Z"
    },
    "id": "J12RmbwluPKD",
    "outputId": "ca50b868-385e-4f83-8287-84e30513cec2",
    "papermill": {
     "duration": 0.107072,
     "end_time": "2022-04-16T06:47:19.112450",
     "exception": false,
     "start_time": "2022-04-16T06:47:19.005378",
     "status": "completed"
    },
    "tags": []
   },
   "outputs": [
    {
     "data": {
      "text/plain": [
       "[[3, 2], [2, 2], [3, 2], [6, 4], [9, 5], [4, 3], [9, 5], [7, 4]]"
      ]
     },
     "execution_count": 58,
     "metadata": {},
     "output_type": "execute_result"
    }
   ],
   "source": [
    "voc"
   ]
  },
  {
   "cell_type": "code",
   "execution_count": 59,
   "id": "debcdfd8",
   "metadata": {
    "execution": {
     "iopub.execute_input": "2022-04-16T06:47:19.305354Z",
     "iopub.status.busy": "2022-04-16T06:47:19.304884Z",
     "iopub.status.idle": "2022-04-16T06:47:19.317555Z",
     "shell.execute_reply": "2022-04-16T06:47:19.316953Z"
    },
    "id": "0SBg7b0ilJyB",
    "papermill": {
     "duration": 0.111565,
     "end_time": "2022-04-16T06:47:19.319596",
     "exception": false,
     "start_time": "2022-04-16T06:47:19.208031",
     "status": "completed"
    },
    "tags": []
   },
   "outputs": [],
   "source": [
    "class TabModel(Module):\n",
    "    def __init__(self, emb_sz, cat_n, cont_n, layers):\n",
    "        super(TabModel, self).__init__()\n",
    "        self.cat_n = cat_n\n",
    "        self.cont_n = cont_n\n",
    "        self.embeddings = nn.ModuleList(nn.Embedding(ni, nf) for ni, nf in emb_sz)\n",
    "        cat_len = sum([x for _, x in emb_sz])\n",
    "        self.emb_drop = nn.Dropout(0.2)\n",
    "        self.linear_drop = nn.Dropout(0.5)\n",
    "        model = []\n",
    "        model.append(nn.BatchNorm1d(cat_len+cont_n))\n",
    "        model.append(self.linear_drop)\n",
    "        model.append(nn.Linear(cat_len+cont_n, layers[0]))\n",
    "        model.append(nn.Mish())\n",
    "        for i in range(len(layers)-2):\n",
    "            model.append(nn.BatchNorm1d(layers[i]))\n",
    "            model.append(self.linear_drop)\n",
    "            model.append(nn.Linear(layers[i], layers[i+1]))\n",
    "            model.append(nn.Mish())\n",
    "        self.linear = nn.Sequential(*model)\n",
    "        self.final_layer = nn.Linear(layers[-2], layers[-1])\n",
    "        \n",
    "    def forward(self, x):\n",
    "        emb = []\n",
    "        for i in range(self.cat_n):\n",
    "            emb.append(self.embeddings[i](x[:,i].int()))\n",
    "        for i in range(self.cat_n, self.cat_n+self.cont_n):\n",
    "            emb.append(x[:,i].unsqueeze(1))\n",
    "        input = torch.cat(emb, dim=1).float()\n",
    "        res = self.linear(input)\n",
    "        res = self.final_layer(res)\n",
    "        return res\n"
   ]
  },
  {
   "cell_type": "code",
   "execution_count": 60,
   "id": "f82ae2df",
   "metadata": {
    "execution": {
     "iopub.execute_input": "2022-04-16T06:47:19.515060Z",
     "iopub.status.busy": "2022-04-16T06:47:19.514743Z",
     "iopub.status.idle": "2022-04-16T06:47:19.543170Z",
     "shell.execute_reply": "2022-04-16T06:47:19.542461Z"
    },
    "id": "Pgyp6Ntynyo_",
    "papermill": {
     "duration": 0.130016,
     "end_time": "2022-04-16T06:47:19.545438",
     "exception": false,
     "start_time": "2022-04-16T06:47:19.415422",
     "status": "completed"
    },
    "tags": []
   },
   "outputs": [],
   "source": [
    "tabmodel = TabModel(voc, cat_n, cont_n, (200, 100, 2)).to(device)"
   ]
  },
  {
   "cell_type": "code",
   "execution_count": 61,
   "id": "3aae4efc",
   "metadata": {
    "execution": {
     "iopub.execute_input": "2022-04-16T06:47:19.739077Z",
     "iopub.status.busy": "2022-04-16T06:47:19.738565Z",
     "iopub.status.idle": "2022-04-16T06:47:19.743283Z",
     "shell.execute_reply": "2022-04-16T06:47:19.742180Z"
    },
    "id": "azJH5KCv0Nu3",
    "outputId": "6158c43f-5850-417b-ca72-efef5f5f0cc0",
    "papermill": {
     "duration": 0.104008,
     "end_time": "2022-04-16T06:47:19.745867",
     "exception": false,
     "start_time": "2022-04-16T06:47:19.641859",
     "status": "completed"
    },
    "tags": []
   },
   "outputs": [
    {
     "name": "stdout",
     "output_type": "stream",
     "text": [
      "TabModel(\n",
      "  (embeddings): ModuleList(\n",
      "    (0): Embedding(3, 2)\n",
      "    (1): Embedding(2, 2)\n",
      "    (2): Embedding(3, 2)\n",
      "    (3): Embedding(6, 4)\n",
      "    (4): Embedding(9, 5)\n",
      "    (5): Embedding(4, 3)\n",
      "    (6): Embedding(9, 5)\n",
      "    (7): Embedding(7, 4)\n",
      "  )\n",
      "  (emb_drop): Dropout(p=0.2, inplace=False)\n",
      "  (linear_drop): Dropout(p=0.5, inplace=False)\n",
      "  (linear): Sequential(\n",
      "    (0): BatchNorm1d(29, eps=1e-05, momentum=0.1, affine=True, track_running_stats=True)\n",
      "    (1): Dropout(p=0.5, inplace=False)\n",
      "    (2): Linear(in_features=29, out_features=200, bias=True)\n",
      "    (3): Mish()\n",
      "    (4): BatchNorm1d(200, eps=1e-05, momentum=0.1, affine=True, track_running_stats=True)\n",
      "    (5): Dropout(p=0.5, inplace=False)\n",
      "    (6): Linear(in_features=200, out_features=100, bias=True)\n",
      "    (7): Mish()\n",
      "  )\n",
      "  (final_layer): Linear(in_features=100, out_features=2, bias=True)\n",
      ")\n"
     ]
    }
   ],
   "source": [
    "print(tabmodel)"
   ]
  },
  {
   "cell_type": "code",
   "execution_count": 62,
   "id": "e44f9fb0",
   "metadata": {
    "execution": {
     "iopub.execute_input": "2022-04-16T06:47:19.943558Z",
     "iopub.status.busy": "2022-04-16T06:47:19.942787Z",
     "iopub.status.idle": "2022-04-16T06:47:19.946752Z",
     "shell.execute_reply": "2022-04-16T06:47:19.945940Z"
    },
    "id": "9dP2FXI1DMqk",
    "papermill": {
     "duration": 0.105722,
     "end_time": "2022-04-16T06:47:19.948805",
     "exception": false,
     "start_time": "2022-04-16T06:47:19.843083",
     "status": "completed"
    },
    "tags": []
   },
   "outputs": [],
   "source": [
    "dls = dl, valid_dl"
   ]
  },
  {
   "cell_type": "code",
   "execution_count": 63,
   "id": "20481a79",
   "metadata": {
    "execution": {
     "iopub.execute_input": "2022-04-16T06:47:20.146429Z",
     "iopub.status.busy": "2022-04-16T06:47:20.145936Z",
     "iopub.status.idle": "2022-04-16T06:47:20.151333Z",
     "shell.execute_reply": "2022-04-16T06:47:20.150806Z"
    },
    "id": "eaD4SzWKkGTs",
    "papermill": {
     "duration": 0.106694,
     "end_time": "2022-04-16T06:47:20.153195",
     "exception": false,
     "start_time": "2022-04-16T06:47:20.046501",
     "status": "completed"
    },
    "tags": []
   },
   "outputs": [],
   "source": [
    "def train(dl, model, loss_fn, optim):\n",
    "    size = len(dl.dataset)\n",
    "    losses = []\n",
    "    for batch, (X, y) in enumerate(dl):\n",
    "        # prediction, loss\n",
    "        pred = model(X)\n",
    "        loss = loss_fn(pred, y)\n",
    "        # backprop\n",
    "        optim.zero_grad()\n",
    "        loss.backward()\n",
    "        optim.step()\n",
    "\n",
    "        losses.append(loss.item())\n",
    "    \n",
    "    print(f'loss: {np.array(losses).mean()}')\n"
   ]
  },
  {
   "cell_type": "code",
   "execution_count": 64,
   "id": "7be22cfd",
   "metadata": {
    "execution": {
     "iopub.execute_input": "2022-04-16T06:47:20.349282Z",
     "iopub.status.busy": "2022-04-16T06:47:20.348775Z",
     "iopub.status.idle": "2022-04-16T06:47:20.354796Z",
     "shell.execute_reply": "2022-04-16T06:47:20.354142Z"
    },
    "id": "g31GQH3w_kUN",
    "papermill": {
     "duration": 0.105801,
     "end_time": "2022-04-16T06:47:20.356895",
     "exception": false,
     "start_time": "2022-04-16T06:47:20.251094",
     "status": "completed"
    },
    "tags": []
   },
   "outputs": [],
   "source": [
    "def valid(valid_dl, model, loss_fn):\n",
    "    accuracy = []\n",
    "    losses = []\n",
    "    with torch.no_grad():\n",
    "        for batch, (X, y) in enumerate(valid_dl):\n",
    "            #p rediction, loss\n",
    "            pred = model(X)\n",
    "            loss = loss_fn(pred, y)\n",
    "            # metric\n",
    "            accuracy.append((pred.argmax(1)==y).float().flatten().mean())\n",
    "            losses.append(loss.item())\n",
    "    print(f'valid -- accuracy: {np.array(accuracy).mean()}, loss: {np.array(losses).mean()}')"
   ]
  },
  {
   "cell_type": "code",
   "execution_count": 65,
   "id": "1f50ac83",
   "metadata": {
    "execution": {
     "iopub.execute_input": "2022-04-16T06:47:20.558304Z",
     "iopub.status.busy": "2022-04-16T06:47:20.558019Z",
     "iopub.status.idle": "2022-04-16T06:47:20.563975Z",
     "shell.execute_reply": "2022-04-16T06:47:20.563103Z"
    },
    "id": "GWBjVQfWDI0r",
    "papermill": {
     "duration": 0.10601,
     "end_time": "2022-04-16T06:47:20.565845",
     "exception": false,
     "start_time": "2022-04-16T06:47:20.459835",
     "status": "completed"
    },
    "tags": []
   },
   "outputs": [],
   "source": [
    "def epoch(n, dls, model:Module, loss_fn, lr=1e-3):\n",
    "    train_dl, valid_dl = dls\n",
    "    \n",
    "    for i in range(n):\n",
    "        # train\n",
    "        model.train()\n",
    "        train(train_dl, model, loss_fn, torch.optim.Adam(model.parameters(), lr= lr))\n",
    "        #validate\n",
    "        model.eval()\n",
    "        valid(valid_dl, model, loss_fn)"
   ]
  },
  {
   "cell_type": "code",
   "execution_count": 66,
   "id": "ef7fa361",
   "metadata": {
    "execution": {
     "iopub.execute_input": "2022-04-16T06:47:20.762738Z",
     "iopub.status.busy": "2022-04-16T06:47:20.762428Z",
     "iopub.status.idle": "2022-04-16T06:47:24.271047Z",
     "shell.execute_reply": "2022-04-16T06:47:24.270192Z"
    },
    "id": "3YLxax12s3ZV",
    "outputId": "0b643d39-25e7-4524-a2a2-f3f2b9f0409b",
    "papermill": {
     "duration": 3.610449,
     "end_time": "2022-04-16T06:47:24.273544",
     "exception": false,
     "start_time": "2022-04-16T06:47:20.663095",
     "status": "completed"
    },
    "tags": []
   },
   "outputs": [
    {
     "name": "stdout",
     "output_type": "stream",
     "text": [
      "loss: 0.6428215155998865\n",
      "valid -- accuracy: 0.7874710559844971, loss: 0.5720597157875696\n",
      "loss: 0.5505339453617731\n",
      "valid -- accuracy: 0.7951388955116272, loss: 0.4928397983312607\n",
      "loss: 0.5192287067572275\n",
      "valid -- accuracy: 0.7899305820465088, loss: 0.47107597937186557\n",
      "loss: 0.5246797725558281\n",
      "valid -- accuracy: 0.7819733619689941, loss: 0.45778849224249524\n",
      "loss: 0.52544533709685\n",
      "valid -- accuracy: 0.7858796119689941, loss: 0.45447448641061783\n",
      "loss: 0.518621472020944\n",
      "valid -- accuracy: 0.8016493320465088, loss: 0.4476124445597331\n",
      "loss: 0.5042740628123283\n",
      "valid -- accuracy: 0.8094618320465088, loss: 0.43806841721137363\n",
      "loss: 0.47760267307360965\n",
      "valid -- accuracy: 0.7989004254341125, loss: 0.4374943897128105\n",
      "loss: 0.4995615979035695\n",
      "valid -- accuracy: 0.8067129254341125, loss: 0.4329930245876312\n",
      "loss: 0.49764159073432285\n",
      "valid -- accuracy: 0.8080150485038757, loss: 0.43246491998434067\n",
      "loss: 0.49118958910306293\n",
      "valid -- accuracy: 0.8041087985038757, loss: 0.4303001711765925\n",
      "loss: 0.5109296490748724\n",
      "valid -- accuracy: 0.8081597685813904, loss: 0.43092402070760727\n"
     ]
    }
   ],
   "source": [
    "epoch(12, dls, tabmodel, CrossEntropyLoss(), lr=5e-4)"
   ]
  },
  {
   "cell_type": "code",
   "execution_count": 67,
   "id": "95970a92",
   "metadata": {
    "execution": {
     "iopub.execute_input": "2022-04-16T06:47:24.478646Z",
     "iopub.status.busy": "2022-04-16T06:47:24.478167Z",
     "iopub.status.idle": "2022-04-16T06:47:24.482186Z",
     "shell.execute_reply": "2022-04-16T06:47:24.481580Z"
    },
    "id": "92EJ-f5yFRne",
    "papermill": {
     "duration": 0.107501,
     "end_time": "2022-04-16T06:47:24.483809",
     "exception": false,
     "start_time": "2022-04-16T06:47:24.376308",
     "status": "completed"
    },
    "tags": []
   },
   "outputs": [],
   "source": [
    "def predictWhole(data, model):\n",
    "    model.eval()\n",
    "    pred = model(data)\n",
    "    return pred.argmax(1)"
   ]
  },
  {
   "cell_type": "code",
   "execution_count": 68,
   "id": "b28b7069",
   "metadata": {
    "execution": {
     "iopub.execute_input": "2022-04-16T06:47:24.689547Z",
     "iopub.status.busy": "2022-04-16T06:47:24.689032Z",
     "iopub.status.idle": "2022-04-16T06:47:24.743603Z",
     "shell.execute_reply": "2022-04-16T06:47:24.742901Z"
    },
    "id": "A28cUom3tXCM",
    "papermill": {
     "duration": 0.16081,
     "end_time": "2022-04-16T06:47:24.745762",
     "exception": false,
     "start_time": "2022-04-16T06:47:24.584952",
     "status": "completed"
    },
    "tags": []
   },
   "outputs": [],
   "source": [
    "test_ds_raw = torch.Tensor(np.array(test_ds))"
   ]
  },
  {
   "cell_type": "code",
   "execution_count": 69,
   "id": "d80a2c1e",
   "metadata": {
    "execution": {
     "iopub.execute_input": "2022-04-16T06:47:24.950597Z",
     "iopub.status.busy": "2022-04-16T06:47:24.950100Z",
     "iopub.status.idle": "2022-04-16T06:47:24.964788Z",
     "shell.execute_reply": "2022-04-16T06:47:24.964163Z"
    },
    "id": "EpLqTfpZZ2is",
    "outputId": "76882f4f-19b7-41de-99eb-723c47f627b4",
    "papermill": {
     "duration": 0.120221,
     "end_time": "2022-04-16T06:47:24.966497",
     "exception": false,
     "start_time": "2022-04-16T06:47:24.846276",
     "status": "completed"
    },
    "tags": []
   },
   "outputs": [
    {
     "data": {
      "text/plain": [
       "tensor([[  0.,   0.,   2.,  ...,   0.,  12.,  10.],\n",
       "        [  0.,   1.,   0.,  ...,   0.,  13.,  11.],\n",
       "        [  2.,   0.,   2.,  ...,   0.,  14.,  12.],\n",
       "        ...,\n",
       "        [  0.,   0.,   0.,  ...,   0.,  90.,  92.],\n",
       "        [  0.,   0.,   0.,  ...,   0.,  22.,  41.],\n",
       "        [  0.,   0.,   1.,  ...,   0.,  22., 179.]])"
      ]
     },
     "execution_count": 69,
     "metadata": {},
     "output_type": "execute_result"
    }
   ],
   "source": [
    "test_ds_raw"
   ]
  },
  {
   "cell_type": "code",
   "execution_count": 70,
   "id": "a00650b2",
   "metadata": {
    "execution": {
     "iopub.execute_input": "2022-04-16T06:47:25.170498Z",
     "iopub.status.busy": "2022-04-16T06:47:25.169987Z",
     "iopub.status.idle": "2022-04-16T06:47:25.178934Z",
     "shell.execute_reply": "2022-04-16T06:47:25.178050Z"
    },
    "id": "Gaz-1GGsLWSa",
    "outputId": "bdb38471-e93f-45b6-8bf5-cc40cbb53284",
    "papermill": {
     "duration": 0.113095,
     "end_time": "2022-04-16T06:47:25.180891",
     "exception": false,
     "start_time": "2022-04-16T06:47:25.067796",
     "status": "completed"
    },
    "tags": []
   },
   "outputs": [
    {
     "data": {
      "text/plain": [
       "418"
      ]
     },
     "execution_count": 70,
     "metadata": {},
     "output_type": "execute_result"
    }
   ],
   "source": [
    "preds = predictWhole(test_ds_raw, tabmodel)\n",
    "len(preds)"
   ]
  },
  {
   "cell_type": "code",
   "execution_count": 71,
   "id": "740517ef",
   "metadata": {
    "execution": {
     "iopub.execute_input": "2022-04-16T06:47:25.386294Z",
     "iopub.status.busy": "2022-04-16T06:47:25.385754Z",
     "iopub.status.idle": "2022-04-16T06:47:25.390723Z",
     "shell.execute_reply": "2022-04-16T06:47:25.390141Z"
    },
    "id": "Ol7VwkHuLgFS",
    "papermill": {
     "duration": 0.109458,
     "end_time": "2022-04-16T06:47:25.392700",
     "exception": false,
     "start_time": "2022-04-16T06:47:25.283242",
     "status": "completed"
    },
    "tags": []
   },
   "outputs": [],
   "source": [
    "result = pd.DataFrame({'PassengerId': df_test_pi, 'Survived': preds})"
   ]
  },
  {
   "cell_type": "code",
   "execution_count": 72,
   "id": "077887a4",
   "metadata": {
    "execution": {
     "iopub.execute_input": "2022-04-16T06:47:25.597385Z",
     "iopub.status.busy": "2022-04-16T06:47:25.596886Z",
     "iopub.status.idle": "2022-04-16T06:47:25.604749Z",
     "shell.execute_reply": "2022-04-16T06:47:25.603895Z"
    },
    "id": "nZ36hM3iL4Ku",
    "papermill": {
     "duration": 0.112674,
     "end_time": "2022-04-16T06:47:25.606970",
     "exception": false,
     "start_time": "2022-04-16T06:47:25.494296",
     "status": "completed"
    },
    "tags": []
   },
   "outputs": [],
   "source": [
    "result.to_csv('submission.csv', index=False)"
   ]
  },
  {
   "cell_type": "code",
   "execution_count": null,
   "id": "884ed42c",
   "metadata": {
    "id": "ZXGUSbcaNLJc",
    "papermill": {
     "duration": 0.101632,
     "end_time": "2022-04-16T06:47:25.810377",
     "exception": false,
     "start_time": "2022-04-16T06:47:25.708745",
     "status": "completed"
    },
    "tags": []
   },
   "outputs": [],
   "source": []
  },
  {
   "cell_type": "code",
   "execution_count": null,
   "id": "bef6edb2",
   "metadata": {
    "papermill": {
     "duration": 0.103372,
     "end_time": "2022-04-16T06:47:26.014855",
     "exception": false,
     "start_time": "2022-04-16T06:47:25.911483",
     "status": "completed"
    },
    "tags": []
   },
   "outputs": [],
   "source": []
  }
 ],
 "metadata": {
  "kernelspec": {
   "display_name": "Python 3",
   "language": "python",
   "name": "python3"
  },
  "language_info": {
   "codemirror_mode": {
    "name": "ipython",
    "version": 3
   },
   "file_extension": ".py",
   "mimetype": "text/x-python",
   "name": "python",
   "nbconvert_exporter": "python",
   "pygments_lexer": "ipython3",
   "version": "3.7.12"
  },
  "papermill": {
   "default_parameters": {},
   "duration": 72.804815,
   "end_time": "2022-04-16T06:47:27.040016",
   "environment_variables": {},
   "exception": null,
   "input_path": "__notebook__.ipynb",
   "output_path": "__notebook__.ipynb",
   "parameters": {},
   "start_time": "2022-04-16T06:46:14.235201",
   "version": "2.3.4"
  }
 },
 "nbformat": 4,
 "nbformat_minor": 5
}
