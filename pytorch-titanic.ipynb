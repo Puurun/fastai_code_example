{
 "cells": [
  {
   "cell_type": "markdown",
   "id": "18467228",
   "metadata": {
    "id": "view-in-github",
    "papermill": {
     "duration": 0.06812,
     "end_time": "2022-04-16T04:29:22.537758",
     "exception": false,
     "start_time": "2022-04-16T04:29:22.469638",
     "status": "completed"
    },
    "tags": []
   },
   "source": [
    "<a href=\"https://colab.research.google.com/github/Puurun/fastai_code_example/blob/main/Pytorch_Titanic.ipynb\" target=\"_parent\"><img src=\"https://colab.research.google.com/assets/colab-badge.svg\" alt=\"Open In Colab\"/></a>"
   ]
  },
  {
   "cell_type": "code",
   "execution_count": null,
   "id": "ab0ec464",
   "metadata": {
    "id": "SCI89IkiejzG",
    "outputId": "c8596ff0-5f2b-4bab-99dd-0d0b181f6795",
    "papermill": {
     "duration": 0.065905,
     "end_time": "2022-04-16T04:29:22.671810",
     "exception": false,
     "start_time": "2022-04-16T04:29:22.605905",
     "status": "completed"
    },
    "tags": []
   },
   "outputs": [],
   "source": []
  },
  {
   "cell_type": "code",
   "execution_count": 1,
   "id": "b84efd3a",
   "metadata": {
    "execution": {
     "iopub.execute_input": "2022-04-16T04:29:22.805532Z",
     "iopub.status.busy": "2022-04-16T04:29:22.804990Z",
     "iopub.status.idle": "2022-04-16T04:29:35.169060Z",
     "shell.execute_reply": "2022-04-16T04:29:35.168078Z"
    },
    "id": "-ltAnZP3QBy3",
    "outputId": "5be66168-fe3d-46c9-99f8-2d5496bc6f56",
    "papermill": {
     "duration": 12.434567,
     "end_time": "2022-04-16T04:29:35.171876",
     "exception": false,
     "start_time": "2022-04-16T04:29:22.737309",
     "status": "completed"
    },
    "tags": []
   },
   "outputs": [
    {
     "name": "stdout",
     "output_type": "stream",
     "text": [
      "Collecting impyute\r\n",
      "  Downloading impyute-0.0.8-py2.py3-none-any.whl (31 kB)\r\n",
      "Requirement already satisfied: scikit-learn in /opt/conda/lib/python3.7/site-packages (from impyute) (1.0.2)\r\n",
      "Requirement already satisfied: numpy in /opt/conda/lib/python3.7/site-packages (from impyute) (1.21.5)\r\n",
      "Requirement already satisfied: scipy in /opt/conda/lib/python3.7/site-packages (from impyute) (1.7.3)\r\n",
      "Requirement already satisfied: threadpoolctl>=2.0.0 in /opt/conda/lib/python3.7/site-packages (from scikit-learn->impyute) (3.1.0)\r\n",
      "Requirement already satisfied: joblib>=0.11 in /opt/conda/lib/python3.7/site-packages (from scikit-learn->impyute) (1.0.1)\r\n",
      "Installing collected packages: impyute\r\n",
      "Successfully installed impyute-0.0.8\r\n",
      "\u001b[33mWARNING: Running pip as the 'root' user can result in broken permissions and conflicting behaviour with the system package manager. It is recommended to use a virtual environment instead: https://pip.pypa.io/warnings/venv\u001b[0m\u001b[33m\r\n",
      "\u001b[0m"
     ]
    }
   ],
   "source": [
    "!pip install impyute"
   ]
  },
  {
   "cell_type": "code",
   "execution_count": 2,
   "id": "5c01d8f3",
   "metadata": {
    "execution": {
     "iopub.execute_input": "2022-04-16T04:29:35.343602Z",
     "iopub.status.busy": "2022-04-16T04:29:35.342635Z",
     "iopub.status.idle": "2022-04-16T04:29:57.649053Z",
     "shell.execute_reply": "2022-04-16T04:29:57.647930Z"
    },
    "id": "h0xhi6k4bUXN",
    "outputId": "4506c3ee-d33e-4811-8dae-0838b19615cc",
    "papermill": {
     "duration": 22.406468,
     "end_time": "2022-04-16T04:29:57.651531",
     "exception": false,
     "start_time": "2022-04-16T04:29:35.245063",
     "status": "completed"
    },
    "tags": []
   },
   "outputs": [
    {
     "name": "stdout",
     "output_type": "stream",
     "text": [
      "\u001b[31mERROR: pip's dependency resolver does not currently take into account all the packages that are installed. This behaviour is the source of the following dependency conflicts.\r\n",
      "tensorflow-io 0.21.0 requires tensorflow-io-gcs-filesystem==0.21.0, which is not installed.\r\n",
      "tensorflow 2.6.3 requires absl-py~=0.10, but you have absl-py 1.0.0 which is incompatible.\r\n",
      "tensorflow 2.6.3 requires numpy~=1.19.2, but you have numpy 1.21.5 which is incompatible.\r\n",
      "tensorflow 2.6.3 requires six~=1.15.0, but you have six 1.16.0 which is incompatible.\r\n",
      "tensorflow 2.6.3 requires wrapt~=1.12.1, but you have wrapt 1.14.0 which is incompatible.\r\n",
      "tensorflow-transform 1.7.0 requires pyarrow<6,>=1, but you have pyarrow 7.0.0 which is incompatible.\r\n",
      "tensorflow-transform 1.7.0 requires tensorflow!=2.0.*,!=2.1.*,!=2.2.*,!=2.3.*,!=2.4.*,!=2.5.*,!=2.6.*,!=2.7.*,<2.9,>=1.15.5, but you have tensorflow 2.6.3 which is incompatible.\r\n",
      "tensorflow-serving-api 2.8.0 requires tensorflow<3,>=2.8.0, but you have tensorflow 2.6.3 which is incompatible.\r\n",
      "rich 12.2.0 requires typing-extensions<5.0,>=4.0.0; python_version < \"3.9\", but you have typing-extensions 3.10.0.2 which is incompatible.\r\n",
      "pytorch-lightning 1.6.0 requires typing-extensions>=4.0.0, but you have typing-extensions 3.10.0.2 which is incompatible.\r\n",
      "flake8 4.0.1 requires importlib-metadata<4.3; python_version < \"3.8\", but you have importlib-metadata 4.11.3 which is incompatible.\r\n",
      "apache-beam 2.37.0 requires dill<0.3.2,>=0.3.1.1, but you have dill 0.3.4 which is incompatible.\r\n",
      "apache-beam 2.37.0 requires httplib2<0.20.0,>=0.8, but you have httplib2 0.20.4 which is incompatible.\r\n",
      "apache-beam 2.37.0 requires pyarrow<7.0.0,>=0.15.1, but you have pyarrow 7.0.0 which is incompatible.\r\n",
      "aioitertools 0.10.0 requires typing_extensions>=4.0; python_version < \"3.10\", but you have typing-extensions 3.10.0.2 which is incompatible.\r\n",
      "aiobotocore 2.2.0 requires botocore<1.24.22,>=1.24.21, but you have botocore 1.24.38 which is incompatible.\u001b[0m\u001b[31m\r\n",
      "\u001b[0m"
     ]
    }
   ],
   "source": [
    "!pip install fastai -Uqq"
   ]
  },
  {
   "cell_type": "code",
   "execution_count": 3,
   "id": "73960e42",
   "metadata": {
    "execution": {
     "iopub.execute_input": "2022-04-16T04:29:57.790454Z",
     "iopub.status.busy": "2022-04-16T04:29:57.790159Z",
     "iopub.status.idle": "2022-04-16T04:29:57.794476Z",
     "shell.execute_reply": "2022-04-16T04:29:57.793633Z"
    },
    "id": "TNgP1SUQd-sh",
    "papermill": {
     "duration": 0.076644,
     "end_time": "2022-04-16T04:29:57.796568",
     "exception": false,
     "start_time": "2022-04-16T04:29:57.719924",
     "status": "completed"
    },
    "tags": []
   },
   "outputs": [],
   "source": [
    "gpu = False\n",
    "device = 'cuda' if gpu else 'cpu'"
   ]
  },
  {
   "cell_type": "code",
   "execution_count": 4,
   "id": "18635153",
   "metadata": {
    "execution": {
     "iopub.execute_input": "2022-04-16T04:29:57.937434Z",
     "iopub.status.busy": "2022-04-16T04:29:57.937149Z",
     "iopub.status.idle": "2022-04-16T04:29:59.256447Z",
     "shell.execute_reply": "2022-04-16T04:29:59.255641Z"
    },
    "id": "JYxhj_fHeOwx",
    "papermill": {
     "duration": 1.393248,
     "end_time": "2022-04-16T04:29:59.258835",
     "exception": false,
     "start_time": "2022-04-16T04:29:57.865587",
     "status": "completed"
    },
    "tags": []
   },
   "outputs": [],
   "source": [
    "import pandas as pd\n",
    "import numpy as np\n",
    "import seaborn as sns\n",
    "import matplotlib.pyplot as plt\n",
    "import impyute as im\n",
    "import sys\n",
    "from impyute.imputation.cs import fast_knn\n",
    "from sklearn.preprocessing import OrdinalEncoder"
   ]
  },
  {
   "cell_type": "code",
   "execution_count": 5,
   "id": "c8611472",
   "metadata": {
    "execution": {
     "iopub.execute_input": "2022-04-16T04:29:59.398614Z",
     "iopub.status.busy": "2022-04-16T04:29:59.397769Z",
     "iopub.status.idle": "2022-04-16T04:29:59.425024Z",
     "shell.execute_reply": "2022-04-16T04:29:59.424322Z"
    },
    "id": "ZkXCpX_cedrB",
    "papermill": {
     "duration": 0.098768,
     "end_time": "2022-04-16T04:29:59.427276",
     "exception": false,
     "start_time": "2022-04-16T04:29:59.328508",
     "status": "completed"
    },
    "tags": []
   },
   "outputs": [],
   "source": [
    "df = pd.read_csv('../input/titanic/train.csv')\n",
    "df_test = pd.read_csv('../input/titanic/test.csv')"
   ]
  },
  {
   "cell_type": "code",
   "execution_count": 6,
   "id": "f1c20002",
   "metadata": {
    "execution": {
     "iopub.execute_input": "2022-04-16T04:29:59.569348Z",
     "iopub.status.busy": "2022-04-16T04:29:59.568803Z",
     "iopub.status.idle": "2022-04-16T04:29:59.577247Z",
     "shell.execute_reply": "2022-04-16T04:29:59.576466Z"
    },
    "id": "Ebfuhs5-eu87",
    "outputId": "13da6f35-ff67-448e-a73b-0c9449bb3e2e",
    "papermill": {
     "duration": 0.082162,
     "end_time": "2022-04-16T04:29:59.579399",
     "exception": false,
     "start_time": "2022-04-16T04:29:59.497237",
     "status": "completed"
    },
    "tags": []
   },
   "outputs": [
    {
     "data": {
      "text/plain": [
       "array(['PassengerId', 'Survived', 'Pclass', 'Name', 'Sex', 'Age', 'SibSp',\n",
       "       'Parch', 'Ticket', 'Fare', 'Cabin', 'Embarked'], dtype=object)"
      ]
     },
     "execution_count": 6,
     "metadata": {},
     "output_type": "execute_result"
    }
   ],
   "source": [
    "df.columns.values"
   ]
  },
  {
   "cell_type": "code",
   "execution_count": 7,
   "id": "514047fd",
   "metadata": {
    "execution": {
     "iopub.execute_input": "2022-04-16T04:29:59.719603Z",
     "iopub.status.busy": "2022-04-16T04:29:59.718660Z",
     "iopub.status.idle": "2022-04-16T04:29:59.723714Z",
     "shell.execute_reply": "2022-04-16T04:29:59.723166Z"
    },
    "id": "RmyHWYzXe4EJ",
    "papermill": {
     "duration": 0.077168,
     "end_time": "2022-04-16T04:29:59.725618",
     "exception": false,
     "start_time": "2022-04-16T04:29:59.648450",
     "status": "completed"
    },
    "tags": []
   },
   "outputs": [],
   "source": [
    "dep_var = ['Survived']\n",
    "cat_var = ['Sex', 'Embarked']\n",
    "ord_var = ['Pclass']\n",
    "cont_var = ['Age', 'Fare']\n",
    "desc_var = ['SibSp', 'Parch']"
   ]
  },
  {
   "cell_type": "code",
   "execution_count": 8,
   "id": "3895fa87",
   "metadata": {
    "execution": {
     "iopub.execute_input": "2022-04-16T04:29:59.864916Z",
     "iopub.status.busy": "2022-04-16T04:29:59.864363Z",
     "iopub.status.idle": "2022-04-16T04:29:59.889329Z",
     "shell.execute_reply": "2022-04-16T04:29:59.888709Z"
    },
    "id": "OOwkYfTuoCDo",
    "papermill": {
     "duration": 0.097389,
     "end_time": "2022-04-16T04:29:59.891504",
     "exception": false,
     "start_time": "2022-04-16T04:29:59.794115",
     "status": "completed"
    },
    "tags": []
   },
   "outputs": [],
   "source": [
    "combine = [df, df_test]\n",
    "for dataset in combine:\n",
    "    dataset[cat_var+ord_var] = dataset[cat_var+ord_var].astype('category')\n",
    "    dataset['Pclass'] = dataset['Pclass'].cat.set_categories([1, 2, 3], ordered=True)"
   ]
  },
  {
   "cell_type": "code",
   "execution_count": 9,
   "id": "27820177",
   "metadata": {
    "execution": {
     "iopub.execute_input": "2022-04-16T04:30:00.034519Z",
     "iopub.status.busy": "2022-04-16T04:30:00.033960Z",
     "iopub.status.idle": "2022-04-16T04:30:00.041376Z",
     "shell.execute_reply": "2022-04-16T04:30:00.040560Z"
    },
    "id": "reaPqaUmfn2G",
    "outputId": "d2fc0f49-98c2-4759-9c4b-287b1a22475e",
    "papermill": {
     "duration": 0.080776,
     "end_time": "2022-04-16T04:30:00.043281",
     "exception": false,
     "start_time": "2022-04-16T04:29:59.962505",
     "status": "completed"
    },
    "tags": []
   },
   "outputs": [
    {
     "data": {
      "text/plain": [
       "PassengerId       int64\n",
       "Survived          int64\n",
       "Pclass         category\n",
       "Name             object\n",
       "Sex            category\n",
       "Age             float64\n",
       "SibSp             int64\n",
       "Parch             int64\n",
       "Ticket           object\n",
       "Fare            float64\n",
       "Cabin            object\n",
       "Embarked       category\n",
       "dtype: object"
      ]
     },
     "execution_count": 9,
     "metadata": {},
     "output_type": "execute_result"
    }
   ],
   "source": [
    "df.dtypes"
   ]
  },
  {
   "cell_type": "code",
   "execution_count": 10,
   "id": "648efde9",
   "metadata": {
    "execution": {
     "iopub.execute_input": "2022-04-16T04:30:00.185268Z",
     "iopub.status.busy": "2022-04-16T04:30:00.184686Z",
     "iopub.status.idle": "2022-04-16T04:30:00.198879Z",
     "shell.execute_reply": "2022-04-16T04:30:00.198020Z"
    },
    "id": "SqiH0pOrfob-",
    "outputId": "5e1d6efe-0e0a-45d5-90fb-240e5fb6daef",
    "papermill": {
     "duration": 0.087581,
     "end_time": "2022-04-16T04:30:00.200874",
     "exception": false,
     "start_time": "2022-04-16T04:30:00.113293",
     "status": "completed"
    },
    "tags": []
   },
   "outputs": [
    {
     "data": {
      "text/plain": [
       "Cabin          0.771044\n",
       "Age            0.198653\n",
       "Embarked       0.002245\n",
       "PassengerId    0.000000\n",
       "Survived       0.000000\n",
       "Pclass         0.000000\n",
       "Name           0.000000\n",
       "Sex            0.000000\n",
       "SibSp          0.000000\n",
       "Parch          0.000000\n",
       "Ticket         0.000000\n",
       "Fare           0.000000\n",
       "dtype: float64"
      ]
     },
     "execution_count": 10,
     "metadata": {},
     "output_type": "execute_result"
    }
   ],
   "source": [
    "null_check = (df.isnull().sum()/ df.isnull().count()).sort_values(ascending=False)\n",
    "null_check"
   ]
  },
  {
   "cell_type": "code",
   "execution_count": 11,
   "id": "410fdc91",
   "metadata": {
    "execution": {
     "iopub.execute_input": "2022-04-16T04:30:00.342811Z",
     "iopub.status.busy": "2022-04-16T04:30:00.342246Z",
     "iopub.status.idle": "2022-04-16T04:30:00.367650Z",
     "shell.execute_reply": "2022-04-16T04:30:00.366826Z"
    },
    "id": "VGzez6fnf2Qn",
    "outputId": "8ec2ead3-f2c2-4fc0-bd15-0b2e2305601a",
    "papermill": {
     "duration": 0.100246,
     "end_time": "2022-04-16T04:30:00.370558",
     "exception": false,
     "start_time": "2022-04-16T04:30:00.270312",
     "status": "completed"
    },
    "tags": []
   },
   "outputs": [
    {
     "name": "stdout",
     "output_type": "stream",
     "text": [
      "<class 'pandas.core.frame.DataFrame'>\n",
      "RangeIndex: 891 entries, 0 to 890\n",
      "Data columns (total 12 columns):\n",
      " #   Column       Non-Null Count  Dtype   \n",
      "---  ------       --------------  -----   \n",
      " 0   PassengerId  891 non-null    int64   \n",
      " 1   Survived     891 non-null    int64   \n",
      " 2   Pclass       891 non-null    category\n",
      " 3   Name         891 non-null    object  \n",
      " 4   Sex          891 non-null    category\n",
      " 5   Age          714 non-null    float64 \n",
      " 6   SibSp        891 non-null    int64   \n",
      " 7   Parch        891 non-null    int64   \n",
      " 8   Ticket       891 non-null    object  \n",
      " 9   Fare         891 non-null    float64 \n",
      " 10  Cabin        204 non-null    object  \n",
      " 11  Embarked     889 non-null    category\n",
      "dtypes: category(3), float64(2), int64(4), object(3)\n",
      "memory usage: 65.8+ KB\n",
      "****************************************\n",
      "<class 'pandas.core.frame.DataFrame'>\n",
      "RangeIndex: 418 entries, 0 to 417\n",
      "Data columns (total 11 columns):\n",
      " #   Column       Non-Null Count  Dtype   \n",
      "---  ------       --------------  -----   \n",
      " 0   PassengerId  418 non-null    int64   \n",
      " 1   Pclass       418 non-null    category\n",
      " 2   Name         418 non-null    object  \n",
      " 3   Sex          418 non-null    category\n",
      " 4   Age          332 non-null    float64 \n",
      " 5   SibSp        418 non-null    int64   \n",
      " 6   Parch        418 non-null    int64   \n",
      " 7   Ticket       418 non-null    object  \n",
      " 8   Fare         417 non-null    float64 \n",
      " 9   Cabin        91 non-null     object  \n",
      " 10  Embarked     418 non-null    category\n",
      "dtypes: category(3), float64(2), int64(3), object(3)\n",
      "memory usage: 27.9+ KB\n"
     ]
    }
   ],
   "source": [
    "df.info()\n",
    "print('*'*40)\n",
    "df_test.info()"
   ]
  },
  {
   "cell_type": "code",
   "execution_count": 12,
   "id": "90cdb581",
   "metadata": {
    "execution": {
     "iopub.execute_input": "2022-04-16T04:30:00.512772Z",
     "iopub.status.busy": "2022-04-16T04:30:00.512494Z",
     "iopub.status.idle": "2022-04-16T04:30:00.545880Z",
     "shell.execute_reply": "2022-04-16T04:30:00.544999Z"
    },
    "id": "hkD9m0ZQgsX-",
    "outputId": "2820baaf-d9fb-4648-8381-767b7a8fee64",
    "papermill": {
     "duration": 0.106644,
     "end_time": "2022-04-16T04:30:00.547866",
     "exception": false,
     "start_time": "2022-04-16T04:30:00.441222",
     "status": "completed"
    },
    "tags": []
   },
   "outputs": [
    {
     "data": {
      "text/html": [
       "<div>\n",
       "<style scoped>\n",
       "    .dataframe tbody tr th:only-of-type {\n",
       "        vertical-align: middle;\n",
       "    }\n",
       "\n",
       "    .dataframe tbody tr th {\n",
       "        vertical-align: top;\n",
       "    }\n",
       "\n",
       "    .dataframe thead th {\n",
       "        text-align: right;\n",
       "    }\n",
       "</style>\n",
       "<table border=\"1\" class=\"dataframe\">\n",
       "  <thead>\n",
       "    <tr style=\"text-align: right;\">\n",
       "      <th></th>\n",
       "      <th>PassengerId</th>\n",
       "      <th>Survived</th>\n",
       "      <th>Age</th>\n",
       "      <th>SibSp</th>\n",
       "      <th>Parch</th>\n",
       "      <th>Fare</th>\n",
       "    </tr>\n",
       "  </thead>\n",
       "  <tbody>\n",
       "    <tr>\n",
       "      <th>count</th>\n",
       "      <td>891.000000</td>\n",
       "      <td>891.000000</td>\n",
       "      <td>714.000000</td>\n",
       "      <td>891.000000</td>\n",
       "      <td>891.000000</td>\n",
       "      <td>891.000000</td>\n",
       "    </tr>\n",
       "    <tr>\n",
       "      <th>mean</th>\n",
       "      <td>446.000000</td>\n",
       "      <td>0.383838</td>\n",
       "      <td>29.699118</td>\n",
       "      <td>0.523008</td>\n",
       "      <td>0.381594</td>\n",
       "      <td>32.204208</td>\n",
       "    </tr>\n",
       "    <tr>\n",
       "      <th>std</th>\n",
       "      <td>257.353842</td>\n",
       "      <td>0.486592</td>\n",
       "      <td>14.526497</td>\n",
       "      <td>1.102743</td>\n",
       "      <td>0.806057</td>\n",
       "      <td>49.693429</td>\n",
       "    </tr>\n",
       "    <tr>\n",
       "      <th>min</th>\n",
       "      <td>1.000000</td>\n",
       "      <td>0.000000</td>\n",
       "      <td>0.420000</td>\n",
       "      <td>0.000000</td>\n",
       "      <td>0.000000</td>\n",
       "      <td>0.000000</td>\n",
       "    </tr>\n",
       "    <tr>\n",
       "      <th>25%</th>\n",
       "      <td>223.500000</td>\n",
       "      <td>0.000000</td>\n",
       "      <td>20.125000</td>\n",
       "      <td>0.000000</td>\n",
       "      <td>0.000000</td>\n",
       "      <td>7.910400</td>\n",
       "    </tr>\n",
       "    <tr>\n",
       "      <th>50%</th>\n",
       "      <td>446.000000</td>\n",
       "      <td>0.000000</td>\n",
       "      <td>28.000000</td>\n",
       "      <td>0.000000</td>\n",
       "      <td>0.000000</td>\n",
       "      <td>14.454200</td>\n",
       "    </tr>\n",
       "    <tr>\n",
       "      <th>75%</th>\n",
       "      <td>668.500000</td>\n",
       "      <td>1.000000</td>\n",
       "      <td>38.000000</td>\n",
       "      <td>1.000000</td>\n",
       "      <td>0.000000</td>\n",
       "      <td>31.000000</td>\n",
       "    </tr>\n",
       "    <tr>\n",
       "      <th>max</th>\n",
       "      <td>891.000000</td>\n",
       "      <td>1.000000</td>\n",
       "      <td>80.000000</td>\n",
       "      <td>8.000000</td>\n",
       "      <td>6.000000</td>\n",
       "      <td>512.329200</td>\n",
       "    </tr>\n",
       "  </tbody>\n",
       "</table>\n",
       "</div>"
      ],
      "text/plain": [
       "       PassengerId    Survived         Age       SibSp       Parch        Fare\n",
       "count   891.000000  891.000000  714.000000  891.000000  891.000000  891.000000\n",
       "mean    446.000000    0.383838   29.699118    0.523008    0.381594   32.204208\n",
       "std     257.353842    0.486592   14.526497    1.102743    0.806057   49.693429\n",
       "min       1.000000    0.000000    0.420000    0.000000    0.000000    0.000000\n",
       "25%     223.500000    0.000000   20.125000    0.000000    0.000000    7.910400\n",
       "50%     446.000000    0.000000   28.000000    0.000000    0.000000   14.454200\n",
       "75%     668.500000    1.000000   38.000000    1.000000    0.000000   31.000000\n",
       "max     891.000000    1.000000   80.000000    8.000000    6.000000  512.329200"
      ]
     },
     "execution_count": 12,
     "metadata": {},
     "output_type": "execute_result"
    }
   ],
   "source": [
    "df.describe()"
   ]
  },
  {
   "cell_type": "code",
   "execution_count": 13,
   "id": "5b64c94e",
   "metadata": {
    "execution": {
     "iopub.execute_input": "2022-04-16T04:30:00.692747Z",
     "iopub.status.busy": "2022-04-16T04:30:00.692209Z",
     "iopub.status.idle": "2022-04-16T04:30:00.709025Z",
     "shell.execute_reply": "2022-04-16T04:30:00.708169Z"
    },
    "id": "laMZG81ghSrn",
    "outputId": "8a784e5c-4885-4dfd-e05e-1d65d61b9dea",
    "papermill": {
     "duration": 0.090682,
     "end_time": "2022-04-16T04:30:00.710985",
     "exception": false,
     "start_time": "2022-04-16T04:30:00.620303",
     "status": "completed"
    },
    "tags": []
   },
   "outputs": [
    {
     "data": {
      "text/html": [
       "<div>\n",
       "<style scoped>\n",
       "    .dataframe tbody tr th:only-of-type {\n",
       "        vertical-align: middle;\n",
       "    }\n",
       "\n",
       "    .dataframe tbody tr th {\n",
       "        vertical-align: top;\n",
       "    }\n",
       "\n",
       "    .dataframe thead th {\n",
       "        text-align: right;\n",
       "    }\n",
       "</style>\n",
       "<table border=\"1\" class=\"dataframe\">\n",
       "  <thead>\n",
       "    <tr style=\"text-align: right;\">\n",
       "      <th></th>\n",
       "      <th>Name</th>\n",
       "      <th>Ticket</th>\n",
       "      <th>Cabin</th>\n",
       "    </tr>\n",
       "  </thead>\n",
       "  <tbody>\n",
       "    <tr>\n",
       "      <th>count</th>\n",
       "      <td>891</td>\n",
       "      <td>891</td>\n",
       "      <td>204</td>\n",
       "    </tr>\n",
       "    <tr>\n",
       "      <th>unique</th>\n",
       "      <td>891</td>\n",
       "      <td>681</td>\n",
       "      <td>147</td>\n",
       "    </tr>\n",
       "    <tr>\n",
       "      <th>top</th>\n",
       "      <td>Braund, Mr. Owen Harris</td>\n",
       "      <td>347082</td>\n",
       "      <td>B96 B98</td>\n",
       "    </tr>\n",
       "    <tr>\n",
       "      <th>freq</th>\n",
       "      <td>1</td>\n",
       "      <td>7</td>\n",
       "      <td>4</td>\n",
       "    </tr>\n",
       "  </tbody>\n",
       "</table>\n",
       "</div>"
      ],
      "text/plain": [
       "                           Name  Ticket    Cabin\n",
       "count                       891     891      204\n",
       "unique                      891     681      147\n",
       "top     Braund, Mr. Owen Harris  347082  B96 B98\n",
       "freq                          1       7        4"
      ]
     },
     "execution_count": 13,
     "metadata": {},
     "output_type": "execute_result"
    }
   ],
   "source": [
    "df.describe(include=['O'])"
   ]
  },
  {
   "cell_type": "code",
   "execution_count": 14,
   "id": "67008e4a",
   "metadata": {
    "execution": {
     "iopub.execute_input": "2022-04-16T04:30:00.856306Z",
     "iopub.status.busy": "2022-04-16T04:30:00.855742Z",
     "iopub.status.idle": "2022-04-16T04:30:00.874120Z",
     "shell.execute_reply": "2022-04-16T04:30:00.873270Z"
    },
    "id": "o-dObXW5hoG4",
    "papermill": {
     "duration": 0.093894,
     "end_time": "2022-04-16T04:30:00.876281",
     "exception": false,
     "start_time": "2022-04-16T04:30:00.782387",
     "status": "completed"
    },
    "tags": []
   },
   "outputs": [],
   "source": [
    "# analyze by pivoting features\n",
    "features_to_analyze = ['Pclass', 'SibSp', 'Parch', 'Sex']\n",
    "pivot_analyzation = {\n",
    "    feature: \n",
    "    df[[feature, 'Survived']].groupby(by=[feature], as_index=False).mean().sort_values(by=\"Survived\", ascending=False)\n",
    "    for feature in features_to_analyze\n",
    "}"
   ]
  },
  {
   "cell_type": "code",
   "execution_count": 15,
   "id": "d20421e5",
   "metadata": {
    "execution": {
     "iopub.execute_input": "2022-04-16T04:30:01.021234Z",
     "iopub.status.busy": "2022-04-16T04:30:01.020812Z",
     "iopub.status.idle": "2022-04-16T04:30:01.030015Z",
     "shell.execute_reply": "2022-04-16T04:30:01.029060Z"
    },
    "id": "gf1yZKlknYg5",
    "outputId": "e2b7d94e-3993-42dd-8144-7b33f5cf9a14",
    "papermill": {
     "duration": 0.084242,
     "end_time": "2022-04-16T04:30:01.031967",
     "exception": false,
     "start_time": "2022-04-16T04:30:00.947725",
     "status": "completed"
    },
    "tags": []
   },
   "outputs": [
    {
     "data": {
      "text/html": [
       "<div>\n",
       "<style scoped>\n",
       "    .dataframe tbody tr th:only-of-type {\n",
       "        vertical-align: middle;\n",
       "    }\n",
       "\n",
       "    .dataframe tbody tr th {\n",
       "        vertical-align: top;\n",
       "    }\n",
       "\n",
       "    .dataframe thead th {\n",
       "        text-align: right;\n",
       "    }\n",
       "</style>\n",
       "<table border=\"1\" class=\"dataframe\">\n",
       "  <thead>\n",
       "    <tr style=\"text-align: right;\">\n",
       "      <th></th>\n",
       "      <th>Pclass</th>\n",
       "      <th>Survived</th>\n",
       "    </tr>\n",
       "  </thead>\n",
       "  <tbody>\n",
       "    <tr>\n",
       "      <th>0</th>\n",
       "      <td>1</td>\n",
       "      <td>0.629630</td>\n",
       "    </tr>\n",
       "    <tr>\n",
       "      <th>1</th>\n",
       "      <td>2</td>\n",
       "      <td>0.472826</td>\n",
       "    </tr>\n",
       "    <tr>\n",
       "      <th>2</th>\n",
       "      <td>3</td>\n",
       "      <td>0.242363</td>\n",
       "    </tr>\n",
       "  </tbody>\n",
       "</table>\n",
       "</div>"
      ],
      "text/plain": [
       "  Pclass  Survived\n",
       "0      1  0.629630\n",
       "1      2  0.472826\n",
       "2      3  0.242363"
      ]
     },
     "execution_count": 15,
     "metadata": {},
     "output_type": "execute_result"
    }
   ],
   "source": [
    "pivot_analyzation['Pclass']"
   ]
  },
  {
   "cell_type": "code",
   "execution_count": 16,
   "id": "29bb2247",
   "metadata": {
    "execution": {
     "iopub.execute_input": "2022-04-16T04:30:01.176725Z",
     "iopub.status.busy": "2022-04-16T04:30:01.176425Z",
     "iopub.status.idle": "2022-04-16T04:30:01.185853Z",
     "shell.execute_reply": "2022-04-16T04:30:01.185027Z"
    },
    "id": "tpunEm9lqUQx",
    "outputId": "ef38b2ec-6d29-4e6c-9e2f-0ff7a2e5a2b0",
    "papermill": {
     "duration": 0.084239,
     "end_time": "2022-04-16T04:30:01.187940",
     "exception": false,
     "start_time": "2022-04-16T04:30:01.103701",
     "status": "completed"
    },
    "tags": []
   },
   "outputs": [
    {
     "data": {
      "text/html": [
       "<div>\n",
       "<style scoped>\n",
       "    .dataframe tbody tr th:only-of-type {\n",
       "        vertical-align: middle;\n",
       "    }\n",
       "\n",
       "    .dataframe tbody tr th {\n",
       "        vertical-align: top;\n",
       "    }\n",
       "\n",
       "    .dataframe thead th {\n",
       "        text-align: right;\n",
       "    }\n",
       "</style>\n",
       "<table border=\"1\" class=\"dataframe\">\n",
       "  <thead>\n",
       "    <tr style=\"text-align: right;\">\n",
       "      <th></th>\n",
       "      <th>Sex</th>\n",
       "      <th>Survived</th>\n",
       "    </tr>\n",
       "  </thead>\n",
       "  <tbody>\n",
       "    <tr>\n",
       "      <th>0</th>\n",
       "      <td>female</td>\n",
       "      <td>0.742038</td>\n",
       "    </tr>\n",
       "    <tr>\n",
       "      <th>1</th>\n",
       "      <td>male</td>\n",
       "      <td>0.188908</td>\n",
       "    </tr>\n",
       "  </tbody>\n",
       "</table>\n",
       "</div>"
      ],
      "text/plain": [
       "      Sex  Survived\n",
       "0  female  0.742038\n",
       "1    male  0.188908"
      ]
     },
     "execution_count": 16,
     "metadata": {},
     "output_type": "execute_result"
    }
   ],
   "source": [
    "pivot_analyzation['Sex']"
   ]
  },
  {
   "cell_type": "code",
   "execution_count": 17,
   "id": "1f705d2c",
   "metadata": {
    "execution": {
     "iopub.execute_input": "2022-04-16T04:30:01.334471Z",
     "iopub.status.busy": "2022-04-16T04:30:01.334173Z",
     "iopub.status.idle": "2022-04-16T04:30:01.343078Z",
     "shell.execute_reply": "2022-04-16T04:30:01.342176Z"
    },
    "id": "241vk8uuqVpB",
    "outputId": "bbd52dc0-574e-44ce-efd8-d98f78847f81",
    "papermill": {
     "duration": 0.085328,
     "end_time": "2022-04-16T04:30:01.345018",
     "exception": false,
     "start_time": "2022-04-16T04:30:01.259690",
     "status": "completed"
    },
    "tags": []
   },
   "outputs": [
    {
     "data": {
      "text/html": [
       "<div>\n",
       "<style scoped>\n",
       "    .dataframe tbody tr th:only-of-type {\n",
       "        vertical-align: middle;\n",
       "    }\n",
       "\n",
       "    .dataframe tbody tr th {\n",
       "        vertical-align: top;\n",
       "    }\n",
       "\n",
       "    .dataframe thead th {\n",
       "        text-align: right;\n",
       "    }\n",
       "</style>\n",
       "<table border=\"1\" class=\"dataframe\">\n",
       "  <thead>\n",
       "    <tr style=\"text-align: right;\">\n",
       "      <th></th>\n",
       "      <th>SibSp</th>\n",
       "      <th>Survived</th>\n",
       "    </tr>\n",
       "  </thead>\n",
       "  <tbody>\n",
       "    <tr>\n",
       "      <th>1</th>\n",
       "      <td>1</td>\n",
       "      <td>0.535885</td>\n",
       "    </tr>\n",
       "    <tr>\n",
       "      <th>2</th>\n",
       "      <td>2</td>\n",
       "      <td>0.464286</td>\n",
       "    </tr>\n",
       "    <tr>\n",
       "      <th>0</th>\n",
       "      <td>0</td>\n",
       "      <td>0.345395</td>\n",
       "    </tr>\n",
       "    <tr>\n",
       "      <th>3</th>\n",
       "      <td>3</td>\n",
       "      <td>0.250000</td>\n",
       "    </tr>\n",
       "    <tr>\n",
       "      <th>4</th>\n",
       "      <td>4</td>\n",
       "      <td>0.166667</td>\n",
       "    </tr>\n",
       "    <tr>\n",
       "      <th>5</th>\n",
       "      <td>5</td>\n",
       "      <td>0.000000</td>\n",
       "    </tr>\n",
       "    <tr>\n",
       "      <th>6</th>\n",
       "      <td>8</td>\n",
       "      <td>0.000000</td>\n",
       "    </tr>\n",
       "  </tbody>\n",
       "</table>\n",
       "</div>"
      ],
      "text/plain": [
       "   SibSp  Survived\n",
       "1      1  0.535885\n",
       "2      2  0.464286\n",
       "0      0  0.345395\n",
       "3      3  0.250000\n",
       "4      4  0.166667\n",
       "5      5  0.000000\n",
       "6      8  0.000000"
      ]
     },
     "execution_count": 17,
     "metadata": {},
     "output_type": "execute_result"
    }
   ],
   "source": [
    "pivot_analyzation['SibSp']"
   ]
  },
  {
   "cell_type": "code",
   "execution_count": 18,
   "id": "963b6d66",
   "metadata": {
    "execution": {
     "iopub.execute_input": "2022-04-16T04:30:01.491082Z",
     "iopub.status.busy": "2022-04-16T04:30:01.490764Z",
     "iopub.status.idle": "2022-04-16T04:30:01.499499Z",
     "shell.execute_reply": "2022-04-16T04:30:01.498872Z"
    },
    "id": "lHpIt7GiqW2p",
    "outputId": "bc17a7cf-30b1-4028-834c-f803b569cf2e",
    "papermill": {
     "duration": 0.084109,
     "end_time": "2022-04-16T04:30:01.501206",
     "exception": false,
     "start_time": "2022-04-16T04:30:01.417097",
     "status": "completed"
    },
    "tags": []
   },
   "outputs": [
    {
     "data": {
      "text/html": [
       "<div>\n",
       "<style scoped>\n",
       "    .dataframe tbody tr th:only-of-type {\n",
       "        vertical-align: middle;\n",
       "    }\n",
       "\n",
       "    .dataframe tbody tr th {\n",
       "        vertical-align: top;\n",
       "    }\n",
       "\n",
       "    .dataframe thead th {\n",
       "        text-align: right;\n",
       "    }\n",
       "</style>\n",
       "<table border=\"1\" class=\"dataframe\">\n",
       "  <thead>\n",
       "    <tr style=\"text-align: right;\">\n",
       "      <th></th>\n",
       "      <th>Parch</th>\n",
       "      <th>Survived</th>\n",
       "    </tr>\n",
       "  </thead>\n",
       "  <tbody>\n",
       "    <tr>\n",
       "      <th>3</th>\n",
       "      <td>3</td>\n",
       "      <td>0.600000</td>\n",
       "    </tr>\n",
       "    <tr>\n",
       "      <th>1</th>\n",
       "      <td>1</td>\n",
       "      <td>0.550847</td>\n",
       "    </tr>\n",
       "    <tr>\n",
       "      <th>2</th>\n",
       "      <td>2</td>\n",
       "      <td>0.500000</td>\n",
       "    </tr>\n",
       "    <tr>\n",
       "      <th>0</th>\n",
       "      <td>0</td>\n",
       "      <td>0.343658</td>\n",
       "    </tr>\n",
       "    <tr>\n",
       "      <th>5</th>\n",
       "      <td>5</td>\n",
       "      <td>0.200000</td>\n",
       "    </tr>\n",
       "    <tr>\n",
       "      <th>4</th>\n",
       "      <td>4</td>\n",
       "      <td>0.000000</td>\n",
       "    </tr>\n",
       "    <tr>\n",
       "      <th>6</th>\n",
       "      <td>6</td>\n",
       "      <td>0.000000</td>\n",
       "    </tr>\n",
       "  </tbody>\n",
       "</table>\n",
       "</div>"
      ],
      "text/plain": [
       "   Parch  Survived\n",
       "3      3  0.600000\n",
       "1      1  0.550847\n",
       "2      2  0.500000\n",
       "0      0  0.343658\n",
       "5      5  0.200000\n",
       "4      4  0.000000\n",
       "6      6  0.000000"
      ]
     },
     "execution_count": 18,
     "metadata": {},
     "output_type": "execute_result"
    }
   ],
   "source": [
    "pivot_analyzation['Parch']"
   ]
  },
  {
   "cell_type": "code",
   "execution_count": 19,
   "id": "96c99273",
   "metadata": {
    "execution": {
     "iopub.execute_input": "2022-04-16T04:30:01.648942Z",
     "iopub.status.busy": "2022-04-16T04:30:01.648389Z",
     "iopub.status.idle": "2022-04-16T04:30:02.138509Z",
     "shell.execute_reply": "2022-04-16T04:30:02.137598Z"
    },
    "id": "Ywer2rKnqYYh",
    "outputId": "cc649324-de7c-48aa-94d5-92125991f3f5",
    "papermill": {
     "duration": 0.567459,
     "end_time": "2022-04-16T04:30:02.141442",
     "exception": false,
     "start_time": "2022-04-16T04:30:01.573983",
     "status": "completed"
    },
    "tags": []
   },
   "outputs": [
    {
     "data": {
      "text/plain": [
       "<seaborn.axisgrid.FacetGrid at 0x7f41419a7310>"
      ]
     },
     "execution_count": 19,
     "metadata": {},
     "output_type": "execute_result"
    },
    {
     "data": {
      "image/png": "[encoded data removed]",
      "text/plain": [
       "<Figure size 432x216 with 2 Axes>"
      ]
     },
     "metadata": {
      "needs_background": "light"
     },
     "output_type": "display_data"
    }
   ],
   "source": [
    "g = sns.FacetGrid(df, col='Survived')\n",
    "g.map(plt.hist, 'Age', bins=20)"
   ]
  },
  {
   "cell_type": "code",
   "execution_count": 20,
   "id": "0dafb748",
   "metadata": {
    "execution": {
     "iopub.execute_input": "2022-04-16T04:30:02.295392Z",
     "iopub.status.busy": "2022-04-16T04:30:02.295098Z",
     "iopub.status.idle": "2022-04-16T04:30:03.629068Z",
     "shell.execute_reply": "2022-04-16T04:30:03.628142Z"
    },
    "id": "lqwW73t4enEq",
    "outputId": "c860a56b-73e0-4733-86aa-bca356f6b472",
    "papermill": {
     "duration": 1.411687,
     "end_time": "2022-04-16T04:30:03.631195",
     "exception": false,
     "start_time": "2022-04-16T04:30:02.219508",
     "status": "completed"
    },
    "tags": []
   },
   "outputs": [
    {
     "data": {
      "text/plain": [
       "<seaborn.axisgrid.FacetGrid at 0x7f413dfb09d0>"
      ]
     },
     "execution_count": 20,
     "metadata": {},
     "output_type": "execute_result"
    },
    {
     "data": {
      "image/png": "[encoded data removed]",
      "text/plain": [
       "<Figure size 432x648 with 6 Axes>"
      ]
     },
     "metadata": {
      "needs_background": "light"
     },
     "output_type": "display_data"
    }
   ],
   "source": [
    "g = sns.FacetGrid(df, col='Survived', row='Pclass')\n",
    "g.map(plt.hist, 'Age', bins=20)"
   ]
  },
  {
   "cell_type": "code",
   "execution_count": 21,
   "id": "05d4de33",
   "metadata": {
    "execution": {
     "iopub.execute_input": "2022-04-16T04:30:03.785287Z",
     "iopub.status.busy": "2022-04-16T04:30:03.785021Z",
     "iopub.status.idle": "2022-04-16T04:30:05.076042Z",
     "shell.execute_reply": "2022-04-16T04:30:05.075160Z"
    },
    "id": "cDU94G6yfFrb",
    "outputId": "d7f9d0b7-7b1c-41e2-f705-dfd01271c23a",
    "papermill": {
     "duration": 1.371774,
     "end_time": "2022-04-16T04:30:05.078142",
     "exception": false,
     "start_time": "2022-04-16T04:30:03.706368",
     "status": "completed"
    },
    "tags": []
   },
   "outputs": [
    {
     "name": "stderr",
     "output_type": "stream",
     "text": [
      "/opt/conda/lib/python3.7/site-packages/seaborn/axisgrid.py:670: UserWarning: Using the pointplot function without specifying `order` is likely to produce an incorrect plot.\n",
      "  warnings.warn(warning)\n",
      "/opt/conda/lib/python3.7/site-packages/seaborn/axisgrid.py:675: UserWarning: Using the pointplot function without specifying `hue_order` is likely to produce an incorrect plot.\n",
      "  warnings.warn(warning)\n"
     ]
    },
    {
     "data": {
      "text/plain": [
       "<seaborn.axisgrid.FacetGrid at 0x7f413dbf8190>"
      ]
     },
     "execution_count": 21,
     "metadata": {},
     "output_type": "execute_result"
    },
    {
     "data": {
      "image/png": "[encoded data removed]",
      "text/plain": [
       "<Figure size 286.5x648 with 3 Axes>"
      ]
     },
     "metadata": {
      "needs_background": "light"
     },
     "output_type": "display_data"
    }
   ],
   "source": [
    "g = sns.FacetGrid(df, row='Embarked')\n",
    "g.map(sns.pointplot, 'Pclass', 'Survived', 'Sex', palette='deep')\n",
    "g.add_legend()"
   ]
  },
  {
   "cell_type": "code",
   "execution_count": 22,
   "id": "0b935e90",
   "metadata": {
    "execution": {
     "iopub.execute_input": "2022-04-16T04:30:05.237038Z",
     "iopub.status.busy": "2022-04-16T04:30:05.236751Z",
     "iopub.status.idle": "2022-04-16T04:30:06.508849Z",
     "shell.execute_reply": "2022-04-16T04:30:06.507956Z"
    },
    "id": "Ofr-Wfq5gZQs",
    "outputId": "1bd5d848-0541-4500-ee04-87d076b7b381",
    "papermill": {
     "duration": 1.353726,
     "end_time": "2022-04-16T04:30:06.511063",
     "exception": false,
     "start_time": "2022-04-16T04:30:05.157337",
     "status": "completed"
    },
    "tags": []
   },
   "outputs": [
    {
     "name": "stderr",
     "output_type": "stream",
     "text": [
      "/opt/conda/lib/python3.7/site-packages/seaborn/axisgrid.py:670: UserWarning: Using the barplot function without specifying `order` is likely to produce an incorrect plot.\n",
      "  warnings.warn(warning)\n"
     ]
    },
    {
     "data": {
      "text/plain": [
       "<seaborn.axisgrid.FacetGrid at 0x7f413da3aed0>"
      ]
     },
     "execution_count": 22,
     "metadata": {},
     "output_type": "execute_result"
    },
    {
     "data": {
      "image/png": "[encoded data removed]",
      "text/plain": [
       "<Figure size 432x648 with 6 Axes>"
      ]
     },
     "metadata": {
      "needs_background": "light"
     },
     "output_type": "display_data"
    }
   ],
   "source": [
    "g= sns.FacetGrid(df, row='Embarked', col='Survived')\n",
    "g.map(sns.barplot, 'Sex', 'Fare')"
   ]
  },
  {
   "cell_type": "code",
   "execution_count": 23,
   "id": "57bd72f3",
   "metadata": {
    "execution": {
     "iopub.execute_input": "2022-04-16T04:30:06.672922Z",
     "iopub.status.busy": "2022-04-16T04:30:06.672093Z",
     "iopub.status.idle": "2022-04-16T04:30:06.677700Z",
     "shell.execute_reply": "2022-04-16T04:30:06.677078Z"
    },
    "id": "PtHFJwOThQnt",
    "papermill": {
     "duration": 0.08908,
     "end_time": "2022-04-16T04:30:06.679565",
     "exception": false,
     "start_time": "2022-04-16T04:30:06.590485",
     "status": "completed"
    },
    "tags": []
   },
   "outputs": [],
   "source": [
    "df = df.drop(['Cabin', 'Ticket'], axis=1)"
   ]
  },
  {
   "cell_type": "code",
   "execution_count": 24,
   "id": "29847d6a",
   "metadata": {
    "execution": {
     "iopub.execute_input": "2022-04-16T04:30:06.840956Z",
     "iopub.status.busy": "2022-04-16T04:30:06.840119Z",
     "iopub.status.idle": "2022-04-16T04:30:06.845611Z",
     "shell.execute_reply": "2022-04-16T04:30:06.845041Z"
    },
    "id": "kly7zEN5jaI2",
    "papermill": {
     "duration": 0.088331,
     "end_time": "2022-04-16T04:30:06.847453",
     "exception": false,
     "start_time": "2022-04-16T04:30:06.759122",
     "status": "completed"
    },
    "tags": []
   },
   "outputs": [],
   "source": [
    "df_test = df_test.drop(['Cabin', 'Ticket'], axis=1)"
   ]
  },
  {
   "cell_type": "code",
   "execution_count": 25,
   "id": "69626b7c",
   "metadata": {
    "execution": {
     "iopub.execute_input": "2022-04-16T04:30:07.010489Z",
     "iopub.status.busy": "2022-04-16T04:30:07.010075Z",
     "iopub.status.idle": "2022-04-16T04:30:07.014621Z",
     "shell.execute_reply": "2022-04-16T04:30:07.014029Z"
    },
    "id": "iPk_5Hk3kG5P",
    "papermill": {
     "duration": 0.088267,
     "end_time": "2022-04-16T04:30:07.016470",
     "exception": false,
     "start_time": "2022-04-16T04:30:06.928203",
     "status": "completed"
    },
    "tags": []
   },
   "outputs": [],
   "source": [
    "df_test_pi = df_test.copy()['PassengerId']"
   ]
  },
  {
   "cell_type": "code",
   "execution_count": 26,
   "id": "b11e5c99",
   "metadata": {
    "execution": {
     "iopub.execute_input": "2022-04-16T04:30:07.179560Z",
     "iopub.status.busy": "2022-04-16T04:30:07.179144Z",
     "iopub.status.idle": "2022-04-16T04:30:07.213359Z",
     "shell.execute_reply": "2022-04-16T04:30:07.212299Z"
    },
    "id": "CJvy9qNDkTt-",
    "outputId": "59da43b7-78ff-43e5-d28f-1f6e181675d3",
    "papermill": {
     "duration": 0.118404,
     "end_time": "2022-04-16T04:30:07.215443",
     "exception": false,
     "start_time": "2022-04-16T04:30:07.097039",
     "status": "completed"
    },
    "tags": []
   },
   "outputs": [
    {
     "data": {
      "text/html": [
       "<div>\n",
       "<style scoped>\n",
       "    .dataframe tbody tr th:only-of-type {\n",
       "        vertical-align: middle;\n",
       "    }\n",
       "\n",
       "    .dataframe tbody tr th {\n",
       "        vertical-align: top;\n",
       "    }\n",
       "\n",
       "    .dataframe thead th {\n",
       "        text-align: right;\n",
       "    }\n",
       "</style>\n",
       "<table border=\"1\" class=\"dataframe\">\n",
       "  <thead>\n",
       "    <tr style=\"text-align: right;\">\n",
       "      <th>Sex</th>\n",
       "      <th>female</th>\n",
       "      <th>male</th>\n",
       "    </tr>\n",
       "    <tr>\n",
       "      <th>Title</th>\n",
       "      <th></th>\n",
       "      <th></th>\n",
       "    </tr>\n",
       "  </thead>\n",
       "  <tbody>\n",
       "    <tr>\n",
       "      <th>Capt</th>\n",
       "      <td>0</td>\n",
       "      <td>1</td>\n",
       "    </tr>\n",
       "    <tr>\n",
       "      <th>Col</th>\n",
       "      <td>0</td>\n",
       "      <td>2</td>\n",
       "    </tr>\n",
       "    <tr>\n",
       "      <th>Countess</th>\n",
       "      <td>1</td>\n",
       "      <td>0</td>\n",
       "    </tr>\n",
       "    <tr>\n",
       "      <th>Don</th>\n",
       "      <td>0</td>\n",
       "      <td>1</td>\n",
       "    </tr>\n",
       "    <tr>\n",
       "      <th>Dr</th>\n",
       "      <td>1</td>\n",
       "      <td>6</td>\n",
       "    </tr>\n",
       "    <tr>\n",
       "      <th>Jonkheer</th>\n",
       "      <td>0</td>\n",
       "      <td>1</td>\n",
       "    </tr>\n",
       "    <tr>\n",
       "      <th>Lady</th>\n",
       "      <td>1</td>\n",
       "      <td>0</td>\n",
       "    </tr>\n",
       "    <tr>\n",
       "      <th>Major</th>\n",
       "      <td>0</td>\n",
       "      <td>2</td>\n",
       "    </tr>\n",
       "    <tr>\n",
       "      <th>Master</th>\n",
       "      <td>0</td>\n",
       "      <td>40</td>\n",
       "    </tr>\n",
       "    <tr>\n",
       "      <th>Miss</th>\n",
       "      <td>182</td>\n",
       "      <td>0</td>\n",
       "    </tr>\n",
       "    <tr>\n",
       "      <th>Mlle</th>\n",
       "      <td>2</td>\n",
       "      <td>0</td>\n",
       "    </tr>\n",
       "    <tr>\n",
       "      <th>Mme</th>\n",
       "      <td>1</td>\n",
       "      <td>0</td>\n",
       "    </tr>\n",
       "    <tr>\n",
       "      <th>Mr</th>\n",
       "      <td>0</td>\n",
       "      <td>517</td>\n",
       "    </tr>\n",
       "    <tr>\n",
       "      <th>Mrs</th>\n",
       "      <td>125</td>\n",
       "      <td>0</td>\n",
       "    </tr>\n",
       "    <tr>\n",
       "      <th>Ms</th>\n",
       "      <td>1</td>\n",
       "      <td>0</td>\n",
       "    </tr>\n",
       "    <tr>\n",
       "      <th>Rev</th>\n",
       "      <td>0</td>\n",
       "      <td>6</td>\n",
       "    </tr>\n",
       "    <tr>\n",
       "      <th>Sir</th>\n",
       "      <td>0</td>\n",
       "      <td>1</td>\n",
       "    </tr>\n",
       "  </tbody>\n",
       "</table>\n",
       "</div>"
      ],
      "text/plain": [
       "Sex       female  male\n",
       "Title                 \n",
       "Capt           0     1\n",
       "Col            0     2\n",
       "Countess       1     0\n",
       "Don            0     1\n",
       "Dr             1     6\n",
       "Jonkheer       0     1\n",
       "Lady           1     0\n",
       "Major          0     2\n",
       "Master         0    40\n",
       "Miss         182     0\n",
       "Mlle           2     0\n",
       "Mme            1     0\n",
       "Mr             0   517\n",
       "Mrs          125     0\n",
       "Ms             1     0\n",
       "Rev            0     6\n",
       "Sir            0     1"
      ]
     },
     "execution_count": 26,
     "metadata": {},
     "output_type": "execute_result"
    }
   ],
   "source": [
    "combine = [df, df_test]\n",
    "for dataset in combine:\n",
    "    dataset['Title'] = dataset['Name'].str.extract(' ([A-Za-z]+)\\.', expand=False)\n",
    "\n",
    "pd.crosstab(df['Title'], df['Sex'])"
   ]
  },
  {
   "cell_type": "code",
   "execution_count": 27,
   "id": "0b91fbc3",
   "metadata": {
    "execution": {
     "iopub.execute_input": "2022-04-16T04:30:07.379005Z",
     "iopub.status.busy": "2022-04-16T04:30:07.378498Z",
     "iopub.status.idle": "2022-04-16T04:30:07.402363Z",
     "shell.execute_reply": "2022-04-16T04:30:07.401824Z"
    },
    "id": "FySONWVvlHcM",
    "outputId": "be9937f7-d3c6-432e-87e6-f28bfe27fa9a",
    "papermill": {
     "duration": 0.108175,
     "end_time": "2022-04-16T04:30:07.404114",
     "exception": false,
     "start_time": "2022-04-16T04:30:07.295939",
     "status": "completed"
    },
    "tags": []
   },
   "outputs": [
    {
     "data": {
      "text/html": [
       "<div>\n",
       "<style scoped>\n",
       "    .dataframe tbody tr th:only-of-type {\n",
       "        vertical-align: middle;\n",
       "    }\n",
       "\n",
       "    .dataframe tbody tr th {\n",
       "        vertical-align: top;\n",
       "    }\n",
       "\n",
       "    .dataframe thead th {\n",
       "        text-align: right;\n",
       "    }\n",
       "</style>\n",
       "<table border=\"1\" class=\"dataframe\">\n",
       "  <thead>\n",
       "    <tr style=\"text-align: right;\">\n",
       "      <th></th>\n",
       "      <th>Title</th>\n",
       "      <th>Survived</th>\n",
       "    </tr>\n",
       "  </thead>\n",
       "  <tbody>\n",
       "    <tr>\n",
       "      <th>0</th>\n",
       "      <td>Master</td>\n",
       "      <td>0.575000</td>\n",
       "    </tr>\n",
       "    <tr>\n",
       "      <th>1</th>\n",
       "      <td>Miss</td>\n",
       "      <td>0.702703</td>\n",
       "    </tr>\n",
       "    <tr>\n",
       "      <th>2</th>\n",
       "      <td>Mr</td>\n",
       "      <td>0.156673</td>\n",
       "    </tr>\n",
       "    <tr>\n",
       "      <th>3</th>\n",
       "      <td>Mrs</td>\n",
       "      <td>0.793651</td>\n",
       "    </tr>\n",
       "    <tr>\n",
       "      <th>4</th>\n",
       "      <td>Rare</td>\n",
       "      <td>0.347826</td>\n",
       "    </tr>\n",
       "  </tbody>\n",
       "</table>\n",
       "</div>"
      ],
      "text/plain": [
       "    Title  Survived\n",
       "0  Master  0.575000\n",
       "1    Miss  0.702703\n",
       "2      Mr  0.156673\n",
       "3     Mrs  0.793651\n",
       "4    Rare  0.347826"
      ]
     },
     "execution_count": 27,
     "metadata": {},
     "output_type": "execute_result"
    }
   ],
   "source": [
    "for dataset in combine:\n",
    "    dataset['Title'] = dataset['Title'].replace(['Capt', 'Col', 'Countess', 'Don', 'Dr', 'Jonkheer', 'Lady', 'Major', 'Rev', 'Sir'], 'Rare')\n",
    "    dataset['Title'] = dataset['Title'].replace('Mlle', 'Miss')\n",
    "    dataset['Title'] = dataset['Title'].replace('Ms', 'Miss')\n",
    "    dataset['Title'] = dataset['Title'].replace('Mme', 'Mrs')\n",
    "    \n",
    "df[['Survived', 'Title']].groupby('Title', as_index=False).mean()"
   ]
  },
  {
   "cell_type": "code",
   "execution_count": 28,
   "id": "67b620c7",
   "metadata": {
    "execution": {
     "iopub.execute_input": "2022-04-16T04:30:07.573807Z",
     "iopub.status.busy": "2022-04-16T04:30:07.573065Z",
     "iopub.status.idle": "2022-04-16T04:30:07.585550Z",
     "shell.execute_reply": "2022-04-16T04:30:07.584190Z"
    },
    "id": "0QqBj0dfmBWa",
    "outputId": "ba8ab140-5795-4bcc-a3be-694d44f3a131",
    "papermill": {
     "duration": 0.10241,
     "end_time": "2022-04-16T04:30:07.587742",
     "exception": false,
     "start_time": "2022-04-16T04:30:07.485332",
     "status": "completed"
    },
    "tags": []
   },
   "outputs": [
    {
     "data": {
      "text/plain": [
       "PassengerId    1.000000\n",
       "Survived       1.000000\n",
       "Pclass         1.000000\n",
       "Name           1.000000\n",
       "Sex            1.000000\n",
       "Age            0.801347\n",
       "SibSp          1.000000\n",
       "Parch          1.000000\n",
       "Fare           1.000000\n",
       "Embarked       0.997755\n",
       "Title          1.000000\n",
       "dtype: float64"
      ]
     },
     "execution_count": 28,
     "metadata": {},
     "output_type": "execute_result"
    }
   ],
   "source": [
    "df.notnull().mean()"
   ]
  },
  {
   "cell_type": "code",
   "execution_count": null,
   "id": "19b5abe3",
   "metadata": {
    "id": "5sWn6TR0RvOl",
    "papermill": {
     "duration": 0.101183,
     "end_time": "2022-04-16T04:30:07.779541",
     "exception": false,
     "start_time": "2022-04-16T04:30:07.678358",
     "status": "completed"
    },
    "tags": []
   },
   "outputs": [],
   "source": []
  },
  {
   "cell_type": "code",
   "execution_count": 29,
   "id": "4f4f0f38",
   "metadata": {
    "execution": {
     "iopub.execute_input": "2022-04-16T04:30:07.961613Z",
     "iopub.status.busy": "2022-04-16T04:30:07.961345Z",
     "iopub.status.idle": "2022-04-16T04:30:07.967692Z",
     "shell.execute_reply": "2022-04-16T04:30:07.966944Z"
    },
    "id": "LtmY8kIKRaU3",
    "papermill": {
     "duration": 0.099518,
     "end_time": "2022-04-16T04:30:07.969811",
     "exception": false,
     "start_time": "2022-04-16T04:30:07.870293",
     "status": "completed"
    },
    "tags": []
   },
   "outputs": [],
   "source": [
    "for dataset in combine:\n",
    "    dataset.drop(['Name', 'PassengerId'], axis=1, inplace=True)"
   ]
  },
  {
   "cell_type": "code",
   "execution_count": null,
   "id": "017701dd",
   "metadata": {
    "id": "LEOksg5ORw_c",
    "papermill": {
     "duration": 0.080507,
     "end_time": "2022-04-16T04:30:08.132854",
     "exception": false,
     "start_time": "2022-04-16T04:30:08.052347",
     "status": "completed"
    },
    "tags": []
   },
   "outputs": [],
   "source": []
  },
  {
   "cell_type": "code",
   "execution_count": 30,
   "id": "8a6ad08d",
   "metadata": {
    "execution": {
     "iopub.execute_input": "2022-04-16T04:30:08.297413Z",
     "iopub.status.busy": "2022-04-16T04:30:08.296847Z",
     "iopub.status.idle": "2022-04-16T04:30:08.307741Z",
     "shell.execute_reply": "2022-04-16T04:30:08.307097Z"
    },
    "id": "T__tYEgjRu5P",
    "papermill": {
     "duration": 0.096256,
     "end_time": "2022-04-16T04:30:08.309934",
     "exception": false,
     "start_time": "2022-04-16T04:30:08.213678",
     "status": "completed"
    },
    "tags": []
   },
   "outputs": [],
   "source": [
    "def categorify(df, df_test):\n",
    "    df = df.copy()\n",
    "    df_test = df_test.copy()\n",
    "    new = pd.concat([df, df_test])\n",
    "    sexdict = {k[1]: k[0] for k in enumerate(new['Sex'].unique())}\n",
    "    embdict = {k[1]: k[0] for k in enumerate(new['Embarked'].unique())}\n",
    "    titdict = {k[1]: k[0] for k in enumerate(new['Title'].unique())}\n",
    "    pardict = {k[1]: k[0] for k in enumerate(new['Parch'].unique())}\n",
    "    pcldict = {k[1]: k[0] for k in enumerate(new['Pclass'].astype(int).unique())}\n",
    "    sibdict = {k[1]: k[0] for k in enumerate(new['SibSp'].astype(int).unique())}\n",
    "    dicts = {'Sex': sexdict, 'Embarked': embdict, 'Title': titdict, 'Parch': pardict, 'Pclass': pcldict, 'SibSp':sibdict}\n",
    "    for key, val in dicts.items():\n",
    "        df[key] = df[key].map(val).astype(float)\n",
    "        df_test[key] = df_test[key].map(val).astype(float)\n",
    "    return df, df_test"
   ]
  },
  {
   "cell_type": "code",
   "execution_count": 31,
   "id": "9e6cef11",
   "metadata": {
    "execution": {
     "iopub.execute_input": "2022-04-16T04:30:08.476451Z",
     "iopub.status.busy": "2022-04-16T04:30:08.475889Z",
     "iopub.status.idle": "2022-04-16T04:30:08.497566Z",
     "shell.execute_reply": "2022-04-16T04:30:08.496800Z"
    },
    "id": "0rxZxlvBkFQF",
    "papermill": {
     "duration": 0.106068,
     "end_time": "2022-04-16T04:30:08.499922",
     "exception": false,
     "start_time": "2022-04-16T04:30:08.393854",
     "status": "completed"
    },
    "tags": []
   },
   "outputs": [],
   "source": [
    "combine = [df, df_test]\n",
    "df, df_test = categorify(df, df_test)"
   ]
  },
  {
   "cell_type": "code",
   "execution_count": 32,
   "id": "2001aa9f",
   "metadata": {
    "execution": {
     "iopub.execute_input": "2022-04-16T04:30:08.666161Z",
     "iopub.status.busy": "2022-04-16T04:30:08.665276Z",
     "iopub.status.idle": "2022-04-16T04:30:08.717112Z",
     "shell.execute_reply": "2022-04-16T04:30:08.716317Z"
    },
    "id": "Enjs4jzPWAyz",
    "papermill": {
     "duration": 0.1371,
     "end_time": "2022-04-16T04:30:08.719531",
     "exception": false,
     "start_time": "2022-04-16T04:30:08.582431",
     "status": "completed"
    },
    "tags": []
   },
   "outputs": [],
   "source": [
    "from sklearn.impute import KNNImputer"
   ]
  },
  {
   "cell_type": "code",
   "execution_count": 33,
   "id": "ac852194",
   "metadata": {
    "execution": {
     "iopub.execute_input": "2022-04-16T04:30:08.884855Z",
     "iopub.status.busy": "2022-04-16T04:30:08.884335Z",
     "iopub.status.idle": "2022-04-16T04:30:08.887615Z",
     "shell.execute_reply": "2022-04-16T04:30:08.887057Z"
    },
    "id": "5aaZNHRIWH5z",
    "papermill": {
     "duration": 0.088641,
     "end_time": "2022-04-16T04:30:08.889346",
     "exception": false,
     "start_time": "2022-04-16T04:30:08.800705",
     "status": "completed"
    },
    "tags": []
   },
   "outputs": [],
   "source": [
    "imp = KNNImputer()"
   ]
  },
  {
   "cell_type": "code",
   "execution_count": 34,
   "id": "118bc8a2",
   "metadata": {
    "execution": {
     "iopub.execute_input": "2022-04-16T04:30:09.053275Z",
     "iopub.status.busy": "2022-04-16T04:30:09.052748Z",
     "iopub.status.idle": "2022-04-16T04:30:09.086566Z",
     "shell.execute_reply": "2022-04-16T04:30:09.085408Z"
    },
    "id": "Tz-7xXmdRB-V",
    "papermill": {
     "duration": 0.119101,
     "end_time": "2022-04-16T04:30:09.089447",
     "exception": false,
     "start_time": "2022-04-16T04:30:08.970346",
     "status": "completed"
    },
    "tags": []
   },
   "outputs": [],
   "source": [
    "df = pd.DataFrame(imp.fit_transform(df.values), columns=df.columns)\n",
    "df_test = pd.DataFrame(imp.fit_transform(df_test.values), columns=df_test.columns)"
   ]
  },
  {
   "cell_type": "code",
   "execution_count": 35,
   "id": "53a903e1",
   "metadata": {
    "execution": {
     "iopub.execute_input": "2022-04-16T04:30:09.304883Z",
     "iopub.status.busy": "2022-04-16T04:30:09.304585Z",
     "iopub.status.idle": "2022-04-16T04:30:09.310390Z",
     "shell.execute_reply": "2022-04-16T04:30:09.309532Z"
    },
    "id": "_2PeISJITa_-",
    "papermill": {
     "duration": 0.090342,
     "end_time": "2022-04-16T04:30:09.312384",
     "exception": false,
     "start_time": "2022-04-16T04:30:09.222042",
     "status": "completed"
    },
    "tags": []
   },
   "outputs": [],
   "source": [
    "df['Embarked'] = df['Embarked'].astype(int)\n",
    "df_test['Embarked'] = df_test['Embarked'].astype(int)"
   ]
  },
  {
   "cell_type": "code",
   "execution_count": 36,
   "id": "4d92e41f",
   "metadata": {
    "execution": {
     "iopub.execute_input": "2022-04-16T04:30:09.477804Z",
     "iopub.status.busy": "2022-04-16T04:30:09.477257Z",
     "iopub.status.idle": "2022-04-16T04:30:09.486930Z",
     "shell.execute_reply": "2022-04-16T04:30:09.486328Z"
    },
    "id": "QrXJ6LlVSKgU",
    "outputId": "59c36e25-6db4-4b25-cca5-6f6947b544fc",
    "papermill": {
     "duration": 0.094287,
     "end_time": "2022-04-16T04:30:09.489319",
     "exception": false,
     "start_time": "2022-04-16T04:30:09.395032",
     "status": "completed"
    },
    "tags": []
   },
   "outputs": [
    {
     "name": "stdout",
     "output_type": "stream",
     "text": [
      "key: Survived, unique: 2\n",
      "key: Pclass, unique: 3\n",
      "key: Sex, unique: 2\n",
      "key: Age, unique: 144\n",
      "key: SibSp, unique: 7\n",
      "key: Parch, unique: 7\n",
      "key: Fare, unique: 248\n",
      "key: Embarked, unique: 3\n",
      "key: Title, unique: 5\n",
      "----------\n",
      "key: Pclass, unique: 3\n",
      "key: Sex, unique: 2\n",
      "key: Age, unique: 144\n",
      "key: SibSp, unique: 7\n",
      "key: Parch, unique: 7\n",
      "key: Fare, unique: 248\n",
      "key: Embarked, unique: 3\n",
      "key: Title, unique: 5\n"
     ]
    }
   ],
   "source": [
    "for i in df:\n",
    "    print(f'key: {i}, unique: {df[i].nunique()}')\n",
    "print('-'*10)\n",
    "for i in df_test:\n",
    "    print(f'key: {i}, unique: {df[i].nunique()}') "
   ]
  },
  {
   "cell_type": "code",
   "execution_count": 37,
   "id": "a6b05f23",
   "metadata": {
    "execution": {
     "iopub.execute_input": "2022-04-16T04:30:09.655618Z",
     "iopub.status.busy": "2022-04-16T04:30:09.655345Z",
     "iopub.status.idle": "2022-04-16T04:30:09.676971Z",
     "shell.execute_reply": "2022-04-16T04:30:09.676336Z"
    },
    "id": "FP2J1a09lEFc",
    "outputId": "9a31fc88-afde-41b3-924e-2d43a303a33f",
    "papermill": {
     "duration": 0.106752,
     "end_time": "2022-04-16T04:30:09.678693",
     "exception": false,
     "start_time": "2022-04-16T04:30:09.571941",
     "status": "completed"
    },
    "tags": []
   },
   "outputs": [
    {
     "data": {
      "text/html": [
       "<div>\n",
       "<style scoped>\n",
       "    .dataframe tbody tr th:only-of-type {\n",
       "        vertical-align: middle;\n",
       "    }\n",
       "\n",
       "    .dataframe tbody tr th {\n",
       "        vertical-align: top;\n",
       "    }\n",
       "\n",
       "    .dataframe thead th {\n",
       "        text-align: right;\n",
       "    }\n",
       "</style>\n",
       "<table border=\"1\" class=\"dataframe\">\n",
       "  <thead>\n",
       "    <tr style=\"text-align: right;\">\n",
       "      <th></th>\n",
       "      <th>Pclass</th>\n",
       "      <th>Sex</th>\n",
       "      <th>Age</th>\n",
       "      <th>SibSp</th>\n",
       "      <th>Parch</th>\n",
       "      <th>Fare</th>\n",
       "      <th>Embarked</th>\n",
       "      <th>Title</th>\n",
       "    </tr>\n",
       "  </thead>\n",
       "  <tbody>\n",
       "    <tr>\n",
       "      <th>0</th>\n",
       "      <td>0.0</td>\n",
       "      <td>0.0</td>\n",
       "      <td>34.500</td>\n",
       "      <td>1.0</td>\n",
       "      <td>0.0</td>\n",
       "      <td>7.8292</td>\n",
       "      <td>2</td>\n",
       "      <td>0.0</td>\n",
       "    </tr>\n",
       "    <tr>\n",
       "      <th>1</th>\n",
       "      <td>0.0</td>\n",
       "      <td>1.0</td>\n",
       "      <td>47.000</td>\n",
       "      <td>0.0</td>\n",
       "      <td>0.0</td>\n",
       "      <td>7.0000</td>\n",
       "      <td>0</td>\n",
       "      <td>1.0</td>\n",
       "    </tr>\n",
       "    <tr>\n",
       "      <th>2</th>\n",
       "      <td>2.0</td>\n",
       "      <td>0.0</td>\n",
       "      <td>62.000</td>\n",
       "      <td>1.0</td>\n",
       "      <td>0.0</td>\n",
       "      <td>9.6875</td>\n",
       "      <td>2</td>\n",
       "      <td>0.0</td>\n",
       "    </tr>\n",
       "    <tr>\n",
       "      <th>3</th>\n",
       "      <td>0.0</td>\n",
       "      <td>0.0</td>\n",
       "      <td>27.000</td>\n",
       "      <td>1.0</td>\n",
       "      <td>0.0</td>\n",
       "      <td>8.6625</td>\n",
       "      <td>0</td>\n",
       "      <td>0.0</td>\n",
       "    </tr>\n",
       "    <tr>\n",
       "      <th>4</th>\n",
       "      <td>0.0</td>\n",
       "      <td>1.0</td>\n",
       "      <td>22.000</td>\n",
       "      <td>0.0</td>\n",
       "      <td>1.0</td>\n",
       "      <td>12.2875</td>\n",
       "      <td>0</td>\n",
       "      <td>1.0</td>\n",
       "    </tr>\n",
       "    <tr>\n",
       "      <th>...</th>\n",
       "      <td>...</td>\n",
       "      <td>...</td>\n",
       "      <td>...</td>\n",
       "      <td>...</td>\n",
       "      <td>...</td>\n",
       "      <td>...</td>\n",
       "      <td>...</td>\n",
       "      <td>...</td>\n",
       "    </tr>\n",
       "    <tr>\n",
       "      <th>413</th>\n",
       "      <td>0.0</td>\n",
       "      <td>0.0</td>\n",
       "      <td>32.900</td>\n",
       "      <td>1.0</td>\n",
       "      <td>0.0</td>\n",
       "      <td>8.0500</td>\n",
       "      <td>0</td>\n",
       "      <td>0.0</td>\n",
       "    </tr>\n",
       "    <tr>\n",
       "      <th>414</th>\n",
       "      <td>1.0</td>\n",
       "      <td>1.0</td>\n",
       "      <td>39.000</td>\n",
       "      <td>1.0</td>\n",
       "      <td>0.0</td>\n",
       "      <td>108.9000</td>\n",
       "      <td>1</td>\n",
       "      <td>5.0</td>\n",
       "    </tr>\n",
       "    <tr>\n",
       "      <th>415</th>\n",
       "      <td>0.0</td>\n",
       "      <td>0.0</td>\n",
       "      <td>38.500</td>\n",
       "      <td>1.0</td>\n",
       "      <td>0.0</td>\n",
       "      <td>7.2500</td>\n",
       "      <td>0</td>\n",
       "      <td>0.0</td>\n",
       "    </tr>\n",
       "    <tr>\n",
       "      <th>416</th>\n",
       "      <td>0.0</td>\n",
       "      <td>0.0</td>\n",
       "      <td>32.900</td>\n",
       "      <td>1.0</td>\n",
       "      <td>0.0</td>\n",
       "      <td>8.0500</td>\n",
       "      <td>0</td>\n",
       "      <td>0.0</td>\n",
       "    </tr>\n",
       "    <tr>\n",
       "      <th>417</th>\n",
       "      <td>0.0</td>\n",
       "      <td>0.0</td>\n",
       "      <td>9.434</td>\n",
       "      <td>0.0</td>\n",
       "      <td>1.0</td>\n",
       "      <td>22.3583</td>\n",
       "      <td>1</td>\n",
       "      <td>3.0</td>\n",
       "    </tr>\n",
       "  </tbody>\n",
       "</table>\n",
       "<p>418 rows × 8 columns</p>\n",
       "</div>"
      ],
      "text/plain": [
       "     Pclass  Sex     Age  SibSp  Parch      Fare  Embarked  Title\n",
       "0       0.0  0.0  34.500    1.0    0.0    7.8292         2    0.0\n",
       "1       0.0  1.0  47.000    0.0    0.0    7.0000         0    1.0\n",
       "2       2.0  0.0  62.000    1.0    0.0    9.6875         2    0.0\n",
       "3       0.0  0.0  27.000    1.0    0.0    8.6625         0    0.0\n",
       "4       0.0  1.0  22.000    0.0    1.0   12.2875         0    1.0\n",
       "..      ...  ...     ...    ...    ...       ...       ...    ...\n",
       "413     0.0  0.0  32.900    1.0    0.0    8.0500         0    0.0\n",
       "414     1.0  1.0  39.000    1.0    0.0  108.9000         1    5.0\n",
       "415     0.0  0.0  38.500    1.0    0.0    7.2500         0    0.0\n",
       "416     0.0  0.0  32.900    1.0    0.0    8.0500         0    0.0\n",
       "417     0.0  0.0   9.434    0.0    1.0   22.3583         1    3.0\n",
       "\n",
       "[418 rows x 8 columns]"
      ]
     },
     "execution_count": 37,
     "metadata": {},
     "output_type": "execute_result"
    }
   ],
   "source": [
    "df_test"
   ]
  },
  {
   "cell_type": "code",
   "execution_count": null,
   "id": "2b780abf",
   "metadata": {
    "id": "IbP9tiwPd8O0",
    "papermill": {
     "duration": 0.081823,
     "end_time": "2022-04-16T04:30:09.842397",
     "exception": false,
     "start_time": "2022-04-16T04:30:09.760574",
     "status": "completed"
    },
    "tags": []
   },
   "outputs": [],
   "source": [
    "\n"
   ]
  },
  {
   "cell_type": "code",
   "execution_count": 38,
   "id": "84277699",
   "metadata": {
    "execution": {
     "iopub.execute_input": "2022-04-16T04:30:10.011360Z",
     "iopub.status.busy": "2022-04-16T04:30:10.011070Z",
     "iopub.status.idle": "2022-04-16T04:30:10.955704Z",
     "shell.execute_reply": "2022-04-16T04:30:10.955042Z"
    },
    "id": "yQY-eDmpvmB4",
    "papermill": {
     "duration": 1.031744,
     "end_time": "2022-04-16T04:30:10.957963",
     "exception": false,
     "start_time": "2022-04-16T04:30:09.926219",
     "status": "completed"
    },
    "tags": []
   },
   "outputs": [],
   "source": [
    "from torch.nn import *\n",
    "from torch import nn"
   ]
  },
  {
   "cell_type": "code",
   "execution_count": 39,
   "id": "35d971c5",
   "metadata": {
    "execution": {
     "iopub.execute_input": "2022-04-16T04:30:11.126220Z",
     "iopub.status.busy": "2022-04-16T04:30:11.125404Z",
     "iopub.status.idle": "2022-04-16T04:30:11.130075Z",
     "shell.execute_reply": "2022-04-16T04:30:11.129273Z"
    },
    "id": "sCqvCatNdRwA",
    "papermill": {
     "duration": 0.09058,
     "end_time": "2022-04-16T04:30:11.132177",
     "exception": false,
     "start_time": "2022-04-16T04:30:11.041597",
     "status": "completed"
    },
    "tags": []
   },
   "outputs": [],
   "source": [
    "from torch.utils.data import Dataset\n",
    "from torch.utils.data import DataLoader\n",
    "import torch"
   ]
  },
  {
   "cell_type": "code",
   "execution_count": 40,
   "id": "90b93d1d",
   "metadata": {
    "execution": {
     "iopub.execute_input": "2022-04-16T04:30:11.302273Z",
     "iopub.status.busy": "2022-04-16T04:30:11.301711Z",
     "iopub.status.idle": "2022-04-16T04:30:11.311566Z",
     "shell.execute_reply": "2022-04-16T04:30:11.310908Z"
    },
    "id": "iVvb5NIslsVH",
    "outputId": "762ee406-fe9c-4e50-ead3-2f1e8a3c2161",
    "papermill": {
     "duration": 0.099415,
     "end_time": "2022-04-16T04:30:11.313420",
     "exception": false,
     "start_time": "2022-04-16T04:30:11.214005",
     "status": "completed"
    },
    "tags": []
   },
   "outputs": [
    {
     "data": {
      "text/plain": [
       "3"
      ]
     },
     "execution_count": 40,
     "metadata": {},
     "output_type": "execute_result"
    }
   ],
   "source": [
    "cat = df[['Pclass', 'Sex', 'SibSp', 'Parch', 'Embarked', 'Title']]\n",
    "cont = df[['Age', 'Fare']]\n",
    "cat.join(cont).iloc[0]\n",
    "dv = df['Survived']\n",
    "dv.iloc[0]\n",
    "df.index[3]"
   ]
  },
  {
   "cell_type": "code",
   "execution_count": 41,
   "id": "ea3fbaf2",
   "metadata": {
    "execution": {
     "iopub.execute_input": "2022-04-16T04:30:11.481127Z",
     "iopub.status.busy": "2022-04-16T04:30:11.480633Z",
     "iopub.status.idle": "2022-04-16T04:30:11.485704Z",
     "shell.execute_reply": "2022-04-16T04:30:11.484934Z"
    },
    "id": "r5iKlPmmnUUz",
    "papermill": {
     "duration": 0.090683,
     "end_time": "2022-04-16T04:30:11.487728",
     "exception": false,
     "start_time": "2022-04-16T04:30:11.397045",
     "status": "completed"
    },
    "tags": []
   },
   "outputs": [],
   "source": [
    "def randomSplit(df, valid_ratio=0.2, random_state=None):\n",
    "    split_idx = int(len(df.index)*(valid_ratio))\n",
    "    shuffled_df = df.sample(frac=1, random_state=random_state)\n",
    "    return shuffled_df.iloc[split_idx:], shuffled_df[:split_idx]"
   ]
  },
  {
   "cell_type": "code",
   "execution_count": 42,
   "id": "1b03003a",
   "metadata": {
    "execution": {
     "iopub.execute_input": "2022-04-16T04:30:11.655539Z",
     "iopub.status.busy": "2022-04-16T04:30:11.655230Z",
     "iopub.status.idle": "2022-04-16T04:30:11.665803Z",
     "shell.execute_reply": "2022-04-16T04:30:11.664807Z"
    },
    "id": "1lSV1oU8bwAM",
    "papermill": {
     "duration": 0.095794,
     "end_time": "2022-04-16T04:30:11.667721",
     "exception": false,
     "start_time": "2022-04-16T04:30:11.571927",
     "status": "completed"
    },
    "tags": []
   },
   "outputs": [],
   "source": [
    "class TitanicDataset(Dataset):\n",
    "    def __init__(self, df, is_test=False):\n",
    "        self.is_test = is_test\n",
    "        self.df = df.copy()\n",
    "        self.cat = self.df[['Pclass', 'Sex', 'SibSp', 'Parch', 'Embarked', 'Title']].astype(int)\n",
    "        self.cont = self.df[['Age', 'Fare']]\n",
    "        self.res_df = self.cat.join(self.cont)\n",
    "        if not(is_test):\n",
    "            self.dep_var = self.df['Survived'].astype(int)\n",
    "        self.columns = self.res_df.columns\n",
    "    def __len__(self):\n",
    "        return len(self.df)\n",
    "    def __getitem__(self, idx):\n",
    "        if self.is_test:\n",
    "            return self.res_df.iloc[idx].values\n",
    "        else:\n",
    "            return self.res_df.iloc[idx].values, self.dep_var.iloc[idx]"
   ]
  },
  {
   "cell_type": "code",
   "execution_count": 43,
   "id": "c395918a",
   "metadata": {
    "execution": {
     "iopub.execute_input": "2022-04-16T04:30:11.834910Z",
     "iopub.status.busy": "2022-04-16T04:30:11.834438Z",
     "iopub.status.idle": "2022-04-16T04:30:11.839878Z",
     "shell.execute_reply": "2022-04-16T04:30:11.839304Z"
    },
    "id": "p1ihRqhs2kz-",
    "papermill": {
     "duration": 0.090833,
     "end_time": "2022-04-16T04:30:11.841543",
     "exception": false,
     "start_time": "2022-04-16T04:30:11.750710",
     "status": "completed"
    },
    "tags": []
   },
   "outputs": [],
   "source": [
    "train_df, valid_df = randomSplit(df)"
   ]
  },
  {
   "cell_type": "code",
   "execution_count": 44,
   "id": "8557dd26",
   "metadata": {
    "execution": {
     "iopub.execute_input": "2022-04-16T04:30:12.011750Z",
     "iopub.status.busy": "2022-04-16T04:30:12.011218Z",
     "iopub.status.idle": "2022-04-16T04:30:12.023642Z",
     "shell.execute_reply": "2022-04-16T04:30:12.022969Z"
    },
    "id": "XTcoFKendkpz",
    "papermill": {
     "duration": 0.099626,
     "end_time": "2022-04-16T04:30:12.025702",
     "exception": false,
     "start_time": "2022-04-16T04:30:11.926076",
     "status": "completed"
    },
    "tags": []
   },
   "outputs": [],
   "source": [
    "td = TitanicDataset(train_df)\n",
    "valid_td = TitanicDataset(valid_df)\n",
    "test_ds = TitanicDataset(df_test, is_test=True)\n",
    "in_columns = td.columns\n",
    "cat_columns = td.cat.columns\n",
    "cat_n = len(td.cat.columns)\n",
    "cont_n = len(td.cont.columns)"
   ]
  },
  {
   "cell_type": "code",
   "execution_count": 45,
   "id": "3ec6431f",
   "metadata": {
    "execution": {
     "iopub.execute_input": "2022-04-16T04:30:12.192098Z",
     "iopub.status.busy": "2022-04-16T04:30:12.191374Z",
     "iopub.status.idle": "2022-04-16T04:30:12.195392Z",
     "shell.execute_reply": "2022-04-16T04:30:12.194851Z"
    },
    "id": "IF6pEYPndx2Q",
    "papermill": {
     "duration": 0.088862,
     "end_time": "2022-04-16T04:30:12.197113",
     "exception": false,
     "start_time": "2022-04-16T04:30:12.108251",
     "status": "completed"
    },
    "tags": []
   },
   "outputs": [],
   "source": [
    "dl = DataLoader(td, batch_size=64)\n",
    "valid_dl = DataLoader(td, batch_size=64)"
   ]
  },
  {
   "cell_type": "code",
   "execution_count": 46,
   "id": "78ba78cc",
   "metadata": {
    "execution": {
     "iopub.execute_input": "2022-04-16T04:30:12.364196Z",
     "iopub.status.busy": "2022-04-16T04:30:12.363917Z",
     "iopub.status.idle": "2022-04-16T04:30:12.389224Z",
     "shell.execute_reply": "2022-04-16T04:30:12.388586Z"
    },
    "id": "C-Z5pgpf2085",
    "papermill": {
     "duration": 0.111436,
     "end_time": "2022-04-16T04:30:12.391428",
     "exception": false,
     "start_time": "2022-04-16T04:30:12.279992",
     "status": "completed"
    },
    "tags": []
   },
   "outputs": [],
   "source": [
    "iterdl = iter(dl)"
   ]
  },
  {
   "cell_type": "code",
   "execution_count": null,
   "id": "fd938f5e",
   "metadata": {
    "id": "_Somo8hF269x",
    "papermill": {
     "duration": 0.082702,
     "end_time": "2022-04-16T04:30:12.556472",
     "exception": false,
     "start_time": "2022-04-16T04:30:12.473770",
     "status": "completed"
    },
    "tags": []
   },
   "outputs": [],
   "source": []
  },
  {
   "cell_type": "code",
   "execution_count": 47,
   "id": "98b78866",
   "metadata": {
    "execution": {
     "iopub.execute_input": "2022-04-16T04:30:12.723745Z",
     "iopub.status.busy": "2022-04-16T04:30:12.723283Z",
     "iopub.status.idle": "2022-04-16T04:30:12.731726Z",
     "shell.execute_reply": "2022-04-16T04:30:12.731173Z"
    },
    "id": "NcJc91Aqn1GJ",
    "papermill": {
     "duration": 0.094317,
     "end_time": "2022-04-16T04:30:12.733656",
     "exception": false,
     "start_time": "2022-04-16T04:30:12.639339",
     "status": "completed"
    },
    "tags": []
   },
   "outputs": [],
   "source": [
    "voc = []\n",
    "for s in cat_columns:\n",
    "    vn = pd.concat([td.cat[s], valid_td.cat[s], test_ds.cat[s]])\n",
    "    vn = vn.astype(int).nunique()\n",
    "    voc.append([vn, vn//2+1])\n"
   ]
  },
  {
   "cell_type": "code",
   "execution_count": 48,
   "id": "974c0034",
   "metadata": {
    "execution": {
     "iopub.execute_input": "2022-04-16T04:30:12.902548Z",
     "iopub.status.busy": "2022-04-16T04:30:12.902083Z",
     "iopub.status.idle": "2022-04-16T04:30:12.907258Z",
     "shell.execute_reply": "2022-04-16T04:30:12.906551Z"
    },
    "id": "J12RmbwluPKD",
    "outputId": "ca50b868-385e-4f83-8287-84e30513cec2",
    "papermill": {
     "duration": 0.091369,
     "end_time": "2022-04-16T04:30:12.909107",
     "exception": false,
     "start_time": "2022-04-16T04:30:12.817738",
     "status": "completed"
    },
    "tags": []
   },
   "outputs": [
    {
     "data": {
      "text/plain": [
       "[[3, 2], [2, 2], [7, 4], [8, 5], [3, 2], [6, 4]]"
      ]
     },
     "execution_count": 48,
     "metadata": {},
     "output_type": "execute_result"
    }
   ],
   "source": [
    "voc"
   ]
  },
  {
   "cell_type": "code",
   "execution_count": 49,
   "id": "fcf1ad0a",
   "metadata": {
    "execution": {
     "iopub.execute_input": "2022-04-16T04:30:13.079080Z",
     "iopub.status.busy": "2022-04-16T04:30:13.078386Z",
     "iopub.status.idle": "2022-04-16T04:30:13.092750Z",
     "shell.execute_reply": "2022-04-16T04:30:13.092103Z"
    },
    "id": "0SBg7b0ilJyB",
    "papermill": {
     "duration": 0.101963,
     "end_time": "2022-04-16T04:30:13.094604",
     "exception": false,
     "start_time": "2022-04-16T04:30:12.992641",
     "status": "completed"
    },
    "tags": []
   },
   "outputs": [],
   "source": [
    "class TabModel(Module):\n",
    "    def __init__(self, emb_sz, cat_n, cont_n, layers):\n",
    "        super(TabModel, self).__init__()\n",
    "        self.cat_n = cat_n\n",
    "        self.cont_n = cont_n\n",
    "        self.embeddings = nn.ModuleList(nn.Embedding(ni, nf) for ni, nf in emb_sz)\n",
    "        cat_len = sum([x for _, x in emb_sz])\n",
    "        self.emb_drop = nn.Dropout(0.2)\n",
    "        self.linear_drop = nn.Dropout(0.5)\n",
    "        model = []\n",
    "        model.append(nn.BatchNorm1d(cat_len+cont_n))\n",
    "        model.append(self.linear_drop)\n",
    "        model.append(nn.Linear(cat_len+cont_n, layers[0]))\n",
    "        model.append(nn.Mish())\n",
    "        for i in range(len(layers)-2):\n",
    "            model.append(nn.BatchNorm1d(layers[i]))\n",
    "            model.append(self.linear_drop)\n",
    "            model.append(nn.Linear(layers[i], layers[i+1]))\n",
    "            model.append(nn.Mish())\n",
    "        self.linear = nn.Sequential(*model)\n",
    "        self.final_layer = nn.Linear(layers[-2], layers[-1])\n",
    "        \n",
    "    def forward(self, x):\n",
    "        emb = []\n",
    "        for i in range(self.cat_n):\n",
    "            emb.append(self.embeddings[i](x[:,i].int()))\n",
    "        for i in range(self.cat_n, self.cat_n+self.cont_n):\n",
    "            emb.append(x[:,i].unsqueeze(1))\n",
    "        input = torch.cat(emb, dim=1).float()\n",
    "        res = self.linear(input)\n",
    "        res = self.final_layer(res)\n",
    "        return res\n"
   ]
  },
  {
   "cell_type": "code",
   "execution_count": 50,
   "id": "0e2aed69",
   "metadata": {
    "execution": {
     "iopub.execute_input": "2022-04-16T04:30:13.262576Z",
     "iopub.status.busy": "2022-04-16T04:30:13.262293Z",
     "iopub.status.idle": "2022-04-16T04:30:13.288977Z",
     "shell.execute_reply": "2022-04-16T04:30:13.288068Z"
    },
    "id": "Pgyp6Ntynyo_",
    "papermill": {
     "duration": 0.113388,
     "end_time": "2022-04-16T04:30:13.291317",
     "exception": false,
     "start_time": "2022-04-16T04:30:13.177929",
     "status": "completed"
    },
    "tags": []
   },
   "outputs": [],
   "source": [
    "tabmodel = TabModel(voc, cat_n, cont_n, (200, 100, 2)).to(device)"
   ]
  },
  {
   "cell_type": "code",
   "execution_count": 51,
   "id": "2a305619",
   "metadata": {
    "execution": {
     "iopub.execute_input": "2022-04-16T04:30:13.461536Z",
     "iopub.status.busy": "2022-04-16T04:30:13.461250Z",
     "iopub.status.idle": "2022-04-16T04:30:13.466314Z",
     "shell.execute_reply": "2022-04-16T04:30:13.465447Z"
    },
    "id": "azJH5KCv0Nu3",
    "outputId": "6158c43f-5850-417b-ca72-efef5f5f0cc0",
    "papermill": {
     "duration": 0.093682,
     "end_time": "2022-04-16T04:30:13.468632",
     "exception": false,
     "start_time": "2022-04-16T04:30:13.374950",
     "status": "completed"
    },
    "tags": []
   },
   "outputs": [
    {
     "name": "stdout",
     "output_type": "stream",
     "text": [
      "TabModel(\n",
      "  (embeddings): ModuleList(\n",
      "    (0): Embedding(3, 2)\n",
      "    (1): Embedding(2, 2)\n",
      "    (2): Embedding(7, 4)\n",
      "    (3): Embedding(8, 5)\n",
      "    (4): Embedding(3, 2)\n",
      "    (5): Embedding(6, 4)\n",
      "  )\n",
      "  (emb_drop): Dropout(p=0.2, inplace=False)\n",
      "  (linear_drop): Dropout(p=0.5, inplace=False)\n",
      "  (linear): Sequential(\n",
      "    (0): BatchNorm1d(21, eps=1e-05, momentum=0.1, affine=True, track_running_stats=True)\n",
      "    (1): Dropout(p=0.5, inplace=False)\n",
      "    (2): Linear(in_features=21, out_features=200, bias=True)\n",
      "    (3): Mish()\n",
      "    (4): BatchNorm1d(200, eps=1e-05, momentum=0.1, affine=True, track_running_stats=True)\n",
      "    (5): Dropout(p=0.5, inplace=False)\n",
      "    (6): Linear(in_features=200, out_features=100, bias=True)\n",
      "    (7): Mish()\n",
      "  )\n",
      "  (final_layer): Linear(in_features=100, out_features=2, bias=True)\n",
      ")\n"
     ]
    }
   ],
   "source": [
    "print(tabmodel)"
   ]
  },
  {
   "cell_type": "code",
   "execution_count": 52,
   "id": "cc44f0fe",
   "metadata": {
    "execution": {
     "iopub.execute_input": "2022-04-16T04:30:13.639228Z",
     "iopub.status.busy": "2022-04-16T04:30:13.638474Z",
     "iopub.status.idle": "2022-04-16T04:30:13.642706Z",
     "shell.execute_reply": "2022-04-16T04:30:13.641998Z"
    },
    "id": "9dP2FXI1DMqk",
    "papermill": {
     "duration": 0.091925,
     "end_time": "2022-04-16T04:30:13.644737",
     "exception": false,
     "start_time": "2022-04-16T04:30:13.552812",
     "status": "completed"
    },
    "tags": []
   },
   "outputs": [],
   "source": [
    "dls = dl, valid_dl"
   ]
  },
  {
   "cell_type": "code",
   "execution_count": 53,
   "id": "187453ef",
   "metadata": {
    "execution": {
     "iopub.execute_input": "2022-04-16T04:30:13.813376Z",
     "iopub.status.busy": "2022-04-16T04:30:13.813083Z",
     "iopub.status.idle": "2022-04-16T04:30:13.820537Z",
     "shell.execute_reply": "2022-04-16T04:30:13.818869Z"
    },
    "id": "eaD4SzWKkGTs",
    "papermill": {
     "duration": 0.095267,
     "end_time": "2022-04-16T04:30:13.823318",
     "exception": false,
     "start_time": "2022-04-16T04:30:13.728051",
     "status": "completed"
    },
    "tags": []
   },
   "outputs": [],
   "source": [
    "def train(dl, model, loss_fn, optim):\n",
    "    size = len(dl.dataset)\n",
    "    losses = []\n",
    "    for batch, (X, y) in enumerate(dl):\n",
    "        # prediction, loss\n",
    "        pred = model(X)\n",
    "        loss = loss_fn(pred, y)\n",
    "        # backprop\n",
    "        optim.zero_grad()\n",
    "        loss.backward()\n",
    "        optim.step()\n",
    "\n",
    "        losses.append(loss.item())\n",
    "    \n",
    "    print(f'loss: {np.array(losses).mean()}')\n"
   ]
  },
  {
   "cell_type": "code",
   "execution_count": 54,
   "id": "5cf99598",
   "metadata": {
    "execution": {
     "iopub.execute_input": "2022-04-16T04:30:13.995361Z",
     "iopub.status.busy": "2022-04-16T04:30:13.994748Z",
     "iopub.status.idle": "2022-04-16T04:30:14.001681Z",
     "shell.execute_reply": "2022-04-16T04:30:14.001006Z"
    },
    "id": "g31GQH3w_kUN",
    "papermill": {
     "duration": 0.095718,
     "end_time": "2022-04-16T04:30:14.003812",
     "exception": false,
     "start_time": "2022-04-16T04:30:13.908094",
     "status": "completed"
    },
    "tags": []
   },
   "outputs": [],
   "source": [
    "def valid(valid_dl, model, loss_fn):\n",
    "    accuracy = []\n",
    "    losses = []\n",
    "    with torch.no_grad():\n",
    "        for batch, (X, y) in enumerate(valid_dl):\n",
    "            #p rediction, loss\n",
    "            pred = model(X)\n",
    "            loss = loss_fn(pred, y)\n",
    "            # metric\n",
    "            accuracy.append((pred.argmax(1)==y).float().flatten().mean())\n",
    "            losses.append(loss.item())\n",
    "    print(f'valid -- accuracy: {np.array(accuracy).mean()}, loss: {np.array(losses).mean()}')"
   ]
  },
  {
   "cell_type": "code",
   "execution_count": 55,
   "id": "df1f3b47",
   "metadata": {
    "execution": {
     "iopub.execute_input": "2022-04-16T04:30:14.174718Z",
     "iopub.status.busy": "2022-04-16T04:30:14.174170Z",
     "iopub.status.idle": "2022-04-16T04:30:14.180762Z",
     "shell.execute_reply": "2022-04-16T04:30:14.180028Z"
    },
    "id": "GWBjVQfWDI0r",
    "papermill": {
     "duration": 0.093777,
     "end_time": "2022-04-16T04:30:14.182828",
     "exception": false,
     "start_time": "2022-04-16T04:30:14.089051",
     "status": "completed"
    },
    "tags": []
   },
   "outputs": [],
   "source": [
    "def epoch(n, dls, model:Module, loss_fn, lr=1e-3):\n",
    "    train_dl, valid_dl = dls\n",
    "    \n",
    "    for i in range(n):\n",
    "        # train\n",
    "        model.train()\n",
    "        train(train_dl, model, loss_fn, torch.optim.Adam(model.parameters(), lr= lr))\n",
    "        #validate\n",
    "        model.eval()\n",
    "        valid(valid_dl, model, loss_fn)"
   ]
  },
  {
   "cell_type": "code",
   "execution_count": 56,
   "id": "54291888",
   "metadata": {
    "execution": {
     "iopub.execute_input": "2022-04-16T04:30:14.351188Z",
     "iopub.status.busy": "2022-04-16T04:30:14.350660Z",
     "iopub.status.idle": "2022-04-16T04:30:15.810536Z",
     "shell.execute_reply": "2022-04-16T04:30:15.809607Z"
    },
    "id": "3YLxax12s3ZV",
    "outputId": "0b643d39-25e7-4524-a2a2-f3f2b9f0409b",
    "papermill": {
     "duration": 1.546402,
     "end_time": "2022-04-16T04:30:15.812671",
     "exception": false,
     "start_time": "2022-04-16T04:30:14.266269",
     "status": "completed"
    },
    "tags": []
   },
   "outputs": [
    {
     "name": "stdout",
     "output_type": "stream",
     "text": [
      "loss: 0.6640125662088394\n",
      "valid -- accuracy: 0.7744502425193787, loss: 0.5695277601480484\n",
      "loss: 0.5576204657554626\n",
      "valid -- accuracy: 0.7993345260620117, loss: 0.501845009624958\n",
      "loss: 0.534140095114708\n",
      "valid -- accuracy: 0.7993345260620117, loss: 0.4837016860644023\n",
      "loss: 0.5140897879997889\n",
      "valid -- accuracy: 0.8006365895271301, loss: 0.4719237983226776\n",
      "loss: 0.5197785471876463\n",
      "valid -- accuracy: 0.7993345260620117, loss: 0.46129120886325836\n"
     ]
    }
   ],
   "source": [
    "epoch(5, dls, tabmodel, CrossEntropyLoss(), lr=5e-4)"
   ]
  },
  {
   "cell_type": "code",
   "execution_count": 57,
   "id": "8564127b",
   "metadata": {
    "execution": {
     "iopub.execute_input": "2022-04-16T04:30:15.986688Z",
     "iopub.status.busy": "2022-04-16T04:30:15.985993Z",
     "iopub.status.idle": "2022-04-16T04:30:15.990984Z",
     "shell.execute_reply": "2022-04-16T04:30:15.990113Z"
    },
    "id": "92EJ-f5yFRne",
    "papermill": {
     "duration": 0.09532,
     "end_time": "2022-04-16T04:30:15.992889",
     "exception": false,
     "start_time": "2022-04-16T04:30:15.897569",
     "status": "completed"
    },
    "tags": []
   },
   "outputs": [],
   "source": [
    "def predictWhole(data, model):\n",
    "    model.eval()\n",
    "    pred = model(data)\n",
    "    return pred.argmax(1)"
   ]
  },
  {
   "cell_type": "code",
   "execution_count": 58,
   "id": "22835dad",
   "metadata": {
    "execution": {
     "iopub.execute_input": "2022-04-16T04:30:16.165390Z",
     "iopub.status.busy": "2022-04-16T04:30:16.164478Z",
     "iopub.status.idle": "2022-04-16T04:30:16.219495Z",
     "shell.execute_reply": "2022-04-16T04:30:16.218571Z"
    },
    "id": "A28cUom3tXCM",
    "papermill": {
     "duration": 0.143551,
     "end_time": "2022-04-16T04:30:16.221911",
     "exception": false,
     "start_time": "2022-04-16T04:30:16.078360",
     "status": "completed"
    },
    "tags": []
   },
   "outputs": [],
   "source": [
    "test_ds_raw = torch.Tensor(np.array(test_ds))"
   ]
  },
  {
   "cell_type": "code",
   "execution_count": 59,
   "id": "56663747",
   "metadata": {
    "execution": {
     "iopub.execute_input": "2022-04-16T04:30:16.395297Z",
     "iopub.status.busy": "2022-04-16T04:30:16.395018Z",
     "iopub.status.idle": "2022-04-16T04:30:16.410250Z",
     "shell.execute_reply": "2022-04-16T04:30:16.409314Z"
    },
    "id": "EpLqTfpZZ2is",
    "outputId": "76882f4f-19b7-41de-99eb-723c47f627b4",
    "papermill": {
     "duration": 0.104387,
     "end_time": "2022-04-16T04:30:16.412210",
     "exception": false,
     "start_time": "2022-04-16T04:30:16.307823",
     "status": "completed"
    },
    "tags": []
   },
   "outputs": [
    {
     "data": {
      "text/plain": [
       "tensor([[ 0.0000,  0.0000,  1.0000,  ...,  0.0000, 34.5000,  7.8292],\n",
       "        [ 0.0000,  1.0000,  0.0000,  ...,  1.0000, 47.0000,  7.0000],\n",
       "        [ 2.0000,  0.0000,  1.0000,  ...,  0.0000, 62.0000,  9.6875],\n",
       "        ...,\n",
       "        [ 0.0000,  0.0000,  1.0000,  ...,  0.0000, 38.5000,  7.2500],\n",
       "        [ 0.0000,  0.0000,  1.0000,  ...,  0.0000, 32.9000,  8.0500],\n",
       "        [ 0.0000,  0.0000,  0.0000,  ...,  3.0000,  9.4340, 22.3583]])"
      ]
     },
     "execution_count": 59,
     "metadata": {},
     "output_type": "execute_result"
    }
   ],
   "source": [
    "test_ds_raw"
   ]
  },
  {
   "cell_type": "code",
   "execution_count": 60,
   "id": "bc3c5a32",
   "metadata": {
    "execution": {
     "iopub.execute_input": "2022-04-16T04:30:16.591035Z",
     "iopub.status.busy": "2022-04-16T04:30:16.590025Z",
     "iopub.status.idle": "2022-04-16T04:30:16.600523Z",
     "shell.execute_reply": "2022-04-16T04:30:16.599842Z"
    },
    "id": "Gaz-1GGsLWSa",
    "outputId": "bdb38471-e93f-45b6-8bf5-cc40cbb53284",
    "papermill": {
     "duration": 0.104408,
     "end_time": "2022-04-16T04:30:16.602818",
     "exception": false,
     "start_time": "2022-04-16T04:30:16.498410",
     "status": "completed"
    },
    "tags": []
   },
   "outputs": [
    {
     "data": {
      "text/plain": [
       "418"
      ]
     },
     "execution_count": 60,
     "metadata": {},
     "output_type": "execute_result"
    }
   ],
   "source": [
    "preds = predictWhole(test_ds_raw, tabmodel)\n",
    "len(preds)"
   ]
  },
  {
   "cell_type": "code",
   "execution_count": 61,
   "id": "45dbaeb4",
   "metadata": {
    "execution": {
     "iopub.execute_input": "2022-04-16T04:30:16.795799Z",
     "iopub.status.busy": "2022-04-16T04:30:16.795285Z",
     "iopub.status.idle": "2022-04-16T04:30:16.799518Z",
     "shell.execute_reply": "2022-04-16T04:30:16.798940Z"
    },
    "id": "Ol7VwkHuLgFS",
    "papermill": {
     "duration": 0.095285,
     "end_time": "2022-04-16T04:30:16.801247",
     "exception": false,
     "start_time": "2022-04-16T04:30:16.705962",
     "status": "completed"
    },
    "tags": []
   },
   "outputs": [],
   "source": [
    "result = pd.DataFrame({'PassengerId': df_test_pi, 'Survived': preds})"
   ]
  },
  {
   "cell_type": "code",
   "execution_count": 62,
   "id": "3ab0e675",
   "metadata": {
    "execution": {
     "iopub.execute_input": "2022-04-16T04:30:16.973842Z",
     "iopub.status.busy": "2022-04-16T04:30:16.973333Z",
     "iopub.status.idle": "2022-04-16T04:30:16.980705Z",
     "shell.execute_reply": "2022-04-16T04:30:16.980058Z"
    },
    "id": "nZ36hM3iL4Ku",
    "papermill": {
     "duration": 0.095859,
     "end_time": "2022-04-16T04:30:16.982735",
     "exception": false,
     "start_time": "2022-04-16T04:30:16.886876",
     "status": "completed"
    },
    "tags": []
   },
   "outputs": [],
   "source": [
    "result.to_csv('submission.csv', index=False)"
   ]
  },
  {
   "cell_type": "code",
   "execution_count": null,
   "id": "6419d66d",
   "metadata": {
    "id": "ZXGUSbcaNLJc",
    "papermill": {
     "duration": 0.085539,
     "end_time": "2022-04-16T04:30:17.154918",
     "exception": false,
     "start_time": "2022-04-16T04:30:17.069379",
     "status": "completed"
    },
    "tags": []
   },
   "outputs": [],
   "source": []
  }
 ],
 "metadata": {
  "kernelspec": {
   "display_name": "Python 3",
   "language": "python",
   "name": "python3"
  },
  "language_info": {
   "codemirror_mode": {
    "name": "ipython",
    "version": 3
   },
   "file_extension": ".py",
   "mimetype": "text/x-python",
   "name": "python",
   "nbconvert_exporter": "python",
   "pygments_lexer": "ipython3",
   "version": "3.7.12"
  },
  "papermill": {
   "default_parameters": {},
   "duration": 65.563051,
   "end_time": "2022-04-16T04:30:18.161958",
   "environment_variables": {},
   "exception": null,
   "input_path": "__notebook__.ipynb",
   "output_path": "__notebook__.ipynb",
   "parameters": {},
   "start_time": "2022-04-16T04:29:12.598907",
   "version": "2.3.4"
  }
 },
 "nbformat": 4,
 "nbformat_minor": 5
}
