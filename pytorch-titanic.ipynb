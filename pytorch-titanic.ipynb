{
 "cells": [
  {
   "cell_type": "markdown",
   "id": "b8c76e87",
   "metadata": {
    "id": "view-in-github",
    "papermill": {
     "duration": 0.088674,
     "end_time": "2022-04-16T07:57:15.153153",
     "exception": false,
     "start_time": "2022-04-16T07:57:15.064479",
     "status": "completed"
    },
    "tags": []
   },
   "source": [
    "<a href=\"https://colab.research.google.com/github/Puurun/fastai_code_example/blob/main/Pytorch_Titanic.ipynb\" target=\"_parent\"><img src=\"https://colab.research.google.com/assets/colab-badge.svg\" alt=\"Open In Colab\"/></a>"
   ]
  },
  {
   "cell_type": "code",
   "execution_count": null,
   "id": "c463bf13",
   "metadata": {
    "id": "SCI89IkiejzG",
    "outputId": "c8596ff0-5f2b-4bab-99dd-0d0b181f6795",
    "papermill": {
     "duration": 0.08985,
     "end_time": "2022-04-16T07:57:15.331253",
     "exception": false,
     "start_time": "2022-04-16T07:57:15.241403",
     "status": "completed"
    },
    "tags": []
   },
   "outputs": [],
   "source": []
  },
  {
   "cell_type": "code",
   "execution_count": 1,
   "id": "7782965f",
   "metadata": {
    "execution": {
     "iopub.execute_input": "2022-04-16T07:57:15.518038Z",
     "iopub.status.busy": "2022-04-16T07:57:15.517620Z",
     "iopub.status.idle": "2022-04-16T07:57:30.120407Z",
     "shell.execute_reply": "2022-04-16T07:57:30.119452Z"
    },
    "id": "-ltAnZP3QBy3",
    "outputId": "5be66168-fe3d-46c9-99f8-2d5496bc6f56",
    "papermill": {
     "duration": 14.699804,
     "end_time": "2022-04-16T07:57:30.123080",
     "exception": false,
     "start_time": "2022-04-16T07:57:15.423276",
     "status": "completed"
    },
    "tags": []
   },
   "outputs": [
    {
     "name": "stdout",
     "output_type": "stream",
     "text": [
      "Collecting impyute\r\n",
      "  Downloading impyute-0.0.8-py2.py3-none-any.whl (31 kB)\r\n",
      "Requirement already satisfied: numpy in /opt/conda/lib/python3.7/site-packages (from impyute) (1.21.5)\r\n",
      "Requirement already satisfied: scipy in /opt/conda/lib/python3.7/site-packages (from impyute) (1.7.3)\r\n",
      "Requirement already satisfied: scikit-learn in /opt/conda/lib/python3.7/site-packages (from impyute) (1.0.2)\r\n",
      "Requirement already satisfied: joblib>=0.11 in /opt/conda/lib/python3.7/site-packages (from scikit-learn->impyute) (1.0.1)\r\n",
      "Requirement already satisfied: threadpoolctl>=2.0.0 in /opt/conda/lib/python3.7/site-packages (from scikit-learn->impyute) (3.1.0)\r\n",
      "Installing collected packages: impyute\r\n",
      "Successfully installed impyute-0.0.8\r\n",
      "\u001b[33mWARNING: Running pip as the 'root' user can result in broken permissions and conflicting behaviour with the system package manager. It is recommended to use a virtual environment instead: https://pip.pypa.io/warnings/venv\u001b[0m\u001b[33m\r\n",
      "\u001b[0m"
     ]
    }
   ],
   "source": [
    "!pip install impyute"
   ]
  },
  {
   "cell_type": "code",
   "execution_count": 2,
   "id": "5e187fab",
   "metadata": {
    "execution": {
     "iopub.execute_input": "2022-04-16T07:57:30.314637Z",
     "iopub.status.busy": "2022-04-16T07:57:30.314286Z",
     "iopub.status.idle": "2022-04-16T07:57:56.105609Z",
     "shell.execute_reply": "2022-04-16T07:57:56.104803Z"
    },
    "id": "h0xhi6k4bUXN",
    "outputId": "4506c3ee-d33e-4811-8dae-0838b19615cc",
    "papermill": {
     "duration": 25.893117,
     "end_time": "2022-04-16T07:57:56.108176",
     "exception": false,
     "start_time": "2022-04-16T07:57:30.215059",
     "status": "completed"
    },
    "tags": []
   },
   "outputs": [
    {
     "name": "stdout",
     "output_type": "stream",
     "text": [
      "\u001b[31mERROR: pip's dependency resolver does not currently take into account all the packages that are installed. This behaviour is the source of the following dependency conflicts.\r\n",
      "tensorflow-io 0.21.0 requires tensorflow-io-gcs-filesystem==0.21.0, which is not installed.\r\n",
      "tensorflow 2.6.3 requires absl-py~=0.10, but you have absl-py 1.0.0 which is incompatible.\r\n",
      "tensorflow 2.6.3 requires numpy~=1.19.2, but you have numpy 1.21.5 which is incompatible.\r\n",
      "tensorflow 2.6.3 requires six~=1.15.0, but you have six 1.16.0 which is incompatible.\r\n",
      "tensorflow 2.6.3 requires wrapt~=1.12.1, but you have wrapt 1.14.0 which is incompatible.\r\n",
      "tensorflow-transform 1.7.0 requires pyarrow<6,>=1, but you have pyarrow 7.0.0 which is incompatible.\r\n",
      "tensorflow-transform 1.7.0 requires tensorflow!=2.0.*,!=2.1.*,!=2.2.*,!=2.3.*,!=2.4.*,!=2.5.*,!=2.6.*,!=2.7.*,<2.9,>=1.15.5, but you have tensorflow 2.6.3 which is incompatible.\r\n",
      "tensorflow-serving-api 2.8.0 requires tensorflow<3,>=2.8.0, but you have tensorflow 2.6.3 which is incompatible.\r\n",
      "rich 12.2.0 requires typing-extensions<5.0,>=4.0.0; python_version < \"3.9\", but you have typing-extensions 3.10.0.2 which is incompatible.\r\n",
      "pytorch-lightning 1.6.0 requires typing-extensions>=4.0.0, but you have typing-extensions 3.10.0.2 which is incompatible.\r\n",
      "flake8 4.0.1 requires importlib-metadata<4.3; python_version < \"3.8\", but you have importlib-metadata 4.11.3 which is incompatible.\r\n",
      "apache-beam 2.37.0 requires dill<0.3.2,>=0.3.1.1, but you have dill 0.3.4 which is incompatible.\r\n",
      "apache-beam 2.37.0 requires httplib2<0.20.0,>=0.8, but you have httplib2 0.20.4 which is incompatible.\r\n",
      "apache-beam 2.37.0 requires pyarrow<7.0.0,>=0.15.1, but you have pyarrow 7.0.0 which is incompatible.\r\n",
      "aioitertools 0.10.0 requires typing_extensions>=4.0; python_version < \"3.10\", but you have typing-extensions 3.10.0.2 which is incompatible.\r\n",
      "aiobotocore 2.2.0 requires botocore<1.24.22,>=1.24.21, but you have botocore 1.24.38 which is incompatible.\u001b[0m\u001b[31m\r\n",
      "\u001b[0m"
     ]
    }
   ],
   "source": [
    "!pip install fastai -Uqq"
   ]
  },
  {
   "cell_type": "code",
   "execution_count": 3,
   "id": "6a7d91e2",
   "metadata": {
    "execution": {
     "iopub.execute_input": "2022-04-16T07:57:56.288793Z",
     "iopub.status.busy": "2022-04-16T07:57:56.288459Z",
     "iopub.status.idle": "2022-04-16T07:57:56.292711Z",
     "shell.execute_reply": "2022-04-16T07:57:56.291853Z"
    },
    "id": "TNgP1SUQd-sh",
    "papermill": {
     "duration": 0.097013,
     "end_time": "2022-04-16T07:57:56.294791",
     "exception": false,
     "start_time": "2022-04-16T07:57:56.197778",
     "status": "completed"
    },
    "tags": []
   },
   "outputs": [],
   "source": [
    "gpu = False\n",
    "device = 'cuda' if gpu else 'cpu'"
   ]
  },
  {
   "cell_type": "code",
   "execution_count": 4,
   "id": "bdd5d304",
   "metadata": {
    "execution": {
     "iopub.execute_input": "2022-04-16T07:57:56.482047Z",
     "iopub.status.busy": "2022-04-16T07:57:56.481740Z",
     "iopub.status.idle": "2022-04-16T07:57:57.791389Z",
     "shell.execute_reply": "2022-04-16T07:57:57.790416Z"
    },
    "id": "JYxhj_fHeOwx",
    "papermill": {
     "duration": 1.406975,
     "end_time": "2022-04-16T07:57:57.793989",
     "exception": false,
     "start_time": "2022-04-16T07:57:56.387014",
     "status": "completed"
    },
    "tags": []
   },
   "outputs": [],
   "source": [
    "import pandas as pd\n",
    "import numpy as np\n",
    "import seaborn as sns\n",
    "import matplotlib.pyplot as plt\n",
    "import impyute as im\n",
    "import sys\n",
    "from impyute.imputation.cs import fast_knn\n",
    "from sklearn.preprocessing import OrdinalEncoder"
   ]
  },
  {
   "cell_type": "code",
   "execution_count": 5,
   "id": "5f6998e3",
   "metadata": {
    "execution": {
     "iopub.execute_input": "2022-04-16T07:57:57.979081Z",
     "iopub.status.busy": "2022-04-16T07:57:57.978573Z",
     "iopub.status.idle": "2022-04-16T07:57:58.013395Z",
     "shell.execute_reply": "2022-04-16T07:57:58.012474Z"
    },
    "id": "ZkXCpX_cedrB",
    "papermill": {
     "duration": 0.13059,
     "end_time": "2022-04-16T07:57:58.016023",
     "exception": false,
     "start_time": "2022-04-16T07:57:57.885433",
     "status": "completed"
    },
    "tags": []
   },
   "outputs": [],
   "source": [
    "df = pd.read_csv('../input/titanic/train.csv')\n",
    "df_test = pd.read_csv('../input/titanic/test.csv')"
   ]
  },
  {
   "cell_type": "code",
   "execution_count": 6,
   "id": "26b259d3",
   "metadata": {
    "execution": {
     "iopub.execute_input": "2022-04-16T07:57:58.202750Z",
     "iopub.status.busy": "2022-04-16T07:57:58.202236Z",
     "iopub.status.idle": "2022-04-16T07:57:58.209565Z",
     "shell.execute_reply": "2022-04-16T07:57:58.208926Z"
    },
    "id": "Ebfuhs5-eu87",
    "outputId": "13da6f35-ff67-448e-a73b-0c9449bb3e2e",
    "papermill": {
     "duration": 0.101358,
     "end_time": "2022-04-16T07:57:58.211527",
     "exception": false,
     "start_time": "2022-04-16T07:57:58.110169",
     "status": "completed"
    },
    "tags": []
   },
   "outputs": [
    {
     "data": {
      "text/plain": [
       "array(['PassengerId', 'Survived', 'Pclass', 'Name', 'Sex', 'Age', 'SibSp',\n",
       "       'Parch', 'Ticket', 'Fare', 'Cabin', 'Embarked'], dtype=object)"
      ]
     },
     "execution_count": 6,
     "metadata": {},
     "output_type": "execute_result"
    }
   ],
   "source": [
    "df.columns.values"
   ]
  },
  {
   "cell_type": "code",
   "execution_count": null,
   "id": "82dca692",
   "metadata": {
    "papermill": {
     "duration": 0.122134,
     "end_time": "2022-04-16T07:57:58.424781",
     "exception": false,
     "start_time": "2022-04-16T07:57:58.302647",
     "status": "completed"
    },
    "tags": []
   },
   "outputs": [],
   "source": []
  },
  {
   "cell_type": "code",
   "execution_count": null,
   "id": "feeceb69",
   "metadata": {
    "papermill": {
     "duration": 0.090413,
     "end_time": "2022-04-16T07:57:58.612925",
     "exception": false,
     "start_time": "2022-04-16T07:57:58.522512",
     "status": "completed"
    },
    "tags": []
   },
   "outputs": [],
   "source": []
  },
  {
   "cell_type": "code",
   "execution_count": 7,
   "id": "eb9cbf5d",
   "metadata": {
    "execution": {
     "iopub.execute_input": "2022-04-16T07:57:58.799440Z",
     "iopub.status.busy": "2022-04-16T07:57:58.798658Z",
     "iopub.status.idle": "2022-04-16T07:57:58.803559Z",
     "shell.execute_reply": "2022-04-16T07:57:58.802903Z"
    },
    "id": "RmyHWYzXe4EJ",
    "papermill": {
     "duration": 0.101115,
     "end_time": "2022-04-16T07:57:58.805678",
     "exception": false,
     "start_time": "2022-04-16T07:57:58.704563",
     "status": "completed"
    },
    "tags": []
   },
   "outputs": [],
   "source": [
    "dep_var = ['Survived']\n",
    "cat_var = ['Sex', 'Embarked']\n",
    "ord_var = ['Pclass']\n",
    "cont_var = ['Age', 'Fare']\n",
    "desc_var = ['SibSp', 'Parch']"
   ]
  },
  {
   "cell_type": "code",
   "execution_count": 8,
   "id": "bbe65bb8",
   "metadata": {
    "execution": {
     "iopub.execute_input": "2022-04-16T07:57:58.991807Z",
     "iopub.status.busy": "2022-04-16T07:57:58.991375Z",
     "iopub.status.idle": "2022-04-16T07:57:59.019033Z",
     "shell.execute_reply": "2022-04-16T07:57:59.018372Z"
    },
    "id": "OOwkYfTuoCDo",
    "papermill": {
     "duration": 0.122345,
     "end_time": "2022-04-16T07:57:59.021364",
     "exception": false,
     "start_time": "2022-04-16T07:57:58.899019",
     "status": "completed"
    },
    "tags": []
   },
   "outputs": [],
   "source": [
    "combine = [df, df_test]\n",
    "for dataset in combine:\n",
    "    dataset[cat_var+ord_var] = dataset[cat_var+ord_var].astype('category')\n",
    "    dataset['Pclass'] = dataset['Pclass'].cat.set_categories([1, 2, 3], ordered=True)"
   ]
  },
  {
   "cell_type": "code",
   "execution_count": 9,
   "id": "9e2b8eec",
   "metadata": {
    "execution": {
     "iopub.execute_input": "2022-04-16T07:57:59.205641Z",
     "iopub.status.busy": "2022-04-16T07:57:59.205354Z",
     "iopub.status.idle": "2022-04-16T07:57:59.213903Z",
     "shell.execute_reply": "2022-04-16T07:57:59.212904Z"
    },
    "id": "reaPqaUmfn2G",
    "outputId": "d2fc0f49-98c2-4759-9c4b-287b1a22475e",
    "papermill": {
     "duration": 0.104442,
     "end_time": "2022-04-16T07:57:59.216159",
     "exception": false,
     "start_time": "2022-04-16T07:57:59.111717",
     "status": "completed"
    },
    "tags": []
   },
   "outputs": [
    {
     "data": {
      "text/plain": [
       "PassengerId       int64\n",
       "Survived          int64\n",
       "Pclass         category\n",
       "Name             object\n",
       "Sex            category\n",
       "Age             float64\n",
       "SibSp             int64\n",
       "Parch             int64\n",
       "Ticket           object\n",
       "Fare            float64\n",
       "Cabin            object\n",
       "Embarked       category\n",
       "dtype: object"
      ]
     },
     "execution_count": 9,
     "metadata": {},
     "output_type": "execute_result"
    }
   ],
   "source": [
    "df.dtypes"
   ]
  },
  {
   "cell_type": "code",
   "execution_count": 10,
   "id": "6a26f611",
   "metadata": {
    "execution": {
     "iopub.execute_input": "2022-04-16T07:57:59.402197Z",
     "iopub.status.busy": "2022-04-16T07:57:59.401908Z",
     "iopub.status.idle": "2022-04-16T07:57:59.418583Z",
     "shell.execute_reply": "2022-04-16T07:57:59.417724Z"
    },
    "id": "SqiH0pOrfob-",
    "outputId": "5e1d6efe-0e0a-45d5-90fb-240e5fb6daef",
    "papermill": {
     "duration": 0.112283,
     "end_time": "2022-04-16T07:57:59.420789",
     "exception": false,
     "start_time": "2022-04-16T07:57:59.308506",
     "status": "completed"
    },
    "tags": []
   },
   "outputs": [
    {
     "data": {
      "text/plain": [
       "Cabin          0.771044\n",
       "Age            0.198653\n",
       "Embarked       0.002245\n",
       "PassengerId    0.000000\n",
       "Survived       0.000000\n",
       "Pclass         0.000000\n",
       "Name           0.000000\n",
       "Sex            0.000000\n",
       "SibSp          0.000000\n",
       "Parch          0.000000\n",
       "Ticket         0.000000\n",
       "Fare           0.000000\n",
       "dtype: float64"
      ]
     },
     "execution_count": 10,
     "metadata": {},
     "output_type": "execute_result"
    }
   ],
   "source": [
    "null_check = (df.isnull().sum()/ df.isnull().count()).sort_values(ascending=False)\n",
    "null_check"
   ]
  },
  {
   "cell_type": "code",
   "execution_count": 11,
   "id": "9bb41157",
   "metadata": {
    "execution": {
     "iopub.execute_input": "2022-04-16T07:57:59.605623Z",
     "iopub.status.busy": "2022-04-16T07:57:59.605018Z",
     "iopub.status.idle": "2022-04-16T07:57:59.634394Z",
     "shell.execute_reply": "2022-04-16T07:57:59.633194Z"
    },
    "id": "VGzez6fnf2Qn",
    "outputId": "8ec2ead3-f2c2-4fc0-bd15-0b2e2305601a",
    "papermill": {
     "duration": 0.127351,
     "end_time": "2022-04-16T07:57:59.638305",
     "exception": false,
     "start_time": "2022-04-16T07:57:59.510954",
     "status": "completed"
    },
    "tags": []
   },
   "outputs": [
    {
     "name": "stdout",
     "output_type": "stream",
     "text": [
      "<class 'pandas.core.frame.DataFrame'>\n",
      "RangeIndex: 891 entries, 0 to 890\n",
      "Data columns (total 12 columns):\n",
      " #   Column       Non-Null Count  Dtype   \n",
      "---  ------       --------------  -----   \n",
      " 0   PassengerId  891 non-null    int64   \n",
      " 1   Survived     891 non-null    int64   \n",
      " 2   Pclass       891 non-null    category\n",
      " 3   Name         891 non-null    object  \n",
      " 4   Sex          891 non-null    category\n",
      " 5   Age          714 non-null    float64 \n",
      " 6   SibSp        891 non-null    int64   \n",
      " 7   Parch        891 non-null    int64   \n",
      " 8   Ticket       891 non-null    object  \n",
      " 9   Fare         891 non-null    float64 \n",
      " 10  Cabin        204 non-null    object  \n",
      " 11  Embarked     889 non-null    category\n",
      "dtypes: category(3), float64(2), int64(4), object(3)\n",
      "memory usage: 65.8+ KB\n",
      "****************************************\n",
      "<class 'pandas.core.frame.DataFrame'>\n",
      "RangeIndex: 418 entries, 0 to 417\n",
      "Data columns (total 11 columns):\n",
      " #   Column       Non-Null Count  Dtype   \n",
      "---  ------       --------------  -----   \n",
      " 0   PassengerId  418 non-null    int64   \n",
      " 1   Pclass       418 non-null    category\n",
      " 2   Name         418 non-null    object  \n",
      " 3   Sex          418 non-null    category\n",
      " 4   Age          332 non-null    float64 \n",
      " 5   SibSp        418 non-null    int64   \n",
      " 6   Parch        418 non-null    int64   \n",
      " 7   Ticket       418 non-null    object  \n",
      " 8   Fare         417 non-null    float64 \n",
      " 9   Cabin        91 non-null     object  \n",
      " 10  Embarked     418 non-null    category\n",
      "dtypes: category(3), float64(2), int64(3), object(3)\n",
      "memory usage: 27.9+ KB\n"
     ]
    }
   ],
   "source": [
    "df.info()\n",
    "print('*'*40)\n",
    "df_test.info()"
   ]
  },
  {
   "cell_type": "code",
   "execution_count": 12,
   "id": "fc399a7f",
   "metadata": {
    "execution": {
     "iopub.execute_input": "2022-04-16T07:57:59.849873Z",
     "iopub.status.busy": "2022-04-16T07:57:59.848704Z",
     "iopub.status.idle": "2022-04-16T07:57:59.900404Z",
     "shell.execute_reply": "2022-04-16T07:57:59.899541Z"
    },
    "id": "hkD9m0ZQgsX-",
    "outputId": "2820baaf-d9fb-4648-8381-767b7a8fee64",
    "papermill": {
     "duration": 0.162271,
     "end_time": "2022-04-16T07:57:59.902874",
     "exception": false,
     "start_time": "2022-04-16T07:57:59.740603",
     "status": "completed"
    },
    "tags": []
   },
   "outputs": [
    {
     "data": {
      "text/html": [
       "<div>\n",
       "<style scoped>\n",
       "    .dataframe tbody tr th:only-of-type {\n",
       "        vertical-align: middle;\n",
       "    }\n",
       "\n",
       "    .dataframe tbody tr th {\n",
       "        vertical-align: top;\n",
       "    }\n",
       "\n",
       "    .dataframe thead th {\n",
       "        text-align: right;\n",
       "    }\n",
       "</style>\n",
       "<table border=\"1\" class=\"dataframe\">\n",
       "  <thead>\n",
       "    <tr style=\"text-align: right;\">\n",
       "      <th></th>\n",
       "      <th>PassengerId</th>\n",
       "      <th>Survived</th>\n",
       "      <th>Age</th>\n",
       "      <th>SibSp</th>\n",
       "      <th>Parch</th>\n",
       "      <th>Fare</th>\n",
       "    </tr>\n",
       "  </thead>\n",
       "  <tbody>\n",
       "    <tr>\n",
       "      <th>count</th>\n",
       "      <td>891.000000</td>\n",
       "      <td>891.000000</td>\n",
       "      <td>714.000000</td>\n",
       "      <td>891.000000</td>\n",
       "      <td>891.000000</td>\n",
       "      <td>891.000000</td>\n",
       "    </tr>\n",
       "    <tr>\n",
       "      <th>mean</th>\n",
       "      <td>446.000000</td>\n",
       "      <td>0.383838</td>\n",
       "      <td>29.699118</td>\n",
       "      <td>0.523008</td>\n",
       "      <td>0.381594</td>\n",
       "      <td>32.204208</td>\n",
       "    </tr>\n",
       "    <tr>\n",
       "      <th>std</th>\n",
       "      <td>257.353842</td>\n",
       "      <td>0.486592</td>\n",
       "      <td>14.526497</td>\n",
       "      <td>1.102743</td>\n",
       "      <td>0.806057</td>\n",
       "      <td>49.693429</td>\n",
       "    </tr>\n",
       "    <tr>\n",
       "      <th>min</th>\n",
       "      <td>1.000000</td>\n",
       "      <td>0.000000</td>\n",
       "      <td>0.420000</td>\n",
       "      <td>0.000000</td>\n",
       "      <td>0.000000</td>\n",
       "      <td>0.000000</td>\n",
       "    </tr>\n",
       "    <tr>\n",
       "      <th>25%</th>\n",
       "      <td>223.500000</td>\n",
       "      <td>0.000000</td>\n",
       "      <td>20.125000</td>\n",
       "      <td>0.000000</td>\n",
       "      <td>0.000000</td>\n",
       "      <td>7.910400</td>\n",
       "    </tr>\n",
       "    <tr>\n",
       "      <th>50%</th>\n",
       "      <td>446.000000</td>\n",
       "      <td>0.000000</td>\n",
       "      <td>28.000000</td>\n",
       "      <td>0.000000</td>\n",
       "      <td>0.000000</td>\n",
       "      <td>14.454200</td>\n",
       "    </tr>\n",
       "    <tr>\n",
       "      <th>75%</th>\n",
       "      <td>668.500000</td>\n",
       "      <td>1.000000</td>\n",
       "      <td>38.000000</td>\n",
       "      <td>1.000000</td>\n",
       "      <td>0.000000</td>\n",
       "      <td>31.000000</td>\n",
       "    </tr>\n",
       "    <tr>\n",
       "      <th>max</th>\n",
       "      <td>891.000000</td>\n",
       "      <td>1.000000</td>\n",
       "      <td>80.000000</td>\n",
       "      <td>8.000000</td>\n",
       "      <td>6.000000</td>\n",
       "      <td>512.329200</td>\n",
       "    </tr>\n",
       "  </tbody>\n",
       "</table>\n",
       "</div>"
      ],
      "text/plain": [
       "       PassengerId    Survived         Age       SibSp       Parch        Fare\n",
       "count   891.000000  891.000000  714.000000  891.000000  891.000000  891.000000\n",
       "mean    446.000000    0.383838   29.699118    0.523008    0.381594   32.204208\n",
       "std     257.353842    0.486592   14.526497    1.102743    0.806057   49.693429\n",
       "min       1.000000    0.000000    0.420000    0.000000    0.000000    0.000000\n",
       "25%     223.500000    0.000000   20.125000    0.000000    0.000000    7.910400\n",
       "50%     446.000000    0.000000   28.000000    0.000000    0.000000   14.454200\n",
       "75%     668.500000    1.000000   38.000000    1.000000    0.000000   31.000000\n",
       "max     891.000000    1.000000   80.000000    8.000000    6.000000  512.329200"
      ]
     },
     "execution_count": 12,
     "metadata": {},
     "output_type": "execute_result"
    }
   ],
   "source": [
    "df.describe()"
   ]
  },
  {
   "cell_type": "code",
   "execution_count": 13,
   "id": "7d652154",
   "metadata": {
    "execution": {
     "iopub.execute_input": "2022-04-16T07:58:00.108740Z",
     "iopub.status.busy": "2022-04-16T07:58:00.107779Z",
     "iopub.status.idle": "2022-04-16T07:58:00.126674Z",
     "shell.execute_reply": "2022-04-16T07:58:00.125145Z"
    },
    "id": "laMZG81ghSrn",
    "outputId": "8a784e5c-4885-4dfd-e05e-1d65d61b9dea",
    "papermill": {
     "duration": 0.122292,
     "end_time": "2022-04-16T07:58:00.129790",
     "exception": false,
     "start_time": "2022-04-16T07:58:00.007498",
     "status": "completed"
    },
    "tags": []
   },
   "outputs": [
    {
     "data": {
      "text/html": [
       "<div>\n",
       "<style scoped>\n",
       "    .dataframe tbody tr th:only-of-type {\n",
       "        vertical-align: middle;\n",
       "    }\n",
       "\n",
       "    .dataframe tbody tr th {\n",
       "        vertical-align: top;\n",
       "    }\n",
       "\n",
       "    .dataframe thead th {\n",
       "        text-align: right;\n",
       "    }\n",
       "</style>\n",
       "<table border=\"1\" class=\"dataframe\">\n",
       "  <thead>\n",
       "    <tr style=\"text-align: right;\">\n",
       "      <th></th>\n",
       "      <th>Name</th>\n",
       "      <th>Ticket</th>\n",
       "      <th>Cabin</th>\n",
       "    </tr>\n",
       "  </thead>\n",
       "  <tbody>\n",
       "    <tr>\n",
       "      <th>count</th>\n",
       "      <td>891</td>\n",
       "      <td>891</td>\n",
       "      <td>204</td>\n",
       "    </tr>\n",
       "    <tr>\n",
       "      <th>unique</th>\n",
       "      <td>891</td>\n",
       "      <td>681</td>\n",
       "      <td>147</td>\n",
       "    </tr>\n",
       "    <tr>\n",
       "      <th>top</th>\n",
       "      <td>Braund, Mr. Owen Harris</td>\n",
       "      <td>347082</td>\n",
       "      <td>B96 B98</td>\n",
       "    </tr>\n",
       "    <tr>\n",
       "      <th>freq</th>\n",
       "      <td>1</td>\n",
       "      <td>7</td>\n",
       "      <td>4</td>\n",
       "    </tr>\n",
       "  </tbody>\n",
       "</table>\n",
       "</div>"
      ],
      "text/plain": [
       "                           Name  Ticket    Cabin\n",
       "count                       891     891      204\n",
       "unique                      891     681      147\n",
       "top     Braund, Mr. Owen Harris  347082  B96 B98\n",
       "freq                          1       7        4"
      ]
     },
     "execution_count": 13,
     "metadata": {},
     "output_type": "execute_result"
    }
   ],
   "source": [
    "df.describe(include=['O'])"
   ]
  },
  {
   "cell_type": "code",
   "execution_count": 14,
   "id": "901446a3",
   "metadata": {
    "execution": {
     "iopub.execute_input": "2022-04-16T07:58:00.345571Z",
     "iopub.status.busy": "2022-04-16T07:58:00.344716Z",
     "iopub.status.idle": "2022-04-16T07:58:00.367988Z",
     "shell.execute_reply": "2022-04-16T07:58:00.367116Z"
    },
    "id": "o-dObXW5hoG4",
    "papermill": {
     "duration": 0.127257,
     "end_time": "2022-04-16T07:58:00.371265",
     "exception": false,
     "start_time": "2022-04-16T07:58:00.244008",
     "status": "completed"
    },
    "tags": []
   },
   "outputs": [],
   "source": [
    "# analyze by pivoting features\n",
    "features_to_analyze = ['Pclass', 'SibSp', 'Parch', 'Sex']\n",
    "pivot_analyzation = {\n",
    "    feature: \n",
    "    df[[feature, 'Survived']].groupby(by=[feature], as_index=False).mean().sort_values(by=\"Survived\", ascending=False)\n",
    "    for feature in features_to_analyze\n",
    "}"
   ]
  },
  {
   "cell_type": "code",
   "execution_count": 15,
   "id": "e3e122cf",
   "metadata": {
    "execution": {
     "iopub.execute_input": "2022-04-16T07:58:00.572656Z",
     "iopub.status.busy": "2022-04-16T07:58:00.571960Z",
     "iopub.status.idle": "2022-04-16T07:58:00.584566Z",
     "shell.execute_reply": "2022-04-16T07:58:00.583570Z"
    },
    "id": "gf1yZKlknYg5",
    "outputId": "e2b7d94e-3993-42dd-8144-7b33f5cf9a14",
    "papermill": {
     "duration": 0.114783,
     "end_time": "2022-04-16T07:58:00.587096",
     "exception": false,
     "start_time": "2022-04-16T07:58:00.472313",
     "status": "completed"
    },
    "tags": []
   },
   "outputs": [
    {
     "data": {
      "text/html": [
       "<div>\n",
       "<style scoped>\n",
       "    .dataframe tbody tr th:only-of-type {\n",
       "        vertical-align: middle;\n",
       "    }\n",
       "\n",
       "    .dataframe tbody tr th {\n",
       "        vertical-align: top;\n",
       "    }\n",
       "\n",
       "    .dataframe thead th {\n",
       "        text-align: right;\n",
       "    }\n",
       "</style>\n",
       "<table border=\"1\" class=\"dataframe\">\n",
       "  <thead>\n",
       "    <tr style=\"text-align: right;\">\n",
       "      <th></th>\n",
       "      <th>Pclass</th>\n",
       "      <th>Survived</th>\n",
       "    </tr>\n",
       "  </thead>\n",
       "  <tbody>\n",
       "    <tr>\n",
       "      <th>0</th>\n",
       "      <td>1</td>\n",
       "      <td>0.629630</td>\n",
       "    </tr>\n",
       "    <tr>\n",
       "      <th>1</th>\n",
       "      <td>2</td>\n",
       "      <td>0.472826</td>\n",
       "    </tr>\n",
       "    <tr>\n",
       "      <th>2</th>\n",
       "      <td>3</td>\n",
       "      <td>0.242363</td>\n",
       "    </tr>\n",
       "  </tbody>\n",
       "</table>\n",
       "</div>"
      ],
      "text/plain": [
       "  Pclass  Survived\n",
       "0      1  0.629630\n",
       "1      2  0.472826\n",
       "2      3  0.242363"
      ]
     },
     "execution_count": 15,
     "metadata": {},
     "output_type": "execute_result"
    }
   ],
   "source": [
    "pivot_analyzation['Pclass']"
   ]
  },
  {
   "cell_type": "code",
   "execution_count": 16,
   "id": "b7f115f8",
   "metadata": {
    "execution": {
     "iopub.execute_input": "2022-04-16T07:58:00.778789Z",
     "iopub.status.busy": "2022-04-16T07:58:00.778513Z",
     "iopub.status.idle": "2022-04-16T07:58:00.788077Z",
     "shell.execute_reply": "2022-04-16T07:58:00.787348Z"
    },
    "id": "tpunEm9lqUQx",
    "outputId": "ef38b2ec-6d29-4e6c-9e2f-0ff7a2e5a2b0",
    "papermill": {
     "duration": 0.107404,
     "end_time": "2022-04-16T07:58:00.790024",
     "exception": false,
     "start_time": "2022-04-16T07:58:00.682620",
     "status": "completed"
    },
    "tags": []
   },
   "outputs": [
    {
     "data": {
      "text/html": [
       "<div>\n",
       "<style scoped>\n",
       "    .dataframe tbody tr th:only-of-type {\n",
       "        vertical-align: middle;\n",
       "    }\n",
       "\n",
       "    .dataframe tbody tr th {\n",
       "        vertical-align: top;\n",
       "    }\n",
       "\n",
       "    .dataframe thead th {\n",
       "        text-align: right;\n",
       "    }\n",
       "</style>\n",
       "<table border=\"1\" class=\"dataframe\">\n",
       "  <thead>\n",
       "    <tr style=\"text-align: right;\">\n",
       "      <th></th>\n",
       "      <th>Sex</th>\n",
       "      <th>Survived</th>\n",
       "    </tr>\n",
       "  </thead>\n",
       "  <tbody>\n",
       "    <tr>\n",
       "      <th>0</th>\n",
       "      <td>female</td>\n",
       "      <td>0.742038</td>\n",
       "    </tr>\n",
       "    <tr>\n",
       "      <th>1</th>\n",
       "      <td>male</td>\n",
       "      <td>0.188908</td>\n",
       "    </tr>\n",
       "  </tbody>\n",
       "</table>\n",
       "</div>"
      ],
      "text/plain": [
       "      Sex  Survived\n",
       "0  female  0.742038\n",
       "1    male  0.188908"
      ]
     },
     "execution_count": 16,
     "metadata": {},
     "output_type": "execute_result"
    }
   ],
   "source": [
    "pivot_analyzation['Sex']"
   ]
  },
  {
   "cell_type": "code",
   "execution_count": 17,
   "id": "7ad262bc",
   "metadata": {
    "execution": {
     "iopub.execute_input": "2022-04-16T07:58:00.984150Z",
     "iopub.status.busy": "2022-04-16T07:58:00.983106Z",
     "iopub.status.idle": "2022-04-16T07:58:00.993100Z",
     "shell.execute_reply": "2022-04-16T07:58:00.992375Z"
    },
    "id": "241vk8uuqVpB",
    "outputId": "bbd52dc0-574e-44ce-efd8-d98f78847f81",
    "papermill": {
     "duration": 0.10847,
     "end_time": "2022-04-16T07:58:00.995453",
     "exception": false,
     "start_time": "2022-04-16T07:58:00.886983",
     "status": "completed"
    },
    "tags": []
   },
   "outputs": [
    {
     "data": {
      "text/html": [
       "<div>\n",
       "<style scoped>\n",
       "    .dataframe tbody tr th:only-of-type {\n",
       "        vertical-align: middle;\n",
       "    }\n",
       "\n",
       "    .dataframe tbody tr th {\n",
       "        vertical-align: top;\n",
       "    }\n",
       "\n",
       "    .dataframe thead th {\n",
       "        text-align: right;\n",
       "    }\n",
       "</style>\n",
       "<table border=\"1\" class=\"dataframe\">\n",
       "  <thead>\n",
       "    <tr style=\"text-align: right;\">\n",
       "      <th></th>\n",
       "      <th>SibSp</th>\n",
       "      <th>Survived</th>\n",
       "    </tr>\n",
       "  </thead>\n",
       "  <tbody>\n",
       "    <tr>\n",
       "      <th>1</th>\n",
       "      <td>1</td>\n",
       "      <td>0.535885</td>\n",
       "    </tr>\n",
       "    <tr>\n",
       "      <th>2</th>\n",
       "      <td>2</td>\n",
       "      <td>0.464286</td>\n",
       "    </tr>\n",
       "    <tr>\n",
       "      <th>0</th>\n",
       "      <td>0</td>\n",
       "      <td>0.345395</td>\n",
       "    </tr>\n",
       "    <tr>\n",
       "      <th>3</th>\n",
       "      <td>3</td>\n",
       "      <td>0.250000</td>\n",
       "    </tr>\n",
       "    <tr>\n",
       "      <th>4</th>\n",
       "      <td>4</td>\n",
       "      <td>0.166667</td>\n",
       "    </tr>\n",
       "    <tr>\n",
       "      <th>5</th>\n",
       "      <td>5</td>\n",
       "      <td>0.000000</td>\n",
       "    </tr>\n",
       "    <tr>\n",
       "      <th>6</th>\n",
       "      <td>8</td>\n",
       "      <td>0.000000</td>\n",
       "    </tr>\n",
       "  </tbody>\n",
       "</table>\n",
       "</div>"
      ],
      "text/plain": [
       "   SibSp  Survived\n",
       "1      1  0.535885\n",
       "2      2  0.464286\n",
       "0      0  0.345395\n",
       "3      3  0.250000\n",
       "4      4  0.166667\n",
       "5      5  0.000000\n",
       "6      8  0.000000"
      ]
     },
     "execution_count": 17,
     "metadata": {},
     "output_type": "execute_result"
    }
   ],
   "source": [
    "pivot_analyzation['SibSp']"
   ]
  },
  {
   "cell_type": "code",
   "execution_count": 18,
   "id": "d569c6ee",
   "metadata": {
    "execution": {
     "iopub.execute_input": "2022-04-16T07:58:01.196690Z",
     "iopub.status.busy": "2022-04-16T07:58:01.196250Z",
     "iopub.status.idle": "2022-04-16T07:58:01.206766Z",
     "shell.execute_reply": "2022-04-16T07:58:01.205329Z"
    },
    "id": "lHpIt7GiqW2p",
    "outputId": "bc17a7cf-30b1-4028-834c-f803b569cf2e",
    "papermill": {
     "duration": 0.112737,
     "end_time": "2022-04-16T07:58:01.209352",
     "exception": false,
     "start_time": "2022-04-16T07:58:01.096615",
     "status": "completed"
    },
    "tags": []
   },
   "outputs": [
    {
     "data": {
      "text/html": [
       "<div>\n",
       "<style scoped>\n",
       "    .dataframe tbody tr th:only-of-type {\n",
       "        vertical-align: middle;\n",
       "    }\n",
       "\n",
       "    .dataframe tbody tr th {\n",
       "        vertical-align: top;\n",
       "    }\n",
       "\n",
       "    .dataframe thead th {\n",
       "        text-align: right;\n",
       "    }\n",
       "</style>\n",
       "<table border=\"1\" class=\"dataframe\">\n",
       "  <thead>\n",
       "    <tr style=\"text-align: right;\">\n",
       "      <th></th>\n",
       "      <th>Parch</th>\n",
       "      <th>Survived</th>\n",
       "    </tr>\n",
       "  </thead>\n",
       "  <tbody>\n",
       "    <tr>\n",
       "      <th>3</th>\n",
       "      <td>3</td>\n",
       "      <td>0.600000</td>\n",
       "    </tr>\n",
       "    <tr>\n",
       "      <th>1</th>\n",
       "      <td>1</td>\n",
       "      <td>0.550847</td>\n",
       "    </tr>\n",
       "    <tr>\n",
       "      <th>2</th>\n",
       "      <td>2</td>\n",
       "      <td>0.500000</td>\n",
       "    </tr>\n",
       "    <tr>\n",
       "      <th>0</th>\n",
       "      <td>0</td>\n",
       "      <td>0.343658</td>\n",
       "    </tr>\n",
       "    <tr>\n",
       "      <th>5</th>\n",
       "      <td>5</td>\n",
       "      <td>0.200000</td>\n",
       "    </tr>\n",
       "    <tr>\n",
       "      <th>4</th>\n",
       "      <td>4</td>\n",
       "      <td>0.000000</td>\n",
       "    </tr>\n",
       "    <tr>\n",
       "      <th>6</th>\n",
       "      <td>6</td>\n",
       "      <td>0.000000</td>\n",
       "    </tr>\n",
       "  </tbody>\n",
       "</table>\n",
       "</div>"
      ],
      "text/plain": [
       "   Parch  Survived\n",
       "3      3  0.600000\n",
       "1      1  0.550847\n",
       "2      2  0.500000\n",
       "0      0  0.343658\n",
       "5      5  0.200000\n",
       "4      4  0.000000\n",
       "6      6  0.000000"
      ]
     },
     "execution_count": 18,
     "metadata": {},
     "output_type": "execute_result"
    }
   ],
   "source": [
    "pivot_analyzation['Parch']"
   ]
  },
  {
   "cell_type": "code",
   "execution_count": 19,
   "id": "64705a27",
   "metadata": {
    "execution": {
     "iopub.execute_input": "2022-04-16T07:58:01.409878Z",
     "iopub.status.busy": "2022-04-16T07:58:01.409424Z",
     "iopub.status.idle": "2022-04-16T07:58:01.933117Z",
     "shell.execute_reply": "2022-04-16T07:58:01.932231Z"
    },
    "id": "Ywer2rKnqYYh",
    "outputId": "cc649324-de7c-48aa-94d5-92125991f3f5",
    "papermill": {
     "duration": 0.62738,
     "end_time": "2022-04-16T07:58:01.935472",
     "exception": false,
     "start_time": "2022-04-16T07:58:01.308092",
     "status": "completed"
    },
    "tags": []
   },
   "outputs": [
    {
     "data": {
      "text/plain": [
       "<seaborn.axisgrid.FacetGrid at 0x7f7b01ae8f50>"
      ]
     },
     "execution_count": 19,
     "metadata": {},
     "output_type": "execute_result"
    },
    {
     "data": {
      "image/png": "[encoded data removed]",
      "text/plain": [
       "<Figure size 432x216 with 2 Axes>"
      ]
     },
     "metadata": {
      "needs_background": "light"
     },
     "output_type": "display_data"
    }
   ],
   "source": [
    "g = sns.FacetGrid(df, col='Survived')\n",
    "g.map(plt.hist, 'Age', bins=20)"
   ]
  },
  {
   "cell_type": "code",
   "execution_count": 20,
   "id": "2824ba65",
   "metadata": {
    "execution": {
     "iopub.execute_input": "2022-04-16T07:58:02.137999Z",
     "iopub.status.busy": "2022-04-16T07:58:02.137682Z",
     "iopub.status.idle": "2022-04-16T07:58:03.634207Z",
     "shell.execute_reply": "2022-04-16T07:58:03.633357Z"
    },
    "id": "lqwW73t4enEq",
    "outputId": "c860a56b-73e0-4733-86aa-bca356f6b472",
    "papermill": {
     "duration": 1.599277,
     "end_time": "2022-04-16T07:58:03.636433",
     "exception": false,
     "start_time": "2022-04-16T07:58:02.037156",
     "status": "completed"
    },
    "tags": []
   },
   "outputs": [
    {
     "data": {
      "text/plain": [
       "<seaborn.axisgrid.FacetGrid at 0x7f7afe188c90>"
      ]
     },
     "execution_count": 20,
     "metadata": {},
     "output_type": "execute_result"
    },
    {
     "data": {
      "image/png": "[encoded data removed]",
      "text/plain": [
       "<Figure size 432x648 with 6 Axes>"
      ]
     },
     "metadata": {
      "needs_background": "light"
     },
     "output_type": "display_data"
    }
   ],
   "source": [
    "g = sns.FacetGrid(df, col='Survived', row='Pclass')\n",
    "g.map(plt.hist, 'Age', bins=20)"
   ]
  },
  {
   "cell_type": "code",
   "execution_count": 21,
   "id": "2fbb7846",
   "metadata": {
    "execution": {
     "iopub.execute_input": "2022-04-16T07:58:03.835307Z",
     "iopub.status.busy": "2022-04-16T07:58:03.834900Z",
     "iopub.status.idle": "2022-04-16T07:58:05.220060Z",
     "shell.execute_reply": "2022-04-16T07:58:05.219034Z"
    },
    "id": "cDU94G6yfFrb",
    "outputId": "d7f9d0b7-7b1c-41e2-f705-dfd01271c23a",
    "papermill": {
     "duration": 1.486051,
     "end_time": "2022-04-16T07:58:05.222382",
     "exception": false,
     "start_time": "2022-04-16T07:58:03.736331",
     "status": "completed"
    },
    "tags": []
   },
   "outputs": [
    {
     "name": "stderr",
     "output_type": "stream",
     "text": [
      "/opt/conda/lib/python3.7/site-packages/seaborn/axisgrid.py:670: UserWarning: Using the pointplot function without specifying `order` is likely to produce an incorrect plot.\n",
      "  warnings.warn(warning)\n",
      "/opt/conda/lib/python3.7/site-packages/seaborn/axisgrid.py:675: UserWarning: Using the pointplot function without specifying `hue_order` is likely to produce an incorrect plot.\n",
      "  warnings.warn(warning)\n"
     ]
    },
    {
     "data": {
      "text/plain": [
       "<seaborn.axisgrid.FacetGrid at 0x7f7afe11a3d0>"
      ]
     },
     "execution_count": 21,
     "metadata": {},
     "output_type": "execute_result"
    },
    {
     "data": {
      "image/png": "[encoded data removed]",
      "text/plain": [
       "<Figure size 286.5x648 with 3 Axes>"
      ]
     },
     "metadata": {
      "needs_background": "light"
     },
     "output_type": "display_data"
    }
   ],
   "source": [
    "g = sns.FacetGrid(df, row='Embarked')\n",
    "g.map(sns.pointplot, 'Pclass', 'Survived', 'Sex', palette='deep')\n",
    "g.add_legend()"
   ]
  },
  {
   "cell_type": "code",
   "execution_count": 22,
   "id": "0bc12c9e",
   "metadata": {
    "execution": {
     "iopub.execute_input": "2022-04-16T07:58:05.428015Z",
     "iopub.status.busy": "2022-04-16T07:58:05.427724Z",
     "iopub.status.idle": "2022-04-16T07:58:06.757163Z",
     "shell.execute_reply": "2022-04-16T07:58:06.756197Z"
    },
    "id": "Ofr-Wfq5gZQs",
    "outputId": "1bd5d848-0541-4500-ee04-87d076b7b381",
    "papermill": {
     "duration": 1.436844,
     "end_time": "2022-04-16T07:58:06.759409",
     "exception": false,
     "start_time": "2022-04-16T07:58:05.322565",
     "status": "completed"
    },
    "tags": []
   },
   "outputs": [
    {
     "name": "stderr",
     "output_type": "stream",
     "text": [
      "/opt/conda/lib/python3.7/site-packages/seaborn/axisgrid.py:670: UserWarning: Using the barplot function without specifying `order` is likely to produce an incorrect plot.\n",
      "  warnings.warn(warning)\n"
     ]
    },
    {
     "data": {
      "text/plain": [
       "<seaborn.axisgrid.FacetGrid at 0x7f7afdb87dd0>"
      ]
     },
     "execution_count": 22,
     "metadata": {},
     "output_type": "execute_result"
    },
    {
     "data": {
      "image/png": "[encoded data removed]",
      "text/plain": [
       "<Figure size 432x648 with 6 Axes>"
      ]
     },
     "metadata": {
      "needs_background": "light"
     },
     "output_type": "display_data"
    }
   ],
   "source": [
    "g= sns.FacetGrid(df, row='Embarked', col='Survived')\n",
    "g.map(sns.barplot, 'Sex', 'Fare')"
   ]
  },
  {
   "cell_type": "code",
   "execution_count": 23,
   "id": "5cd4e4ab",
   "metadata": {
    "execution": {
     "iopub.execute_input": "2022-04-16T07:58:06.969386Z",
     "iopub.status.busy": "2022-04-16T07:58:06.968583Z",
     "iopub.status.idle": "2022-04-16T07:58:06.971979Z",
     "shell.execute_reply": "2022-04-16T07:58:06.971365Z"
    },
    "papermill": {
     "duration": 0.110517,
     "end_time": "2022-04-16T07:58:06.973961",
     "exception": false,
     "start_time": "2022-04-16T07:58:06.863444",
     "status": "completed"
    },
    "tags": []
   },
   "outputs": [],
   "source": [
    "#Feature Engineering: Cabin->Deck, Ticket->Ticket Frequency, Age-Fare=bin, Surname, Familiy_size"
   ]
  },
  {
   "cell_type": "code",
   "execution_count": 24,
   "id": "e0888d14",
   "metadata": {
    "execution": {
     "iopub.execute_input": "2022-04-16T07:58:07.181082Z",
     "iopub.status.busy": "2022-04-16T07:58:07.180579Z",
     "iopub.status.idle": "2022-04-16T07:58:07.192172Z",
     "shell.execute_reply": "2022-04-16T07:58:07.191263Z"
    },
    "papermill": {
     "duration": 0.116266,
     "end_time": "2022-04-16T07:58:07.194694",
     "exception": false,
     "start_time": "2022-04-16T07:58:07.078428",
     "status": "completed"
    },
    "tags": []
   },
   "outputs": [],
   "source": [
    "df['Age'] = df.groupby(['Sex', 'Pclass'])['Age'].apply(lambda x: x.fillna(x.median()))"
   ]
  },
  {
   "cell_type": "code",
   "execution_count": 25,
   "id": "187ff134",
   "metadata": {
    "execution": {
     "iopub.execute_input": "2022-04-16T07:58:07.410197Z",
     "iopub.status.busy": "2022-04-16T07:58:07.409915Z",
     "iopub.status.idle": "2022-04-16T07:58:07.421721Z",
     "shell.execute_reply": "2022-04-16T07:58:07.421025Z"
    },
    "papermill": {
     "duration": 0.121197,
     "end_time": "2022-04-16T07:58:07.424077",
     "exception": false,
     "start_time": "2022-04-16T07:58:07.302880",
     "status": "completed"
    },
    "tags": []
   },
   "outputs": [],
   "source": [
    "df_test['Age'] = df_test.groupby(['Sex', 'Pclass'])['Age'].apply(lambda x: x.fillna(x.median()))"
   ]
  },
  {
   "cell_type": "code",
   "execution_count": 26,
   "id": "8cba3467",
   "metadata": {
    "execution": {
     "iopub.execute_input": "2022-04-16T07:58:07.630237Z",
     "iopub.status.busy": "2022-04-16T07:58:07.629917Z",
     "iopub.status.idle": "2022-04-16T07:58:07.647108Z",
     "shell.execute_reply": "2022-04-16T07:58:07.646247Z"
    },
    "papermill": {
     "duration": 0.122074,
     "end_time": "2022-04-16T07:58:07.649474",
     "exception": false,
     "start_time": "2022-04-16T07:58:07.527400",
     "status": "completed"
    },
    "tags": []
   },
   "outputs": [],
   "source": [
    "df['Fare'] = pd.qcut(df['Fare'], 10)\n",
    "df['Age'] = pd.qcut(df['Age'], 13, duplicates='drop')"
   ]
  },
  {
   "cell_type": "code",
   "execution_count": 27,
   "id": "4c5ca7ab",
   "metadata": {
    "execution": {
     "iopub.execute_input": "2022-04-16T07:58:07.852971Z",
     "iopub.status.busy": "2022-04-16T07:58:07.852326Z",
     "iopub.status.idle": "2022-04-16T07:58:07.863531Z",
     "shell.execute_reply": "2022-04-16T07:58:07.862889Z"
    },
    "papermill": {
     "duration": 0.116122,
     "end_time": "2022-04-16T07:58:07.865767",
     "exception": false,
     "start_time": "2022-04-16T07:58:07.749645",
     "status": "completed"
    },
    "tags": []
   },
   "outputs": [],
   "source": [
    "df['FamilySize'] = df['SibSp'] + df['Parch'] + 1\n",
    "df_test['FamilySize'] = df_test['SibSp'] + df_test['Parch'] + 1\n",
    "family_map = {1: 'Alone', 2: 'Small', 3:'Small', 4:'Small', 5:'Medium', 6:'Medium', 7:'Large', 8:'Large', 11:'Large'}\n",
    "df['FamilyGroup'] = df['FamilySize'].map(family_map)\n",
    "df_test['FamilyGroup'] = df['FamilySize'].map(family_map)"
   ]
  },
  {
   "cell_type": "code",
   "execution_count": 28,
   "id": "3cfd72f1",
   "metadata": {
    "execution": {
     "iopub.execute_input": "2022-04-16T07:58:08.073177Z",
     "iopub.status.busy": "2022-04-16T07:58:08.072463Z",
     "iopub.status.idle": "2022-04-16T07:58:08.083348Z",
     "shell.execute_reply": "2022-04-16T07:58:08.082275Z"
    },
    "papermill": {
     "duration": 0.115493,
     "end_time": "2022-04-16T07:58:08.085903",
     "exception": false,
     "start_time": "2022-04-16T07:58:07.970410",
     "status": "completed"
    },
    "tags": []
   },
   "outputs": [],
   "source": [
    "df.loc[df['Cabin'].isnull(),'Cabin'] = 'M'\n",
    "df_test.loc[df_test['Cabin'].isnull(), 'Cabin'] = 'M'\n",
    "df['Deck'] = df['Cabin'].apply(lambda x: x[0])\n",
    "df_test['Deck'] = df['Cabin'].apply(lambda x:x[0])"
   ]
  },
  {
   "cell_type": "code",
   "execution_count": 29,
   "id": "8621eb5d",
   "metadata": {
    "execution": {
     "iopub.execute_input": "2022-04-16T07:58:08.299620Z",
     "iopub.status.busy": "2022-04-16T07:58:08.299341Z",
     "iopub.status.idle": "2022-04-16T07:58:09.236850Z",
     "shell.execute_reply": "2022-04-16T07:58:09.236183Z"
    },
    "papermill": {
     "duration": 1.043448,
     "end_time": "2022-04-16T07:58:09.239101",
     "exception": false,
     "start_time": "2022-04-16T07:58:08.195653",
     "status": "completed"
    },
    "tags": []
   },
   "outputs": [],
   "source": [
    "df['TicketFrequency'] = np.nan\n",
    "for uv in df['Ticket'].unique():\n",
    "    num_ticket = (df['Ticket']==uv).sum()\n",
    "    df.loc[df['Ticket']==uv,'TicketFrequency'] = num_ticket\n",
    "    \n",
    "df_test['TicketFrequency'] = np.nan\n",
    "for uv in df_test['Ticket'].unique():\n",
    "    num_ticket = (df_test['Ticket']==uv).sum()\n",
    "    df_test.loc[df_test['Ticket']==uv,'TicketFrequency'] = num_ticket"
   ]
  },
  {
   "cell_type": "code",
   "execution_count": 30,
   "id": "326c66b6",
   "metadata": {
    "execution": {
     "iopub.execute_input": "2022-04-16T07:58:09.467616Z",
     "iopub.status.busy": "2022-04-16T07:58:09.467205Z",
     "iopub.status.idle": "2022-04-16T07:58:09.472588Z",
     "shell.execute_reply": "2022-04-16T07:58:09.471623Z"
    },
    "papermill": {
     "duration": 0.124755,
     "end_time": "2022-04-16T07:58:09.474902",
     "exception": false,
     "start_time": "2022-04-16T07:58:09.350147",
     "status": "completed"
    },
    "tags": []
   },
   "outputs": [],
   "source": [
    "ageinterval = pd.arrays.IntervalArray(df['Age'].unique())"
   ]
  },
  {
   "cell_type": "code",
   "execution_count": 31,
   "id": "2adddb76",
   "metadata": {
    "execution": {
     "iopub.execute_input": "2022-04-16T07:58:09.680962Z",
     "iopub.status.busy": "2022-04-16T07:58:09.680667Z",
     "iopub.status.idle": "2022-04-16T07:58:09.708836Z",
     "shell.execute_reply": "2022-04-16T07:58:09.707989Z"
    },
    "papermill": {
     "duration": 0.134642,
     "end_time": "2022-04-16T07:58:09.710969",
     "exception": false,
     "start_time": "2022-04-16T07:58:09.576327",
     "status": "completed"
    },
    "tags": []
   },
   "outputs": [
    {
     "data": {
      "text/plain": [
       "0      [(34.0, 38.0)]\n",
       "1      [(42.0, 50.0)]\n",
       "2      [(50.0, 80.0)]\n",
       "3      [(25.0, 28.0)]\n",
       "4      [(21.5, 23.0)]\n",
       "            ...      \n",
       "413    [(23.0, 25.0)]\n",
       "414    [(38.0, 42.0)]\n",
       "415    [(38.0, 42.0)]\n",
       "416    [(23.0, 25.0)]\n",
       "417    [(23.0, 25.0)]\n",
       "Name: Age, Length: 418, dtype: object"
      ]
     },
     "execution_count": 31,
     "metadata": {},
     "output_type": "execute_result"
    }
   ],
   "source": [
    "df_test['Age'].apply(lambda x: ageinterval.to_tuples()[ageinterval.contains(x)])"
   ]
  },
  {
   "cell_type": "code",
   "execution_count": 32,
   "id": "fb035b11",
   "metadata": {
    "execution": {
     "iopub.execute_input": "2022-04-16T07:58:09.927038Z",
     "iopub.status.busy": "2022-04-16T07:58:09.926418Z",
     "iopub.status.idle": "2022-04-16T07:58:09.930668Z",
     "shell.execute_reply": "2022-04-16T07:58:09.929977Z"
    },
    "id": "PtHFJwOThQnt",
    "papermill": {
     "duration": 0.116409,
     "end_time": "2022-04-16T07:58:09.933128",
     "exception": false,
     "start_time": "2022-04-16T07:58:09.816719",
     "status": "completed"
    },
    "tags": []
   },
   "outputs": [],
   "source": [
    "#df = df.drop(['Cabin', 'Ticket'], axis=1)"
   ]
  },
  {
   "cell_type": "code",
   "execution_count": 33,
   "id": "c5699329",
   "metadata": {
    "execution": {
     "iopub.execute_input": "2022-04-16T07:58:10.144548Z",
     "iopub.status.busy": "2022-04-16T07:58:10.143975Z",
     "iopub.status.idle": "2022-04-16T07:58:10.147785Z",
     "shell.execute_reply": "2022-04-16T07:58:10.147199Z"
    },
    "id": "kly7zEN5jaI2",
    "papermill": {
     "duration": 0.114299,
     "end_time": "2022-04-16T07:58:10.149940",
     "exception": false,
     "start_time": "2022-04-16T07:58:10.035641",
     "status": "completed"
    },
    "tags": []
   },
   "outputs": [],
   "source": [
    "#df_test = df_test.drop(['Cabin', 'Ticket'], axis=1)"
   ]
  },
  {
   "cell_type": "code",
   "execution_count": 34,
   "id": "ec3ac6d9",
   "metadata": {
    "execution": {
     "iopub.execute_input": "2022-04-16T07:58:10.370920Z",
     "iopub.status.busy": "2022-04-16T07:58:10.370325Z",
     "iopub.status.idle": "2022-04-16T07:58:10.375885Z",
     "shell.execute_reply": "2022-04-16T07:58:10.375109Z"
    },
    "id": "iPk_5Hk3kG5P",
    "papermill": {
     "duration": 0.123279,
     "end_time": "2022-04-16T07:58:10.378303",
     "exception": false,
     "start_time": "2022-04-16T07:58:10.255024",
     "status": "completed"
    },
    "tags": []
   },
   "outputs": [],
   "source": [
    "df_test_pi = df_test.copy()['PassengerId']"
   ]
  },
  {
   "cell_type": "code",
   "execution_count": 35,
   "id": "3933aad2",
   "metadata": {
    "execution": {
     "iopub.execute_input": "2022-04-16T07:58:10.593936Z",
     "iopub.status.busy": "2022-04-16T07:58:10.593285Z",
     "iopub.status.idle": "2022-04-16T07:58:10.635175Z",
     "shell.execute_reply": "2022-04-16T07:58:10.634277Z"
    },
    "id": "CJvy9qNDkTt-",
    "outputId": "59da43b7-78ff-43e5-d28f-1f6e181675d3",
    "papermill": {
     "duration": 0.152151,
     "end_time": "2022-04-16T07:58:10.637500",
     "exception": false,
     "start_time": "2022-04-16T07:58:10.485349",
     "status": "completed"
    },
    "tags": []
   },
   "outputs": [
    {
     "data": {
      "text/html": [
       "<div>\n",
       "<style scoped>\n",
       "    .dataframe tbody tr th:only-of-type {\n",
       "        vertical-align: middle;\n",
       "    }\n",
       "\n",
       "    .dataframe tbody tr th {\n",
       "        vertical-align: top;\n",
       "    }\n",
       "\n",
       "    .dataframe thead th {\n",
       "        text-align: right;\n",
       "    }\n",
       "</style>\n",
       "<table border=\"1\" class=\"dataframe\">\n",
       "  <thead>\n",
       "    <tr style=\"text-align: right;\">\n",
       "      <th>Sex</th>\n",
       "      <th>female</th>\n",
       "      <th>male</th>\n",
       "    </tr>\n",
       "    <tr>\n",
       "      <th>Title</th>\n",
       "      <th></th>\n",
       "      <th></th>\n",
       "    </tr>\n",
       "  </thead>\n",
       "  <tbody>\n",
       "    <tr>\n",
       "      <th>Capt</th>\n",
       "      <td>0</td>\n",
       "      <td>1</td>\n",
       "    </tr>\n",
       "    <tr>\n",
       "      <th>Col</th>\n",
       "      <td>0</td>\n",
       "      <td>2</td>\n",
       "    </tr>\n",
       "    <tr>\n",
       "      <th>Countess</th>\n",
       "      <td>1</td>\n",
       "      <td>0</td>\n",
       "    </tr>\n",
       "    <tr>\n",
       "      <th>Don</th>\n",
       "      <td>0</td>\n",
       "      <td>1</td>\n",
       "    </tr>\n",
       "    <tr>\n",
       "      <th>Dr</th>\n",
       "      <td>1</td>\n",
       "      <td>6</td>\n",
       "    </tr>\n",
       "    <tr>\n",
       "      <th>Jonkheer</th>\n",
       "      <td>0</td>\n",
       "      <td>1</td>\n",
       "    </tr>\n",
       "    <tr>\n",
       "      <th>Lady</th>\n",
       "      <td>1</td>\n",
       "      <td>0</td>\n",
       "    </tr>\n",
       "    <tr>\n",
       "      <th>Major</th>\n",
       "      <td>0</td>\n",
       "      <td>2</td>\n",
       "    </tr>\n",
       "    <tr>\n",
       "      <th>Master</th>\n",
       "      <td>0</td>\n",
       "      <td>40</td>\n",
       "    </tr>\n",
       "    <tr>\n",
       "      <th>Miss</th>\n",
       "      <td>182</td>\n",
       "      <td>0</td>\n",
       "    </tr>\n",
       "    <tr>\n",
       "      <th>Mlle</th>\n",
       "      <td>2</td>\n",
       "      <td>0</td>\n",
       "    </tr>\n",
       "    <tr>\n",
       "      <th>Mme</th>\n",
       "      <td>1</td>\n",
       "      <td>0</td>\n",
       "    </tr>\n",
       "    <tr>\n",
       "      <th>Mr</th>\n",
       "      <td>0</td>\n",
       "      <td>517</td>\n",
       "    </tr>\n",
       "    <tr>\n",
       "      <th>Mrs</th>\n",
       "      <td>125</td>\n",
       "      <td>0</td>\n",
       "    </tr>\n",
       "    <tr>\n",
       "      <th>Ms</th>\n",
       "      <td>1</td>\n",
       "      <td>0</td>\n",
       "    </tr>\n",
       "    <tr>\n",
       "      <th>Rev</th>\n",
       "      <td>0</td>\n",
       "      <td>6</td>\n",
       "    </tr>\n",
       "    <tr>\n",
       "      <th>Sir</th>\n",
       "      <td>0</td>\n",
       "      <td>1</td>\n",
       "    </tr>\n",
       "  </tbody>\n",
       "</table>\n",
       "</div>"
      ],
      "text/plain": [
       "Sex       female  male\n",
       "Title                 \n",
       "Capt           0     1\n",
       "Col            0     2\n",
       "Countess       1     0\n",
       "Don            0     1\n",
       "Dr             1     6\n",
       "Jonkheer       0     1\n",
       "Lady           1     0\n",
       "Major          0     2\n",
       "Master         0    40\n",
       "Miss         182     0\n",
       "Mlle           2     0\n",
       "Mme            1     0\n",
       "Mr             0   517\n",
       "Mrs          125     0\n",
       "Ms             1     0\n",
       "Rev            0     6\n",
       "Sir            0     1"
      ]
     },
     "execution_count": 35,
     "metadata": {},
     "output_type": "execute_result"
    }
   ],
   "source": [
    "combine = [df, df_test]\n",
    "for dataset in combine:\n",
    "    dataset['Title'] = dataset['Name'].str.extract(' ([A-Za-z]+)\\.', expand=False)\n",
    "\n",
    "pd.crosstab(df['Title'], df['Sex'])"
   ]
  },
  {
   "cell_type": "code",
   "execution_count": 36,
   "id": "83c3b0ef",
   "metadata": {
    "execution": {
     "iopub.execute_input": "2022-04-16T07:58:10.852254Z",
     "iopub.status.busy": "2022-04-16T07:58:10.851568Z",
     "iopub.status.idle": "2022-04-16T07:58:10.874184Z",
     "shell.execute_reply": "2022-04-16T07:58:10.873295Z"
    },
    "id": "FySONWVvlHcM",
    "outputId": "be9937f7-d3c6-432e-87e6-f28bfe27fa9a",
    "papermill": {
     "duration": 0.134955,
     "end_time": "2022-04-16T07:58:10.876349",
     "exception": false,
     "start_time": "2022-04-16T07:58:10.741394",
     "status": "completed"
    },
    "tags": []
   },
   "outputs": [
    {
     "data": {
      "text/html": [
       "<div>\n",
       "<style scoped>\n",
       "    .dataframe tbody tr th:only-of-type {\n",
       "        vertical-align: middle;\n",
       "    }\n",
       "\n",
       "    .dataframe tbody tr th {\n",
       "        vertical-align: top;\n",
       "    }\n",
       "\n",
       "    .dataframe thead th {\n",
       "        text-align: right;\n",
       "    }\n",
       "</style>\n",
       "<table border=\"1\" class=\"dataframe\">\n",
       "  <thead>\n",
       "    <tr style=\"text-align: right;\">\n",
       "      <th></th>\n",
       "      <th>Title</th>\n",
       "      <th>Survived</th>\n",
       "    </tr>\n",
       "  </thead>\n",
       "  <tbody>\n",
       "    <tr>\n",
       "      <th>0</th>\n",
       "      <td>Master</td>\n",
       "      <td>0.575000</td>\n",
       "    </tr>\n",
       "    <tr>\n",
       "      <th>1</th>\n",
       "      <td>Miss</td>\n",
       "      <td>0.702703</td>\n",
       "    </tr>\n",
       "    <tr>\n",
       "      <th>2</th>\n",
       "      <td>Mr</td>\n",
       "      <td>0.156673</td>\n",
       "    </tr>\n",
       "    <tr>\n",
       "      <th>3</th>\n",
       "      <td>Mrs</td>\n",
       "      <td>0.793651</td>\n",
       "    </tr>\n",
       "    <tr>\n",
       "      <th>4</th>\n",
       "      <td>Rare</td>\n",
       "      <td>0.347826</td>\n",
       "    </tr>\n",
       "  </tbody>\n",
       "</table>\n",
       "</div>"
      ],
      "text/plain": [
       "    Title  Survived\n",
       "0  Master  0.575000\n",
       "1    Miss  0.702703\n",
       "2      Mr  0.156673\n",
       "3     Mrs  0.793651\n",
       "4    Rare  0.347826"
      ]
     },
     "execution_count": 36,
     "metadata": {},
     "output_type": "execute_result"
    }
   ],
   "source": [
    "for dataset in combine:\n",
    "    dataset['Title'] = dataset['Title'].replace(['Capt', 'Col', 'Countess', 'Don', 'Dr', 'Jonkheer', 'Lady', 'Major', 'Rev', 'Sir'], 'Rare')\n",
    "    dataset['Title'] = dataset['Title'].replace('Mlle', 'Miss')\n",
    "    dataset['Title'] = dataset['Title'].replace('Ms', 'Miss')\n",
    "    dataset['Title'] = dataset['Title'].replace('Mme', 'Mrs')\n",
    "    \n",
    "df[['Survived', 'Title']].groupby('Title', as_index=False).mean()"
   ]
  },
  {
   "cell_type": "code",
   "execution_count": 37,
   "id": "6d38b100",
   "metadata": {
    "execution": {
     "iopub.execute_input": "2022-04-16T07:58:11.092645Z",
     "iopub.status.busy": "2022-04-16T07:58:11.091953Z",
     "iopub.status.idle": "2022-04-16T07:58:11.103749Z",
     "shell.execute_reply": "2022-04-16T07:58:11.102296Z"
    },
    "id": "0QqBj0dfmBWa",
    "outputId": "ba8ab140-5795-4bcc-a3be-694d44f3a131",
    "papermill": {
     "duration": 0.120906,
     "end_time": "2022-04-16T07:58:11.106159",
     "exception": false,
     "start_time": "2022-04-16T07:58:10.985253",
     "status": "completed"
    },
    "tags": []
   },
   "outputs": [
    {
     "data": {
      "text/plain": [
       "PassengerId        1.000000\n",
       "Survived           1.000000\n",
       "Pclass             1.000000\n",
       "Name               1.000000\n",
       "Sex                1.000000\n",
       "Age                1.000000\n",
       "SibSp              1.000000\n",
       "Parch              1.000000\n",
       "Ticket             1.000000\n",
       "Fare               1.000000\n",
       "Cabin              1.000000\n",
       "Embarked           0.997755\n",
       "FamilySize         1.000000\n",
       "FamilyGroup        1.000000\n",
       "Deck               1.000000\n",
       "TicketFrequency    1.000000\n",
       "Title              1.000000\n",
       "dtype: float64"
      ]
     },
     "execution_count": 37,
     "metadata": {},
     "output_type": "execute_result"
    }
   ],
   "source": [
    "df.notnull().mean()"
   ]
  },
  {
   "cell_type": "code",
   "execution_count": null,
   "id": "023aa50b",
   "metadata": {
    "id": "5sWn6TR0RvOl",
    "papermill": {
     "duration": 0.107353,
     "end_time": "2022-04-16T07:58:11.320129",
     "exception": false,
     "start_time": "2022-04-16T07:58:11.212776",
     "status": "completed"
    },
    "tags": []
   },
   "outputs": [],
   "source": []
  },
  {
   "cell_type": "code",
   "execution_count": 38,
   "id": "54e2e455",
   "metadata": {
    "execution": {
     "iopub.execute_input": "2022-04-16T07:58:11.539351Z",
     "iopub.status.busy": "2022-04-16T07:58:11.538468Z",
     "iopub.status.idle": "2022-04-16T07:58:11.546613Z",
     "shell.execute_reply": "2022-04-16T07:58:11.545375Z"
    },
    "id": "LtmY8kIKRaU3",
    "papermill": {
     "duration": 0.120579,
     "end_time": "2022-04-16T07:58:11.549436",
     "exception": false,
     "start_time": "2022-04-16T07:58:11.428857",
     "status": "completed"
    },
    "tags": []
   },
   "outputs": [],
   "source": [
    "for dataset in combine:\n",
    "    dataset.drop(['Name', 'PassengerId', 'Cabin'], axis=1, inplace=True)"
   ]
  },
  {
   "cell_type": "code",
   "execution_count": 39,
   "id": "66ec30f4",
   "metadata": {
    "execution": {
     "iopub.execute_input": "2022-04-16T07:58:11.770306Z",
     "iopub.status.busy": "2022-04-16T07:58:11.769605Z",
     "iopub.status.idle": "2022-04-16T07:58:11.778059Z",
     "shell.execute_reply": "2022-04-16T07:58:11.777189Z"
    },
    "id": "LEOksg5ORw_c",
    "papermill": {
     "duration": 0.124735,
     "end_time": "2022-04-16T07:58:11.780694",
     "exception": false,
     "start_time": "2022-04-16T07:58:11.655959",
     "status": "completed"
    },
    "tags": []
   },
   "outputs": [],
   "source": [
    "def categorify(df, df_test, dep_var='Survived', exclude=[]):\n",
    "    df = df.copy()\n",
    "    df_test = df_test.copy()\n",
    "    new = pd.concat([df, df_test]).drop([dep_var]+exclude, axis=1)\n",
    "    dicts = {str(col): {k[1]:k[0] for k in enumerate(new[col].unique())} for col in new}\n",
    "    for key, val in dicts.items():\n",
    "        df[key] = df[key].map(val).astype(float)\n",
    "        df_test[key] = df_test[key].map(val).astype(float)\n",
    "    return df, df_test"
   ]
  },
  {
   "cell_type": "code",
   "execution_count": 40,
   "id": "ab3ccfd2",
   "metadata": {
    "execution": {
     "iopub.execute_input": "2022-04-16T07:58:11.998868Z",
     "iopub.status.busy": "2022-04-16T07:58:11.998293Z",
     "iopub.status.idle": "2022-04-16T07:58:12.005695Z",
     "shell.execute_reply": "2022-04-16T07:58:12.004770Z"
    },
    "id": "T__tYEgjRu5P",
    "papermill": {
     "duration": 0.118868,
     "end_time": "2022-04-16T07:58:12.008370",
     "exception": false,
     "start_time": "2022-04-16T07:58:11.889502",
     "status": "completed"
    },
    "tags": []
   },
   "outputs": [
    {
     "data": {
      "text/plain": [
       "\"def categorify(df, df_test):\\n    df = df.copy()\\n    df_test = df_test.copy()\\n    new = pd.concat([df, df_test])\\n    sexdict = {k[1]: k[0] for k in enumerate(new['Sex'].unique())}\\n    embdict = {k[1]: k[0] for k in enumerate(new['Embarked'].unique())}\\n    titdict = {k[1]: k[0] for k in enumerate(new['Title'].unique())}\\n    pardict = {k[1]: k[0] for k in enumerate(new['Parch'].unique())}\\n    pcldict = {k[1]: k[0] for k in enumerate(new['Pclass'].astype(int).unique())}\\n    sibdict = {k[1]: k[0] for k in enumerate(new['SibSp'].astype(int).unique())}\\n    dicts = {'Sex': sexdict, 'Embarked': embdict, 'Title': titdict, 'Parch': pardict, 'Pclass': pcldict, 'SibSp':sibdict}\\n    for key, val in dicts.items():\\n        df[key] = df[key].map(val).astype(float)\\n        df_test[key] = df_test[key].map(val).astype(float)\\n    return df, df_test\""
      ]
     },
     "execution_count": 40,
     "metadata": {},
     "output_type": "execute_result"
    }
   ],
   "source": [
    "\"\"\"def categorify(df, df_test):\n",
    "    df = df.copy()\n",
    "    df_test = df_test.copy()\n",
    "    new = pd.concat([df, df_test])\n",
    "    sexdict = {k[1]: k[0] for k in enumerate(new['Sex'].unique())}\n",
    "    embdict = {k[1]: k[0] for k in enumerate(new['Embarked'].unique())}\n",
    "    titdict = {k[1]: k[0] for k in enumerate(new['Title'].unique())}\n",
    "    pardict = {k[1]: k[0] for k in enumerate(new['Parch'].unique())}\n",
    "    pcldict = {k[1]: k[0] for k in enumerate(new['Pclass'].astype(int).unique())}\n",
    "    sibdict = {k[1]: k[0] for k in enumerate(new['SibSp'].astype(int).unique())}\n",
    "    dicts = {'Sex': sexdict, 'Embarked': embdict, 'Title': titdict, 'Parch': pardict, 'Pclass': pcldict, 'SibSp':sibdict}\n",
    "    for key, val in dicts.items():\n",
    "        df[key] = df[key].map(val).astype(float)\n",
    "        df_test[key] = df_test[key].map(val).astype(float)\n",
    "    return df, df_test\"\"\""
   ]
  },
  {
   "cell_type": "code",
   "execution_count": 41,
   "id": "0564768d",
   "metadata": {
    "execution": {
     "iopub.execute_input": "2022-04-16T07:58:12.219571Z",
     "iopub.status.busy": "2022-04-16T07:58:12.219010Z",
     "iopub.status.idle": "2022-04-16T07:58:12.264201Z",
     "shell.execute_reply": "2022-04-16T07:58:12.263290Z"
    },
    "id": "0rxZxlvBkFQF",
    "papermill": {
     "duration": 0.151513,
     "end_time": "2022-04-16T07:58:12.266688",
     "exception": false,
     "start_time": "2022-04-16T07:58:12.115175",
     "status": "completed"
    },
    "tags": []
   },
   "outputs": [],
   "source": [
    "combine = [df, df_test]\n",
    "df, df_test = categorify(df, df_test)"
   ]
  },
  {
   "cell_type": "code",
   "execution_count": null,
   "id": "17f638fe",
   "metadata": {
    "papermill": {
     "duration": 0.10561,
     "end_time": "2022-04-16T07:58:12.486209",
     "exception": false,
     "start_time": "2022-04-16T07:58:12.380599",
     "status": "completed"
    },
    "tags": []
   },
   "outputs": [],
   "source": []
  },
  {
   "cell_type": "code",
   "execution_count": 42,
   "id": "e823a76e",
   "metadata": {
    "execution": {
     "iopub.execute_input": "2022-04-16T07:58:12.702982Z",
     "iopub.status.busy": "2022-04-16T07:58:12.702419Z",
     "iopub.status.idle": "2022-04-16T07:58:12.756666Z",
     "shell.execute_reply": "2022-04-16T07:58:12.755669Z"
    },
    "id": "Enjs4jzPWAyz",
    "papermill": {
     "duration": 0.16623,
     "end_time": "2022-04-16T07:58:12.759277",
     "exception": false,
     "start_time": "2022-04-16T07:58:12.593047",
     "status": "completed"
    },
    "tags": []
   },
   "outputs": [],
   "source": [
    "from sklearn.impute import KNNImputer"
   ]
  },
  {
   "cell_type": "code",
   "execution_count": 43,
   "id": "a7121c55",
   "metadata": {
    "execution": {
     "iopub.execute_input": "2022-04-16T07:58:12.976061Z",
     "iopub.status.busy": "2022-04-16T07:58:12.975549Z",
     "iopub.status.idle": "2022-04-16T07:58:12.979003Z",
     "shell.execute_reply": "2022-04-16T07:58:12.978324Z"
    },
    "id": "5aaZNHRIWH5z",
    "papermill": {
     "duration": 0.111571,
     "end_time": "2022-04-16T07:58:12.981571",
     "exception": false,
     "start_time": "2022-04-16T07:58:12.870000",
     "status": "completed"
    },
    "tags": []
   },
   "outputs": [],
   "source": [
    "imp = KNNImputer()"
   ]
  },
  {
   "cell_type": "code",
   "execution_count": 44,
   "id": "14b413cf",
   "metadata": {
    "execution": {
     "iopub.execute_input": "2022-04-16T07:58:13.191451Z",
     "iopub.status.busy": "2022-04-16T07:58:13.191011Z",
     "iopub.status.idle": "2022-04-16T07:58:13.201387Z",
     "shell.execute_reply": "2022-04-16T07:58:13.200501Z"
    },
    "id": "Tz-7xXmdRB-V",
    "papermill": {
     "duration": 0.117569,
     "end_time": "2022-04-16T07:58:13.203876",
     "exception": false,
     "start_time": "2022-04-16T07:58:13.086307",
     "status": "completed"
    },
    "tags": []
   },
   "outputs": [],
   "source": [
    "df = pd.DataFrame(imp.fit_transform(df.values), columns=df.columns)\n",
    "df_test = pd.DataFrame(imp.fit_transform(df_test.values), columns=df_test.columns)"
   ]
  },
  {
   "cell_type": "code",
   "execution_count": 45,
   "id": "8781d427",
   "metadata": {
    "execution": {
     "iopub.execute_input": "2022-04-16T07:58:13.416076Z",
     "iopub.status.busy": "2022-04-16T07:58:13.415456Z",
     "iopub.status.idle": "2022-04-16T07:58:13.420992Z",
     "shell.execute_reply": "2022-04-16T07:58:13.420243Z"
    },
    "id": "_2PeISJITa_-",
    "papermill": {
     "duration": 0.115657,
     "end_time": "2022-04-16T07:58:13.423024",
     "exception": false,
     "start_time": "2022-04-16T07:58:13.307367",
     "status": "completed"
    },
    "tags": []
   },
   "outputs": [],
   "source": [
    "df['Embarked'] = df['Embarked'].astype(int)\n",
    "df_test['Embarked'] = df_test['Embarked'].astype(int)"
   ]
  },
  {
   "cell_type": "code",
   "execution_count": 46,
   "id": "3015f0a5",
   "metadata": {
    "execution": {
     "iopub.execute_input": "2022-04-16T07:58:13.630612Z",
     "iopub.status.busy": "2022-04-16T07:58:13.629754Z",
     "iopub.status.idle": "2022-04-16T07:58:13.643562Z",
     "shell.execute_reply": "2022-04-16T07:58:13.642914Z"
    },
    "id": "QrXJ6LlVSKgU",
    "outputId": "59c36e25-6db4-4b25-cca5-6f6947b544fc",
    "papermill": {
     "duration": 0.121045,
     "end_time": "2022-04-16T07:58:13.647159",
     "exception": false,
     "start_time": "2022-04-16T07:58:13.526114",
     "status": "completed"
    },
    "tags": []
   },
   "outputs": [
    {
     "name": "stdout",
     "output_type": "stream",
     "text": [
      "key: Survived, unique: 2\n",
      "key: Pclass, unique: 3\n",
      "key: Sex, unique: 2\n",
      "key: Age, unique: 12\n",
      "key: SibSp, unique: 7\n",
      "key: Parch, unique: 7\n",
      "key: Ticket, unique: 681\n",
      "key: Fare, unique: 10\n",
      "key: Embarked, unique: 3\n",
      "key: FamilySize, unique: 9\n",
      "key: FamilyGroup, unique: 4\n",
      "key: Deck, unique: 9\n",
      "key: TicketFrequency, unique: 7\n",
      "key: Title, unique: 5\n",
      "----------\n",
      "key: Pclass, unique: 3\n",
      "key: Sex, unique: 2\n",
      "key: Age, unique: 12\n",
      "key: SibSp, unique: 7\n",
      "key: Parch, unique: 7\n",
      "key: Ticket, unique: 681\n",
      "key: Fare, unique: 10\n",
      "key: Embarked, unique: 3\n",
      "key: FamilySize, unique: 9\n",
      "key: FamilyGroup, unique: 4\n",
      "key: Deck, unique: 9\n",
      "key: TicketFrequency, unique: 7\n",
      "key: Title, unique: 5\n"
     ]
    }
   ],
   "source": [
    "for i in df:\n",
    "    print(f'key: {i}, unique: {df[i].nunique()}')\n",
    "print('-'*10)\n",
    "for i in df_test:\n",
    "    print(f'key: {i}, unique: {df[i].nunique()}') "
   ]
  },
  {
   "cell_type": "code",
   "execution_count": 47,
   "id": "c58e3fb1",
   "metadata": {
    "execution": {
     "iopub.execute_input": "2022-04-16T07:58:13.859216Z",
     "iopub.status.busy": "2022-04-16T07:58:13.857609Z",
     "iopub.status.idle": "2022-04-16T07:58:13.891138Z",
     "shell.execute_reply": "2022-04-16T07:58:13.890146Z"
    },
    "id": "FP2J1a09lEFc",
    "outputId": "9a31fc88-afde-41b3-924e-2d43a303a33f",
    "papermill": {
     "duration": 0.141659,
     "end_time": "2022-04-16T07:58:13.893087",
     "exception": false,
     "start_time": "2022-04-16T07:58:13.751428",
     "status": "completed"
    },
    "tags": []
   },
   "outputs": [
    {
     "data": {
      "text/html": [
       "<div>\n",
       "<style scoped>\n",
       "    .dataframe tbody tr th:only-of-type {\n",
       "        vertical-align: middle;\n",
       "    }\n",
       "\n",
       "    .dataframe tbody tr th {\n",
       "        vertical-align: top;\n",
       "    }\n",
       "\n",
       "    .dataframe thead th {\n",
       "        text-align: right;\n",
       "    }\n",
       "</style>\n",
       "<table border=\"1\" class=\"dataframe\">\n",
       "  <thead>\n",
       "    <tr style=\"text-align: right;\">\n",
       "      <th></th>\n",
       "      <th>Pclass</th>\n",
       "      <th>Sex</th>\n",
       "      <th>Age</th>\n",
       "      <th>SibSp</th>\n",
       "      <th>Parch</th>\n",
       "      <th>Ticket</th>\n",
       "      <th>Fare</th>\n",
       "      <th>Embarked</th>\n",
       "      <th>FamilySize</th>\n",
       "      <th>FamilyGroup</th>\n",
       "      <th>Deck</th>\n",
       "      <th>TicketFrequency</th>\n",
       "      <th>Title</th>\n",
       "    </tr>\n",
       "  </thead>\n",
       "  <tbody>\n",
       "    <tr>\n",
       "      <th>0</th>\n",
       "      <td>0.0</td>\n",
       "      <td>0.0</td>\n",
       "      <td>12.0</td>\n",
       "      <td>1.0</td>\n",
       "      <td>0.0</td>\n",
       "      <td>681.0</td>\n",
       "      <td>10.0</td>\n",
       "      <td>2</td>\n",
       "      <td>1.0</td>\n",
       "      <td>0.0</td>\n",
       "      <td>0.0</td>\n",
       "      <td>0.0</td>\n",
       "      <td>0.0</td>\n",
       "    </tr>\n",
       "    <tr>\n",
       "      <th>1</th>\n",
       "      <td>0.0</td>\n",
       "      <td>1.0</td>\n",
       "      <td>13.0</td>\n",
       "      <td>0.0</td>\n",
       "      <td>0.0</td>\n",
       "      <td>682.0</td>\n",
       "      <td>11.0</td>\n",
       "      <td>0</td>\n",
       "      <td>0.0</td>\n",
       "      <td>0.0</td>\n",
       "      <td>1.0</td>\n",
       "      <td>0.0</td>\n",
       "      <td>1.0</td>\n",
       "    </tr>\n",
       "    <tr>\n",
       "      <th>2</th>\n",
       "      <td>2.0</td>\n",
       "      <td>0.0</td>\n",
       "      <td>14.0</td>\n",
       "      <td>1.0</td>\n",
       "      <td>0.0</td>\n",
       "      <td>683.0</td>\n",
       "      <td>12.0</td>\n",
       "      <td>2</td>\n",
       "      <td>1.0</td>\n",
       "      <td>1.0</td>\n",
       "      <td>0.0</td>\n",
       "      <td>0.0</td>\n",
       "      <td>0.0</td>\n",
       "    </tr>\n",
       "    <tr>\n",
       "      <th>3</th>\n",
       "      <td>0.0</td>\n",
       "      <td>0.0</td>\n",
       "      <td>15.0</td>\n",
       "      <td>1.0</td>\n",
       "      <td>0.0</td>\n",
       "      <td>684.0</td>\n",
       "      <td>13.0</td>\n",
       "      <td>0</td>\n",
       "      <td>1.0</td>\n",
       "      <td>0.0</td>\n",
       "      <td>1.0</td>\n",
       "      <td>0.0</td>\n",
       "      <td>0.0</td>\n",
       "    </tr>\n",
       "    <tr>\n",
       "      <th>4</th>\n",
       "      <td>0.0</td>\n",
       "      <td>1.0</td>\n",
       "      <td>16.0</td>\n",
       "      <td>0.0</td>\n",
       "      <td>1.0</td>\n",
       "      <td>405.0</td>\n",
       "      <td>14.0</td>\n",
       "      <td>0</td>\n",
       "      <td>3.0</td>\n",
       "      <td>1.0</td>\n",
       "      <td>0.0</td>\n",
       "      <td>0.0</td>\n",
       "      <td>1.0</td>\n",
       "    </tr>\n",
       "    <tr>\n",
       "      <th>...</th>\n",
       "      <td>...</td>\n",
       "      <td>...</td>\n",
       "      <td>...</td>\n",
       "      <td>...</td>\n",
       "      <td>...</td>\n",
       "      <td>...</td>\n",
       "      <td>...</td>\n",
       "      <td>...</td>\n",
       "      <td>...</td>\n",
       "      <td>...</td>\n",
       "      <td>...</td>\n",
       "      <td>...</td>\n",
       "      <td>...</td>\n",
       "    </tr>\n",
       "    <tr>\n",
       "      <th>413</th>\n",
       "      <td>0.0</td>\n",
       "      <td>0.0</td>\n",
       "      <td>22.0</td>\n",
       "      <td>1.0</td>\n",
       "      <td>0.0</td>\n",
       "      <td>926.0</td>\n",
       "      <td>41.0</td>\n",
       "      <td>0</td>\n",
       "      <td>1.0</td>\n",
       "      <td>1.0</td>\n",
       "      <td>0.0</td>\n",
       "      <td>0.0</td>\n",
       "      <td>0.0</td>\n",
       "    </tr>\n",
       "    <tr>\n",
       "      <th>414</th>\n",
       "      <td>1.0</td>\n",
       "      <td>1.0</td>\n",
       "      <td>37.0</td>\n",
       "      <td>1.0</td>\n",
       "      <td>0.0</td>\n",
       "      <td>273.0</td>\n",
       "      <td>178.0</td>\n",
       "      <td>1</td>\n",
       "      <td>1.0</td>\n",
       "      <td>1.0</td>\n",
       "      <td>0.0</td>\n",
       "      <td>0.0</td>\n",
       "      <td>5.0</td>\n",
       "    </tr>\n",
       "    <tr>\n",
       "      <th>415</th>\n",
       "      <td>0.0</td>\n",
       "      <td>0.0</td>\n",
       "      <td>90.0</td>\n",
       "      <td>1.0</td>\n",
       "      <td>0.0</td>\n",
       "      <td>927.0</td>\n",
       "      <td>92.0</td>\n",
       "      <td>0</td>\n",
       "      <td>1.0</td>\n",
       "      <td>1.0</td>\n",
       "      <td>0.0</td>\n",
       "      <td>0.0</td>\n",
       "      <td>0.0</td>\n",
       "    </tr>\n",
       "    <tr>\n",
       "      <th>416</th>\n",
       "      <td>0.0</td>\n",
       "      <td>0.0</td>\n",
       "      <td>22.0</td>\n",
       "      <td>1.0</td>\n",
       "      <td>0.0</td>\n",
       "      <td>928.0</td>\n",
       "      <td>41.0</td>\n",
       "      <td>0</td>\n",
       "      <td>1.0</td>\n",
       "      <td>0.0</td>\n",
       "      <td>0.0</td>\n",
       "      <td>0.0</td>\n",
       "      <td>0.0</td>\n",
       "    </tr>\n",
       "    <tr>\n",
       "      <th>417</th>\n",
       "      <td>0.0</td>\n",
       "      <td>0.0</td>\n",
       "      <td>22.0</td>\n",
       "      <td>0.0</td>\n",
       "      <td>1.0</td>\n",
       "      <td>119.0</td>\n",
       "      <td>179.0</td>\n",
       "      <td>1</td>\n",
       "      <td>3.0</td>\n",
       "      <td>0.0</td>\n",
       "      <td>0.0</td>\n",
       "      <td>0.0</td>\n",
       "      <td>3.0</td>\n",
       "    </tr>\n",
       "  </tbody>\n",
       "</table>\n",
       "<p>418 rows × 13 columns</p>\n",
       "</div>"
      ],
      "text/plain": [
       "     Pclass  Sex   Age  SibSp  Parch  Ticket   Fare  Embarked  FamilySize  \\\n",
       "0       0.0  0.0  12.0    1.0    0.0   681.0   10.0         2         1.0   \n",
       "1       0.0  1.0  13.0    0.0    0.0   682.0   11.0         0         0.0   \n",
       "2       2.0  0.0  14.0    1.0    0.0   683.0   12.0         2         1.0   \n",
       "3       0.0  0.0  15.0    1.0    0.0   684.0   13.0         0         1.0   \n",
       "4       0.0  1.0  16.0    0.0    1.0   405.0   14.0         0         3.0   \n",
       "..      ...  ...   ...    ...    ...     ...    ...       ...         ...   \n",
       "413     0.0  0.0  22.0    1.0    0.0   926.0   41.0         0         1.0   \n",
       "414     1.0  1.0  37.0    1.0    0.0   273.0  178.0         1         1.0   \n",
       "415     0.0  0.0  90.0    1.0    0.0   927.0   92.0         0         1.0   \n",
       "416     0.0  0.0  22.0    1.0    0.0   928.0   41.0         0         1.0   \n",
       "417     0.0  0.0  22.0    0.0    1.0   119.0  179.0         1         3.0   \n",
       "\n",
       "     FamilyGroup  Deck  TicketFrequency  Title  \n",
       "0            0.0   0.0              0.0    0.0  \n",
       "1            0.0   1.0              0.0    1.0  \n",
       "2            1.0   0.0              0.0    0.0  \n",
       "3            0.0   1.0              0.0    0.0  \n",
       "4            1.0   0.0              0.0    1.0  \n",
       "..           ...   ...              ...    ...  \n",
       "413          1.0   0.0              0.0    0.0  \n",
       "414          1.0   0.0              0.0    5.0  \n",
       "415          1.0   0.0              0.0    0.0  \n",
       "416          0.0   0.0              0.0    0.0  \n",
       "417          0.0   0.0              0.0    3.0  \n",
       "\n",
       "[418 rows x 13 columns]"
      ]
     },
     "execution_count": 47,
     "metadata": {},
     "output_type": "execute_result"
    }
   ],
   "source": [
    "df_test"
   ]
  },
  {
   "cell_type": "code",
   "execution_count": null,
   "id": "cf3cb28c",
   "metadata": {
    "id": "IbP9tiwPd8O0",
    "papermill": {
     "duration": 0.106782,
     "end_time": "2022-04-16T07:58:14.105790",
     "exception": false,
     "start_time": "2022-04-16T07:58:13.999008",
     "status": "completed"
    },
    "tags": []
   },
   "outputs": [],
   "source": [
    "\n"
   ]
  },
  {
   "cell_type": "code",
   "execution_count": 48,
   "id": "35f01671",
   "metadata": {
    "execution": {
     "iopub.execute_input": "2022-04-16T07:58:14.319237Z",
     "iopub.status.busy": "2022-04-16T07:58:14.318959Z",
     "iopub.status.idle": "2022-04-16T07:58:15.372396Z",
     "shell.execute_reply": "2022-04-16T07:58:15.371466Z"
    },
    "id": "yQY-eDmpvmB4",
    "papermill": {
     "duration": 1.165679,
     "end_time": "2022-04-16T07:58:15.375251",
     "exception": false,
     "start_time": "2022-04-16T07:58:14.209572",
     "status": "completed"
    },
    "tags": []
   },
   "outputs": [],
   "source": [
    "from torch.nn import *\n",
    "from torch import nn"
   ]
  },
  {
   "cell_type": "code",
   "execution_count": 49,
   "id": "73859271",
   "metadata": {
    "execution": {
     "iopub.execute_input": "2022-04-16T07:58:15.587557Z",
     "iopub.status.busy": "2022-04-16T07:58:15.587141Z",
     "iopub.status.idle": "2022-04-16T07:58:15.746489Z",
     "shell.execute_reply": "2022-04-16T07:58:15.745547Z"
    },
    "id": "sCqvCatNdRwA",
    "papermill": {
     "duration": 0.268155,
     "end_time": "2022-04-16T07:58:15.749605",
     "exception": false,
     "start_time": "2022-04-16T07:58:15.481450",
     "status": "completed"
    },
    "tags": []
   },
   "outputs": [],
   "source": [
    "from torch.utils.data import Dataset\n",
    "from torch.utils.data import DataLoader\n",
    "import torch\n",
    "from fastai.tabular.all import *"
   ]
  },
  {
   "cell_type": "code",
   "execution_count": 50,
   "id": "321c9f48",
   "metadata": {
    "execution": {
     "iopub.execute_input": "2022-04-16T07:58:15.963178Z",
     "iopub.status.busy": "2022-04-16T07:58:15.962462Z",
     "iopub.status.idle": "2022-04-16T07:58:15.973860Z",
     "shell.execute_reply": "2022-04-16T07:58:15.973184Z"
    },
    "id": "iVvb5NIslsVH",
    "outputId": "762ee406-fe9c-4e50-ead3-2f1e8a3c2161",
    "papermill": {
     "duration": 0.121856,
     "end_time": "2022-04-16T07:58:15.975943",
     "exception": false,
     "start_time": "2022-04-16T07:58:15.854087",
     "status": "completed"
    },
    "tags": []
   },
   "outputs": [
    {
     "data": {
      "text/plain": [
       "3"
      ]
     },
     "execution_count": 50,
     "metadata": {},
     "output_type": "execute_result"
    }
   ],
   "source": [
    "cat = df[['Pclass', 'Sex', 'SibSp', 'Parch', 'Embarked', 'Title']]\n",
    "cont = df[['Age', 'Fare']]\n",
    "cat.join(cont).iloc[0]\n",
    "dv = df['Survived']\n",
    "dv.iloc[0]\n",
    "df.index[3]"
   ]
  },
  {
   "cell_type": "code",
   "execution_count": null,
   "id": "fcd89dd1",
   "metadata": {
    "papermill": {
     "duration": 0.105543,
     "end_time": "2022-04-16T07:58:16.188543",
     "exception": false,
     "start_time": "2022-04-16T07:58:16.083000",
     "status": "completed"
    },
    "tags": []
   },
   "outputs": [],
   "source": []
  },
  {
   "cell_type": "code",
   "execution_count": 51,
   "id": "f99a087c",
   "metadata": {
    "execution": {
     "iopub.execute_input": "2022-04-16T07:58:16.402430Z",
     "iopub.status.busy": "2022-04-16T07:58:16.401899Z",
     "iopub.status.idle": "2022-04-16T07:58:16.406731Z",
     "shell.execute_reply": "2022-04-16T07:58:16.406038Z"
    },
    "id": "r5iKlPmmnUUz",
    "papermill": {
     "duration": 0.115651,
     "end_time": "2022-04-16T07:58:16.408686",
     "exception": false,
     "start_time": "2022-04-16T07:58:16.293035",
     "status": "completed"
    },
    "tags": []
   },
   "outputs": [],
   "source": [
    "def randomSplit(df, valid_ratio=0.2, random_state=None):\n",
    "    split_idx = int(len(df.index)*(valid_ratio))\n",
    "    shuffled_df = df.sample(frac=1, random_state=random_state)\n",
    "    return shuffled_df.iloc[split_idx:], shuffled_df[:split_idx]"
   ]
  },
  {
   "cell_type": "code",
   "execution_count": 52,
   "id": "4ccda398",
   "metadata": {
    "execution": {
     "iopub.execute_input": "2022-04-16T07:58:16.617900Z",
     "iopub.status.busy": "2022-04-16T07:58:16.617329Z",
     "iopub.status.idle": "2022-04-16T07:58:16.625555Z",
     "shell.execute_reply": "2022-04-16T07:58:16.624907Z"
    },
    "id": "1lSV1oU8bwAM",
    "papermill": {
     "duration": 0.115474,
     "end_time": "2022-04-16T07:58:16.627797",
     "exception": false,
     "start_time": "2022-04-16T07:58:16.512323",
     "status": "completed"
    },
    "tags": []
   },
   "outputs": [],
   "source": [
    "class TitanicDataset(Dataset):\n",
    "    def __init__(self, df, is_test=False):\n",
    "        self.is_test = is_test\n",
    "        self.df = df.copy()\n",
    "        self.cat = self.df[['Pclass', 'Sex', 'Embarked', 'Title', 'FamilySize', 'FamilyGroup', 'Deck', 'TicketFrequency']].astype(int)\n",
    "        self.cont = self.df[['Age', 'Fare']]\n",
    "        self.res_df = self.cat.join(self.cont)\n",
    "        if not(is_test):\n",
    "            self.dep_var = self.df['Survived'].astype(int)\n",
    "        self.columns = self.res_df.columns\n",
    "    def __len__(self):\n",
    "        return len(self.df)\n",
    "    def __getitem__(self, idx):\n",
    "        if self.is_test:\n",
    "            return self.res_df.iloc[idx].values\n",
    "        else:\n",
    "            return self.res_df.iloc[idx].values, self.dep_var.iloc[idx]"
   ]
  },
  {
   "cell_type": "code",
   "execution_count": 53,
   "id": "15634416",
   "metadata": {
    "execution": {
     "iopub.execute_input": "2022-04-16T07:58:16.841054Z",
     "iopub.status.busy": "2022-04-16T07:58:16.840454Z",
     "iopub.status.idle": "2022-04-16T07:58:16.847084Z",
     "shell.execute_reply": "2022-04-16T07:58:16.846074Z"
    },
    "id": "p1ihRqhs2kz-",
    "papermill": {
     "duration": 0.116947,
     "end_time": "2022-04-16T07:58:16.849614",
     "exception": false,
     "start_time": "2022-04-16T07:58:16.732667",
     "status": "completed"
    },
    "tags": []
   },
   "outputs": [],
   "source": [
    "train_df, valid_df = randomSplit(df)"
   ]
  },
  {
   "cell_type": "code",
   "execution_count": 54,
   "id": "0d0b59a8",
   "metadata": {
    "execution": {
     "iopub.execute_input": "2022-04-16T07:58:17.064508Z",
     "iopub.status.busy": "2022-04-16T07:58:17.063956Z",
     "iopub.status.idle": "2022-04-16T07:58:17.076997Z",
     "shell.execute_reply": "2022-04-16T07:58:17.076242Z"
    },
    "id": "XTcoFKendkpz",
    "papermill": {
     "duration": 0.122758,
     "end_time": "2022-04-16T07:58:17.079148",
     "exception": false,
     "start_time": "2022-04-16T07:58:16.956390",
     "status": "completed"
    },
    "tags": []
   },
   "outputs": [],
   "source": [
    "td = TitanicDataset(train_df)\n",
    "valid_td = TitanicDataset(valid_df)\n",
    "test_ds = TitanicDataset(df_test, is_test=True)\n",
    "in_columns = td.columns\n",
    "cat_columns = td.cat.columns\n",
    "cat_n = len(td.cat.columns)\n",
    "cont_n = len(td.cont.columns)"
   ]
  },
  {
   "cell_type": "code",
   "execution_count": 55,
   "id": "717e342c",
   "metadata": {
    "execution": {
     "iopub.execute_input": "2022-04-16T07:58:17.290863Z",
     "iopub.status.busy": "2022-04-16T07:58:17.290297Z",
     "iopub.status.idle": "2022-04-16T07:58:17.294440Z",
     "shell.execute_reply": "2022-04-16T07:58:17.293878Z"
    },
    "id": "IF6pEYPndx2Q",
    "papermill": {
     "duration": 0.112476,
     "end_time": "2022-04-16T07:58:17.296458",
     "exception": false,
     "start_time": "2022-04-16T07:58:17.183982",
     "status": "completed"
    },
    "tags": []
   },
   "outputs": [],
   "source": [
    "dl = DataLoader(td, batch_size=64)\n",
    "valid_dl = DataLoader(td, batch_size=64)"
   ]
  },
  {
   "cell_type": "code",
   "execution_count": 56,
   "id": "02c799fc",
   "metadata": {
    "execution": {
     "iopub.execute_input": "2022-04-16T07:58:17.510234Z",
     "iopub.status.busy": "2022-04-16T07:58:17.509678Z",
     "iopub.status.idle": "2022-04-16T07:58:17.513359Z",
     "shell.execute_reply": "2022-04-16T07:58:17.512658Z"
    },
    "id": "C-Z5pgpf2085",
    "papermill": {
     "duration": 0.114267,
     "end_time": "2022-04-16T07:58:17.515300",
     "exception": false,
     "start_time": "2022-04-16T07:58:17.401033",
     "status": "completed"
    },
    "tags": []
   },
   "outputs": [],
   "source": [
    "iterdl = iter(dl)"
   ]
  },
  {
   "cell_type": "code",
   "execution_count": null,
   "id": "8a5e030b",
   "metadata": {
    "id": "_Somo8hF269x",
    "papermill": {
     "duration": 0.109302,
     "end_time": "2022-04-16T07:58:17.737145",
     "exception": false,
     "start_time": "2022-04-16T07:58:17.627843",
     "status": "completed"
    },
    "tags": []
   },
   "outputs": [],
   "source": []
  },
  {
   "cell_type": "code",
   "execution_count": 57,
   "id": "5e98509d",
   "metadata": {
    "execution": {
     "iopub.execute_input": "2022-04-16T07:58:17.966503Z",
     "iopub.status.busy": "2022-04-16T07:58:17.965961Z",
     "iopub.status.idle": "2022-04-16T07:58:17.976416Z",
     "shell.execute_reply": "2022-04-16T07:58:17.975673Z"
    },
    "id": "NcJc91Aqn1GJ",
    "papermill": {
     "duration": 0.125715,
     "end_time": "2022-04-16T07:58:17.978601",
     "exception": false,
     "start_time": "2022-04-16T07:58:17.852886",
     "status": "completed"
    },
    "tags": []
   },
   "outputs": [],
   "source": [
    "voc = []\n",
    "for s in cat_columns:\n",
    "    vn = pd.concat([td.cat[s], valid_td.cat[s], test_ds.cat[s]])\n",
    "    vn = vn.astype(int).nunique()\n",
    "    voc.append([vn, vn])\n"
   ]
  },
  {
   "cell_type": "code",
   "execution_count": 58,
   "id": "fe26e632",
   "metadata": {
    "execution": {
     "iopub.execute_input": "2022-04-16T07:58:18.195839Z",
     "iopub.status.busy": "2022-04-16T07:58:18.195276Z",
     "iopub.status.idle": "2022-04-16T07:58:18.200724Z",
     "shell.execute_reply": "2022-04-16T07:58:18.200082Z"
    },
    "id": "J12RmbwluPKD",
    "outputId": "ca50b868-385e-4f83-8287-84e30513cec2",
    "papermill": {
     "duration": 0.11404,
     "end_time": "2022-04-16T07:58:18.202685",
     "exception": false,
     "start_time": "2022-04-16T07:58:18.088645",
     "status": "completed"
    },
    "tags": []
   },
   "outputs": [
    {
     "data": {
      "text/plain": [
       "[[3, 3], [2, 2], [3, 3], [6, 6], [9, 9], [4, 4], [9, 9], [7, 7]]"
      ]
     },
     "execution_count": 58,
     "metadata": {},
     "output_type": "execute_result"
    }
   ],
   "source": [
    "voc"
   ]
  },
  {
   "cell_type": "code",
   "execution_count": 59,
   "id": "955f8131",
   "metadata": {
    "execution": {
     "iopub.execute_input": "2022-04-16T07:58:18.420019Z",
     "iopub.status.busy": "2022-04-16T07:58:18.419398Z",
     "iopub.status.idle": "2022-04-16T07:58:18.433227Z",
     "shell.execute_reply": "2022-04-16T07:58:18.432325Z"
    },
    "id": "0SBg7b0ilJyB",
    "papermill": {
     "duration": 0.127024,
     "end_time": "2022-04-16T07:58:18.435502",
     "exception": false,
     "start_time": "2022-04-16T07:58:18.308478",
     "status": "completed"
    },
    "tags": []
   },
   "outputs": [],
   "source": [
    "class TabModel(Module):\n",
    "    def __init__(self, emb_sz, cat_n, cont_n, layers):\n",
    "        super(TabModel, self).__init__()\n",
    "        self.cat_n = cat_n\n",
    "        self.cont_n = cont_n\n",
    "        self.embeddings = nn.ModuleList(nn.Embedding(ni, nf) for ni, nf in emb_sz)\n",
    "        cat_len = sum([x for _, x in emb_sz])\n",
    "        self.emb_drop = nn.Dropout(0.2)\n",
    "        self.linear_drop = nn.Dropout(0.5)\n",
    "        model = []\n",
    "        model.append(nn.BatchNorm1d(cat_len+cont_n))\n",
    "        model.append(self.linear_drop)\n",
    "        model.append(nn.Linear(cat_len+cont_n, layers[0]))\n",
    "        model.append(nn.Mish())\n",
    "        for i in range(len(layers)-2):\n",
    "            model.append(nn.BatchNorm1d(layers[i]))\n",
    "            model.append(self.linear_drop)\n",
    "            model.append(nn.Linear(layers[i], layers[i+1]))\n",
    "            model.append(nn.Mish())\n",
    "        self.linear = nn.Sequential(*model)\n",
    "        self.final_layer = nn.Linear(layers[-2], layers[-1])\n",
    "        \n",
    "    def forward(self, x):\n",
    "        emb = []\n",
    "        for i in range(self.cat_n):\n",
    "            emb.append(self.embeddings[i](x[:,i].int()))\n",
    "        for i in range(self.cat_n, self.cat_n+self.cont_n):\n",
    "            emb.append(x[:,i].unsqueeze(1))\n",
    "        input = torch.cat(emb, dim=1).float()\n",
    "        res = self.linear(input)\n",
    "        res = self.final_layer(res)\n",
    "        return res\n"
   ]
  },
  {
   "cell_type": "code",
   "execution_count": 60,
   "id": "dc73c46b",
   "metadata": {
    "execution": {
     "iopub.execute_input": "2022-04-16T07:58:18.651324Z",
     "iopub.status.busy": "2022-04-16T07:58:18.651072Z",
     "iopub.status.idle": "2022-04-16T07:58:18.708466Z",
     "shell.execute_reply": "2022-04-16T07:58:18.707457Z"
    },
    "id": "Pgyp6Ntynyo_",
    "papermill": {
     "duration": 0.165452,
     "end_time": "2022-04-16T07:58:18.710911",
     "exception": false,
     "start_time": "2022-04-16T07:58:18.545459",
     "status": "completed"
    },
    "tags": []
   },
   "outputs": [],
   "source": [
    "tabmodel = TabModel(voc, cat_n, cont_n, (400, 300, 200, 100, 2)).to(device)"
   ]
  },
  {
   "cell_type": "code",
   "execution_count": 61,
   "id": "ed818a08",
   "metadata": {
    "execution": {
     "iopub.execute_input": "2022-04-16T07:58:18.924847Z",
     "iopub.status.busy": "2022-04-16T07:58:18.924535Z",
     "iopub.status.idle": "2022-04-16T07:58:18.929900Z",
     "shell.execute_reply": "2022-04-16T07:58:18.929197Z"
    },
    "id": "azJH5KCv0Nu3",
    "outputId": "6158c43f-5850-417b-ca72-efef5f5f0cc0",
    "papermill": {
     "duration": 0.117454,
     "end_time": "2022-04-16T07:58:18.932615",
     "exception": false,
     "start_time": "2022-04-16T07:58:18.815161",
     "status": "completed"
    },
    "tags": []
   },
   "outputs": [
    {
     "name": "stdout",
     "output_type": "stream",
     "text": [
      "TabModel(\n",
      "  (embeddings): ModuleList(\n",
      "    (0): Embedding(3, 3)\n",
      "    (1): Embedding(2, 2)\n",
      "    (2): Embedding(3, 3)\n",
      "    (3): Embedding(6, 6)\n",
      "    (4): Embedding(9, 9)\n",
      "    (5): Embedding(4, 4)\n",
      "    (6): Embedding(9, 9)\n",
      "    (7): Embedding(7, 7)\n",
      "  )\n",
      "  (emb_drop): Dropout(p=0.2, inplace=False)\n",
      "  (linear_drop): Dropout(p=0.5, inplace=False)\n",
      "  (linear): Sequential(\n",
      "    (0): BatchNorm1d(45, eps=1e-05, momentum=0.1, affine=True, track_running_stats=True)\n",
      "    (1): Dropout(p=0.5, inplace=False)\n",
      "    (2): Linear(in_features=45, out_features=400, bias=True)\n",
      "    (3): Mish()\n",
      "    (4): BatchNorm1d(400, eps=1e-05, momentum=0.1, affine=True, track_running_stats=True)\n",
      "    (5): Dropout(p=0.5, inplace=False)\n",
      "    (6): Linear(in_features=400, out_features=300, bias=True)\n",
      "    (7): Mish()\n",
      "    (8): BatchNorm1d(300, eps=1e-05, momentum=0.1, affine=True, track_running_stats=True)\n",
      "    (9): Dropout(p=0.5, inplace=False)\n",
      "    (10): Linear(in_features=300, out_features=200, bias=True)\n",
      "    (11): Mish()\n",
      "    (12): BatchNorm1d(200, eps=1e-05, momentum=0.1, affine=True, track_running_stats=True)\n",
      "    (13): Dropout(p=0.5, inplace=False)\n",
      "    (14): Linear(in_features=200, out_features=100, bias=True)\n",
      "    (15): Mish()\n",
      "  )\n",
      "  (final_layer): Linear(in_features=100, out_features=2, bias=True)\n",
      ")\n"
     ]
    }
   ],
   "source": [
    "print(tabmodel)"
   ]
  },
  {
   "cell_type": "code",
   "execution_count": 62,
   "id": "a6b83966",
   "metadata": {
    "execution": {
     "iopub.execute_input": "2022-04-16T07:58:19.149454Z",
     "iopub.status.busy": "2022-04-16T07:58:19.149037Z",
     "iopub.status.idle": "2022-04-16T07:58:19.152268Z",
     "shell.execute_reply": "2022-04-16T07:58:19.151590Z"
    },
    "id": "9dP2FXI1DMqk",
    "papermill": {
     "duration": 0.113651,
     "end_time": "2022-04-16T07:58:19.154171",
     "exception": false,
     "start_time": "2022-04-16T07:58:19.040520",
     "status": "completed"
    },
    "tags": []
   },
   "outputs": [],
   "source": [
    "dls = dl, valid_dl"
   ]
  },
  {
   "cell_type": "code",
   "execution_count": 63,
   "id": "b00fedfb",
   "metadata": {
    "execution": {
     "iopub.execute_input": "2022-04-16T07:58:19.367282Z",
     "iopub.status.busy": "2022-04-16T07:58:19.366879Z",
     "iopub.status.idle": "2022-04-16T07:58:19.372577Z",
     "shell.execute_reply": "2022-04-16T07:58:19.371920Z"
    },
    "id": "eaD4SzWKkGTs",
    "papermill": {
     "duration": 0.115731,
     "end_time": "2022-04-16T07:58:19.374719",
     "exception": false,
     "start_time": "2022-04-16T07:58:19.258988",
     "status": "completed"
    },
    "tags": []
   },
   "outputs": [],
   "source": [
    "def train(dl, model, loss_fn, optim):\n",
    "    size = len(dl.dataset)\n",
    "    losses = []\n",
    "    for batch, (X, y) in enumerate(dl):\n",
    "        # prediction, loss\n",
    "        pred = model(X)\n",
    "        loss = loss_fn(pred, y)\n",
    "        # backprop\n",
    "        optim.zero_grad()\n",
    "        loss.backward()\n",
    "        optim.step()\n",
    "\n",
    "        losses.append(loss.item())\n",
    "    \n",
    "    print(f'loss: {np.array(losses).mean()}')\n"
   ]
  },
  {
   "cell_type": "code",
   "execution_count": 64,
   "id": "f3cc13f3",
   "metadata": {
    "execution": {
     "iopub.execute_input": "2022-04-16T07:58:19.590436Z",
     "iopub.status.busy": "2022-04-16T07:58:19.589282Z",
     "iopub.status.idle": "2022-04-16T07:58:19.596049Z",
     "shell.execute_reply": "2022-04-16T07:58:19.595390Z"
    },
    "id": "g31GQH3w_kUN",
    "papermill": {
     "duration": 0.117056,
     "end_time": "2022-04-16T07:58:19.598200",
     "exception": false,
     "start_time": "2022-04-16T07:58:19.481144",
     "status": "completed"
    },
    "tags": []
   },
   "outputs": [],
   "source": [
    "def valid(valid_dl, model, loss_fn):\n",
    "    accuracy = []\n",
    "    losses = []\n",
    "    with torch.no_grad():\n",
    "        for batch, (X, y) in enumerate(valid_dl):\n",
    "            #p rediction, loss\n",
    "            pred = model(X)\n",
    "            loss = loss_fn(pred, y)\n",
    "            # metric\n",
    "            accuracy.append((pred.argmax(1)==y).float().flatten().mean())\n",
    "            losses.append(loss.item())\n",
    "    print(f'valid -- accuracy: {np.array(accuracy).mean()}, loss: {np.array(losses).mean()}')"
   ]
  },
  {
   "cell_type": "code",
   "execution_count": 65,
   "id": "4caefa88",
   "metadata": {
    "execution": {
     "iopub.execute_input": "2022-04-16T07:58:19.809658Z",
     "iopub.status.busy": "2022-04-16T07:58:19.809243Z",
     "iopub.status.idle": "2022-04-16T07:58:19.814747Z",
     "shell.execute_reply": "2022-04-16T07:58:19.814061Z"
    },
    "id": "GWBjVQfWDI0r",
    "papermill": {
     "duration": 0.113397,
     "end_time": "2022-04-16T07:58:19.816891",
     "exception": false,
     "start_time": "2022-04-16T07:58:19.703494",
     "status": "completed"
    },
    "tags": []
   },
   "outputs": [],
   "source": [
    "def epoch(n, dls, model:Module, loss_fn, lr=1e-3):\n",
    "    train_dl, valid_dl = dls\n",
    "    \n",
    "    for i in range(n):\n",
    "        # train\n",
    "        model.train()\n",
    "        train(train_dl, model, loss_fn, torch.optim.Adam(model.parameters(), lr= lr))\n",
    "        #validate\n",
    "        model.eval()\n",
    "        valid(valid_dl, model, loss_fn)"
   ]
  },
  {
   "cell_type": "code",
   "execution_count": 66,
   "id": "b0bbb3eb",
   "metadata": {
    "execution": {
     "iopub.execute_input": "2022-04-16T07:58:20.031189Z",
     "iopub.status.busy": "2022-04-16T07:58:20.030536Z",
     "iopub.status.idle": "2022-04-16T07:58:23.427128Z",
     "shell.execute_reply": "2022-04-16T07:58:23.426208Z"
    },
    "id": "3YLxax12s3ZV",
    "outputId": "0b643d39-25e7-4524-a2a2-f3f2b9f0409b",
    "papermill": {
     "duration": 3.507446,
     "end_time": "2022-04-16T07:58:23.429424",
     "exception": false,
     "start_time": "2022-04-16T07:58:19.921978",
     "status": "completed"
    },
    "tags": []
   },
   "outputs": [
    {
     "name": "stdout",
     "output_type": "stream",
     "text": [
      "loss: 0.6248855590820312\n",
      "valid -- accuracy: 0.8004918694496155, loss: 0.5918833116690317\n",
      "loss: 0.5244156395395597\n",
      "valid -- accuracy: 0.8083043694496155, loss: 0.46351439505815506\n",
      "loss: 0.5073673501610756\n",
      "valid -- accuracy: 0.8187210559844971, loss: 0.43097105870644253\n",
      "loss: 0.5133610467116038\n",
      "valid -- accuracy: 0.8109085559844971, loss: 0.4254637708266576\n",
      "loss: 0.5093361015121142\n",
      "valid -- accuracy: 0.8226273059844971, loss: 0.41610782345136005\n",
      "loss: 0.5179296558101972\n",
      "valid -- accuracy: 0.8226273059844971, loss: 0.4154202888409297\n",
      "loss: 0.492535725235939\n",
      "valid -- accuracy: 0.8213252425193787, loss: 0.40827006349960965\n",
      "loss: 0.48753632108370465\n",
      "valid -- accuracy: 0.8239293694496155, loss: 0.41166528811057407\n"
     ]
    }
   ],
   "source": [
    "epoch(8, dls, tabmodel, CrossEntropyLoss(), lr=5e-4)"
   ]
  },
  {
   "cell_type": "code",
   "execution_count": 67,
   "id": "8c1875dd",
   "metadata": {
    "execution": {
     "iopub.execute_input": "2022-04-16T07:58:23.660918Z",
     "iopub.status.busy": "2022-04-16T07:58:23.660334Z",
     "iopub.status.idle": "2022-04-16T07:58:23.665286Z",
     "shell.execute_reply": "2022-04-16T07:58:23.664586Z"
    },
    "id": "92EJ-f5yFRne",
    "papermill": {
     "duration": 0.122436,
     "end_time": "2022-04-16T07:58:23.667542",
     "exception": false,
     "start_time": "2022-04-16T07:58:23.545106",
     "status": "completed"
    },
    "tags": []
   },
   "outputs": [],
   "source": [
    "def predictWhole(data, model):\n",
    "    model.eval()\n",
    "    pred = model(data)\n",
    "    return pred.argmax(1)"
   ]
  },
  {
   "cell_type": "code",
   "execution_count": 68,
   "id": "66a94612",
   "metadata": {
    "execution": {
     "iopub.execute_input": "2022-04-16T07:58:23.898309Z",
     "iopub.status.busy": "2022-04-16T07:58:23.897995Z",
     "iopub.status.idle": "2022-04-16T07:58:23.956838Z",
     "shell.execute_reply": "2022-04-16T07:58:23.955878Z"
    },
    "id": "A28cUom3tXCM",
    "papermill": {
     "duration": 0.180273,
     "end_time": "2022-04-16T07:58:23.959458",
     "exception": false,
     "start_time": "2022-04-16T07:58:23.779185",
     "status": "completed"
    },
    "tags": []
   },
   "outputs": [],
   "source": [
    "test_ds_raw = torch.Tensor(np.array(test_ds))"
   ]
  },
  {
   "cell_type": "code",
   "execution_count": 69,
   "id": "89fed8ef",
   "metadata": {
    "execution": {
     "iopub.execute_input": "2022-04-16T07:58:24.183457Z",
     "iopub.status.busy": "2022-04-16T07:58:24.183155Z",
     "iopub.status.idle": "2022-04-16T07:58:24.200576Z",
     "shell.execute_reply": "2022-04-16T07:58:24.199996Z"
    },
    "id": "EpLqTfpZZ2is",
    "outputId": "76882f4f-19b7-41de-99eb-723c47f627b4",
    "papermill": {
     "duration": 0.130688,
     "end_time": "2022-04-16T07:58:24.202624",
     "exception": false,
     "start_time": "2022-04-16T07:58:24.071936",
     "status": "completed"
    },
    "tags": []
   },
   "outputs": [
    {
     "data": {
      "text/plain": [
       "tensor([[  0.,   0.,   2.,  ...,   0.,  12.,  10.],\n",
       "        [  0.,   1.,   0.,  ...,   0.,  13.,  11.],\n",
       "        [  2.,   0.,   2.,  ...,   0.,  14.,  12.],\n",
       "        ...,\n",
       "        [  0.,   0.,   0.,  ...,   0.,  90.,  92.],\n",
       "        [  0.,   0.,   0.,  ...,   0.,  22.,  41.],\n",
       "        [  0.,   0.,   1.,  ...,   0.,  22., 179.]])"
      ]
     },
     "execution_count": 69,
     "metadata": {},
     "output_type": "execute_result"
    }
   ],
   "source": [
    "test_ds_raw"
   ]
  },
  {
   "cell_type": "code",
   "execution_count": 70,
   "id": "82daac04",
   "metadata": {
    "execution": {
     "iopub.execute_input": "2022-04-16T07:58:24.426876Z",
     "iopub.status.busy": "2022-04-16T07:58:24.425745Z",
     "iopub.status.idle": "2022-04-16T07:58:24.447924Z",
     "shell.execute_reply": "2022-04-16T07:58:24.447199Z"
    },
    "id": "Gaz-1GGsLWSa",
    "outputId": "bdb38471-e93f-45b6-8bf5-cc40cbb53284",
    "papermill": {
     "duration": 0.135792,
     "end_time": "2022-04-16T07:58:24.450143",
     "exception": false,
     "start_time": "2022-04-16T07:58:24.314351",
     "status": "completed"
    },
    "tags": []
   },
   "outputs": [
    {
     "data": {
      "text/plain": [
       "418"
      ]
     },
     "execution_count": 70,
     "metadata": {},
     "output_type": "execute_result"
    }
   ],
   "source": [
    "preds = predictWhole(test_ds_raw, tabmodel)\n",
    "len(preds)"
   ]
  },
  {
   "cell_type": "code",
   "execution_count": 71,
   "id": "8d09a6a8",
   "metadata": {
    "execution": {
     "iopub.execute_input": "2022-04-16T07:58:24.672642Z",
     "iopub.status.busy": "2022-04-16T07:58:24.671925Z",
     "iopub.status.idle": "2022-04-16T07:58:24.676403Z",
     "shell.execute_reply": "2022-04-16T07:58:24.675870Z"
    },
    "id": "Ol7VwkHuLgFS",
    "papermill": {
     "duration": 0.117584,
     "end_time": "2022-04-16T07:58:24.678383",
     "exception": false,
     "start_time": "2022-04-16T07:58:24.560799",
     "status": "completed"
    },
    "tags": []
   },
   "outputs": [],
   "source": [
    "result = pd.DataFrame({'PassengerId': df_test_pi, 'Survived': preds})"
   ]
  },
  {
   "cell_type": "code",
   "execution_count": 72,
   "id": "9bf0252f",
   "metadata": {
    "execution": {
     "iopub.execute_input": "2022-04-16T07:58:24.901751Z",
     "iopub.status.busy": "2022-04-16T07:58:24.901174Z",
     "iopub.status.idle": "2022-04-16T07:58:24.909270Z",
     "shell.execute_reply": "2022-04-16T07:58:24.908414Z"
    },
    "id": "nZ36hM3iL4Ku",
    "papermill": {
     "duration": 0.122265,
     "end_time": "2022-04-16T07:58:24.911502",
     "exception": false,
     "start_time": "2022-04-16T07:58:24.789237",
     "status": "completed"
    },
    "tags": []
   },
   "outputs": [],
   "source": [
    "result.to_csv('submission.csv', index=False)"
   ]
  },
  {
   "cell_type": "code",
   "execution_count": 73,
   "id": "7b2a2de4",
   "metadata": {
    "execution": {
     "iopub.execute_input": "2022-04-16T07:58:25.140330Z",
     "iopub.status.busy": "2022-04-16T07:58:25.139771Z",
     "iopub.status.idle": "2022-04-16T07:58:25.144862Z",
     "shell.execute_reply": "2022-04-16T07:58:25.144210Z"
    },
    "papermill": {
     "duration": 0.120621,
     "end_time": "2022-04-16T07:58:25.146977",
     "exception": false,
     "start_time": "2022-04-16T07:58:25.026356",
     "status": "completed"
    },
    "tags": []
   },
   "outputs": [],
   "source": [
    "def randSplit(l, valid_ratio=0.2):\n",
    "    idxs = np.arange(l)\n",
    "    np.random.shuffle(idxs)\n",
    "    cut = int(l*valid_ratio)\n",
    "    return idxs[:cut], idxs[cut:]"
   ]
  },
  {
   "cell_type": "code",
   "execution_count": 74,
   "id": "166c72b1",
   "metadata": {
    "execution": {
     "iopub.execute_input": "2022-04-16T07:58:25.371907Z",
     "iopub.status.busy": "2022-04-16T07:58:25.371344Z",
     "iopub.status.idle": "2022-04-16T07:58:25.375397Z",
     "shell.execute_reply": "2022-04-16T07:58:25.374450Z"
    },
    "id": "ZXGUSbcaNLJc",
    "papermill": {
     "duration": 0.119205,
     "end_time": "2022-04-16T07:58:25.377593",
     "exception": false,
     "start_time": "2022-04-16T07:58:25.258388",
     "status": "completed"
    },
    "tags": []
   },
   "outputs": [],
   "source": [
    "dls = DataLoaders(dl, valid_dl)"
   ]
  },
  {
   "cell_type": "code",
   "execution_count": 75,
   "id": "996d0a1f",
   "metadata": {
    "execution": {
     "iopub.execute_input": "2022-04-16T07:58:25.609767Z",
     "iopub.status.busy": "2022-04-16T07:58:25.609309Z",
     "iopub.status.idle": "2022-04-16T07:58:25.620631Z",
     "shell.execute_reply": "2022-04-16T07:58:25.619943Z"
    },
    "papermill": {
     "duration": 0.128955,
     "end_time": "2022-04-16T07:58:25.622697",
     "exception": false,
     "start_time": "2022-04-16T07:58:25.493742",
     "status": "completed"
    },
    "tags": []
   },
   "outputs": [
    {
     "data": {
      "text/plain": [
       "[[3, 3], [2, 2], [3, 3], [6, 4], [9, 5], [4, 3], [9, 5], [7, 5]]"
      ]
     },
     "execution_count": 75,
     "metadata": {},
     "output_type": "execute_result"
    }
   ],
   "source": [
    "voc = []\n",
    "for s in cat_columns:\n",
    "    vn = pd.concat([td.cat[s], valid_td.cat[s], test_ds.cat[s]])\n",
    "    vn = vn.astype(int).nunique()\n",
    "    voc.append([vn, round(1.6 * vn**0.56)])\n",
    "voc"
   ]
  },
  {
   "cell_type": "code",
   "execution_count": 76,
   "id": "a4453bd4",
   "metadata": {
    "execution": {
     "iopub.execute_input": "2022-04-16T07:58:25.849645Z",
     "iopub.status.busy": "2022-04-16T07:58:25.849343Z",
     "iopub.status.idle": "2022-04-16T07:58:25.857659Z",
     "shell.execute_reply": "2022-04-16T07:58:25.857000Z"
    },
    "papermill": {
     "duration": 0.123382,
     "end_time": "2022-04-16T07:58:25.859732",
     "exception": false,
     "start_time": "2022-04-16T07:58:25.736350",
     "status": "completed"
    },
    "tags": []
   },
   "outputs": [
    {
     "name": "stdout",
     "output_type": "stream",
     "text": [
      "TabModel(\n",
      "  (embeddings): ModuleList(\n",
      "    (0): Embedding(3, 3)\n",
      "    (1): Embedding(2, 2)\n",
      "    (2): Embedding(3, 3)\n",
      "    (3): Embedding(6, 4)\n",
      "    (4): Embedding(9, 5)\n",
      "    (5): Embedding(4, 3)\n",
      "    (6): Embedding(9, 5)\n",
      "    (7): Embedding(7, 5)\n",
      "  )\n",
      "  (emb_drop): Dropout(p=0.2, inplace=False)\n",
      "  (linear_drop): Dropout(p=0.5, inplace=False)\n",
      "  (linear): Sequential(\n",
      "    (0): BatchNorm1d(32, eps=1e-05, momentum=0.1, affine=True, track_running_stats=True)\n",
      "    (1): Dropout(p=0.5, inplace=False)\n",
      "    (2): Linear(in_features=32, out_features=200, bias=True)\n",
      "    (3): Mish()\n",
      "    (4): BatchNorm1d(200, eps=1e-05, momentum=0.1, affine=True, track_running_stats=True)\n",
      "    (5): Dropout(p=0.5, inplace=False)\n",
      "    (6): Linear(in_features=200, out_features=70, bias=True)\n",
      "    (7): Mish()\n",
      "  )\n",
      "  (final_layer): Linear(in_features=70, out_features=2, bias=True)\n",
      ")\n"
     ]
    }
   ],
   "source": [
    "tabmodel = TabModel(voc, cat_n, cont_n, (200, 70, 2)).to(device)\n",
    "print(tabmodel)"
   ]
  },
  {
   "cell_type": "code",
   "execution_count": 77,
   "id": "69c12081",
   "metadata": {
    "execution": {
     "iopub.execute_input": "2022-04-16T07:58:26.089260Z",
     "iopub.status.busy": "2022-04-16T07:58:26.088711Z",
     "iopub.status.idle": "2022-04-16T07:58:26.093768Z",
     "shell.execute_reply": "2022-04-16T07:58:26.093077Z"
    },
    "papermill": {
     "duration": 0.123389,
     "end_time": "2022-04-16T07:58:26.096001",
     "exception": false,
     "start_time": "2022-04-16T07:58:25.972612",
     "status": "completed"
    },
    "tags": []
   },
   "outputs": [],
   "source": [
    "learn = Learner(dls, tabmodel, loss_func=CrossEntropyLossFlat(), metrics=accuracy)"
   ]
  },
  {
   "cell_type": "code",
   "execution_count": 78,
   "id": "a89a1ca6",
   "metadata": {
    "execution": {
     "iopub.execute_input": "2022-04-16T07:58:26.323095Z",
     "iopub.status.busy": "2022-04-16T07:58:26.322466Z",
     "iopub.status.idle": "2022-04-16T07:58:29.234097Z",
     "shell.execute_reply": "2022-04-16T07:58:29.232406Z"
    },
    "papermill": {
     "duration": 3.029191,
     "end_time": "2022-04-16T07:58:29.236495",
     "exception": false,
     "start_time": "2022-04-16T07:58:26.207304",
     "status": "completed"
    },
    "tags": []
   },
   "outputs": [
    {
     "data": {
      "text/html": [
       "\n",
       "<style>\n",
       "    /* Turns off some styling */\n",
       "    progress {\n",
       "        /* gets rid of default border in Firefox and Opera. */\n",
       "        border: none;\n",
       "        /* Needs to be in here for Safari polyfill so background images work as expected. */\n",
       "        background-size: auto;\n",
       "    }\n",
       "    .progress-bar-interrupted, .progress-bar-interrupted::-webkit-progress-bar {\n",
       "        background: #F44336;\n",
       "    }\n",
       "</style>\n"
      ],
      "text/plain": [
       "<IPython.core.display.HTML object>"
      ]
     },
     "metadata": {},
     "output_type": "display_data"
    },
    {
     "data": {
      "text/html": [],
      "text/plain": [
       "<IPython.core.display.HTML object>"
      ]
     },
     "metadata": {},
     "output_type": "display_data"
    },
    {
     "data": {
      "text/plain": [
       "SuggestedLRs(valley=0.0010000000474974513)"
      ]
     },
     "execution_count": 78,
     "metadata": {},
     "output_type": "execute_result"
    },
    {
     "data": {
      "image/png": "[encoded data removed]",
      "text/plain": [
       "<Figure size 432x288 with 1 Axes>"
      ]
     },
     "metadata": {
      "needs_background": "light"
     },
     "output_type": "display_data"
    }
   ],
   "source": [
    "learn.lr_find()"
   ]
  },
  {
   "cell_type": "code",
   "execution_count": 79,
   "id": "f702acc6",
   "metadata": {
    "execution": {
     "iopub.execute_input": "2022-04-16T07:58:29.466224Z",
     "iopub.status.busy": "2022-04-16T07:58:29.465927Z",
     "iopub.status.idle": "2022-04-16T07:58:31.570134Z",
     "shell.execute_reply": "2022-04-16T07:58:31.568564Z"
    },
    "papermill": {
     "duration": 2.221058,
     "end_time": "2022-04-16T07:58:31.572453",
     "exception": false,
     "start_time": "2022-04-16T07:58:29.351395",
     "status": "completed"
    },
    "tags": []
   },
   "outputs": [
    {
     "data": {
      "text/html": [
       "\n",
       "<style>\n",
       "    /* Turns off some styling */\n",
       "    progress {\n",
       "        /* gets rid of default border in Firefox and Opera. */\n",
       "        border: none;\n",
       "        /* Needs to be in here for Safari polyfill so background images work as expected. */\n",
       "        background-size: auto;\n",
       "    }\n",
       "    .progress-bar-interrupted, .progress-bar-interrupted::-webkit-progress-bar {\n",
       "        background: #F44336;\n",
       "    }\n",
       "</style>\n"
      ],
      "text/plain": [
       "<IPython.core.display.HTML object>"
      ]
     },
     "metadata": {},
     "output_type": "display_data"
    },
    {
     "data": {
      "text/html": [
       "<table border=\"1\" class=\"dataframe\">\n",
       "  <thead>\n",
       "    <tr style=\"text-align: left;\">\n",
       "      <th>epoch</th>\n",
       "      <th>train_loss</th>\n",
       "      <th>valid_loss</th>\n",
       "      <th>accuracy</th>\n",
       "      <th>time</th>\n",
       "    </tr>\n",
       "  </thead>\n",
       "  <tbody>\n",
       "    <tr>\n",
       "      <td>0</td>\n",
       "      <td>0.647052</td>\n",
       "      <td>0.601149</td>\n",
       "      <td>0.741935</td>\n",
       "      <td>00:00</td>\n",
       "    </tr>\n",
       "    <tr>\n",
       "      <td>1</td>\n",
       "      <td>0.583370</td>\n",
       "      <td>0.488077</td>\n",
       "      <td>0.775596</td>\n",
       "      <td>00:00</td>\n",
       "    </tr>\n",
       "    <tr>\n",
       "      <td>2</td>\n",
       "      <td>0.538440</td>\n",
       "      <td>0.451450</td>\n",
       "      <td>0.806452</td>\n",
       "      <td>00:00</td>\n",
       "    </tr>\n",
       "    <tr>\n",
       "      <td>3</td>\n",
       "      <td>0.527641</td>\n",
       "      <td>0.443597</td>\n",
       "      <td>0.813464</td>\n",
       "      <td>00:00</td>\n",
       "    </tr>\n",
       "    <tr>\n",
       "      <td>4</td>\n",
       "      <td>0.520177</td>\n",
       "      <td>0.441574</td>\n",
       "      <td>0.810659</td>\n",
       "      <td>00:00</td>\n",
       "    </tr>\n",
       "  </tbody>\n",
       "</table>"
      ],
      "text/plain": [
       "<IPython.core.display.HTML object>"
      ]
     },
     "metadata": {},
     "output_type": "display_data"
    }
   ],
   "source": [
    "learn.fit_one_cycle(5, 1e-3)"
   ]
  },
  {
   "cell_type": "code",
   "execution_count": 80,
   "id": "8da866c4",
   "metadata": {
    "execution": {
     "iopub.execute_input": "2022-04-16T07:58:31.814531Z",
     "iopub.status.busy": "2022-04-16T07:58:31.813964Z",
     "iopub.status.idle": "2022-04-16T07:58:31.822354Z",
     "shell.execute_reply": "2022-04-16T07:58:31.821638Z"
    },
    "papermill": {
     "duration": 0.129364,
     "end_time": "2022-04-16T07:58:31.824530",
     "exception": false,
     "start_time": "2022-04-16T07:58:31.695166",
     "status": "completed"
    },
    "tags": []
   },
   "outputs": [],
   "source": [
    "preds = predictWhole(test_ds_raw, tabmodel)"
   ]
  },
  {
   "cell_type": "code",
   "execution_count": 81,
   "id": "a084cc78",
   "metadata": {
    "execution": {
     "iopub.execute_input": "2022-04-16T07:58:32.059012Z",
     "iopub.status.busy": "2022-04-16T07:58:32.058133Z",
     "iopub.status.idle": "2022-04-16T07:58:32.066515Z",
     "shell.execute_reply": "2022-04-16T07:58:32.065393Z"
    },
    "papermill": {
     "duration": 0.128684,
     "end_time": "2022-04-16T07:58:32.069088",
     "exception": false,
     "start_time": "2022-04-16T07:58:31.940404",
     "status": "completed"
    },
    "tags": []
   },
   "outputs": [],
   "source": [
    "result = pd.DataFrame({'PassengerId': df_test_pi, 'Survived': preds})\n",
    "result.to_csv('submission_fastai.csv', index=False)"
   ]
  },
  {
   "cell_type": "code",
   "execution_count": null,
   "id": "5c672034",
   "metadata": {
    "papermill": {
     "duration": 0.116273,
     "end_time": "2022-04-16T07:58:32.302654",
     "exception": false,
     "start_time": "2022-04-16T07:58:32.186381",
     "status": "completed"
    },
    "tags": []
   },
   "outputs": [],
   "source": []
  }
 ],
 "metadata": {
  "kernelspec": {
   "display_name": "Python 3",
   "language": "python",
   "name": "python3"
  },
  "language_info": {
   "codemirror_mode": {
    "name": "ipython",
    "version": 3
   },
   "file_extension": ".py",
   "mimetype": "text/x-python",
   "name": "python",
   "nbconvert_exporter": "python",
   "pygments_lexer": "ipython3",
   "version": "3.7.12"
  },
  "papermill": {
   "default_parameters": {},
   "duration": 89.43231,
   "end_time": "2022-04-16T07:58:33.548543",
   "environment_variables": {},
   "exception": null,
   "input_path": "__notebook__.ipynb",
   "output_path": "__notebook__.ipynb",
   "parameters": {},
   "start_time": "2022-04-16T07:57:04.116233",
   "version": "2.3.4"
  }
 },
 "nbformat": 4,
 "nbformat_minor": 5
}
