{
 "cells": [
  {
   "cell_type": "markdown",
   "id": "272d0046",
   "metadata": {
    "id": "view-in-github",
    "papermill": {
     "duration": 0.074176,
     "end_time": "2022-04-17T04:06:27.158067",
     "exception": false,
     "start_time": "2022-04-17T04:06:27.083891",
     "status": "completed"
    },
    "tags": []
   },
   "source": [
    "<a href=\"https://colab.research.google.com/github/Puurun/fastai_code_example/blob/main/Pytorch_Titanic.ipynb\" target=\"_parent\"><img src=\"https://colab.research.google.com/assets/colab-badge.svg\" alt=\"Open In Colab\"/></a>"
   ]
  },
  {
   "cell_type": "code",
   "execution_count": null,
   "id": "f820d254",
   "metadata": {
    "id": "SCI89IkiejzG",
    "outputId": "c8596ff0-5f2b-4bab-99dd-0d0b181f6795",
    "papermill": {
     "duration": 0.080884,
     "end_time": "2022-04-17T04:06:27.311262",
     "exception": false,
     "start_time": "2022-04-17T04:06:27.230378",
     "status": "completed"
    },
    "tags": []
   },
   "outputs": [],
   "source": []
  },
  {
   "cell_type": "code",
   "execution_count": 1,
   "id": "cfbbae41",
   "metadata": {
    "execution": {
     "iopub.execute_input": "2022-04-17T04:06:27.462461Z",
     "iopub.status.busy": "2022-04-17T04:06:27.462009Z",
     "iopub.status.idle": "2022-04-17T04:06:39.426198Z",
     "shell.execute_reply": "2022-04-17T04:06:39.425277Z"
    },
    "id": "-ltAnZP3QBy3",
    "outputId": "5be66168-fe3d-46c9-99f8-2d5496bc6f56",
    "papermill": {
     "duration": 12.041726,
     "end_time": "2022-04-17T04:06:39.428701",
     "exception": false,
     "start_time": "2022-04-17T04:06:27.386975",
     "status": "completed"
    },
    "tags": []
   },
   "outputs": [
    {
     "name": "stdout",
     "output_type": "stream",
     "text": [
      "Collecting impyute\r\n",
      "  Downloading impyute-0.0.8-py2.py3-none-any.whl (31 kB)\r\n",
      "Requirement already satisfied: numpy in /opt/conda/lib/python3.7/site-packages (from impyute) (1.21.5)\r\n",
      "Requirement already satisfied: scipy in /opt/conda/lib/python3.7/site-packages (from impyute) (1.7.3)\r\n",
      "Requirement already satisfied: scikit-learn in /opt/conda/lib/python3.7/site-packages (from impyute) (1.0.2)\r\n",
      "Requirement already satisfied: joblib>=0.11 in /opt/conda/lib/python3.7/site-packages (from scikit-learn->impyute) (1.0.1)\r\n",
      "Requirement already satisfied: threadpoolctl>=2.0.0 in /opt/conda/lib/python3.7/site-packages (from scikit-learn->impyute) (3.1.0)\r\n",
      "Installing collected packages: impyute\r\n",
      "Successfully installed impyute-0.0.8\r\n",
      "\u001b[33mWARNING: Running pip as the 'root' user can result in broken permissions and conflicting behaviour with the system package manager. It is recommended to use a virtual environment instead: https://pip.pypa.io/warnings/venv\u001b[0m\u001b[33m\r\n",
      "\u001b[0m"
     ]
    }
   ],
   "source": [
    "!pip install impyute"
   ]
  },
  {
   "cell_type": "code",
   "execution_count": 2,
   "id": "cdf2d6ec",
   "metadata": {
    "execution": {
     "iopub.execute_input": "2022-04-17T04:06:39.582449Z",
     "iopub.status.busy": "2022-04-17T04:06:39.582173Z",
     "iopub.status.idle": "2022-04-17T04:07:01.889005Z",
     "shell.execute_reply": "2022-04-17T04:07:01.887421Z"
    },
    "id": "h0xhi6k4bUXN",
    "outputId": "4506c3ee-d33e-4811-8dae-0838b19615cc",
    "papermill": {
     "duration": 22.387209,
     "end_time": "2022-04-17T04:07:01.892114",
     "exception": false,
     "start_time": "2022-04-17T04:06:39.504905",
     "status": "completed"
    },
    "tags": []
   },
   "outputs": [
    {
     "name": "stdout",
     "output_type": "stream",
     "text": [
      "\u001b[31mERROR: pip's dependency resolver does not currently take into account all the packages that are installed. This behaviour is the source of the following dependency conflicts.\r\n",
      "tensorflow-io 0.21.0 requires tensorflow-io-gcs-filesystem==0.21.0, which is not installed.\r\n",
      "tensorflow 2.6.3 requires absl-py~=0.10, but you have absl-py 1.0.0 which is incompatible.\r\n",
      "tensorflow 2.6.3 requires numpy~=1.19.2, but you have numpy 1.21.5 which is incompatible.\r\n",
      "tensorflow 2.6.3 requires six~=1.15.0, but you have six 1.16.0 which is incompatible.\r\n",
      "tensorflow 2.6.3 requires wrapt~=1.12.1, but you have wrapt 1.14.0 which is incompatible.\r\n",
      "tensorflow-transform 1.7.0 requires pyarrow<6,>=1, but you have pyarrow 7.0.0 which is incompatible.\r\n",
      "tensorflow-transform 1.7.0 requires tensorflow!=2.0.*,!=2.1.*,!=2.2.*,!=2.3.*,!=2.4.*,!=2.5.*,!=2.6.*,!=2.7.*,<2.9,>=1.15.5, but you have tensorflow 2.6.3 which is incompatible.\r\n",
      "tensorflow-serving-api 2.8.0 requires tensorflow<3,>=2.8.0, but you have tensorflow 2.6.3 which is incompatible.\r\n",
      "rich 12.2.0 requires typing-extensions<5.0,>=4.0.0; python_version < \"3.9\", but you have typing-extensions 3.10.0.2 which is incompatible.\r\n",
      "pytorch-lightning 1.6.0 requires typing-extensions>=4.0.0, but you have typing-extensions 3.10.0.2 which is incompatible.\r\n",
      "flake8 4.0.1 requires importlib-metadata<4.3; python_version < \"3.8\", but you have importlib-metadata 4.11.3 which is incompatible.\r\n",
      "apache-beam 2.37.0 requires dill<0.3.2,>=0.3.1.1, but you have dill 0.3.4 which is incompatible.\r\n",
      "apache-beam 2.37.0 requires httplib2<0.20.0,>=0.8, but you have httplib2 0.20.4 which is incompatible.\r\n",
      "apache-beam 2.37.0 requires pyarrow<7.0.0,>=0.15.1, but you have pyarrow 7.0.0 which is incompatible.\r\n",
      "aioitertools 0.10.0 requires typing_extensions>=4.0; python_version < \"3.10\", but you have typing-extensions 3.10.0.2 which is incompatible.\r\n",
      "aiobotocore 2.2.0 requires botocore<1.24.22,>=1.24.21, but you have botocore 1.24.38 which is incompatible.\u001b[0m\u001b[31m\r\n",
      "\u001b[0m"
     ]
    }
   ],
   "source": [
    "!pip install fastai -Uqq"
   ]
  },
  {
   "cell_type": "code",
   "execution_count": 3,
   "id": "1c13d271",
   "metadata": {
    "execution": {
     "iopub.execute_input": "2022-04-17T04:07:02.050299Z",
     "iopub.status.busy": "2022-04-17T04:07:02.050015Z",
     "iopub.status.idle": "2022-04-17T04:07:02.054560Z",
     "shell.execute_reply": "2022-04-17T04:07:02.053607Z"
    },
    "id": "TNgP1SUQd-sh",
    "papermill": {
     "duration": 0.084932,
     "end_time": "2022-04-17T04:07:02.056532",
     "exception": false,
     "start_time": "2022-04-17T04:07:01.971600",
     "status": "completed"
    },
    "tags": []
   },
   "outputs": [],
   "source": [
    "gpu = False\n",
    "device = 'cuda' if gpu else 'cpu'"
   ]
  },
  {
   "cell_type": "code",
   "execution_count": 4,
   "id": "4365151e",
   "metadata": {
    "execution": {
     "iopub.execute_input": "2022-04-17T04:07:02.209315Z",
     "iopub.status.busy": "2022-04-17T04:07:02.209065Z",
     "iopub.status.idle": "2022-04-17T04:07:03.536084Z",
     "shell.execute_reply": "2022-04-17T04:07:03.535213Z"
    },
    "id": "JYxhj_fHeOwx",
    "papermill": {
     "duration": 1.406487,
     "end_time": "2022-04-17T04:07:03.538327",
     "exception": false,
     "start_time": "2022-04-17T04:07:02.131840",
     "status": "completed"
    },
    "tags": []
   },
   "outputs": [],
   "source": [
    "import pandas as pd\n",
    "import numpy as np\n",
    "import seaborn as sns\n",
    "import matplotlib.pyplot as plt\n",
    "import impyute as im\n",
    "import sys\n",
    "from impyute.imputation.cs import fast_knn\n",
    "from sklearn.preprocessing import OrdinalEncoder"
   ]
  },
  {
   "cell_type": "code",
   "execution_count": 5,
   "id": "59b82807",
   "metadata": {
    "execution": {
     "iopub.execute_input": "2022-04-17T04:07:03.691353Z",
     "iopub.status.busy": "2022-04-17T04:07:03.690764Z",
     "iopub.status.idle": "2022-04-17T04:07:03.719966Z",
     "shell.execute_reply": "2022-04-17T04:07:03.719369Z"
    },
    "id": "ZkXCpX_cedrB",
    "papermill": {
     "duration": 0.107956,
     "end_time": "2022-04-17T04:07:03.722043",
     "exception": false,
     "start_time": "2022-04-17T04:07:03.614087",
     "status": "completed"
    },
    "tags": []
   },
   "outputs": [],
   "source": [
    "df = pd.read_csv('../input/titanic/train.csv')\n",
    "df_test = pd.read_csv('../input/titanic/test.csv')"
   ]
  },
  {
   "cell_type": "code",
   "execution_count": 6,
   "id": "74af8129",
   "metadata": {
    "execution": {
     "iopub.execute_input": "2022-04-17T04:07:03.877725Z",
     "iopub.status.busy": "2022-04-17T04:07:03.877201Z",
     "iopub.status.idle": "2022-04-17T04:07:03.883814Z",
     "shell.execute_reply": "2022-04-17T04:07:03.883259Z"
    },
    "id": "Ebfuhs5-eu87",
    "outputId": "13da6f35-ff67-448e-a73b-0c9449bb3e2e",
    "papermill": {
     "duration": 0.085305,
     "end_time": "2022-04-17T04:07:03.885415",
     "exception": false,
     "start_time": "2022-04-17T04:07:03.800110",
     "status": "completed"
    },
    "tags": []
   },
   "outputs": [
    {
     "data": {
      "text/plain": [
       "array(['PassengerId', 'Survived', 'Pclass', 'Name', 'Sex', 'Age', 'SibSp',\n",
       "       'Parch', 'Ticket', 'Fare', 'Cabin', 'Embarked'], dtype=object)"
      ]
     },
     "execution_count": 6,
     "metadata": {},
     "output_type": "execute_result"
    }
   ],
   "source": [
    "df.columns.values"
   ]
  },
  {
   "cell_type": "code",
   "execution_count": null,
   "id": "1fc2a07b",
   "metadata": {
    "papermill": {
     "duration": 0.080316,
     "end_time": "2022-04-17T04:07:04.041285",
     "exception": false,
     "start_time": "2022-04-17T04:07:03.960969",
     "status": "completed"
    },
    "tags": []
   },
   "outputs": [],
   "source": []
  },
  {
   "cell_type": "code",
   "execution_count": null,
   "id": "66c38723",
   "metadata": {
    "papermill": {
     "duration": 0.075631,
     "end_time": "2022-04-17T04:07:04.193023",
     "exception": false,
     "start_time": "2022-04-17T04:07:04.117392",
     "status": "completed"
    },
    "tags": []
   },
   "outputs": [],
   "source": []
  },
  {
   "cell_type": "code",
   "execution_count": 7,
   "id": "bd2a22ce",
   "metadata": {
    "execution": {
     "iopub.execute_input": "2022-04-17T04:07:04.346902Z",
     "iopub.status.busy": "2022-04-17T04:07:04.346369Z",
     "iopub.status.idle": "2022-04-17T04:07:04.350009Z",
     "shell.execute_reply": "2022-04-17T04:07:04.349473Z"
    },
    "id": "RmyHWYzXe4EJ",
    "papermill": {
     "duration": 0.0819,
     "end_time": "2022-04-17T04:07:04.351667",
     "exception": false,
     "start_time": "2022-04-17T04:07:04.269767",
     "status": "completed"
    },
    "tags": []
   },
   "outputs": [],
   "source": [
    "dep_var = ['Survived']\n",
    "cat_var = ['Sex', 'Embarked']\n",
    "ord_var = ['Pclass']\n",
    "cont_var = ['Age', 'Fare']\n",
    "desc_var = ['SibSp', 'Parch']"
   ]
  },
  {
   "cell_type": "code",
   "execution_count": 8,
   "id": "95ecca87",
   "metadata": {
    "execution": {
     "iopub.execute_input": "2022-04-17T04:07:04.504608Z",
     "iopub.status.busy": "2022-04-17T04:07:04.504032Z",
     "iopub.status.idle": "2022-04-17T04:07:04.531534Z",
     "shell.execute_reply": "2022-04-17T04:07:04.530786Z"
    },
    "id": "OOwkYfTuoCDo",
    "papermill": {
     "duration": 0.10676,
     "end_time": "2022-04-17T04:07:04.533592",
     "exception": false,
     "start_time": "2022-04-17T04:07:04.426832",
     "status": "completed"
    },
    "tags": []
   },
   "outputs": [],
   "source": [
    "combine = [df, df_test]\n",
    "for dataset in combine:\n",
    "    dataset[cat_var+ord_var] = dataset[cat_var+ord_var].astype('category')\n",
    "    dataset['Pclass'] = dataset['Pclass'].cat.set_categories([1, 2, 3], ordered=True)"
   ]
  },
  {
   "cell_type": "code",
   "execution_count": 9,
   "id": "5014ee6b",
   "metadata": {
    "execution": {
     "iopub.execute_input": "2022-04-17T04:07:04.688474Z",
     "iopub.status.busy": "2022-04-17T04:07:04.687926Z",
     "iopub.status.idle": "2022-04-17T04:07:04.694408Z",
     "shell.execute_reply": "2022-04-17T04:07:04.693622Z"
    },
    "id": "reaPqaUmfn2G",
    "outputId": "d2fc0f49-98c2-4759-9c4b-287b1a22475e",
    "papermill": {
     "duration": 0.085594,
     "end_time": "2022-04-17T04:07:04.696295",
     "exception": false,
     "start_time": "2022-04-17T04:07:04.610701",
     "status": "completed"
    },
    "tags": []
   },
   "outputs": [
    {
     "data": {
      "text/plain": [
       "PassengerId       int64\n",
       "Survived          int64\n",
       "Pclass         category\n",
       "Name             object\n",
       "Sex            category\n",
       "Age             float64\n",
       "SibSp             int64\n",
       "Parch             int64\n",
       "Ticket           object\n",
       "Fare            float64\n",
       "Cabin            object\n",
       "Embarked       category\n",
       "dtype: object"
      ]
     },
     "execution_count": 9,
     "metadata": {},
     "output_type": "execute_result"
    }
   ],
   "source": [
    "df.dtypes"
   ]
  },
  {
   "cell_type": "code",
   "execution_count": 10,
   "id": "125caafd",
   "metadata": {
    "execution": {
     "iopub.execute_input": "2022-04-17T04:07:04.851476Z",
     "iopub.status.busy": "2022-04-17T04:07:04.850946Z",
     "iopub.status.idle": "2022-04-17T04:07:04.863031Z",
     "shell.execute_reply": "2022-04-17T04:07:04.862446Z"
    },
    "id": "SqiH0pOrfob-",
    "outputId": "5e1d6efe-0e0a-45d5-90fb-240e5fb6daef",
    "papermill": {
     "duration": 0.092793,
     "end_time": "2022-04-17T04:07:04.864870",
     "exception": false,
     "start_time": "2022-04-17T04:07:04.772077",
     "status": "completed"
    },
    "tags": []
   },
   "outputs": [
    {
     "data": {
      "text/plain": [
       "Cabin          0.771044\n",
       "Age            0.198653\n",
       "Embarked       0.002245\n",
       "PassengerId    0.000000\n",
       "Survived       0.000000\n",
       "Pclass         0.000000\n",
       "Name           0.000000\n",
       "Sex            0.000000\n",
       "SibSp          0.000000\n",
       "Parch          0.000000\n",
       "Ticket         0.000000\n",
       "Fare           0.000000\n",
       "dtype: float64"
      ]
     },
     "execution_count": 10,
     "metadata": {},
     "output_type": "execute_result"
    }
   ],
   "source": [
    "null_check = (df.isnull().sum()/ df.isnull().count()).sort_values(ascending=False)\n",
    "null_check"
   ]
  },
  {
   "cell_type": "code",
   "execution_count": 11,
   "id": "8273a37f",
   "metadata": {
    "execution": {
     "iopub.execute_input": "2022-04-17T04:07:05.019767Z",
     "iopub.status.busy": "2022-04-17T04:07:05.019254Z",
     "iopub.status.idle": "2022-04-17T04:07:05.044186Z",
     "shell.execute_reply": "2022-04-17T04:07:05.043163Z"
    },
    "id": "VGzez6fnf2Qn",
    "outputId": "8ec2ead3-f2c2-4fc0-bd15-0b2e2305601a",
    "papermill": {
     "duration": 0.105317,
     "end_time": "2022-04-17T04:07:05.047106",
     "exception": false,
     "start_time": "2022-04-17T04:07:04.941789",
     "status": "completed"
    },
    "tags": []
   },
   "outputs": [
    {
     "name": "stdout",
     "output_type": "stream",
     "text": [
      "<class 'pandas.core.frame.DataFrame'>\n",
      "RangeIndex: 891 entries, 0 to 890\n",
      "Data columns (total 12 columns):\n",
      " #   Column       Non-Null Count  Dtype   \n",
      "---  ------       --------------  -----   \n",
      " 0   PassengerId  891 non-null    int64   \n",
      " 1   Survived     891 non-null    int64   \n",
      " 2   Pclass       891 non-null    category\n",
      " 3   Name         891 non-null    object  \n",
      " 4   Sex          891 non-null    category\n",
      " 5   Age          714 non-null    float64 \n",
      " 6   SibSp        891 non-null    int64   \n",
      " 7   Parch        891 non-null    int64   \n",
      " 8   Ticket       891 non-null    object  \n",
      " 9   Fare         891 non-null    float64 \n",
      " 10  Cabin        204 non-null    object  \n",
      " 11  Embarked     889 non-null    category\n",
      "dtypes: category(3), float64(2), int64(4), object(3)\n",
      "memory usage: 65.8+ KB\n",
      "****************************************\n",
      "<class 'pandas.core.frame.DataFrame'>\n",
      "RangeIndex: 418 entries, 0 to 417\n",
      "Data columns (total 11 columns):\n",
      " #   Column       Non-Null Count  Dtype   \n",
      "---  ------       --------------  -----   \n",
      " 0   PassengerId  418 non-null    int64   \n",
      " 1   Pclass       418 non-null    category\n",
      " 2   Name         418 non-null    object  \n",
      " 3   Sex          418 non-null    category\n",
      " 4   Age          332 non-null    float64 \n",
      " 5   SibSp        418 non-null    int64   \n",
      " 6   Parch        418 non-null    int64   \n",
      " 7   Ticket       418 non-null    object  \n",
      " 8   Fare         417 non-null    float64 \n",
      " 9   Cabin        91 non-null     object  \n",
      " 10  Embarked     418 non-null    category\n",
      "dtypes: category(3), float64(2), int64(3), object(3)\n",
      "memory usage: 27.9+ KB\n"
     ]
    }
   ],
   "source": [
    "df.info()\n",
    "print('*'*40)\n",
    "df_test.info()"
   ]
  },
  {
   "cell_type": "code",
   "execution_count": 12,
   "id": "f5b0f81c",
   "metadata": {
    "execution": {
     "iopub.execute_input": "2022-04-17T04:07:05.203101Z",
     "iopub.status.busy": "2022-04-17T04:07:05.202360Z",
     "iopub.status.idle": "2022-04-17T04:07:05.233143Z",
     "shell.execute_reply": "2022-04-17T04:07:05.232468Z"
    },
    "id": "hkD9m0ZQgsX-",
    "outputId": "2820baaf-d9fb-4648-8381-767b7a8fee64",
    "papermill": {
     "duration": 0.109639,
     "end_time": "2022-04-17T04:07:05.235053",
     "exception": false,
     "start_time": "2022-04-17T04:07:05.125414",
     "status": "completed"
    },
    "tags": []
   },
   "outputs": [
    {
     "data": {
      "text/html": [
       "<div>\n",
       "<style scoped>\n",
       "    .dataframe tbody tr th:only-of-type {\n",
       "        vertical-align: middle;\n",
       "    }\n",
       "\n",
       "    .dataframe tbody tr th {\n",
       "        vertical-align: top;\n",
       "    }\n",
       "\n",
       "    .dataframe thead th {\n",
       "        text-align: right;\n",
       "    }\n",
       "</style>\n",
       "<table border=\"1\" class=\"dataframe\">\n",
       "  <thead>\n",
       "    <tr style=\"text-align: right;\">\n",
       "      <th></th>\n",
       "      <th>PassengerId</th>\n",
       "      <th>Survived</th>\n",
       "      <th>Age</th>\n",
       "      <th>SibSp</th>\n",
       "      <th>Parch</th>\n",
       "      <th>Fare</th>\n",
       "    </tr>\n",
       "  </thead>\n",
       "  <tbody>\n",
       "    <tr>\n",
       "      <th>count</th>\n",
       "      <td>891.000000</td>\n",
       "      <td>891.000000</td>\n",
       "      <td>714.000000</td>\n",
       "      <td>891.000000</td>\n",
       "      <td>891.000000</td>\n",
       "      <td>891.000000</td>\n",
       "    </tr>\n",
       "    <tr>\n",
       "      <th>mean</th>\n",
       "      <td>446.000000</td>\n",
       "      <td>0.383838</td>\n",
       "      <td>29.699118</td>\n",
       "      <td>0.523008</td>\n",
       "      <td>0.381594</td>\n",
       "      <td>32.204208</td>\n",
       "    </tr>\n",
       "    <tr>\n",
       "      <th>std</th>\n",
       "      <td>257.353842</td>\n",
       "      <td>0.486592</td>\n",
       "      <td>14.526497</td>\n",
       "      <td>1.102743</td>\n",
       "      <td>0.806057</td>\n",
       "      <td>49.693429</td>\n",
       "    </tr>\n",
       "    <tr>\n",
       "      <th>min</th>\n",
       "      <td>1.000000</td>\n",
       "      <td>0.000000</td>\n",
       "      <td>0.420000</td>\n",
       "      <td>0.000000</td>\n",
       "      <td>0.000000</td>\n",
       "      <td>0.000000</td>\n",
       "    </tr>\n",
       "    <tr>\n",
       "      <th>25%</th>\n",
       "      <td>223.500000</td>\n",
       "      <td>0.000000</td>\n",
       "      <td>20.125000</td>\n",
       "      <td>0.000000</td>\n",
       "      <td>0.000000</td>\n",
       "      <td>7.910400</td>\n",
       "    </tr>\n",
       "    <tr>\n",
       "      <th>50%</th>\n",
       "      <td>446.000000</td>\n",
       "      <td>0.000000</td>\n",
       "      <td>28.000000</td>\n",
       "      <td>0.000000</td>\n",
       "      <td>0.000000</td>\n",
       "      <td>14.454200</td>\n",
       "    </tr>\n",
       "    <tr>\n",
       "      <th>75%</th>\n",
       "      <td>668.500000</td>\n",
       "      <td>1.000000</td>\n",
       "      <td>38.000000</td>\n",
       "      <td>1.000000</td>\n",
       "      <td>0.000000</td>\n",
       "      <td>31.000000</td>\n",
       "    </tr>\n",
       "    <tr>\n",
       "      <th>max</th>\n",
       "      <td>891.000000</td>\n",
       "      <td>1.000000</td>\n",
       "      <td>80.000000</td>\n",
       "      <td>8.000000</td>\n",
       "      <td>6.000000</td>\n",
       "      <td>512.329200</td>\n",
       "    </tr>\n",
       "  </tbody>\n",
       "</table>\n",
       "</div>"
      ],
      "text/plain": [
       "       PassengerId    Survived         Age       SibSp       Parch        Fare\n",
       "count   891.000000  891.000000  714.000000  891.000000  891.000000  891.000000\n",
       "mean    446.000000    0.383838   29.699118    0.523008    0.381594   32.204208\n",
       "std     257.353842    0.486592   14.526497    1.102743    0.806057   49.693429\n",
       "min       1.000000    0.000000    0.420000    0.000000    0.000000    0.000000\n",
       "25%     223.500000    0.000000   20.125000    0.000000    0.000000    7.910400\n",
       "50%     446.000000    0.000000   28.000000    0.000000    0.000000   14.454200\n",
       "75%     668.500000    1.000000   38.000000    1.000000    0.000000   31.000000\n",
       "max     891.000000    1.000000   80.000000    8.000000    6.000000  512.329200"
      ]
     },
     "execution_count": 12,
     "metadata": {},
     "output_type": "execute_result"
    }
   ],
   "source": [
    "df.describe()"
   ]
  },
  {
   "cell_type": "code",
   "execution_count": 13,
   "id": "611fffcf",
   "metadata": {
    "execution": {
     "iopub.execute_input": "2022-04-17T04:07:05.389874Z",
     "iopub.status.busy": "2022-04-17T04:07:05.389387Z",
     "iopub.status.idle": "2022-04-17T04:07:05.404012Z",
     "shell.execute_reply": "2022-04-17T04:07:05.403426Z"
    },
    "id": "laMZG81ghSrn",
    "outputId": "8a784e5c-4885-4dfd-e05e-1d65d61b9dea",
    "papermill": {
     "duration": 0.093983,
     "end_time": "2022-04-17T04:07:05.405662",
     "exception": false,
     "start_time": "2022-04-17T04:07:05.311679",
     "status": "completed"
    },
    "tags": []
   },
   "outputs": [
    {
     "data": {
      "text/html": [
       "<div>\n",
       "<style scoped>\n",
       "    .dataframe tbody tr th:only-of-type {\n",
       "        vertical-align: middle;\n",
       "    }\n",
       "\n",
       "    .dataframe tbody tr th {\n",
       "        vertical-align: top;\n",
       "    }\n",
       "\n",
       "    .dataframe thead th {\n",
       "        text-align: right;\n",
       "    }\n",
       "</style>\n",
       "<table border=\"1\" class=\"dataframe\">\n",
       "  <thead>\n",
       "    <tr style=\"text-align: right;\">\n",
       "      <th></th>\n",
       "      <th>Name</th>\n",
       "      <th>Ticket</th>\n",
       "      <th>Cabin</th>\n",
       "    </tr>\n",
       "  </thead>\n",
       "  <tbody>\n",
       "    <tr>\n",
       "      <th>count</th>\n",
       "      <td>891</td>\n",
       "      <td>891</td>\n",
       "      <td>204</td>\n",
       "    </tr>\n",
       "    <tr>\n",
       "      <th>unique</th>\n",
       "      <td>891</td>\n",
       "      <td>681</td>\n",
       "      <td>147</td>\n",
       "    </tr>\n",
       "    <tr>\n",
       "      <th>top</th>\n",
       "      <td>Braund, Mr. Owen Harris</td>\n",
       "      <td>347082</td>\n",
       "      <td>B96 B98</td>\n",
       "    </tr>\n",
       "    <tr>\n",
       "      <th>freq</th>\n",
       "      <td>1</td>\n",
       "      <td>7</td>\n",
       "      <td>4</td>\n",
       "    </tr>\n",
       "  </tbody>\n",
       "</table>\n",
       "</div>"
      ],
      "text/plain": [
       "                           Name  Ticket    Cabin\n",
       "count                       891     891      204\n",
       "unique                      891     681      147\n",
       "top     Braund, Mr. Owen Harris  347082  B96 B98\n",
       "freq                          1       7        4"
      ]
     },
     "execution_count": 13,
     "metadata": {},
     "output_type": "execute_result"
    }
   ],
   "source": [
    "df.describe(include=['O'])"
   ]
  },
  {
   "cell_type": "code",
   "execution_count": 14,
   "id": "c04f3160",
   "metadata": {
    "execution": {
     "iopub.execute_input": "2022-04-17T04:07:05.561346Z",
     "iopub.status.busy": "2022-04-17T04:07:05.560842Z",
     "iopub.status.idle": "2022-04-17T04:07:05.577956Z",
     "shell.execute_reply": "2022-04-17T04:07:05.577354Z"
    },
    "id": "o-dObXW5hoG4",
    "papermill": {
     "duration": 0.097145,
     "end_time": "2022-04-17T04:07:05.579933",
     "exception": false,
     "start_time": "2022-04-17T04:07:05.482788",
     "status": "completed"
    },
    "tags": []
   },
   "outputs": [],
   "source": [
    "# analyze by pivoting features\n",
    "features_to_analyze = ['Pclass', 'SibSp', 'Parch', 'Sex']\n",
    "pivot_analyzation = {\n",
    "    feature: \n",
    "    df[[feature, 'Survived']].groupby(by=[feature], as_index=False).mean().sort_values(by=\"Survived\", ascending=False)\n",
    "    for feature in features_to_analyze\n",
    "}"
   ]
  },
  {
   "cell_type": "code",
   "execution_count": 15,
   "id": "bacdb3be",
   "metadata": {
    "execution": {
     "iopub.execute_input": "2022-04-17T04:07:05.735502Z",
     "iopub.status.busy": "2022-04-17T04:07:05.734969Z",
     "iopub.status.idle": "2022-04-17T04:07:05.742768Z",
     "shell.execute_reply": "2022-04-17T04:07:05.742142Z"
    },
    "id": "gf1yZKlknYg5",
    "outputId": "e2b7d94e-3993-42dd-8144-7b33f5cf9a14",
    "papermill": {
     "duration": 0.087702,
     "end_time": "2022-04-17T04:07:05.744537",
     "exception": false,
     "start_time": "2022-04-17T04:07:05.656835",
     "status": "completed"
    },
    "tags": []
   },
   "outputs": [
    {
     "data": {
      "text/html": [
       "<div>\n",
       "<style scoped>\n",
       "    .dataframe tbody tr th:only-of-type {\n",
       "        vertical-align: middle;\n",
       "    }\n",
       "\n",
       "    .dataframe tbody tr th {\n",
       "        vertical-align: top;\n",
       "    }\n",
       "\n",
       "    .dataframe thead th {\n",
       "        text-align: right;\n",
       "    }\n",
       "</style>\n",
       "<table border=\"1\" class=\"dataframe\">\n",
       "  <thead>\n",
       "    <tr style=\"text-align: right;\">\n",
       "      <th></th>\n",
       "      <th>Pclass</th>\n",
       "      <th>Survived</th>\n",
       "    </tr>\n",
       "  </thead>\n",
       "  <tbody>\n",
       "    <tr>\n",
       "      <th>0</th>\n",
       "      <td>1</td>\n",
       "      <td>0.629630</td>\n",
       "    </tr>\n",
       "    <tr>\n",
       "      <th>1</th>\n",
       "      <td>2</td>\n",
       "      <td>0.472826</td>\n",
       "    </tr>\n",
       "    <tr>\n",
       "      <th>2</th>\n",
       "      <td>3</td>\n",
       "      <td>0.242363</td>\n",
       "    </tr>\n",
       "  </tbody>\n",
       "</table>\n",
       "</div>"
      ],
      "text/plain": [
       "  Pclass  Survived\n",
       "0      1  0.629630\n",
       "1      2  0.472826\n",
       "2      3  0.242363"
      ]
     },
     "execution_count": 15,
     "metadata": {},
     "output_type": "execute_result"
    }
   ],
   "source": [
    "pivot_analyzation['Pclass']"
   ]
  },
  {
   "cell_type": "code",
   "execution_count": 16,
   "id": "8bb1b912",
   "metadata": {
    "execution": {
     "iopub.execute_input": "2022-04-17T04:07:05.905952Z",
     "iopub.status.busy": "2022-04-17T04:07:05.905482Z",
     "iopub.status.idle": "2022-04-17T04:07:05.913252Z",
     "shell.execute_reply": "2022-04-17T04:07:05.912514Z"
    },
    "id": "tpunEm9lqUQx",
    "outputId": "ef38b2ec-6d29-4e6c-9e2f-0ff7a2e5a2b0",
    "papermill": {
     "duration": 0.090799,
     "end_time": "2022-04-17T04:07:05.915009",
     "exception": false,
     "start_time": "2022-04-17T04:07:05.824210",
     "status": "completed"
    },
    "tags": []
   },
   "outputs": [
    {
     "data": {
      "text/html": [
       "<div>\n",
       "<style scoped>\n",
       "    .dataframe tbody tr th:only-of-type {\n",
       "        vertical-align: middle;\n",
       "    }\n",
       "\n",
       "    .dataframe tbody tr th {\n",
       "        vertical-align: top;\n",
       "    }\n",
       "\n",
       "    .dataframe thead th {\n",
       "        text-align: right;\n",
       "    }\n",
       "</style>\n",
       "<table border=\"1\" class=\"dataframe\">\n",
       "  <thead>\n",
       "    <tr style=\"text-align: right;\">\n",
       "      <th></th>\n",
       "      <th>Sex</th>\n",
       "      <th>Survived</th>\n",
       "    </tr>\n",
       "  </thead>\n",
       "  <tbody>\n",
       "    <tr>\n",
       "      <th>0</th>\n",
       "      <td>female</td>\n",
       "      <td>0.742038</td>\n",
       "    </tr>\n",
       "    <tr>\n",
       "      <th>1</th>\n",
       "      <td>male</td>\n",
       "      <td>0.188908</td>\n",
       "    </tr>\n",
       "  </tbody>\n",
       "</table>\n",
       "</div>"
      ],
      "text/plain": [
       "      Sex  Survived\n",
       "0  female  0.742038\n",
       "1    male  0.188908"
      ]
     },
     "execution_count": 16,
     "metadata": {},
     "output_type": "execute_result"
    }
   ],
   "source": [
    "pivot_analyzation['Sex']"
   ]
  },
  {
   "cell_type": "code",
   "execution_count": 17,
   "id": "0646925d",
   "metadata": {
    "execution": {
     "iopub.execute_input": "2022-04-17T04:07:06.074417Z",
     "iopub.status.busy": "2022-04-17T04:07:06.073890Z",
     "iopub.status.idle": "2022-04-17T04:07:06.082976Z",
     "shell.execute_reply": "2022-04-17T04:07:06.082180Z"
    },
    "id": "241vk8uuqVpB",
    "outputId": "bbd52dc0-574e-44ce-efd8-d98f78847f81",
    "papermill": {
     "duration": 0.091386,
     "end_time": "2022-04-17T04:07:06.084886",
     "exception": false,
     "start_time": "2022-04-17T04:07:05.993500",
     "status": "completed"
    },
    "tags": []
   },
   "outputs": [
    {
     "data": {
      "text/html": [
       "<div>\n",
       "<style scoped>\n",
       "    .dataframe tbody tr th:only-of-type {\n",
       "        vertical-align: middle;\n",
       "    }\n",
       "\n",
       "    .dataframe tbody tr th {\n",
       "        vertical-align: top;\n",
       "    }\n",
       "\n",
       "    .dataframe thead th {\n",
       "        text-align: right;\n",
       "    }\n",
       "</style>\n",
       "<table border=\"1\" class=\"dataframe\">\n",
       "  <thead>\n",
       "    <tr style=\"text-align: right;\">\n",
       "      <th></th>\n",
       "      <th>SibSp</th>\n",
       "      <th>Survived</th>\n",
       "    </tr>\n",
       "  </thead>\n",
       "  <tbody>\n",
       "    <tr>\n",
       "      <th>1</th>\n",
       "      <td>1</td>\n",
       "      <td>0.535885</td>\n",
       "    </tr>\n",
       "    <tr>\n",
       "      <th>2</th>\n",
       "      <td>2</td>\n",
       "      <td>0.464286</td>\n",
       "    </tr>\n",
       "    <tr>\n",
       "      <th>0</th>\n",
       "      <td>0</td>\n",
       "      <td>0.345395</td>\n",
       "    </tr>\n",
       "    <tr>\n",
       "      <th>3</th>\n",
       "      <td>3</td>\n",
       "      <td>0.250000</td>\n",
       "    </tr>\n",
       "    <tr>\n",
       "      <th>4</th>\n",
       "      <td>4</td>\n",
       "      <td>0.166667</td>\n",
       "    </tr>\n",
       "    <tr>\n",
       "      <th>5</th>\n",
       "      <td>5</td>\n",
       "      <td>0.000000</td>\n",
       "    </tr>\n",
       "    <tr>\n",
       "      <th>6</th>\n",
       "      <td>8</td>\n",
       "      <td>0.000000</td>\n",
       "    </tr>\n",
       "  </tbody>\n",
       "</table>\n",
       "</div>"
      ],
      "text/plain": [
       "   SibSp  Survived\n",
       "1      1  0.535885\n",
       "2      2  0.464286\n",
       "0      0  0.345395\n",
       "3      3  0.250000\n",
       "4      4  0.166667\n",
       "5      5  0.000000\n",
       "6      8  0.000000"
      ]
     },
     "execution_count": 17,
     "metadata": {},
     "output_type": "execute_result"
    }
   ],
   "source": [
    "pivot_analyzation['SibSp']"
   ]
  },
  {
   "cell_type": "code",
   "execution_count": 18,
   "id": "732d11cf",
   "metadata": {
    "execution": {
     "iopub.execute_input": "2022-04-17T04:07:06.245516Z",
     "iopub.status.busy": "2022-04-17T04:07:06.244985Z",
     "iopub.status.idle": "2022-04-17T04:07:06.253756Z",
     "shell.execute_reply": "2022-04-17T04:07:06.252897Z"
    },
    "id": "lHpIt7GiqW2p",
    "outputId": "bc17a7cf-30b1-4028-834c-f803b569cf2e",
    "papermill": {
     "duration": 0.092725,
     "end_time": "2022-04-17T04:07:06.255626",
     "exception": false,
     "start_time": "2022-04-17T04:07:06.162901",
     "status": "completed"
    },
    "tags": []
   },
   "outputs": [
    {
     "data": {
      "text/html": [
       "<div>\n",
       "<style scoped>\n",
       "    .dataframe tbody tr th:only-of-type {\n",
       "        vertical-align: middle;\n",
       "    }\n",
       "\n",
       "    .dataframe tbody tr th {\n",
       "        vertical-align: top;\n",
       "    }\n",
       "\n",
       "    .dataframe thead th {\n",
       "        text-align: right;\n",
       "    }\n",
       "</style>\n",
       "<table border=\"1\" class=\"dataframe\">\n",
       "  <thead>\n",
       "    <tr style=\"text-align: right;\">\n",
       "      <th></th>\n",
       "      <th>Parch</th>\n",
       "      <th>Survived</th>\n",
       "    </tr>\n",
       "  </thead>\n",
       "  <tbody>\n",
       "    <tr>\n",
       "      <th>3</th>\n",
       "      <td>3</td>\n",
       "      <td>0.600000</td>\n",
       "    </tr>\n",
       "    <tr>\n",
       "      <th>1</th>\n",
       "      <td>1</td>\n",
       "      <td>0.550847</td>\n",
       "    </tr>\n",
       "    <tr>\n",
       "      <th>2</th>\n",
       "      <td>2</td>\n",
       "      <td>0.500000</td>\n",
       "    </tr>\n",
       "    <tr>\n",
       "      <th>0</th>\n",
       "      <td>0</td>\n",
       "      <td>0.343658</td>\n",
       "    </tr>\n",
       "    <tr>\n",
       "      <th>5</th>\n",
       "      <td>5</td>\n",
       "      <td>0.200000</td>\n",
       "    </tr>\n",
       "    <tr>\n",
       "      <th>4</th>\n",
       "      <td>4</td>\n",
       "      <td>0.000000</td>\n",
       "    </tr>\n",
       "    <tr>\n",
       "      <th>6</th>\n",
       "      <td>6</td>\n",
       "      <td>0.000000</td>\n",
       "    </tr>\n",
       "  </tbody>\n",
       "</table>\n",
       "</div>"
      ],
      "text/plain": [
       "   Parch  Survived\n",
       "3      3  0.600000\n",
       "1      1  0.550847\n",
       "2      2  0.500000\n",
       "0      0  0.343658\n",
       "5      5  0.200000\n",
       "4      4  0.000000\n",
       "6      6  0.000000"
      ]
     },
     "execution_count": 18,
     "metadata": {},
     "output_type": "execute_result"
    }
   ],
   "source": [
    "pivot_analyzation['Parch']"
   ]
  },
  {
   "cell_type": "code",
   "execution_count": 19,
   "id": "e6f78f49",
   "metadata": {
    "execution": {
     "iopub.execute_input": "2022-04-17T04:07:06.414646Z",
     "iopub.status.busy": "2022-04-17T04:07:06.414111Z",
     "iopub.status.idle": "2022-04-17T04:07:06.868457Z",
     "shell.execute_reply": "2022-04-17T04:07:06.867531Z"
    },
    "id": "Ywer2rKnqYYh",
    "outputId": "cc649324-de7c-48aa-94d5-92125991f3f5",
    "papermill": {
     "duration": 0.535863,
     "end_time": "2022-04-17T04:07:06.870552",
     "exception": false,
     "start_time": "2022-04-17T04:07:06.334689",
     "status": "completed"
    },
    "tags": []
   },
   "outputs": [
    {
     "data": {
      "text/plain": [
       "<seaborn.axisgrid.FacetGrid at 0x7fd06f926210>"
      ]
     },
     "execution_count": 19,
     "metadata": {},
     "output_type": "execute_result"
    },
    {
     "data": {
      "image/png": "[encoded data removed]",
      "text/plain": [
       "<Figure size 432x216 with 2 Axes>"
      ]
     },
     "metadata": {
      "needs_background": "light"
     },
     "output_type": "display_data"
    }
   ],
   "source": [
    "g = sns.FacetGrid(df, col='Survived')\n",
    "g.map(plt.hist, 'Age', bins=20)"
   ]
  },
  {
   "cell_type": "code",
   "execution_count": 20,
   "id": "7a891528",
   "metadata": {
    "execution": {
     "iopub.execute_input": "2022-04-17T04:07:07.032447Z",
     "iopub.status.busy": "2022-04-17T04:07:07.031887Z",
     "iopub.status.idle": "2022-04-17T04:07:08.234932Z",
     "shell.execute_reply": "2022-04-17T04:07:08.234031Z"
    },
    "id": "lqwW73t4enEq",
    "outputId": "c860a56b-73e0-4733-86aa-bca356f6b472",
    "papermill": {
     "duration": 1.286915,
     "end_time": "2022-04-17T04:07:08.237016",
     "exception": false,
     "start_time": "2022-04-17T04:07:06.950101",
     "status": "completed"
    },
    "tags": []
   },
   "outputs": [
    {
     "data": {
      "text/plain": [
       "<seaborn.axisgrid.FacetGrid at 0x7fd06bfb7750>"
      ]
     },
     "execution_count": 20,
     "metadata": {},
     "output_type": "execute_result"
    },
    {
     "data": {
      "image/png": "[encoded data removed]",
      "text/plain": [
       "<Figure size 432x648 with 6 Axes>"
      ]
     },
     "metadata": {
      "needs_background": "light"
     },
     "output_type": "display_data"
    }
   ],
   "source": [
    "g = sns.FacetGrid(df, col='Survived', row='Pclass')\n",
    "g.map(plt.hist, 'Age', bins=20)"
   ]
  },
  {
   "cell_type": "code",
   "execution_count": 21,
   "id": "6957c74b",
   "metadata": {
    "execution": {
     "iopub.execute_input": "2022-04-17T04:07:08.400361Z",
     "iopub.status.busy": "2022-04-17T04:07:08.399711Z",
     "iopub.status.idle": "2022-04-17T04:07:09.499293Z",
     "shell.execute_reply": "2022-04-17T04:07:09.498411Z"
    },
    "id": "cDU94G6yfFrb",
    "outputId": "d7f9d0b7-7b1c-41e2-f705-dfd01271c23a",
    "papermill": {
     "duration": 1.183103,
     "end_time": "2022-04-17T04:07:09.501961",
     "exception": false,
     "start_time": "2022-04-17T04:07:08.318858",
     "status": "completed"
    },
    "tags": []
   },
   "outputs": [
    {
     "name": "stderr",
     "output_type": "stream",
     "text": [
      "/opt/conda/lib/python3.7/site-packages/seaborn/axisgrid.py:670: UserWarning: Using the pointplot function without specifying `order` is likely to produce an incorrect plot.\n",
      "  warnings.warn(warning)\n",
      "/opt/conda/lib/python3.7/site-packages/seaborn/axisgrid.py:675: UserWarning: Using the pointplot function without specifying `hue_order` is likely to produce an incorrect plot.\n",
      "  warnings.warn(warning)\n"
     ]
    },
    {
     "data": {
      "text/plain": [
       "<seaborn.axisgrid.FacetGrid at 0x7fd06bf71fd0>"
      ]
     },
     "execution_count": 21,
     "metadata": {},
     "output_type": "execute_result"
    },
    {
     "data": {
      "image/png": "[encoded data removed]",
      "text/plain": [
       "<Figure size 286.5x648 with 3 Axes>"
      ]
     },
     "metadata": {
      "needs_background": "light"
     },
     "output_type": "display_data"
    }
   ],
   "source": [
    "g = sns.FacetGrid(df, row='Embarked')\n",
    "g.map(sns.pointplot, 'Pclass', 'Survived', 'Sex', palette='deep')\n",
    "g.add_legend()"
   ]
  },
  {
   "cell_type": "code",
   "execution_count": 22,
   "id": "3797e568",
   "metadata": {
    "execution": {
     "iopub.execute_input": "2022-04-17T04:07:09.686151Z",
     "iopub.status.busy": "2022-04-17T04:07:09.685783Z",
     "iopub.status.idle": "2022-04-17T04:07:10.817631Z",
     "shell.execute_reply": "2022-04-17T04:07:10.816719Z"
    },
    "id": "Ofr-Wfq5gZQs",
    "outputId": "1bd5d848-0541-4500-ee04-87d076b7b381",
    "papermill": {
     "duration": 1.233616,
     "end_time": "2022-04-17T04:07:10.819740",
     "exception": false,
     "start_time": "2022-04-17T04:07:09.586124",
     "status": "completed"
    },
    "tags": []
   },
   "outputs": [
    {
     "name": "stderr",
     "output_type": "stream",
     "text": [
      "/opt/conda/lib/python3.7/site-packages/seaborn/axisgrid.py:670: UserWarning: Using the barplot function without specifying `order` is likely to produce an incorrect plot.\n",
      "  warnings.warn(warning)\n"
     ]
    },
    {
     "data": {
      "text/plain": [
       "<seaborn.axisgrid.FacetGrid at 0x7fd06b9b8e90>"
      ]
     },
     "execution_count": 22,
     "metadata": {},
     "output_type": "execute_result"
    },
    {
     "data": {
      "image/png": "[encoded data removed]",
      "text/plain": [
       "<Figure size 432x648 with 6 Axes>"
      ]
     },
     "metadata": {
      "needs_background": "light"
     },
     "output_type": "display_data"
    }
   ],
   "source": [
    "g= sns.FacetGrid(df, row='Embarked', col='Survived')\n",
    "g.map(sns.barplot, 'Sex', 'Fare')"
   ]
  },
  {
   "cell_type": "code",
   "execution_count": 23,
   "id": "b95096cd",
   "metadata": {
    "execution": {
     "iopub.execute_input": "2022-04-17T04:07:10.988940Z",
     "iopub.status.busy": "2022-04-17T04:07:10.988644Z",
     "iopub.status.idle": "2022-04-17T04:07:10.992024Z",
     "shell.execute_reply": "2022-04-17T04:07:10.991431Z"
    },
    "papermill": {
     "duration": 0.090414,
     "end_time": "2022-04-17T04:07:10.993640",
     "exception": false,
     "start_time": "2022-04-17T04:07:10.903226",
     "status": "completed"
    },
    "tags": []
   },
   "outputs": [],
   "source": [
    "#Feature Engineering: Cabin->Deck, Ticket->Ticket Frequency, Age-Fare=bin, Surname, Familiy_size"
   ]
  },
  {
   "cell_type": "code",
   "execution_count": 24,
   "id": "c88d39b3",
   "metadata": {
    "execution": {
     "iopub.execute_input": "2022-04-17T04:07:11.163303Z",
     "iopub.status.busy": "2022-04-17T04:07:11.162804Z",
     "iopub.status.idle": "2022-04-17T04:07:11.172489Z",
     "shell.execute_reply": "2022-04-17T04:07:11.171836Z"
    },
    "papermill": {
     "duration": 0.096536,
     "end_time": "2022-04-17T04:07:11.174462",
     "exception": false,
     "start_time": "2022-04-17T04:07:11.077926",
     "status": "completed"
    },
    "tags": []
   },
   "outputs": [],
   "source": [
    "df['Age'] = df.groupby(['Sex', 'Pclass'])['Age'].apply(lambda x: x.fillna(x.median()))"
   ]
  },
  {
   "cell_type": "code",
   "execution_count": 25,
   "id": "dd99000e",
   "metadata": {
    "execution": {
     "iopub.execute_input": "2022-04-17T04:07:11.345714Z",
     "iopub.status.busy": "2022-04-17T04:07:11.345193Z",
     "iopub.status.idle": "2022-04-17T04:07:11.354237Z",
     "shell.execute_reply": "2022-04-17T04:07:11.353393Z"
    },
    "papermill": {
     "duration": 0.097245,
     "end_time": "2022-04-17T04:07:11.356054",
     "exception": false,
     "start_time": "2022-04-17T04:07:11.258809",
     "status": "completed"
    },
    "tags": []
   },
   "outputs": [],
   "source": [
    "df_test['Age'] = df_test.groupby(['Sex', 'Pclass'])['Age'].apply(lambda x: x.fillna(x.median()))"
   ]
  },
  {
   "cell_type": "code",
   "execution_count": 26,
   "id": "578f476b",
   "metadata": {
    "execution": {
     "iopub.execute_input": "2022-04-17T04:07:11.524655Z",
     "iopub.status.busy": "2022-04-17T04:07:11.523976Z",
     "iopub.status.idle": "2022-04-17T04:07:11.539078Z",
     "shell.execute_reply": "2022-04-17T04:07:11.538494Z"
    },
    "papermill": {
     "duration": 0.101789,
     "end_time": "2022-04-17T04:07:11.541105",
     "exception": false,
     "start_time": "2022-04-17T04:07:11.439316",
     "status": "completed"
    },
    "tags": []
   },
   "outputs": [],
   "source": [
    "fareinterval = pd.qcut(df['Fare'], 10)\n",
    "ageinterval = pd.qcut(df['Age'], 13, duplicates='drop')"
   ]
  },
  {
   "cell_type": "code",
   "execution_count": 27,
   "id": "7889e86d",
   "metadata": {
    "execution": {
     "iopub.execute_input": "2022-04-17T04:07:11.711068Z",
     "iopub.status.busy": "2022-04-17T04:07:11.710036Z",
     "iopub.status.idle": "2022-04-17T04:07:11.720112Z",
     "shell.execute_reply": "2022-04-17T04:07:11.719430Z"
    },
    "papermill": {
     "duration": 0.097282,
     "end_time": "2022-04-17T04:07:11.722192",
     "exception": false,
     "start_time": "2022-04-17T04:07:11.624910",
     "status": "completed"
    },
    "tags": []
   },
   "outputs": [],
   "source": [
    "df['FamilySize'] = df['SibSp'] + df['Parch'] + 1\n",
    "df_test['FamilySize'] = df_test['SibSp'] + df_test['Parch'] + 1\n",
    "family_map = {1: 'Alone', 2: 'Small', 3:'Small', 4:'Small', 5:'Medium', 6:'Medium', 7:'Large', 8:'Large', 11:'Large'}\n",
    "df['FamilyGroup'] = df['FamilySize'].map(family_map)\n",
    "df_test['FamilyGroup'] = df['FamilySize'].map(family_map)"
   ]
  },
  {
   "cell_type": "code",
   "execution_count": 28,
   "id": "59b25018",
   "metadata": {
    "execution": {
     "iopub.execute_input": "2022-04-17T04:07:11.894761Z",
     "iopub.status.busy": "2022-04-17T04:07:11.894456Z",
     "iopub.status.idle": "2022-04-17T04:07:11.903872Z",
     "shell.execute_reply": "2022-04-17T04:07:11.903232Z"
    },
    "papermill": {
     "duration": 0.09674,
     "end_time": "2022-04-17T04:07:11.905618",
     "exception": false,
     "start_time": "2022-04-17T04:07:11.808878",
     "status": "completed"
    },
    "tags": []
   },
   "outputs": [],
   "source": [
    "df.loc[df['Cabin'].isnull(),'Cabin'] = 'M'\n",
    "df_test.loc[df_test['Cabin'].isnull(), 'Cabin'] = 'M'\n",
    "df['Deck'] = df['Cabin'].apply(lambda x: x[0])\n",
    "df_test['Deck'] = df['Cabin'].apply(lambda x:x[0])"
   ]
  },
  {
   "cell_type": "code",
   "execution_count": 29,
   "id": "a144b978",
   "metadata": {
    "execution": {
     "iopub.execute_input": "2022-04-17T04:07:12.075465Z",
     "iopub.status.busy": "2022-04-17T04:07:12.075014Z",
     "iopub.status.idle": "2022-04-17T04:07:12.823464Z",
     "shell.execute_reply": "2022-04-17T04:07:12.822373Z"
    },
    "papermill": {
     "duration": 0.836729,
     "end_time": "2022-04-17T04:07:12.826259",
     "exception": false,
     "start_time": "2022-04-17T04:07:11.989530",
     "status": "completed"
    },
    "tags": []
   },
   "outputs": [],
   "source": [
    "df['TicketFrequency'] = np.nan\n",
    "for uv in df['Ticket'].unique():\n",
    "    num_ticket = (df['Ticket']==uv).sum()\n",
    "    df.loc[df['Ticket']==uv,'TicketFrequency'] = num_ticket\n",
    "    \n",
    "df_test['TicketFrequency'] = np.nan\n",
    "for uv in df_test['Ticket'].unique():\n",
    "    num_ticket = (df_test['Ticket']==uv).sum()\n",
    "    df_test.loc[df_test['Ticket']==uv,'TicketFrequency'] = num_ticket"
   ]
  },
  {
   "cell_type": "code",
   "execution_count": 30,
   "id": "7eb4ac29",
   "metadata": {
    "execution": {
     "iopub.execute_input": "2022-04-17T04:07:13.017270Z",
     "iopub.status.busy": "2022-04-17T04:07:13.016576Z",
     "iopub.status.idle": "2022-04-17T04:07:13.021011Z",
     "shell.execute_reply": "2022-04-17T04:07:13.020420Z"
    },
    "papermill": {
     "duration": 0.091375,
     "end_time": "2022-04-17T04:07:13.022677",
     "exception": false,
     "start_time": "2022-04-17T04:07:12.931302",
     "status": "completed"
    },
    "tags": []
   },
   "outputs": [],
   "source": [
    "ageinterval = pd.arrays.IntervalArray(ageinterval.cat.categories)\n",
    "fareinterval = pd.arrays.IntervalArray(fareinterval.cat.categories)"
   ]
  },
  {
   "cell_type": "code",
   "execution_count": 31,
   "id": "d9153687",
   "metadata": {
    "execution": {
     "iopub.execute_input": "2022-04-17T04:07:13.193438Z",
     "iopub.status.busy": "2022-04-17T04:07:13.192963Z",
     "iopub.status.idle": "2022-04-17T04:07:13.198529Z",
     "shell.execute_reply": "2022-04-17T04:07:13.197823Z"
    },
    "papermill": {
     "duration": 0.092122,
     "end_time": "2022-04-17T04:07:13.200284",
     "exception": false,
     "start_time": "2022-04-17T04:07:13.108162",
     "status": "completed"
    },
    "tags": []
   },
   "outputs": [
    {
     "data": {
      "text/plain": [
       "(<IntervalArray>\n",
       " [(0.419, 12.462], (12.462, 18.0], (18.0, 21.5], (21.5, 23.0], (23.0, 25.0] ... (30.0, 34.0], (34.0, 38.0], (38.0, 42.0], (42.0, 50.0], (50.0, 80.0]]\n",
       " Length: 12, dtype: interval[float64, right],\n",
       " <IntervalArray>\n",
       " [(-0.001, 7.55], (7.55, 7.854], (7.854, 8.05], (8.05, 10.5], (10.5, 14.454], (14.454, 21.679], (21.679, 27.0], (27.0, 39.688], (39.688, 77.958], (77.958, 512.329]]\n",
       " Length: 10, dtype: interval[float64, right])"
      ]
     },
     "execution_count": 31,
     "metadata": {},
     "output_type": "execute_result"
    }
   ],
   "source": [
    "ageinterval, fareinterval"
   ]
  },
  {
   "cell_type": "code",
   "execution_count": 32,
   "id": "0e77d7b5",
   "metadata": {
    "execution": {
     "iopub.execute_input": "2022-04-17T04:07:13.370096Z",
     "iopub.status.busy": "2022-04-17T04:07:13.369630Z",
     "iopub.status.idle": "2022-04-17T04:07:13.375040Z",
     "shell.execute_reply": "2022-04-17T04:07:13.374412Z"
    },
    "papermill": {
     "duration": 0.092235,
     "end_time": "2022-04-17T04:07:13.376762",
     "exception": false,
     "start_time": "2022-04-17T04:07:13.284527",
     "status": "completed"
    },
    "tags": []
   },
   "outputs": [
    {
     "data": {
      "text/plain": [
       "array([(0.419, 12.462), (12.462, 18.0), (18.0, 21.5), (21.5, 23.0),\n",
       "       (23.0, 25.0), (25.0, 28.0), (28.0, 30.0), (30.0, 34.0),\n",
       "       (34.0, 38.0), (38.0, 42.0), (42.0, 50.0), (50.0, 80.0)],\n",
       "      dtype=object)"
      ]
     },
     "execution_count": 32,
     "metadata": {},
     "output_type": "execute_result"
    }
   ],
   "source": [
    "ageinterval.to_tuples()"
   ]
  },
  {
   "cell_type": "code",
   "execution_count": 33,
   "id": "7262952f",
   "metadata": {
    "execution": {
     "iopub.execute_input": "2022-04-17T04:07:13.546750Z",
     "iopub.status.busy": "2022-04-17T04:07:13.546221Z",
     "iopub.status.idle": "2022-04-17T04:07:13.584297Z",
     "shell.execute_reply": "2022-04-17T04:07:13.583657Z"
    },
    "papermill": {
     "duration": 0.125525,
     "end_time": "2022-04-17T04:07:13.586388",
     "exception": false,
     "start_time": "2022-04-17T04:07:13.460863",
     "status": "completed"
    },
    "tags": []
   },
   "outputs": [],
   "source": [
    "df['Age'] = df['Age'].apply(lambda x: ageinterval.to_tuples()[ageinterval.contains(x)])\n",
    "df_test['Age'] = df_test['Age'].apply(lambda x: ageinterval.to_tuples()[ageinterval.contains(x)])"
   ]
  },
  {
   "cell_type": "code",
   "execution_count": 34,
   "id": "a2850f85",
   "metadata": {
    "execution": {
     "iopub.execute_input": "2022-04-17T04:07:13.757464Z",
     "iopub.status.busy": "2022-04-17T04:07:13.756964Z",
     "iopub.status.idle": "2022-04-17T04:07:13.793021Z",
     "shell.execute_reply": "2022-04-17T04:07:13.792414Z"
    },
    "papermill": {
     "duration": 0.123653,
     "end_time": "2022-04-17T04:07:13.795058",
     "exception": false,
     "start_time": "2022-04-17T04:07:13.671405",
     "status": "completed"
    },
    "tags": []
   },
   "outputs": [],
   "source": [
    "df['Fare'] = df['Fare'].apply(lambda x: fareinterval.to_tuples()[fareinterval.contains(x)])\n",
    "df_test['Fare'] = df_test['Fare'].apply(lambda x: fareinterval.to_tuples()[fareinterval.contains(x)])"
   ]
  },
  {
   "cell_type": "code",
   "execution_count": 35,
   "id": "4554f613",
   "metadata": {
    "execution": {
     "iopub.execute_input": "2022-04-17T04:07:13.970008Z",
     "iopub.status.busy": "2022-04-17T04:07:13.969427Z",
     "iopub.status.idle": "2022-04-17T04:07:13.973070Z",
     "shell.execute_reply": "2022-04-17T04:07:13.972263Z"
    },
    "id": "PtHFJwOThQnt",
    "papermill": {
     "duration": 0.093135,
     "end_time": "2022-04-17T04:07:13.975021",
     "exception": false,
     "start_time": "2022-04-17T04:07:13.881886",
     "status": "completed"
    },
    "tags": []
   },
   "outputs": [],
   "source": [
    "#df = df.drop(['Cabin', 'Ticket'], axis=1)"
   ]
  },
  {
   "cell_type": "code",
   "execution_count": 36,
   "id": "98187bf0",
   "metadata": {
    "execution": {
     "iopub.execute_input": "2022-04-17T04:07:14.149551Z",
     "iopub.status.busy": "2022-04-17T04:07:14.149254Z",
     "iopub.status.idle": "2022-04-17T04:07:14.152652Z",
     "shell.execute_reply": "2022-04-17T04:07:14.151787Z"
    },
    "id": "kly7zEN5jaI2",
    "papermill": {
     "duration": 0.093838,
     "end_time": "2022-04-17T04:07:14.154607",
     "exception": false,
     "start_time": "2022-04-17T04:07:14.060769",
     "status": "completed"
    },
    "tags": []
   },
   "outputs": [],
   "source": [
    "#df_test = df_test.drop(['Cabin', 'Ticket'], axis=1)"
   ]
  },
  {
   "cell_type": "code",
   "execution_count": 37,
   "id": "c15c1186",
   "metadata": {
    "execution": {
     "iopub.execute_input": "2022-04-17T04:07:14.328032Z",
     "iopub.status.busy": "2022-04-17T04:07:14.327267Z",
     "iopub.status.idle": "2022-04-17T04:07:14.332731Z",
     "shell.execute_reply": "2022-04-17T04:07:14.332126Z"
    },
    "id": "iPk_5Hk3kG5P",
    "papermill": {
     "duration": 0.094329,
     "end_time": "2022-04-17T04:07:14.334565",
     "exception": false,
     "start_time": "2022-04-17T04:07:14.240236",
     "status": "completed"
    },
    "tags": []
   },
   "outputs": [],
   "source": [
    "df_test_pi = df_test.copy()['PassengerId']"
   ]
  },
  {
   "cell_type": "code",
   "execution_count": 38,
   "id": "e99a0454",
   "metadata": {
    "execution": {
     "iopub.execute_input": "2022-04-17T04:07:14.504412Z",
     "iopub.status.busy": "2022-04-17T04:07:14.503826Z",
     "iopub.status.idle": "2022-04-17T04:07:14.510781Z",
     "shell.execute_reply": "2022-04-17T04:07:14.509894Z"
    },
    "papermill": {
     "duration": 0.093949,
     "end_time": "2022-04-17T04:07:14.512871",
     "exception": false,
     "start_time": "2022-04-17T04:07:14.418922",
     "status": "completed"
    },
    "tags": []
   },
   "outputs": [
    {
     "data": {
      "text/plain": [
       "0       892\n",
       "1       893\n",
       "2       894\n",
       "3       895\n",
       "4       896\n",
       "       ... \n",
       "413    1305\n",
       "414    1306\n",
       "415    1307\n",
       "416    1308\n",
       "417    1309\n",
       "Name: PassengerId, Length: 418, dtype: int64"
      ]
     },
     "execution_count": 38,
     "metadata": {},
     "output_type": "execute_result"
    }
   ],
   "source": [
    "df_test_pi"
   ]
  },
  {
   "cell_type": "code",
   "execution_count": 39,
   "id": "34d22e3b",
   "metadata": {
    "execution": {
     "iopub.execute_input": "2022-04-17T04:07:14.684791Z",
     "iopub.status.busy": "2022-04-17T04:07:14.684509Z",
     "iopub.status.idle": "2022-04-17T04:07:14.718320Z",
     "shell.execute_reply": "2022-04-17T04:07:14.717733Z"
    },
    "id": "CJvy9qNDkTt-",
    "outputId": "59da43b7-78ff-43e5-d28f-1f6e181675d3",
    "papermill": {
     "duration": 0.121533,
     "end_time": "2022-04-17T04:07:14.719999",
     "exception": false,
     "start_time": "2022-04-17T04:07:14.598466",
     "status": "completed"
    },
    "tags": []
   },
   "outputs": [
    {
     "data": {
      "text/html": [
       "<div>\n",
       "<style scoped>\n",
       "    .dataframe tbody tr th:only-of-type {\n",
       "        vertical-align: middle;\n",
       "    }\n",
       "\n",
       "    .dataframe tbody tr th {\n",
       "        vertical-align: top;\n",
       "    }\n",
       "\n",
       "    .dataframe thead th {\n",
       "        text-align: right;\n",
       "    }\n",
       "</style>\n",
       "<table border=\"1\" class=\"dataframe\">\n",
       "  <thead>\n",
       "    <tr style=\"text-align: right;\">\n",
       "      <th>Sex</th>\n",
       "      <th>female</th>\n",
       "      <th>male</th>\n",
       "    </tr>\n",
       "    <tr>\n",
       "      <th>Title</th>\n",
       "      <th></th>\n",
       "      <th></th>\n",
       "    </tr>\n",
       "  </thead>\n",
       "  <tbody>\n",
       "    <tr>\n",
       "      <th>Capt</th>\n",
       "      <td>0</td>\n",
       "      <td>1</td>\n",
       "    </tr>\n",
       "    <tr>\n",
       "      <th>Col</th>\n",
       "      <td>0</td>\n",
       "      <td>2</td>\n",
       "    </tr>\n",
       "    <tr>\n",
       "      <th>Countess</th>\n",
       "      <td>1</td>\n",
       "      <td>0</td>\n",
       "    </tr>\n",
       "    <tr>\n",
       "      <th>Don</th>\n",
       "      <td>0</td>\n",
       "      <td>1</td>\n",
       "    </tr>\n",
       "    <tr>\n",
       "      <th>Dr</th>\n",
       "      <td>1</td>\n",
       "      <td>6</td>\n",
       "    </tr>\n",
       "    <tr>\n",
       "      <th>Jonkheer</th>\n",
       "      <td>0</td>\n",
       "      <td>1</td>\n",
       "    </tr>\n",
       "    <tr>\n",
       "      <th>Lady</th>\n",
       "      <td>1</td>\n",
       "      <td>0</td>\n",
       "    </tr>\n",
       "    <tr>\n",
       "      <th>Major</th>\n",
       "      <td>0</td>\n",
       "      <td>2</td>\n",
       "    </tr>\n",
       "    <tr>\n",
       "      <th>Master</th>\n",
       "      <td>0</td>\n",
       "      <td>40</td>\n",
       "    </tr>\n",
       "    <tr>\n",
       "      <th>Miss</th>\n",
       "      <td>182</td>\n",
       "      <td>0</td>\n",
       "    </tr>\n",
       "    <tr>\n",
       "      <th>Mlle</th>\n",
       "      <td>2</td>\n",
       "      <td>0</td>\n",
       "    </tr>\n",
       "    <tr>\n",
       "      <th>Mme</th>\n",
       "      <td>1</td>\n",
       "      <td>0</td>\n",
       "    </tr>\n",
       "    <tr>\n",
       "      <th>Mr</th>\n",
       "      <td>0</td>\n",
       "      <td>517</td>\n",
       "    </tr>\n",
       "    <tr>\n",
       "      <th>Mrs</th>\n",
       "      <td>125</td>\n",
       "      <td>0</td>\n",
       "    </tr>\n",
       "    <tr>\n",
       "      <th>Ms</th>\n",
       "      <td>1</td>\n",
       "      <td>0</td>\n",
       "    </tr>\n",
       "    <tr>\n",
       "      <th>Rev</th>\n",
       "      <td>0</td>\n",
       "      <td>6</td>\n",
       "    </tr>\n",
       "    <tr>\n",
       "      <th>Sir</th>\n",
       "      <td>0</td>\n",
       "      <td>1</td>\n",
       "    </tr>\n",
       "  </tbody>\n",
       "</table>\n",
       "</div>"
      ],
      "text/plain": [
       "Sex       female  male\n",
       "Title                 \n",
       "Capt           0     1\n",
       "Col            0     2\n",
       "Countess       1     0\n",
       "Don            0     1\n",
       "Dr             1     6\n",
       "Jonkheer       0     1\n",
       "Lady           1     0\n",
       "Major          0     2\n",
       "Master         0    40\n",
       "Miss         182     0\n",
       "Mlle           2     0\n",
       "Mme            1     0\n",
       "Mr             0   517\n",
       "Mrs          125     0\n",
       "Ms             1     0\n",
       "Rev            0     6\n",
       "Sir            0     1"
      ]
     },
     "execution_count": 39,
     "metadata": {},
     "output_type": "execute_result"
    }
   ],
   "source": [
    "combine = [df, df_test]\n",
    "for dataset in combine:\n",
    "    dataset['Title'] = dataset['Name'].str.extract(' ([A-Za-z]+)\\.', expand=False)\n",
    "\n",
    "pd.crosstab(df['Title'], df['Sex'])"
   ]
  },
  {
   "cell_type": "code",
   "execution_count": 40,
   "id": "57dd5244",
   "metadata": {
    "execution": {
     "iopub.execute_input": "2022-04-17T04:07:14.893590Z",
     "iopub.status.busy": "2022-04-17T04:07:14.893046Z",
     "iopub.status.idle": "2022-04-17T04:07:14.911531Z",
     "shell.execute_reply": "2022-04-17T04:07:14.910831Z"
    },
    "id": "FySONWVvlHcM",
    "outputId": "be9937f7-d3c6-432e-87e6-f28bfe27fa9a",
    "papermill": {
     "duration": 0.106975,
     "end_time": "2022-04-17T04:07:14.913351",
     "exception": false,
     "start_time": "2022-04-17T04:07:14.806376",
     "status": "completed"
    },
    "tags": []
   },
   "outputs": [
    {
     "data": {
      "text/html": [
       "<div>\n",
       "<style scoped>\n",
       "    .dataframe tbody tr th:only-of-type {\n",
       "        vertical-align: middle;\n",
       "    }\n",
       "\n",
       "    .dataframe tbody tr th {\n",
       "        vertical-align: top;\n",
       "    }\n",
       "\n",
       "    .dataframe thead th {\n",
       "        text-align: right;\n",
       "    }\n",
       "</style>\n",
       "<table border=\"1\" class=\"dataframe\">\n",
       "  <thead>\n",
       "    <tr style=\"text-align: right;\">\n",
       "      <th></th>\n",
       "      <th>Title</th>\n",
       "      <th>Survived</th>\n",
       "    </tr>\n",
       "  </thead>\n",
       "  <tbody>\n",
       "    <tr>\n",
       "      <th>0</th>\n",
       "      <td>Master</td>\n",
       "      <td>0.575000</td>\n",
       "    </tr>\n",
       "    <tr>\n",
       "      <th>1</th>\n",
       "      <td>Miss</td>\n",
       "      <td>0.702703</td>\n",
       "    </tr>\n",
       "    <tr>\n",
       "      <th>2</th>\n",
       "      <td>Mr</td>\n",
       "      <td>0.156673</td>\n",
       "    </tr>\n",
       "    <tr>\n",
       "      <th>3</th>\n",
       "      <td>Mrs</td>\n",
       "      <td>0.793651</td>\n",
       "    </tr>\n",
       "    <tr>\n",
       "      <th>4</th>\n",
       "      <td>Rare</td>\n",
       "      <td>0.347826</td>\n",
       "    </tr>\n",
       "  </tbody>\n",
       "</table>\n",
       "</div>"
      ],
      "text/plain": [
       "    Title  Survived\n",
       "0  Master  0.575000\n",
       "1    Miss  0.702703\n",
       "2      Mr  0.156673\n",
       "3     Mrs  0.793651\n",
       "4    Rare  0.347826"
      ]
     },
     "execution_count": 40,
     "metadata": {},
     "output_type": "execute_result"
    }
   ],
   "source": [
    "for dataset in combine:\n",
    "    dataset['Title'] = dataset['Title'].replace(['Capt', 'Col', 'Countess', 'Don', 'Dr', 'Jonkheer', 'Lady', 'Major', 'Rev', 'Sir'], 'Rare')\n",
    "    dataset['Title'] = dataset['Title'].replace('Mlle', 'Miss')\n",
    "    dataset['Title'] = dataset['Title'].replace('Ms', 'Miss')\n",
    "    dataset['Title'] = dataset['Title'].replace('Mme', 'Mrs')\n",
    "    \n",
    "df[['Survived', 'Title']].groupby('Title', as_index=False).mean()"
   ]
  },
  {
   "cell_type": "code",
   "execution_count": 41,
   "id": "0ddfa9be",
   "metadata": {
    "execution": {
     "iopub.execute_input": "2022-04-17T04:07:15.088159Z",
     "iopub.status.busy": "2022-04-17T04:07:15.087662Z",
     "iopub.status.idle": "2022-04-17T04:07:15.095843Z",
     "shell.execute_reply": "2022-04-17T04:07:15.095090Z"
    },
    "id": "0QqBj0dfmBWa",
    "outputId": "ba8ab140-5795-4bcc-a3be-694d44f3a131",
    "papermill": {
     "duration": 0.098852,
     "end_time": "2022-04-17T04:07:15.097656",
     "exception": false,
     "start_time": "2022-04-17T04:07:14.998804",
     "status": "completed"
    },
    "tags": []
   },
   "outputs": [
    {
     "data": {
      "text/plain": [
       "PassengerId        1.000000\n",
       "Survived           1.000000\n",
       "Pclass             1.000000\n",
       "Name               1.000000\n",
       "Sex                1.000000\n",
       "Age                1.000000\n",
       "SibSp              1.000000\n",
       "Parch              1.000000\n",
       "Ticket             1.000000\n",
       "Fare               1.000000\n",
       "Cabin              1.000000\n",
       "Embarked           0.997755\n",
       "FamilySize         1.000000\n",
       "FamilyGroup        1.000000\n",
       "Deck               1.000000\n",
       "TicketFrequency    1.000000\n",
       "Title              1.000000\n",
       "dtype: float64"
      ]
     },
     "execution_count": 41,
     "metadata": {},
     "output_type": "execute_result"
    }
   ],
   "source": [
    "df.notnull().mean()"
   ]
  },
  {
   "cell_type": "code",
   "execution_count": null,
   "id": "4c94ff32",
   "metadata": {
    "id": "5sWn6TR0RvOl",
    "papermill": {
     "duration": 0.084978,
     "end_time": "2022-04-17T04:07:15.267698",
     "exception": false,
     "start_time": "2022-04-17T04:07:15.182720",
     "status": "completed"
    },
    "tags": []
   },
   "outputs": [],
   "source": []
  },
  {
   "cell_type": "code",
   "execution_count": 42,
   "id": "bb9222c2",
   "metadata": {
    "execution": {
     "iopub.execute_input": "2022-04-17T04:07:15.440890Z",
     "iopub.status.busy": "2022-04-17T04:07:15.440359Z",
     "iopub.status.idle": "2022-04-17T04:07:15.446534Z",
     "shell.execute_reply": "2022-04-17T04:07:15.445796Z"
    },
    "id": "LtmY8kIKRaU3",
    "papermill": {
     "duration": 0.094524,
     "end_time": "2022-04-17T04:07:15.448388",
     "exception": false,
     "start_time": "2022-04-17T04:07:15.353864",
     "status": "completed"
    },
    "tags": []
   },
   "outputs": [],
   "source": [
    "for dataset in combine:\n",
    "    dataset.drop(['Name', 'PassengerId', 'Cabin'], axis=1, inplace=True)"
   ]
  },
  {
   "cell_type": "code",
   "execution_count": 43,
   "id": "bfe58584",
   "metadata": {
    "execution": {
     "iopub.execute_input": "2022-04-17T04:07:15.622523Z",
     "iopub.status.busy": "2022-04-17T04:07:15.621978Z",
     "iopub.status.idle": "2022-04-17T04:07:15.628142Z",
     "shell.execute_reply": "2022-04-17T04:07:15.627550Z"
    },
    "id": "LEOksg5ORw_c",
    "papermill": {
     "duration": 0.095704,
     "end_time": "2022-04-17T04:07:15.630029",
     "exception": false,
     "start_time": "2022-04-17T04:07:15.534325",
     "status": "completed"
    },
    "tags": []
   },
   "outputs": [],
   "source": [
    "def categorify(df, df_test, dep_var='Survived', exclude=[]):\n",
    "    df = df.copy()\n",
    "    df_test = df_test.copy()\n",
    "    new = pd.concat([df, df_test]).drop([dep_var]+exclude, axis=1)\n",
    "    dicts = {str(col): {k[1]:k[0] for k in enumerate(new[col].unique())} for col in new}\n",
    "    for key, val in dicts.items():\n",
    "        df[key] = df[key].map(val).astype(float)\n",
    "        df_test[key] = df_test[key].map(val).astype(float)\n",
    "    return df, df_test"
   ]
  },
  {
   "cell_type": "code",
   "execution_count": 44,
   "id": "f89e03c1",
   "metadata": {
    "execution": {
     "iopub.execute_input": "2022-04-17T04:07:15.803974Z",
     "iopub.status.busy": "2022-04-17T04:07:15.803472Z",
     "iopub.status.idle": "2022-04-17T04:07:15.852948Z",
     "shell.execute_reply": "2022-04-17T04:07:15.851922Z"
    },
    "papermill": {
     "duration": 0.139628,
     "end_time": "2022-04-17T04:07:15.855274",
     "exception": false,
     "start_time": "2022-04-17T04:07:15.715646",
     "status": "completed"
    },
    "tags": []
   },
   "outputs": [],
   "source": [
    "combined = [df, df_test]\n",
    "for dataset in combined:\n",
    "    dataset['Age'] = dataset['Age'].map(str)\n",
    "    dataset['Fare'] = dataset['Fare'].map(str)\n"
   ]
  },
  {
   "cell_type": "code",
   "execution_count": 45,
   "id": "3dd99d56",
   "metadata": {
    "execution": {
     "iopub.execute_input": "2022-04-17T04:07:16.029288Z",
     "iopub.status.busy": "2022-04-17T04:07:16.029005Z",
     "iopub.status.idle": "2022-04-17T04:07:16.034815Z",
     "shell.execute_reply": "2022-04-17T04:07:16.034215Z"
    },
    "papermill": {
     "duration": 0.094397,
     "end_time": "2022-04-17T04:07:16.036480",
     "exception": false,
     "start_time": "2022-04-17T04:07:15.942083",
     "status": "completed"
    },
    "tags": []
   },
   "outputs": [
    {
     "data": {
      "text/plain": [
       "array(['[(21.5, 23.0)]', '[(34.0, 38.0)]', '[(25.0, 28.0)]',\n",
       "       '[(23.0, 25.0)]', '[(50.0, 80.0)]', '[(0.419, 12.462)]',\n",
       "       '[(12.462, 18.0)]', '[(18.0, 21.5)]', '[(38.0, 42.0)]',\n",
       "       '[(28.0, 30.0)]', '[(30.0, 34.0)]', '[(42.0, 50.0)]'], dtype=object)"
      ]
     },
     "execution_count": 45,
     "metadata": {},
     "output_type": "execute_result"
    }
   ],
   "source": [
    "df['Age'].unique()"
   ]
  },
  {
   "cell_type": "code",
   "execution_count": 46,
   "id": "e4ebe5ba",
   "metadata": {
    "execution": {
     "iopub.execute_input": "2022-04-17T04:07:16.214113Z",
     "iopub.status.busy": "2022-04-17T04:07:16.213328Z",
     "iopub.status.idle": "2022-04-17T04:07:16.219837Z",
     "shell.execute_reply": "2022-04-17T04:07:16.219147Z"
    },
    "id": "T__tYEgjRu5P",
    "papermill": {
     "duration": 0.097236,
     "end_time": "2022-04-17T04:07:16.221654",
     "exception": false,
     "start_time": "2022-04-17T04:07:16.124418",
     "status": "completed"
    },
    "tags": []
   },
   "outputs": [
    {
     "data": {
      "text/plain": [
       "\"def categorify(df, df_test):\\n    df = df.copy()\\n    df_test = df_test.copy()\\n    new = pd.concat([df, df_test])\\n    sexdict = {k[1]: k[0] for k in enumerate(new['Sex'].unique())}\\n    embdict = {k[1]: k[0] for k in enumerate(new['Embarked'].unique())}\\n    titdict = {k[1]: k[0] for k in enumerate(new['Title'].unique())}\\n    pardict = {k[1]: k[0] for k in enumerate(new['Parch'].unique())}\\n    pcldict = {k[1]: k[0] for k in enumerate(new['Pclass'].astype(int).unique())}\\n    sibdict = {k[1]: k[0] for k in enumerate(new['SibSp'].astype(int).unique())}\\n    dicts = {'Sex': sexdict, 'Embarked': embdict, 'Title': titdict, 'Parch': pardict, 'Pclass': pcldict, 'SibSp':sibdict}\\n    for key, val in dicts.items():\\n        df[key] = df[key].map(val).astype(float)\\n        df_test[key] = df_test[key].map(val).astype(float)\\n    return df, df_test\""
      ]
     },
     "execution_count": 46,
     "metadata": {},
     "output_type": "execute_result"
    }
   ],
   "source": [
    "\"\"\"def categorify(df, df_test):\n",
    "    df = df.copy()\n",
    "    df_test = df_test.copy()\n",
    "    new = pd.concat([df, df_test])\n",
    "    sexdict = {k[1]: k[0] for k in enumerate(new['Sex'].unique())}\n",
    "    embdict = {k[1]: k[0] for k in enumerate(new['Embarked'].unique())}\n",
    "    titdict = {k[1]: k[0] for k in enumerate(new['Title'].unique())}\n",
    "    pardict = {k[1]: k[0] for k in enumerate(new['Parch'].unique())}\n",
    "    pcldict = {k[1]: k[0] for k in enumerate(new['Pclass'].astype(int).unique())}\n",
    "    sibdict = {k[1]: k[0] for k in enumerate(new['SibSp'].astype(int).unique())}\n",
    "    dicts = {'Sex': sexdict, 'Embarked': embdict, 'Title': titdict, 'Parch': pardict, 'Pclass': pcldict, 'SibSp':sibdict}\n",
    "    for key, val in dicts.items():\n",
    "        df[key] = df[key].map(val).astype(float)\n",
    "        df_test[key] = df_test[key].map(val).astype(float)\n",
    "    return df, df_test\"\"\""
   ]
  },
  {
   "cell_type": "code",
   "execution_count": 47,
   "id": "71810ceb",
   "metadata": {
    "execution": {
     "iopub.execute_input": "2022-04-17T04:07:16.397240Z",
     "iopub.status.busy": "2022-04-17T04:07:16.396762Z",
     "iopub.status.idle": "2022-04-17T04:07:16.429999Z",
     "shell.execute_reply": "2022-04-17T04:07:16.429108Z"
    },
    "id": "0rxZxlvBkFQF",
    "papermill": {
     "duration": 0.123759,
     "end_time": "2022-04-17T04:07:16.432425",
     "exception": false,
     "start_time": "2022-04-17T04:07:16.308666",
     "status": "completed"
    },
    "tags": []
   },
   "outputs": [],
   "source": [
    "combine = [df, df_test]\n",
    "df, df_test = categorify(df, df_test, exclude=['TicketFrequency', 'FamilySize'])"
   ]
  },
  {
   "cell_type": "code",
   "execution_count": 48,
   "id": "ce4f448a",
   "metadata": {
    "execution": {
     "iopub.execute_input": "2022-04-17T04:07:16.611158Z",
     "iopub.status.busy": "2022-04-17T04:07:16.610670Z",
     "iopub.status.idle": "2022-04-17T04:07:16.634949Z",
     "shell.execute_reply": "2022-04-17T04:07:16.634404Z"
    },
    "papermill": {
     "duration": 0.117919,
     "end_time": "2022-04-17T04:07:16.636707",
     "exception": false,
     "start_time": "2022-04-17T04:07:16.518788",
     "status": "completed"
    },
    "tags": []
   },
   "outputs": [
    {
     "data": {
      "text/html": [
       "<div>\n",
       "<style scoped>\n",
       "    .dataframe tbody tr th:only-of-type {\n",
       "        vertical-align: middle;\n",
       "    }\n",
       "\n",
       "    .dataframe tbody tr th {\n",
       "        vertical-align: top;\n",
       "    }\n",
       "\n",
       "    .dataframe thead th {\n",
       "        text-align: right;\n",
       "    }\n",
       "</style>\n",
       "<table border=\"1\" class=\"dataframe\">\n",
       "  <thead>\n",
       "    <tr style=\"text-align: right;\">\n",
       "      <th></th>\n",
       "      <th>Pclass</th>\n",
       "      <th>Sex</th>\n",
       "      <th>Age</th>\n",
       "      <th>SibSp</th>\n",
       "      <th>Parch</th>\n",
       "      <th>Ticket</th>\n",
       "      <th>Fare</th>\n",
       "      <th>Embarked</th>\n",
       "      <th>FamilySize</th>\n",
       "      <th>FamilyGroup</th>\n",
       "      <th>Deck</th>\n",
       "      <th>TicketFrequency</th>\n",
       "      <th>Title</th>\n",
       "    </tr>\n",
       "  </thead>\n",
       "  <tbody>\n",
       "    <tr>\n",
       "      <th>0</th>\n",
       "      <td>0.0</td>\n",
       "      <td>0.0</td>\n",
       "      <td>1.0</td>\n",
       "      <td>1.0</td>\n",
       "      <td>0.0</td>\n",
       "      <td>681.0</td>\n",
       "      <td>9.0</td>\n",
       "      <td>2.0</td>\n",
       "      <td>1</td>\n",
       "      <td>0.0</td>\n",
       "      <td>0.0</td>\n",
       "      <td>1.0</td>\n",
       "      <td>0.0</td>\n",
       "    </tr>\n",
       "    <tr>\n",
       "      <th>1</th>\n",
       "      <td>0.0</td>\n",
       "      <td>1.0</td>\n",
       "      <td>11.0</td>\n",
       "      <td>0.0</td>\n",
       "      <td>0.0</td>\n",
       "      <td>682.0</td>\n",
       "      <td>0.0</td>\n",
       "      <td>0.0</td>\n",
       "      <td>2</td>\n",
       "      <td>0.0</td>\n",
       "      <td>1.0</td>\n",
       "      <td>1.0</td>\n",
       "      <td>1.0</td>\n",
       "    </tr>\n",
       "    <tr>\n",
       "      <th>2</th>\n",
       "      <td>2.0</td>\n",
       "      <td>0.0</td>\n",
       "      <td>4.0</td>\n",
       "      <td>1.0</td>\n",
       "      <td>0.0</td>\n",
       "      <td>683.0</td>\n",
       "      <td>3.0</td>\n",
       "      <td>2.0</td>\n",
       "      <td>1</td>\n",
       "      <td>1.0</td>\n",
       "      <td>0.0</td>\n",
       "      <td>1.0</td>\n",
       "      <td>0.0</td>\n",
       "    </tr>\n",
       "    <tr>\n",
       "      <th>3</th>\n",
       "      <td>0.0</td>\n",
       "      <td>0.0</td>\n",
       "      <td>2.0</td>\n",
       "      <td>1.0</td>\n",
       "      <td>0.0</td>\n",
       "      <td>684.0</td>\n",
       "      <td>3.0</td>\n",
       "      <td>0.0</td>\n",
       "      <td>1</td>\n",
       "      <td>0.0</td>\n",
       "      <td>1.0</td>\n",
       "      <td>1.0</td>\n",
       "      <td>0.0</td>\n",
       "    </tr>\n",
       "    <tr>\n",
       "      <th>4</th>\n",
       "      <td>0.0</td>\n",
       "      <td>1.0</td>\n",
       "      <td>0.0</td>\n",
       "      <td>0.0</td>\n",
       "      <td>1.0</td>\n",
       "      <td>405.0</td>\n",
       "      <td>5.0</td>\n",
       "      <td>0.0</td>\n",
       "      <td>3</td>\n",
       "      <td>1.0</td>\n",
       "      <td>0.0</td>\n",
       "      <td>1.0</td>\n",
       "      <td>1.0</td>\n",
       "    </tr>\n",
       "    <tr>\n",
       "      <th>...</th>\n",
       "      <td>...</td>\n",
       "      <td>...</td>\n",
       "      <td>...</td>\n",
       "      <td>...</td>\n",
       "      <td>...</td>\n",
       "      <td>...</td>\n",
       "      <td>...</td>\n",
       "      <td>...</td>\n",
       "      <td>...</td>\n",
       "      <td>...</td>\n",
       "      <td>...</td>\n",
       "      <td>...</td>\n",
       "      <td>...</td>\n",
       "    </tr>\n",
       "    <tr>\n",
       "      <th>413</th>\n",
       "      <td>0.0</td>\n",
       "      <td>0.0</td>\n",
       "      <td>3.0</td>\n",
       "      <td>1.0</td>\n",
       "      <td>0.0</td>\n",
       "      <td>926.0</td>\n",
       "      <td>2.0</td>\n",
       "      <td>0.0</td>\n",
       "      <td>1</td>\n",
       "      <td>1.0</td>\n",
       "      <td>0.0</td>\n",
       "      <td>1.0</td>\n",
       "      <td>0.0</td>\n",
       "    </tr>\n",
       "    <tr>\n",
       "      <th>414</th>\n",
       "      <td>1.0</td>\n",
       "      <td>1.0</td>\n",
       "      <td>8.0</td>\n",
       "      <td>1.0</td>\n",
       "      <td>0.0</td>\n",
       "      <td>273.0</td>\n",
       "      <td>8.0</td>\n",
       "      <td>1.0</td>\n",
       "      <td>1</td>\n",
       "      <td>1.0</td>\n",
       "      <td>0.0</td>\n",
       "      <td>1.0</td>\n",
       "      <td>5.0</td>\n",
       "    </tr>\n",
       "    <tr>\n",
       "      <th>415</th>\n",
       "      <td>0.0</td>\n",
       "      <td>0.0</td>\n",
       "      <td>8.0</td>\n",
       "      <td>1.0</td>\n",
       "      <td>0.0</td>\n",
       "      <td>927.0</td>\n",
       "      <td>0.0</td>\n",
       "      <td>0.0</td>\n",
       "      <td>1</td>\n",
       "      <td>1.0</td>\n",
       "      <td>0.0</td>\n",
       "      <td>1.0</td>\n",
       "      <td>0.0</td>\n",
       "    </tr>\n",
       "    <tr>\n",
       "      <th>416</th>\n",
       "      <td>0.0</td>\n",
       "      <td>0.0</td>\n",
       "      <td>3.0</td>\n",
       "      <td>1.0</td>\n",
       "      <td>0.0</td>\n",
       "      <td>928.0</td>\n",
       "      <td>2.0</td>\n",
       "      <td>0.0</td>\n",
       "      <td>1</td>\n",
       "      <td>0.0</td>\n",
       "      <td>0.0</td>\n",
       "      <td>1.0</td>\n",
       "      <td>0.0</td>\n",
       "    </tr>\n",
       "    <tr>\n",
       "      <th>417</th>\n",
       "      <td>0.0</td>\n",
       "      <td>0.0</td>\n",
       "      <td>3.0</td>\n",
       "      <td>0.0</td>\n",
       "      <td>1.0</td>\n",
       "      <td>119.0</td>\n",
       "      <td>7.0</td>\n",
       "      <td>1.0</td>\n",
       "      <td>3</td>\n",
       "      <td>0.0</td>\n",
       "      <td>0.0</td>\n",
       "      <td>1.0</td>\n",
       "      <td>3.0</td>\n",
       "    </tr>\n",
       "  </tbody>\n",
       "</table>\n",
       "<p>418 rows × 13 columns</p>\n",
       "</div>"
      ],
      "text/plain": [
       "     Pclass  Sex   Age  SibSp  Parch  Ticket  Fare  Embarked  FamilySize  \\\n",
       "0       0.0  0.0   1.0    1.0    0.0   681.0   9.0       2.0           1   \n",
       "1       0.0  1.0  11.0    0.0    0.0   682.0   0.0       0.0           2   \n",
       "2       2.0  0.0   4.0    1.0    0.0   683.0   3.0       2.0           1   \n",
       "3       0.0  0.0   2.0    1.0    0.0   684.0   3.0       0.0           1   \n",
       "4       0.0  1.0   0.0    0.0    1.0   405.0   5.0       0.0           3   \n",
       "..      ...  ...   ...    ...    ...     ...   ...       ...         ...   \n",
       "413     0.0  0.0   3.0    1.0    0.0   926.0   2.0       0.0           1   \n",
       "414     1.0  1.0   8.0    1.0    0.0   273.0   8.0       1.0           1   \n",
       "415     0.0  0.0   8.0    1.0    0.0   927.0   0.0       0.0           1   \n",
       "416     0.0  0.0   3.0    1.0    0.0   928.0   2.0       0.0           1   \n",
       "417     0.0  0.0   3.0    0.0    1.0   119.0   7.0       1.0           3   \n",
       "\n",
       "     FamilyGroup  Deck  TicketFrequency  Title  \n",
       "0            0.0   0.0              1.0    0.0  \n",
       "1            0.0   1.0              1.0    1.0  \n",
       "2            1.0   0.0              1.0    0.0  \n",
       "3            0.0   1.0              1.0    0.0  \n",
       "4            1.0   0.0              1.0    1.0  \n",
       "..           ...   ...              ...    ...  \n",
       "413          1.0   0.0              1.0    0.0  \n",
       "414          1.0   0.0              1.0    5.0  \n",
       "415          1.0   0.0              1.0    0.0  \n",
       "416          0.0   0.0              1.0    0.0  \n",
       "417          0.0   0.0              1.0    3.0  \n",
       "\n",
       "[418 rows x 13 columns]"
      ]
     },
     "execution_count": 48,
     "metadata": {},
     "output_type": "execute_result"
    }
   ],
   "source": [
    "df_test"
   ]
  },
  {
   "cell_type": "code",
   "execution_count": 49,
   "id": "2346e3fc",
   "metadata": {
    "execution": {
     "iopub.execute_input": "2022-04-17T04:07:16.817772Z",
     "iopub.status.busy": "2022-04-17T04:07:16.817207Z",
     "iopub.status.idle": "2022-04-17T04:07:16.881886Z",
     "shell.execute_reply": "2022-04-17T04:07:16.881009Z"
    },
    "id": "Enjs4jzPWAyz",
    "papermill": {
     "duration": 0.159155,
     "end_time": "2022-04-17T04:07:16.884050",
     "exception": false,
     "start_time": "2022-04-17T04:07:16.724895",
     "status": "completed"
    },
    "tags": []
   },
   "outputs": [],
   "source": [
    "from sklearn.impute import KNNImputer"
   ]
  },
  {
   "cell_type": "code",
   "execution_count": 50,
   "id": "4db872de",
   "metadata": {
    "execution": {
     "iopub.execute_input": "2022-04-17T04:07:17.064636Z",
     "iopub.status.busy": "2022-04-17T04:07:17.064104Z",
     "iopub.status.idle": "2022-04-17T04:07:17.068354Z",
     "shell.execute_reply": "2022-04-17T04:07:17.067593Z"
    },
    "id": "5aaZNHRIWH5z",
    "papermill": {
     "duration": 0.095233,
     "end_time": "2022-04-17T04:07:17.070176",
     "exception": false,
     "start_time": "2022-04-17T04:07:16.974943",
     "status": "completed"
    },
    "tags": []
   },
   "outputs": [],
   "source": [
    "imp = KNNImputer()"
   ]
  },
  {
   "cell_type": "code",
   "execution_count": 51,
   "id": "7fcf07f0",
   "metadata": {
    "execution": {
     "iopub.execute_input": "2022-04-17T04:07:17.258212Z",
     "iopub.status.busy": "2022-04-17T04:07:17.257443Z",
     "iopub.status.idle": "2022-04-17T04:07:17.267062Z",
     "shell.execute_reply": "2022-04-17T04:07:17.266415Z"
    },
    "id": "Tz-7xXmdRB-V",
    "papermill": {
     "duration": 0.106879,
     "end_time": "2022-04-17T04:07:17.269119",
     "exception": false,
     "start_time": "2022-04-17T04:07:17.162240",
     "status": "completed"
    },
    "tags": []
   },
   "outputs": [],
   "source": [
    "df = pd.DataFrame(imp.fit_transform(df.values), columns=df.columns)\n",
    "df_test = pd.DataFrame(imp.fit_transform(df_test.values), columns=df_test.columns)"
   ]
  },
  {
   "cell_type": "code",
   "execution_count": 52,
   "id": "b1c51739",
   "metadata": {
    "execution": {
     "iopub.execute_input": "2022-04-17T04:07:17.447590Z",
     "iopub.status.busy": "2022-04-17T04:07:17.446757Z",
     "iopub.status.idle": "2022-04-17T04:07:17.452739Z",
     "shell.execute_reply": "2022-04-17T04:07:17.452101Z"
    },
    "id": "_2PeISJITa_-",
    "papermill": {
     "duration": 0.097605,
     "end_time": "2022-04-17T04:07:17.454597",
     "exception": false,
     "start_time": "2022-04-17T04:07:17.356992",
     "status": "completed"
    },
    "tags": []
   },
   "outputs": [],
   "source": [
    "df['Embarked'] = df['Embarked'].astype(int)\n",
    "df_test['Embarked'] = df_test['Embarked'].astype(int)"
   ]
  },
  {
   "cell_type": "code",
   "execution_count": 53,
   "id": "d99896bd",
   "metadata": {
    "execution": {
     "iopub.execute_input": "2022-04-17T04:07:17.632964Z",
     "iopub.status.busy": "2022-04-17T04:07:17.632429Z",
     "iopub.status.idle": "2022-04-17T04:07:17.647748Z",
     "shell.execute_reply": "2022-04-17T04:07:17.646274Z"
    },
    "id": "QrXJ6LlVSKgU",
    "outputId": "59c36e25-6db4-4b25-cca5-6f6947b544fc",
    "papermill": {
     "duration": 0.107802,
     "end_time": "2022-04-17T04:07:17.650567",
     "exception": false,
     "start_time": "2022-04-17T04:07:17.542765",
     "status": "completed"
    },
    "tags": []
   },
   "outputs": [
    {
     "name": "stdout",
     "output_type": "stream",
     "text": [
      "key: Survived, unique: 2\n",
      "key: Pclass, unique: 3\n",
      "key: Sex, unique: 2\n",
      "key: Age, unique: 12\n",
      "key: SibSp, unique: 7\n",
      "key: Parch, unique: 7\n",
      "key: Ticket, unique: 681\n",
      "key: Fare, unique: 11\n",
      "key: Embarked, unique: 3\n",
      "key: FamilySize, unique: 9\n",
      "key: FamilyGroup, unique: 4\n",
      "key: Deck, unique: 9\n",
      "key: TicketFrequency, unique: 7\n",
      "key: Title, unique: 5\n",
      "----------\n",
      "key: Pclass, unique: 3\n",
      "key: Sex, unique: 2\n",
      "key: Age, unique: 13\n",
      "key: SibSp, unique: 7\n",
      "key: Parch, unique: 8\n",
      "key: Ticket, unique: 363\n",
      "key: Fare, unique: 11\n",
      "key: Embarked, unique: 3\n",
      "key: FamilySize, unique: 9\n",
      "key: FamilyGroup, unique: 4\n",
      "key: Deck, unique: 9\n",
      "key: TicketFrequency, unique: 5\n",
      "key: Title, unique: 6\n"
     ]
    }
   ],
   "source": [
    "for i in df:\n",
    "    print(f'key: {i}, unique: {df[i].nunique()}')\n",
    "print('-'*10)\n",
    "for i in df_test:\n",
    "    print(f'key: {i}, unique: {df_test[i].nunique()}') "
   ]
  },
  {
   "cell_type": "code",
   "execution_count": 54,
   "id": "928df37f",
   "metadata": {
    "execution": {
     "iopub.execute_input": "2022-04-17T04:07:17.832298Z",
     "iopub.status.busy": "2022-04-17T04:07:17.831229Z",
     "iopub.status.idle": "2022-04-17T04:07:17.835321Z",
     "shell.execute_reply": "2022-04-17T04:07:17.834624Z"
    },
    "id": "FP2J1a09lEFc",
    "outputId": "9a31fc88-afde-41b3-924e-2d43a303a33f",
    "papermill": {
     "duration": 0.097196,
     "end_time": "2022-04-17T04:07:17.837158",
     "exception": false,
     "start_time": "2022-04-17T04:07:17.739962",
     "status": "completed"
    },
    "tags": []
   },
   "outputs": [],
   "source": [
    "combined = df, df_test"
   ]
  },
  {
   "cell_type": "code",
   "execution_count": 55,
   "id": "f5640ebf",
   "metadata": {
    "execution": {
     "iopub.execute_input": "2022-04-17T04:07:18.015497Z",
     "iopub.status.busy": "2022-04-17T04:07:18.015234Z",
     "iopub.status.idle": "2022-04-17T04:07:18.020275Z",
     "shell.execute_reply": "2022-04-17T04:07:18.019640Z"
    },
    "id": "IbP9tiwPd8O0",
    "papermill": {
     "duration": 0.097226,
     "end_time": "2022-04-17T04:07:18.022050",
     "exception": false,
     "start_time": "2022-04-17T04:07:17.924824",
     "status": "completed"
    },
    "tags": []
   },
   "outputs": [],
   "source": [
    "for dataset in combined:\n",
    "    dataset = dataset.drop(['SibSp', 'Parch', 'Ticket'], axis=1)"
   ]
  },
  {
   "cell_type": "code",
   "execution_count": 56,
   "id": "d782b0b3",
   "metadata": {
    "execution": {
     "iopub.execute_input": "2022-04-17T04:07:18.202648Z",
     "iopub.status.busy": "2022-04-17T04:07:18.201930Z",
     "iopub.status.idle": "2022-04-17T04:07:18.226929Z",
     "shell.execute_reply": "2022-04-17T04:07:18.225982Z"
    },
    "papermill": {
     "duration": 0.116993,
     "end_time": "2022-04-17T04:07:18.229003",
     "exception": false,
     "start_time": "2022-04-17T04:07:18.112010",
     "status": "completed"
    },
    "tags": []
   },
   "outputs": [
    {
     "data": {
      "text/html": [
       "<div>\n",
       "<style scoped>\n",
       "    .dataframe tbody tr th:only-of-type {\n",
       "        vertical-align: middle;\n",
       "    }\n",
       "\n",
       "    .dataframe tbody tr th {\n",
       "        vertical-align: top;\n",
       "    }\n",
       "\n",
       "    .dataframe thead th {\n",
       "        text-align: right;\n",
       "    }\n",
       "</style>\n",
       "<table border=\"1\" class=\"dataframe\">\n",
       "  <thead>\n",
       "    <tr style=\"text-align: right;\">\n",
       "      <th></th>\n",
       "      <th>Pclass</th>\n",
       "      <th>Sex</th>\n",
       "      <th>Age</th>\n",
       "      <th>SibSp</th>\n",
       "      <th>Parch</th>\n",
       "      <th>Ticket</th>\n",
       "      <th>Fare</th>\n",
       "      <th>Embarked</th>\n",
       "      <th>FamilySize</th>\n",
       "      <th>FamilyGroup</th>\n",
       "      <th>Deck</th>\n",
       "      <th>TicketFrequency</th>\n",
       "      <th>Title</th>\n",
       "    </tr>\n",
       "  </thead>\n",
       "  <tbody>\n",
       "    <tr>\n",
       "      <th>0</th>\n",
       "      <td>0.0</td>\n",
       "      <td>0.0</td>\n",
       "      <td>1.0</td>\n",
       "      <td>1.0</td>\n",
       "      <td>0.0</td>\n",
       "      <td>681.0</td>\n",
       "      <td>9.0</td>\n",
       "      <td>2</td>\n",
       "      <td>1.0</td>\n",
       "      <td>0.0</td>\n",
       "      <td>0.0</td>\n",
       "      <td>1.0</td>\n",
       "      <td>0.0</td>\n",
       "    </tr>\n",
       "    <tr>\n",
       "      <th>1</th>\n",
       "      <td>0.0</td>\n",
       "      <td>1.0</td>\n",
       "      <td>11.0</td>\n",
       "      <td>0.0</td>\n",
       "      <td>0.0</td>\n",
       "      <td>682.0</td>\n",
       "      <td>0.0</td>\n",
       "      <td>0</td>\n",
       "      <td>2.0</td>\n",
       "      <td>0.0</td>\n",
       "      <td>1.0</td>\n",
       "      <td>1.0</td>\n",
       "      <td>1.0</td>\n",
       "    </tr>\n",
       "    <tr>\n",
       "      <th>2</th>\n",
       "      <td>2.0</td>\n",
       "      <td>0.0</td>\n",
       "      <td>4.0</td>\n",
       "      <td>1.0</td>\n",
       "      <td>0.0</td>\n",
       "      <td>683.0</td>\n",
       "      <td>3.0</td>\n",
       "      <td>2</td>\n",
       "      <td>1.0</td>\n",
       "      <td>1.0</td>\n",
       "      <td>0.0</td>\n",
       "      <td>1.0</td>\n",
       "      <td>0.0</td>\n",
       "    </tr>\n",
       "    <tr>\n",
       "      <th>3</th>\n",
       "      <td>0.0</td>\n",
       "      <td>0.0</td>\n",
       "      <td>2.0</td>\n",
       "      <td>1.0</td>\n",
       "      <td>0.0</td>\n",
       "      <td>684.0</td>\n",
       "      <td>3.0</td>\n",
       "      <td>0</td>\n",
       "      <td>1.0</td>\n",
       "      <td>0.0</td>\n",
       "      <td>1.0</td>\n",
       "      <td>1.0</td>\n",
       "      <td>0.0</td>\n",
       "    </tr>\n",
       "    <tr>\n",
       "      <th>4</th>\n",
       "      <td>0.0</td>\n",
       "      <td>1.0</td>\n",
       "      <td>0.0</td>\n",
       "      <td>0.0</td>\n",
       "      <td>1.0</td>\n",
       "      <td>405.0</td>\n",
       "      <td>5.0</td>\n",
       "      <td>0</td>\n",
       "      <td>3.0</td>\n",
       "      <td>1.0</td>\n",
       "      <td>0.0</td>\n",
       "      <td>1.0</td>\n",
       "      <td>1.0</td>\n",
       "    </tr>\n",
       "    <tr>\n",
       "      <th>...</th>\n",
       "      <td>...</td>\n",
       "      <td>...</td>\n",
       "      <td>...</td>\n",
       "      <td>...</td>\n",
       "      <td>...</td>\n",
       "      <td>...</td>\n",
       "      <td>...</td>\n",
       "      <td>...</td>\n",
       "      <td>...</td>\n",
       "      <td>...</td>\n",
       "      <td>...</td>\n",
       "      <td>...</td>\n",
       "      <td>...</td>\n",
       "    </tr>\n",
       "    <tr>\n",
       "      <th>413</th>\n",
       "      <td>0.0</td>\n",
       "      <td>0.0</td>\n",
       "      <td>3.0</td>\n",
       "      <td>1.0</td>\n",
       "      <td>0.0</td>\n",
       "      <td>926.0</td>\n",
       "      <td>2.0</td>\n",
       "      <td>0</td>\n",
       "      <td>1.0</td>\n",
       "      <td>1.0</td>\n",
       "      <td>0.0</td>\n",
       "      <td>1.0</td>\n",
       "      <td>0.0</td>\n",
       "    </tr>\n",
       "    <tr>\n",
       "      <th>414</th>\n",
       "      <td>1.0</td>\n",
       "      <td>1.0</td>\n",
       "      <td>8.0</td>\n",
       "      <td>1.0</td>\n",
       "      <td>0.0</td>\n",
       "      <td>273.0</td>\n",
       "      <td>8.0</td>\n",
       "      <td>1</td>\n",
       "      <td>1.0</td>\n",
       "      <td>1.0</td>\n",
       "      <td>0.0</td>\n",
       "      <td>1.0</td>\n",
       "      <td>5.0</td>\n",
       "    </tr>\n",
       "    <tr>\n",
       "      <th>415</th>\n",
       "      <td>0.0</td>\n",
       "      <td>0.0</td>\n",
       "      <td>8.0</td>\n",
       "      <td>1.0</td>\n",
       "      <td>0.0</td>\n",
       "      <td>927.0</td>\n",
       "      <td>0.0</td>\n",
       "      <td>0</td>\n",
       "      <td>1.0</td>\n",
       "      <td>1.0</td>\n",
       "      <td>0.0</td>\n",
       "      <td>1.0</td>\n",
       "      <td>0.0</td>\n",
       "    </tr>\n",
       "    <tr>\n",
       "      <th>416</th>\n",
       "      <td>0.0</td>\n",
       "      <td>0.0</td>\n",
       "      <td>3.0</td>\n",
       "      <td>1.0</td>\n",
       "      <td>0.0</td>\n",
       "      <td>928.0</td>\n",
       "      <td>2.0</td>\n",
       "      <td>0</td>\n",
       "      <td>1.0</td>\n",
       "      <td>0.0</td>\n",
       "      <td>0.0</td>\n",
       "      <td>1.0</td>\n",
       "      <td>0.0</td>\n",
       "    </tr>\n",
       "    <tr>\n",
       "      <th>417</th>\n",
       "      <td>0.0</td>\n",
       "      <td>0.0</td>\n",
       "      <td>3.0</td>\n",
       "      <td>0.0</td>\n",
       "      <td>1.0</td>\n",
       "      <td>119.0</td>\n",
       "      <td>7.0</td>\n",
       "      <td>1</td>\n",
       "      <td>3.0</td>\n",
       "      <td>0.0</td>\n",
       "      <td>0.0</td>\n",
       "      <td>1.0</td>\n",
       "      <td>3.0</td>\n",
       "    </tr>\n",
       "  </tbody>\n",
       "</table>\n",
       "<p>418 rows × 13 columns</p>\n",
       "</div>"
      ],
      "text/plain": [
       "     Pclass  Sex   Age  SibSp  Parch  Ticket  Fare  Embarked  FamilySize  \\\n",
       "0       0.0  0.0   1.0    1.0    0.0   681.0   9.0         2         1.0   \n",
       "1       0.0  1.0  11.0    0.0    0.0   682.0   0.0         0         2.0   \n",
       "2       2.0  0.0   4.0    1.0    0.0   683.0   3.0         2         1.0   \n",
       "3       0.0  0.0   2.0    1.0    0.0   684.0   3.0         0         1.0   \n",
       "4       0.0  1.0   0.0    0.0    1.0   405.0   5.0         0         3.0   \n",
       "..      ...  ...   ...    ...    ...     ...   ...       ...         ...   \n",
       "413     0.0  0.0   3.0    1.0    0.0   926.0   2.0         0         1.0   \n",
       "414     1.0  1.0   8.0    1.0    0.0   273.0   8.0         1         1.0   \n",
       "415     0.0  0.0   8.0    1.0    0.0   927.0   0.0         0         1.0   \n",
       "416     0.0  0.0   3.0    1.0    0.0   928.0   2.0         0         1.0   \n",
       "417     0.0  0.0   3.0    0.0    1.0   119.0   7.0         1         3.0   \n",
       "\n",
       "     FamilyGroup  Deck  TicketFrequency  Title  \n",
       "0            0.0   0.0              1.0    0.0  \n",
       "1            0.0   1.0              1.0    1.0  \n",
       "2            1.0   0.0              1.0    0.0  \n",
       "3            0.0   1.0              1.0    0.0  \n",
       "4            1.0   0.0              1.0    1.0  \n",
       "..           ...   ...              ...    ...  \n",
       "413          1.0   0.0              1.0    0.0  \n",
       "414          1.0   0.0              1.0    5.0  \n",
       "415          1.0   0.0              1.0    0.0  \n",
       "416          0.0   0.0              1.0    0.0  \n",
       "417          0.0   0.0              1.0    3.0  \n",
       "\n",
       "[418 rows x 13 columns]"
      ]
     },
     "execution_count": 56,
     "metadata": {},
     "output_type": "execute_result"
    }
   ],
   "source": [
    "df_test"
   ]
  },
  {
   "cell_type": "code",
   "execution_count": 57,
   "id": "c0c07366",
   "metadata": {
    "execution": {
     "iopub.execute_input": "2022-04-17T04:07:18.406656Z",
     "iopub.status.busy": "2022-04-17T04:07:18.406150Z",
     "iopub.status.idle": "2022-04-17T04:07:19.596745Z",
     "shell.execute_reply": "2022-04-17T04:07:19.595982Z"
    },
    "id": "yQY-eDmpvmB4",
    "papermill": {
     "duration": 1.281866,
     "end_time": "2022-04-17T04:07:19.598838",
     "exception": false,
     "start_time": "2022-04-17T04:07:18.316972",
     "status": "completed"
    },
    "tags": []
   },
   "outputs": [],
   "source": [
    "from torch.nn import *\n",
    "from torch import nn"
   ]
  },
  {
   "cell_type": "code",
   "execution_count": 58,
   "id": "557247cc",
   "metadata": {
    "execution": {
     "iopub.execute_input": "2022-04-17T04:07:19.776430Z",
     "iopub.status.busy": "2022-04-17T04:07:19.775902Z",
     "iopub.status.idle": "2022-04-17T04:07:19.935904Z",
     "shell.execute_reply": "2022-04-17T04:07:19.934828Z"
    },
    "id": "sCqvCatNdRwA",
    "papermill": {
     "duration": 0.250755,
     "end_time": "2022-04-17T04:07:19.938081",
     "exception": false,
     "start_time": "2022-04-17T04:07:19.687326",
     "status": "completed"
    },
    "tags": []
   },
   "outputs": [],
   "source": [
    "from torch.utils.data import Dataset\n",
    "from torch.utils.data import DataLoader\n",
    "import torch\n",
    "from fastai.tabular.all import *"
   ]
  },
  {
   "cell_type": "code",
   "execution_count": 59,
   "id": "55140214",
   "metadata": {
    "execution": {
     "iopub.execute_input": "2022-04-17T04:07:20.116771Z",
     "iopub.status.busy": "2022-04-17T04:07:20.116256Z",
     "iopub.status.idle": "2022-04-17T04:07:20.126690Z",
     "shell.execute_reply": "2022-04-17T04:07:20.126052Z"
    },
    "id": "iVvb5NIslsVH",
    "outputId": "762ee406-fe9c-4e50-ead3-2f1e8a3c2161",
    "papermill": {
     "duration": 0.10253,
     "end_time": "2022-04-17T04:07:20.128423",
     "exception": false,
     "start_time": "2022-04-17T04:07:20.025893",
     "status": "completed"
    },
    "tags": []
   },
   "outputs": [
    {
     "data": {
      "text/plain": [
       "3"
      ]
     },
     "execution_count": 59,
     "metadata": {},
     "output_type": "execute_result"
    }
   ],
   "source": [
    "cat = df[['Pclass', 'Sex', 'SibSp', 'Parch', 'Embarked', 'Title']]\n",
    "cont = df[['Age', 'Fare']]\n",
    "cat.join(cont).iloc[0]\n",
    "dv = df['Survived']\n",
    "dv.iloc[0]\n",
    "df.index[3]"
   ]
  },
  {
   "cell_type": "code",
   "execution_count": null,
   "id": "ff4767c1",
   "metadata": {
    "papermill": {
     "duration": 0.090014,
     "end_time": "2022-04-17T04:07:20.305853",
     "exception": false,
     "start_time": "2022-04-17T04:07:20.215839",
     "status": "completed"
    },
    "tags": []
   },
   "outputs": [],
   "source": []
  },
  {
   "cell_type": "code",
   "execution_count": 60,
   "id": "ef218ba6",
   "metadata": {
    "execution": {
     "iopub.execute_input": "2022-04-17T04:07:20.486511Z",
     "iopub.status.busy": "2022-04-17T04:07:20.485984Z",
     "iopub.status.idle": "2022-04-17T04:07:20.490362Z",
     "shell.execute_reply": "2022-04-17T04:07:20.489753Z"
    },
    "id": "r5iKlPmmnUUz",
    "papermill": {
     "duration": 0.09607,
     "end_time": "2022-04-17T04:07:20.492320",
     "exception": false,
     "start_time": "2022-04-17T04:07:20.396250",
     "status": "completed"
    },
    "tags": []
   },
   "outputs": [],
   "source": [
    "def randomSplit(df, valid_ratio=0.2, random_state=None):\n",
    "    split_idx = int(len(df.index)*(valid_ratio))\n",
    "    shuffled_df = df.sample(frac=1, random_state=random_state)\n",
    "    return shuffled_df.iloc[split_idx:], shuffled_df[:split_idx]"
   ]
  },
  {
   "cell_type": "code",
   "execution_count": 61,
   "id": "58b5d6cb",
   "metadata": {
    "execution": {
     "iopub.execute_input": "2022-04-17T04:07:20.673307Z",
     "iopub.status.busy": "2022-04-17T04:07:20.672770Z",
     "iopub.status.idle": "2022-04-17T04:07:20.679626Z",
     "shell.execute_reply": "2022-04-17T04:07:20.678813Z"
    },
    "id": "1lSV1oU8bwAM",
    "papermill": {
     "duration": 0.099687,
     "end_time": "2022-04-17T04:07:20.681510",
     "exception": false,
     "start_time": "2022-04-17T04:07:20.581823",
     "status": "completed"
    },
    "tags": []
   },
   "outputs": [],
   "source": [
    "class TitanicDataset(Dataset):\n",
    "    def __init__(self, df, is_test=False):\n",
    "        self.is_test = is_test\n",
    "        self.df = df.copy()\n",
    "        self.cat = self.df[['Pclass', 'Sex', 'Embarked', 'Title', 'FamilyGroup', 'Deck' ,'Age', 'Fare']].astype(int)\n",
    "        self.cont = self.df[['TicketFrequency', 'FamilySize']]\n",
    "        self.res_df = self.cat.join(self.cont)\n",
    "        if not(is_test):\n",
    "            self.dep_var = self.df['Survived'].astype(int)\n",
    "        self.columns = self.res_df.columns\n",
    "    def __len__(self):\n",
    "        return len(self.df)\n",
    "    def __getitem__(self, idx):\n",
    "        if self.is_test:\n",
    "            return self.res_df.iloc[idx].values\n",
    "        else:\n",
    "            return self.res_df.iloc[idx].values, self.dep_var.iloc[idx]"
   ]
  },
  {
   "cell_type": "code",
   "execution_count": 62,
   "id": "d7bb0f1a",
   "metadata": {
    "execution": {
     "iopub.execute_input": "2022-04-17T04:07:20.861943Z",
     "iopub.status.busy": "2022-04-17T04:07:20.861406Z",
     "iopub.status.idle": "2022-04-17T04:07:20.866806Z",
     "shell.execute_reply": "2022-04-17T04:07:20.866219Z"
    },
    "id": "p1ihRqhs2kz-",
    "papermill": {
     "duration": 0.099125,
     "end_time": "2022-04-17T04:07:20.868615",
     "exception": false,
     "start_time": "2022-04-17T04:07:20.769490",
     "status": "completed"
    },
    "tags": []
   },
   "outputs": [],
   "source": [
    "train_df, valid_df = randomSplit(df)"
   ]
  },
  {
   "cell_type": "code",
   "execution_count": 63,
   "id": "116c2eee",
   "metadata": {
    "execution": {
     "iopub.execute_input": "2022-04-17T04:07:21.050920Z",
     "iopub.status.busy": "2022-04-17T04:07:21.050393Z",
     "iopub.status.idle": "2022-04-17T04:07:21.077959Z",
     "shell.execute_reply": "2022-04-17T04:07:21.077391Z"
    },
    "id": "XTcoFKendkpz",
    "papermill": {
     "duration": 0.121094,
     "end_time": "2022-04-17T04:07:21.079647",
     "exception": false,
     "start_time": "2022-04-17T04:07:20.958553",
     "status": "completed"
    },
    "tags": []
   },
   "outputs": [
    {
     "data": {
      "text/html": [
       "<div>\n",
       "<style scoped>\n",
       "    .dataframe tbody tr th:only-of-type {\n",
       "        vertical-align: middle;\n",
       "    }\n",
       "\n",
       "    .dataframe tbody tr th {\n",
       "        vertical-align: top;\n",
       "    }\n",
       "\n",
       "    .dataframe thead th {\n",
       "        text-align: right;\n",
       "    }\n",
       "</style>\n",
       "<table border=\"1\" class=\"dataframe\">\n",
       "  <thead>\n",
       "    <tr style=\"text-align: right;\">\n",
       "      <th></th>\n",
       "      <th>Pclass</th>\n",
       "      <th>Sex</th>\n",
       "      <th>Embarked</th>\n",
       "      <th>Title</th>\n",
       "      <th>FamilyGroup</th>\n",
       "      <th>Deck</th>\n",
       "      <th>Age</th>\n",
       "      <th>Fare</th>\n",
       "      <th>TicketFrequency</th>\n",
       "      <th>FamilySize</th>\n",
       "    </tr>\n",
       "  </thead>\n",
       "  <tbody>\n",
       "    <tr>\n",
       "      <th>696</th>\n",
       "      <td>0</td>\n",
       "      <td>0</td>\n",
       "      <td>0</td>\n",
       "      <td>0</td>\n",
       "      <td>1</td>\n",
       "      <td>0</td>\n",
       "      <td>11</td>\n",
       "      <td>2</td>\n",
       "      <td>1.0</td>\n",
       "      <td>1.0</td>\n",
       "    </tr>\n",
       "    <tr>\n",
       "      <th>158</th>\n",
       "      <td>0</td>\n",
       "      <td>0</td>\n",
       "      <td>0</td>\n",
       "      <td>0</td>\n",
       "      <td>1</td>\n",
       "      <td>0</td>\n",
       "      <td>3</td>\n",
       "      <td>3</td>\n",
       "      <td>1.0</td>\n",
       "      <td>1.0</td>\n",
       "    </tr>\n",
       "    <tr>\n",
       "      <th>738</th>\n",
       "      <td>0</td>\n",
       "      <td>0</td>\n",
       "      <td>0</td>\n",
       "      <td>0</td>\n",
       "      <td>1</td>\n",
       "      <td>0</td>\n",
       "      <td>3</td>\n",
       "      <td>2</td>\n",
       "      <td>1.0</td>\n",
       "      <td>1.0</td>\n",
       "    </tr>\n",
       "    <tr>\n",
       "      <th>350</th>\n",
       "      <td>0</td>\n",
       "      <td>0</td>\n",
       "      <td>0</td>\n",
       "      <td>0</td>\n",
       "      <td>1</td>\n",
       "      <td>0</td>\n",
       "      <td>0</td>\n",
       "      <td>3</td>\n",
       "      <td>1.0</td>\n",
       "      <td>1.0</td>\n",
       "    </tr>\n",
       "    <tr>\n",
       "      <th>471</th>\n",
       "      <td>0</td>\n",
       "      <td>0</td>\n",
       "      <td>0</td>\n",
       "      <td>0</td>\n",
       "      <td>1</td>\n",
       "      <td>0</td>\n",
       "      <td>1</td>\n",
       "      <td>3</td>\n",
       "      <td>1.0</td>\n",
       "      <td>1.0</td>\n",
       "    </tr>\n",
       "    <tr>\n",
       "      <th>...</th>\n",
       "      <td>...</td>\n",
       "      <td>...</td>\n",
       "      <td>...</td>\n",
       "      <td>...</td>\n",
       "      <td>...</td>\n",
       "      <td>...</td>\n",
       "      <td>...</td>\n",
       "      <td>...</td>\n",
       "      <td>...</td>\n",
       "      <td>...</td>\n",
       "    </tr>\n",
       "    <tr>\n",
       "      <th>863</th>\n",
       "      <td>0</td>\n",
       "      <td>1</td>\n",
       "      <td>0</td>\n",
       "      <td>2</td>\n",
       "      <td>3</td>\n",
       "      <td>0</td>\n",
       "      <td>7</td>\n",
       "      <td>1</td>\n",
       "      <td>7.0</td>\n",
       "      <td>11.0</td>\n",
       "    </tr>\n",
       "    <tr>\n",
       "      <th>692</th>\n",
       "      <td>0</td>\n",
       "      <td>0</td>\n",
       "      <td>0</td>\n",
       "      <td>0</td>\n",
       "      <td>1</td>\n",
       "      <td>0</td>\n",
       "      <td>3</td>\n",
       "      <td>1</td>\n",
       "      <td>7.0</td>\n",
       "      <td>1.0</td>\n",
       "    </tr>\n",
       "    <tr>\n",
       "      <th>541</th>\n",
       "      <td>0</td>\n",
       "      <td>1</td>\n",
       "      <td>0</td>\n",
       "      <td>2</td>\n",
       "      <td>3</td>\n",
       "      <td>0</td>\n",
       "      <td>5</td>\n",
       "      <td>6</td>\n",
       "      <td>7.0</td>\n",
       "      <td>7.0</td>\n",
       "    </tr>\n",
       "    <tr>\n",
       "      <th>792</th>\n",
       "      <td>0</td>\n",
       "      <td>1</td>\n",
       "      <td>0</td>\n",
       "      <td>2</td>\n",
       "      <td>3</td>\n",
       "      <td>0</td>\n",
       "      <td>7</td>\n",
       "      <td>1</td>\n",
       "      <td>7.0</td>\n",
       "      <td>11.0</td>\n",
       "    </tr>\n",
       "    <tr>\n",
       "      <th>180</th>\n",
       "      <td>0</td>\n",
       "      <td>1</td>\n",
       "      <td>0</td>\n",
       "      <td>2</td>\n",
       "      <td>3</td>\n",
       "      <td>0</td>\n",
       "      <td>7</td>\n",
       "      <td>1</td>\n",
       "      <td>7.0</td>\n",
       "      <td>11.0</td>\n",
       "    </tr>\n",
       "  </tbody>\n",
       "</table>\n",
       "<p>713 rows × 10 columns</p>\n",
       "</div>"
      ],
      "text/plain": [
       "     Pclass  Sex  Embarked  Title  FamilyGroup  Deck  Age  Fare  \\\n",
       "696       0    0         0      0            1     0   11     2   \n",
       "158       0    0         0      0            1     0    3     3   \n",
       "738       0    0         0      0            1     0    3     2   \n",
       "350       0    0         0      0            1     0    0     3   \n",
       "471       0    0         0      0            1     0    1     3   \n",
       "..      ...  ...       ...    ...          ...   ...  ...   ...   \n",
       "863       0    1         0      2            3     0    7     1   \n",
       "692       0    0         0      0            1     0    3     1   \n",
       "541       0    1         0      2            3     0    5     6   \n",
       "792       0    1         0      2            3     0    7     1   \n",
       "180       0    1         0      2            3     0    7     1   \n",
       "\n",
       "     TicketFrequency  FamilySize  \n",
       "696              1.0         1.0  \n",
       "158              1.0         1.0  \n",
       "738              1.0         1.0  \n",
       "350              1.0         1.0  \n",
       "471              1.0         1.0  \n",
       "..               ...         ...  \n",
       "863              7.0        11.0  \n",
       "692              7.0         1.0  \n",
       "541              7.0         7.0  \n",
       "792              7.0        11.0  \n",
       "180              7.0        11.0  \n",
       "\n",
       "[713 rows x 10 columns]"
      ]
     },
     "execution_count": 63,
     "metadata": {},
     "output_type": "execute_result"
    }
   ],
   "source": [
    "full_td = TitanicDataset(df)\n",
    "td = TitanicDataset(train_df)\n",
    "valid_td = TitanicDataset(valid_df)\n",
    "test_ds = TitanicDataset(df_test, is_test=True)\n",
    "in_columns = td.columns\n",
    "cat_columns = td.cat.columns\n",
    "cat_n = len(td.cat.columns)\n",
    "cont_n = len(td.cont.columns)\n",
    "td.res_df.sort_values('TicketFrequency')"
   ]
  },
  {
   "cell_type": "code",
   "execution_count": 64,
   "id": "0a9661c0",
   "metadata": {
    "execution": {
     "iopub.execute_input": "2022-04-17T04:07:21.258973Z",
     "iopub.status.busy": "2022-04-17T04:07:21.258396Z",
     "iopub.status.idle": "2022-04-17T04:07:21.262451Z",
     "shell.execute_reply": "2022-04-17T04:07:21.261819Z"
    },
    "id": "IF6pEYPndx2Q",
    "papermill": {
     "duration": 0.096225,
     "end_time": "2022-04-17T04:07:21.264596",
     "exception": false,
     "start_time": "2022-04-17T04:07:21.168371",
     "status": "completed"
    },
    "tags": []
   },
   "outputs": [],
   "source": [
    "dl = DataLoader(td, batch_size=64)\n",
    "valid_dl = DataLoader(valid_td, batch_size=64)"
   ]
  },
  {
   "cell_type": "code",
   "execution_count": 65,
   "id": "26172982",
   "metadata": {
    "execution": {
     "iopub.execute_input": "2022-04-17T04:07:21.445372Z",
     "iopub.status.busy": "2022-04-17T04:07:21.444847Z",
     "iopub.status.idle": "2022-04-17T04:07:21.448408Z",
     "shell.execute_reply": "2022-04-17T04:07:21.447814Z"
    },
    "id": "C-Z5pgpf2085",
    "papermill": {
     "duration": 0.094644,
     "end_time": "2022-04-17T04:07:21.450078",
     "exception": false,
     "start_time": "2022-04-17T04:07:21.355434",
     "status": "completed"
    },
    "tags": []
   },
   "outputs": [],
   "source": [
    "iterdl = iter(dl)"
   ]
  },
  {
   "cell_type": "code",
   "execution_count": 66,
   "id": "138b2a5a",
   "metadata": {
    "execution": {
     "iopub.execute_input": "2022-04-17T04:07:21.630156Z",
     "iopub.status.busy": "2022-04-17T04:07:21.629645Z",
     "iopub.status.idle": "2022-04-17T04:07:21.746409Z",
     "shell.execute_reply": "2022-04-17T04:07:21.745549Z"
    },
    "papermill": {
     "duration": 0.209459,
     "end_time": "2022-04-17T04:07:21.748403",
     "exception": false,
     "start_time": "2022-04-17T04:07:21.538944",
     "status": "completed"
    },
    "tags": []
   },
   "outputs": [
    {
     "data": {
      "text/plain": [
       "tensor([1., 3., 1., 1., 1., 1., 1., 1., 1., 1., 1., 1., 1., 1., 1., 4., 1., 4.,\n",
       "        5., 1., 7., 6., 2., 4., 4., 2., 1., 1., 1., 1., 1., 1., 2., 1., 1., 3.,\n",
       "        1., 1., 1., 2., 1., 1., 1., 1., 1., 1., 2., 7., 3., 1., 1., 2., 1., 1.,\n",
       "        3., 2., 1., 2., 1., 1., 1., 1., 2., 5.], dtype=torch.float64)"
      ]
     },
     "execution_count": 66,
     "metadata": {},
     "output_type": "execute_result"
    }
   ],
   "source": [
    "next(iterdl)[0][:, 8]"
   ]
  },
  {
   "cell_type": "code",
   "execution_count": 67,
   "id": "4bda789a",
   "metadata": {
    "execution": {
     "iopub.execute_input": "2022-04-17T04:07:21.931967Z",
     "iopub.status.busy": "2022-04-17T04:07:21.931418Z",
     "iopub.status.idle": "2022-04-17T04:07:21.980094Z",
     "shell.execute_reply": "2022-04-17T04:07:21.979462Z"
    },
    "id": "_Somo8hF269x",
    "papermill": {
     "duration": 0.141823,
     "end_time": "2022-04-17T04:07:21.981799",
     "exception": false,
     "start_time": "2022-04-17T04:07:21.839976",
     "status": "completed"
    },
    "tags": []
   },
   "outputs": [
    {
     "data": {
      "text/plain": [
       "(418, 10)"
      ]
     },
     "execution_count": 67,
     "metadata": {},
     "output_type": "execute_result"
    }
   ],
   "source": [
    "np.array(test_ds).shape"
   ]
  },
  {
   "cell_type": "code",
   "execution_count": 68,
   "id": "0cc465b9",
   "metadata": {
    "execution": {
     "iopub.execute_input": "2022-04-17T04:07:22.168347Z",
     "iopub.status.busy": "2022-04-17T04:07:22.168032Z",
     "iopub.status.idle": "2022-04-17T04:07:22.180636Z",
     "shell.execute_reply": "2022-04-17T04:07:22.179696Z"
    },
    "id": "NcJc91Aqn1GJ",
    "papermill": {
     "duration": 0.109873,
     "end_time": "2022-04-17T04:07:22.182759",
     "exception": false,
     "start_time": "2022-04-17T04:07:22.072886",
     "status": "completed"
    },
    "tags": []
   },
   "outputs": [],
   "source": [
    "voc = []\n",
    "for s in cat_columns:\n",
    "    vn = pd.concat([td.cat[s], valid_td.cat[s], test_ds.cat[s]])\n",
    "    vn = vn.astype(int).nunique()\n",
    "    voc.append([vn, vn])\n"
   ]
  },
  {
   "cell_type": "code",
   "execution_count": 69,
   "id": "d06f60ae",
   "metadata": {
    "execution": {
     "iopub.execute_input": "2022-04-17T04:07:22.365426Z",
     "iopub.status.busy": "2022-04-17T04:07:22.365121Z",
     "iopub.status.idle": "2022-04-17T04:07:22.371411Z",
     "shell.execute_reply": "2022-04-17T04:07:22.370596Z"
    },
    "id": "J12RmbwluPKD",
    "outputId": "ca50b868-385e-4f83-8287-84e30513cec2",
    "papermill": {
     "duration": 0.10063,
     "end_time": "2022-04-17T04:07:22.373322",
     "exception": false,
     "start_time": "2022-04-17T04:07:22.272692",
     "status": "completed"
    },
    "tags": []
   },
   "outputs": [
    {
     "data": {
      "text/plain": [
       "[[3, 3], [2, 2], [3, 3], [6, 6], [4, 4], [9, 9], [13, 13], [11, 11]]"
      ]
     },
     "execution_count": 69,
     "metadata": {},
     "output_type": "execute_result"
    }
   ],
   "source": [
    "voc"
   ]
  },
  {
   "cell_type": "code",
   "execution_count": 70,
   "id": "c9006d40",
   "metadata": {
    "execution": {
     "iopub.execute_input": "2022-04-17T04:07:22.557739Z",
     "iopub.status.busy": "2022-04-17T04:07:22.556929Z",
     "iopub.status.idle": "2022-04-17T04:07:22.568499Z",
     "shell.execute_reply": "2022-04-17T04:07:22.567768Z"
    },
    "id": "0SBg7b0ilJyB",
    "papermill": {
     "duration": 0.106149,
     "end_time": "2022-04-17T04:07:22.570612",
     "exception": false,
     "start_time": "2022-04-17T04:07:22.464463",
     "status": "completed"
    },
    "tags": []
   },
   "outputs": [],
   "source": [
    "class TabModel(Module):\n",
    "    def __init__(self, emb_sz, cat_n, cont_n, layers):\n",
    "        super(TabModel, self).__init__()\n",
    "        self.cat_n = cat_n\n",
    "        self.cont_n = cont_n\n",
    "        self.embeddings = nn.ModuleList(nn.Embedding(ni, nf) for ni, nf in emb_sz)\n",
    "        cat_len = sum([x for _, x in emb_sz])\n",
    "        self.emb_drop = nn.Dropout(0.2)\n",
    "        self.linear_drop = nn.Dropout(0.5)\n",
    "        model = []\n",
    "        model.append(nn.BatchNorm1d(cat_len+cont_n))\n",
    "        model.append(self.linear_drop)\n",
    "        model.append(nn.Linear(cat_len+cont_n, layers[0]))\n",
    "        model.append(nn.Mish())\n",
    "        for i in range(len(layers)-2):\n",
    "            model.append(nn.BatchNorm1d(layers[i]))\n",
    "            model.append(self.linear_drop)\n",
    "            model.append(nn.Linear(layers[i], layers[i+1]))\n",
    "            model.append(nn.Mish())\n",
    "        self.linear = nn.Sequential(*model)\n",
    "        self.final_layer = nn.Linear(layers[-2], layers[-1])\n",
    "        \n",
    "    def forward(self, x):\n",
    "        emb = []\n",
    "        for i in range(self.cat_n):\n",
    "            emb.append(self.embeddings[i](x[:,i].int()))\n",
    "        for i in range(self.cat_n, self.cat_n+self.cont_n):\n",
    "            emb.append(x[:,i].unsqueeze(1))\n",
    "        input = torch.cat(emb, dim=1).float()\n",
    "        res = self.linear(input)\n",
    "        res = self.final_layer(res)\n",
    "        return res\n"
   ]
  },
  {
   "cell_type": "code",
   "execution_count": 71,
   "id": "e5b105f7",
   "metadata": {
    "execution": {
     "iopub.execute_input": "2022-04-17T04:07:22.754441Z",
     "iopub.status.busy": "2022-04-17T04:07:22.753894Z",
     "iopub.status.idle": "2022-04-17T04:07:22.772117Z",
     "shell.execute_reply": "2022-04-17T04:07:22.771449Z"
    },
    "id": "Pgyp6Ntynyo_",
    "papermill": {
     "duration": 0.112403,
     "end_time": "2022-04-17T04:07:22.774252",
     "exception": false,
     "start_time": "2022-04-17T04:07:22.661849",
     "status": "completed"
    },
    "tags": []
   },
   "outputs": [],
   "source": [
    "tabmodel = TabModel(voc, cat_n, cont_n, (400, 300, 200, 100, 2)).to(device)"
   ]
  },
  {
   "cell_type": "code",
   "execution_count": 72,
   "id": "6faae980",
   "metadata": {
    "execution": {
     "iopub.execute_input": "2022-04-17T04:07:22.964105Z",
     "iopub.status.busy": "2022-04-17T04:07:22.963153Z",
     "iopub.status.idle": "2022-04-17T04:07:22.968476Z",
     "shell.execute_reply": "2022-04-17T04:07:22.967579Z"
    },
    "id": "azJH5KCv0Nu3",
    "outputId": "6158c43f-5850-417b-ca72-efef5f5f0cc0",
    "papermill": {
     "duration": 0.102807,
     "end_time": "2022-04-17T04:07:22.970865",
     "exception": false,
     "start_time": "2022-04-17T04:07:22.868058",
     "status": "completed"
    },
    "tags": []
   },
   "outputs": [
    {
     "name": "stdout",
     "output_type": "stream",
     "text": [
      "TabModel(\n",
      "  (embeddings): ModuleList(\n",
      "    (0): Embedding(3, 3)\n",
      "    (1): Embedding(2, 2)\n",
      "    (2): Embedding(3, 3)\n",
      "    (3): Embedding(6, 6)\n",
      "    (4): Embedding(4, 4)\n",
      "    (5): Embedding(9, 9)\n",
      "    (6): Embedding(13, 13)\n",
      "    (7): Embedding(11, 11)\n",
      "  )\n",
      "  (emb_drop): Dropout(p=0.2, inplace=False)\n",
      "  (linear_drop): Dropout(p=0.5, inplace=False)\n",
      "  (linear): Sequential(\n",
      "    (0): BatchNorm1d(53, eps=1e-05, momentum=0.1, affine=True, track_running_stats=True)\n",
      "    (1): Dropout(p=0.5, inplace=False)\n",
      "    (2): Linear(in_features=53, out_features=400, bias=True)\n",
      "    (3): Mish()\n",
      "    (4): BatchNorm1d(400, eps=1e-05, momentum=0.1, affine=True, track_running_stats=True)\n",
      "    (5): Dropout(p=0.5, inplace=False)\n",
      "    (6): Linear(in_features=400, out_features=300, bias=True)\n",
      "    (7): Mish()\n",
      "    (8): BatchNorm1d(300, eps=1e-05, momentum=0.1, affine=True, track_running_stats=True)\n",
      "    (9): Dropout(p=0.5, inplace=False)\n",
      "    (10): Linear(in_features=300, out_features=200, bias=True)\n",
      "    (11): Mish()\n",
      "    (12): BatchNorm1d(200, eps=1e-05, momentum=0.1, affine=True, track_running_stats=True)\n",
      "    (13): Dropout(p=0.5, inplace=False)\n",
      "    (14): Linear(in_features=200, out_features=100, bias=True)\n",
      "    (15): Mish()\n",
      "  )\n",
      "  (final_layer): Linear(in_features=100, out_features=2, bias=True)\n",
      ")\n"
     ]
    }
   ],
   "source": [
    "print(tabmodel)"
   ]
  },
  {
   "cell_type": "code",
   "execution_count": 73,
   "id": "c7ea0dd4",
   "metadata": {
    "execution": {
     "iopub.execute_input": "2022-04-17T04:07:23.165060Z",
     "iopub.status.busy": "2022-04-17T04:07:23.164139Z",
     "iopub.status.idle": "2022-04-17T04:07:23.168012Z",
     "shell.execute_reply": "2022-04-17T04:07:23.167392Z"
    },
    "id": "9dP2FXI1DMqk",
    "papermill": {
     "duration": 0.102241,
     "end_time": "2022-04-17T04:07:23.169800",
     "exception": false,
     "start_time": "2022-04-17T04:07:23.067559",
     "status": "completed"
    },
    "tags": []
   },
   "outputs": [],
   "source": [
    "dls = dl, valid_dl"
   ]
  },
  {
   "cell_type": "code",
   "execution_count": 74,
   "id": "d0375edb",
   "metadata": {
    "execution": {
     "iopub.execute_input": "2022-04-17T04:07:23.358902Z",
     "iopub.status.busy": "2022-04-17T04:07:23.358112Z",
     "iopub.status.idle": "2022-04-17T04:07:23.363264Z",
     "shell.execute_reply": "2022-04-17T04:07:23.362708Z"
    },
    "id": "eaD4SzWKkGTs",
    "papermill": {
     "duration": 0.101589,
     "end_time": "2022-04-17T04:07:23.365084",
     "exception": false,
     "start_time": "2022-04-17T04:07:23.263495",
     "status": "completed"
    },
    "tags": []
   },
   "outputs": [],
   "source": [
    "def train(dl, model, loss_fn, optim):\n",
    "    size = len(dl.dataset)\n",
    "    losses = []\n",
    "    for batch, (X, y) in enumerate(dl):\n",
    "        # prediction, loss\n",
    "        pred = model(X)\n",
    "        loss = loss_fn(pred, y)\n",
    "        # backprop\n",
    "        optim.zero_grad()\n",
    "        loss.backward()\n",
    "        optim.step()\n",
    "\n",
    "        losses.append(loss.item())\n",
    "    \n",
    "    print(f'loss: {np.array(losses).mean()}')\n"
   ]
  },
  {
   "cell_type": "code",
   "execution_count": 75,
   "id": "b8f6073c",
   "metadata": {
    "execution": {
     "iopub.execute_input": "2022-04-17T04:07:23.548435Z",
     "iopub.status.busy": "2022-04-17T04:07:23.547890Z",
     "iopub.status.idle": "2022-04-17T04:07:23.553131Z",
     "shell.execute_reply": "2022-04-17T04:07:23.552523Z"
    },
    "id": "g31GQH3w_kUN",
    "papermill": {
     "duration": 0.099356,
     "end_time": "2022-04-17T04:07:23.555055",
     "exception": false,
     "start_time": "2022-04-17T04:07:23.455699",
     "status": "completed"
    },
    "tags": []
   },
   "outputs": [],
   "source": [
    "def valid(valid_dl, model, loss_fn):\n",
    "    accuracy = []\n",
    "    losses = []\n",
    "    with torch.no_grad():\n",
    "        for batch, (X, y) in enumerate(valid_dl):\n",
    "            #p rediction, loss\n",
    "            pred = model(X)\n",
    "            loss = loss_fn(pred, y)\n",
    "            # metric\n",
    "            accuracy.append((pred.argmax(1)==y).float().flatten().mean())\n",
    "            losses.append(loss.item())\n",
    "    print(f'valid -- accuracy: {np.array(accuracy).mean()}, loss: {np.array(losses).mean()}')"
   ]
  },
  {
   "cell_type": "code",
   "execution_count": 76,
   "id": "94626e3a",
   "metadata": {
    "execution": {
     "iopub.execute_input": "2022-04-17T04:07:23.736477Z",
     "iopub.status.busy": "2022-04-17T04:07:23.736197Z",
     "iopub.status.idle": "2022-04-17T04:07:23.741800Z",
     "shell.execute_reply": "2022-04-17T04:07:23.741147Z"
    },
    "id": "GWBjVQfWDI0r",
    "papermill": {
     "duration": 0.099031,
     "end_time": "2022-04-17T04:07:23.743738",
     "exception": false,
     "start_time": "2022-04-17T04:07:23.644707",
     "status": "completed"
    },
    "tags": []
   },
   "outputs": [],
   "source": [
    "def epoch(n, dls, model:Module, loss_fn, lr=1e-3):\n",
    "    train_dl, valid_dl = dls\n",
    "    \n",
    "    for i in range(n):\n",
    "        # train\n",
    "        model.train()\n",
    "        train(train_dl, model, loss_fn, torch.optim.Adam(model.parameters(), lr= lr))\n",
    "        #validate\n",
    "        model.eval()\n",
    "        valid(valid_dl, model, loss_fn)"
   ]
  },
  {
   "cell_type": "code",
   "execution_count": 77,
   "id": "1be96ddc",
   "metadata": {
    "execution": {
     "iopub.execute_input": "2022-04-17T04:07:23.957725Z",
     "iopub.status.busy": "2022-04-17T04:07:23.957290Z",
     "iopub.status.idle": "2022-04-17T04:07:26.082649Z",
     "shell.execute_reply": "2022-04-17T04:07:26.081482Z"
    },
    "id": "3YLxax12s3ZV",
    "outputId": "0b643d39-25e7-4524-a2a2-f3f2b9f0409b",
    "papermill": {
     "duration": 2.238112,
     "end_time": "2022-04-17T04:07:26.084584",
     "exception": false,
     "start_time": "2022-04-17T04:07:23.846472",
     "status": "completed"
    },
    "tags": []
   },
   "outputs": [
    {
     "name": "stdout",
     "output_type": "stream",
     "text": [
      "loss: 0.6730919778347015\n",
      "valid -- accuracy: 0.7197916507720947, loss: 0.6160844365755717\n",
      "loss: 0.5918641189734141\n",
      "valid -- accuracy: 0.7895833849906921, loss: 0.5018890798091888\n",
      "loss: 0.5177381535371145\n",
      "valid -- accuracy: 0.7933333516120911, loss: 0.4909270207087199\n",
      "loss: 0.510430691142877\n",
      "valid -- accuracy: 0.7947916984558105, loss: 0.4824369251728058\n",
      "loss: 0.5266603901982307\n",
      "valid -- accuracy: 0.7895833849906921, loss: 0.48038724064826965\n",
      "loss: 0.5191020121177038\n",
      "valid -- accuracy: 0.7947916984558105, loss: 0.4668845434983571\n",
      "loss: 0.506741022070249\n",
      "valid -- accuracy: 0.7985417246818542, loss: 0.46425100167592365\n",
      "loss: 0.46572118252515793\n",
      "valid -- accuracy: 0.7985417246818542, loss: 0.4700200657049815\n"
     ]
    }
   ],
   "source": [
    "epoch(8, dls, tabmodel, CrossEntropyLoss(), lr=5e-4)"
   ]
  },
  {
   "cell_type": "code",
   "execution_count": 78,
   "id": "e9b1b735",
   "metadata": {
    "execution": {
     "iopub.execute_input": "2022-04-17T04:07:26.273923Z",
     "iopub.status.busy": "2022-04-17T04:07:26.273420Z",
     "iopub.status.idle": "2022-04-17T04:07:26.277110Z",
     "shell.execute_reply": "2022-04-17T04:07:26.276524Z"
    },
    "id": "92EJ-f5yFRne",
    "papermill": {
     "duration": 0.101361,
     "end_time": "2022-04-17T04:07:26.279023",
     "exception": false,
     "start_time": "2022-04-17T04:07:26.177662",
     "status": "completed"
    },
    "tags": []
   },
   "outputs": [],
   "source": [
    "def predictWhole(data, model):\n",
    "    model.eval()\n",
    "    pred = model(data)\n",
    "    return pred.argmax(1)"
   ]
  },
  {
   "cell_type": "code",
   "execution_count": 79,
   "id": "6204a2bf",
   "metadata": {
    "execution": {
     "iopub.execute_input": "2022-04-17T04:07:26.466716Z",
     "iopub.status.busy": "2022-04-17T04:07:26.466286Z",
     "iopub.status.idle": "2022-04-17T04:07:26.511705Z",
     "shell.execute_reply": "2022-04-17T04:07:26.510895Z"
    },
    "id": "A28cUom3tXCM",
    "papermill": {
     "duration": 0.140858,
     "end_time": "2022-04-17T04:07:26.513840",
     "exception": false,
     "start_time": "2022-04-17T04:07:26.372982",
     "status": "completed"
    },
    "tags": []
   },
   "outputs": [],
   "source": [
    "test_ds_raw = torch.Tensor(np.array(test_ds))"
   ]
  },
  {
   "cell_type": "code",
   "execution_count": 80,
   "id": "8988d5a7",
   "metadata": {
    "execution": {
     "iopub.execute_input": "2022-04-17T04:07:26.704049Z",
     "iopub.status.busy": "2022-04-17T04:07:26.703743Z",
     "iopub.status.idle": "2022-04-17T04:07:26.709221Z",
     "shell.execute_reply": "2022-04-17T04:07:26.708373Z"
    },
    "id": "EpLqTfpZZ2is",
    "outputId": "76882f4f-19b7-41de-99eb-723c47f627b4",
    "papermill": {
     "duration": 0.105108,
     "end_time": "2022-04-17T04:07:26.711118",
     "exception": false,
     "start_time": "2022-04-17T04:07:26.606010",
     "status": "completed"
    },
    "tags": []
   },
   "outputs": [
    {
     "data": {
      "text/plain": [
       "torch.Size([418, 10])"
      ]
     },
     "execution_count": 80,
     "metadata": {},
     "output_type": "execute_result"
    }
   ],
   "source": [
    "test_ds_raw.shape"
   ]
  },
  {
   "cell_type": "code",
   "execution_count": 81,
   "id": "e9ddc522",
   "metadata": {
    "execution": {
     "iopub.execute_input": "2022-04-17T04:07:26.903700Z",
     "iopub.status.busy": "2022-04-17T04:07:26.903429Z",
     "iopub.status.idle": "2022-04-17T04:07:26.916840Z",
     "shell.execute_reply": "2022-04-17T04:07:26.916005Z"
    },
    "id": "Gaz-1GGsLWSa",
    "outputId": "bdb38471-e93f-45b6-8bf5-cc40cbb53284",
    "papermill": {
     "duration": 0.112034,
     "end_time": "2022-04-17T04:07:26.918643",
     "exception": false,
     "start_time": "2022-04-17T04:07:26.806609",
     "status": "completed"
    },
    "tags": []
   },
   "outputs": [
    {
     "data": {
      "text/plain": [
       "418"
      ]
     },
     "execution_count": 81,
     "metadata": {},
     "output_type": "execute_result"
    }
   ],
   "source": [
    "preds = predictWhole(test_ds_raw, tabmodel)\n",
    "len(preds)"
   ]
  },
  {
   "cell_type": "code",
   "execution_count": 82,
   "id": "e6d21b13",
   "metadata": {
    "execution": {
     "iopub.execute_input": "2022-04-17T04:07:27.106873Z",
     "iopub.status.busy": "2022-04-17T04:07:27.106086Z",
     "iopub.status.idle": "2022-04-17T04:07:27.111570Z",
     "shell.execute_reply": "2022-04-17T04:07:27.110681Z"
    },
    "id": "Ol7VwkHuLgFS",
    "papermill": {
     "duration": 0.101315,
     "end_time": "2022-04-17T04:07:27.113670",
     "exception": false,
     "start_time": "2022-04-17T04:07:27.012355",
     "status": "completed"
    },
    "tags": []
   },
   "outputs": [],
   "source": [
    "result = pd.DataFrame({'PassengerId': df_test_pi, 'Survived': preds})"
   ]
  },
  {
   "cell_type": "code",
   "execution_count": 83,
   "id": "1b70452e",
   "metadata": {
    "execution": {
     "iopub.execute_input": "2022-04-17T04:07:27.303869Z",
     "iopub.status.busy": "2022-04-17T04:07:27.303620Z",
     "iopub.status.idle": "2022-04-17T04:07:27.310983Z",
     "shell.execute_reply": "2022-04-17T04:07:27.310369Z"
    },
    "id": "nZ36hM3iL4Ku",
    "papermill": {
     "duration": 0.105299,
     "end_time": "2022-04-17T04:07:27.312945",
     "exception": false,
     "start_time": "2022-04-17T04:07:27.207646",
     "status": "completed"
    },
    "tags": []
   },
   "outputs": [],
   "source": [
    "result.to_csv('submission.csv', index=False)"
   ]
  },
  {
   "cell_type": "code",
   "execution_count": 84,
   "id": "c2fb63f2",
   "metadata": {
    "execution": {
     "iopub.execute_input": "2022-04-17T04:07:27.501316Z",
     "iopub.status.busy": "2022-04-17T04:07:27.500867Z",
     "iopub.status.idle": "2022-04-17T04:07:27.505145Z",
     "shell.execute_reply": "2022-04-17T04:07:27.504431Z"
    },
    "papermill": {
     "duration": 0.100807,
     "end_time": "2022-04-17T04:07:27.506962",
     "exception": false,
     "start_time": "2022-04-17T04:07:27.406155",
     "status": "completed"
    },
    "tags": []
   },
   "outputs": [],
   "source": [
    "def randSplit(l, valid_ratio=0.2):\n",
    "    idxs = np.arange(l)\n",
    "    np.random.shuffle(idxs)\n",
    "    cut = int(l*valid_ratio)\n",
    "    return idxs[:cut], idxs[cut:]"
   ]
  },
  {
   "cell_type": "code",
   "execution_count": 85,
   "id": "080aca5e",
   "metadata": {
    "execution": {
     "iopub.execute_input": "2022-04-17T04:07:27.694268Z",
     "iopub.status.busy": "2022-04-17T04:07:27.694013Z",
     "iopub.status.idle": "2022-04-17T04:07:27.697792Z",
     "shell.execute_reply": "2022-04-17T04:07:27.696837Z"
    },
    "id": "ZXGUSbcaNLJc",
    "papermill": {
     "duration": 0.099484,
     "end_time": "2022-04-17T04:07:27.699588",
     "exception": false,
     "start_time": "2022-04-17T04:07:27.600104",
     "status": "completed"
    },
    "tags": []
   },
   "outputs": [],
   "source": [
    "dls = DataLoaders(dl, valid_dl)"
   ]
  },
  {
   "cell_type": "code",
   "execution_count": 86,
   "id": "318150c3",
   "metadata": {
    "execution": {
     "iopub.execute_input": "2022-04-17T04:07:27.891683Z",
     "iopub.status.busy": "2022-04-17T04:07:27.891413Z",
     "iopub.status.idle": "2022-04-17T04:07:27.904388Z",
     "shell.execute_reply": "2022-04-17T04:07:27.903486Z"
    },
    "papermill": {
     "duration": 0.112267,
     "end_time": "2022-04-17T04:07:27.906478",
     "exception": false,
     "start_time": "2022-04-17T04:07:27.794211",
     "status": "completed"
    },
    "tags": []
   },
   "outputs": [
    {
     "data": {
      "text/plain": [
       "[[3, 3], [2, 2], [3, 3], [6, 4], [4, 3], [9, 5], [13, 7], [11, 6]]"
      ]
     },
     "execution_count": 86,
     "metadata": {},
     "output_type": "execute_result"
    }
   ],
   "source": [
    "voc = []\n",
    "for s in cat_columns:\n",
    "    vn = pd.concat([td.cat[s], valid_td.cat[s], test_ds.cat[s]])\n",
    "    vn = vn.astype(int).nunique()\n",
    "    voc.append([vn, round(1.6 * vn**0.56)])\n",
    "voc"
   ]
  },
  {
   "cell_type": "code",
   "execution_count": 87,
   "id": "fc36b610",
   "metadata": {
    "execution": {
     "iopub.execute_input": "2022-04-17T04:07:28.093590Z",
     "iopub.status.busy": "2022-04-17T04:07:28.092811Z",
     "iopub.status.idle": "2022-04-17T04:07:28.100751Z",
     "shell.execute_reply": "2022-04-17T04:07:28.099862Z"
    },
    "papermill": {
     "duration": 0.103506,
     "end_time": "2022-04-17T04:07:28.102592",
     "exception": false,
     "start_time": "2022-04-17T04:07:27.999086",
     "status": "completed"
    },
    "tags": []
   },
   "outputs": [
    {
     "name": "stdout",
     "output_type": "stream",
     "text": [
      "TabModel(\n",
      "  (embeddings): ModuleList(\n",
      "    (0): Embedding(3, 3)\n",
      "    (1): Embedding(2, 2)\n",
      "    (2): Embedding(3, 3)\n",
      "    (3): Embedding(6, 4)\n",
      "    (4): Embedding(4, 3)\n",
      "    (5): Embedding(9, 5)\n",
      "    (6): Embedding(13, 7)\n",
      "    (7): Embedding(11, 6)\n",
      "  )\n",
      "  (emb_drop): Dropout(p=0.2, inplace=False)\n",
      "  (linear_drop): Dropout(p=0.5, inplace=False)\n",
      "  (linear): Sequential(\n",
      "    (0): BatchNorm1d(35, eps=1e-05, momentum=0.1, affine=True, track_running_stats=True)\n",
      "    (1): Dropout(p=0.5, inplace=False)\n",
      "    (2): Linear(in_features=35, out_features=20, bias=True)\n",
      "    (3): Mish()\n",
      "    (4): BatchNorm1d(20, eps=1e-05, momentum=0.1, affine=True, track_running_stats=True)\n",
      "    (5): Dropout(p=0.5, inplace=False)\n",
      "    (6): Linear(in_features=20, out_features=10, bias=True)\n",
      "    (7): Mish()\n",
      "  )\n",
      "  (final_layer): Linear(in_features=10, out_features=2, bias=True)\n",
      ")\n"
     ]
    }
   ],
   "source": [
    "tabmodel = TabModel(voc, cat_n, cont_n, (20, 10, 2)).to(device)\n",
    "print(tabmodel)"
   ]
  },
  {
   "cell_type": "code",
   "execution_count": 88,
   "id": "85a56d62",
   "metadata": {
    "execution": {
     "iopub.execute_input": "2022-04-17T04:07:28.293308Z",
     "iopub.status.busy": "2022-04-17T04:07:28.292541Z",
     "iopub.status.idle": "2022-04-17T04:07:28.298185Z",
     "shell.execute_reply": "2022-04-17T04:07:28.297610Z"
    },
    "papermill": {
     "duration": 0.101995,
     "end_time": "2022-04-17T04:07:28.299962",
     "exception": false,
     "start_time": "2022-04-17T04:07:28.197967",
     "status": "completed"
    },
    "tags": []
   },
   "outputs": [],
   "source": [
    "learn = Learner(dls, tabmodel, loss_func=CrossEntropyLossFlat(), metrics=accuracy)"
   ]
  },
  {
   "cell_type": "code",
   "execution_count": 89,
   "id": "ec26a326",
   "metadata": {
    "execution": {
     "iopub.execute_input": "2022-04-17T04:07:28.488369Z",
     "iopub.status.busy": "2022-04-17T04:07:28.488100Z",
     "iopub.status.idle": "2022-04-17T04:07:30.922820Z",
     "shell.execute_reply": "2022-04-17T04:07:30.921947Z"
    },
    "papermill": {
     "duration": 2.531246,
     "end_time": "2022-04-17T04:07:30.924871",
     "exception": false,
     "start_time": "2022-04-17T04:07:28.393625",
     "status": "completed"
    },
    "tags": []
   },
   "outputs": [
    {
     "data": {
      "text/html": [
       "\n",
       "<style>\n",
       "    /* Turns off some styling */\n",
       "    progress {\n",
       "        /* gets rid of default border in Firefox and Opera. */\n",
       "        border: none;\n",
       "        /* Needs to be in here for Safari polyfill so background images work as expected. */\n",
       "        background-size: auto;\n",
       "    }\n",
       "    .progress-bar-interrupted, .progress-bar-interrupted::-webkit-progress-bar {\n",
       "        background: #F44336;\n",
       "    }\n",
       "</style>\n"
      ],
      "text/plain": [
       "<IPython.core.display.HTML object>"
      ]
     },
     "metadata": {},
     "output_type": "display_data"
    },
    {
     "data": {
      "text/html": [],
      "text/plain": [
       "<IPython.core.display.HTML object>"
      ]
     },
     "metadata": {},
     "output_type": "display_data"
    },
    {
     "data": {
      "text/plain": [
       "SuggestedLRs(valley=0.009120108559727669)"
      ]
     },
     "execution_count": 89,
     "metadata": {},
     "output_type": "execute_result"
    },
    {
     "data": {
      "image/png": "[encoded data removed]",
      "text/plain": [
       "<Figure size 432x288 with 1 Axes>"
      ]
     },
     "metadata": {
      "needs_background": "light"
     },
     "output_type": "display_data"
    }
   ],
   "source": [
    "learn.lr_find()"
   ]
  },
  {
   "cell_type": "code",
   "execution_count": 90,
   "id": "e64bbc72",
   "metadata": {
    "execution": {
     "iopub.execute_input": "2022-04-17T04:07:31.122073Z",
     "iopub.status.busy": "2022-04-17T04:07:31.121534Z",
     "iopub.status.idle": "2022-04-17T04:07:32.250946Z",
     "shell.execute_reply": "2022-04-17T04:07:32.249901Z"
    },
    "papermill": {
     "duration": 1.229173,
     "end_time": "2022-04-17T04:07:32.253125",
     "exception": false,
     "start_time": "2022-04-17T04:07:31.023952",
     "status": "completed"
    },
    "tags": []
   },
   "outputs": [
    {
     "data": {
      "text/html": [
       "\n",
       "<style>\n",
       "    /* Turns off some styling */\n",
       "    progress {\n",
       "        /* gets rid of default border in Firefox and Opera. */\n",
       "        border: none;\n",
       "        /* Needs to be in here for Safari polyfill so background images work as expected. */\n",
       "        background-size: auto;\n",
       "    }\n",
       "    .progress-bar-interrupted, .progress-bar-interrupted::-webkit-progress-bar {\n",
       "        background: #F44336;\n",
       "    }\n",
       "</style>\n"
      ],
      "text/plain": [
       "<IPython.core.display.HTML object>"
      ]
     },
     "metadata": {},
     "output_type": "display_data"
    },
    {
     "data": {
      "text/html": [
       "<table border=\"1\" class=\"dataframe\">\n",
       "  <thead>\n",
       "    <tr style=\"text-align: left;\">\n",
       "      <th>epoch</th>\n",
       "      <th>train_loss</th>\n",
       "      <th>valid_loss</th>\n",
       "      <th>accuracy</th>\n",
       "      <th>time</th>\n",
       "    </tr>\n",
       "  </thead>\n",
       "  <tbody>\n",
       "    <tr>\n",
       "      <td>0</td>\n",
       "      <td>0.718451</td>\n",
       "      <td>0.667220</td>\n",
       "      <td>0.735955</td>\n",
       "      <td>00:00</td>\n",
       "    </tr>\n",
       "    <tr>\n",
       "      <td>1</td>\n",
       "      <td>0.663253</td>\n",
       "      <td>0.542740</td>\n",
       "      <td>0.719101</td>\n",
       "      <td>00:00</td>\n",
       "    </tr>\n",
       "    <tr>\n",
       "      <td>2</td>\n",
       "      <td>0.607487</td>\n",
       "      <td>0.481565</td>\n",
       "      <td>0.775281</td>\n",
       "      <td>00:00</td>\n",
       "    </tr>\n",
       "    <tr>\n",
       "      <td>3</td>\n",
       "      <td>0.561897</td>\n",
       "      <td>0.468435</td>\n",
       "      <td>0.780899</td>\n",
       "      <td>00:00</td>\n",
       "    </tr>\n",
       "    <tr>\n",
       "      <td>4</td>\n",
       "      <td>0.546802</td>\n",
       "      <td>0.467356</td>\n",
       "      <td>0.780899</td>\n",
       "      <td>00:00</td>\n",
       "    </tr>\n",
       "  </tbody>\n",
       "</table>"
      ],
      "text/plain": [
       "<IPython.core.display.HTML object>"
      ]
     },
     "metadata": {},
     "output_type": "display_data"
    }
   ],
   "source": [
    "learn.fit_one_cycle(5, 6e-3)"
   ]
  },
  {
   "cell_type": "code",
   "execution_count": 91,
   "id": "68bd6757",
   "metadata": {
    "execution": {
     "iopub.execute_input": "2022-04-17T04:07:32.452156Z",
     "iopub.status.busy": "2022-04-17T04:07:32.451889Z",
     "iopub.status.idle": "2022-04-17T04:07:32.457736Z",
     "shell.execute_reply": "2022-04-17T04:07:32.457091Z"
    },
    "papermill": {
     "duration": 0.106593,
     "end_time": "2022-04-17T04:07:32.459606",
     "exception": false,
     "start_time": "2022-04-17T04:07:32.353013",
     "status": "completed"
    },
    "tags": []
   },
   "outputs": [],
   "source": [
    "preds = predictWhole(test_ds_raw, learn.model)"
   ]
  },
  {
   "cell_type": "code",
   "execution_count": 92,
   "id": "17f8d32e",
   "metadata": {
    "execution": {
     "iopub.execute_input": "2022-04-17T04:07:32.655181Z",
     "iopub.status.busy": "2022-04-17T04:07:32.654767Z",
     "iopub.status.idle": "2022-04-17T04:07:32.660737Z",
     "shell.execute_reply": "2022-04-17T04:07:32.659831Z"
    },
    "papermill": {
     "duration": 0.105813,
     "end_time": "2022-04-17T04:07:32.662749",
     "exception": false,
     "start_time": "2022-04-17T04:07:32.556936",
     "status": "completed"
    },
    "tags": []
   },
   "outputs": [],
   "source": [
    "result = pd.DataFrame({'PassengerId': df_test_pi, 'Survived': preds})\n",
    "result.to_csv('submission.csv', index=False)"
   ]
  },
  {
   "cell_type": "code",
   "execution_count": 93,
   "id": "ca0b6a23",
   "metadata": {
    "execution": {
     "iopub.execute_input": "2022-04-17T04:07:32.861779Z",
     "iopub.status.busy": "2022-04-17T04:07:32.861360Z",
     "iopub.status.idle": "2022-04-17T04:07:32.869981Z",
     "shell.execute_reply": "2022-04-17T04:07:32.869365Z"
    },
    "papermill": {
     "duration": 0.111478,
     "end_time": "2022-04-17T04:07:32.871635",
     "exception": false,
     "start_time": "2022-04-17T04:07:32.760157",
     "status": "completed"
    },
    "tags": []
   },
   "outputs": [
    {
     "data": {
      "text/html": [
       "<div>\n",
       "<style scoped>\n",
       "    .dataframe tbody tr th:only-of-type {\n",
       "        vertical-align: middle;\n",
       "    }\n",
       "\n",
       "    .dataframe tbody tr th {\n",
       "        vertical-align: top;\n",
       "    }\n",
       "\n",
       "    .dataframe thead th {\n",
       "        text-align: right;\n",
       "    }\n",
       "</style>\n",
       "<table border=\"1\" class=\"dataframe\">\n",
       "  <thead>\n",
       "    <tr style=\"text-align: right;\">\n",
       "      <th></th>\n",
       "      <th>PassengerId</th>\n",
       "      <th>Survived</th>\n",
       "    </tr>\n",
       "  </thead>\n",
       "  <tbody>\n",
       "    <tr>\n",
       "      <th>0</th>\n",
       "      <td>892</td>\n",
       "      <td>0</td>\n",
       "    </tr>\n",
       "    <tr>\n",
       "      <th>1</th>\n",
       "      <td>893</td>\n",
       "      <td>1</td>\n",
       "    </tr>\n",
       "    <tr>\n",
       "      <th>2</th>\n",
       "      <td>894</td>\n",
       "      <td>0</td>\n",
       "    </tr>\n",
       "    <tr>\n",
       "      <th>3</th>\n",
       "      <td>895</td>\n",
       "      <td>0</td>\n",
       "    </tr>\n",
       "    <tr>\n",
       "      <th>4</th>\n",
       "      <td>896</td>\n",
       "      <td>0</td>\n",
       "    </tr>\n",
       "    <tr>\n",
       "      <th>...</th>\n",
       "      <td>...</td>\n",
       "      <td>...</td>\n",
       "    </tr>\n",
       "    <tr>\n",
       "      <th>413</th>\n",
       "      <td>1305</td>\n",
       "      <td>0</td>\n",
       "    </tr>\n",
       "    <tr>\n",
       "      <th>414</th>\n",
       "      <td>1306</td>\n",
       "      <td>1</td>\n",
       "    </tr>\n",
       "    <tr>\n",
       "      <th>415</th>\n",
       "      <td>1307</td>\n",
       "      <td>0</td>\n",
       "    </tr>\n",
       "    <tr>\n",
       "      <th>416</th>\n",
       "      <td>1308</td>\n",
       "      <td>0</td>\n",
       "    </tr>\n",
       "    <tr>\n",
       "      <th>417</th>\n",
       "      <td>1309</td>\n",
       "      <td>0</td>\n",
       "    </tr>\n",
       "  </tbody>\n",
       "</table>\n",
       "<p>418 rows × 2 columns</p>\n",
       "</div>"
      ],
      "text/plain": [
       "     PassengerId  Survived\n",
       "0            892         0\n",
       "1            893         1\n",
       "2            894         0\n",
       "3            895         0\n",
       "4            896         0\n",
       "..           ...       ...\n",
       "413         1305         0\n",
       "414         1306         1\n",
       "415         1307         0\n",
       "416         1308         0\n",
       "417         1309         0\n",
       "\n",
       "[418 rows x 2 columns]"
      ]
     },
     "execution_count": 93,
     "metadata": {},
     "output_type": "execute_result"
    }
   ],
   "source": [
    "result"
   ]
  },
  {
   "cell_type": "code",
   "execution_count": 94,
   "id": "f2177bf4",
   "metadata": {
    "execution": {
     "iopub.execute_input": "2022-04-17T04:07:33.070451Z",
     "iopub.status.busy": "2022-04-17T04:07:33.069976Z",
     "iopub.status.idle": "2022-04-17T04:07:33.162237Z",
     "shell.execute_reply": "2022-04-17T04:07:33.161399Z"
    },
    "papermill": {
     "duration": 0.194636,
     "end_time": "2022-04-17T04:07:33.164585",
     "exception": false,
     "start_time": "2022-04-17T04:07:32.969949",
     "status": "completed"
    },
    "tags": []
   },
   "outputs": [],
   "source": [
    "from sklearn.ensemble import HistGradientBoostingClassifier"
   ]
  },
  {
   "cell_type": "code",
   "execution_count": 95,
   "id": "83eb4aba",
   "metadata": {
    "execution": {
     "iopub.execute_input": "2022-04-17T04:07:33.364189Z",
     "iopub.status.busy": "2022-04-17T04:07:33.363921Z",
     "iopub.status.idle": "2022-04-17T04:07:33.936887Z",
     "shell.execute_reply": "2022-04-17T04:07:33.936218Z"
    },
    "papermill": {
     "duration": 0.674893,
     "end_time": "2022-04-17T04:07:33.939128",
     "exception": false,
     "start_time": "2022-04-17T04:07:33.264235",
     "status": "completed"
    },
    "tags": []
   },
   "outputs": [],
   "source": [
    "clf = HistGradientBoostingClassifier().fit(full_td[:][0], full_td[:][1])"
   ]
  },
  {
   "cell_type": "code",
   "execution_count": 96,
   "id": "31cefeb4",
   "metadata": {
    "execution": {
     "iopub.execute_input": "2022-04-17T04:07:34.137369Z",
     "iopub.status.busy": "2022-04-17T04:07:34.136835Z",
     "iopub.status.idle": "2022-04-17T04:07:34.146320Z",
     "shell.execute_reply": "2022-04-17T04:07:34.145562Z"
    },
    "papermill": {
     "duration": 0.110157,
     "end_time": "2022-04-17T04:07:34.148521",
     "exception": false,
     "start_time": "2022-04-17T04:07:34.038364",
     "status": "completed"
    },
    "tags": []
   },
   "outputs": [],
   "source": [
    "preds = clf.predict(test_ds_raw)"
   ]
  },
  {
   "cell_type": "code",
   "execution_count": 97,
   "id": "ec1c98fe",
   "metadata": {
    "execution": {
     "iopub.execute_input": "2022-04-17T04:07:34.347587Z",
     "iopub.status.busy": "2022-04-17T04:07:34.346920Z",
     "iopub.status.idle": "2022-04-17T04:07:34.352850Z",
     "shell.execute_reply": "2022-04-17T04:07:34.352243Z"
    },
    "papermill": {
     "duration": 0.106046,
     "end_time": "2022-04-17T04:07:34.354694",
     "exception": false,
     "start_time": "2022-04-17T04:07:34.248648",
     "status": "completed"
    },
    "tags": []
   },
   "outputs": [],
   "source": [
    "result = pd.DataFrame({'PassengerId': df_test_pi, 'Survived': preds})\n",
    "result.to_csv('submissionhist.csv', index=False)"
   ]
  },
  {
   "cell_type": "code",
   "execution_count": 98,
   "id": "c2093be0",
   "metadata": {
    "execution": {
     "iopub.execute_input": "2022-04-17T04:07:34.550814Z",
     "iopub.status.busy": "2022-04-17T04:07:34.550417Z",
     "iopub.status.idle": "2022-04-17T04:07:34.559041Z",
     "shell.execute_reply": "2022-04-17T04:07:34.558260Z"
    },
    "papermill": {
     "duration": 0.108719,
     "end_time": "2022-04-17T04:07:34.560866",
     "exception": false,
     "start_time": "2022-04-17T04:07:34.452147",
     "status": "completed"
    },
    "tags": []
   },
   "outputs": [
    {
     "data": {
      "text/html": [
       "<div>\n",
       "<style scoped>\n",
       "    .dataframe tbody tr th:only-of-type {\n",
       "        vertical-align: middle;\n",
       "    }\n",
       "\n",
       "    .dataframe tbody tr th {\n",
       "        vertical-align: top;\n",
       "    }\n",
       "\n",
       "    .dataframe thead th {\n",
       "        text-align: right;\n",
       "    }\n",
       "</style>\n",
       "<table border=\"1\" class=\"dataframe\">\n",
       "  <thead>\n",
       "    <tr style=\"text-align: right;\">\n",
       "      <th></th>\n",
       "      <th>PassengerId</th>\n",
       "      <th>Survived</th>\n",
       "    </tr>\n",
       "  </thead>\n",
       "  <tbody>\n",
       "    <tr>\n",
       "      <th>0</th>\n",
       "      <td>892</td>\n",
       "      <td>0</td>\n",
       "    </tr>\n",
       "    <tr>\n",
       "      <th>1</th>\n",
       "      <td>893</td>\n",
       "      <td>0</td>\n",
       "    </tr>\n",
       "    <tr>\n",
       "      <th>2</th>\n",
       "      <td>894</td>\n",
       "      <td>0</td>\n",
       "    </tr>\n",
       "    <tr>\n",
       "      <th>3</th>\n",
       "      <td>895</td>\n",
       "      <td>0</td>\n",
       "    </tr>\n",
       "    <tr>\n",
       "      <th>4</th>\n",
       "      <td>896</td>\n",
       "      <td>0</td>\n",
       "    </tr>\n",
       "    <tr>\n",
       "      <th>...</th>\n",
       "      <td>...</td>\n",
       "      <td>...</td>\n",
       "    </tr>\n",
       "    <tr>\n",
       "      <th>413</th>\n",
       "      <td>1305</td>\n",
       "      <td>0</td>\n",
       "    </tr>\n",
       "    <tr>\n",
       "      <th>414</th>\n",
       "      <td>1306</td>\n",
       "      <td>1</td>\n",
       "    </tr>\n",
       "    <tr>\n",
       "      <th>415</th>\n",
       "      <td>1307</td>\n",
       "      <td>0</td>\n",
       "    </tr>\n",
       "    <tr>\n",
       "      <th>416</th>\n",
       "      <td>1308</td>\n",
       "      <td>0</td>\n",
       "    </tr>\n",
       "    <tr>\n",
       "      <th>417</th>\n",
       "      <td>1309</td>\n",
       "      <td>1</td>\n",
       "    </tr>\n",
       "  </tbody>\n",
       "</table>\n",
       "<p>418 rows × 2 columns</p>\n",
       "</div>"
      ],
      "text/plain": [
       "     PassengerId  Survived\n",
       "0            892         0\n",
       "1            893         0\n",
       "2            894         0\n",
       "3            895         0\n",
       "4            896         0\n",
       "..           ...       ...\n",
       "413         1305         0\n",
       "414         1306         1\n",
       "415         1307         0\n",
       "416         1308         0\n",
       "417         1309         1\n",
       "\n",
       "[418 rows x 2 columns]"
      ]
     },
     "execution_count": 98,
     "metadata": {},
     "output_type": "execute_result"
    }
   ],
   "source": [
    "result"
   ]
  },
  {
   "cell_type": "code",
   "execution_count": null,
   "id": "524f549e",
   "metadata": {
    "papermill": {
     "duration": 0.098355,
     "end_time": "2022-04-17T04:07:34.757051",
     "exception": false,
     "start_time": "2022-04-17T04:07:34.658696",
     "status": "completed"
    },
    "tags": []
   },
   "outputs": [],
   "source": []
  }
 ],
 "metadata": {
  "kernelspec": {
   "display_name": "Python 3",
   "language": "python",
   "name": "python3"
  },
  "language_info": {
   "codemirror_mode": {
    "name": "ipython",
    "version": 3
   },
   "file_extension": ".py",
   "mimetype": "text/x-python",
   "name": "python",
   "nbconvert_exporter": "python",
   "pygments_lexer": "ipython3",
   "version": "3.7.12"
  },
  "papermill": {
   "default_parameters": {},
   "duration": 77.398195,
   "end_time": "2022-04-17T04:07:35.792550",
   "environment_variables": {},
   "exception": null,
   "input_path": "__notebook__.ipynb",
   "output_path": "__notebook__.ipynb",
   "parameters": {},
   "start_time": "2022-04-17T04:06:18.394355",
   "version": "2.3.4"
  }
 },
 "nbformat": 4,
 "nbformat_minor": 5
}
