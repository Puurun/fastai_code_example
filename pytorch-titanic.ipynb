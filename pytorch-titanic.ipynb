{
 "cells": [
  {
   "cell_type": "markdown",
   "id": "01f7b86b",
   "metadata": {
    "id": "view-in-github",
    "papermill": {
     "duration": 0.102183,
     "end_time": "2022-04-17T04:15:47.602705",
     "exception": false,
     "start_time": "2022-04-17T04:15:47.500522",
     "status": "completed"
    },
    "tags": []
   },
   "source": [
    "<a href=\"https://colab.research.google.com/github/Puurun/fastai_code_example/blob/main/Pytorch_Titanic.ipynb\" target=\"_parent\"><img src=\"https://colab.research.google.com/assets/colab-badge.svg\" alt=\"Open In Colab\"/></a>"
   ]
  },
  {
   "cell_type": "code",
   "execution_count": null,
   "id": "f849df93",
   "metadata": {
    "id": "SCI89IkiejzG",
    "outputId": "c8596ff0-5f2b-4bab-99dd-0d0b181f6795",
    "papermill": {
     "duration": 0.101269,
     "end_time": "2022-04-17T04:15:47.803771",
     "exception": false,
     "start_time": "2022-04-17T04:15:47.702502",
     "status": "completed"
    },
    "tags": []
   },
   "outputs": [],
   "source": []
  },
  {
   "cell_type": "code",
   "execution_count": 1,
   "id": "adc4494d",
   "metadata": {
    "execution": {
     "iopub.execute_input": "2022-04-17T04:15:48.012750Z",
     "iopub.status.busy": "2022-04-17T04:15:48.012380Z",
     "iopub.status.idle": "2022-04-17T04:16:00.268168Z",
     "shell.execute_reply": "2022-04-17T04:16:00.267271Z"
    },
    "id": "-ltAnZP3QBy3",
    "outputId": "5be66168-fe3d-46c9-99f8-2d5496bc6f56",
    "papermill": {
     "duration": 12.364062,
     "end_time": "2022-04-17T04:16:00.271011",
     "exception": false,
     "start_time": "2022-04-17T04:15:47.906949",
     "status": "completed"
    },
    "tags": []
   },
   "outputs": [
    {
     "name": "stdout",
     "output_type": "stream",
     "text": [
      "Collecting impyute\r\n",
      "  Downloading impyute-0.0.8-py2.py3-none-any.whl (31 kB)\r\n",
      "Requirement already satisfied: scikit-learn in /opt/conda/lib/python3.7/site-packages (from impyute) (1.0.2)\r\n",
      "Requirement already satisfied: numpy in /opt/conda/lib/python3.7/site-packages (from impyute) (1.21.5)\r\n",
      "Requirement already satisfied: scipy in /opt/conda/lib/python3.7/site-packages (from impyute) (1.7.3)\r\n",
      "Requirement already satisfied: joblib>=0.11 in /opt/conda/lib/python3.7/site-packages (from scikit-learn->impyute) (1.0.1)\r\n",
      "Requirement already satisfied: threadpoolctl>=2.0.0 in /opt/conda/lib/python3.7/site-packages (from scikit-learn->impyute) (3.1.0)\r\n",
      "Installing collected packages: impyute\r\n",
      "Successfully installed impyute-0.0.8\r\n",
      "\u001b[33mWARNING: Running pip as the 'root' user can result in broken permissions and conflicting behaviour with the system package manager. It is recommended to use a virtual environment instead: https://pip.pypa.io/warnings/venv\u001b[0m\u001b[33m\r\n",
      "\u001b[0m"
     ]
    }
   ],
   "source": [
    "!pip install impyute"
   ]
  },
  {
   "cell_type": "code",
   "execution_count": 2,
   "id": "2035e134",
   "metadata": {
    "execution": {
     "iopub.execute_input": "2022-04-17T04:16:00.478972Z",
     "iopub.status.busy": "2022-04-17T04:16:00.478693Z",
     "iopub.status.idle": "2022-04-17T04:16:23.473508Z",
     "shell.execute_reply": "2022-04-17T04:16:23.472482Z"
    },
    "id": "h0xhi6k4bUXN",
    "outputId": "4506c3ee-d33e-4811-8dae-0838b19615cc",
    "papermill": {
     "duration": 23.101405,
     "end_time": "2022-04-17T04:16:23.475938",
     "exception": false,
     "start_time": "2022-04-17T04:16:00.374533",
     "status": "completed"
    },
    "tags": []
   },
   "outputs": [
    {
     "name": "stdout",
     "output_type": "stream",
     "text": [
      "\u001b[31mERROR: pip's dependency resolver does not currently take into account all the packages that are installed. This behaviour is the source of the following dependency conflicts.\r\n",
      "tensorflow-io 0.21.0 requires tensorflow-io-gcs-filesystem==0.21.0, which is not installed.\r\n",
      "tensorflow 2.6.3 requires absl-py~=0.10, but you have absl-py 1.0.0 which is incompatible.\r\n",
      "tensorflow 2.6.3 requires numpy~=1.19.2, but you have numpy 1.21.5 which is incompatible.\r\n",
      "tensorflow 2.6.3 requires six~=1.15.0, but you have six 1.16.0 which is incompatible.\r\n",
      "tensorflow 2.6.3 requires wrapt~=1.12.1, but you have wrapt 1.14.0 which is incompatible.\r\n",
      "tensorflow-transform 1.7.0 requires pyarrow<6,>=1, but you have pyarrow 7.0.0 which is incompatible.\r\n",
      "tensorflow-transform 1.7.0 requires tensorflow!=2.0.*,!=2.1.*,!=2.2.*,!=2.3.*,!=2.4.*,!=2.5.*,!=2.6.*,!=2.7.*,<2.9,>=1.15.5, but you have tensorflow 2.6.3 which is incompatible.\r\n",
      "tensorflow-serving-api 2.8.0 requires tensorflow<3,>=2.8.0, but you have tensorflow 2.6.3 which is incompatible.\r\n",
      "rich 12.2.0 requires typing-extensions<5.0,>=4.0.0; python_version < \"3.9\", but you have typing-extensions 3.10.0.2 which is incompatible.\r\n",
      "pytorch-lightning 1.6.0 requires typing-extensions>=4.0.0, but you have typing-extensions 3.10.0.2 which is incompatible.\r\n",
      "flake8 4.0.1 requires importlib-metadata<4.3; python_version < \"3.8\", but you have importlib-metadata 4.11.3 which is incompatible.\r\n",
      "apache-beam 2.37.0 requires dill<0.3.2,>=0.3.1.1, but you have dill 0.3.4 which is incompatible.\r\n",
      "apache-beam 2.37.0 requires httplib2<0.20.0,>=0.8, but you have httplib2 0.20.4 which is incompatible.\r\n",
      "apache-beam 2.37.0 requires pyarrow<7.0.0,>=0.15.1, but you have pyarrow 7.0.0 which is incompatible.\r\n",
      "aioitertools 0.10.0 requires typing_extensions>=4.0; python_version < \"3.10\", but you have typing-extensions 3.10.0.2 which is incompatible.\r\n",
      "aiobotocore 2.2.0 requires botocore<1.24.22,>=1.24.21, but you have botocore 1.24.38 which is incompatible.\u001b[0m\u001b[31m\r\n",
      "\u001b[0m"
     ]
    }
   ],
   "source": [
    "!pip install fastai -Uqq"
   ]
  },
  {
   "cell_type": "code",
   "execution_count": 3,
   "id": "66a5cb6b",
   "metadata": {
    "execution": {
     "iopub.execute_input": "2022-04-17T04:16:23.684922Z",
     "iopub.status.busy": "2022-04-17T04:16:23.684641Z",
     "iopub.status.idle": "2022-04-17T04:16:23.688290Z",
     "shell.execute_reply": "2022-04-17T04:16:23.687716Z"
    },
    "id": "TNgP1SUQd-sh",
    "papermill": {
     "duration": 0.109168,
     "end_time": "2022-04-17T04:16:23.690036",
     "exception": false,
     "start_time": "2022-04-17T04:16:23.580868",
     "status": "completed"
    },
    "tags": []
   },
   "outputs": [],
   "source": [
    "gpu = False\n",
    "device = 'cuda' if gpu else 'cpu'"
   ]
  },
  {
   "cell_type": "code",
   "execution_count": 4,
   "id": "19894548",
   "metadata": {
    "execution": {
     "iopub.execute_input": "2022-04-17T04:16:23.902073Z",
     "iopub.status.busy": "2022-04-17T04:16:23.901793Z",
     "iopub.status.idle": "2022-04-17T04:16:25.259017Z",
     "shell.execute_reply": "2022-04-17T04:16:25.258281Z"
    },
    "id": "JYxhj_fHeOwx",
    "papermill": {
     "duration": 1.466972,
     "end_time": "2022-04-17T04:16:25.261461",
     "exception": false,
     "start_time": "2022-04-17T04:16:23.794489",
     "status": "completed"
    },
    "tags": []
   },
   "outputs": [],
   "source": [
    "import pandas as pd\n",
    "import numpy as np\n",
    "import seaborn as sns\n",
    "import matplotlib.pyplot as plt\n",
    "import impyute as im\n",
    "import sys\n",
    "from impyute.imputation.cs import fast_knn\n",
    "from sklearn.preprocessing import OrdinalEncoder"
   ]
  },
  {
   "cell_type": "code",
   "execution_count": 5,
   "id": "ceb68d2e",
   "metadata": {
    "execution": {
     "iopub.execute_input": "2022-04-17T04:16:25.470176Z",
     "iopub.status.busy": "2022-04-17T04:16:25.469314Z",
     "iopub.status.idle": "2022-04-17T04:16:25.497914Z",
     "shell.execute_reply": "2022-04-17T04:16:25.497283Z"
    },
    "id": "ZkXCpX_cedrB",
    "papermill": {
     "duration": 0.134762,
     "end_time": "2022-04-17T04:16:25.500183",
     "exception": false,
     "start_time": "2022-04-17T04:16:25.365421",
     "status": "completed"
    },
    "tags": []
   },
   "outputs": [],
   "source": [
    "df = pd.read_csv('../input/titanic/train.csv')\n",
    "df_test = pd.read_csv('../input/titanic/test.csv')"
   ]
  },
  {
   "cell_type": "code",
   "execution_count": 6,
   "id": "82a02553",
   "metadata": {
    "execution": {
     "iopub.execute_input": "2022-04-17T04:16:25.708278Z",
     "iopub.status.busy": "2022-04-17T04:16:25.707685Z",
     "iopub.status.idle": "2022-04-17T04:16:25.716091Z",
     "shell.execute_reply": "2022-04-17T04:16:25.715316Z"
    },
    "id": "Ebfuhs5-eu87",
    "outputId": "13da6f35-ff67-448e-a73b-0c9449bb3e2e",
    "papermill": {
     "duration": 0.11445,
     "end_time": "2022-04-17T04:16:25.718130",
     "exception": false,
     "start_time": "2022-04-17T04:16:25.603680",
     "status": "completed"
    },
    "tags": []
   },
   "outputs": [
    {
     "data": {
      "text/plain": [
       "array(['PassengerId', 'Survived', 'Pclass', 'Name', 'Sex', 'Age', 'SibSp',\n",
       "       'Parch', 'Ticket', 'Fare', 'Cabin', 'Embarked'], dtype=object)"
      ]
     },
     "execution_count": 6,
     "metadata": {},
     "output_type": "execute_result"
    }
   ],
   "source": [
    "df.columns.values"
   ]
  },
  {
   "cell_type": "code",
   "execution_count": null,
   "id": "c365044d",
   "metadata": {
    "papermill": {
     "duration": 0.101964,
     "end_time": "2022-04-17T04:16:25.922252",
     "exception": false,
     "start_time": "2022-04-17T04:16:25.820288",
     "status": "completed"
    },
    "tags": []
   },
   "outputs": [],
   "source": []
  },
  {
   "cell_type": "code",
   "execution_count": null,
   "id": "344f826a",
   "metadata": {
    "papermill": {
     "duration": 0.105373,
     "end_time": "2022-04-17T04:16:26.133505",
     "exception": false,
     "start_time": "2022-04-17T04:16:26.028132",
     "status": "completed"
    },
    "tags": []
   },
   "outputs": [],
   "source": []
  },
  {
   "cell_type": "code",
   "execution_count": 7,
   "id": "c755d0ea",
   "metadata": {
    "execution": {
     "iopub.execute_input": "2022-04-17T04:16:26.341362Z",
     "iopub.status.busy": "2022-04-17T04:16:26.340850Z",
     "iopub.status.idle": "2022-04-17T04:16:26.344903Z",
     "shell.execute_reply": "2022-04-17T04:16:26.344346Z"
    },
    "id": "RmyHWYzXe4EJ",
    "papermill": {
     "duration": 0.11017,
     "end_time": "2022-04-17T04:16:26.347032",
     "exception": false,
     "start_time": "2022-04-17T04:16:26.236862",
     "status": "completed"
    },
    "tags": []
   },
   "outputs": [],
   "source": [
    "dep_var = ['Survived']\n",
    "cat_var = ['Sex', 'Embarked']\n",
    "ord_var = ['Pclass']\n",
    "cont_var = ['Age', 'Fare']\n",
    "desc_var = ['SibSp', 'Parch']"
   ]
  },
  {
   "cell_type": "code",
   "execution_count": 8,
   "id": "d6c76faf",
   "metadata": {
    "execution": {
     "iopub.execute_input": "2022-04-17T04:16:26.557167Z",
     "iopub.status.busy": "2022-04-17T04:16:26.556667Z",
     "iopub.status.idle": "2022-04-17T04:16:26.582608Z",
     "shell.execute_reply": "2022-04-17T04:16:26.581708Z"
    },
    "id": "OOwkYfTuoCDo",
    "papermill": {
     "duration": 0.133891,
     "end_time": "2022-04-17T04:16:26.585056",
     "exception": false,
     "start_time": "2022-04-17T04:16:26.451165",
     "status": "completed"
    },
    "tags": []
   },
   "outputs": [],
   "source": [
    "combine = [df, df_test]\n",
    "for dataset in combine:\n",
    "    dataset[cat_var+ord_var] = dataset[cat_var+ord_var].astype('category')\n",
    "    dataset['Pclass'] = dataset['Pclass'].cat.set_categories([1, 2, 3], ordered=True)"
   ]
  },
  {
   "cell_type": "code",
   "execution_count": 9,
   "id": "00045933",
   "metadata": {
    "execution": {
     "iopub.execute_input": "2022-04-17T04:16:26.791562Z",
     "iopub.status.busy": "2022-04-17T04:16:26.791266Z",
     "iopub.status.idle": "2022-04-17T04:16:26.799414Z",
     "shell.execute_reply": "2022-04-17T04:16:26.798307Z"
    },
    "id": "reaPqaUmfn2G",
    "outputId": "d2fc0f49-98c2-4759-9c4b-287b1a22475e",
    "papermill": {
     "duration": 0.113564,
     "end_time": "2022-04-17T04:16:26.801533",
     "exception": false,
     "start_time": "2022-04-17T04:16:26.687969",
     "status": "completed"
    },
    "tags": []
   },
   "outputs": [
    {
     "data": {
      "text/plain": [
       "PassengerId       int64\n",
       "Survived          int64\n",
       "Pclass         category\n",
       "Name             object\n",
       "Sex            category\n",
       "Age             float64\n",
       "SibSp             int64\n",
       "Parch             int64\n",
       "Ticket           object\n",
       "Fare            float64\n",
       "Cabin            object\n",
       "Embarked       category\n",
       "dtype: object"
      ]
     },
     "execution_count": 9,
     "metadata": {},
     "output_type": "execute_result"
    }
   ],
   "source": [
    "df.dtypes"
   ]
  },
  {
   "cell_type": "code",
   "execution_count": 10,
   "id": "ce384845",
   "metadata": {
    "execution": {
     "iopub.execute_input": "2022-04-17T04:16:27.012766Z",
     "iopub.status.busy": "2022-04-17T04:16:27.012000Z",
     "iopub.status.idle": "2022-04-17T04:16:27.025599Z",
     "shell.execute_reply": "2022-04-17T04:16:27.025010Z"
    },
    "id": "SqiH0pOrfob-",
    "outputId": "5e1d6efe-0e0a-45d5-90fb-240e5fb6daef",
    "papermill": {
     "duration": 0.122782,
     "end_time": "2022-04-17T04:16:27.027448",
     "exception": false,
     "start_time": "2022-04-17T04:16:26.904666",
     "status": "completed"
    },
    "tags": []
   },
   "outputs": [
    {
     "data": {
      "text/plain": [
       "Cabin          0.771044\n",
       "Age            0.198653\n",
       "Embarked       0.002245\n",
       "PassengerId    0.000000\n",
       "Survived       0.000000\n",
       "Pclass         0.000000\n",
       "Name           0.000000\n",
       "Sex            0.000000\n",
       "SibSp          0.000000\n",
       "Parch          0.000000\n",
       "Ticket         0.000000\n",
       "Fare           0.000000\n",
       "dtype: float64"
      ]
     },
     "execution_count": 10,
     "metadata": {},
     "output_type": "execute_result"
    }
   ],
   "source": [
    "null_check = (df.isnull().sum()/ df.isnull().count()).sort_values(ascending=False)\n",
    "null_check"
   ]
  },
  {
   "cell_type": "code",
   "execution_count": 11,
   "id": "3fbe58f0",
   "metadata": {
    "execution": {
     "iopub.execute_input": "2022-04-17T04:16:27.237819Z",
     "iopub.status.busy": "2022-04-17T04:16:27.237328Z",
     "iopub.status.idle": "2022-04-17T04:16:27.264087Z",
     "shell.execute_reply": "2022-04-17T04:16:27.263474Z"
    },
    "id": "VGzez6fnf2Qn",
    "outputId": "8ec2ead3-f2c2-4fc0-bd15-0b2e2305601a",
    "papermill": {
     "duration": 0.133912,
     "end_time": "2022-04-17T04:16:27.266536",
     "exception": false,
     "start_time": "2022-04-17T04:16:27.132624",
     "status": "completed"
    },
    "tags": []
   },
   "outputs": [
    {
     "name": "stdout",
     "output_type": "stream",
     "text": [
      "<class 'pandas.core.frame.DataFrame'>\n",
      "RangeIndex: 891 entries, 0 to 890\n",
      "Data columns (total 12 columns):\n",
      " #   Column       Non-Null Count  Dtype   \n",
      "---  ------       --------------  -----   \n",
      " 0   PassengerId  891 non-null    int64   \n",
      " 1   Survived     891 non-null    int64   \n",
      " 2   Pclass       891 non-null    category\n",
      " 3   Name         891 non-null    object  \n",
      " 4   Sex          891 non-null    category\n",
      " 5   Age          714 non-null    float64 \n",
      " 6   SibSp        891 non-null    int64   \n",
      " 7   Parch        891 non-null    int64   \n",
      " 8   Ticket       891 non-null    object  \n",
      " 9   Fare         891 non-null    float64 \n",
      " 10  Cabin        204 non-null    object  \n",
      " 11  Embarked     889 non-null    category\n",
      "dtypes: category(3), float64(2), int64(4), object(3)\n",
      "memory usage: 65.8+ KB\n",
      "****************************************\n",
      "<class 'pandas.core.frame.DataFrame'>\n",
      "RangeIndex: 418 entries, 0 to 417\n",
      "Data columns (total 11 columns):\n",
      " #   Column       Non-Null Count  Dtype   \n",
      "---  ------       --------------  -----   \n",
      " 0   PassengerId  418 non-null    int64   \n",
      " 1   Pclass       418 non-null    category\n",
      " 2   Name         418 non-null    object  \n",
      " 3   Sex          418 non-null    category\n",
      " 4   Age          332 non-null    float64 \n",
      " 5   SibSp        418 non-null    int64   \n",
      " 6   Parch        418 non-null    int64   \n",
      " 7   Ticket       418 non-null    object  \n",
      " 8   Fare         417 non-null    float64 \n",
      " 9   Cabin        91 non-null     object  \n",
      " 10  Embarked     418 non-null    category\n",
      "dtypes: category(3), float64(2), int64(3), object(3)\n",
      "memory usage: 27.9+ KB\n"
     ]
    }
   ],
   "source": [
    "df.info()\n",
    "print('*'*40)\n",
    "df_test.info()"
   ]
  },
  {
   "cell_type": "code",
   "execution_count": 12,
   "id": "439b526c",
   "metadata": {
    "execution": {
     "iopub.execute_input": "2022-04-17T04:16:27.478529Z",
     "iopub.status.busy": "2022-04-17T04:16:27.478063Z",
     "iopub.status.idle": "2022-04-17T04:16:27.509263Z",
     "shell.execute_reply": "2022-04-17T04:16:27.508404Z"
    },
    "id": "hkD9m0ZQgsX-",
    "outputId": "2820baaf-d9fb-4648-8381-767b7a8fee64",
    "papermill": {
     "duration": 0.139773,
     "end_time": "2022-04-17T04:16:27.511560",
     "exception": false,
     "start_time": "2022-04-17T04:16:27.371787",
     "status": "completed"
    },
    "tags": []
   },
   "outputs": [
    {
     "data": {
      "text/html": [
       "<div>\n",
       "<style scoped>\n",
       "    .dataframe tbody tr th:only-of-type {\n",
       "        vertical-align: middle;\n",
       "    }\n",
       "\n",
       "    .dataframe tbody tr th {\n",
       "        vertical-align: top;\n",
       "    }\n",
       "\n",
       "    .dataframe thead th {\n",
       "        text-align: right;\n",
       "    }\n",
       "</style>\n",
       "<table border=\"1\" class=\"dataframe\">\n",
       "  <thead>\n",
       "    <tr style=\"text-align: right;\">\n",
       "      <th></th>\n",
       "      <th>PassengerId</th>\n",
       "      <th>Survived</th>\n",
       "      <th>Age</th>\n",
       "      <th>SibSp</th>\n",
       "      <th>Parch</th>\n",
       "      <th>Fare</th>\n",
       "    </tr>\n",
       "  </thead>\n",
       "  <tbody>\n",
       "    <tr>\n",
       "      <th>count</th>\n",
       "      <td>891.000000</td>\n",
       "      <td>891.000000</td>\n",
       "      <td>714.000000</td>\n",
       "      <td>891.000000</td>\n",
       "      <td>891.000000</td>\n",
       "      <td>891.000000</td>\n",
       "    </tr>\n",
       "    <tr>\n",
       "      <th>mean</th>\n",
       "      <td>446.000000</td>\n",
       "      <td>0.383838</td>\n",
       "      <td>29.699118</td>\n",
       "      <td>0.523008</td>\n",
       "      <td>0.381594</td>\n",
       "      <td>32.204208</td>\n",
       "    </tr>\n",
       "    <tr>\n",
       "      <th>std</th>\n",
       "      <td>257.353842</td>\n",
       "      <td>0.486592</td>\n",
       "      <td>14.526497</td>\n",
       "      <td>1.102743</td>\n",
       "      <td>0.806057</td>\n",
       "      <td>49.693429</td>\n",
       "    </tr>\n",
       "    <tr>\n",
       "      <th>min</th>\n",
       "      <td>1.000000</td>\n",
       "      <td>0.000000</td>\n",
       "      <td>0.420000</td>\n",
       "      <td>0.000000</td>\n",
       "      <td>0.000000</td>\n",
       "      <td>0.000000</td>\n",
       "    </tr>\n",
       "    <tr>\n",
       "      <th>25%</th>\n",
       "      <td>223.500000</td>\n",
       "      <td>0.000000</td>\n",
       "      <td>20.125000</td>\n",
       "      <td>0.000000</td>\n",
       "      <td>0.000000</td>\n",
       "      <td>7.910400</td>\n",
       "    </tr>\n",
       "    <tr>\n",
       "      <th>50%</th>\n",
       "      <td>446.000000</td>\n",
       "      <td>0.000000</td>\n",
       "      <td>28.000000</td>\n",
       "      <td>0.000000</td>\n",
       "      <td>0.000000</td>\n",
       "      <td>14.454200</td>\n",
       "    </tr>\n",
       "    <tr>\n",
       "      <th>75%</th>\n",
       "      <td>668.500000</td>\n",
       "      <td>1.000000</td>\n",
       "      <td>38.000000</td>\n",
       "      <td>1.000000</td>\n",
       "      <td>0.000000</td>\n",
       "      <td>31.000000</td>\n",
       "    </tr>\n",
       "    <tr>\n",
       "      <th>max</th>\n",
       "      <td>891.000000</td>\n",
       "      <td>1.000000</td>\n",
       "      <td>80.000000</td>\n",
       "      <td>8.000000</td>\n",
       "      <td>6.000000</td>\n",
       "      <td>512.329200</td>\n",
       "    </tr>\n",
       "  </tbody>\n",
       "</table>\n",
       "</div>"
      ],
      "text/plain": [
       "       PassengerId    Survived         Age       SibSp       Parch        Fare\n",
       "count   891.000000  891.000000  714.000000  891.000000  891.000000  891.000000\n",
       "mean    446.000000    0.383838   29.699118    0.523008    0.381594   32.204208\n",
       "std     257.353842    0.486592   14.526497    1.102743    0.806057   49.693429\n",
       "min       1.000000    0.000000    0.420000    0.000000    0.000000    0.000000\n",
       "25%     223.500000    0.000000   20.125000    0.000000    0.000000    7.910400\n",
       "50%     446.000000    0.000000   28.000000    0.000000    0.000000   14.454200\n",
       "75%     668.500000    1.000000   38.000000    1.000000    0.000000   31.000000\n",
       "max     891.000000    1.000000   80.000000    8.000000    6.000000  512.329200"
      ]
     },
     "execution_count": 12,
     "metadata": {},
     "output_type": "execute_result"
    }
   ],
   "source": [
    "df.describe()"
   ]
  },
  {
   "cell_type": "code",
   "execution_count": 13,
   "id": "d2f3e2ee",
   "metadata": {
    "execution": {
     "iopub.execute_input": "2022-04-17T04:16:27.722007Z",
     "iopub.status.busy": "2022-04-17T04:16:27.721509Z",
     "iopub.status.idle": "2022-04-17T04:16:27.737155Z",
     "shell.execute_reply": "2022-04-17T04:16:27.736556Z"
    },
    "id": "laMZG81ghSrn",
    "outputId": "8a784e5c-4885-4dfd-e05e-1d65d61b9dea",
    "papermill": {
     "duration": 0.123276,
     "end_time": "2022-04-17T04:16:27.739020",
     "exception": false,
     "start_time": "2022-04-17T04:16:27.615744",
     "status": "completed"
    },
    "tags": []
   },
   "outputs": [
    {
     "data": {
      "text/html": [
       "<div>\n",
       "<style scoped>\n",
       "    .dataframe tbody tr th:only-of-type {\n",
       "        vertical-align: middle;\n",
       "    }\n",
       "\n",
       "    .dataframe tbody tr th {\n",
       "        vertical-align: top;\n",
       "    }\n",
       "\n",
       "    .dataframe thead th {\n",
       "        text-align: right;\n",
       "    }\n",
       "</style>\n",
       "<table border=\"1\" class=\"dataframe\">\n",
       "  <thead>\n",
       "    <tr style=\"text-align: right;\">\n",
       "      <th></th>\n",
       "      <th>Name</th>\n",
       "      <th>Ticket</th>\n",
       "      <th>Cabin</th>\n",
       "    </tr>\n",
       "  </thead>\n",
       "  <tbody>\n",
       "    <tr>\n",
       "      <th>count</th>\n",
       "      <td>891</td>\n",
       "      <td>891</td>\n",
       "      <td>204</td>\n",
       "    </tr>\n",
       "    <tr>\n",
       "      <th>unique</th>\n",
       "      <td>891</td>\n",
       "      <td>681</td>\n",
       "      <td>147</td>\n",
       "    </tr>\n",
       "    <tr>\n",
       "      <th>top</th>\n",
       "      <td>Braund, Mr. Owen Harris</td>\n",
       "      <td>347082</td>\n",
       "      <td>B96 B98</td>\n",
       "    </tr>\n",
       "    <tr>\n",
       "      <th>freq</th>\n",
       "      <td>1</td>\n",
       "      <td>7</td>\n",
       "      <td>4</td>\n",
       "    </tr>\n",
       "  </tbody>\n",
       "</table>\n",
       "</div>"
      ],
      "text/plain": [
       "                           Name  Ticket    Cabin\n",
       "count                       891     891      204\n",
       "unique                      891     681      147\n",
       "top     Braund, Mr. Owen Harris  347082  B96 B98\n",
       "freq                          1       7        4"
      ]
     },
     "execution_count": 13,
     "metadata": {},
     "output_type": "execute_result"
    }
   ],
   "source": [
    "df.describe(include=['O'])"
   ]
  },
  {
   "cell_type": "code",
   "execution_count": 14,
   "id": "b27cedce",
   "metadata": {
    "execution": {
     "iopub.execute_input": "2022-04-17T04:16:27.954593Z",
     "iopub.status.busy": "2022-04-17T04:16:27.954086Z",
     "iopub.status.idle": "2022-04-17T04:16:27.971671Z",
     "shell.execute_reply": "2022-04-17T04:16:27.971078Z"
    },
    "id": "o-dObXW5hoG4",
    "papermill": {
     "duration": 0.127795,
     "end_time": "2022-04-17T04:16:27.973837",
     "exception": false,
     "start_time": "2022-04-17T04:16:27.846042",
     "status": "completed"
    },
    "tags": []
   },
   "outputs": [],
   "source": [
    "# analyze by pivoting features\n",
    "features_to_analyze = ['Pclass', 'SibSp', 'Parch', 'Sex']\n",
    "pivot_analyzation = {\n",
    "    feature: \n",
    "    df[[feature, 'Survived']].groupby(by=[feature], as_index=False).mean().sort_values(by=\"Survived\", ascending=False)\n",
    "    for feature in features_to_analyze\n",
    "}"
   ]
  },
  {
   "cell_type": "code",
   "execution_count": 15,
   "id": "e66087ee",
   "metadata": {
    "execution": {
     "iopub.execute_input": "2022-04-17T04:16:28.191804Z",
     "iopub.status.busy": "2022-04-17T04:16:28.191327Z",
     "iopub.status.idle": "2022-04-17T04:16:28.199748Z",
     "shell.execute_reply": "2022-04-17T04:16:28.199174Z"
    },
    "id": "gf1yZKlknYg5",
    "outputId": "e2b7d94e-3993-42dd-8144-7b33f5cf9a14",
    "papermill": {
     "duration": 0.119306,
     "end_time": "2022-04-17T04:16:28.201765",
     "exception": false,
     "start_time": "2022-04-17T04:16:28.082459",
     "status": "completed"
    },
    "tags": []
   },
   "outputs": [
    {
     "data": {
      "text/html": [
       "<div>\n",
       "<style scoped>\n",
       "    .dataframe tbody tr th:only-of-type {\n",
       "        vertical-align: middle;\n",
       "    }\n",
       "\n",
       "    .dataframe tbody tr th {\n",
       "        vertical-align: top;\n",
       "    }\n",
       "\n",
       "    .dataframe thead th {\n",
       "        text-align: right;\n",
       "    }\n",
       "</style>\n",
       "<table border=\"1\" class=\"dataframe\">\n",
       "  <thead>\n",
       "    <tr style=\"text-align: right;\">\n",
       "      <th></th>\n",
       "      <th>Pclass</th>\n",
       "      <th>Survived</th>\n",
       "    </tr>\n",
       "  </thead>\n",
       "  <tbody>\n",
       "    <tr>\n",
       "      <th>0</th>\n",
       "      <td>1</td>\n",
       "      <td>0.629630</td>\n",
       "    </tr>\n",
       "    <tr>\n",
       "      <th>1</th>\n",
       "      <td>2</td>\n",
       "      <td>0.472826</td>\n",
       "    </tr>\n",
       "    <tr>\n",
       "      <th>2</th>\n",
       "      <td>3</td>\n",
       "      <td>0.242363</td>\n",
       "    </tr>\n",
       "  </tbody>\n",
       "</table>\n",
       "</div>"
      ],
      "text/plain": [
       "  Pclass  Survived\n",
       "0      1  0.629630\n",
       "1      2  0.472826\n",
       "2      3  0.242363"
      ]
     },
     "execution_count": 15,
     "metadata": {},
     "output_type": "execute_result"
    }
   ],
   "source": [
    "pivot_analyzation['Pclass']"
   ]
  },
  {
   "cell_type": "code",
   "execution_count": 16,
   "id": "454a1f14",
   "metadata": {
    "execution": {
     "iopub.execute_input": "2022-04-17T04:16:28.416721Z",
     "iopub.status.busy": "2022-04-17T04:16:28.416316Z",
     "iopub.status.idle": "2022-04-17T04:16:28.424554Z",
     "shell.execute_reply": "2022-04-17T04:16:28.424005Z"
    },
    "id": "tpunEm9lqUQx",
    "outputId": "ef38b2ec-6d29-4e6c-9e2f-0ff7a2e5a2b0",
    "papermill": {
     "duration": 0.117538,
     "end_time": "2022-04-17T04:16:28.426471",
     "exception": false,
     "start_time": "2022-04-17T04:16:28.308933",
     "status": "completed"
    },
    "tags": []
   },
   "outputs": [
    {
     "data": {
      "text/html": [
       "<div>\n",
       "<style scoped>\n",
       "    .dataframe tbody tr th:only-of-type {\n",
       "        vertical-align: middle;\n",
       "    }\n",
       "\n",
       "    .dataframe tbody tr th {\n",
       "        vertical-align: top;\n",
       "    }\n",
       "\n",
       "    .dataframe thead th {\n",
       "        text-align: right;\n",
       "    }\n",
       "</style>\n",
       "<table border=\"1\" class=\"dataframe\">\n",
       "  <thead>\n",
       "    <tr style=\"text-align: right;\">\n",
       "      <th></th>\n",
       "      <th>Sex</th>\n",
       "      <th>Survived</th>\n",
       "    </tr>\n",
       "  </thead>\n",
       "  <tbody>\n",
       "    <tr>\n",
       "      <th>0</th>\n",
       "      <td>female</td>\n",
       "      <td>0.742038</td>\n",
       "    </tr>\n",
       "    <tr>\n",
       "      <th>1</th>\n",
       "      <td>male</td>\n",
       "      <td>0.188908</td>\n",
       "    </tr>\n",
       "  </tbody>\n",
       "</table>\n",
       "</div>"
      ],
      "text/plain": [
       "      Sex  Survived\n",
       "0  female  0.742038\n",
       "1    male  0.188908"
      ]
     },
     "execution_count": 16,
     "metadata": {},
     "output_type": "execute_result"
    }
   ],
   "source": [
    "pivot_analyzation['Sex']"
   ]
  },
  {
   "cell_type": "code",
   "execution_count": 17,
   "id": "25938140",
   "metadata": {
    "execution": {
     "iopub.execute_input": "2022-04-17T04:16:28.641689Z",
     "iopub.status.busy": "2022-04-17T04:16:28.641267Z",
     "iopub.status.idle": "2022-04-17T04:16:28.649562Z",
     "shell.execute_reply": "2022-04-17T04:16:28.649019Z"
    },
    "id": "241vk8uuqVpB",
    "outputId": "bbd52dc0-574e-44ce-efd8-d98f78847f81",
    "papermill": {
     "duration": 0.118013,
     "end_time": "2022-04-17T04:16:28.651352",
     "exception": false,
     "start_time": "2022-04-17T04:16:28.533339",
     "status": "completed"
    },
    "tags": []
   },
   "outputs": [
    {
     "data": {
      "text/html": [
       "<div>\n",
       "<style scoped>\n",
       "    .dataframe tbody tr th:only-of-type {\n",
       "        vertical-align: middle;\n",
       "    }\n",
       "\n",
       "    .dataframe tbody tr th {\n",
       "        vertical-align: top;\n",
       "    }\n",
       "\n",
       "    .dataframe thead th {\n",
       "        text-align: right;\n",
       "    }\n",
       "</style>\n",
       "<table border=\"1\" class=\"dataframe\">\n",
       "  <thead>\n",
       "    <tr style=\"text-align: right;\">\n",
       "      <th></th>\n",
       "      <th>SibSp</th>\n",
       "      <th>Survived</th>\n",
       "    </tr>\n",
       "  </thead>\n",
       "  <tbody>\n",
       "    <tr>\n",
       "      <th>1</th>\n",
       "      <td>1</td>\n",
       "      <td>0.535885</td>\n",
       "    </tr>\n",
       "    <tr>\n",
       "      <th>2</th>\n",
       "      <td>2</td>\n",
       "      <td>0.464286</td>\n",
       "    </tr>\n",
       "    <tr>\n",
       "      <th>0</th>\n",
       "      <td>0</td>\n",
       "      <td>0.345395</td>\n",
       "    </tr>\n",
       "    <tr>\n",
       "      <th>3</th>\n",
       "      <td>3</td>\n",
       "      <td>0.250000</td>\n",
       "    </tr>\n",
       "    <tr>\n",
       "      <th>4</th>\n",
       "      <td>4</td>\n",
       "      <td>0.166667</td>\n",
       "    </tr>\n",
       "    <tr>\n",
       "      <th>5</th>\n",
       "      <td>5</td>\n",
       "      <td>0.000000</td>\n",
       "    </tr>\n",
       "    <tr>\n",
       "      <th>6</th>\n",
       "      <td>8</td>\n",
       "      <td>0.000000</td>\n",
       "    </tr>\n",
       "  </tbody>\n",
       "</table>\n",
       "</div>"
      ],
      "text/plain": [
       "   SibSp  Survived\n",
       "1      1  0.535885\n",
       "2      2  0.464286\n",
       "0      0  0.345395\n",
       "3      3  0.250000\n",
       "4      4  0.166667\n",
       "5      5  0.000000\n",
       "6      8  0.000000"
      ]
     },
     "execution_count": 17,
     "metadata": {},
     "output_type": "execute_result"
    }
   ],
   "source": [
    "pivot_analyzation['SibSp']"
   ]
  },
  {
   "cell_type": "code",
   "execution_count": 18,
   "id": "44080bb4",
   "metadata": {
    "execution": {
     "iopub.execute_input": "2022-04-17T04:16:28.871236Z",
     "iopub.status.busy": "2022-04-17T04:16:28.870905Z",
     "iopub.status.idle": "2022-04-17T04:16:28.879896Z",
     "shell.execute_reply": "2022-04-17T04:16:28.879138Z"
    },
    "id": "lHpIt7GiqW2p",
    "outputId": "bc17a7cf-30b1-4028-834c-f803b569cf2e",
    "papermill": {
     "duration": 0.123372,
     "end_time": "2022-04-17T04:16:28.882504",
     "exception": false,
     "start_time": "2022-04-17T04:16:28.759132",
     "status": "completed"
    },
    "tags": []
   },
   "outputs": [
    {
     "data": {
      "text/html": [
       "<div>\n",
       "<style scoped>\n",
       "    .dataframe tbody tr th:only-of-type {\n",
       "        vertical-align: middle;\n",
       "    }\n",
       "\n",
       "    .dataframe tbody tr th {\n",
       "        vertical-align: top;\n",
       "    }\n",
       "\n",
       "    .dataframe thead th {\n",
       "        text-align: right;\n",
       "    }\n",
       "</style>\n",
       "<table border=\"1\" class=\"dataframe\">\n",
       "  <thead>\n",
       "    <tr style=\"text-align: right;\">\n",
       "      <th></th>\n",
       "      <th>Parch</th>\n",
       "      <th>Survived</th>\n",
       "    </tr>\n",
       "  </thead>\n",
       "  <tbody>\n",
       "    <tr>\n",
       "      <th>3</th>\n",
       "      <td>3</td>\n",
       "      <td>0.600000</td>\n",
       "    </tr>\n",
       "    <tr>\n",
       "      <th>1</th>\n",
       "      <td>1</td>\n",
       "      <td>0.550847</td>\n",
       "    </tr>\n",
       "    <tr>\n",
       "      <th>2</th>\n",
       "      <td>2</td>\n",
       "      <td>0.500000</td>\n",
       "    </tr>\n",
       "    <tr>\n",
       "      <th>0</th>\n",
       "      <td>0</td>\n",
       "      <td>0.343658</td>\n",
       "    </tr>\n",
       "    <tr>\n",
       "      <th>5</th>\n",
       "      <td>5</td>\n",
       "      <td>0.200000</td>\n",
       "    </tr>\n",
       "    <tr>\n",
       "      <th>4</th>\n",
       "      <td>4</td>\n",
       "      <td>0.000000</td>\n",
       "    </tr>\n",
       "    <tr>\n",
       "      <th>6</th>\n",
       "      <td>6</td>\n",
       "      <td>0.000000</td>\n",
       "    </tr>\n",
       "  </tbody>\n",
       "</table>\n",
       "</div>"
      ],
      "text/plain": [
       "   Parch  Survived\n",
       "3      3  0.600000\n",
       "1      1  0.550847\n",
       "2      2  0.500000\n",
       "0      0  0.343658\n",
       "5      5  0.200000\n",
       "4      4  0.000000\n",
       "6      6  0.000000"
      ]
     },
     "execution_count": 18,
     "metadata": {},
     "output_type": "execute_result"
    }
   ],
   "source": [
    "pivot_analyzation['Parch']"
   ]
  },
  {
   "cell_type": "code",
   "execution_count": 19,
   "id": "c155bc7a",
   "metadata": {
    "execution": {
     "iopub.execute_input": "2022-04-17T04:16:29.134759Z",
     "iopub.status.busy": "2022-04-17T04:16:29.134502Z",
     "iopub.status.idle": "2022-04-17T04:16:29.676954Z",
     "shell.execute_reply": "2022-04-17T04:16:29.676013Z"
    },
    "id": "Ywer2rKnqYYh",
    "outputId": "cc649324-de7c-48aa-94d5-92125991f3f5",
    "papermill": {
     "duration": 0.678078,
     "end_time": "2022-04-17T04:16:29.679742",
     "exception": false,
     "start_time": "2022-04-17T04:16:29.001664",
     "status": "completed"
    },
    "tags": []
   },
   "outputs": [
    {
     "data": {
      "text/plain": [
       "<seaborn.axisgrid.FacetGrid at 0x7fdba73633d0>"
      ]
     },
     "execution_count": 19,
     "metadata": {},
     "output_type": "execute_result"
    },
    {
     "data": {
      "image/png": "[encoded data removed]",
      "text/plain": [
       "<Figure size 432x216 with 2 Axes>"
      ]
     },
     "metadata": {
      "needs_background": "light"
     },
     "output_type": "display_data"
    }
   ],
   "source": [
    "g = sns.FacetGrid(df, col='Survived')\n",
    "g.map(plt.hist, 'Age', bins=20)"
   ]
  },
  {
   "cell_type": "code",
   "execution_count": 20,
   "id": "a2b708a1",
   "metadata": {
    "execution": {
     "iopub.execute_input": "2022-04-17T04:16:29.945458Z",
     "iopub.status.busy": "2022-04-17T04:16:29.945110Z",
     "iopub.status.idle": "2022-04-17T04:16:31.260958Z",
     "shell.execute_reply": "2022-04-17T04:16:31.260146Z"
    },
    "id": "lqwW73t4enEq",
    "outputId": "c860a56b-73e0-4733-86aa-bca356f6b472",
    "papermill": {
     "duration": 1.468756,
     "end_time": "2022-04-17T04:16:31.263057",
     "exception": false,
     "start_time": "2022-04-17T04:16:29.794301",
     "status": "completed"
    },
    "tags": []
   },
   "outputs": [
    {
     "data": {
      "text/plain": [
       "<seaborn.axisgrid.FacetGrid at 0x7fdba39685d0>"
      ]
     },
     "execution_count": 20,
     "metadata": {},
     "output_type": "execute_result"
    },
    {
     "data": {
      "image/png": "[encoded data removed]",
      "text/plain": [
       "<Figure size 432x648 with 6 Axes>"
      ]
     },
     "metadata": {
      "needs_background": "light"
     },
     "output_type": "display_data"
    }
   ],
   "source": [
    "g = sns.FacetGrid(df, col='Survived', row='Pclass')\n",
    "g.map(plt.hist, 'Age', bins=20)"
   ]
  },
  {
   "cell_type": "code",
   "execution_count": 21,
   "id": "356e1e94",
   "metadata": {
    "execution": {
     "iopub.execute_input": "2022-04-17T04:16:31.483795Z",
     "iopub.status.busy": "2022-04-17T04:16:31.483499Z",
     "iopub.status.idle": "2022-04-17T04:16:32.747334Z",
     "shell.execute_reply": "2022-04-17T04:16:32.746331Z"
    },
    "id": "cDU94G6yfFrb",
    "outputId": "d7f9d0b7-7b1c-41e2-f705-dfd01271c23a",
    "papermill": {
     "duration": 1.377006,
     "end_time": "2022-04-17T04:16:32.749939",
     "exception": false,
     "start_time": "2022-04-17T04:16:31.372933",
     "status": "completed"
    },
    "tags": []
   },
   "outputs": [
    {
     "name": "stderr",
     "output_type": "stream",
     "text": [
      "/opt/conda/lib/python3.7/site-packages/seaborn/axisgrid.py:670: UserWarning: Using the pointplot function without specifying `order` is likely to produce an incorrect plot.\n",
      "  warnings.warn(warning)\n",
      "/opt/conda/lib/python3.7/site-packages/seaborn/axisgrid.py:675: UserWarning: Using the pointplot function without specifying `hue_order` is likely to produce an incorrect plot.\n",
      "  warnings.warn(warning)\n"
     ]
    },
    {
     "data": {
      "text/plain": [
       "<seaborn.axisgrid.FacetGrid at 0x7fdba35b4710>"
      ]
     },
     "execution_count": 21,
     "metadata": {},
     "output_type": "execute_result"
    },
    {
     "data": {
      "image/png": "[encoded data removed]",
      "text/plain": [
       "<Figure size 286.5x648 with 3 Axes>"
      ]
     },
     "metadata": {
      "needs_background": "light"
     },
     "output_type": "display_data"
    }
   ],
   "source": [
    "g = sns.FacetGrid(df, row='Embarked')\n",
    "g.map(sns.pointplot, 'Pclass', 'Survived', 'Sex', palette='deep')\n",
    "g.add_legend()"
   ]
  },
  {
   "cell_type": "code",
   "execution_count": 22,
   "id": "c0c13f9e",
   "metadata": {
    "execution": {
     "iopub.execute_input": "2022-04-17T04:16:32.981604Z",
     "iopub.status.busy": "2022-04-17T04:16:32.981314Z",
     "iopub.status.idle": "2022-04-17T04:16:34.214599Z",
     "shell.execute_reply": "2022-04-17T04:16:34.213474Z"
    },
    "id": "Ofr-Wfq5gZQs",
    "outputId": "1bd5d848-0541-4500-ee04-87d076b7b381",
    "papermill": {
     "duration": 1.352691,
     "end_time": "2022-04-17T04:16:34.217054",
     "exception": false,
     "start_time": "2022-04-17T04:16:32.864363",
     "status": "completed"
    },
    "tags": []
   },
   "outputs": [
    {
     "name": "stderr",
     "output_type": "stream",
     "text": [
      "/opt/conda/lib/python3.7/site-packages/seaborn/axisgrid.py:670: UserWarning: Using the barplot function without specifying `order` is likely to produce an incorrect plot.\n",
      "  warnings.warn(warning)\n"
     ]
    },
    {
     "data": {
      "text/plain": [
       "<seaborn.axisgrid.FacetGrid at 0x7fdba33f66d0>"
      ]
     },
     "execution_count": 22,
     "metadata": {},
     "output_type": "execute_result"
    },
    {
     "data": {
      "image/png": "[encoded data removed]",
      "text/plain": [
       "<Figure size 432x648 with 6 Axes>"
      ]
     },
     "metadata": {
      "needs_background": "light"
     },
     "output_type": "display_data"
    }
   ],
   "source": [
    "g= sns.FacetGrid(df, row='Embarked', col='Survived')\n",
    "g.map(sns.barplot, 'Sex', 'Fare')"
   ]
  },
  {
   "cell_type": "code",
   "execution_count": 23,
   "id": "80d07754",
   "metadata": {
    "execution": {
     "iopub.execute_input": "2022-04-17T04:16:34.447285Z",
     "iopub.status.busy": "2022-04-17T04:16:34.446749Z",
     "iopub.status.idle": "2022-04-17T04:16:34.450595Z",
     "shell.execute_reply": "2022-04-17T04:16:34.449992Z"
    },
    "papermill": {
     "duration": 0.121156,
     "end_time": "2022-04-17T04:16:34.452529",
     "exception": false,
     "start_time": "2022-04-17T04:16:34.331373",
     "status": "completed"
    },
    "tags": []
   },
   "outputs": [],
   "source": [
    "#Feature Engineering: Cabin->Deck, Ticket->Ticket Frequency, Age-Fare=bin, Surname, Familiy_size"
   ]
  },
  {
   "cell_type": "code",
   "execution_count": 24,
   "id": "b8f27954",
   "metadata": {
    "execution": {
     "iopub.execute_input": "2022-04-17T04:16:34.685286Z",
     "iopub.status.busy": "2022-04-17T04:16:34.684965Z",
     "iopub.status.idle": "2022-04-17T04:16:34.696618Z",
     "shell.execute_reply": "2022-04-17T04:16:34.695726Z"
    },
    "papermill": {
     "duration": 0.129903,
     "end_time": "2022-04-17T04:16:34.699008",
     "exception": false,
     "start_time": "2022-04-17T04:16:34.569105",
     "status": "completed"
    },
    "tags": []
   },
   "outputs": [],
   "source": [
    "df['Age'] = df.groupby(['Sex', 'Pclass'])['Age'].apply(lambda x: x.fillna(x.median()))"
   ]
  },
  {
   "cell_type": "code",
   "execution_count": 25,
   "id": "8735cd0a",
   "metadata": {
    "execution": {
     "iopub.execute_input": "2022-04-17T04:16:34.927325Z",
     "iopub.status.busy": "2022-04-17T04:16:34.927013Z",
     "iopub.status.idle": "2022-04-17T04:16:34.939530Z",
     "shell.execute_reply": "2022-04-17T04:16:34.938600Z"
    },
    "papermill": {
     "duration": 0.1289,
     "end_time": "2022-04-17T04:16:34.941432",
     "exception": false,
     "start_time": "2022-04-17T04:16:34.812532",
     "status": "completed"
    },
    "tags": []
   },
   "outputs": [],
   "source": [
    "df_test['Age'] = df_test.groupby(['Sex', 'Pclass'])['Age'].apply(lambda x: x.fillna(x.median()))"
   ]
  },
  {
   "cell_type": "code",
   "execution_count": 26,
   "id": "daf2cb06",
   "metadata": {
    "execution": {
     "iopub.execute_input": "2022-04-17T04:16:35.174797Z",
     "iopub.status.busy": "2022-04-17T04:16:35.174480Z",
     "iopub.status.idle": "2022-04-17T04:16:35.191639Z",
     "shell.execute_reply": "2022-04-17T04:16:35.190628Z"
    },
    "papermill": {
     "duration": 0.134994,
     "end_time": "2022-04-17T04:16:35.193770",
     "exception": false,
     "start_time": "2022-04-17T04:16:35.058776",
     "status": "completed"
    },
    "tags": []
   },
   "outputs": [],
   "source": [
    "fareinterval = pd.qcut(df['Fare'], 10)\n",
    "ageinterval = pd.qcut(df['Age'], 13, duplicates='drop')"
   ]
  },
  {
   "cell_type": "code",
   "execution_count": 27,
   "id": "38f3319d",
   "metadata": {
    "execution": {
     "iopub.execute_input": "2022-04-17T04:16:35.428131Z",
     "iopub.status.busy": "2022-04-17T04:16:35.427642Z",
     "iopub.status.idle": "2022-04-17T04:16:35.438797Z",
     "shell.execute_reply": "2022-04-17T04:16:35.438190Z"
    },
    "papermill": {
     "duration": 0.129482,
     "end_time": "2022-04-17T04:16:35.440704",
     "exception": false,
     "start_time": "2022-04-17T04:16:35.311222",
     "status": "completed"
    },
    "tags": []
   },
   "outputs": [],
   "source": [
    "df['FamilySize'] = df['SibSp'] + df['Parch'] + 1\n",
    "df_test['FamilySize'] = df_test['SibSp'] + df_test['Parch'] + 1\n",
    "family_map = {1: 'Alone', 2: 'Small', 3:'Small', 4:'Small', 5:'Medium', 6:'Medium', 7:'Large', 8:'Large', 11:'Large'}\n",
    "df['FamilyGroup'] = df['FamilySize'].map(family_map)\n",
    "df_test['FamilyGroup'] = df['FamilySize'].map(family_map)"
   ]
  },
  {
   "cell_type": "code",
   "execution_count": 28,
   "id": "c29cb27f",
   "metadata": {
    "execution": {
     "iopub.execute_input": "2022-04-17T04:16:35.669712Z",
     "iopub.status.busy": "2022-04-17T04:16:35.669195Z",
     "iopub.status.idle": "2022-04-17T04:16:35.678583Z",
     "shell.execute_reply": "2022-04-17T04:16:35.677898Z"
    },
    "papermill": {
     "duration": 0.126604,
     "end_time": "2022-04-17T04:16:35.680531",
     "exception": false,
     "start_time": "2022-04-17T04:16:35.553927",
     "status": "completed"
    },
    "tags": []
   },
   "outputs": [],
   "source": [
    "df.loc[df['Cabin'].isnull(),'Cabin'] = 'M'\n",
    "df_test.loc[df_test['Cabin'].isnull(), 'Cabin'] = 'M'\n",
    "df['Deck'] = df['Cabin'].apply(lambda x: x[0])\n",
    "df_test['Deck'] = df['Cabin'].apply(lambda x:x[0])"
   ]
  },
  {
   "cell_type": "code",
   "execution_count": 29,
   "id": "94617ea0",
   "metadata": {
    "execution": {
     "iopub.execute_input": "2022-04-17T04:16:35.915454Z",
     "iopub.status.busy": "2022-04-17T04:16:35.914841Z",
     "iopub.status.idle": "2022-04-17T04:16:36.847397Z",
     "shell.execute_reply": "2022-04-17T04:16:36.846508Z"
    },
    "papermill": {
     "duration": 1.050053,
     "end_time": "2022-04-17T04:16:36.849747",
     "exception": false,
     "start_time": "2022-04-17T04:16:35.799694",
     "status": "completed"
    },
    "tags": []
   },
   "outputs": [],
   "source": [
    "df['TicketFrequency'] = np.nan\n",
    "for uv in df['Ticket'].unique():\n",
    "    num_ticket = (df['Ticket']==uv).sum()\n",
    "    df.loc[df['Ticket']==uv,'TicketFrequency'] = num_ticket\n",
    "    \n",
    "df_test['TicketFrequency'] = np.nan\n",
    "for uv in df_test['Ticket'].unique():\n",
    "    num_ticket = (df_test['Ticket']==uv).sum()\n",
    "    df_test.loc[df_test['Ticket']==uv,'TicketFrequency'] = num_ticket"
   ]
  },
  {
   "cell_type": "code",
   "execution_count": 30,
   "id": "a6d8ed35",
   "metadata": {
    "execution": {
     "iopub.execute_input": "2022-04-17T04:16:37.081980Z",
     "iopub.status.busy": "2022-04-17T04:16:37.081683Z",
     "iopub.status.idle": "2022-04-17T04:16:37.087558Z",
     "shell.execute_reply": "2022-04-17T04:16:37.086691Z"
    },
    "papermill": {
     "duration": 0.124509,
     "end_time": "2022-04-17T04:16:37.089501",
     "exception": false,
     "start_time": "2022-04-17T04:16:36.964992",
     "status": "completed"
    },
    "tags": []
   },
   "outputs": [],
   "source": [
    "ageinterval = pd.arrays.IntervalArray(ageinterval.cat.categories)\n",
    "fareinterval = pd.arrays.IntervalArray(fareinterval.cat.categories)"
   ]
  },
  {
   "cell_type": "code",
   "execution_count": 31,
   "id": "2bf71bb4",
   "metadata": {
    "execution": {
     "iopub.execute_input": "2022-04-17T04:16:37.318997Z",
     "iopub.status.busy": "2022-04-17T04:16:37.318682Z",
     "iopub.status.idle": "2022-04-17T04:16:37.324801Z",
     "shell.execute_reply": "2022-04-17T04:16:37.324202Z"
    },
    "papermill": {
     "duration": 0.123345,
     "end_time": "2022-04-17T04:16:37.326739",
     "exception": false,
     "start_time": "2022-04-17T04:16:37.203394",
     "status": "completed"
    },
    "tags": []
   },
   "outputs": [
    {
     "data": {
      "text/plain": [
       "(<IntervalArray>\n",
       " [(0.419, 12.462], (12.462, 18.0], (18.0, 21.5], (21.5, 23.0], (23.0, 25.0] ... (30.0, 34.0], (34.0, 38.0], (38.0, 42.0], (42.0, 50.0], (50.0, 80.0]]\n",
       " Length: 12, dtype: interval[float64, right],\n",
       " <IntervalArray>\n",
       " [(-0.001, 7.55], (7.55, 7.854], (7.854, 8.05], (8.05, 10.5], (10.5, 14.454], (14.454, 21.679], (21.679, 27.0], (27.0, 39.688], (39.688, 77.958], (77.958, 512.329]]\n",
       " Length: 10, dtype: interval[float64, right])"
      ]
     },
     "execution_count": 31,
     "metadata": {},
     "output_type": "execute_result"
    }
   ],
   "source": [
    "ageinterval, fareinterval"
   ]
  },
  {
   "cell_type": "code",
   "execution_count": 32,
   "id": "fee6264b",
   "metadata": {
    "execution": {
     "iopub.execute_input": "2022-04-17T04:16:37.558978Z",
     "iopub.status.busy": "2022-04-17T04:16:37.558142Z",
     "iopub.status.idle": "2022-04-17T04:16:37.564548Z",
     "shell.execute_reply": "2022-04-17T04:16:37.563674Z"
    },
    "papermill": {
     "duration": 0.123722,
     "end_time": "2022-04-17T04:16:37.566474",
     "exception": false,
     "start_time": "2022-04-17T04:16:37.442752",
     "status": "completed"
    },
    "tags": []
   },
   "outputs": [
    {
     "data": {
      "text/plain": [
       "array([(0.419, 12.462), (12.462, 18.0), (18.0, 21.5), (21.5, 23.0),\n",
       "       (23.0, 25.0), (25.0, 28.0), (28.0, 30.0), (30.0, 34.0),\n",
       "       (34.0, 38.0), (38.0, 42.0), (42.0, 50.0), (50.0, 80.0)],\n",
       "      dtype=object)"
      ]
     },
     "execution_count": 32,
     "metadata": {},
     "output_type": "execute_result"
    }
   ],
   "source": [
    "ageinterval.to_tuples()"
   ]
  },
  {
   "cell_type": "code",
   "execution_count": 33,
   "id": "0edb85f6",
   "metadata": {
    "execution": {
     "iopub.execute_input": "2022-04-17T04:16:37.795607Z",
     "iopub.status.busy": "2022-04-17T04:16:37.795155Z",
     "iopub.status.idle": "2022-04-17T04:16:37.853984Z",
     "shell.execute_reply": "2022-04-17T04:16:37.853216Z"
    },
    "papermill": {
     "duration": 0.176281,
     "end_time": "2022-04-17T04:16:37.856439",
     "exception": false,
     "start_time": "2022-04-17T04:16:37.680158",
     "status": "completed"
    },
    "tags": []
   },
   "outputs": [],
   "source": [
    "df['Age'] = df['Age'].apply(lambda x: ageinterval.to_tuples()[ageinterval.contains(x)])\n",
    "df_test['Age'] = df_test['Age'].apply(lambda x: ageinterval.to_tuples()[ageinterval.contains(x)])"
   ]
  },
  {
   "cell_type": "code",
   "execution_count": 34,
   "id": "fa76eae5",
   "metadata": {
    "execution": {
     "iopub.execute_input": "2022-04-17T04:16:38.089064Z",
     "iopub.status.busy": "2022-04-17T04:16:38.088599Z",
     "iopub.status.idle": "2022-04-17T04:16:38.141176Z",
     "shell.execute_reply": "2022-04-17T04:16:38.140318Z"
    },
    "papermill": {
     "duration": 0.170657,
     "end_time": "2022-04-17T04:16:38.143421",
     "exception": false,
     "start_time": "2022-04-17T04:16:37.972764",
     "status": "completed"
    },
    "tags": []
   },
   "outputs": [],
   "source": [
    "df['Fare'] = df['Fare'].apply(lambda x: fareinterval.to_tuples()[fareinterval.contains(x)])\n",
    "df_test['Fare'] = df_test['Fare'].apply(lambda x: fareinterval.to_tuples()[fareinterval.contains(x)])"
   ]
  },
  {
   "cell_type": "code",
   "execution_count": 35,
   "id": "f39b7fe7",
   "metadata": {
    "execution": {
     "iopub.execute_input": "2022-04-17T04:16:38.373076Z",
     "iopub.status.busy": "2022-04-17T04:16:38.372611Z",
     "iopub.status.idle": "2022-04-17T04:16:38.375765Z",
     "shell.execute_reply": "2022-04-17T04:16:38.375099Z"
    },
    "id": "PtHFJwOThQnt",
    "papermill": {
     "duration": 0.120778,
     "end_time": "2022-04-17T04:16:38.377805",
     "exception": false,
     "start_time": "2022-04-17T04:16:38.257027",
     "status": "completed"
    },
    "tags": []
   },
   "outputs": [],
   "source": [
    "#df = df.drop(['Cabin', 'Ticket'], axis=1)"
   ]
  },
  {
   "cell_type": "code",
   "execution_count": 36,
   "id": "8e155c0c",
   "metadata": {
    "execution": {
     "iopub.execute_input": "2022-04-17T04:16:38.608570Z",
     "iopub.status.busy": "2022-04-17T04:16:38.608087Z",
     "iopub.status.idle": "2022-04-17T04:16:38.611138Z",
     "shell.execute_reply": "2022-04-17T04:16:38.610547Z"
    },
    "id": "kly7zEN5jaI2",
    "papermill": {
     "duration": 0.121056,
     "end_time": "2022-04-17T04:16:38.612955",
     "exception": false,
     "start_time": "2022-04-17T04:16:38.491899",
     "status": "completed"
    },
    "tags": []
   },
   "outputs": [],
   "source": [
    "#df_test = df_test.drop(['Cabin', 'Ticket'], axis=1)"
   ]
  },
  {
   "cell_type": "code",
   "execution_count": 37,
   "id": "864b06e5",
   "metadata": {
    "execution": {
     "iopub.execute_input": "2022-04-17T04:16:38.843222Z",
     "iopub.status.busy": "2022-04-17T04:16:38.842638Z",
     "iopub.status.idle": "2022-04-17T04:16:38.847143Z",
     "shell.execute_reply": "2022-04-17T04:16:38.846470Z"
    },
    "id": "iPk_5Hk3kG5P",
    "papermill": {
     "duration": 0.122445,
     "end_time": "2022-04-17T04:16:38.848856",
     "exception": false,
     "start_time": "2022-04-17T04:16:38.726411",
     "status": "completed"
    },
    "tags": []
   },
   "outputs": [],
   "source": [
    "df_test_pi = df_test.copy()['PassengerId']"
   ]
  },
  {
   "cell_type": "code",
   "execution_count": 38,
   "id": "90f69ed4",
   "metadata": {
    "execution": {
     "iopub.execute_input": "2022-04-17T04:16:39.081239Z",
     "iopub.status.busy": "2022-04-17T04:16:39.080681Z",
     "iopub.status.idle": "2022-04-17T04:16:39.087674Z",
     "shell.execute_reply": "2022-04-17T04:16:39.086715Z"
    },
    "papermill": {
     "duration": 0.126938,
     "end_time": "2022-04-17T04:16:39.089649",
     "exception": false,
     "start_time": "2022-04-17T04:16:38.962711",
     "status": "completed"
    },
    "tags": []
   },
   "outputs": [
    {
     "data": {
      "text/plain": [
       "0       892\n",
       "1       893\n",
       "2       894\n",
       "3       895\n",
       "4       896\n",
       "       ... \n",
       "413    1305\n",
       "414    1306\n",
       "415    1307\n",
       "416    1308\n",
       "417    1309\n",
       "Name: PassengerId, Length: 418, dtype: int64"
      ]
     },
     "execution_count": 38,
     "metadata": {},
     "output_type": "execute_result"
    }
   ],
   "source": [
    "df_test_pi"
   ]
  },
  {
   "cell_type": "code",
   "execution_count": 39,
   "id": "21836ee3",
   "metadata": {
    "execution": {
     "iopub.execute_input": "2022-04-17T04:16:39.319567Z",
     "iopub.status.busy": "2022-04-17T04:16:39.319059Z",
     "iopub.status.idle": "2022-04-17T04:16:39.355524Z",
     "shell.execute_reply": "2022-04-17T04:16:39.354669Z"
    },
    "id": "CJvy9qNDkTt-",
    "outputId": "59da43b7-78ff-43e5-d28f-1f6e181675d3",
    "papermill": {
     "duration": 0.153124,
     "end_time": "2022-04-17T04:16:39.357494",
     "exception": false,
     "start_time": "2022-04-17T04:16:39.204370",
     "status": "completed"
    },
    "tags": []
   },
   "outputs": [
    {
     "data": {
      "text/html": [
       "<div>\n",
       "<style scoped>\n",
       "    .dataframe tbody tr th:only-of-type {\n",
       "        vertical-align: middle;\n",
       "    }\n",
       "\n",
       "    .dataframe tbody tr th {\n",
       "        vertical-align: top;\n",
       "    }\n",
       "\n",
       "    .dataframe thead th {\n",
       "        text-align: right;\n",
       "    }\n",
       "</style>\n",
       "<table border=\"1\" class=\"dataframe\">\n",
       "  <thead>\n",
       "    <tr style=\"text-align: right;\">\n",
       "      <th>Sex</th>\n",
       "      <th>female</th>\n",
       "      <th>male</th>\n",
       "    </tr>\n",
       "    <tr>\n",
       "      <th>Title</th>\n",
       "      <th></th>\n",
       "      <th></th>\n",
       "    </tr>\n",
       "  </thead>\n",
       "  <tbody>\n",
       "    <tr>\n",
       "      <th>Capt</th>\n",
       "      <td>0</td>\n",
       "      <td>1</td>\n",
       "    </tr>\n",
       "    <tr>\n",
       "      <th>Col</th>\n",
       "      <td>0</td>\n",
       "      <td>2</td>\n",
       "    </tr>\n",
       "    <tr>\n",
       "      <th>Countess</th>\n",
       "      <td>1</td>\n",
       "      <td>0</td>\n",
       "    </tr>\n",
       "    <tr>\n",
       "      <th>Don</th>\n",
       "      <td>0</td>\n",
       "      <td>1</td>\n",
       "    </tr>\n",
       "    <tr>\n",
       "      <th>Dr</th>\n",
       "      <td>1</td>\n",
       "      <td>6</td>\n",
       "    </tr>\n",
       "    <tr>\n",
       "      <th>Jonkheer</th>\n",
       "      <td>0</td>\n",
       "      <td>1</td>\n",
       "    </tr>\n",
       "    <tr>\n",
       "      <th>Lady</th>\n",
       "      <td>1</td>\n",
       "      <td>0</td>\n",
       "    </tr>\n",
       "    <tr>\n",
       "      <th>Major</th>\n",
       "      <td>0</td>\n",
       "      <td>2</td>\n",
       "    </tr>\n",
       "    <tr>\n",
       "      <th>Master</th>\n",
       "      <td>0</td>\n",
       "      <td>40</td>\n",
       "    </tr>\n",
       "    <tr>\n",
       "      <th>Miss</th>\n",
       "      <td>182</td>\n",
       "      <td>0</td>\n",
       "    </tr>\n",
       "    <tr>\n",
       "      <th>Mlle</th>\n",
       "      <td>2</td>\n",
       "      <td>0</td>\n",
       "    </tr>\n",
       "    <tr>\n",
       "      <th>Mme</th>\n",
       "      <td>1</td>\n",
       "      <td>0</td>\n",
       "    </tr>\n",
       "    <tr>\n",
       "      <th>Mr</th>\n",
       "      <td>0</td>\n",
       "      <td>517</td>\n",
       "    </tr>\n",
       "    <tr>\n",
       "      <th>Mrs</th>\n",
       "      <td>125</td>\n",
       "      <td>0</td>\n",
       "    </tr>\n",
       "    <tr>\n",
       "      <th>Ms</th>\n",
       "      <td>1</td>\n",
       "      <td>0</td>\n",
       "    </tr>\n",
       "    <tr>\n",
       "      <th>Rev</th>\n",
       "      <td>0</td>\n",
       "      <td>6</td>\n",
       "    </tr>\n",
       "    <tr>\n",
       "      <th>Sir</th>\n",
       "      <td>0</td>\n",
       "      <td>1</td>\n",
       "    </tr>\n",
       "  </tbody>\n",
       "</table>\n",
       "</div>"
      ],
      "text/plain": [
       "Sex       female  male\n",
       "Title                 \n",
       "Capt           0     1\n",
       "Col            0     2\n",
       "Countess       1     0\n",
       "Don            0     1\n",
       "Dr             1     6\n",
       "Jonkheer       0     1\n",
       "Lady           1     0\n",
       "Major          0     2\n",
       "Master         0    40\n",
       "Miss         182     0\n",
       "Mlle           2     0\n",
       "Mme            1     0\n",
       "Mr             0   517\n",
       "Mrs          125     0\n",
       "Ms             1     0\n",
       "Rev            0     6\n",
       "Sir            0     1"
      ]
     },
     "execution_count": 39,
     "metadata": {},
     "output_type": "execute_result"
    }
   ],
   "source": [
    "combine = [df, df_test]\n",
    "for dataset in combine:\n",
    "    dataset['Title'] = dataset['Name'].str.extract(' ([A-Za-z]+)\\.', expand=False)\n",
    "\n",
    "pd.crosstab(df['Title'], df['Sex'])"
   ]
  },
  {
   "cell_type": "code",
   "execution_count": 40,
   "id": "18f3f4f9",
   "metadata": {
    "execution": {
     "iopub.execute_input": "2022-04-17T04:16:39.589766Z",
     "iopub.status.busy": "2022-04-17T04:16:39.589240Z",
     "iopub.status.idle": "2022-04-17T04:16:39.610742Z",
     "shell.execute_reply": "2022-04-17T04:16:39.610141Z"
    },
    "id": "FySONWVvlHcM",
    "outputId": "be9937f7-d3c6-432e-87e6-f28bfe27fa9a",
    "papermill": {
     "duration": 0.140936,
     "end_time": "2022-04-17T04:16:39.612646",
     "exception": false,
     "start_time": "2022-04-17T04:16:39.471710",
     "status": "completed"
    },
    "tags": []
   },
   "outputs": [
    {
     "data": {
      "text/html": [
       "<div>\n",
       "<style scoped>\n",
       "    .dataframe tbody tr th:only-of-type {\n",
       "        vertical-align: middle;\n",
       "    }\n",
       "\n",
       "    .dataframe tbody tr th {\n",
       "        vertical-align: top;\n",
       "    }\n",
       "\n",
       "    .dataframe thead th {\n",
       "        text-align: right;\n",
       "    }\n",
       "</style>\n",
       "<table border=\"1\" class=\"dataframe\">\n",
       "  <thead>\n",
       "    <tr style=\"text-align: right;\">\n",
       "      <th></th>\n",
       "      <th>Title</th>\n",
       "      <th>Survived</th>\n",
       "    </tr>\n",
       "  </thead>\n",
       "  <tbody>\n",
       "    <tr>\n",
       "      <th>0</th>\n",
       "      <td>Master</td>\n",
       "      <td>0.575000</td>\n",
       "    </tr>\n",
       "    <tr>\n",
       "      <th>1</th>\n",
       "      <td>Miss</td>\n",
       "      <td>0.702703</td>\n",
       "    </tr>\n",
       "    <tr>\n",
       "      <th>2</th>\n",
       "      <td>Mr</td>\n",
       "      <td>0.156673</td>\n",
       "    </tr>\n",
       "    <tr>\n",
       "      <th>3</th>\n",
       "      <td>Mrs</td>\n",
       "      <td>0.793651</td>\n",
       "    </tr>\n",
       "    <tr>\n",
       "      <th>4</th>\n",
       "      <td>Rare</td>\n",
       "      <td>0.347826</td>\n",
       "    </tr>\n",
       "  </tbody>\n",
       "</table>\n",
       "</div>"
      ],
      "text/plain": [
       "    Title  Survived\n",
       "0  Master  0.575000\n",
       "1    Miss  0.702703\n",
       "2      Mr  0.156673\n",
       "3     Mrs  0.793651\n",
       "4    Rare  0.347826"
      ]
     },
     "execution_count": 40,
     "metadata": {},
     "output_type": "execute_result"
    }
   ],
   "source": [
    "for dataset in combine:\n",
    "    dataset['Title'] = dataset['Title'].replace(['Capt', 'Col', 'Countess', 'Don', 'Dr', 'Jonkheer', 'Lady', 'Major', 'Rev', 'Sir'], 'Rare')\n",
    "    dataset['Title'] = dataset['Title'].replace('Mlle', 'Miss')\n",
    "    dataset['Title'] = dataset['Title'].replace('Ms', 'Miss')\n",
    "    dataset['Title'] = dataset['Title'].replace('Mme', 'Mrs')\n",
    "    \n",
    "df[['Survived', 'Title']].groupby('Title', as_index=False).mean()"
   ]
  },
  {
   "cell_type": "code",
   "execution_count": 41,
   "id": "99dd9755",
   "metadata": {
    "execution": {
     "iopub.execute_input": "2022-04-17T04:16:39.849232Z",
     "iopub.status.busy": "2022-04-17T04:16:39.848696Z",
     "iopub.status.idle": "2022-04-17T04:16:39.858497Z",
     "shell.execute_reply": "2022-04-17T04:16:39.857918Z"
    },
    "id": "0QqBj0dfmBWa",
    "outputId": "ba8ab140-5795-4bcc-a3be-694d44f3a131",
    "papermill": {
     "duration": 0.132419,
     "end_time": "2022-04-17T04:16:39.860223",
     "exception": false,
     "start_time": "2022-04-17T04:16:39.727804",
     "status": "completed"
    },
    "tags": []
   },
   "outputs": [
    {
     "data": {
      "text/plain": [
       "PassengerId        1.000000\n",
       "Survived           1.000000\n",
       "Pclass             1.000000\n",
       "Name               1.000000\n",
       "Sex                1.000000\n",
       "Age                1.000000\n",
       "SibSp              1.000000\n",
       "Parch              1.000000\n",
       "Ticket             1.000000\n",
       "Fare               1.000000\n",
       "Cabin              1.000000\n",
       "Embarked           0.997755\n",
       "FamilySize         1.000000\n",
       "FamilyGroup        1.000000\n",
       "Deck               1.000000\n",
       "TicketFrequency    1.000000\n",
       "Title              1.000000\n",
       "dtype: float64"
      ]
     },
     "execution_count": 41,
     "metadata": {},
     "output_type": "execute_result"
    }
   ],
   "source": [
    "df.notnull().mean()"
   ]
  },
  {
   "cell_type": "code",
   "execution_count": null,
   "id": "0bf18d5d",
   "metadata": {
    "id": "5sWn6TR0RvOl",
    "papermill": {
     "duration": 0.118217,
     "end_time": "2022-04-17T04:16:40.095978",
     "exception": false,
     "start_time": "2022-04-17T04:16:39.977761",
     "status": "completed"
    },
    "tags": []
   },
   "outputs": [],
   "source": []
  },
  {
   "cell_type": "code",
   "execution_count": 42,
   "id": "70456f7a",
   "metadata": {
    "execution": {
     "iopub.execute_input": "2022-04-17T04:16:40.330240Z",
     "iopub.status.busy": "2022-04-17T04:16:40.329705Z",
     "iopub.status.idle": "2022-04-17T04:16:40.336478Z",
     "shell.execute_reply": "2022-04-17T04:16:40.335659Z"
    },
    "id": "LtmY8kIKRaU3",
    "papermill": {
     "duration": 0.126331,
     "end_time": "2022-04-17T04:16:40.338636",
     "exception": false,
     "start_time": "2022-04-17T04:16:40.212305",
     "status": "completed"
    },
    "tags": []
   },
   "outputs": [],
   "source": [
    "for dataset in combine:\n",
    "    dataset.drop(['Name', 'PassengerId', 'Cabin'], axis=1, inplace=True)"
   ]
  },
  {
   "cell_type": "code",
   "execution_count": 43,
   "id": "0bcbed3d",
   "metadata": {
    "execution": {
     "iopub.execute_input": "2022-04-17T04:16:40.574516Z",
     "iopub.status.busy": "2022-04-17T04:16:40.574241Z",
     "iopub.status.idle": "2022-04-17T04:16:40.581317Z",
     "shell.execute_reply": "2022-04-17T04:16:40.580532Z"
    },
    "id": "LEOksg5ORw_c",
    "papermill": {
     "duration": 0.128246,
     "end_time": "2022-04-17T04:16:40.583174",
     "exception": false,
     "start_time": "2022-04-17T04:16:40.454928",
     "status": "completed"
    },
    "tags": []
   },
   "outputs": [],
   "source": [
    "def categorify(df, df_test, dep_var='Survived', exclude=[]):\n",
    "    df = df.copy()\n",
    "    df_test = df_test.copy()\n",
    "    new = pd.concat([df, df_test]).drop([dep_var]+exclude, axis=1)\n",
    "    dicts = {str(col): {k[1]:k[0] for k in enumerate(new[col].unique())} for col in new}\n",
    "    for key, val in dicts.items():\n",
    "        df[key] = df[key].map(val).astype(float)\n",
    "        df_test[key] = df_test[key].map(val).astype(float)\n",
    "    return df, df_test"
   ]
  },
  {
   "cell_type": "code",
   "execution_count": 44,
   "id": "f8bb8f16",
   "metadata": {
    "execution": {
     "iopub.execute_input": "2022-04-17T04:16:40.819831Z",
     "iopub.status.busy": "2022-04-17T04:16:40.819430Z",
     "iopub.status.idle": "2022-04-17T04:16:40.902493Z",
     "shell.execute_reply": "2022-04-17T04:16:40.901103Z"
    },
    "papermill": {
     "duration": 0.20739,
     "end_time": "2022-04-17T04:16:40.906036",
     "exception": false,
     "start_time": "2022-04-17T04:16:40.698646",
     "status": "completed"
    },
    "tags": []
   },
   "outputs": [],
   "source": [
    "combined = [df, df_test]\n",
    "for dataset in combined:\n",
    "    dataset['Age'] = dataset['Age'].map(str)\n",
    "    dataset['Fare'] = dataset['Fare'].map(str)\n"
   ]
  },
  {
   "cell_type": "code",
   "execution_count": 45,
   "id": "74c75618",
   "metadata": {
    "execution": {
     "iopub.execute_input": "2022-04-17T04:16:41.142988Z",
     "iopub.status.busy": "2022-04-17T04:16:41.142465Z",
     "iopub.status.idle": "2022-04-17T04:16:41.147712Z",
     "shell.execute_reply": "2022-04-17T04:16:41.147170Z"
    },
    "papermill": {
     "duration": 0.126806,
     "end_time": "2022-04-17T04:16:41.149425",
     "exception": false,
     "start_time": "2022-04-17T04:16:41.022619",
     "status": "completed"
    },
    "tags": []
   },
   "outputs": [
    {
     "data": {
      "text/plain": [
       "array(['[(21.5, 23.0)]', '[(34.0, 38.0)]', '[(25.0, 28.0)]',\n",
       "       '[(23.0, 25.0)]', '[(50.0, 80.0)]', '[(0.419, 12.462)]',\n",
       "       '[(12.462, 18.0)]', '[(18.0, 21.5)]', '[(38.0, 42.0)]',\n",
       "       '[(28.0, 30.0)]', '[(30.0, 34.0)]', '[(42.0, 50.0)]'], dtype=object)"
      ]
     },
     "execution_count": 45,
     "metadata": {},
     "output_type": "execute_result"
    }
   ],
   "source": [
    "df['Age'].unique()"
   ]
  },
  {
   "cell_type": "code",
   "execution_count": 46,
   "id": "2a0b2759",
   "metadata": {
    "execution": {
     "iopub.execute_input": "2022-04-17T04:16:41.384722Z",
     "iopub.status.busy": "2022-04-17T04:16:41.384222Z",
     "iopub.status.idle": "2022-04-17T04:16:41.390333Z",
     "shell.execute_reply": "2022-04-17T04:16:41.389484Z"
    },
    "id": "T__tYEgjRu5P",
    "papermill": {
     "duration": 0.125574,
     "end_time": "2022-04-17T04:16:41.392324",
     "exception": false,
     "start_time": "2022-04-17T04:16:41.266750",
     "status": "completed"
    },
    "tags": []
   },
   "outputs": [
    {
     "data": {
      "text/plain": [
       "\"def categorify(df, df_test):\\n    df = df.copy()\\n    df_test = df_test.copy()\\n    new = pd.concat([df, df_test])\\n    sexdict = {k[1]: k[0] for k in enumerate(new['Sex'].unique())}\\n    embdict = {k[1]: k[0] for k in enumerate(new['Embarked'].unique())}\\n    titdict = {k[1]: k[0] for k in enumerate(new['Title'].unique())}\\n    pardict = {k[1]: k[0] for k in enumerate(new['Parch'].unique())}\\n    pcldict = {k[1]: k[0] for k in enumerate(new['Pclass'].astype(int).unique())}\\n    sibdict = {k[1]: k[0] for k in enumerate(new['SibSp'].astype(int).unique())}\\n    dicts = {'Sex': sexdict, 'Embarked': embdict, 'Title': titdict, 'Parch': pardict, 'Pclass': pcldict, 'SibSp':sibdict}\\n    for key, val in dicts.items():\\n        df[key] = df[key].map(val).astype(float)\\n        df_test[key] = df_test[key].map(val).astype(float)\\n    return df, df_test\""
      ]
     },
     "execution_count": 46,
     "metadata": {},
     "output_type": "execute_result"
    }
   ],
   "source": [
    "\"\"\"def categorify(df, df_test):\n",
    "    df = df.copy()\n",
    "    df_test = df_test.copy()\n",
    "    new = pd.concat([df, df_test])\n",
    "    sexdict = {k[1]: k[0] for k in enumerate(new['Sex'].unique())}\n",
    "    embdict = {k[1]: k[0] for k in enumerate(new['Embarked'].unique())}\n",
    "    titdict = {k[1]: k[0] for k in enumerate(new['Title'].unique())}\n",
    "    pardict = {k[1]: k[0] for k in enumerate(new['Parch'].unique())}\n",
    "    pcldict = {k[1]: k[0] for k in enumerate(new['Pclass'].astype(int).unique())}\n",
    "    sibdict = {k[1]: k[0] for k in enumerate(new['SibSp'].astype(int).unique())}\n",
    "    dicts = {'Sex': sexdict, 'Embarked': embdict, 'Title': titdict, 'Parch': pardict, 'Pclass': pcldict, 'SibSp':sibdict}\n",
    "    for key, val in dicts.items():\n",
    "        df[key] = df[key].map(val).astype(float)\n",
    "        df_test[key] = df_test[key].map(val).astype(float)\n",
    "    return df, df_test\"\"\""
   ]
  },
  {
   "cell_type": "code",
   "execution_count": 47,
   "id": "e2fa181e",
   "metadata": {
    "execution": {
     "iopub.execute_input": "2022-04-17T04:16:41.627690Z",
     "iopub.status.busy": "2022-04-17T04:16:41.626929Z",
     "iopub.status.idle": "2022-04-17T04:16:41.665933Z",
     "shell.execute_reply": "2022-04-17T04:16:41.665294Z"
    },
    "id": "0rxZxlvBkFQF",
    "papermill": {
     "duration": 0.159192,
     "end_time": "2022-04-17T04:16:41.668138",
     "exception": false,
     "start_time": "2022-04-17T04:16:41.508946",
     "status": "completed"
    },
    "tags": []
   },
   "outputs": [],
   "source": [
    "combine = [df, df_test]\n",
    "df, df_test = categorify(df, df_test, exclude=[])"
   ]
  },
  {
   "cell_type": "code",
   "execution_count": 48,
   "id": "a0f856b5",
   "metadata": {
    "execution": {
     "iopub.execute_input": "2022-04-17T04:16:41.904748Z",
     "iopub.status.busy": "2022-04-17T04:16:41.904211Z",
     "iopub.status.idle": "2022-04-17T04:16:41.935843Z",
     "shell.execute_reply": "2022-04-17T04:16:41.935237Z"
    },
    "papermill": {
     "duration": 0.152568,
     "end_time": "2022-04-17T04:16:41.937578",
     "exception": false,
     "start_time": "2022-04-17T04:16:41.785010",
     "status": "completed"
    },
    "tags": []
   },
   "outputs": [
    {
     "data": {
      "text/html": [
       "<div>\n",
       "<style scoped>\n",
       "    .dataframe tbody tr th:only-of-type {\n",
       "        vertical-align: middle;\n",
       "    }\n",
       "\n",
       "    .dataframe tbody tr th {\n",
       "        vertical-align: top;\n",
       "    }\n",
       "\n",
       "    .dataframe thead th {\n",
       "        text-align: right;\n",
       "    }\n",
       "</style>\n",
       "<table border=\"1\" class=\"dataframe\">\n",
       "  <thead>\n",
       "    <tr style=\"text-align: right;\">\n",
       "      <th></th>\n",
       "      <th>Pclass</th>\n",
       "      <th>Sex</th>\n",
       "      <th>Age</th>\n",
       "      <th>SibSp</th>\n",
       "      <th>Parch</th>\n",
       "      <th>Ticket</th>\n",
       "      <th>Fare</th>\n",
       "      <th>Embarked</th>\n",
       "      <th>FamilySize</th>\n",
       "      <th>FamilyGroup</th>\n",
       "      <th>Deck</th>\n",
       "      <th>TicketFrequency</th>\n",
       "      <th>Title</th>\n",
       "    </tr>\n",
       "  </thead>\n",
       "  <tbody>\n",
       "    <tr>\n",
       "      <th>0</th>\n",
       "      <td>0.0</td>\n",
       "      <td>0.0</td>\n",
       "      <td>1.0</td>\n",
       "      <td>1.0</td>\n",
       "      <td>0.0</td>\n",
       "      <td>681.0</td>\n",
       "      <td>9.0</td>\n",
       "      <td>2.0</td>\n",
       "      <td>1.0</td>\n",
       "      <td>0.0</td>\n",
       "      <td>0.0</td>\n",
       "      <td>0.0</td>\n",
       "      <td>0.0</td>\n",
       "    </tr>\n",
       "    <tr>\n",
       "      <th>1</th>\n",
       "      <td>0.0</td>\n",
       "      <td>1.0</td>\n",
       "      <td>11.0</td>\n",
       "      <td>0.0</td>\n",
       "      <td>0.0</td>\n",
       "      <td>682.0</td>\n",
       "      <td>0.0</td>\n",
       "      <td>0.0</td>\n",
       "      <td>0.0</td>\n",
       "      <td>0.0</td>\n",
       "      <td>1.0</td>\n",
       "      <td>0.0</td>\n",
       "      <td>1.0</td>\n",
       "    </tr>\n",
       "    <tr>\n",
       "      <th>2</th>\n",
       "      <td>2.0</td>\n",
       "      <td>0.0</td>\n",
       "      <td>4.0</td>\n",
       "      <td>1.0</td>\n",
       "      <td>0.0</td>\n",
       "      <td>683.0</td>\n",
       "      <td>3.0</td>\n",
       "      <td>2.0</td>\n",
       "      <td>1.0</td>\n",
       "      <td>1.0</td>\n",
       "      <td>0.0</td>\n",
       "      <td>0.0</td>\n",
       "      <td>0.0</td>\n",
       "    </tr>\n",
       "    <tr>\n",
       "      <th>3</th>\n",
       "      <td>0.0</td>\n",
       "      <td>0.0</td>\n",
       "      <td>2.0</td>\n",
       "      <td>1.0</td>\n",
       "      <td>0.0</td>\n",
       "      <td>684.0</td>\n",
       "      <td>3.0</td>\n",
       "      <td>0.0</td>\n",
       "      <td>1.0</td>\n",
       "      <td>0.0</td>\n",
       "      <td>1.0</td>\n",
       "      <td>0.0</td>\n",
       "      <td>0.0</td>\n",
       "    </tr>\n",
       "    <tr>\n",
       "      <th>4</th>\n",
       "      <td>0.0</td>\n",
       "      <td>1.0</td>\n",
       "      <td>0.0</td>\n",
       "      <td>0.0</td>\n",
       "      <td>1.0</td>\n",
       "      <td>405.0</td>\n",
       "      <td>5.0</td>\n",
       "      <td>0.0</td>\n",
       "      <td>3.0</td>\n",
       "      <td>1.0</td>\n",
       "      <td>0.0</td>\n",
       "      <td>0.0</td>\n",
       "      <td>1.0</td>\n",
       "    </tr>\n",
       "    <tr>\n",
       "      <th>...</th>\n",
       "      <td>...</td>\n",
       "      <td>...</td>\n",
       "      <td>...</td>\n",
       "      <td>...</td>\n",
       "      <td>...</td>\n",
       "      <td>...</td>\n",
       "      <td>...</td>\n",
       "      <td>...</td>\n",
       "      <td>...</td>\n",
       "      <td>...</td>\n",
       "      <td>...</td>\n",
       "      <td>...</td>\n",
       "      <td>...</td>\n",
       "    </tr>\n",
       "    <tr>\n",
       "      <th>413</th>\n",
       "      <td>0.0</td>\n",
       "      <td>0.0</td>\n",
       "      <td>3.0</td>\n",
       "      <td>1.0</td>\n",
       "      <td>0.0</td>\n",
       "      <td>926.0</td>\n",
       "      <td>2.0</td>\n",
       "      <td>0.0</td>\n",
       "      <td>1.0</td>\n",
       "      <td>1.0</td>\n",
       "      <td>0.0</td>\n",
       "      <td>0.0</td>\n",
       "      <td>0.0</td>\n",
       "    </tr>\n",
       "    <tr>\n",
       "      <th>414</th>\n",
       "      <td>1.0</td>\n",
       "      <td>1.0</td>\n",
       "      <td>8.0</td>\n",
       "      <td>1.0</td>\n",
       "      <td>0.0</td>\n",
       "      <td>273.0</td>\n",
       "      <td>8.0</td>\n",
       "      <td>1.0</td>\n",
       "      <td>1.0</td>\n",
       "      <td>1.0</td>\n",
       "      <td>0.0</td>\n",
       "      <td>0.0</td>\n",
       "      <td>5.0</td>\n",
       "    </tr>\n",
       "    <tr>\n",
       "      <th>415</th>\n",
       "      <td>0.0</td>\n",
       "      <td>0.0</td>\n",
       "      <td>8.0</td>\n",
       "      <td>1.0</td>\n",
       "      <td>0.0</td>\n",
       "      <td>927.0</td>\n",
       "      <td>0.0</td>\n",
       "      <td>0.0</td>\n",
       "      <td>1.0</td>\n",
       "      <td>1.0</td>\n",
       "      <td>0.0</td>\n",
       "      <td>0.0</td>\n",
       "      <td>0.0</td>\n",
       "    </tr>\n",
       "    <tr>\n",
       "      <th>416</th>\n",
       "      <td>0.0</td>\n",
       "      <td>0.0</td>\n",
       "      <td>3.0</td>\n",
       "      <td>1.0</td>\n",
       "      <td>0.0</td>\n",
       "      <td>928.0</td>\n",
       "      <td>2.0</td>\n",
       "      <td>0.0</td>\n",
       "      <td>1.0</td>\n",
       "      <td>0.0</td>\n",
       "      <td>0.0</td>\n",
       "      <td>0.0</td>\n",
       "      <td>0.0</td>\n",
       "    </tr>\n",
       "    <tr>\n",
       "      <th>417</th>\n",
       "      <td>0.0</td>\n",
       "      <td>0.0</td>\n",
       "      <td>3.0</td>\n",
       "      <td>0.0</td>\n",
       "      <td>1.0</td>\n",
       "      <td>119.0</td>\n",
       "      <td>7.0</td>\n",
       "      <td>1.0</td>\n",
       "      <td>3.0</td>\n",
       "      <td>0.0</td>\n",
       "      <td>0.0</td>\n",
       "      <td>0.0</td>\n",
       "      <td>3.0</td>\n",
       "    </tr>\n",
       "  </tbody>\n",
       "</table>\n",
       "<p>418 rows × 13 columns</p>\n",
       "</div>"
      ],
      "text/plain": [
       "     Pclass  Sex   Age  SibSp  Parch  Ticket  Fare  Embarked  FamilySize  \\\n",
       "0       0.0  0.0   1.0    1.0    0.0   681.0   9.0       2.0         1.0   \n",
       "1       0.0  1.0  11.0    0.0    0.0   682.0   0.0       0.0         0.0   \n",
       "2       2.0  0.0   4.0    1.0    0.0   683.0   3.0       2.0         1.0   \n",
       "3       0.0  0.0   2.0    1.0    0.0   684.0   3.0       0.0         1.0   \n",
       "4       0.0  1.0   0.0    0.0    1.0   405.0   5.0       0.0         3.0   \n",
       "..      ...  ...   ...    ...    ...     ...   ...       ...         ...   \n",
       "413     0.0  0.0   3.0    1.0    0.0   926.0   2.0       0.0         1.0   \n",
       "414     1.0  1.0   8.0    1.0    0.0   273.0   8.0       1.0         1.0   \n",
       "415     0.0  0.0   8.0    1.0    0.0   927.0   0.0       0.0         1.0   \n",
       "416     0.0  0.0   3.0    1.0    0.0   928.0   2.0       0.0         1.0   \n",
       "417     0.0  0.0   3.0    0.0    1.0   119.0   7.0       1.0         3.0   \n",
       "\n",
       "     FamilyGroup  Deck  TicketFrequency  Title  \n",
       "0            0.0   0.0              0.0    0.0  \n",
       "1            0.0   1.0              0.0    1.0  \n",
       "2            1.0   0.0              0.0    0.0  \n",
       "3            0.0   1.0              0.0    0.0  \n",
       "4            1.0   0.0              0.0    1.0  \n",
       "..           ...   ...              ...    ...  \n",
       "413          1.0   0.0              0.0    0.0  \n",
       "414          1.0   0.0              0.0    5.0  \n",
       "415          1.0   0.0              0.0    0.0  \n",
       "416          0.0   0.0              0.0    0.0  \n",
       "417          0.0   0.0              0.0    3.0  \n",
       "\n",
       "[418 rows x 13 columns]"
      ]
     },
     "execution_count": 48,
     "metadata": {},
     "output_type": "execute_result"
    }
   ],
   "source": [
    "df_test"
   ]
  },
  {
   "cell_type": "code",
   "execution_count": 49,
   "id": "b3fbc3d2",
   "metadata": {
    "execution": {
     "iopub.execute_input": "2022-04-17T04:16:42.177154Z",
     "iopub.status.busy": "2022-04-17T04:16:42.176835Z",
     "iopub.status.idle": "2022-04-17T04:16:42.230548Z",
     "shell.execute_reply": "2022-04-17T04:16:42.229763Z"
    },
    "id": "Enjs4jzPWAyz",
    "papermill": {
     "duration": 0.177245,
     "end_time": "2022-04-17T04:16:42.232883",
     "exception": false,
     "start_time": "2022-04-17T04:16:42.055638",
     "status": "completed"
    },
    "tags": []
   },
   "outputs": [],
   "source": [
    "from sklearn.impute import KNNImputer"
   ]
  },
  {
   "cell_type": "code",
   "execution_count": 50,
   "id": "d87b3767",
   "metadata": {
    "execution": {
     "iopub.execute_input": "2022-04-17T04:16:42.471391Z",
     "iopub.status.busy": "2022-04-17T04:16:42.470781Z",
     "iopub.status.idle": "2022-04-17T04:16:42.475041Z",
     "shell.execute_reply": "2022-04-17T04:16:42.474193Z"
    },
    "id": "5aaZNHRIWH5z",
    "papermill": {
     "duration": 0.125744,
     "end_time": "2022-04-17T04:16:42.477051",
     "exception": false,
     "start_time": "2022-04-17T04:16:42.351307",
     "status": "completed"
    },
    "tags": []
   },
   "outputs": [],
   "source": [
    "imp = KNNImputer()"
   ]
  },
  {
   "cell_type": "code",
   "execution_count": 51,
   "id": "af6b3a6d",
   "metadata": {
    "execution": {
     "iopub.execute_input": "2022-04-17T04:16:42.715182Z",
     "iopub.status.busy": "2022-04-17T04:16:42.714725Z",
     "iopub.status.idle": "2022-04-17T04:16:42.723766Z",
     "shell.execute_reply": "2022-04-17T04:16:42.723141Z"
    },
    "id": "Tz-7xXmdRB-V",
    "papermill": {
     "duration": 0.130426,
     "end_time": "2022-04-17T04:16:42.725948",
     "exception": false,
     "start_time": "2022-04-17T04:16:42.595522",
     "status": "completed"
    },
    "tags": []
   },
   "outputs": [],
   "source": [
    "df = pd.DataFrame(imp.fit_transform(df.values), columns=df.columns)\n",
    "df_test = pd.DataFrame(imp.fit_transform(df_test.values), columns=df_test.columns)"
   ]
  },
  {
   "cell_type": "code",
   "execution_count": 52,
   "id": "17cb9b99",
   "metadata": {
    "execution": {
     "iopub.execute_input": "2022-04-17T04:16:42.965596Z",
     "iopub.status.busy": "2022-04-17T04:16:42.965163Z",
     "iopub.status.idle": "2022-04-17T04:16:42.970846Z",
     "shell.execute_reply": "2022-04-17T04:16:42.970214Z"
    },
    "id": "_2PeISJITa_-",
    "papermill": {
     "duration": 0.128909,
     "end_time": "2022-04-17T04:16:42.972823",
     "exception": false,
     "start_time": "2022-04-17T04:16:42.843914",
     "status": "completed"
    },
    "tags": []
   },
   "outputs": [],
   "source": [
    "df['Embarked'] = df['Embarked'].astype(int)\n",
    "df_test['Embarked'] = df_test['Embarked'].astype(int)"
   ]
  },
  {
   "cell_type": "code",
   "execution_count": 53,
   "id": "ec6c04a4",
   "metadata": {
    "execution": {
     "iopub.execute_input": "2022-04-17T04:16:43.213555Z",
     "iopub.status.busy": "2022-04-17T04:16:43.213102Z",
     "iopub.status.idle": "2022-04-17T04:16:43.228970Z",
     "shell.execute_reply": "2022-04-17T04:16:43.227988Z"
    },
    "id": "QrXJ6LlVSKgU",
    "outputId": "59c36e25-6db4-4b25-cca5-6f6947b544fc",
    "papermill": {
     "duration": 0.138435,
     "end_time": "2022-04-17T04:16:43.231750",
     "exception": false,
     "start_time": "2022-04-17T04:16:43.093315",
     "status": "completed"
    },
    "tags": []
   },
   "outputs": [
    {
     "name": "stdout",
     "output_type": "stream",
     "text": [
      "key: Survived, unique: 2\n",
      "key: Pclass, unique: 3\n",
      "key: Sex, unique: 2\n",
      "key: Age, unique: 12\n",
      "key: SibSp, unique: 7\n",
      "key: Parch, unique: 7\n",
      "key: Ticket, unique: 681\n",
      "key: Fare, unique: 11\n",
      "key: Embarked, unique: 3\n",
      "key: FamilySize, unique: 9\n",
      "key: FamilyGroup, unique: 4\n",
      "key: Deck, unique: 9\n",
      "key: TicketFrequency, unique: 7\n",
      "key: Title, unique: 5\n",
      "----------\n",
      "key: Pclass, unique: 3\n",
      "key: Sex, unique: 2\n",
      "key: Age, unique: 13\n",
      "key: SibSp, unique: 7\n",
      "key: Parch, unique: 8\n",
      "key: Ticket, unique: 363\n",
      "key: Fare, unique: 11\n",
      "key: Embarked, unique: 3\n",
      "key: FamilySize, unique: 9\n",
      "key: FamilyGroup, unique: 4\n",
      "key: Deck, unique: 9\n",
      "key: TicketFrequency, unique: 5\n",
      "key: Title, unique: 6\n"
     ]
    }
   ],
   "source": [
    "for i in df:\n",
    "    print(f'key: {i}, unique: {df[i].nunique()}')\n",
    "print('-'*10)\n",
    "for i in df_test:\n",
    "    print(f'key: {i}, unique: {df_test[i].nunique()}') "
   ]
  },
  {
   "cell_type": "code",
   "execution_count": 54,
   "id": "a20462d5",
   "metadata": {
    "execution": {
     "iopub.execute_input": "2022-04-17T04:16:43.471614Z",
     "iopub.status.busy": "2022-04-17T04:16:43.470874Z",
     "iopub.status.idle": "2022-04-17T04:16:43.474683Z",
     "shell.execute_reply": "2022-04-17T04:16:43.473919Z"
    },
    "id": "FP2J1a09lEFc",
    "outputId": "9a31fc88-afde-41b3-924e-2d43a303a33f",
    "papermill": {
     "duration": 0.125653,
     "end_time": "2022-04-17T04:16:43.476525",
     "exception": false,
     "start_time": "2022-04-17T04:16:43.350872",
     "status": "completed"
    },
    "tags": []
   },
   "outputs": [],
   "source": [
    "combined = df, df_test"
   ]
  },
  {
   "cell_type": "code",
   "execution_count": 55,
   "id": "e0e926c0",
   "metadata": {
    "execution": {
     "iopub.execute_input": "2022-04-17T04:16:43.714773Z",
     "iopub.status.busy": "2022-04-17T04:16:43.714209Z",
     "iopub.status.idle": "2022-04-17T04:16:43.720207Z",
     "shell.execute_reply": "2022-04-17T04:16:43.719615Z"
    },
    "id": "IbP9tiwPd8O0",
    "papermill": {
     "duration": 0.127508,
     "end_time": "2022-04-17T04:16:43.722183",
     "exception": false,
     "start_time": "2022-04-17T04:16:43.594675",
     "status": "completed"
    },
    "tags": []
   },
   "outputs": [],
   "source": [
    "for dataset in combined:\n",
    "    dataset = dataset.drop(['SibSp', 'Parch', 'Ticket'], axis=1)"
   ]
  },
  {
   "cell_type": "code",
   "execution_count": 56,
   "id": "6a5d8863",
   "metadata": {
    "execution": {
     "iopub.execute_input": "2022-04-17T04:16:43.964970Z",
     "iopub.status.busy": "2022-04-17T04:16:43.964408Z",
     "iopub.status.idle": "2022-04-17T04:16:43.994620Z",
     "shell.execute_reply": "2022-04-17T04:16:43.993790Z"
    },
    "papermill": {
     "duration": 0.152636,
     "end_time": "2022-04-17T04:16:43.996829",
     "exception": false,
     "start_time": "2022-04-17T04:16:43.844193",
     "status": "completed"
    },
    "tags": []
   },
   "outputs": [
    {
     "data": {
      "text/html": [
       "<div>\n",
       "<style scoped>\n",
       "    .dataframe tbody tr th:only-of-type {\n",
       "        vertical-align: middle;\n",
       "    }\n",
       "\n",
       "    .dataframe tbody tr th {\n",
       "        vertical-align: top;\n",
       "    }\n",
       "\n",
       "    .dataframe thead th {\n",
       "        text-align: right;\n",
       "    }\n",
       "</style>\n",
       "<table border=\"1\" class=\"dataframe\">\n",
       "  <thead>\n",
       "    <tr style=\"text-align: right;\">\n",
       "      <th></th>\n",
       "      <th>Pclass</th>\n",
       "      <th>Sex</th>\n",
       "      <th>Age</th>\n",
       "      <th>SibSp</th>\n",
       "      <th>Parch</th>\n",
       "      <th>Ticket</th>\n",
       "      <th>Fare</th>\n",
       "      <th>Embarked</th>\n",
       "      <th>FamilySize</th>\n",
       "      <th>FamilyGroup</th>\n",
       "      <th>Deck</th>\n",
       "      <th>TicketFrequency</th>\n",
       "      <th>Title</th>\n",
       "    </tr>\n",
       "  </thead>\n",
       "  <tbody>\n",
       "    <tr>\n",
       "      <th>0</th>\n",
       "      <td>0.0</td>\n",
       "      <td>0.0</td>\n",
       "      <td>1.0</td>\n",
       "      <td>1.0</td>\n",
       "      <td>0.0</td>\n",
       "      <td>681.0</td>\n",
       "      <td>9.0</td>\n",
       "      <td>2</td>\n",
       "      <td>1.0</td>\n",
       "      <td>0.0</td>\n",
       "      <td>0.0</td>\n",
       "      <td>0.0</td>\n",
       "      <td>0.0</td>\n",
       "    </tr>\n",
       "    <tr>\n",
       "      <th>1</th>\n",
       "      <td>0.0</td>\n",
       "      <td>1.0</td>\n",
       "      <td>11.0</td>\n",
       "      <td>0.0</td>\n",
       "      <td>0.0</td>\n",
       "      <td>682.0</td>\n",
       "      <td>0.0</td>\n",
       "      <td>0</td>\n",
       "      <td>0.0</td>\n",
       "      <td>0.0</td>\n",
       "      <td>1.0</td>\n",
       "      <td>0.0</td>\n",
       "      <td>1.0</td>\n",
       "    </tr>\n",
       "    <tr>\n",
       "      <th>2</th>\n",
       "      <td>2.0</td>\n",
       "      <td>0.0</td>\n",
       "      <td>4.0</td>\n",
       "      <td>1.0</td>\n",
       "      <td>0.0</td>\n",
       "      <td>683.0</td>\n",
       "      <td>3.0</td>\n",
       "      <td>2</td>\n",
       "      <td>1.0</td>\n",
       "      <td>1.0</td>\n",
       "      <td>0.0</td>\n",
       "      <td>0.0</td>\n",
       "      <td>0.0</td>\n",
       "    </tr>\n",
       "    <tr>\n",
       "      <th>3</th>\n",
       "      <td>0.0</td>\n",
       "      <td>0.0</td>\n",
       "      <td>2.0</td>\n",
       "      <td>1.0</td>\n",
       "      <td>0.0</td>\n",
       "      <td>684.0</td>\n",
       "      <td>3.0</td>\n",
       "      <td>0</td>\n",
       "      <td>1.0</td>\n",
       "      <td>0.0</td>\n",
       "      <td>1.0</td>\n",
       "      <td>0.0</td>\n",
       "      <td>0.0</td>\n",
       "    </tr>\n",
       "    <tr>\n",
       "      <th>4</th>\n",
       "      <td>0.0</td>\n",
       "      <td>1.0</td>\n",
       "      <td>0.0</td>\n",
       "      <td>0.0</td>\n",
       "      <td>1.0</td>\n",
       "      <td>405.0</td>\n",
       "      <td>5.0</td>\n",
       "      <td>0</td>\n",
       "      <td>3.0</td>\n",
       "      <td>1.0</td>\n",
       "      <td>0.0</td>\n",
       "      <td>0.0</td>\n",
       "      <td>1.0</td>\n",
       "    </tr>\n",
       "    <tr>\n",
       "      <th>...</th>\n",
       "      <td>...</td>\n",
       "      <td>...</td>\n",
       "      <td>...</td>\n",
       "      <td>...</td>\n",
       "      <td>...</td>\n",
       "      <td>...</td>\n",
       "      <td>...</td>\n",
       "      <td>...</td>\n",
       "      <td>...</td>\n",
       "      <td>...</td>\n",
       "      <td>...</td>\n",
       "      <td>...</td>\n",
       "      <td>...</td>\n",
       "    </tr>\n",
       "    <tr>\n",
       "      <th>413</th>\n",
       "      <td>0.0</td>\n",
       "      <td>0.0</td>\n",
       "      <td>3.0</td>\n",
       "      <td>1.0</td>\n",
       "      <td>0.0</td>\n",
       "      <td>926.0</td>\n",
       "      <td>2.0</td>\n",
       "      <td>0</td>\n",
       "      <td>1.0</td>\n",
       "      <td>1.0</td>\n",
       "      <td>0.0</td>\n",
       "      <td>0.0</td>\n",
       "      <td>0.0</td>\n",
       "    </tr>\n",
       "    <tr>\n",
       "      <th>414</th>\n",
       "      <td>1.0</td>\n",
       "      <td>1.0</td>\n",
       "      <td>8.0</td>\n",
       "      <td>1.0</td>\n",
       "      <td>0.0</td>\n",
       "      <td>273.0</td>\n",
       "      <td>8.0</td>\n",
       "      <td>1</td>\n",
       "      <td>1.0</td>\n",
       "      <td>1.0</td>\n",
       "      <td>0.0</td>\n",
       "      <td>0.0</td>\n",
       "      <td>5.0</td>\n",
       "    </tr>\n",
       "    <tr>\n",
       "      <th>415</th>\n",
       "      <td>0.0</td>\n",
       "      <td>0.0</td>\n",
       "      <td>8.0</td>\n",
       "      <td>1.0</td>\n",
       "      <td>0.0</td>\n",
       "      <td>927.0</td>\n",
       "      <td>0.0</td>\n",
       "      <td>0</td>\n",
       "      <td>1.0</td>\n",
       "      <td>1.0</td>\n",
       "      <td>0.0</td>\n",
       "      <td>0.0</td>\n",
       "      <td>0.0</td>\n",
       "    </tr>\n",
       "    <tr>\n",
       "      <th>416</th>\n",
       "      <td>0.0</td>\n",
       "      <td>0.0</td>\n",
       "      <td>3.0</td>\n",
       "      <td>1.0</td>\n",
       "      <td>0.0</td>\n",
       "      <td>928.0</td>\n",
       "      <td>2.0</td>\n",
       "      <td>0</td>\n",
       "      <td>1.0</td>\n",
       "      <td>0.0</td>\n",
       "      <td>0.0</td>\n",
       "      <td>0.0</td>\n",
       "      <td>0.0</td>\n",
       "    </tr>\n",
       "    <tr>\n",
       "      <th>417</th>\n",
       "      <td>0.0</td>\n",
       "      <td>0.0</td>\n",
       "      <td>3.0</td>\n",
       "      <td>0.0</td>\n",
       "      <td>1.0</td>\n",
       "      <td>119.0</td>\n",
       "      <td>7.0</td>\n",
       "      <td>1</td>\n",
       "      <td>3.0</td>\n",
       "      <td>0.0</td>\n",
       "      <td>0.0</td>\n",
       "      <td>0.0</td>\n",
       "      <td>3.0</td>\n",
       "    </tr>\n",
       "  </tbody>\n",
       "</table>\n",
       "<p>418 rows × 13 columns</p>\n",
       "</div>"
      ],
      "text/plain": [
       "     Pclass  Sex   Age  SibSp  Parch  Ticket  Fare  Embarked  FamilySize  \\\n",
       "0       0.0  0.0   1.0    1.0    0.0   681.0   9.0         2         1.0   \n",
       "1       0.0  1.0  11.0    0.0    0.0   682.0   0.0         0         0.0   \n",
       "2       2.0  0.0   4.0    1.0    0.0   683.0   3.0         2         1.0   \n",
       "3       0.0  0.0   2.0    1.0    0.0   684.0   3.0         0         1.0   \n",
       "4       0.0  1.0   0.0    0.0    1.0   405.0   5.0         0         3.0   \n",
       "..      ...  ...   ...    ...    ...     ...   ...       ...         ...   \n",
       "413     0.0  0.0   3.0    1.0    0.0   926.0   2.0         0         1.0   \n",
       "414     1.0  1.0   8.0    1.0    0.0   273.0   8.0         1         1.0   \n",
       "415     0.0  0.0   8.0    1.0    0.0   927.0   0.0         0         1.0   \n",
       "416     0.0  0.0   3.0    1.0    0.0   928.0   2.0         0         1.0   \n",
       "417     0.0  0.0   3.0    0.0    1.0   119.0   7.0         1         3.0   \n",
       "\n",
       "     FamilyGroup  Deck  TicketFrequency  Title  \n",
       "0            0.0   0.0              0.0    0.0  \n",
       "1            0.0   1.0              0.0    1.0  \n",
       "2            1.0   0.0              0.0    0.0  \n",
       "3            0.0   1.0              0.0    0.0  \n",
       "4            1.0   0.0              0.0    1.0  \n",
       "..           ...   ...              ...    ...  \n",
       "413          1.0   0.0              0.0    0.0  \n",
       "414          1.0   0.0              0.0    5.0  \n",
       "415          1.0   0.0              0.0    0.0  \n",
       "416          0.0   0.0              0.0    0.0  \n",
       "417          0.0   0.0              0.0    3.0  \n",
       "\n",
       "[418 rows x 13 columns]"
      ]
     },
     "execution_count": 56,
     "metadata": {},
     "output_type": "execute_result"
    }
   ],
   "source": [
    "df_test"
   ]
  },
  {
   "cell_type": "code",
   "execution_count": 57,
   "id": "66f7eab0",
   "metadata": {
    "execution": {
     "iopub.execute_input": "2022-04-17T04:16:44.238993Z",
     "iopub.status.busy": "2022-04-17T04:16:44.238438Z",
     "iopub.status.idle": "2022-04-17T04:16:45.232720Z",
     "shell.execute_reply": "2022-04-17T04:16:45.231923Z"
    },
    "id": "yQY-eDmpvmB4",
    "papermill": {
     "duration": 1.11749,
     "end_time": "2022-04-17T04:16:45.235182",
     "exception": false,
     "start_time": "2022-04-17T04:16:44.117692",
     "status": "completed"
    },
    "tags": []
   },
   "outputs": [],
   "source": [
    "from torch.nn import *\n",
    "from torch import nn"
   ]
  },
  {
   "cell_type": "code",
   "execution_count": 58,
   "id": "b03dec6a",
   "metadata": {
    "execution": {
     "iopub.execute_input": "2022-04-17T04:16:45.476222Z",
     "iopub.status.busy": "2022-04-17T04:16:45.475694Z",
     "iopub.status.idle": "2022-04-17T04:16:45.627091Z",
     "shell.execute_reply": "2022-04-17T04:16:45.626441Z"
    },
    "id": "sCqvCatNdRwA",
    "papermill": {
     "duration": 0.274431,
     "end_time": "2022-04-17T04:16:45.629486",
     "exception": false,
     "start_time": "2022-04-17T04:16:45.355055",
     "status": "completed"
    },
    "tags": []
   },
   "outputs": [],
   "source": [
    "from torch.utils.data import Dataset\n",
    "from torch.utils.data import DataLoader\n",
    "import torch\n",
    "from fastai.tabular.all import *"
   ]
  },
  {
   "cell_type": "code",
   "execution_count": 59,
   "id": "fdd93062",
   "metadata": {
    "execution": {
     "iopub.execute_input": "2022-04-17T04:16:45.874007Z",
     "iopub.status.busy": "2022-04-17T04:16:45.873482Z",
     "iopub.status.idle": "2022-04-17T04:16:45.884476Z",
     "shell.execute_reply": "2022-04-17T04:16:45.883905Z"
    },
    "id": "iVvb5NIslsVH",
    "outputId": "762ee406-fe9c-4e50-ead3-2f1e8a3c2161",
    "papermill": {
     "duration": 0.137655,
     "end_time": "2022-04-17T04:16:45.887791",
     "exception": false,
     "start_time": "2022-04-17T04:16:45.750136",
     "status": "completed"
    },
    "tags": []
   },
   "outputs": [
    {
     "data": {
      "text/plain": [
       "3"
      ]
     },
     "execution_count": 59,
     "metadata": {},
     "output_type": "execute_result"
    }
   ],
   "source": [
    "cat = df[['Pclass', 'Sex', 'SibSp', 'Parch', 'Embarked', 'Title']]\n",
    "cont = df[['Age', 'Fare']]\n",
    "cat.join(cont).iloc[0]\n",
    "dv = df['Survived']\n",
    "dv.iloc[0]\n",
    "df.index[3]"
   ]
  },
  {
   "cell_type": "code",
   "execution_count": null,
   "id": "af458352",
   "metadata": {
    "papermill": {
     "duration": 0.119968,
     "end_time": "2022-04-17T04:16:46.133735",
     "exception": false,
     "start_time": "2022-04-17T04:16:46.013767",
     "status": "completed"
    },
    "tags": []
   },
   "outputs": [],
   "source": []
  },
  {
   "cell_type": "code",
   "execution_count": 60,
   "id": "5fad0012",
   "metadata": {
    "execution": {
     "iopub.execute_input": "2022-04-17T04:16:46.374663Z",
     "iopub.status.busy": "2022-04-17T04:16:46.374137Z",
     "iopub.status.idle": "2022-04-17T04:16:46.378860Z",
     "shell.execute_reply": "2022-04-17T04:16:46.378279Z"
    },
    "id": "r5iKlPmmnUUz",
    "papermill": {
     "duration": 0.127521,
     "end_time": "2022-04-17T04:16:46.380807",
     "exception": false,
     "start_time": "2022-04-17T04:16:46.253286",
     "status": "completed"
    },
    "tags": []
   },
   "outputs": [],
   "source": [
    "def randomSplit(df, valid_ratio=0.2, random_state=None):\n",
    "    split_idx = int(len(df.index)*(valid_ratio))\n",
    "    shuffled_df = df.sample(frac=1, random_state=random_state)\n",
    "    return shuffled_df.iloc[split_idx:], shuffled_df[:split_idx]"
   ]
  },
  {
   "cell_type": "code",
   "execution_count": 61,
   "id": "a649b1bd",
   "metadata": {
    "execution": {
     "iopub.execute_input": "2022-04-17T04:16:46.624442Z",
     "iopub.status.busy": "2022-04-17T04:16:46.623934Z",
     "iopub.status.idle": "2022-04-17T04:16:46.632083Z",
     "shell.execute_reply": "2022-04-17T04:16:46.631346Z"
    },
    "id": "1lSV1oU8bwAM",
    "papermill": {
     "duration": 0.132072,
     "end_time": "2022-04-17T04:16:46.634145",
     "exception": false,
     "start_time": "2022-04-17T04:16:46.502073",
     "status": "completed"
    },
    "tags": []
   },
   "outputs": [],
   "source": [
    "class TitanicDataset(Dataset):\n",
    "    def __init__(self, df, is_test=False):\n",
    "        self.is_test = is_test\n",
    "        self.df = df.copy()\n",
    "        self.cat = self.df[['Pclass', 'Sex', 'Embarked', 'Title', 'FamilyGroup', 'Deck' ,'Age', 'Fare', 'TicketFrequency', 'FamilySize']].astype(int)\n",
    "        self.cont = self.df[[]]\n",
    "        self.res_df = self.cat.join(self.cont)\n",
    "        if not(is_test):\n",
    "            self.dep_var = self.df['Survived'].astype(int)\n",
    "        self.columns = self.res_df.columns\n",
    "    def __len__(self):\n",
    "        return len(self.df)\n",
    "    def __getitem__(self, idx):\n",
    "        if self.is_test:\n",
    "            return self.res_df.iloc[idx].values\n",
    "        else:\n",
    "            return self.res_df.iloc[idx].values, self.dep_var.iloc[idx]"
   ]
  },
  {
   "cell_type": "code",
   "execution_count": 62,
   "id": "6afe6bad",
   "metadata": {
    "execution": {
     "iopub.execute_input": "2022-04-17T04:16:46.874494Z",
     "iopub.status.busy": "2022-04-17T04:16:46.873928Z",
     "iopub.status.idle": "2022-04-17T04:16:46.879646Z",
     "shell.execute_reply": "2022-04-17T04:16:46.878829Z"
    },
    "id": "p1ihRqhs2kz-",
    "papermill": {
     "duration": 0.128797,
     "end_time": "2022-04-17T04:16:46.881817",
     "exception": false,
     "start_time": "2022-04-17T04:16:46.753020",
     "status": "completed"
    },
    "tags": []
   },
   "outputs": [],
   "source": [
    "train_df, valid_df = randomSplit(df)"
   ]
  },
  {
   "cell_type": "code",
   "execution_count": 63,
   "id": "f4ae2bc2",
   "metadata": {
    "execution": {
     "iopub.execute_input": "2022-04-17T04:16:47.122081Z",
     "iopub.status.busy": "2022-04-17T04:16:47.121584Z",
     "iopub.status.idle": "2022-04-17T04:16:47.148600Z",
     "shell.execute_reply": "2022-04-17T04:16:47.148081Z"
    },
    "id": "XTcoFKendkpz",
    "papermill": {
     "duration": 0.149093,
     "end_time": "2022-04-17T04:16:47.150394",
     "exception": false,
     "start_time": "2022-04-17T04:16:47.001301",
     "status": "completed"
    },
    "tags": []
   },
   "outputs": [
    {
     "data": {
      "text/html": [
       "<div>\n",
       "<style scoped>\n",
       "    .dataframe tbody tr th:only-of-type {\n",
       "        vertical-align: middle;\n",
       "    }\n",
       "\n",
       "    .dataframe tbody tr th {\n",
       "        vertical-align: top;\n",
       "    }\n",
       "\n",
       "    .dataframe thead th {\n",
       "        text-align: right;\n",
       "    }\n",
       "</style>\n",
       "<table border=\"1\" class=\"dataframe\">\n",
       "  <thead>\n",
       "    <tr style=\"text-align: right;\">\n",
       "      <th></th>\n",
       "      <th>Pclass</th>\n",
       "      <th>Sex</th>\n",
       "      <th>Embarked</th>\n",
       "      <th>Title</th>\n",
       "      <th>FamilyGroup</th>\n",
       "      <th>Deck</th>\n",
       "      <th>Age</th>\n",
       "      <th>Fare</th>\n",
       "      <th>TicketFrequency</th>\n",
       "      <th>FamilySize</th>\n",
       "    </tr>\n",
       "  </thead>\n",
       "  <tbody>\n",
       "    <tr>\n",
       "      <th>589</th>\n",
       "      <td>0</td>\n",
       "      <td>0</td>\n",
       "      <td>0</td>\n",
       "      <td>0</td>\n",
       "      <td>1</td>\n",
       "      <td>0</td>\n",
       "      <td>3</td>\n",
       "      <td>2</td>\n",
       "      <td>0</td>\n",
       "      <td>1</td>\n",
       "    </tr>\n",
       "    <tr>\n",
       "      <th>429</th>\n",
       "      <td>0</td>\n",
       "      <td>0</td>\n",
       "      <td>0</td>\n",
       "      <td>0</td>\n",
       "      <td>1</td>\n",
       "      <td>2</td>\n",
       "      <td>10</td>\n",
       "      <td>2</td>\n",
       "      <td>0</td>\n",
       "      <td>1</td>\n",
       "    </tr>\n",
       "    <tr>\n",
       "      <th>239</th>\n",
       "      <td>2</td>\n",
       "      <td>0</td>\n",
       "      <td>0</td>\n",
       "      <td>0</td>\n",
       "      <td>1</td>\n",
       "      <td>0</td>\n",
       "      <td>10</td>\n",
       "      <td>5</td>\n",
       "      <td>0</td>\n",
       "      <td>1</td>\n",
       "    </tr>\n",
       "    <tr>\n",
       "      <th>706</th>\n",
       "      <td>2</td>\n",
       "      <td>1</td>\n",
       "      <td>0</td>\n",
       "      <td>1</td>\n",
       "      <td>1</td>\n",
       "      <td>0</td>\n",
       "      <td>11</td>\n",
       "      <td>5</td>\n",
       "      <td>0</td>\n",
       "      <td>1</td>\n",
       "    </tr>\n",
       "    <tr>\n",
       "      <th>478</th>\n",
       "      <td>0</td>\n",
       "      <td>0</td>\n",
       "      <td>0</td>\n",
       "      <td>0</td>\n",
       "      <td>1</td>\n",
       "      <td>0</td>\n",
       "      <td>0</td>\n",
       "      <td>0</td>\n",
       "      <td>0</td>\n",
       "      <td>1</td>\n",
       "    </tr>\n",
       "    <tr>\n",
       "      <th>...</th>\n",
       "      <td>...</td>\n",
       "      <td>...</td>\n",
       "      <td>...</td>\n",
       "      <td>...</td>\n",
       "      <td>...</td>\n",
       "      <td>...</td>\n",
       "      <td>...</td>\n",
       "      <td>...</td>\n",
       "      <td>...</td>\n",
       "      <td>...</td>\n",
       "    </tr>\n",
       "    <tr>\n",
       "      <th>63</th>\n",
       "      <td>0</td>\n",
       "      <td>0</td>\n",
       "      <td>0</td>\n",
       "      <td>3</td>\n",
       "      <td>2</td>\n",
       "      <td>0</td>\n",
       "      <td>5</td>\n",
       "      <td>6</td>\n",
       "      <td>6</td>\n",
       "      <td>5</td>\n",
       "    </tr>\n",
       "    <tr>\n",
       "      <th>360</th>\n",
       "      <td>0</td>\n",
       "      <td>0</td>\n",
       "      <td>0</td>\n",
       "      <td>0</td>\n",
       "      <td>2</td>\n",
       "      <td>0</td>\n",
       "      <td>8</td>\n",
       "      <td>6</td>\n",
       "      <td>6</td>\n",
       "      <td>5</td>\n",
       "    </tr>\n",
       "    <tr>\n",
       "      <th>386</th>\n",
       "      <td>0</td>\n",
       "      <td>0</td>\n",
       "      <td>0</td>\n",
       "      <td>3</td>\n",
       "      <td>3</td>\n",
       "      <td>0</td>\n",
       "      <td>5</td>\n",
       "      <td>1</td>\n",
       "      <td>6</td>\n",
       "      <td>7</td>\n",
       "    </tr>\n",
       "    <tr>\n",
       "      <th>167</th>\n",
       "      <td>0</td>\n",
       "      <td>1</td>\n",
       "      <td>0</td>\n",
       "      <td>1</td>\n",
       "      <td>2</td>\n",
       "      <td>0</td>\n",
       "      <td>11</td>\n",
       "      <td>6</td>\n",
       "      <td>6</td>\n",
       "      <td>5</td>\n",
       "    </tr>\n",
       "    <tr>\n",
       "      <th>686</th>\n",
       "      <td>0</td>\n",
       "      <td>0</td>\n",
       "      <td>0</td>\n",
       "      <td>0</td>\n",
       "      <td>2</td>\n",
       "      <td>0</td>\n",
       "      <td>6</td>\n",
       "      <td>6</td>\n",
       "      <td>6</td>\n",
       "      <td>5</td>\n",
       "    </tr>\n",
       "  </tbody>\n",
       "</table>\n",
       "<p>713 rows × 10 columns</p>\n",
       "</div>"
      ],
      "text/plain": [
       "     Pclass  Sex  Embarked  Title  FamilyGroup  Deck  Age  Fare  \\\n",
       "589       0    0         0      0            1     0    3     2   \n",
       "429       0    0         0      0            1     2   10     2   \n",
       "239       2    0         0      0            1     0   10     5   \n",
       "706       2    1         0      1            1     0   11     5   \n",
       "478       0    0         0      0            1     0    0     0   \n",
       "..      ...  ...       ...    ...          ...   ...  ...   ...   \n",
       "63        0    0         0      3            2     0    5     6   \n",
       "360       0    0         0      0            2     0    8     6   \n",
       "386       0    0         0      3            3     0    5     1   \n",
       "167       0    1         0      1            2     0   11     6   \n",
       "686       0    0         0      0            2     0    6     6   \n",
       "\n",
       "     TicketFrequency  FamilySize  \n",
       "589                0           1  \n",
       "429                0           1  \n",
       "239                0           1  \n",
       "706                0           1  \n",
       "478                0           1  \n",
       "..               ...         ...  \n",
       "63                 6           5  \n",
       "360                6           5  \n",
       "386                6           7  \n",
       "167                6           5  \n",
       "686                6           5  \n",
       "\n",
       "[713 rows x 10 columns]"
      ]
     },
     "execution_count": 63,
     "metadata": {},
     "output_type": "execute_result"
    }
   ],
   "source": [
    "full_td = TitanicDataset(df)\n",
    "td = TitanicDataset(train_df)\n",
    "valid_td = TitanicDataset(valid_df)\n",
    "test_ds = TitanicDataset(df_test, is_test=True)\n",
    "in_columns = td.columns\n",
    "cat_columns = td.cat.columns\n",
    "cat_n = len(td.cat.columns)\n",
    "cont_n = len(td.cont.columns)\n",
    "td.res_df.sort_values('TicketFrequency')"
   ]
  },
  {
   "cell_type": "code",
   "execution_count": 64,
   "id": "1a992b61",
   "metadata": {
    "execution": {
     "iopub.execute_input": "2022-04-17T04:16:47.393642Z",
     "iopub.status.busy": "2022-04-17T04:16:47.393109Z",
     "iopub.status.idle": "2022-04-17T04:16:47.397013Z",
     "shell.execute_reply": "2022-04-17T04:16:47.396468Z"
    },
    "id": "IF6pEYPndx2Q",
    "papermill": {
     "duration": 0.127508,
     "end_time": "2022-04-17T04:16:47.398788",
     "exception": false,
     "start_time": "2022-04-17T04:16:47.271280",
     "status": "completed"
    },
    "tags": []
   },
   "outputs": [],
   "source": [
    "dl = DataLoader(td, batch_size=64)\n",
    "valid_dl = DataLoader(valid_td, batch_size=64)"
   ]
  },
  {
   "cell_type": "code",
   "execution_count": 65,
   "id": "c6997cfb",
   "metadata": {
    "execution": {
     "iopub.execute_input": "2022-04-17T04:16:47.640229Z",
     "iopub.status.busy": "2022-04-17T04:16:47.639677Z",
     "iopub.status.idle": "2022-04-17T04:16:47.643010Z",
     "shell.execute_reply": "2022-04-17T04:16:47.642444Z"
    },
    "id": "C-Z5pgpf2085",
    "papermill": {
     "duration": 0.126249,
     "end_time": "2022-04-17T04:16:47.644878",
     "exception": false,
     "start_time": "2022-04-17T04:16:47.518629",
     "status": "completed"
    },
    "tags": []
   },
   "outputs": [],
   "source": [
    "iterdl = iter(dl)"
   ]
  },
  {
   "cell_type": "code",
   "execution_count": 66,
   "id": "7613af85",
   "metadata": {
    "execution": {
     "iopub.execute_input": "2022-04-17T04:16:47.884722Z",
     "iopub.status.busy": "2022-04-17T04:16:47.884451Z",
     "iopub.status.idle": "2022-04-17T04:16:47.947556Z",
     "shell.execute_reply": "2022-04-17T04:16:47.946709Z"
    },
    "papermill": {
     "duration": 0.185876,
     "end_time": "2022-04-17T04:16:47.949817",
     "exception": false,
     "start_time": "2022-04-17T04:16:47.763941",
     "status": "completed"
    },
    "tags": []
   },
   "outputs": [
    {
     "data": {
      "text/plain": [
       "tensor([0, 1, 3, 3, 0, 1, 3, 0, 3, 1, 3, 2, 4, 0, 1, 0, 1, 0, 0, 1, 2, 0, 6, 0,\n",
       "        2, 0, 0, 0, 0, 0, 0, 0, 1, 0, 1, 0, 0, 6, 2, 0, 0, 0, 2, 0, 0, 0, 0, 1,\n",
       "        6, 0, 0, 0, 0, 0, 0, 0, 1, 0, 3, 0, 0, 0, 0, 0])"
      ]
     },
     "execution_count": 66,
     "metadata": {},
     "output_type": "execute_result"
    }
   ],
   "source": [
    "next(iterdl)[0][:, 8]"
   ]
  },
  {
   "cell_type": "code",
   "execution_count": 67,
   "id": "2dfed6bf",
   "metadata": {
    "execution": {
     "iopub.execute_input": "2022-04-17T04:16:48.193472Z",
     "iopub.status.busy": "2022-04-17T04:16:48.192930Z",
     "iopub.status.idle": "2022-04-17T04:16:48.240002Z",
     "shell.execute_reply": "2022-04-17T04:16:48.239188Z"
    },
    "id": "_Somo8hF269x",
    "papermill": {
     "duration": 0.171908,
     "end_time": "2022-04-17T04:16:48.241931",
     "exception": false,
     "start_time": "2022-04-17T04:16:48.070023",
     "status": "completed"
    },
    "tags": []
   },
   "outputs": [
    {
     "data": {
      "text/plain": [
       "(418, 10)"
      ]
     },
     "execution_count": 67,
     "metadata": {},
     "output_type": "execute_result"
    }
   ],
   "source": [
    "np.array(test_ds).shape"
   ]
  },
  {
   "cell_type": "code",
   "execution_count": 68,
   "id": "529d1ccd",
   "metadata": {
    "execution": {
     "iopub.execute_input": "2022-04-17T04:16:48.484374Z",
     "iopub.status.busy": "2022-04-17T04:16:48.483878Z",
     "iopub.status.idle": "2022-04-17T04:16:48.495180Z",
     "shell.execute_reply": "2022-04-17T04:16:48.494483Z"
    },
    "id": "NcJc91Aqn1GJ",
    "papermill": {
     "duration": 0.134997,
     "end_time": "2022-04-17T04:16:48.497227",
     "exception": false,
     "start_time": "2022-04-17T04:16:48.362230",
     "status": "completed"
    },
    "tags": []
   },
   "outputs": [],
   "source": [
    "voc = []\n",
    "for s in cat_columns:\n",
    "    vn = pd.concat([td.cat[s], valid_td.cat[s], test_ds.cat[s]])\n",
    "    vn = vn.astype(int).nunique()\n",
    "    voc.append([vn, vn])\n"
   ]
  },
  {
   "cell_type": "code",
   "execution_count": 69,
   "id": "c5779c44",
   "metadata": {
    "execution": {
     "iopub.execute_input": "2022-04-17T04:16:48.739804Z",
     "iopub.status.busy": "2022-04-17T04:16:48.738885Z",
     "iopub.status.idle": "2022-04-17T04:16:48.745253Z",
     "shell.execute_reply": "2022-04-17T04:16:48.744477Z"
    },
    "id": "J12RmbwluPKD",
    "outputId": "ca50b868-385e-4f83-8287-84e30513cec2",
    "papermill": {
     "duration": 0.129381,
     "end_time": "2022-04-17T04:16:48.747230",
     "exception": false,
     "start_time": "2022-04-17T04:16:48.617849",
     "status": "completed"
    },
    "tags": []
   },
   "outputs": [
    {
     "data": {
      "text/plain": [
       "[[3, 3],\n",
       " [2, 2],\n",
       " [3, 3],\n",
       " [6, 6],\n",
       " [4, 4],\n",
       " [9, 9],\n",
       " [13, 13],\n",
       " [11, 11],\n",
       " [7, 7],\n",
       " [9, 9]]"
      ]
     },
     "execution_count": 69,
     "metadata": {},
     "output_type": "execute_result"
    }
   ],
   "source": [
    "voc"
   ]
  },
  {
   "cell_type": "code",
   "execution_count": 70,
   "id": "452828d1",
   "metadata": {
    "execution": {
     "iopub.execute_input": "2022-04-17T04:16:48.992196Z",
     "iopub.status.busy": "2022-04-17T04:16:48.991875Z",
     "iopub.status.idle": "2022-04-17T04:16:49.005702Z",
     "shell.execute_reply": "2022-04-17T04:16:49.005134Z"
    },
    "id": "0SBg7b0ilJyB",
    "papermill": {
     "duration": 0.139771,
     "end_time": "2022-04-17T04:16:49.007643",
     "exception": false,
     "start_time": "2022-04-17T04:16:48.867872",
     "status": "completed"
    },
    "tags": []
   },
   "outputs": [],
   "source": [
    "class TabModel(Module):\n",
    "    def __init__(self, emb_sz, cat_n, cont_n, layers):\n",
    "        super(TabModel, self).__init__()\n",
    "        self.cat_n = cat_n\n",
    "        self.cont_n = cont_n\n",
    "        self.embeddings = nn.ModuleList(nn.Embedding(ni, nf) for ni, nf in emb_sz)\n",
    "        cat_len = sum([x for _, x in emb_sz])\n",
    "        self.emb_drop = nn.Dropout(0.2)\n",
    "        self.linear_drop = nn.Dropout(0.5)\n",
    "        model = []\n",
    "        model.append(nn.BatchNorm1d(cat_len+cont_n))\n",
    "        model.append(self.linear_drop)\n",
    "        model.append(nn.Linear(cat_len+cont_n, layers[0]))\n",
    "        model.append(nn.Mish())\n",
    "        for i in range(len(layers)-2):\n",
    "            model.append(nn.BatchNorm1d(layers[i]))\n",
    "            model.append(self.linear_drop)\n",
    "            model.append(nn.Linear(layers[i], layers[i+1]))\n",
    "            model.append(nn.Mish())\n",
    "        self.linear = nn.Sequential(*model)\n",
    "        self.final_layer = nn.Linear(layers[-2], layers[-1])\n",
    "        \n",
    "    def forward(self, x):\n",
    "        emb = []\n",
    "        for i in range(self.cat_n):\n",
    "            emb.append(self.embeddings[i](x[:,i].int()))\n",
    "        for i in range(self.cat_n, self.cat_n+self.cont_n):\n",
    "            emb.append(x[:,i].unsqueeze(1))\n",
    "        input = torch.cat(emb, dim=1).float()\n",
    "        res = self.linear(input)\n",
    "        res = self.final_layer(res)\n",
    "        return res\n"
   ]
  },
  {
   "cell_type": "code",
   "execution_count": 71,
   "id": "c1c1dcd6",
   "metadata": {
    "execution": {
     "iopub.execute_input": "2022-04-17T04:16:49.254699Z",
     "iopub.status.busy": "2022-04-17T04:16:49.254427Z",
     "iopub.status.idle": "2022-04-17T04:16:49.278448Z",
     "shell.execute_reply": "2022-04-17T04:16:49.277806Z"
    },
    "id": "Pgyp6Ntynyo_",
    "papermill": {
     "duration": 0.150065,
     "end_time": "2022-04-17T04:16:49.280674",
     "exception": false,
     "start_time": "2022-04-17T04:16:49.130609",
     "status": "completed"
    },
    "tags": []
   },
   "outputs": [],
   "source": [
    "tabmodel = TabModel(voc, cat_n, cont_n, (400, 300, 200, 100, 2)).to(device)"
   ]
  },
  {
   "cell_type": "code",
   "execution_count": 72,
   "id": "ba5bf680",
   "metadata": {
    "execution": {
     "iopub.execute_input": "2022-04-17T04:16:49.525601Z",
     "iopub.status.busy": "2022-04-17T04:16:49.524972Z",
     "iopub.status.idle": "2022-04-17T04:16:49.529237Z",
     "shell.execute_reply": "2022-04-17T04:16:49.528679Z"
    },
    "id": "azJH5KCv0Nu3",
    "outputId": "6158c43f-5850-417b-ca72-efef5f5f0cc0",
    "papermill": {
     "duration": 0.129193,
     "end_time": "2022-04-17T04:16:49.531820",
     "exception": false,
     "start_time": "2022-04-17T04:16:49.402627",
     "status": "completed"
    },
    "tags": []
   },
   "outputs": [
    {
     "name": "stdout",
     "output_type": "stream",
     "text": [
      "TabModel(\n",
      "  (embeddings): ModuleList(\n",
      "    (0): Embedding(3, 3)\n",
      "    (1): Embedding(2, 2)\n",
      "    (2): Embedding(3, 3)\n",
      "    (3): Embedding(6, 6)\n",
      "    (4): Embedding(4, 4)\n",
      "    (5): Embedding(9, 9)\n",
      "    (6): Embedding(13, 13)\n",
      "    (7): Embedding(11, 11)\n",
      "    (8): Embedding(7, 7)\n",
      "    (9): Embedding(9, 9)\n",
      "  )\n",
      "  (emb_drop): Dropout(p=0.2, inplace=False)\n",
      "  (linear_drop): Dropout(p=0.5, inplace=False)\n",
      "  (linear): Sequential(\n",
      "    (0): BatchNorm1d(67, eps=1e-05, momentum=0.1, affine=True, track_running_stats=True)\n",
      "    (1): Dropout(p=0.5, inplace=False)\n",
      "    (2): Linear(in_features=67, out_features=400, bias=True)\n",
      "    (3): Mish()\n",
      "    (4): BatchNorm1d(400, eps=1e-05, momentum=0.1, affine=True, track_running_stats=True)\n",
      "    (5): Dropout(p=0.5, inplace=False)\n",
      "    (6): Linear(in_features=400, out_features=300, bias=True)\n",
      "    (7): Mish()\n",
      "    (8): BatchNorm1d(300, eps=1e-05, momentum=0.1, affine=True, track_running_stats=True)\n",
      "    (9): Dropout(p=0.5, inplace=False)\n",
      "    (10): Linear(in_features=300, out_features=200, bias=True)\n",
      "    (11): Mish()\n",
      "    (12): BatchNorm1d(200, eps=1e-05, momentum=0.1, affine=True, track_running_stats=True)\n",
      "    (13): Dropout(p=0.5, inplace=False)\n",
      "    (14): Linear(in_features=200, out_features=100, bias=True)\n",
      "    (15): Mish()\n",
      "  )\n",
      "  (final_layer): Linear(in_features=100, out_features=2, bias=True)\n",
      ")\n"
     ]
    }
   ],
   "source": [
    "print(tabmodel)"
   ]
  },
  {
   "cell_type": "code",
   "execution_count": 73,
   "id": "4422511c",
   "metadata": {
    "execution": {
     "iopub.execute_input": "2022-04-17T04:16:49.777155Z",
     "iopub.status.busy": "2022-04-17T04:16:49.776839Z",
     "iopub.status.idle": "2022-04-17T04:16:49.780084Z",
     "shell.execute_reply": "2022-04-17T04:16:49.779464Z"
    },
    "id": "9dP2FXI1DMqk",
    "papermill": {
     "duration": 0.127723,
     "end_time": "2022-04-17T04:16:49.781870",
     "exception": false,
     "start_time": "2022-04-17T04:16:49.654147",
     "status": "completed"
    },
    "tags": []
   },
   "outputs": [],
   "source": [
    "dls = dl, valid_dl"
   ]
  },
  {
   "cell_type": "code",
   "execution_count": 74,
   "id": "3aeca331",
   "metadata": {
    "execution": {
     "iopub.execute_input": "2022-04-17T04:16:50.028195Z",
     "iopub.status.busy": "2022-04-17T04:16:50.027836Z",
     "iopub.status.idle": "2022-04-17T04:16:50.033502Z",
     "shell.execute_reply": "2022-04-17T04:16:50.032836Z"
    },
    "id": "eaD4SzWKkGTs",
    "papermill": {
     "duration": 0.131918,
     "end_time": "2022-04-17T04:16:50.035208",
     "exception": false,
     "start_time": "2022-04-17T04:16:49.903290",
     "status": "completed"
    },
    "tags": []
   },
   "outputs": [],
   "source": [
    "def train(dl, model, loss_fn, optim):\n",
    "    size = len(dl.dataset)\n",
    "    losses = []\n",
    "    for batch, (X, y) in enumerate(dl):\n",
    "        # prediction, loss\n",
    "        pred = model(X)\n",
    "        loss = loss_fn(pred, y)\n",
    "        # backprop\n",
    "        optim.zero_grad()\n",
    "        loss.backward()\n",
    "        optim.step()\n",
    "\n",
    "        losses.append(loss.item())\n",
    "    \n",
    "    print(f'loss: {np.array(losses).mean()}')\n"
   ]
  },
  {
   "cell_type": "code",
   "execution_count": 75,
   "id": "bbc223a4",
   "metadata": {
    "execution": {
     "iopub.execute_input": "2022-04-17T04:16:50.282589Z",
     "iopub.status.busy": "2022-04-17T04:16:50.281878Z",
     "iopub.status.idle": "2022-04-17T04:16:50.288097Z",
     "shell.execute_reply": "2022-04-17T04:16:50.287403Z"
    },
    "id": "g31GQH3w_kUN",
    "papermill": {
     "duration": 0.129711,
     "end_time": "2022-04-17T04:16:50.289996",
     "exception": false,
     "start_time": "2022-04-17T04:16:50.160285",
     "status": "completed"
    },
    "tags": []
   },
   "outputs": [],
   "source": [
    "def valid(valid_dl, model, loss_fn):\n",
    "    accuracy = []\n",
    "    losses = []\n",
    "    with torch.no_grad():\n",
    "        for batch, (X, y) in enumerate(valid_dl):\n",
    "            #p rediction, loss\n",
    "            pred = model(X)\n",
    "            loss = loss_fn(pred, y)\n",
    "            # metric\n",
    "            accuracy.append((pred.argmax(1)==y).float().flatten().mean())\n",
    "            losses.append(loss.item())\n",
    "    print(f'valid -- accuracy: {np.array(accuracy).mean()}, loss: {np.array(losses).mean()}')"
   ]
  },
  {
   "cell_type": "code",
   "execution_count": 76,
   "id": "f4d683b4",
   "metadata": {
    "execution": {
     "iopub.execute_input": "2022-04-17T04:16:50.534072Z",
     "iopub.status.busy": "2022-04-17T04:16:50.533805Z",
     "iopub.status.idle": "2022-04-17T04:16:50.539639Z",
     "shell.execute_reply": "2022-04-17T04:16:50.538792Z"
    },
    "id": "GWBjVQfWDI0r",
    "papermill": {
     "duration": 0.130173,
     "end_time": "2022-04-17T04:16:50.541499",
     "exception": false,
     "start_time": "2022-04-17T04:16:50.411326",
     "status": "completed"
    },
    "tags": []
   },
   "outputs": [],
   "source": [
    "def epoch(n, dls, model:Module, loss_fn, lr=1e-3):\n",
    "    train_dl, valid_dl = dls\n",
    "    \n",
    "    for i in range(n):\n",
    "        # train\n",
    "        model.train()\n",
    "        train(train_dl, model, loss_fn, torch.optim.Adam(model.parameters(), lr= lr))\n",
    "        #validate\n",
    "        model.eval()\n",
    "        valid(valid_dl, model, loss_fn)"
   ]
  },
  {
   "cell_type": "code",
   "execution_count": 77,
   "id": "bdf6bfec",
   "metadata": {
    "execution": {
     "iopub.execute_input": "2022-04-17T04:16:50.785404Z",
     "iopub.status.busy": "2022-04-17T04:16:50.784583Z",
     "iopub.status.idle": "2022-04-17T04:16:53.039975Z",
     "shell.execute_reply": "2022-04-17T04:16:53.039151Z"
    },
    "id": "3YLxax12s3ZV",
    "outputId": "0b643d39-25e7-4524-a2a2-f3f2b9f0409b",
    "papermill": {
     "duration": 2.379937,
     "end_time": "2022-04-17T04:16:53.042182",
     "exception": false,
     "start_time": "2022-04-17T04:16:50.662245",
     "status": "completed"
    },
    "tags": []
   },
   "outputs": [
    {
     "name": "stdout",
     "output_type": "stream",
     "text": [
      "loss: 0.6528614362080892\n",
      "valid -- accuracy: 0.6797916889190674, loss: 0.6129634777704874\n",
      "loss: 0.572065865000089\n",
      "valid -- accuracy: 0.7541666626930237, loss: 0.5108374754587809\n",
      "loss: 0.5233543713887533\n",
      "valid -- accuracy: 0.762291669845581, loss: 0.4685385326544444\n",
      "loss: 0.5306136806805929\n",
      "valid -- accuracy: 0.7964583039283752, loss: 0.4666240910689036\n",
      "loss: 0.536081537604332\n",
      "valid -- accuracy: 0.8016666769981384, loss: 0.463295837243398\n",
      "loss: 0.5266826078295708\n",
      "valid -- accuracy: 0.8120833039283752, loss: 0.45158087213834125\n",
      "loss: 0.4994736313819885\n",
      "valid -- accuracy: 0.8172916769981384, loss: 0.45429309209187824\n",
      "loss: 0.4767463008562724\n",
      "valid -- accuracy: 0.8239583373069763, loss: 0.4581230084101359\n"
     ]
    }
   ],
   "source": [
    "epoch(8, dls, tabmodel, CrossEntropyLoss(), lr=5e-4)"
   ]
  },
  {
   "cell_type": "code",
   "execution_count": 78,
   "id": "d021d6ce",
   "metadata": {
    "execution": {
     "iopub.execute_input": "2022-04-17T04:16:53.296338Z",
     "iopub.status.busy": "2022-04-17T04:16:53.295794Z",
     "iopub.status.idle": "2022-04-17T04:16:53.300233Z",
     "shell.execute_reply": "2022-04-17T04:16:53.299454Z"
    },
    "id": "92EJ-f5yFRne",
    "papermill": {
     "duration": 0.132956,
     "end_time": "2022-04-17T04:16:53.302008",
     "exception": false,
     "start_time": "2022-04-17T04:16:53.169052",
     "status": "completed"
    },
    "tags": []
   },
   "outputs": [],
   "source": [
    "def predictWhole(data, model):\n",
    "    model.eval()\n",
    "    pred = model(data)\n",
    "    return pred.argmax(1)"
   ]
  },
  {
   "cell_type": "code",
   "execution_count": 79,
   "id": "a17b6952",
   "metadata": {
    "execution": {
     "iopub.execute_input": "2022-04-17T04:16:53.550693Z",
     "iopub.status.busy": "2022-04-17T04:16:53.550213Z",
     "iopub.status.idle": "2022-04-17T04:16:53.594071Z",
     "shell.execute_reply": "2022-04-17T04:16:53.593174Z"
    },
    "id": "A28cUom3tXCM",
    "papermill": {
     "duration": 0.170983,
     "end_time": "2022-04-17T04:16:53.596571",
     "exception": false,
     "start_time": "2022-04-17T04:16:53.425588",
     "status": "completed"
    },
    "tags": []
   },
   "outputs": [],
   "source": [
    "test_ds_raw = torch.Tensor(np.array(test_ds))"
   ]
  },
  {
   "cell_type": "code",
   "execution_count": 80,
   "id": "fa6e82dd",
   "metadata": {
    "execution": {
     "iopub.execute_input": "2022-04-17T04:16:53.848852Z",
     "iopub.status.busy": "2022-04-17T04:16:53.848341Z",
     "iopub.status.idle": "2022-04-17T04:16:53.853660Z",
     "shell.execute_reply": "2022-04-17T04:16:53.852801Z"
    },
    "id": "EpLqTfpZZ2is",
    "outputId": "76882f4f-19b7-41de-99eb-723c47f627b4",
    "papermill": {
     "duration": 0.134652,
     "end_time": "2022-04-17T04:16:53.855755",
     "exception": false,
     "start_time": "2022-04-17T04:16:53.721103",
     "status": "completed"
    },
    "tags": []
   },
   "outputs": [
    {
     "data": {
      "text/plain": [
       "torch.Size([418, 10])"
      ]
     },
     "execution_count": 80,
     "metadata": {},
     "output_type": "execute_result"
    }
   ],
   "source": [
    "test_ds_raw.shape"
   ]
  },
  {
   "cell_type": "code",
   "execution_count": 81,
   "id": "adb6bfbf",
   "metadata": {
    "execution": {
     "iopub.execute_input": "2022-04-17T04:16:54.109706Z",
     "iopub.status.busy": "2022-04-17T04:16:54.109447Z",
     "iopub.status.idle": "2022-04-17T04:16:54.127590Z",
     "shell.execute_reply": "2022-04-17T04:16:54.127021Z"
    },
    "id": "Gaz-1GGsLWSa",
    "outputId": "bdb38471-e93f-45b6-8bf5-cc40cbb53284",
    "papermill": {
     "duration": 0.147851,
     "end_time": "2022-04-17T04:16:54.129784",
     "exception": false,
     "start_time": "2022-04-17T04:16:53.981933",
     "status": "completed"
    },
    "tags": []
   },
   "outputs": [
    {
     "data": {
      "text/plain": [
       "418"
      ]
     },
     "execution_count": 81,
     "metadata": {},
     "output_type": "execute_result"
    }
   ],
   "source": [
    "preds = predictWhole(test_ds_raw, tabmodel)\n",
    "len(preds)"
   ]
  },
  {
   "cell_type": "code",
   "execution_count": 82,
   "id": "89fbb5fc",
   "metadata": {
    "execution": {
     "iopub.execute_input": "2022-04-17T04:16:54.385250Z",
     "iopub.status.busy": "2022-04-17T04:16:54.384707Z",
     "iopub.status.idle": "2022-04-17T04:16:54.388998Z",
     "shell.execute_reply": "2022-04-17T04:16:54.388401Z"
    },
    "id": "Ol7VwkHuLgFS",
    "papermill": {
     "duration": 0.131782,
     "end_time": "2022-04-17T04:16:54.390851",
     "exception": false,
     "start_time": "2022-04-17T04:16:54.259069",
     "status": "completed"
    },
    "tags": []
   },
   "outputs": [],
   "source": [
    "result = pd.DataFrame({'PassengerId': df_test_pi, 'Survived': preds})"
   ]
  },
  {
   "cell_type": "code",
   "execution_count": 83,
   "id": "6fecfd3c",
   "metadata": {
    "execution": {
     "iopub.execute_input": "2022-04-17T04:16:54.643981Z",
     "iopub.status.busy": "2022-04-17T04:16:54.643413Z",
     "iopub.status.idle": "2022-04-17T04:16:54.651333Z",
     "shell.execute_reply": "2022-04-17T04:16:54.650494Z"
    },
    "id": "nZ36hM3iL4Ku",
    "papermill": {
     "duration": 0.136586,
     "end_time": "2022-04-17T04:16:54.653655",
     "exception": false,
     "start_time": "2022-04-17T04:16:54.517069",
     "status": "completed"
    },
    "tags": []
   },
   "outputs": [],
   "source": [
    "result.to_csv('submission.csv', index=False)"
   ]
  },
  {
   "cell_type": "code",
   "execution_count": 84,
   "id": "1045f527",
   "metadata": {
    "execution": {
     "iopub.execute_input": "2022-04-17T04:16:54.905783Z",
     "iopub.status.busy": "2022-04-17T04:16:54.905482Z",
     "iopub.status.idle": "2022-04-17T04:16:54.910770Z",
     "shell.execute_reply": "2022-04-17T04:16:54.909671Z"
    },
    "papermill": {
     "duration": 0.134078,
     "end_time": "2022-04-17T04:16:54.912927",
     "exception": false,
     "start_time": "2022-04-17T04:16:54.778849",
     "status": "completed"
    },
    "tags": []
   },
   "outputs": [],
   "source": [
    "def randSplit(l, valid_ratio=0.2):\n",
    "    idxs = np.arange(l)\n",
    "    np.random.shuffle(idxs)\n",
    "    cut = int(l*valid_ratio)\n",
    "    return idxs[:cut], idxs[cut:]"
   ]
  },
  {
   "cell_type": "code",
   "execution_count": 85,
   "id": "45b2a8b5",
   "metadata": {
    "execution": {
     "iopub.execute_input": "2022-04-17T04:16:55.165340Z",
     "iopub.status.busy": "2022-04-17T04:16:55.165013Z",
     "iopub.status.idle": "2022-04-17T04:16:55.168906Z",
     "shell.execute_reply": "2022-04-17T04:16:55.168074Z"
    },
    "id": "ZXGUSbcaNLJc",
    "papermill": {
     "duration": 0.132173,
     "end_time": "2022-04-17T04:16:55.170803",
     "exception": false,
     "start_time": "2022-04-17T04:16:55.038630",
     "status": "completed"
    },
    "tags": []
   },
   "outputs": [],
   "source": [
    "dls = DataLoaders(dl, valid_dl)"
   ]
  },
  {
   "cell_type": "code",
   "execution_count": 86,
   "id": "b4b5c2c6",
   "metadata": {
    "execution": {
     "iopub.execute_input": "2022-04-17T04:16:55.423905Z",
     "iopub.status.busy": "2022-04-17T04:16:55.423325Z",
     "iopub.status.idle": "2022-04-17T04:16:55.437212Z",
     "shell.execute_reply": "2022-04-17T04:16:55.436360Z"
    },
    "papermill": {
     "duration": 0.142175,
     "end_time": "2022-04-17T04:16:55.439254",
     "exception": false,
     "start_time": "2022-04-17T04:16:55.297079",
     "status": "completed"
    },
    "tags": []
   },
   "outputs": [
    {
     "data": {
      "text/plain": [
       "[[3, 3],\n",
       " [2, 2],\n",
       " [3, 3],\n",
       " [6, 4],\n",
       " [4, 3],\n",
       " [9, 5],\n",
       " [13, 7],\n",
       " [11, 6],\n",
       " [7, 5],\n",
       " [9, 5]]"
      ]
     },
     "execution_count": 86,
     "metadata": {},
     "output_type": "execute_result"
    }
   ],
   "source": [
    "voc = []\n",
    "for s in cat_columns:\n",
    "    vn = pd.concat([td.cat[s], valid_td.cat[s], test_ds.cat[s]])\n",
    "    vn = vn.astype(int).nunique()\n",
    "    voc.append([vn, round(1.6 * vn**0.56)])\n",
    "voc"
   ]
  },
  {
   "cell_type": "code",
   "execution_count": 87,
   "id": "f65e9608",
   "metadata": {
    "execution": {
     "iopub.execute_input": "2022-04-17T04:16:55.691656Z",
     "iopub.status.busy": "2022-04-17T04:16:55.691389Z",
     "iopub.status.idle": "2022-04-17T04:16:55.700400Z",
     "shell.execute_reply": "2022-04-17T04:16:55.699190Z"
    },
    "papermill": {
     "duration": 0.137706,
     "end_time": "2022-04-17T04:16:55.702712",
     "exception": false,
     "start_time": "2022-04-17T04:16:55.565006",
     "status": "completed"
    },
    "tags": []
   },
   "outputs": [
    {
     "name": "stdout",
     "output_type": "stream",
     "text": [
      "TabModel(\n",
      "  (embeddings): ModuleList(\n",
      "    (0): Embedding(3, 3)\n",
      "    (1): Embedding(2, 2)\n",
      "    (2): Embedding(3, 3)\n",
      "    (3): Embedding(6, 4)\n",
      "    (4): Embedding(4, 3)\n",
      "    (5): Embedding(9, 5)\n",
      "    (6): Embedding(13, 7)\n",
      "    (7): Embedding(11, 6)\n",
      "    (8): Embedding(7, 5)\n",
      "    (9): Embedding(9, 5)\n",
      "  )\n",
      "  (emb_drop): Dropout(p=0.2, inplace=False)\n",
      "  (linear_drop): Dropout(p=0.5, inplace=False)\n",
      "  (linear): Sequential(\n",
      "    (0): BatchNorm1d(43, eps=1e-05, momentum=0.1, affine=True, track_running_stats=True)\n",
      "    (1): Dropout(p=0.5, inplace=False)\n",
      "    (2): Linear(in_features=43, out_features=20, bias=True)\n",
      "    (3): Mish()\n",
      "    (4): BatchNorm1d(20, eps=1e-05, momentum=0.1, affine=True, track_running_stats=True)\n",
      "    (5): Dropout(p=0.5, inplace=False)\n",
      "    (6): Linear(in_features=20, out_features=10, bias=True)\n",
      "    (7): Mish()\n",
      "  )\n",
      "  (final_layer): Linear(in_features=10, out_features=2, bias=True)\n",
      ")\n"
     ]
    }
   ],
   "source": [
    "tabmodel = TabModel(voc, cat_n, cont_n, (20, 10, 2)).to(device)\n",
    "print(tabmodel)"
   ]
  },
  {
   "cell_type": "code",
   "execution_count": 88,
   "id": "ef8b1883",
   "metadata": {
    "execution": {
     "iopub.execute_input": "2022-04-17T04:16:55.960574Z",
     "iopub.status.busy": "2022-04-17T04:16:55.960028Z",
     "iopub.status.idle": "2022-04-17T04:16:55.964991Z",
     "shell.execute_reply": "2022-04-17T04:16:55.964305Z"
    },
    "papermill": {
     "duration": 0.136823,
     "end_time": "2022-04-17T04:16:55.967088",
     "exception": false,
     "start_time": "2022-04-17T04:16:55.830265",
     "status": "completed"
    },
    "tags": []
   },
   "outputs": [],
   "source": [
    "learn = Learner(dls, tabmodel, loss_func=CrossEntropyLossFlat(), metrics=accuracy)"
   ]
  },
  {
   "cell_type": "code",
   "execution_count": 89,
   "id": "29ed7aca",
   "metadata": {
    "execution": {
     "iopub.execute_input": "2022-04-17T04:16:56.222679Z",
     "iopub.status.busy": "2022-04-17T04:16:56.222165Z",
     "iopub.status.idle": "2022-04-17T04:16:58.898442Z",
     "shell.execute_reply": "2022-04-17T04:16:58.897492Z"
    },
    "papermill": {
     "duration": 2.805962,
     "end_time": "2022-04-17T04:16:58.900501",
     "exception": false,
     "start_time": "2022-04-17T04:16:56.094539",
     "status": "completed"
    },
    "tags": []
   },
   "outputs": [
    {
     "data": {
      "text/html": [
       "\n",
       "<style>\n",
       "    /* Turns off some styling */\n",
       "    progress {\n",
       "        /* gets rid of default border in Firefox and Opera. */\n",
       "        border: none;\n",
       "        /* Needs to be in here for Safari polyfill so background images work as expected. */\n",
       "        background-size: auto;\n",
       "    }\n",
       "    .progress-bar-interrupted, .progress-bar-interrupted::-webkit-progress-bar {\n",
       "        background: #F44336;\n",
       "    }\n",
       "</style>\n"
      ],
      "text/plain": [
       "<IPython.core.display.HTML object>"
      ]
     },
     "metadata": {},
     "output_type": "display_data"
    },
    {
     "data": {
      "text/html": [],
      "text/plain": [
       "<IPython.core.display.HTML object>"
      ]
     },
     "metadata": {},
     "output_type": "display_data"
    },
    {
     "data": {
      "text/plain": [
       "SuggestedLRs(valley=0.010964781977236271)"
      ]
     },
     "execution_count": 89,
     "metadata": {},
     "output_type": "execute_result"
    },
    {
     "data": {
      "image/png": "[encoded data removed]",
      "text/plain": [
       "<Figure size 432x288 with 1 Axes>"
      ]
     },
     "metadata": {
      "needs_background": "light"
     },
     "output_type": "display_data"
    }
   ],
   "source": [
    "learn.lr_find()"
   ]
  },
  {
   "cell_type": "code",
   "execution_count": 90,
   "id": "b860efd3",
   "metadata": {
    "execution": {
     "iopub.execute_input": "2022-04-17T04:16:59.161999Z",
     "iopub.status.busy": "2022-04-17T04:16:59.161721Z",
     "iopub.status.idle": "2022-04-17T04:17:00.344142Z",
     "shell.execute_reply": "2022-04-17T04:17:00.343196Z"
    },
    "papermill": {
     "duration": 1.315795,
     "end_time": "2022-04-17T04:17:00.346273",
     "exception": false,
     "start_time": "2022-04-17T04:16:59.030478",
     "status": "completed"
    },
    "tags": []
   },
   "outputs": [
    {
     "data": {
      "text/html": [
       "\n",
       "<style>\n",
       "    /* Turns off some styling */\n",
       "    progress {\n",
       "        /* gets rid of default border in Firefox and Opera. */\n",
       "        border: none;\n",
       "        /* Needs to be in here for Safari polyfill so background images work as expected. */\n",
       "        background-size: auto;\n",
       "    }\n",
       "    .progress-bar-interrupted, .progress-bar-interrupted::-webkit-progress-bar {\n",
       "        background: #F44336;\n",
       "    }\n",
       "</style>\n"
      ],
      "text/plain": [
       "<IPython.core.display.HTML object>"
      ]
     },
     "metadata": {},
     "output_type": "display_data"
    },
    {
     "data": {
      "text/html": [
       "<table border=\"1\" class=\"dataframe\">\n",
       "  <thead>\n",
       "    <tr style=\"text-align: left;\">\n",
       "      <th>epoch</th>\n",
       "      <th>train_loss</th>\n",
       "      <th>valid_loss</th>\n",
       "      <th>accuracy</th>\n",
       "      <th>time</th>\n",
       "    </tr>\n",
       "  </thead>\n",
       "  <tbody>\n",
       "    <tr>\n",
       "      <td>0</td>\n",
       "      <td>0.717450</td>\n",
       "      <td>0.675648</td>\n",
       "      <td>0.516854</td>\n",
       "      <td>00:00</td>\n",
       "    </tr>\n",
       "    <tr>\n",
       "      <td>1</td>\n",
       "      <td>0.673696</td>\n",
       "      <td>0.541765</td>\n",
       "      <td>0.797753</td>\n",
       "      <td>00:00</td>\n",
       "    </tr>\n",
       "    <tr>\n",
       "      <td>2</td>\n",
       "      <td>0.621693</td>\n",
       "      <td>0.468598</td>\n",
       "      <td>0.820225</td>\n",
       "      <td>00:00</td>\n",
       "    </tr>\n",
       "    <tr>\n",
       "      <td>3</td>\n",
       "      <td>0.589841</td>\n",
       "      <td>0.456860</td>\n",
       "      <td>0.820225</td>\n",
       "      <td>00:00</td>\n",
       "    </tr>\n",
       "    <tr>\n",
       "      <td>4</td>\n",
       "      <td>0.569443</td>\n",
       "      <td>0.455191</td>\n",
       "      <td>0.831461</td>\n",
       "      <td>00:00</td>\n",
       "    </tr>\n",
       "  </tbody>\n",
       "</table>"
      ],
      "text/plain": [
       "<IPython.core.display.HTML object>"
      ]
     },
     "metadata": {},
     "output_type": "display_data"
    }
   ],
   "source": [
    "learn.fit_one_cycle(5, 6e-3)"
   ]
  },
  {
   "cell_type": "code",
   "execution_count": 91,
   "id": "472c926f",
   "metadata": {
    "execution": {
     "iopub.execute_input": "2022-04-17T04:17:00.607451Z",
     "iopub.status.busy": "2022-04-17T04:17:00.607140Z",
     "iopub.status.idle": "2022-04-17T04:17:00.613781Z",
     "shell.execute_reply": "2022-04-17T04:17:00.612913Z"
    },
    "papermill": {
     "duration": 0.140016,
     "end_time": "2022-04-17T04:17:00.616048",
     "exception": false,
     "start_time": "2022-04-17T04:17:00.476032",
     "status": "completed"
    },
    "tags": []
   },
   "outputs": [],
   "source": [
    "preds = predictWhole(test_ds_raw, learn.model)"
   ]
  },
  {
   "cell_type": "code",
   "execution_count": 92,
   "id": "1671bf54",
   "metadata": {
    "execution": {
     "iopub.execute_input": "2022-04-17T04:17:00.905823Z",
     "iopub.status.busy": "2022-04-17T04:17:00.905538Z",
     "iopub.status.idle": "2022-04-17T04:17:00.913909Z",
     "shell.execute_reply": "2022-04-17T04:17:00.913231Z"
    },
    "papermill": {
     "duration": 0.154267,
     "end_time": "2022-04-17T04:17:00.916072",
     "exception": false,
     "start_time": "2022-04-17T04:17:00.761805",
     "status": "completed"
    },
    "tags": []
   },
   "outputs": [],
   "source": [
    "result = pd.DataFrame({'PassengerId': df_test_pi, 'Survived': preds})\n",
    "result.to_csv('submission.csv', index=False)"
   ]
  },
  {
   "cell_type": "code",
   "execution_count": 93,
   "id": "750fc84a",
   "metadata": {
    "execution": {
     "iopub.execute_input": "2022-04-17T04:17:01.270456Z",
     "iopub.status.busy": "2022-04-17T04:17:01.270175Z",
     "iopub.status.idle": "2022-04-17T04:17:01.280765Z",
     "shell.execute_reply": "2022-04-17T04:17:01.279918Z"
    },
    "papermill": {
     "duration": 0.146659,
     "end_time": "2022-04-17T04:17:01.283013",
     "exception": false,
     "start_time": "2022-04-17T04:17:01.136354",
     "status": "completed"
    },
    "tags": []
   },
   "outputs": [
    {
     "data": {
      "text/html": [
       "<div>\n",
       "<style scoped>\n",
       "    .dataframe tbody tr th:only-of-type {\n",
       "        vertical-align: middle;\n",
       "    }\n",
       "\n",
       "    .dataframe tbody tr th {\n",
       "        vertical-align: top;\n",
       "    }\n",
       "\n",
       "    .dataframe thead th {\n",
       "        text-align: right;\n",
       "    }\n",
       "</style>\n",
       "<table border=\"1\" class=\"dataframe\">\n",
       "  <thead>\n",
       "    <tr style=\"text-align: right;\">\n",
       "      <th></th>\n",
       "      <th>PassengerId</th>\n",
       "      <th>Survived</th>\n",
       "    </tr>\n",
       "  </thead>\n",
       "  <tbody>\n",
       "    <tr>\n",
       "      <th>0</th>\n",
       "      <td>892</td>\n",
       "      <td>0</td>\n",
       "    </tr>\n",
       "    <tr>\n",
       "      <th>1</th>\n",
       "      <td>893</td>\n",
       "      <td>1</td>\n",
       "    </tr>\n",
       "    <tr>\n",
       "      <th>2</th>\n",
       "      <td>894</td>\n",
       "      <td>0</td>\n",
       "    </tr>\n",
       "    <tr>\n",
       "      <th>3</th>\n",
       "      <td>895</td>\n",
       "      <td>0</td>\n",
       "    </tr>\n",
       "    <tr>\n",
       "      <th>4</th>\n",
       "      <td>896</td>\n",
       "      <td>1</td>\n",
       "    </tr>\n",
       "    <tr>\n",
       "      <th>...</th>\n",
       "      <td>...</td>\n",
       "      <td>...</td>\n",
       "    </tr>\n",
       "    <tr>\n",
       "      <th>413</th>\n",
       "      <td>1305</td>\n",
       "      <td>0</td>\n",
       "    </tr>\n",
       "    <tr>\n",
       "      <th>414</th>\n",
       "      <td>1306</td>\n",
       "      <td>1</td>\n",
       "    </tr>\n",
       "    <tr>\n",
       "      <th>415</th>\n",
       "      <td>1307</td>\n",
       "      <td>0</td>\n",
       "    </tr>\n",
       "    <tr>\n",
       "      <th>416</th>\n",
       "      <td>1308</td>\n",
       "      <td>0</td>\n",
       "    </tr>\n",
       "    <tr>\n",
       "      <th>417</th>\n",
       "      <td>1309</td>\n",
       "      <td>0</td>\n",
       "    </tr>\n",
       "  </tbody>\n",
       "</table>\n",
       "<p>418 rows × 2 columns</p>\n",
       "</div>"
      ],
      "text/plain": [
       "     PassengerId  Survived\n",
       "0            892         0\n",
       "1            893         1\n",
       "2            894         0\n",
       "3            895         0\n",
       "4            896         1\n",
       "..           ...       ...\n",
       "413         1305         0\n",
       "414         1306         1\n",
       "415         1307         0\n",
       "416         1308         0\n",
       "417         1309         0\n",
       "\n",
       "[418 rows x 2 columns]"
      ]
     },
     "execution_count": 93,
     "metadata": {},
     "output_type": "execute_result"
    }
   ],
   "source": [
    "result"
   ]
  },
  {
   "cell_type": "code",
   "execution_count": 94,
   "id": "0ecb9083",
   "metadata": {
    "execution": {
     "iopub.execute_input": "2022-04-17T04:17:01.556184Z",
     "iopub.status.busy": "2022-04-17T04:17:01.555598Z",
     "iopub.status.idle": "2022-04-17T04:17:01.647033Z",
     "shell.execute_reply": "2022-04-17T04:17:01.646047Z"
    },
    "papermill": {
     "duration": 0.230416,
     "end_time": "2022-04-17T04:17:01.649554",
     "exception": false,
     "start_time": "2022-04-17T04:17:01.419138",
     "status": "completed"
    },
    "tags": []
   },
   "outputs": [],
   "source": [
    "from sklearn.ensemble import HistGradientBoostingClassifier"
   ]
  },
  {
   "cell_type": "code",
   "execution_count": 95,
   "id": "daa95c55",
   "metadata": {
    "execution": {
     "iopub.execute_input": "2022-04-17T04:17:01.917436Z",
     "iopub.status.busy": "2022-04-17T04:17:01.916868Z",
     "iopub.status.idle": "2022-04-17T04:17:02.576751Z",
     "shell.execute_reply": "2022-04-17T04:17:02.576029Z"
    },
    "papermill": {
     "duration": 0.797351,
     "end_time": "2022-04-17T04:17:02.579151",
     "exception": false,
     "start_time": "2022-04-17T04:17:01.781800",
     "status": "completed"
    },
    "tags": []
   },
   "outputs": [],
   "source": [
    "clf = HistGradientBoostingClassifier().fit(full_td[:][0], full_td[:][1])"
   ]
  },
  {
   "cell_type": "code",
   "execution_count": 96,
   "id": "a5041cd9",
   "metadata": {
    "execution": {
     "iopub.execute_input": "2022-04-17T04:17:02.863384Z",
     "iopub.status.busy": "2022-04-17T04:17:02.862849Z",
     "iopub.status.idle": "2022-04-17T04:17:02.937862Z",
     "shell.execute_reply": "2022-04-17T04:17:02.937191Z"
    },
    "papermill": {
     "duration": 0.22086,
     "end_time": "2022-04-17T04:17:02.940109",
     "exception": false,
     "start_time": "2022-04-17T04:17:02.719249",
     "status": "completed"
    },
    "tags": []
   },
   "outputs": [],
   "source": [
    "preds = clf.predict(test_ds_raw)"
   ]
  },
  {
   "cell_type": "code",
   "execution_count": 97,
   "id": "5ac9881d",
   "metadata": {
    "execution": {
     "iopub.execute_input": "2022-04-17T04:17:03.206004Z",
     "iopub.status.busy": "2022-04-17T04:17:03.205031Z",
     "iopub.status.idle": "2022-04-17T04:17:03.212933Z",
     "shell.execute_reply": "2022-04-17T04:17:03.212200Z"
    },
    "papermill": {
     "duration": 0.141493,
     "end_time": "2022-04-17T04:17:03.215065",
     "exception": false,
     "start_time": "2022-04-17T04:17:03.073572",
     "status": "completed"
    },
    "tags": []
   },
   "outputs": [],
   "source": [
    "result = pd.DataFrame({'PassengerId': df_test_pi, 'Survived': preds})\n",
    "result.to_csv('submissionhist.csv', index=False)"
   ]
  },
  {
   "cell_type": "code",
   "execution_count": 98,
   "id": "ef4060e1",
   "metadata": {
    "execution": {
     "iopub.execute_input": "2022-04-17T04:17:03.480058Z",
     "iopub.status.busy": "2022-04-17T04:17:03.479253Z",
     "iopub.status.idle": "2022-04-17T04:17:03.490276Z",
     "shell.execute_reply": "2022-04-17T04:17:03.489274Z"
    },
    "papermill": {
     "duration": 0.144462,
     "end_time": "2022-04-17T04:17:03.492522",
     "exception": false,
     "start_time": "2022-04-17T04:17:03.348060",
     "status": "completed"
    },
    "tags": []
   },
   "outputs": [
    {
     "data": {
      "text/html": [
       "<div>\n",
       "<style scoped>\n",
       "    .dataframe tbody tr th:only-of-type {\n",
       "        vertical-align: middle;\n",
       "    }\n",
       "\n",
       "    .dataframe tbody tr th {\n",
       "        vertical-align: top;\n",
       "    }\n",
       "\n",
       "    .dataframe thead th {\n",
       "        text-align: right;\n",
       "    }\n",
       "</style>\n",
       "<table border=\"1\" class=\"dataframe\">\n",
       "  <thead>\n",
       "    <tr style=\"text-align: right;\">\n",
       "      <th></th>\n",
       "      <th>PassengerId</th>\n",
       "      <th>Survived</th>\n",
       "    </tr>\n",
       "  </thead>\n",
       "  <tbody>\n",
       "    <tr>\n",
       "      <th>0</th>\n",
       "      <td>892</td>\n",
       "      <td>0</td>\n",
       "    </tr>\n",
       "    <tr>\n",
       "      <th>1</th>\n",
       "      <td>893</td>\n",
       "      <td>0</td>\n",
       "    </tr>\n",
       "    <tr>\n",
       "      <th>2</th>\n",
       "      <td>894</td>\n",
       "      <td>0</td>\n",
       "    </tr>\n",
       "    <tr>\n",
       "      <th>3</th>\n",
       "      <td>895</td>\n",
       "      <td>0</td>\n",
       "    </tr>\n",
       "    <tr>\n",
       "      <th>4</th>\n",
       "      <td>896</td>\n",
       "      <td>0</td>\n",
       "    </tr>\n",
       "    <tr>\n",
       "      <th>...</th>\n",
       "      <td>...</td>\n",
       "      <td>...</td>\n",
       "    </tr>\n",
       "    <tr>\n",
       "      <th>413</th>\n",
       "      <td>1305</td>\n",
       "      <td>0</td>\n",
       "    </tr>\n",
       "    <tr>\n",
       "      <th>414</th>\n",
       "      <td>1306</td>\n",
       "      <td>1</td>\n",
       "    </tr>\n",
       "    <tr>\n",
       "      <th>415</th>\n",
       "      <td>1307</td>\n",
       "      <td>0</td>\n",
       "    </tr>\n",
       "    <tr>\n",
       "      <th>416</th>\n",
       "      <td>1308</td>\n",
       "      <td>0</td>\n",
       "    </tr>\n",
       "    <tr>\n",
       "      <th>417</th>\n",
       "      <td>1309</td>\n",
       "      <td>1</td>\n",
       "    </tr>\n",
       "  </tbody>\n",
       "</table>\n",
       "<p>418 rows × 2 columns</p>\n",
       "</div>"
      ],
      "text/plain": [
       "     PassengerId  Survived\n",
       "0            892         0\n",
       "1            893         0\n",
       "2            894         0\n",
       "3            895         0\n",
       "4            896         0\n",
       "..           ...       ...\n",
       "413         1305         0\n",
       "414         1306         1\n",
       "415         1307         0\n",
       "416         1308         0\n",
       "417         1309         1\n",
       "\n",
       "[418 rows x 2 columns]"
      ]
     },
     "execution_count": 98,
     "metadata": {},
     "output_type": "execute_result"
    }
   ],
   "source": [
    "result"
   ]
  },
  {
   "cell_type": "code",
   "execution_count": null,
   "id": "5d771ccc",
   "metadata": {
    "papermill": {
     "duration": 0.130573,
     "end_time": "2022-04-17T04:17:03.753339",
     "exception": false,
     "start_time": "2022-04-17T04:17:03.622766",
     "status": "completed"
    },
    "tags": []
   },
   "outputs": [],
   "source": []
  }
 ],
 "metadata": {
  "kernelspec": {
   "display_name": "Python 3",
   "language": "python",
   "name": "python3"
  },
  "language_info": {
   "codemirror_mode": {
    "name": "ipython",
    "version": 3
   },
   "file_extension": ".py",
   "mimetype": "text/x-python",
   "name": "python",
   "nbconvert_exporter": "python",
   "pygments_lexer": "ipython3",
   "version": "3.7.12"
  },
  "papermill": {
   "default_parameters": {},
   "duration": 87.74441,
   "end_time": "2022-04-17T04:17:04.911993",
   "environment_variables": {},
   "exception": null,
   "input_path": "__notebook__.ipynb",
   "output_path": "__notebook__.ipynb",
   "parameters": {},
   "start_time": "2022-04-17T04:15:37.167583",
   "version": "2.3.4"
  }
 },
 "nbformat": 4,
 "nbformat_minor": 5
}
