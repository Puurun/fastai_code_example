{
  "nbformat": 4,
  "nbformat_minor": 0,
  "metadata": {
    "colab": {
      "name": "musictonote_clean.ipynb",
      "provenance": [],
      "collapsed_sections": [],
      "authorship_tag": "ABX9TyNt/6BfQQtyPBSnfgvS/70+",
      "include_colab_link": true
    },
    "kernelspec": {
      "name": "python3",
      "display_name": "Python 3"
    },
    "language_info": {
      "name": "python"
    },
    "accelerator": "GPU"
  },
  "cells": [
    {
      "cell_type": "markdown",
      "metadata": {
        "id": "view-in-github",
        "colab_type": "text"
      },
      "source": [
        "<a href=\"https://colab.research.google.com/github/Puurun/fastai_code_example/blob/main/musictonote_clean.ipynb\" target=\"_parent\"><img src=\"https://colab.research.google.com/assets/colab-badge.svg\" alt=\"Open In Colab\"/></a>"
      ]
    },
    {
      "cell_type": "code",
      "source": [
        "!nvidia-smi"
      ],
      "metadata": {
        "colab": {
          "base_uri": "https://localhost:8080/"
        },
        "id": "nBGhqXn3MJ4o",
        "outputId": "e09fe44c-27d2-42e1-9bb3-61bff223297c"
      },
      "execution_count": null,
      "outputs": [
        {
          "output_type": "stream",
          "name": "stdout",
          "text": [
            "Thu Mar 31 13:36:37 2022       \n",
            "+-----------------------------------------------------------------------------+\n",
            "| NVIDIA-SMI 460.32.03    Driver Version: 460.32.03    CUDA Version: 11.2     |\n",
            "|-------------------------------+----------------------+----------------------+\n",
            "| GPU  Name        Persistence-M| Bus-Id        Disp.A | Volatile Uncorr. ECC |\n",
            "| Fan  Temp  Perf  Pwr:Usage/Cap|         Memory-Usage | GPU-Util  Compute M. |\n",
            "|                               |                      |               MIG M. |\n",
            "|===============================+======================+======================|\n",
            "|   0  Tesla K80           Off  | 00000000:00:04.0 Off |                    0 |\n",
            "| N/A   58C    P8    30W / 149W |      0MiB / 11441MiB |      0%      Default |\n",
            "|                               |                      |                  N/A |\n",
            "+-------------------------------+----------------------+----------------------+\n",
            "                                                                               \n",
            "+-----------------------------------------------------------------------------+\n",
            "| Processes:                                                                  |\n",
            "|  GPU   GI   CI        PID   Type   Process name                  GPU Memory |\n",
            "|        ID   ID                                                   Usage      |\n",
            "|=============================================================================|\n",
            "|  No running processes found                                                 |\n",
            "+-----------------------------------------------------------------------------+\n"
          ]
        }
      ]
    },
    {
      "cell_type": "code",
      "execution_count": null,
      "metadata": {
        "id": "HQG92XnWkAyO",
        "colab": {
          "base_uri": "https://localhost:8080/"
        },
        "outputId": "366957a7-39f9-4f93-e966-8cd36b1226b3"
      },
      "outputs": [
        {
          "output_type": "stream",
          "name": "stdout",
          "text": [
            "Mounted at /content/drive\n"
          ]
        }
      ],
      "source": [
        "from google.colab import drive\n",
        "from IPython.display import clear_output \n",
        "drive.mount('/content/drive')"
      ]
    },
    {
      "cell_type": "code",
      "source": [
        "!pip install fastai -Uqq\n",
        "!pip install mido\n",
        "!pip install kaggle\n",
        "!mkdir ~/.kaggle\n",
        "!cp /content/drive/MyDrive/'Colab Notebooks'/kaggle.json ~/.kaggle\n",
        "!chmod 600 ~/.kaggle/kaggle.json\n",
        "clear_output()"
      ],
      "metadata": {
        "id": "u9ZK7WhxkIo0"
      },
      "execution_count": null,
      "outputs": []
    },
    {
      "cell_type": "code",
      "source": [
        "from mido import MidiFile\n",
        "from mido import Message\n",
        "from fastai.text.all import *"
      ],
      "metadata": {
        "id": "JA7tgny9kJfB"
      },
      "execution_count": null,
      "outputs": []
    },
    {
      "cell_type": "code",
      "source": [
        "!kaggle datasets download -d soumikrakshit/classical-music-midi\n",
        "!unzip /content/classical-music-midi.zip\n",
        "clear_output()"
      ],
      "metadata": {
        "id": "6RU0J7hjkJkw"
      },
      "execution_count": null,
      "outputs": []
    },
    {
      "cell_type": "code",
      "source": [
        "mid_files = get_files('/content/chopin', '.mid')"
      ],
      "metadata": {
        "id": "Lwzq33qokJnI"
      },
      "execution_count": null,
      "outputs": []
    },
    {
      "cell_type": "code",
      "source": [
        "mid_files"
      ],
      "metadata": {
        "id": "9HddPA8xkJpg",
        "colab": {
          "base_uri": "https://localhost:8080/"
        },
        "outputId": "4c344312-7e50-4286-9154-7e6173e941f5"
      },
      "execution_count": null,
      "outputs": [
        {
          "output_type": "execute_result",
          "data": {
            "text/plain": [
              "(#48) [Path('/content/chopin/chpn_op10_e05.mid'),Path('/content/chopin/chpn_op25_e12.mid'),Path('/content/chopin/chpn_op7_2.mid'),Path('/content/chopin/chpn_op35_2.mid'),Path('/content/chopin/chpn_op35_4.mid'),Path('/content/chopin/chpn_op27_2.mid'),Path('/content/chopin/chpn-p12.mid'),Path('/content/chopin/chpn-p18.mid'),Path('/content/chopin/chpn-p22.mid'),Path('/content/chopin/chpn-p16.mid')...]"
            ]
          },
          "metadata": {},
          "execution_count": 7
        }
      ]
    },
    {
      "cell_type": "code",
      "source": [
        "mids = L(MidiFile(mid) for mid in mid_files)"
      ],
      "metadata": {
        "id": "a3W5j2ofkJrw"
      },
      "execution_count": null,
      "outputs": []
    },
    {
      "cell_type": "code",
      "source": [
        "piano_right = L(mid.tracks[1] for mid in mids)"
      ],
      "metadata": {
        "id": "Oiy3RhT9kJuI"
      },
      "execution_count": null,
      "outputs": []
    },
    {
      "cell_type": "code",
      "source": [
        "right_nvt = L()"
      ],
      "metadata": {
        "id": "UDLb5ZJsysL4"
      },
      "execution_count": null,
      "outputs": []
    },
    {
      "cell_type": "code",
      "source": [
        "for mid in piano_right:\n",
        "    for i, msg in enumerate(mid):\n",
        "        if not(msg.is_meta) and not(msg.is_cc)():\n",
        "            right_nvt.append(msg)\n",
        "                "
      ],
      "metadata": {
        "id": "KSAFuWqezM7q"
      },
      "execution_count": null,
      "outputs": []
    },
    {
      "cell_type": "code",
      "source": [
        "right_nvt"
      ],
      "metadata": {
        "colab": {
          "base_uri": "https://localhost:8080/"
        },
        "id": "SPpdA60Xzgjx",
        "outputId": "de859104-83b0-4956-c3fc-d1f1bb86c329"
      },
      "execution_count": null,
      "outputs": [
        {
          "output_type": "execute_result",
          "data": {
            "text/plain": [
              "(#80657) [Message('program_change', channel=0, program=0, time=0),Message('note_on', channel=0, note=90, velocity=99, time=1),Message('note_on', channel=0, note=94, velocity=76, time=79),Message('note_on', channel=0, note=90, velocity=0, time=1),Message('note_on', channel=0, note=94, velocity=0, time=79),Message('note_on', channel=0, note=85, velocity=69, time=0),Message('note_on', channel=0, note=85, velocity=0, time=80),Message('note_on', channel=0, note=90, velocity=93, time=0),Message('note_on', channel=0, note=90, velocity=0, time=80),Message('note_on', channel=0, note=87, velocity=79, time=0)...]"
            ]
          },
          "metadata": {},
          "execution_count": 12
        }
      ]
    },
    {
      "cell_type": "code",
      "source": [
        "right_nvt = L(filter(lambda x: x.type == 'note_on', right_nvt))"
      ],
      "metadata": {
        "id": "uq8Qcby6z7jz"
      },
      "execution_count": null,
      "outputs": []
    },
    {
      "cell_type": "code",
      "source": [
        "right_nvt = [msg.dict() for msg in right_nvt]"
      ],
      "metadata": {
        "id": "O2gA6FBD0wFb"
      },
      "execution_count": null,
      "outputs": []
    },
    {
      "cell_type": "code",
      "source": [
        "vocab_note = L(one['note'] for one in right_nvt).unique().sorted()\n",
        "vocab_velo = L(one['velocity'] for one in right_nvt).unique().sorted()\n",
        "vocab_time = L(one['time'] for one in right_nvt).unique().sorted()"
      ],
      "metadata": {
        "id": "lM25A4hy0QXa"
      },
      "execution_count": null,
      "outputs": []
    },
    {
      "cell_type": "code",
      "source": [
        "dict_note = {}; dict_velo = {}; dict_time = {}"
      ],
      "metadata": {
        "id": "jdcM8IIR0RO5"
      },
      "execution_count": null,
      "outputs": []
    },
    {
      "cell_type": "code",
      "source": [
        "for i, note in enumerate(vocab_note):\n",
        "    dict_note[i] = note\n",
        "for i, velo in enumerate(vocab_velo):\n",
        "    dict_velo[i] = velo\n",
        "for i, time in enumerate(vocab_time):\n",
        "    dict_time[i] = time"
      ],
      "metadata": {
        "id": "ngiRGbem0ffB"
      },
      "execution_count": null,
      "outputs": []
    },
    {
      "cell_type": "code",
      "source": [
        "def voc2idx(voc, dict):\n",
        "    if dict=='note': d=dict_note\n",
        "    if dict=='velo': d=dict_velo\n",
        "    if dict=='time': d=dict_time\n",
        "    for key in d.keys():\n",
        "        if d[key] == voc:\n",
        "            return key"
      ],
      "metadata": {
        "id": "3TnOi6xA0_FS"
      },
      "execution_count": null,
      "outputs": []
    },
    {
      "cell_type": "code",
      "source": [
        "def idx2voc(idx, dict):\n",
        "    if dict=='note': d=dict_note\n",
        "    if dict=='velo': d=dict_velo\n",
        "    if dict=='time': d=dict_time\n",
        "    return d[idx]"
      ],
      "metadata": {
        "id": "EpUBOZ1y1IOC"
      },
      "execution_count": null,
      "outputs": []
    },
    {
      "cell_type": "code",
      "source": [
        "class numericalize(Transform):\n",
        "    def encodes(self, x):\n",
        "        return L([voc2idx(t['note'], 'note'),\n",
        "                  voc2idx(t['velocity'], 'velo'),\n",
        "                  voc2idx(t['time'], 'time')] for t in x)\n",
        "    def decodes(self, x):\n",
        "        return L({'note': idx2voc(t[0], 'note'),\n",
        "                  'velo': idx2voc(t[1], 'velo'),\n",
        "                  'time': idx2voc(t[2], 'time')} for t in x)"
      ],
      "metadata": {
        "id": "1MjZLwIW2VKa"
      },
      "execution_count": null,
      "outputs": []
    },
    {
      "cell_type": "code",
      "source": [
        "numer = numericalize()"
      ],
      "metadata": {
        "id": "nD3SsvUf3ebk"
      },
      "execution_count": null,
      "outputs": []
    },
    {
      "cell_type": "code",
      "source": [
        "right_voc = numer(right_nvt)"
      ],
      "metadata": {
        "id": "vX8KxL7Y1mNc"
      },
      "execution_count": null,
      "outputs": []
    },
    {
      "cell_type": "code",
      "source": [
        "numer.decode(right_voc)"
      ],
      "metadata": {
        "colab": {
          "base_uri": "https://localhost:8080/"
        },
        "id": "-s6edNkl14-Z",
        "outputId": "25d63102-a3b3-4696-e63a-d390d13afceb"
      },
      "execution_count": null,
      "outputs": [
        {
          "output_type": "execute_result",
          "data": {
            "text/plain": [
              "(#80610) [{'note': 90, 'velo': 99, 'time': 1},{'note': 94, 'velo': 76, 'time': 79},{'note': 90, 'velo': 0, 'time': 1},{'note': 94, 'velo': 0, 'time': 79},{'note': 85, 'velo': 69, 'time': 0},{'note': 85, 'velo': 0, 'time': 80},{'note': 90, 'velo': 93, 'time': 0},{'note': 90, 'velo': 0, 'time': 80},{'note': 87, 'velo': 79, 'time': 0},{'note': 87, 'velo': 0, 'time': 80}...]"
            ]
          },
          "metadata": {},
          "execution_count": 23
        }
      ]
    },
    {
      "cell_type": "code",
      "source": [
        "'''dset_x = [torch.tensor([x['note'], x['velo'], x['time']], dtype=torch.int) for x in right_voc[:-1]]\n",
        "dset_y = [torch.tensor([y['note'], y['velo'], y['time']], dtype=torch.int) for y in right_voc[1:]]\n",
        "dset = list(zip(dset_x, dset_y))'''"
      ],
      "metadata": {
        "colab": {
          "base_uri": "https://localhost:8080/",
          "height": 35
        },
        "id": "SFPptqvo19bZ",
        "outputId": "8745e850-e510-4c61-ddfa-37b963530bd6"
      },
      "execution_count": null,
      "outputs": [
        {
          "output_type": "execute_result",
          "data": {
            "text/plain": [
              "\"dset_x = [torch.tensor([x['note'], x['velo'], x['time']], dtype=torch.int) for x in right_voc[:-1]]\\ndset_y = [torch.tensor([y['note'], y['velo'], y['time']], dtype=torch.int) for y in right_voc[1:]]\\ndset = list(zip(dset_x, dset_y))\""
            ],
            "application/vnd.google.colaboratory.intrinsic+json": {
              "type": "string"
            }
          },
          "metadata": {},
          "execution_count": 24
        }
      ]
    },
    {
      "cell_type": "code",
      "source": [
        "#parameter\n",
        "bs = 64\n",
        "sl = 6\n",
        "cut_ratio = 0.7"
      ],
      "metadata": {
        "id": "k7jadyUW7g80"
      },
      "execution_count": null,
      "outputs": []
    },
    {
      "cell_type": "code",
      "source": [
        "right_voc_sl = L(right_voc[i:i+sl] for i in range(0,len(right_voc)))"
      ],
      "metadata": {
        "id": "Bg8vo6pc_Njn"
      },
      "execution_count": null,
      "outputs": []
    },
    {
      "cell_type": "code",
      "source": [
        "right_voc_sl"
      ],
      "metadata": {
        "colab": {
          "base_uri": "https://localhost:8080/"
        },
        "id": "XKQ_91nkAC43",
        "outputId": "96ad519e-f042-4881-9818-0b8e60e418b9"
      },
      "execution_count": null,
      "outputs": [
        {
          "output_type": "execute_result",
          "data": {
            "text/plain": [
              "(#80610) [[[60, 85, 1], [64, 62, 65], [60, 0, 1], [64, 0, 65], [55, 55, 0], [55, 0, 66]],[[64, 62, 65], [60, 0, 1], [64, 0, 65], [55, 55, 0], [55, 0, 66], [60, 79, 0]],[[60, 0, 1], [64, 0, 65], [55, 55, 0], [55, 0, 66], [60, 79, 0], [60, 0, 66]],[[64, 0, 65], [55, 55, 0], [55, 0, 66], [60, 79, 0], [60, 0, 66], [57, 65, 0]],[[55, 55, 0], [55, 0, 66], [60, 79, 0], [60, 0, 66], [57, 65, 0], [57, 0, 66]],[[55, 0, 66], [60, 79, 0], [60, 0, 66], [57, 65, 0], [57, 0, 66], [60, 59, 0]],[[60, 79, 0], [60, 0, 66], [57, 65, 0], [57, 0, 66], [60, 59, 0], [60, 0, 66]],[[60, 0, 66], [57, 65, 0], [57, 0, 66], [60, 59, 0], [60, 0, 66], [55, 78, 0]],[[57, 65, 0], [57, 0, 66], [60, 59, 0], [60, 0, 66], [55, 78, 0], [55, 0, 66]],[[57, 0, 66], [60, 59, 0], [60, 0, 66], [55, 78, 0], [55, 0, 66], [60, 64, 0]]...]"
            ]
          },
          "metadata": {},
          "execution_count": 27
        }
      ]
    },
    {
      "cell_type": "code",
      "source": [
        "def get_chunk(dset):\n",
        "    m = len(dset)//bs\n",
        "    nd = L()\n",
        "    for i in range(m): nd += L([dset[i+j*m] for j in range(bs)] )\n",
        "    return nd"
      ],
      "metadata": {
        "id": "wVW-erkv73sx"
      },
      "execution_count": null,
      "outputs": []
    },
    {
      "cell_type": "code",
      "source": [
        "torch.tensor(get_chunk(right_voc_sl[:-1])).shape"
      ],
      "metadata": {
        "id": "cjwaUY2n9EqZ",
        "colab": {
          "base_uri": "https://localhost:8080/"
        },
        "outputId": "fc126138-c6e5-4069-9906-0b1083fccf2c"
      },
      "execution_count": null,
      "outputs": [
        {
          "output_type": "execute_result",
          "data": {
            "text/plain": [
              "torch.Size([80576, 6, 3])"
            ]
          },
          "metadata": {},
          "execution_count": 29
        }
      ]
    },
    {
      "cell_type": "code",
      "source": [
        "dset_x = torch.tensor(get_chunk(right_voc_sl[:-1]))\n",
        "dset_y = torch.tensor(get_chunk(right_voc_sl[1:]))[:,-1,:]"
      ],
      "metadata": {
        "id": "thsia8W_PLon"
      },
      "execution_count": null,
      "outputs": []
    },
    {
      "cell_type": "code",
      "source": [
        "dset_x.shape"
      ],
      "metadata": {
        "colab": {
          "base_uri": "https://localhost:8080/"
        },
        "id": "0Yq4tdqKeD3Q",
        "outputId": "4ae84ac3-e9d8-4d1b-8f64-0b3885d6c853"
      },
      "execution_count": null,
      "outputs": [
        {
          "output_type": "execute_result",
          "data": {
            "text/plain": [
              "torch.Size([80576, 6, 3])"
            ]
          },
          "metadata": {},
          "execution_count": 31
        }
      ]
    },
    {
      "cell_type": "code",
      "source": [
        "dset = L(zip(dset_x, dset_y))"
      ],
      "metadata": {
        "id": "jWEj-uAtUeBG"
      },
      "execution_count": null,
      "outputs": []
    },
    {
      "cell_type": "code",
      "source": [
        "cut = int(len(dset)*cut_ratio)"
      ],
      "metadata": {
        "id": "chWegwIPWnGu"
      },
      "execution_count": null,
      "outputs": []
    },
    {
      "cell_type": "code",
      "source": [
        "dls = DataLoaders.from_dsets(dset[:cut],dset[cut:], shuffle=False, drop_last=True, bs=bs)"
      ],
      "metadata": {
        "id": "wr0JEYhPQIGE"
      },
      "execution_count": null,
      "outputs": []
    },
    {
      "cell_type": "code",
      "source": [
        "first(dls.train)[0].shape"
      ],
      "metadata": {
        "colab": {
          "base_uri": "https://localhost:8080/"
        },
        "id": "UOhB2UsaSGOJ",
        "outputId": "e91d0cb5-d64b-4fe9-9f55-78bca2b14f8a"
      },
      "execution_count": null,
      "outputs": [
        {
          "output_type": "execute_result",
          "data": {
            "text/plain": [
              "torch.Size([64, 6, 3])"
            ]
          },
          "metadata": {},
          "execution_count": 35
        }
      ]
    },
    {
      "cell_type": "code",
      "source": [
        "class MusicModel(Module):\n",
        "    def __init__(self, input_size, embedding_size, layers):\n",
        "        self.vs_note, self.vs_velo, self.vs_time = input_size\n",
        "        self.embedding_size = embedding_size\n",
        "        self.embed_note = Embedding(self.vs_note, embedding_size)\n",
        "        self.embed_velo = Embedding(self.vs_velo, embedding_size)\n",
        "        self.embed_time = Embedding(self.vs_time, embedding_size)\n",
        "        self.lstm1 = nn.LSTM(embedding_size*3, embedding_size*3, layers, batch_first=True, dropout=0.5)\n",
        "        self.drop = nn.Dropout(p=0.5)\n",
        "        self.lstm2 = nn.LSTM(embedding_size*3, embedding_size*3, layers, batch_first=True, dropout=0.5)\n",
        "        self.linear_note = nn.Linear(embedding_size, self.vs_note)\n",
        "        self.linear_velo = nn.Linear(embedding_size, self.vs_velo)\n",
        "        self.linear_time = nn.Linear(embedding_size, self.vs_time)\n",
        "        self.h = [torch.zeros(layers, bs, embedding_size*3) for _ in range(2)]\n",
        "    def forward(self, x):\n",
        "        note, velo, time = x[:,:,0], x[:,:,1], x[:,:,2]\n",
        "        embed_total = torch.cat([self.embed_note(note), self.embed_velo(velo), self.embed_time(time)], 2)\n",
        "        embed_total = nn.Dropout(p=0.2)(embed_total)\n",
        "        res, h = self.lstm1(embed_total, self.h)\n",
        "        res = self.drop(res)\n",
        "        res, h = self.lstm2(res, h)\n",
        "        res = self.drop(res)\n",
        "        self.h = [h_.detach() for h_ in h]\n",
        "        final = (self.linear_note(res[:,:,:self.embedding_size].mean(1)), \n",
        "                 self.linear_velo(res[:,:,self.embedding_size:self.embedding_size*2].mean(1)),\n",
        "                 self.linear_time(res[:,:,self.embedding_size*2:].mean(1)))\n",
        "        return final"
      ],
      "metadata": {
        "id": "GEfX7zwDStUD"
      },
      "execution_count": null,
      "outputs": []
    },
    {
      "cell_type": "code",
      "source": [
        "def cross_entropy(input, target):\n",
        "    target = target.long()\n",
        "    note_entropy = F.cross_entropy(input[0].view(64,-1), target[:,0].view(64))\n",
        "    velo_entropy = F.cross_entropy(input[1].view(64,-1), target[:,1].view(64))\n",
        "    time_entropy = F.cross_entropy(input[2].view(64,-1), target[:,2].view(64))\n",
        "    return note_entropy + velo_entropy + time_entropy"
      ],
      "metadata": {
        "id": "_H8jv95kXcqE"
      },
      "execution_count": null,
      "outputs": []
    },
    {
      "cell_type": "code",
      "source": [
        "input_size = len(vocab_note), len(vocab_velo), len(vocab_time)"
      ],
      "metadata": {
        "id": "LGuw3n8nXfaS"
      },
      "execution_count": null,
      "outputs": []
    },
    {
      "cell_type": "code",
      "source": [
        "learn = Learner(dls, MusicModel(input_size, 100, 5), loss_func=cross_entropy)"
      ],
      "metadata": {
        "id": "VxitvoWUXgl9"
      },
      "execution_count": null,
      "outputs": []
    },
    {
      "cell_type": "code",
      "source": [
        "#learn.fit_one_cycle(3)"
      ],
      "metadata": {
        "id": "xh2Ia0nrXhzF"
      },
      "execution_count": null,
      "outputs": []
    },
    {
      "cell_type": "code",
      "source": [
        "#learn.save('/content/drive/MyDrive/Colab Notebooks/Music_Generation/model1')"
      ],
      "metadata": {
        "id": "uGyHAVR6Xji1"
      },
      "execution_count": null,
      "outputs": []
    },
    {
      "cell_type": "code",
      "source": [
        "learn.load('/content/drive/MyDrive/Colab Notebooks/Music_Generation/model1')"
      ],
      "metadata": {
        "colab": {
          "base_uri": "https://localhost:8080/"
        },
        "id": "tf5j3pwjOZ5C",
        "outputId": "f995ceeb-5ff3-4cab-b3cd-6176f5178292"
      },
      "execution_count": null,
      "outputs": [
        {
          "output_type": "execute_result",
          "data": {
            "text/plain": [
              "<fastai.learner.Learner at 0x7fa163538bd0>"
            ]
          },
          "metadata": {},
          "execution_count": 42
        }
      ]
    },
    {
      "cell_type": "code",
      "source": [
        "class MusicModel2(Module):\n",
        "     def __init__(self, input_size, embedding_size, layers):\n",
        "        self.vs_note, self.vs_velo, self.vs_time = input_size\n",
        "        self.embedding_size = embedding_size\n",
        "        self.embed_note = Embedding(self.vs_note, embedding_size)\n",
        "        self.embed_velo = Embedding(self.vs_velo, embedding_size)\n",
        "        self.embed_time = Embedding(self.vs_time, embedding_size)\n",
        "        self.lstm1 = nn.LSTM(embedding_size*3, embedding_size*3, layers, batch_first=True, dropout=0.5)\n",
        "        self.drop = nn.Dropout(p=0.5)\n",
        "        self.lstm2 = nn.LSTM(embedding_size*3, embedding_size*3, layers, batch_first=True, dropout=0.5)\n",
        "        self.linear_note = nn.Linear(embedding_size, self.vs_note)\n",
        "        self.linear_velo = nn.Linear(embedding_size, self.vs_velo)\n",
        "        self.linear_time = nn.Linear(embedding_size, self.vs_time)\n",
        "        self.h = [torch.zeros(layers, bs, embedding_size*3) for _ in range(2)]\n",
        "    def forward(self, x):\n",
        "        note, velo, time = x[:,:,0], x[:,:,1], x[:,:,2]\n",
        "        embed_total = torch.cat([self.embed_note(note), self.embed_velo(velo), self.embed_time(time)], 2)\n",
        "        embed_total = nn.Dropout(p=0.2)(embed_total)\n",
        "        res, h = self.lstm1(embed_total, self.h)\n",
        "        res = self.drop(res)\n",
        "        res, h = self.lstm2(res, h)\n",
        "        res = self.drop(res)\n",
        "        self.h = [h_.detach() for h_ in h]\n",
        "        final = (self.linear_note(res[:,:,:self.embedding_size].mean(1)), \n",
        "                 self.linear_velo(res[:,:,self.embedding_size:self.embedding_size*2].mean(1)),\n",
        "                 self.linear_time(res[:,:,self.embedding_size*2:].mean(1)))\n",
        "        return final"
      ],
      "metadata": {
        "id": "pBsc4bcLTw2P"
      },
      "execution_count": null,
      "outputs": []
    },
    {
      "cell_type": "code",
      "source": [
        "def predict(learner, notes, n_words=10):\n",
        "    idxs = idxs_all = learner.dls.test_dl(notes).to()\n",
        "    for _ in progress_bar(range(n_words), leave=False):\n",
        "        preds = learner.get_preds(dl=[(idxs[None],)])"
      ],
      "metadata": {
        "id": "mSd8Nc-hQNSN"
      },
      "execution_count": null,
      "outputs": []
    },
    {
      "cell_type": "code",
      "source": [
        "''''\n",
        "def predict(self, text, n_words=1, no_unk=True, temperature=1., min_p=None, no_bar=False,\n",
        "                decoder=decode_spec_tokens, only_last_word=False):\n",
        "        \"Return `text` and the `n_words` that come after\"\n",
        "        self.model.reset()\n",
        "        idxs = idxs_all = self.dls.test_dl([text]).items[0].to(self.dls.device)\n",
        "        if no_unk: unk_idx = self.dls.vocab.index(UNK)\n",
        "        for _ in (range(n_words) if no_bar else progress_bar(range(n_words), leave=False)):\n",
        "            with self.no_bar(): preds,_ = self.get_preds(dl=[(idxs[None],)])\n",
        "            res = preds[0][-1]\n",
        "            if no_unk: res[unk_idx] = 0.\n",
        "            if min_p is not None:\n",
        "                if (res >= min_p).float().sum() == 0:\n",
        "                    warn(f\"There is no item with probability >= {min_p}, try a lower value.\")\n",
        "                else: res[res < min_p] = 0.\n",
        "            if temperature != 1.: res.pow_(1 / temperature)\n",
        "            idx = torch.multinomial(res, 1).item()\n",
        "            idxs = idxs_all = torch.cat([idxs_all, idxs.new([idx])])\n",
        "            if only_last_word: idxs = idxs[-1][None]\n",
        "\n",
        "        num = self.dls.train_ds.numericalize\n",
        "        tokens = [num.vocab[i] for i in idxs_all if num.vocab[i] not in [BOS, PAD]]\n",
        "        sep = self.dls.train_ds.tokenizer.sep\n",
        "        return sep.join(decoder(tokens))\n",
        "\n",
        "    @delegates(Learner.get_preds)\n",
        "    def get_preds(self, concat_dim=1, **kwargs): return super().get_preds(concat_dim=1, **kwargs)\n",
        "    ''''"
      ],
      "metadata": {
        "id": "Wak4USN6NKiH"
      },
      "execution_count": null,
      "outputs": []
    },
    {
      "cell_type": "code",
      "source": [
        ""
      ],
      "metadata": {
        "id": "Pu1fn-Y3MaKV"
      },
      "execution_count": null,
      "outputs": []
    }
  ]
}